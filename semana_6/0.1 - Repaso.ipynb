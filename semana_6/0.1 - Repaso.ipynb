{
 "cells": [
  {
   "cell_type": "markdown",
   "id": "e6aee268",
   "metadata": {},
   "source": [
    "### Filosofía de la programación funcional\n",
    "\n",
    "- Abstracción: una función podría funcionar como una caja negra, donde nosotros no comprendemos su funcionamiento interno, pero somos capaces de usarla y trabajar con su resultado.\n",
    "\n",
    "- Modularización: las funciones tienen un objetivo específico, realizan una acción, para luego poder construir un proceso completo con varias funciones, varios pasos dentro del mismo. \n",
    "\n",
    "- Reusabilidad: las funciones pueden ser utilizadas cuantas veces sea necesario, son módulos independientes.\n",
    "\n",
    "\n",
    "En la programación funcional se hace la distinción entre datos y comportamiento, esto quiere decir que los programas tienen dos partes separadas, las acciones y los datos, funciones que se ejecutan con o sobre los datos. Esto hace que los datos sean inmutables en la programación funcional, a no ser que sean sobreescrito a propósito."
   ]
  },
  {
   "cell_type": "markdown",
   "id": "0bf7fa96",
   "metadata": {},
   "source": [
    "### Programacion orientada a objetos\n",
    "\n",
    "La programación orientada a objetos tiene otra filosofía diferente que la programación funcional. En realidad python es orientado a objetos, cada vez que se declara una variable como una lista o una string, se esta llamando a esa clase. Para verlo tan solo hace falta escribir ` help`"
   ]
  },
  {
   "cell_type": "code",
   "execution_count": 1,
   "id": "6d9a6dd2",
   "metadata": {},
   "outputs": [],
   "source": [
    "#help(str)"
   ]
  },
  {
   "cell_type": "markdown",
   "id": "6aa236ac",
   "metadata": {},
   "source": [
    "Se devuelve una descripción de ambas clases.\n",
    "\n",
    "El mayor cambio en el paradigma es que ahora los datos no son inmutables, como eran en la programación funcional, datos y funciones están encapsulados en un objeto (la clase). Cada llamada a la clase (instancia) es un objeto nuevo.\n",
    "\n",
    "![objetos](images/objetos.png)"
   ]
  },
  {
   "cell_type": "markdown",
   "id": "6809e2d6",
   "metadata": {},
   "source": [
    "### Nomenclatura\n",
    "- Objeto (Object)\n",
    "    - también instancia (instance)\n",
    "    - es una entidad individual\n",
    "- Atributos (Attributes)\n",
    "    - características dadas al objeto\n",
    "    - usualmente se refiere a los datos\n",
    "- Métodos (Methods)\n",
    "    - son las funciones que pertenecen a cada objeto\n",
    "- Clase (Class)\n",
    "    - también conocido como tipo (type)\n",
    "    - es el molde, el esquema, la forma genérica para crear objetos (instancias) con la mismas características\n",
    "    \n",
    "**En python, a los atributos se accede con la sintaxis objeto.atributo y a los métodos con objeto.metodo().**"
   ]
  },
  {
   "cell_type": "code",
   "execution_count": 2,
   "id": "7c646321",
   "metadata": {},
   "outputs": [],
   "source": [
    "# primero funcional\n",
    "\n",
    "# datos\n",
    "\n",
    "mando={\n",
    "    'color':'negro',\n",
    "    'dimensiones':[15, 5, 3],\n",
    "    'inalambrico':True,\n",
    "    'recargable':True,\n",
    "    'botones':['POWER', 'UP', 'DOWN'],\n",
    "    'baterias':[\n",
    "        {'tipo':'AAA', 'carga':40},\n",
    "        {'tipo':'AAA', 'carga':60}\n",
    "    ]\n",
    "}"
   ]
  },
  {
   "cell_type": "code",
   "execution_count": 3,
   "id": "b8133fa2",
   "metadata": {},
   "outputs": [],
   "source": [
    "def recarga(m):\n",
    "    if m['recargable']:\n",
    "        for b in m['baterias']:\n",
    "            b['carga']=100   # funcion que sobreescribe los datos\n",
    "    return m"
   ]
  },
  {
   "cell_type": "code",
   "execution_count": 4,
   "id": "c576570f",
   "metadata": {},
   "outputs": [],
   "source": [
    "def funciona(m):\n",
    "    if len(m['baterias'])!=2:\n",
    "        return False\n",
    "    for b in m['baterias']:\n",
    "        if b['carga']==0:\n",
    "            return False\n",
    "    else:\n",
    "        return True"
   ]
  },
  {
   "cell_type": "code",
   "execution_count": 5,
   "id": "9a4039b1",
   "metadata": {},
   "outputs": [],
   "source": [
    "def encendido(m):\n",
    "    if funciona(m)==True:\n",
    "        for btn in m['botones']:\n",
    "            if btn=='POWER':\n",
    "                return True\n",
    "    return False"
   ]
  },
  {
   "cell_type": "code",
   "execution_count": 6,
   "id": "6008422d",
   "metadata": {},
   "outputs": [
    {
     "data": {
      "text/plain": [
       "{'color': 'negro',\n",
       " 'dimensiones': [15, 5, 3],\n",
       " 'inalambrico': True,\n",
       " 'recargable': True,\n",
       " 'botones': ['POWER', 'UP', 'DOWN'],\n",
       " 'baterias': [{'tipo': 'AAA', 'carga': 40}, {'tipo': 'AAA', 'carga': 60}]}"
      ]
     },
     "execution_count": 6,
     "metadata": {},
     "output_type": "execute_result"
    }
   ],
   "source": [
    "mando"
   ]
  },
  {
   "cell_type": "code",
   "execution_count": 7,
   "id": "af94bb1d",
   "metadata": {},
   "outputs": [
    {
     "data": {
      "text/plain": [
       "{'color': 'negro',\n",
       " 'dimensiones': [15, 5, 3],\n",
       " 'inalambrico': True,\n",
       " 'recargable': True,\n",
       " 'botones': ['POWER', 'UP', 'DOWN'],\n",
       " 'baterias': [{'tipo': 'AAA', 'carga': 100}, {'tipo': 'AAA', 'carga': 100}]}"
      ]
     },
     "execution_count": 7,
     "metadata": {},
     "output_type": "execute_result"
    }
   ],
   "source": [
    "recarga(mando)\n",
    "\n",
    "mando"
   ]
  },
  {
   "cell_type": "code",
   "execution_count": 8,
   "id": "47d0f92d",
   "metadata": {},
   "outputs": [
    {
     "data": {
      "text/plain": [
       "True"
      ]
     },
     "execution_count": 8,
     "metadata": {},
     "output_type": "execute_result"
    }
   ],
   "source": [
    "funciona(mando)"
   ]
  },
  {
   "cell_type": "code",
   "execution_count": 9,
   "id": "abc508e3",
   "metadata": {},
   "outputs": [],
   "source": [
    "class Mando:\n",
    "    \n",
    "    def __init__(self, color, con_pilas=True):  # metodo constructor\n",
    "        \n",
    "        # atributos\n",
    "        self.color=color\n",
    "        self.dimensiones=[15, 2, 5]\n",
    "        self.inalambrico=True\n",
    "        self.recargable=True\n",
    "        self.botones=['POWER', 'UP', 'DOWN']\n",
    "        \n",
    "        if con_pilas:\n",
    "            self.baterias=[\n",
    "                {'tipo':'AAA', 'carga':40},\n",
    "                {'tipo':'AAA', 'carga':60}\n",
    "            ]\n",
    "        \n",
    "        else:\n",
    "            self.baterias=[]\n",
    "        \n",
    "        \n",
    "    def recarga(self):\n",
    "        \n",
    "        if self.recargable:\n",
    "            \n",
    "            for b in self.baterias:\n",
    "                b['carga']=100\n",
    "                \n",
    "    \n",
    "    def pon_pila(self, carga=0):\n",
    "        self.baterias.append({'tipo':'AAA', 'carga':carga})\n",
    "        \n",
    "        \n",
    "    def funciona(self):\n",
    "        if len(self.baterias)!=2:\n",
    "            return False\n",
    "        \n",
    "        for b in self.baterias:\n",
    "            if b['carga']==0:\n",
    "                return False\n",
    "            \n",
    "        return True"
   ]
  },
  {
   "cell_type": "code",
   "execution_count": 10,
   "id": "0006252f",
   "metadata": {},
   "outputs": [
    {
     "data": {
      "text/plain": [
       "<__main__.Mando at 0x7fdbd05923a0>"
      ]
     },
     "execution_count": 10,
     "metadata": {},
     "output_type": "execute_result"
    }
   ],
   "source": [
    "m1=Mando('blanco')\n",
    "\n",
    "m1"
   ]
  },
  {
   "cell_type": "code",
   "execution_count": 11,
   "id": "6811994d",
   "metadata": {},
   "outputs": [
    {
     "data": {
      "text/plain": [
       "__main__.Mando"
      ]
     },
     "execution_count": 11,
     "metadata": {},
     "output_type": "execute_result"
    }
   ],
   "source": [
    "type(m1)"
   ]
  },
  {
   "cell_type": "code",
   "execution_count": 12,
   "id": "1a236c27",
   "metadata": {},
   "outputs": [
    {
     "data": {
      "text/plain": [
       "False"
      ]
     },
     "execution_count": 12,
     "metadata": {},
     "output_type": "execute_result"
    }
   ],
   "source": [
    "m1.recargable=False\n",
    "\n",
    "m1.recargable # atributo"
   ]
  },
  {
   "cell_type": "code",
   "execution_count": 13,
   "id": "671c31f4",
   "metadata": {},
   "outputs": [],
   "source": [
    "m2=Mando('negro', False)"
   ]
  },
  {
   "cell_type": "code",
   "execution_count": 14,
   "id": "cd436eff",
   "metadata": {},
   "outputs": [
    {
     "data": {
      "text/plain": [
       "False"
      ]
     },
     "execution_count": 14,
     "metadata": {},
     "output_type": "execute_result"
    }
   ],
   "source": [
    "m2.funciona()  # metodo"
   ]
  },
  {
   "cell_type": "code",
   "execution_count": 15,
   "id": "b4fdf738",
   "metadata": {},
   "outputs": [
    {
     "data": {
      "text/plain": [
       "[]"
      ]
     },
     "execution_count": 15,
     "metadata": {},
     "output_type": "execute_result"
    }
   ],
   "source": [
    "m2.baterias"
   ]
  },
  {
   "cell_type": "code",
   "execution_count": 16,
   "id": "b7d719da",
   "metadata": {},
   "outputs": [],
   "source": [
    "m2.recarga()"
   ]
  },
  {
   "cell_type": "code",
   "execution_count": 17,
   "id": "2ac6f21d",
   "metadata": {},
   "outputs": [
    {
     "data": {
      "text/plain": [
       "[]"
      ]
     },
     "execution_count": 17,
     "metadata": {},
     "output_type": "execute_result"
    }
   ],
   "source": [
    "m2.baterias"
   ]
  },
  {
   "cell_type": "code",
   "execution_count": 18,
   "id": "b4b63dea",
   "metadata": {},
   "outputs": [],
   "source": [
    "m2.pon_pila(100)"
   ]
  },
  {
   "cell_type": "code",
   "execution_count": 19,
   "id": "0c304067",
   "metadata": {},
   "outputs": [
    {
     "data": {
      "text/plain": [
       "[{'tipo': 'AAA', 'carga': 100}]"
      ]
     },
     "execution_count": 19,
     "metadata": {},
     "output_type": "execute_result"
    }
   ],
   "source": [
    "m2.baterias"
   ]
  },
  {
   "cell_type": "code",
   "execution_count": 20,
   "id": "1ed4d0f2",
   "metadata": {},
   "outputs": [
    {
     "name": "stdout",
     "output_type": "stream",
     "text": [
      "Help on Mando in module __main__ object:\n",
      "\n",
      "class Mando(builtins.object)\n",
      " |  Mando(color, con_pilas=True)\n",
      " |  \n",
      " |  Methods defined here:\n",
      " |  \n",
      " |  __init__(self, color, con_pilas=True)\n",
      " |      Initialize self.  See help(type(self)) for accurate signature.\n",
      " |  \n",
      " |  funciona(self)\n",
      " |  \n",
      " |  pon_pila(self, carga=0)\n",
      " |  \n",
      " |  recarga(self)\n",
      " |  \n",
      " |  ----------------------------------------------------------------------\n",
      " |  Data descriptors defined here:\n",
      " |  \n",
      " |  __dict__\n",
      " |      dictionary for instance variables (if defined)\n",
      " |  \n",
      " |  __weakref__\n",
      " |      list of weak references to the object (if defined)\n",
      "\n"
     ]
    }
   ],
   "source": [
    "help(m2)"
   ]
  },
  {
   "cell_type": "markdown",
   "id": "afaa1c2b",
   "metadata": {},
   "source": [
    "### Herencia (Inheritance)\n",
    "\n",
    "Imaginemos que dos clases diferentes comparten algunas características."
   ]
  },
  {
   "cell_type": "code",
   "execution_count": 21,
   "id": "18964da4",
   "metadata": {},
   "outputs": [],
   "source": [
    "class Animal:   # clase padre\n",
    "    \n",
    "    def __init__(self, nombre='', sonido=''):\n",
    "        \n",
    "        self.nombre=nombre\n",
    "        self.sonido=sonido\n",
    "        \n",
    "    def decir_nombre(self):\n",
    "        print ('Mi nombre es: '+ self.nombre)\n",
    "        \n",
    "    def __str__(self):\n",
    "        return 'Hola soy ' + self.nombre + '!'"
   ]
  },
  {
   "cell_type": "code",
   "execution_count": 22,
   "id": "2d74f7f9",
   "metadata": {},
   "outputs": [],
   "source": [
    "class Perro(Animal): # clase hija, herencia \n",
    "    \n",
    "    def __init__(self, nombre='Inu', raza='akita'):\n",
    "        \n",
    "        Animal.__init__(self, nombre+'🐶')\n",
    "        self.raza=raza"
   ]
  },
  {
   "cell_type": "code",
   "execution_count": 23,
   "id": "5b893b02",
   "metadata": {},
   "outputs": [],
   "source": [
    "a1=Animal('Garfield 🐱')\n",
    "\n",
    "a2=Perro('Pluto')"
   ]
  },
  {
   "cell_type": "code",
   "execution_count": 24,
   "id": "04f0fa3d",
   "metadata": {},
   "outputs": [
    {
     "name": "stdout",
     "output_type": "stream",
     "text": [
      "Mi nombre es: Garfield 🐱\n"
     ]
    }
   ],
   "source": [
    "a1.decir_nombre()"
   ]
  },
  {
   "cell_type": "code",
   "execution_count": 25,
   "id": "b1b0aee6",
   "metadata": {},
   "outputs": [
    {
     "name": "stdout",
     "output_type": "stream",
     "text": [
      "Mi nombre es: Pluto🐶\n"
     ]
    }
   ],
   "source": [
    "a2.decir_nombre()"
   ]
  },
  {
   "cell_type": "code",
   "execution_count": 26,
   "id": "d2c577d4",
   "metadata": {},
   "outputs": [
    {
     "data": {
      "text/plain": [
       "'akita'"
      ]
     },
     "execution_count": 26,
     "metadata": {},
     "output_type": "execute_result"
    }
   ],
   "source": [
    "a2.raza"
   ]
  },
  {
   "cell_type": "code",
   "execution_count": 27,
   "id": "37a549d2",
   "metadata": {},
   "outputs": [
    {
     "name": "stdout",
     "output_type": "stream",
     "text": [
      "Hola soy Pluto🐶!\n"
     ]
    }
   ],
   "source": [
    "print(a2)"
   ]
  },
  {
   "cell_type": "code",
   "execution_count": 28,
   "id": "fa79de5f",
   "metadata": {},
   "outputs": [
    {
     "data": {
      "text/plain": [
       "'Garfield 🐱'"
      ]
     },
     "execution_count": 28,
     "metadata": {},
     "output_type": "execute_result"
    }
   ],
   "source": [
    "a1.nombre"
   ]
  },
  {
   "cell_type": "code",
   "execution_count": 29,
   "id": "c9b6648c",
   "metadata": {},
   "outputs": [
    {
     "data": {
      "text/plain": [
       "''"
      ]
     },
     "execution_count": 29,
     "metadata": {},
     "output_type": "execute_result"
    }
   ],
   "source": [
    "a2.sonido"
   ]
  },
  {
   "cell_type": "markdown",
   "id": "05a8234b",
   "metadata": {},
   "source": [
    "## Métodos dunder\n",
    "#### métodos  __especiales__  \n",
    "\n",
    "- Se les llama `dunders` por la doble barra que tienen(double underscores) \n",
    "- También se les llama método mágicos (magic methods)\n",
    "- Conecta funciones con comportamientos y operadores externos\n",
    "\n",
    "Una pequeña lista:\n",
    "\n",
    "- `__repr__` : Representación oficial de una string (cuando se imprime el objeto)\n",
    "- `__str__` : Conversion a string y print\n",
    "- `__len__` : Cuando se pasa `len` a un iterable\n",
    "\n",
    "\n",
    "#### Operadores de comparación\n",
    "- `__eq__` : ==\n",
    "- `__ne__` : !=\n",
    "- `__lt__` : <\n",
    "- `__le__` : <=\n",
    "- `__gt__` : >\n",
    "- `__ge__` : >=\n",
    "\n",
    "\n",
    "#### Operadores\n",
    "- `__add__` : +\n",
    "- `__mul__` : *\n",
    "- `__truediv__` : /\n",
    "- `__sub__` : - \n",
    "\n",
    "**Más [información](https://docs.python.org/3/library/operator.html).**"
   ]
  },
  {
   "cell_type": "markdown",
   "id": "c6edc66e",
   "metadata": {},
   "source": [
    "### Decoradores\n",
    "\n",
    "Los decoradores pueden definirse como patrones de diseño funcional. Permiten a una función tomar otra función como argumento para devolver una tercera función. De esta manera se obtienen funciones dinámicas sin tener que cambiar constantemente su código.\n",
    "\n",
    "Un decorador es como un envoltorio con el cual envolvemos una función."
   ]
  },
  {
   "cell_type": "code",
   "execution_count": 30,
   "id": "bcce4679",
   "metadata": {},
   "outputs": [],
   "source": [
    "def debug(fn):\n",
    "    \n",
    "    def wrap(*args, **kwargs):\n",
    "        print('--Args :', args)\n",
    "        print('--Kwargs :', kwargs)\n",
    "        print('--Return :', fn(*args, **kwargs))\n",
    "        return fn(*args, **kwargs)\n",
    "    \n",
    "    return wrap"
   ]
  },
  {
   "cell_type": "code",
   "execution_count": 31,
   "id": "29a4d9d2",
   "metadata": {},
   "outputs": [
    {
     "name": "stdout",
     "output_type": "stream",
     "text": [
      "--Args : (8, 9)\n",
      "--Kwargs : {}\n",
      "--Return : 17\n"
     ]
    },
    {
     "data": {
      "text/plain": [
       "17"
      ]
     },
     "execution_count": 31,
     "metadata": {},
     "output_type": "execute_result"
    }
   ],
   "source": [
    "@debug\n",
    "def suma(a, b):\n",
    "    return a+b\n",
    "\n",
    "\n",
    "suma(8, 9)"
   ]
  },
  {
   "cell_type": "markdown",
   "id": "ab625b62",
   "metadata": {},
   "source": [
    "**Compilador con [numba](https://numba.pydata.org/)**"
   ]
  },
  {
   "cell_type": "code",
   "execution_count": 32,
   "id": "d3e3dfa3",
   "metadata": {},
   "outputs": [
    {
     "name": "stdout",
     "output_type": "stream",
     "text": [
      "Requirement already satisfied: numba in /Users/iudh/opt/anaconda3/envs/clase/lib/python3.8/site-packages (0.54.1)\r\n",
      "Requirement already satisfied: numpy<1.21,>=1.17 in /Users/iudh/opt/anaconda3/envs/clase/lib/python3.8/site-packages (from numba) (1.19.5)\r\n",
      "Requirement already satisfied: setuptools in /Users/iudh/opt/anaconda3/envs/clase/lib/python3.8/site-packages (from numba) (52.0.0.post20210125)\r\n",
      "Requirement already satisfied: llvmlite<0.38,>=0.37.0rc1 in /Users/iudh/opt/anaconda3/envs/clase/lib/python3.8/site-packages (from numba) (0.37.0)\r\n"
     ]
    }
   ],
   "source": [
    "!pip install numba"
   ]
  },
  {
   "cell_type": "code",
   "execution_count": 33,
   "id": "52eea812",
   "metadata": {},
   "outputs": [],
   "source": [
    "from numba import jit"
   ]
  },
  {
   "cell_type": "code",
   "execution_count": 34,
   "id": "70fecf43",
   "metadata": {},
   "outputs": [],
   "source": [
    "def fn(a, b, c, d):\n",
    "    return a*b/c+d**b"
   ]
  },
  {
   "cell_type": "code",
   "execution_count": 35,
   "id": "6bdaae49",
   "metadata": {},
   "outputs": [
    {
     "name": "stdout",
     "output_type": "stream",
     "text": [
      "CPU times: user 10 µs, sys: 16 µs, total: 26 µs\n",
      "Wall time: 6.91 µs\n"
     ]
    },
    {
     "data": {
      "text/plain": [
       "1.2571866658759928e+58"
      ]
     },
     "execution_count": 35,
     "metadata": {},
     "output_type": "execute_result"
    }
   ],
   "source": [
    "%%time\n",
    "\n",
    "fn(2, 10, 53253, 645565)"
   ]
  },
  {
   "cell_type": "code",
   "execution_count": 36,
   "id": "fcf9c3f5",
   "metadata": {},
   "outputs": [],
   "source": [
    "@jit\n",
    "def fn(a, b, c, d):\n",
    "    return a*b/c+d**b"
   ]
  },
  {
   "cell_type": "code",
   "execution_count": 37,
   "id": "511108d5",
   "metadata": {},
   "outputs": [
    {
     "name": "stdout",
     "output_type": "stream",
     "text": [
      "CPU times: user 283 ms, sys: 751 ms, total: 1.03 s\n",
      "Wall time: 230 ms\n"
     ]
    },
    {
     "data": {
      "text/plain": [
       "5.385111172820624e+18"
      ]
     },
     "execution_count": 37,
     "metadata": {},
     "output_type": "execute_result"
    }
   ],
   "source": [
    "%%time\n",
    "\n",
    "fn(2, 10, 53253, 645565)"
   ]
  },
  {
   "cell_type": "markdown",
   "id": "74b7bf54",
   "metadata": {},
   "source": [
    "# APIS"
   ]
  },
  {
   "cell_type": "code",
   "execution_count": 38,
   "id": "aa6ae8dd",
   "metadata": {},
   "outputs": [],
   "source": [
    "import requests as req"
   ]
  },
  {
   "cell_type": "code",
   "execution_count": 39,
   "id": "8aabbfd2",
   "metadata": {},
   "outputs": [
    {
     "data": {
      "text/plain": [
       "'https://financialmodelingprep.com/api/v4/company-notes?symbol=AAPL?apikey=286073c6860f9578eb9336bfe2aa5213'"
      ]
     },
     "execution_count": 39,
     "metadata": {},
     "output_type": "execute_result"
    }
   ],
   "source": [
    "'https://financialmodelingprep.com/api/v4/company-notes?symbol=AAPL?apikey=286073c6860f9578eb9336bfe2aa5213'"
   ]
  },
  {
   "cell_type": "code",
   "execution_count": 40,
   "id": "374bfd95",
   "metadata": {},
   "outputs": [
    {
     "data": {
      "text/plain": [
       "<Response [200]>"
      ]
     },
     "execution_count": 40,
     "metadata": {},
     "output_type": "execute_result"
    }
   ],
   "source": [
    "req.get('https://financialmodelingprep.com/api/v4/company-notes?symbol=AAPL?apikey=286073c6860f9578eb9336bfe2aa5213')"
   ]
  },
  {
   "cell_type": "code",
   "execution_count": 41,
   "id": "6e3a03e7",
   "metadata": {},
   "outputs": [
    {
     "data": {
      "text/plain": [
       "{'Error Message': 'Invalid API KEY. Please retry or visit our documentation to create one FREE https://financialmodelingprep.com/developer/docs'}"
      ]
     },
     "execution_count": 41,
     "metadata": {},
     "output_type": "execute_result"
    }
   ],
   "source": [
    "req.get('https://financialmodelingprep.com/api/v4/company-notes?symbol=AAPL').json()"
   ]
  },
  {
   "cell_type": "code",
   "execution_count": 42,
   "id": "19351cc6",
   "metadata": {},
   "outputs": [
    {
     "data": {
      "text/plain": [
       "{'Error Message': 'Invalid API KEY. Please retry or visit our documentation to create one FREE https://financialmodelingprep.com/developer/docs'}"
      ]
     },
     "execution_count": 42,
     "metadata": {},
     "output_type": "execute_result"
    }
   ],
   "source": [
    "req.get('https://financialmodelingprep.com/api/v4/company-notes?symbol=AAPL?apikey=286073c6860f9578eb9336bfe2aa5213').json()"
   ]
  },
  {
   "cell_type": "code",
   "execution_count": 43,
   "id": "f7988dde",
   "metadata": {},
   "outputs": [
    {
     "data": {
      "text/plain": [
       "{'Error Message': 'Invalid API KEY. Please retry or visit our documentation to create one FREE https://financialmodelingprep.com/developer/docs'}"
      ]
     },
     "execution_count": 43,
     "metadata": {},
     "output_type": "execute_result"
    }
   ],
   "source": [
    "req.get('https://financialmodelingprep.com/api/v4/company-notes?symbol=AAPL', headers={'apikey':'286073c6860f9578eb9336bfe2aa5213'}).json()"
   ]
  },
  {
   "cell_type": "markdown",
   "id": "df60f385",
   "metadata": {},
   "source": [
    "# Scrap"
   ]
  },
  {
   "cell_type": "code",
   "execution_count": 44,
   "id": "17093283",
   "metadata": {},
   "outputs": [],
   "source": [
    "URL='https://www.transfermarkt.es/laliga/stadien/wettbewerb/ES1'"
   ]
  },
  {
   "cell_type": "code",
   "execution_count": 45,
   "id": "f06a3953",
   "metadata": {},
   "outputs": [],
   "source": [
    "from selenium import webdriver    # driver de selenium\n",
    "from selenium.webdriver.chrome.options import Options\n",
    "from selenium.webdriver.common.by import By\n"
   ]
  },
  {
   "cell_type": "code",
   "execution_count": 46,
   "id": "064130b7",
   "metadata": {},
   "outputs": [],
   "source": [
    "\n",
    "opciones=Options()\n",
    "\n",
    "opciones.add_experimental_option('excludeSwitches', ['enable-automation'])\n",
    "opciones.add_experimental_option('useAutomationExtension', False)\n",
    "\n",
    "opciones.headless=False    # si True, no aperece la ventana (headless=no visible)\n",
    "\n",
    "opciones.add_argument('--start-maximized')         # comienza maximizado\n"
   ]
  },
  {
   "cell_type": "code",
   "execution_count": 47,
   "id": "b233fe0b",
   "metadata": {},
   "outputs": [
    {
     "name": "stderr",
     "output_type": "stream",
     "text": [
      "[WDM] - \n",
      "\n",
      "[WDM] - ====== WebDriver manager ======\n",
      "[WDM] - Current google-chrome version is 98.0.4758\n",
      "[WDM] - Get LATEST driver version for 98.0.4758\n",
      "[WDM] - Driver [/Users/iudh/.wdm/drivers/chromedriver/mac64/98.0.4758.80/chromedriver] found in cache\n"
     ]
    }
   ],
   "source": [
    "from webdriver_manager.chrome import ChromeDriverManager\n",
    "\n",
    "PATH=ChromeDriverManager().install()"
   ]
  },
  {
   "cell_type": "code",
   "execution_count": 48,
   "id": "01a2a339",
   "metadata": {},
   "outputs": [],
   "source": [
    "driver=webdriver.Chrome(PATH, options=opciones)\n",
    "driver.get(URL)"
   ]
  },
  {
   "cell_type": "code",
   "execution_count": 49,
   "id": "dd0feeb5",
   "metadata": {},
   "outputs": [],
   "source": [
    "driver.switch_to.frame(driver.find_element_by_css_selector(\"#sp_message_iframe_575430\"))"
   ]
  },
  {
   "cell_type": "code",
   "execution_count": 50,
   "id": "2701bd8b",
   "metadata": {},
   "outputs": [],
   "source": [
    "driver.find_element_by_xpath('//*[@id=\"notice\"]/div[3]/div[2]/button').click()"
   ]
  },
  {
   "cell_type": "code",
   "execution_count": 51,
   "id": "a79c5228",
   "metadata": {},
   "outputs": [
    {
     "data": {
      "text/plain": [
       "'Necesitamos su aprobación\\nTransfermarkt.es y nuestros socios tecnológicos le solicitan su consentimiento para el uso de cookies para almacenar y acceder a datos personales en su dispositivo. Esto puede incluir el uso de identificadores únicos e información sobre sus patrones de navegación para crear la mejor experiencia de usuario posible en este sitio web. La siguiente descripción detalla cómo sus datos pueden ser utilizados por nosotros o por nuestros socios.\\nAlmacenar o acceder a información en un dispositivo\\nAnuncios básicos, creación de perfil publicitario personalizado y medición de anuncios\\nContenido personalizado, medición del contenido, información sobre el público y desarrollo de productos\\nSeleccionar anuncios personalizados\\nUtilizar datos de localización geográfica precisa\\nAnalizar activamente las características del dispositivo para su identificación\\nAlgunos de nuestros socios procesan datos personales sobre la base de intereses legítimos. Puede oponerse a dicho procesamiento en cualquier momento. Haga clic en \"Opciones\" a continuación para ver nuestra lista de socios y los fines para los que se requiere el consentimiento.\\n No tiene que dar su consentimiento para ver la información en este sitio, pero si no lo hace, no estará disponible alguna personalización de contenido y publicidad. Sus elecciones en este sitio web se aplicarán solo a esta página. Puede cambiar su configuración en cualquier momento utilizando el enlace en la parte inferior de la página para volver a abrir las preferencias de privacidad y administrar la configuración.\\nOpciones\\nAceptar'"
      ]
     },
     "execution_count": 51,
     "metadata": {},
     "output_type": "execute_result"
    }
   ],
   "source": [
    "driver.find_element_by_tag_name('div').text"
   ]
  },
  {
   "cell_type": "code",
   "execution_count": 52,
   "id": "968f726d",
   "metadata": {},
   "outputs": [],
   "source": [
    "driver.switch_to.default_content()"
   ]
  },
  {
   "cell_type": "code",
   "execution_count": 53,
   "id": "a32f5a80",
   "metadata": {},
   "outputs": [
    {
     "data": {
      "text/plain": [
       "'Camp Nou\\nBarcelona'"
      ]
     },
     "execution_count": 53,
     "metadata": {},
     "output_type": "execute_result"
    }
   ],
   "source": [
    "driver.find_elements_by_tag_name('tbody')[3].text"
   ]
  },
  {
   "cell_type": "code",
   "execution_count": 54,
   "id": "c77ddb5e",
   "metadata": {},
   "outputs": [],
   "source": [
    "shadow_host = driver.find_element(By.CSS_SELECTOR, '#breadcrumb > div > div > tm-quick-select-bar')\n",
    "\n",
    "# raiz del shadow"
   ]
  },
  {
   "cell_type": "code",
   "execution_count": 55,
   "id": "1e94a68b",
   "metadata": {},
   "outputs": [],
   "source": [
    "import time\n",
    "\n",
    "time.sleep(0.5)\n",
    "\n",
    "shadow=driver.execute_script('return arguments[0].shadowRoot.querySelector(\"div\")', shadow_host) \n",
    "\n",
    "# llamada al div dentro del shadow "
   ]
  },
  {
   "cell_type": "code",
   "execution_count": 56,
   "id": "11303c56",
   "metadata": {},
   "outputs": [
    {
     "data": {
      "text/plain": [
       "[<selenium.webdriver.remote.webelement.WebElement (session=\"1939f1dd2a4a1254c40b0f4893fdfd97\", element=\"48d24277-b2e6-4564-b616-62ca306366b0\")>,\n",
       " <selenium.webdriver.remote.webelement.WebElement (session=\"1939f1dd2a4a1254c40b0f4893fdfd97\", element=\"b7cffa76-c4f7-4f5d-8062-bf23295da065\")>,\n",
       " <selenium.webdriver.remote.webelement.WebElement (session=\"1939f1dd2a4a1254c40b0f4893fdfd97\", element=\"fd9154b2-091d-4c4d-9017-f612c568e1db\")>,\n",
       " <selenium.webdriver.remote.webelement.WebElement (session=\"1939f1dd2a4a1254c40b0f4893fdfd97\", element=\"a07e713f-d0b9-471c-8ced-31448f888117\")>]"
      ]
     },
     "execution_count": 56,
     "metadata": {},
     "output_type": "execute_result"
    }
   ],
   "source": [
    "shadow.find_elements_by_tag_name('form') # cajas (España, LaLiga, Club, Jugadores)"
   ]
  },
  {
   "cell_type": "code",
   "execution_count": 57,
   "id": "4aff13c2",
   "metadata": {},
   "outputs": [],
   "source": [
    "liga_selector=shadow.find_elements_by_tag_name('form')[1] # caja de liga"
   ]
  },
  {
   "cell_type": "code",
   "execution_count": 58,
   "id": "40528ff9",
   "metadata": {},
   "outputs": [],
   "source": [
    "liga_selector.find_element_by_tag_name('div').click()  # abre dropdown"
   ]
  },
  {
   "cell_type": "code",
   "execution_count": 59,
   "id": "fd647a1a",
   "metadata": {},
   "outputs": [],
   "source": [
    "ligas=shadow.find_elements_by_tag_name('li')  # ligas dentro del dropdown"
   ]
  },
  {
   "cell_type": "code",
   "execution_count": 60,
   "id": "049a5771",
   "metadata": {},
   "outputs": [],
   "source": [
    "ligas[3].click() #click seleccion "
   ]
  },
  {
   "cell_type": "code",
   "execution_count": 61,
   "id": "01518d05",
   "metadata": {},
   "outputs": [],
   "source": [
    "liga_selector.find_element_by_tag_name('a').click() # click flecha pa lante"
   ]
  },
  {
   "cell_type": "code",
   "execution_count": 62,
   "id": "706eff3c",
   "metadata": {},
   "outputs": [
    {
     "data": {
      "text/plain": [
       "'Municipal de La Línea de la Concepción\\nLa Línea de la Concepción'"
      ]
     },
     "execution_count": 62,
     "metadata": {},
     "output_type": "execute_result"
    }
   ],
   "source": [
    "driver.find_elements_by_tag_name('tbody')[3].text # nueva pagina"
   ]
  },
  {
   "cell_type": "code",
   "execution_count": null,
   "id": "8027bd73",
   "metadata": {},
   "outputs": [],
   "source": []
  }
 ],
 "metadata": {
  "kernelspec": {
   "display_name": "clase",
   "language": "python",
   "name": "clase"
  },
  "language_info": {
   "codemirror_mode": {
    "name": "ipython",
    "version": 3
   },
   "file_extension": ".py",
   "mimetype": "text/x-python",
   "name": "python",
   "nbconvert_exporter": "python",
   "pygments_lexer": "ipython3",
   "version": "3.8.8"
  }
 },
 "nbformat": 4,
 "nbformat_minor": 5
}
