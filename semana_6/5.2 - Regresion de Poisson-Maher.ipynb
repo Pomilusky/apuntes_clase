{
 "cells": [
  {
   "cell_type": "markdown",
   "id": "466d51c9",
   "metadata": {},
   "source": [
    "# 5.2 - Recordatorio distribución de Poisson"
   ]
  },
  {
   "cell_type": "markdown",
   "id": "45198b28",
   "metadata": {},
   "source": [
    "$$X \\sim Poisson(\\lambda)$$\n",
    "\n",
    "$$P(X=k)=\\frac{\\lambda ^{k}e^{-\\lambda }}{k!}$$\n",
    "\n",
    "para $k = 0, 1, 2,..$\n",
    "\n",
    "La distribución de Poisson es una distribución de probabilidad discreta que expresa, a partir de una frecuencia de ocurrencia media, la probabilidad de que ocurra un determinado número de eventos durante cierto período de tiempo. Concretamente, se especializa en la probabilidad de ocurrencia de sucesos con probabilidades muy pequeñas, o sucesos raros. "
   ]
  },
  {
   "cell_type": "code",
   "execution_count": 1,
   "id": "71f47a80",
   "metadata": {},
   "outputs": [],
   "source": [
    "from scipy.stats import poisson        # distribucion de poisson\n",
    "\n",
    "import pylab as plt\n",
    "import seaborn as sns"
   ]
  },
  {
   "cell_type": "code",
   "execution_count": 2,
   "id": "10d1e7d6",
   "metadata": {},
   "outputs": [
    {
     "data": {
      "image/png": "[encoded data removed]",
      "text/plain": [
       "<Figure size 432x288 with 1 Axes>"
      ]
     },
     "metadata": {
      "needs_background": "light"
     },
     "output_type": "display_data"
    }
   ],
   "source": [
    "x=[i for i in range(20)]  # nº de sucesos, eje x\n",
    "\n",
    "lamb=2.4  # media de ocurrencia\n",
    "\n",
    "y=[poisson.pmf(x, lamb) for x in x]   # evaluacion de la pmf para cada nº de sucesos, eje y\n",
    "\n",
    "plt.plot(x, y);"
   ]
  },
  {
   "cell_type": "markdown",
   "id": "48661a3c",
   "metadata": {},
   "source": [
    "# Modelo de Dixon-Coles (Maher)\n",
    "\n",
    "La idea detrás del modelo de [Dixon-Coles](http://web.math.ku.dk/~rolf/teaching/thesis/DixonColes.pdf) es que el gol es un evento raro en un partido de fútbol y se podría usar la distribución de Poisson para predecir el resultado de un partido.\n",
    "\n",
    "\n",
    "Para el nº de goles X del equipo local i-esimo y el nº de goles Y del equipo visitante j-esimo se tendria:"
   ]
  },
  {
   "cell_type": "markdown",
   "id": "93731113",
   "metadata": {},
   "source": [
    "$$X \\sim Poisson(\\lambda)$$\n",
    "\n",
    "$$P(X=k)=\\frac{\\lambda^{k}e^{-\\lambda}}{k!}$$"
   ]
  },
  {
   "cell_type": "markdown",
   "id": "b0e588da",
   "metadata": {},
   "source": [
    "$$Y \\sim Poisson(\\mu)$$\n",
    "\n",
    "$$P(Y=k)=\\frac{\\mu^{k}e^{-\\mu}}{k!}$$"
   ]
  },
  {
   "cell_type": "markdown",
   "id": "150be319",
   "metadata": {},
   "source": [
    "donde:\n",
    "\n",
    "$\\lambda = \\gamma\\alpha_{i}\\beta_{j} = \\exp^{(\\gamma+\\alpha_{i}+\\beta_{j})}$\n",
    "\n",
    "$\\mu = \\alpha_{j}\\beta_{i}  = \\exp^{(\\alpha_{j}+\\beta_{i})}$"
   ]
  },
  {
   "cell_type": "markdown",
   "id": "8434a6cf",
   "metadata": {},
   "source": [
    "El modelo introduce varios parámetros para relacionar los equipos y los partidos, un parámetro llamado `gamma` es el parámetro de jugar en casa, los parámetros llamados `alfa` son los parámetros de ataque de cada equipo y los parámetros `beta` son los de defensa de cada equipo."
   ]
  },
  {
   "cell_type": "markdown",
   "id": "47f44cc2",
   "metadata": {},
   "source": [
    "Asi pues, la funcion que define el partido, la funcion principal del modelo, nuestro `predict` es:\n",
    "\n",
    "$$P(X=x, Y=y)=\\frac{\\lambda^{x}e^{-\\lambda}}{x!} · \\frac{\\mu^{y}e^{-\\mu}}{y!}$$"
   ]
  },
  {
   "cell_type": "markdown",
   "id": "e2253963",
   "metadata": {},
   "source": [
    "La funcion de coste o perdida, nuestro `fit`, en este caso se calcula con la [estamacion maximo verosimil](https://es.wikipedia.org/wiki/M%C3%A1xima_verosimilitud). Sería el productorio en todo el espacio de probabilidad de la funcion principal, llamada funcion de verosimilitud.\n",
    "\n",
    "$$L(X=x, Y=y)=\\prod_{i=1}^{n}\\frac{\\lambda^{x}e^{-\\lambda}}{x!} · \\frac{\\mu^{y}e^{-\\mu}}{y!}$$"
   ]
  },
  {
   "cell_type": "markdown",
   "id": "321a82a3",
   "metadata": {},
   "source": [
    "Debido a la regla de la cadena, minimizar esta funcion es muy costoso, por lo que se realiza un truco matematico que consiste en aplicar el logaritmo. Esto es debido a la regla de los logaritmos: $log(a·b)=log(a)+log(b)$. Por tanto, la nueva funcion a ser optimizada (maximizada) es llamada log-verosimilitud.\n",
    "\n",
    "$$l(X=x, Y=y)=\\sum_{i=1}^{n}\\log(\\frac{\\lambda^{x}e^{-\\lambda}}{x!}) + \\log(\\frac{\\mu^{y}e^{-\\mu}}{y!})$$"
   ]
  },
  {
   "cell_type": "markdown",
   "id": "7a1f1237",
   "metadata": {},
   "source": [
    "La idea es: dados los resultados de los partidos de futbol, estimar el parametro de jugar en casa `gamma`, los parametros de ataque para cada equipo `alfa` y los parametros de defensa para cada equipo `beta`."
   ]
  },
  {
   "cell_type": "markdown",
   "id": "97a7c5aa",
   "metadata": {},
   "source": [
    "### Datos\n",
    "\n",
    "Veamos primero la extracción de datos desde [aqui](https://www.football-data.co.uk/)."
   ]
  },
  {
   "cell_type": "code",
   "execution_count": 3,
   "id": "8ffed00c",
   "metadata": {},
   "outputs": [],
   "source": [
    "import warnings\n",
    "warnings.simplefilter('ignore')\n",
    "\n",
    "import pandas as pd\n",
    "pd.set_option('display.max_columns', None)"
   ]
  },
  {
   "cell_type": "code",
   "execution_count": 4,
   "id": "66fe7b84",
   "metadata": {},
   "outputs": [
    {
     "data": {
      "text/html": [
       "<div>\n",
       "<style scoped>\n",
       "    .dataframe tbody tr th:only-of-type {\n",
       "        vertical-align: middle;\n",
       "    }\n",
       "\n",
       "    .dataframe tbody tr th {\n",
       "        vertical-align: top;\n",
       "    }\n",
       "\n",
       "    .dataframe thead th {\n",
       "        text-align: right;\n",
       "    }\n",
       "</style>\n",
       "<table border=\"1\" class=\"dataframe\">\n",
       "  <thead>\n",
       "    <tr style=\"text-align: right;\">\n",
       "      <th></th>\n",
       "      <th>Div</th>\n",
       "      <th>Date</th>\n",
       "      <th>HomeTeam</th>\n",
       "      <th>AwayTeam</th>\n",
       "      <th>FTHG</th>\n",
       "      <th>FTAG</th>\n",
       "      <th>FTR</th>\n",
       "      <th>HTHG</th>\n",
       "      <th>HTAG</th>\n",
       "      <th>HTR</th>\n",
       "      <th>GBH</th>\n",
       "      <th>GBD</th>\n",
       "      <th>GBA</th>\n",
       "      <th>IWH</th>\n",
       "      <th>IWD</th>\n",
       "      <th>IWA</th>\n",
       "      <th>LBH</th>\n",
       "      <th>LBD</th>\n",
       "      <th>LBA</th>\n",
       "      <th>SBH</th>\n",
       "      <th>SBD</th>\n",
       "      <th>SBA</th>\n",
       "      <th>WHH</th>\n",
       "      <th>WHD</th>\n",
       "      <th>WHA</th>\n",
       "    </tr>\n",
       "  </thead>\n",
       "  <tbody>\n",
       "    <tr>\n",
       "      <th>0</th>\n",
       "      <td>SP1</td>\n",
       "      <td>09/09/00</td>\n",
       "      <td>Barcelona</td>\n",
       "      <td>Malaga</td>\n",
       "      <td>2</td>\n",
       "      <td>1</td>\n",
       "      <td>H</td>\n",
       "      <td>2</td>\n",
       "      <td>0</td>\n",
       "      <td>H</td>\n",
       "      <td>1.28</td>\n",
       "      <td>3.90</td>\n",
       "      <td>7.90</td>\n",
       "      <td>1.25</td>\n",
       "      <td>4.3</td>\n",
       "      <td>8.0</td>\n",
       "      <td>1.35</td>\n",
       "      <td>3.75</td>\n",
       "      <td>8.0</td>\n",
       "      <td>1.30</td>\n",
       "      <td>4.33</td>\n",
       "      <td>8.50</td>\n",
       "      <td>1.28</td>\n",
       "      <td>4.50</td>\n",
       "      <td>8.00</td>\n",
       "    </tr>\n",
       "    <tr>\n",
       "      <th>1</th>\n",
       "      <td>SP1</td>\n",
       "      <td>09/09/00</td>\n",
       "      <td>La Coruna</td>\n",
       "      <td>Ath Bilbao</td>\n",
       "      <td>2</td>\n",
       "      <td>0</td>\n",
       "      <td>H</td>\n",
       "      <td>0</td>\n",
       "      <td>0</td>\n",
       "      <td>D</td>\n",
       "      <td>1.51</td>\n",
       "      <td>3.20</td>\n",
       "      <td>6.20</td>\n",
       "      <td>1.55</td>\n",
       "      <td>3.3</td>\n",
       "      <td>4.5</td>\n",
       "      <td>1.55</td>\n",
       "      <td>3.25</td>\n",
       "      <td>5.5</td>\n",
       "      <td>1.53</td>\n",
       "      <td>3.50</td>\n",
       "      <td>5.50</td>\n",
       "      <td>1.57</td>\n",
       "      <td>3.50</td>\n",
       "      <td>5.00</td>\n",
       "    </tr>\n",
       "    <tr>\n",
       "      <th>2</th>\n",
       "      <td>SP1</td>\n",
       "      <td>09/09/00</td>\n",
       "      <td>Real Madrid</td>\n",
       "      <td>Valencia</td>\n",
       "      <td>2</td>\n",
       "      <td>1</td>\n",
       "      <td>H</td>\n",
       "      <td>0</td>\n",
       "      <td>0</td>\n",
       "      <td>D</td>\n",
       "      <td>1.65</td>\n",
       "      <td>3.20</td>\n",
       "      <td>4.10</td>\n",
       "      <td>1.60</td>\n",
       "      <td>3.2</td>\n",
       "      <td>4.2</td>\n",
       "      <td>1.55</td>\n",
       "      <td>3.50</td>\n",
       "      <td>5.0</td>\n",
       "      <td>1.67</td>\n",
       "      <td>3.30</td>\n",
       "      <td>4.75</td>\n",
       "      <td>1.66</td>\n",
       "      <td>3.30</td>\n",
       "      <td>4.50</td>\n",
       "    </tr>\n",
       "    <tr>\n",
       "      <th>3</th>\n",
       "      <td>SP1</td>\n",
       "      <td>09/09/00</td>\n",
       "      <td>Sociedad</td>\n",
       "      <td>Santander</td>\n",
       "      <td>2</td>\n",
       "      <td>2</td>\n",
       "      <td>D</td>\n",
       "      <td>0</td>\n",
       "      <td>0</td>\n",
       "      <td>D</td>\n",
       "      <td>1.85</td>\n",
       "      <td>3.15</td>\n",
       "      <td>3.45</td>\n",
       "      <td>1.80</td>\n",
       "      <td>3.0</td>\n",
       "      <td>3.5</td>\n",
       "      <td>1.70</td>\n",
       "      <td>3.40</td>\n",
       "      <td>4.0</td>\n",
       "      <td>1.85</td>\n",
       "      <td>3.25</td>\n",
       "      <td>3.80</td>\n",
       "      <td>1.80</td>\n",
       "      <td>3.25</td>\n",
       "      <td>3.75</td>\n",
       "    </tr>\n",
       "    <tr>\n",
       "      <th>4</th>\n",
       "      <td>SP1</td>\n",
       "      <td>09/09/00</td>\n",
       "      <td>Zaragoza</td>\n",
       "      <td>Espanol</td>\n",
       "      <td>1</td>\n",
       "      <td>2</td>\n",
       "      <td>A</td>\n",
       "      <td>0</td>\n",
       "      <td>0</td>\n",
       "      <td>D</td>\n",
       "      <td>1.70</td>\n",
       "      <td>3.10</td>\n",
       "      <td>4.30</td>\n",
       "      <td>1.70</td>\n",
       "      <td>3.1</td>\n",
       "      <td>3.8</td>\n",
       "      <td>1.70</td>\n",
       "      <td>3.20</td>\n",
       "      <td>4.3</td>\n",
       "      <td>1.73</td>\n",
       "      <td>3.25</td>\n",
       "      <td>4.33</td>\n",
       "      <td>1.72</td>\n",
       "      <td>3.20</td>\n",
       "      <td>4.33</td>\n",
       "    </tr>\n",
       "  </tbody>\n",
       "</table>\n",
       "</div>"
      ],
      "text/plain": [
       "   Div      Date     HomeTeam    AwayTeam  FTHG  FTAG FTR  HTHG  HTAG HTR  \\\n",
       "0  SP1  09/09/00    Barcelona      Malaga     2     1   H     2     0   H   \n",
       "1  SP1  09/09/00    La Coruna  Ath Bilbao     2     0   H     0     0   D   \n",
       "2  SP1  09/09/00  Real Madrid    Valencia     2     1   H     0     0   D   \n",
       "3  SP1  09/09/00     Sociedad   Santander     2     2   D     0     0   D   \n",
       "4  SP1  09/09/00     Zaragoza     Espanol     1     2   A     0     0   D   \n",
       "\n",
       "    GBH   GBD   GBA   IWH  IWD  IWA   LBH   LBD  LBA   SBH   SBD   SBA   WHH  \\\n",
       "0  1.28  3.90  7.90  1.25  4.3  8.0  1.35  3.75  8.0  1.30  4.33  8.50  1.28   \n",
       "1  1.51  3.20  6.20  1.55  3.3  4.5  1.55  3.25  5.5  1.53  3.50  5.50  1.57   \n",
       "2  1.65  3.20  4.10  1.60  3.2  4.2  1.55  3.50  5.0  1.67  3.30  4.75  1.66   \n",
       "3  1.85  3.15  3.45  1.80  3.0  3.5  1.70  3.40  4.0  1.85  3.25  3.80  1.80   \n",
       "4  1.70  3.10  4.30  1.70  3.1  3.8  1.70  3.20  4.3  1.73  3.25  4.33  1.72   \n",
       "\n",
       "    WHD   WHA  \n",
       "0  4.50  8.00  \n",
       "1  3.50  5.00  \n",
       "2  3.30  4.50  \n",
       "3  3.25  3.75  \n",
       "4  3.20  4.33  "
      ]
     },
     "execution_count": 4,
     "metadata": {},
     "output_type": "execute_result"
    }
   ],
   "source": [
    "df=pd.read_csv('https://www.football-data.co.uk/mmz4281/0001/SP1.csv')\n",
    "\n",
    "df.head()"
   ]
  },
  {
   "cell_type": "code",
   "execution_count": 5,
   "id": "a8b2f011",
   "metadata": {},
   "outputs": [
    {
     "data": {
      "text/plain": [
       "(380, 5)"
      ]
     },
     "execution_count": 5,
     "metadata": {},
     "output_type": "execute_result"
    }
   ],
   "source": [
    "df=df[['Date', 'HomeTeam', 'AwayTeam', 'FTHG', 'FTAG']]\n",
    "\n",
    "df.shape"
   ]
  },
  {
   "cell_type": "code",
   "execution_count": 6,
   "id": "8aafc6c2",
   "metadata": {},
   "outputs": [
    {
     "name": "stdout",
     "output_type": "stream",
     "text": [
      "0102\n",
      "0203\n",
      "0304\n",
      "0405\n",
      "0506\n",
      "0607\n",
      "0708\n",
      "0809\n",
      "0910\n",
      "1011\n",
      "1112\n",
      "1213\n",
      "1314\n",
      "1415\n",
      "1516\n",
      "1617\n",
      "1718\n",
      "1819\n",
      "1920\n",
      "2021\n",
      "2122\n"
     ]
    },
    {
     "data": {
      "text/plain": [
       "(8115, 5)"
      ]
     },
     "execution_count": 6,
     "metadata": {},
     "output_type": "execute_result"
    }
   ],
   "source": [
    "for i in range(1, 22):\n",
    "    \n",
    "    year=''\n",
    "    if i<9:\n",
    "        year=f'0{i}0{i+1}'\n",
    "    elif i==9:\n",
    "        year=f'0{i}{i+1}'\n",
    "    else:\n",
    "        year=f'{i}{i+1}'\n",
    "    \n",
    "    print(year)\n",
    "    new_df=pd.read_csv(f'https://www.football-data.co.uk/mmz4281/{year}/SP1.csv',\n",
    "                      error_bad_lines=False,\n",
    "                      warn_bad_lines=False)[['Date', 'HomeTeam', 'AwayTeam', 'FTHG', 'FTAG']]\n",
    "    \n",
    "    df=pd.concat([df, new_df])\n",
    "    \n",
    "df.shape"
   ]
  },
  {
   "cell_type": "code",
   "execution_count": 8,
   "id": "a2c971a1",
   "metadata": {},
   "outputs": [
    {
     "data": {
      "text/html": [
       "<div>\n",
       "<style scoped>\n",
       "    .dataframe tbody tr th:only-of-type {\n",
       "        vertical-align: middle;\n",
       "    }\n",
       "\n",
       "    .dataframe tbody tr th {\n",
       "        vertical-align: top;\n",
       "    }\n",
       "\n",
       "    .dataframe thead th {\n",
       "        text-align: right;\n",
       "    }\n",
       "</style>\n",
       "<table border=\"1\" class=\"dataframe\">\n",
       "  <thead>\n",
       "    <tr style=\"text-align: right;\">\n",
       "      <th></th>\n",
       "      <th>Date</th>\n",
       "      <th>HomeTeam</th>\n",
       "      <th>AwayTeam</th>\n",
       "      <th>FTHG</th>\n",
       "      <th>FTAG</th>\n",
       "    </tr>\n",
       "  </thead>\n",
       "  <tbody>\n",
       "    <tr>\n",
       "      <th>0</th>\n",
       "      <td>09/09/00</td>\n",
       "      <td>barcelona</td>\n",
       "      <td>malaga</td>\n",
       "      <td>2</td>\n",
       "      <td>1</td>\n",
       "    </tr>\n",
       "    <tr>\n",
       "      <th>1</th>\n",
       "      <td>09/09/00</td>\n",
       "      <td>la_coruna</td>\n",
       "      <td>ath_bilbao</td>\n",
       "      <td>2</td>\n",
       "      <td>0</td>\n",
       "    </tr>\n",
       "    <tr>\n",
       "      <th>2</th>\n",
       "      <td>09/09/00</td>\n",
       "      <td>real_madrid</td>\n",
       "      <td>valencia</td>\n",
       "      <td>2</td>\n",
       "      <td>1</td>\n",
       "    </tr>\n",
       "    <tr>\n",
       "      <th>3</th>\n",
       "      <td>09/09/00</td>\n",
       "      <td>sociedad</td>\n",
       "      <td>santander</td>\n",
       "      <td>2</td>\n",
       "      <td>2</td>\n",
       "    </tr>\n",
       "    <tr>\n",
       "      <th>4</th>\n",
       "      <td>09/09/00</td>\n",
       "      <td>zaragoza</td>\n",
       "      <td>espanol</td>\n",
       "      <td>1</td>\n",
       "      <td>2</td>\n",
       "    </tr>\n",
       "  </tbody>\n",
       "</table>\n",
       "</div>"
      ],
      "text/plain": [
       "       Date     HomeTeam    AwayTeam  FTHG  FTAG\n",
       "0  09/09/00    barcelona      malaga     2     1\n",
       "1  09/09/00    la_coruna  ath_bilbao     2     0\n",
       "2  09/09/00  real_madrid    valencia     2     1\n",
       "3  09/09/00     sociedad   santander     2     2\n",
       "4  09/09/00     zaragoza     espanol     1     2"
      ]
     },
     "execution_count": 8,
     "metadata": {},
     "output_type": "execute_result"
    }
   ],
   "source": [
    "df.HomeTeam=df.HomeTeam.apply(lambda x: x.lower().replace(' ', '_'))\n",
    "\n",
    "df.AwayTeam=df.AwayTeam.apply(lambda x: x.lower().replace(' ', '_'))\n",
    "\n",
    "df.head()"
   ]
  },
  {
   "cell_type": "code",
   "execution_count": 9,
   "id": "458ca3be",
   "metadata": {},
   "outputs": [
    {
     "data": {
      "text/html": [
       "<div>\n",
       "<style scoped>\n",
       "    .dataframe tbody tr th:only-of-type {\n",
       "        vertical-align: middle;\n",
       "    }\n",
       "\n",
       "    .dataframe tbody tr th {\n",
       "        vertical-align: top;\n",
       "    }\n",
       "\n",
       "    .dataframe thead th {\n",
       "        text-align: right;\n",
       "    }\n",
       "</style>\n",
       "<table border=\"1\" class=\"dataframe\">\n",
       "  <thead>\n",
       "    <tr style=\"text-align: right;\">\n",
       "      <th></th>\n",
       "      <th>Date</th>\n",
       "      <th>HomeTeam</th>\n",
       "      <th>AwayTeam</th>\n",
       "      <th>FTHG</th>\n",
       "      <th>FTAG</th>\n",
       "    </tr>\n",
       "  </thead>\n",
       "  <tbody>\n",
       "    <tr>\n",
       "      <th>242</th>\n",
       "      <td>19/02/2022</td>\n",
       "      <td>real_madrid</td>\n",
       "      <td>alaves</td>\n",
       "      <td>3</td>\n",
       "      <td>0</td>\n",
       "    </tr>\n",
       "    <tr>\n",
       "      <th>243</th>\n",
       "      <td>20/02/2022</td>\n",
       "      <td>espanol</td>\n",
       "      <td>sevilla</td>\n",
       "      <td>1</td>\n",
       "      <td>1</td>\n",
       "    </tr>\n",
       "    <tr>\n",
       "      <th>244</th>\n",
       "      <td>20/02/2022</td>\n",
       "      <td>valencia</td>\n",
       "      <td>barcelona</td>\n",
       "      <td>1</td>\n",
       "      <td>4</td>\n",
       "    </tr>\n",
       "    <tr>\n",
       "      <th>245</th>\n",
       "      <td>20/02/2022</td>\n",
       "      <td>betis</td>\n",
       "      <td>mallorca</td>\n",
       "      <td>2</td>\n",
       "      <td>1</td>\n",
       "    </tr>\n",
       "    <tr>\n",
       "      <th>246</th>\n",
       "      <td>20/02/2022</td>\n",
       "      <td>ath_bilbao</td>\n",
       "      <td>sociedad</td>\n",
       "      <td>4</td>\n",
       "      <td>0</td>\n",
       "    </tr>\n",
       "  </tbody>\n",
       "</table>\n",
       "</div>"
      ],
      "text/plain": [
       "           Date     HomeTeam   AwayTeam  FTHG  FTAG\n",
       "242  19/02/2022  real_madrid     alaves     3     0\n",
       "243  20/02/2022      espanol    sevilla     1     1\n",
       "244  20/02/2022     valencia  barcelona     1     4\n",
       "245  20/02/2022        betis   mallorca     2     1\n",
       "246  20/02/2022   ath_bilbao   sociedad     4     0"
      ]
     },
     "execution_count": 9,
     "metadata": {},
     "output_type": "execute_result"
    }
   ],
   "source": [
    "df.tail()"
   ]
  },
  {
   "cell_type": "code",
   "execution_count": 10,
   "id": "0c16ea7b",
   "metadata": {},
   "outputs": [
    {
     "name": "stdout",
     "output_type": "stream",
     "text": [
      "<class 'pandas.core.frame.DataFrame'>\n",
      "Int64Index: 8115 entries, 0 to 246\n",
      "Data columns (total 5 columns):\n",
      " #   Column    Non-Null Count  Dtype \n",
      "---  ------    --------------  ----- \n",
      " 0   Date      8115 non-null   object\n",
      " 1   HomeTeam  8115 non-null   object\n",
      " 2   AwayTeam  8115 non-null   object\n",
      " 3   FTHG      8115 non-null   int64 \n",
      " 4   FTAG      8115 non-null   int64 \n",
      "dtypes: int64(2), object(3)\n",
      "memory usage: 380.4+ KB\n"
     ]
    }
   ],
   "source": [
    "df.info()"
   ]
  },
  {
   "cell_type": "markdown",
   "id": "c947b209",
   "metadata": {},
   "source": [
    "## Modelo de Poisson\n",
    "\n",
    "**fit**"
   ]
  },
  {
   "cell_type": "code",
   "execution_count": 11,
   "id": "43172485",
   "metadata": {},
   "outputs": [],
   "source": [
    "import numpy as np\n",
    "\n",
    "from scipy.optimize import minimize # minimizar funciones"
   ]
  },
  {
   "cell_type": "code",
   "execution_count": 13,
   "id": "55a5eb8c",
   "metadata": {},
   "outputs": [],
   "source": [
    "# funcion de perdida, log-verosimilitud, funcion a MAXIMIZAR cuidao\n",
    "\n",
    "def loglike(x, y, alfai, betai, alfaj, betaj, gamma):\n",
    "    '''\n",
    "    x, goles de local\n",
    "    y, goles de visitante\n",
    "    alfai, ataque local\n",
    "    betai, defensa local\n",
    "    alfaj, ataque visitante\n",
    "    betaj, defensa visitante\n",
    "    gamma jugar en casa\n",
    "    '''\n",
    "    \n",
    "    # medias, es aqui donde podriamos añadir valores exogenos(clima, distancia recorrida, altura...)\n",
    "    lamb=np.exp(gamma+alfai+betaj)\n",
    "    mu=np.exp(alfaj+betai)\n",
    "    \n",
    "    l=(np.log(poisson.pmf(x, lamb))+np.log(poisson.pmf(y, mu)))\n",
    "    \n",
    "    return l\n",
    "    "
   ]
  },
  {
   "cell_type": "code",
   "execution_count": 26,
   "id": "110d11fc",
   "metadata": {},
   "outputs": [],
   "source": [
    "# funcion parea obtener esos parametros gamma, alfa, beta\n",
    "\n",
    "def fit(data):\n",
    "\n",
    "    #data=df.iloc[-30:]\n",
    "\n",
    "    equipos=np.sort(data.HomeTeam.unique())\n",
    "\n",
    "    n_equipos=len(equipos)\n",
    "\n",
    "\n",
    "    # valores iniciales de los parametros\n",
    "    val_inicial=np.concatenate((np.random.uniform(0, 1, (n_equipos)),  # alfas ataque\n",
    "                                np.random.uniform(0, -1, (n_equipos)), # betas defensa\n",
    "                                np.array([1.0])))                      # gamma factor casa\n",
    "\n",
    "\n",
    "    def menos_loglike(params):  # funcion a minimizar\n",
    "\n",
    "        alfa_coefs=dict(zip(equipos, params[:n_equipos]))\n",
    "\n",
    "        beta_coefs=dict(zip(equipos, params[n_equipos:(2*n_equipos)]))\n",
    "\n",
    "        gamma=params[-1]\n",
    "\n",
    "\n",
    "        log_like=[loglike(fila.FTHG,\n",
    "                          fila.FTAG,\n",
    "                          alfa_coefs[fila.HomeTeam],\n",
    "                          beta_coefs[fila.HomeTeam],\n",
    "                          alfa_coefs[fila.AwayTeam],\n",
    "                          beta_coefs[fila.AwayTeam],\n",
    "                          gamma) for fila in data.itertuples()] # seleccion por filas\n",
    "\n",
    "        return -sum(log_like)\n",
    "\n",
    "\n",
    "    optimizacion=minimize(menos_loglike,\n",
    "                          val_inicial,\n",
    "                          options={'disp': True, 'maxiter':100},\n",
    "                          method='trust-constr',\n",
    "                          constraints=[{'type': 'eq', 'fun':lambda x: sum(x[:20])-20}]) # restriccion que viene del paper\n",
    "    \n",
    "    \n",
    "    return dict(zip(['alfa_'+equipo for equipo in equipos]+['beta_'+equipo for equipo in equipos]+['gamma'],\n",
    "             optimizacion.x))"
   ]
  },
  {
   "cell_type": "code",
   "execution_count": 27,
   "id": "49348973",
   "metadata": {},
   "outputs": [
    {
     "name": "stdout",
     "output_type": "stream",
     "text": [
      "`xtol` termination condition is satisfied.\n",
      "Number of iterations: 71, function evaluations: 2982, CG iterations: 225, optimality: 1.14e-05, constraint violation: 0.00e+00, execution time: 6e+01 s.\n",
      "CPU times: user 1min 19s, sys: 59.9 s, total: 2min 19s\n",
      "Wall time: 1min\n"
     ]
    },
    {
     "data": {
      "text/plain": [
       "{'alfa_alaves': 0.28834895159019686,\n",
       " 'alfa_ath_bilbao': 0.5497324891878975,\n",
       " 'alfa_ath_madrid': 0.9547095228812571,\n",
       " 'alfa_barcelona': 0.8147917344910232,\n",
       " 'alfa_betis': 0.9490719687623022,\n",
       " 'alfa_cadiz': 0.25282663038949416,\n",
       " 'alfa_celta': 0.544067670290958,\n",
       " 'alfa_elche': 0.668155136763966,\n",
       " 'alfa_espanol': 0.5796922068877818,\n",
       " 'alfa_getafe': 0.562507134672453,\n",
       " 'alfa_granada': 0.5466517780872681,\n",
       " 'alfa_levante': 0.23484988144268798,\n",
       " 'alfa_mallorca': 0.302023087858535,\n",
       " 'alfa_osasuna': 0.04749997136160415,\n",
       " 'alfa_real_madrid': 0.7514399388998255,\n",
       " 'alfa_sevilla': 0.561505136541232,\n",
       " 'alfa_sociedad': -0.029863653884659922,\n",
       " 'alfa_valencia': 0.6754597059760443,\n",
       " 'alfa_vallecano': 0.016345727596479096,\n",
       " 'alfa_villarreal': 0.9346725271240014,\n",
       " 'beta_alaves': -0.10278753787189047,\n",
       " 'beta_ath_bilbao': -0.5756713689065417,\n",
       " 'beta_ath_madrid': -0.1911065839352587,\n",
       " 'beta_barcelona': -0.5468733884629845,\n",
       " 'beta_betis': -0.42569149465480094,\n",
       " 'beta_cadiz': -0.23509986200706506,\n",
       " 'beta_celta': -0.645984270738827,\n",
       " 'beta_elche': -0.30094312364839426,\n",
       " 'beta_espanol': -0.15872713268924746,\n",
       " 'beta_getafe': -0.8606117736911176,\n",
       " 'beta_granada': -0.15478629812179678,\n",
       " 'beta_levante': 0.04924543326594135,\n",
       " 'beta_mallorca': -0.23761058656959633,\n",
       " 'beta_osasuna': -0.5831240347930063,\n",
       " 'beta_real_madrid': -1.2079197333183547,\n",
       " 'beta_sevilla': -1.0990597813569196,\n",
       " 'beta_sociedad': -0.601068652707397,\n",
       " 'beta_valencia': -0.06783531284122467,\n",
       " 'beta_vallecano': -0.5802850003432192,\n",
       " 'beta_villarreal': -0.6086559214693885,\n",
       " 'gamma': 0.24908639770637117}"
      ]
     },
     "execution_count": 27,
     "metadata": {},
     "output_type": "execute_result"
    }
   ],
   "source": [
    "%%time\n",
    "\n",
    "data=df.iloc[-150:]\n",
    "\n",
    "params=fit(data)\n",
    "\n",
    "params"
   ]
  },
  {
   "cell_type": "code",
   "execution_count": 28,
   "id": "a9994200",
   "metadata": {},
   "outputs": [
    {
     "data": {
      "text/plain": [
       "1.2828528638270271"
      ]
     },
     "execution_count": 28,
     "metadata": {},
     "output_type": "execute_result"
    }
   ],
   "source": [
    "# valor de jugar en casa\n",
    "\n",
    "np.exp(0.24908639770637117)"
   ]
  },
  {
   "cell_type": "markdown",
   "id": "559d0c16",
   "metadata": {},
   "source": [
    "**predict**"
   ]
  },
  {
   "cell_type": "code",
   "execution_count": 29,
   "id": "a2b3bde9",
   "metadata": {},
   "outputs": [],
   "source": [
    "# Funciones para prediccion\n",
    "\n",
    "def predict_matrix(params, local, visitante, g_max):  \n",
    "    \n",
    "    # se definen lambda y mu para prediccion \n",
    "    \n",
    "    # media equipo local\n",
    "    lamb=np.exp(params['gamma']+params['alfa_'+local]+params['beta_'+visitante])\n",
    "    \n",
    "    # media equipo visitante\n",
    "    mu=np.exp(params['alfa_'+visitante] + params['beta_'+local])\n",
    "    \n",
    "    avgs=[lamb,mu]\n",
    "\n",
    "    pred=[[poisson.pmf(i,avg) for i in range(0, g_max+1)] for avg in avgs]\n",
    "    \n",
    "    matriz=np.outer(np.array(pred[0]), np.array(pred[1]))\n",
    "\n",
    "    return matriz"
   ]
  },
  {
   "cell_type": "code",
   "execution_count": 30,
   "id": "b2277495",
   "metadata": {},
   "outputs": [],
   "source": [
    "partido=predict_matrix(params, 'vallecano', 'real_madrid', 9)"
   ]
  },
  {
   "cell_type": "code",
   "execution_count": 31,
   "id": "caffcb5d",
   "metadata": {},
   "outputs": [
    {
     "data": {
      "text/html": [
       "<div>\n",
       "<style scoped>\n",
       "    .dataframe tbody tr th:only-of-type {\n",
       "        vertical-align: middle;\n",
       "    }\n",
       "\n",
       "    .dataframe tbody tr th {\n",
       "        vertical-align: top;\n",
       "    }\n",
       "\n",
       "    .dataframe thead th {\n",
       "        text-align: right;\n",
       "    }\n",
       "</style>\n",
       "<table border=\"1\" class=\"dataframe\">\n",
       "  <thead>\n",
       "    <tr style=\"text-align: right;\">\n",
       "      <th></th>\n",
       "      <th>0</th>\n",
       "      <th>1</th>\n",
       "      <th>2</th>\n",
       "      <th>3</th>\n",
       "      <th>4</th>\n",
       "      <th>5</th>\n",
       "      <th>6</th>\n",
       "      <th>7</th>\n",
       "      <th>8</th>\n",
       "      <th>9</th>\n",
       "    </tr>\n",
       "  </thead>\n",
       "  <tbody>\n",
       "    <tr>\n",
       "      <th>0</th>\n",
       "      <td>2.067320e-01</td>\n",
       "      <td>2.453236e-01</td>\n",
       "      <td>1.455597e-01</td>\n",
       "      <td>5.757732e-02</td>\n",
       "      <td>1.708139e-02</td>\n",
       "      <td>4.054009e-03</td>\n",
       "      <td>8.017983e-04</td>\n",
       "      <td>1.359248e-04</td>\n",
       "      <td>2.016231e-05</td>\n",
       "      <td>2.658456e-06</td>\n",
       "    </tr>\n",
       "    <tr>\n",
       "      <th>1</th>\n",
       "      <td>8.055464e-02</td>\n",
       "      <td>9.559215e-02</td>\n",
       "      <td>5.671839e-02</td>\n",
       "      <td>2.243542e-02</td>\n",
       "      <td>6.655887e-03</td>\n",
       "      <td>1.579674e-03</td>\n",
       "      <td>3.124266e-04</td>\n",
       "      <td>5.296410e-05</td>\n",
       "      <td>7.856393e-06</td>\n",
       "      <td>1.035887e-06</td>\n",
       "    </tr>\n",
       "    <tr>\n",
       "      <th>2</th>\n",
       "      <td>1.569435e-02</td>\n",
       "      <td>1.862409e-02</td>\n",
       "      <td>1.105037e-02</td>\n",
       "      <td>4.371063e-03</td>\n",
       "      <td>1.296757e-03</td>\n",
       "      <td>3.077658e-04</td>\n",
       "      <td>6.086965e-05</td>\n",
       "      <td>1.031892e-05</td>\n",
       "      <td>1.530651e-06</td>\n",
       "      <td>2.018205e-07</td>\n",
       "    </tr>\n",
       "    <tr>\n",
       "      <th>3</th>\n",
       "      <td>2.038473e-03</td>\n",
       "      <td>2.419004e-03</td>\n",
       "      <td>1.435285e-03</td>\n",
       "      <td>5.677389e-04</td>\n",
       "      <td>1.684303e-04</td>\n",
       "      <td>3.997440e-05</td>\n",
       "      <td>7.906101e-06</td>\n",
       "      <td>1.340281e-06</td>\n",
       "      <td>1.988097e-07</td>\n",
       "      <td>2.621361e-08</td>\n",
       "    </tr>\n",
       "    <tr>\n",
       "      <th>4</th>\n",
       "      <td>1.985765e-04</td>\n",
       "      <td>2.356457e-04</td>\n",
       "      <td>1.398174e-04</td>\n",
       "      <td>5.530591e-05</td>\n",
       "      <td>1.640753e-05</td>\n",
       "      <td>3.894080e-06</td>\n",
       "      <td>7.701675e-07</td>\n",
       "      <td>1.305626e-07</td>\n",
       "      <td>1.936692e-08</td>\n",
       "      <td>2.553581e-09</td>\n",
       "    </tr>\n",
       "    <tr>\n",
       "      <th>5</th>\n",
       "      <td>1.547536e-05</td>\n",
       "      <td>1.836421e-05</td>\n",
       "      <td>1.089617e-05</td>\n",
       "      <td>4.310070e-06</td>\n",
       "      <td>1.278663e-06</td>\n",
       "      <td>3.034713e-07</td>\n",
       "      <td>6.002028e-08</td>\n",
       "      <td>1.017494e-08</td>\n",
       "      <td>1.509292e-09</td>\n",
       "      <td>1.990043e-10</td>\n",
       "    </tr>\n",
       "    <tr>\n",
       "      <th>6</th>\n",
       "      <td>1.005014e-06</td>\n",
       "      <td>1.192625e-06</td>\n",
       "      <td>7.076289e-07</td>\n",
       "      <td>2.799084e-07</td>\n",
       "      <td>8.304005e-08</td>\n",
       "      <td>1.970830e-08</td>\n",
       "      <td>3.897890e-09</td>\n",
       "      <td>6.607896e-10</td>\n",
       "      <td>9.801779e-11</td>\n",
       "      <td>1.292391e-11</td>\n",
       "    </tr>\n",
       "    <tr>\n",
       "      <th>7</th>\n",
       "      <td>5.594445e-08</td>\n",
       "      <td>6.638786e-08</td>\n",
       "      <td>3.939040e-08</td>\n",
       "      <td>1.558119e-08</td>\n",
       "      <td>4.622452e-09</td>\n",
       "      <td>1.097069e-09</td>\n",
       "      <td>2.169774e-10</td>\n",
       "      <td>3.678307e-11</td>\n",
       "      <td>5.456192e-12</td>\n",
       "      <td>7.194139e-13</td>\n",
       "    </tr>\n",
       "    <tr>\n",
       "      <th>8</th>\n",
       "      <td>2.724896e-09</td>\n",
       "      <td>3.233565e-09</td>\n",
       "      <td>1.918594e-09</td>\n",
       "      <td>7.589158e-10</td>\n",
       "      <td>2.251465e-10</td>\n",
       "      <td>5.343513e-11</td>\n",
       "      <td>1.056835e-11</td>\n",
       "      <td>1.791599e-12</td>\n",
       "      <td>2.657557e-13</td>\n",
       "      <td>3.504061e-14</td>\n",
       "    </tr>\n",
       "    <tr>\n",
       "      <th>9</th>\n",
       "      <td>1.179751e-10</td>\n",
       "      <td>1.399980e-10</td>\n",
       "      <td>8.306604e-11</td>\n",
       "      <td>3.285745e-11</td>\n",
       "      <td>9.747776e-12</td>\n",
       "      <td>2.313488e-12</td>\n",
       "      <td>4.575595e-13</td>\n",
       "      <td>7.756775e-14</td>\n",
       "      <td>1.150596e-14</td>\n",
       "      <td>1.517092e-15</td>\n",
       "    </tr>\n",
       "  </tbody>\n",
       "</table>\n",
       "</div>"
      ],
      "text/plain": [
       "              0             1             2             3             4  \\\n",
       "0  2.067320e-01  2.453236e-01  1.455597e-01  5.757732e-02  1.708139e-02   \n",
       "1  8.055464e-02  9.559215e-02  5.671839e-02  2.243542e-02  6.655887e-03   \n",
       "2  1.569435e-02  1.862409e-02  1.105037e-02  4.371063e-03  1.296757e-03   \n",
       "3  2.038473e-03  2.419004e-03  1.435285e-03  5.677389e-04  1.684303e-04   \n",
       "4  1.985765e-04  2.356457e-04  1.398174e-04  5.530591e-05  1.640753e-05   \n",
       "5  1.547536e-05  1.836421e-05  1.089617e-05  4.310070e-06  1.278663e-06   \n",
       "6  1.005014e-06  1.192625e-06  7.076289e-07  2.799084e-07  8.304005e-08   \n",
       "7  5.594445e-08  6.638786e-08  3.939040e-08  1.558119e-08  4.622452e-09   \n",
       "8  2.724896e-09  3.233565e-09  1.918594e-09  7.589158e-10  2.251465e-10   \n",
       "9  1.179751e-10  1.399980e-10  8.306604e-11  3.285745e-11  9.747776e-12   \n",
       "\n",
       "              5             6             7             8             9  \n",
       "0  4.054009e-03  8.017983e-04  1.359248e-04  2.016231e-05  2.658456e-06  \n",
       "1  1.579674e-03  3.124266e-04  5.296410e-05  7.856393e-06  1.035887e-06  \n",
       "2  3.077658e-04  6.086965e-05  1.031892e-05  1.530651e-06  2.018205e-07  \n",
       "3  3.997440e-05  7.906101e-06  1.340281e-06  1.988097e-07  2.621361e-08  \n",
       "4  3.894080e-06  7.701675e-07  1.305626e-07  1.936692e-08  2.553581e-09  \n",
       "5  3.034713e-07  6.002028e-08  1.017494e-08  1.509292e-09  1.990043e-10  \n",
       "6  1.970830e-08  3.897890e-09  6.607896e-10  9.801779e-11  1.292391e-11  \n",
       "7  1.097069e-09  2.169774e-10  3.678307e-11  5.456192e-12  7.194139e-13  \n",
       "8  5.343513e-11  1.056835e-11  1.791599e-12  2.657557e-13  3.504061e-14  \n",
       "9  2.313488e-12  4.575595e-13  7.756775e-14  1.150596e-14  1.517092e-15  "
      ]
     },
     "execution_count": 31,
     "metadata": {},
     "output_type": "execute_result"
    }
   ],
   "source": [
    "pd.DataFrame(partido)"
   ]
  },
  {
   "cell_type": "code",
   "execution_count": 32,
   "id": "5d2343d3",
   "metadata": {},
   "outputs": [
    {
     "data": {
      "image/png": "[encoded data removed]",
      "text/plain": [
       "<Figure size 432x288 with 2 Axes>"
      ]
     },
     "metadata": {
      "needs_background": "light"
     },
     "output_type": "display_data"
    }
   ],
   "source": [
    "sns.heatmap(partido);"
   ]
  },
  {
   "cell_type": "code",
   "execution_count": 33,
   "id": "362b19e5",
   "metadata": {},
   "outputs": [],
   "source": [
    "uno=np.sum(np.tril(partido, -1))\n",
    "\n",
    "empate=np.sum(np.diag(partido))\n",
    "\n",
    "dos=np.sum(np.triu(partido, 1))"
   ]
  },
  {
   "cell_type": "code",
   "execution_count": 34,
   "id": "d6b94608",
   "metadata": {},
   "outputs": [
    {
     "data": {
      "text/plain": [
       "(0.12144900047789027, 0.3139589914239235, 0.5645914865824959)"
      ]
     },
     "execution_count": 34,
     "metadata": {},
     "output_type": "execute_result"
    }
   ],
   "source": [
    "uno, empate, dos"
   ]
  },
  {
   "cell_type": "code",
   "execution_count": 35,
   "id": "277b11fa",
   "metadata": {},
   "outputs": [
    {
     "data": {
      "text/plain": [
       "0.9999994784843096"
      ]
     },
     "execution_count": 35,
     "metadata": {},
     "output_type": "execute_result"
    }
   ],
   "source": [
    "uno+empate+dos"
   ]
  },
  {
   "cell_type": "code",
   "execution_count": 36,
   "id": "726bbe35",
   "metadata": {},
   "outputs": [],
   "source": [
    "def predict_proba(params, local, visitante, g_max):\n",
    "    \n",
    "    partido=predict_matrix(params, local, visitante, g_max)\n",
    "\n",
    "    uno=np.sum(np.tril(partido, -1))\n",
    "\n",
    "    empate=np.sum(np.diag(partido))\n",
    "\n",
    "    dos=np.sum(np.triu(partido, 1))\n",
    "    \n",
    "    return uno, empate, dos"
   ]
  },
  {
   "cell_type": "code",
   "execution_count": 37,
   "id": "6afa4125",
   "metadata": {},
   "outputs": [
    {
     "data": {
      "text/plain": [
       "(0.12144900047789027, 0.3139589914239235, 0.5645914865824959)"
      ]
     },
     "execution_count": 37,
     "metadata": {},
     "output_type": "execute_result"
    }
   ],
   "source": [
    "predict_proba(params, 'vallecano', 'real_madrid', 9)  # probabilidad (1, X, 2)"
   ]
  },
  {
   "cell_type": "code",
   "execution_count": 38,
   "id": "7596f0e0",
   "metadata": {},
   "outputs": [],
   "source": [
    "def predict(params, local, visitante, g_max):\n",
    "    \n",
    "    prob=predict_proba(params, local, visitante, g_max)\n",
    "    \n",
    "    return prob.index(max(prob))"
   ]
  },
  {
   "cell_type": "code",
   "execution_count": 39,
   "id": "bc1e62a5",
   "metadata": {},
   "outputs": [
    {
     "data": {
      "text/plain": [
       "2"
      ]
     },
     "execution_count": 39,
     "metadata": {},
     "output_type": "execute_result"
    }
   ],
   "source": [
    "predict(params, 'vallecano', 'real_madrid', 9) # etiquetas: 0-gana local , 1-empate, 2-gana visitante"
   ]
  },
  {
   "cell_type": "code",
   "execution_count": 43,
   "id": "d5d1a1ba",
   "metadata": {},
   "outputs": [
    {
     "data": {
      "text/plain": [
       "[8.233908851164646, 3.185129355476075, 1.7711921340738883]"
      ]
     },
     "execution_count": 43,
     "metadata": {},
     "output_type": "execute_result"
    }
   ],
   "source": [
    "# cuotas\n",
    "\n",
    "[1/e for e in predict_proba(params, 'vallecano', 'real_madrid', 9)]"
   ]
  },
  {
   "cell_type": "markdown",
   "id": "3464ec07",
   "metadata": {},
   "source": [
    "**Walk-Forward BackTesting**\n",
    "\n",
    "![wfbt](images/wfbt.gif)"
   ]
  },
  {
   "cell_type": "code",
   "execution_count": null,
   "id": "efc695b7",
   "metadata": {},
   "outputs": [],
   "source": []
  }
 ],
 "metadata": {
  "kernelspec": {
   "display_name": "clase",
   "language": "python",
   "name": "clase"
  },
  "language_info": {
   "codemirror_mode": {
    "name": "ipython",
    "version": 3
   },
   "file_extension": ".py",
   "mimetype": "text/x-python",
   "name": "python",
   "nbconvert_exporter": "python",
   "pygments_lexer": "ipython3",
   "version": "3.8.8"
  }
 },
 "nbformat": 4,
 "nbformat_minor": 5
}
