{
 "cells": [
  {
   "cell_type": "code",
   "execution_count": 1,
   "id": "8d783f9f",
   "metadata": {},
   "outputs": [],
   "source": [
    "%config Completer.use_jedi = False"
   ]
  },
  {
   "cell_type": "markdown",
   "id": "adaptive-irrigation",
   "metadata": {
    "toc": true
   },
   "source": [
    "<h1>Table of Contents<span class=\"tocSkip\"></span></h1>\n",
    "<div class=\"toc\"><ul class=\"toc-item\"><li><span><a href=\"#Introducción\" data-toc-modified-id=\"Introducción-1\"><span class=\"toc-item-num\">1&nbsp;&nbsp;</span>Introducción</a></span></li><li><span><a href=\"#Instalación\" data-toc-modified-id=\"Instalación-2\"><span class=\"toc-item-num\">2&nbsp;&nbsp;</span>Instalación</a></span></li><li><span><a href=\"#Introducción-a-las-estructuras-de-datos-de-pandas\" data-toc-modified-id=\"Introducción-a-las-estructuras-de-datos-de-pandas-3\"><span class=\"toc-item-num\">3&nbsp;&nbsp;</span>Introducción a las estructuras de datos de pandas</a></span><ul class=\"toc-item\"><li><span><a href=\"#Series\" data-toc-modified-id=\"Series-3.1\"><span class=\"toc-item-num\">3.1&nbsp;&nbsp;</span>Series</a></span></li><li><span><a href=\"#Buscar-valores-NaN\" data-toc-modified-id=\"Buscar-valores-NaN-3.2\"><span class=\"toc-item-num\">3.2&nbsp;&nbsp;</span>Buscar valores NaN</a></span></li></ul></li><li><span><a href=\"#Datos-de-lectura/escritura\" data-toc-modified-id=\"Datos-de-lectura/escritura-4\"><span class=\"toc-item-num\">4&nbsp;&nbsp;</span>Datos de lectura/escritura</a></span><ul class=\"toc-item\"><li><span><a href=\"#Cargamos-datos-de-formato-CSV\" data-toc-modified-id=\"Cargamos-datos-de-formato-CSV-4.1\"><span class=\"toc-item-num\">4.1&nbsp;&nbsp;</span>Cargamos datos de formato CSV</a></span></li><li><span><a href=\"#Cargamos-datos-de-formato-xlsx\" data-toc-modified-id=\"Cargamos-datos-de-formato-xlsx-4.2\"><span class=\"toc-item-num\">4.2&nbsp;&nbsp;</span>Cargamos datos de formato xlsx</a></span></li><li><span><a href=\"#Visualizamos-las-primeras-filas\" data-toc-modified-id=\"Visualizamos-las-primeras-filas-4.3\"><span class=\"toc-item-num\">4.3&nbsp;&nbsp;</span>Visualizamos las primeras filas</a></span></li><li><span><a href=\"#Visualizamos-las-últimas-filas\" data-toc-modified-id=\"Visualizamos-las-últimas-filas-4.4\"><span class=\"toc-item-num\">4.4&nbsp;&nbsp;</span>Visualizamos las últimas filas</a></span></li><li><span><a href=\"#Visualizamos-una-muestra-aleatoria\" data-toc-modified-id=\"Visualizamos-una-muestra-aleatoria-4.5\"><span class=\"toc-item-num\">4.5&nbsp;&nbsp;</span>Visualizamos una muestra aleatoria</a></span></li></ul></li><li><span><a href=\"#Análisis-exploratorio-de-un-dataframe\" data-toc-modified-id=\"Análisis-exploratorio-de-un-dataframe-5\"><span class=\"toc-item-num\">5&nbsp;&nbsp;</span>Análisis exploratorio de un dataframe</a></span></li><li><span><a href=\"#Operaciones-básicas-con-los-dataframes\" data-toc-modified-id=\"Operaciones-básicas-con-los-dataframes-6\"><span class=\"toc-item-num\">6&nbsp;&nbsp;</span>Operaciones básicas con los dataframes</a></span><ul class=\"toc-item\"><li><span><a href=\"#Seleccionamos-una-columna\" data-toc-modified-id=\"Seleccionamos-una-columna-6.1\"><span class=\"toc-item-num\">6.1&nbsp;&nbsp;</span>Seleccionamos una columna</a></span></li><li><span><a href=\"#Seleccionamos-varias-columnas\" data-toc-modified-id=\"Seleccionamos-varias-columnas-6.2\"><span class=\"toc-item-num\">6.2&nbsp;&nbsp;</span>Seleccionamos varias columnas</a></span></li></ul></li><li><span><a href=\"#siN-EMBARGO.....-🚨º\" data-toc-modified-id=\"siN-EMBARGO.....-🚨º-7\"><span class=\"toc-item-num\">7&nbsp;&nbsp;</span>siN EMBARGO..... 🚨º</a></span><ul class=\"toc-item\"><li><span><a href=\"#Obtener-los-valores-únicos-de-una-columna-(es-decir,-una-serie)\" data-toc-modified-id=\"Obtener-los-valores-únicos-de-una-columna-(es-decir,-una-serie)-7.1\"><span class=\"toc-item-num\">7.1&nbsp;&nbsp;</span>Obtener los valores únicos de una columna (es decir, una serie)</a></span></li><li><span><a href=\"#Cambiar-el-tipo-de-datos-de-una-columna\" data-toc-modified-id=\"Cambiar-el-tipo-de-datos-de-una-columna-7.2\"><span class=\"toc-item-num\">7.2&nbsp;&nbsp;</span>Cambiar el tipo de datos de una columna</a></span></li><li><span><a href=\"#Filtramos-los-datos-por-el-valor-de-las-columnas\" data-toc-modified-id=\"Filtramos-los-datos-por-el-valor-de-las-columnas-7.3\"><span class=\"toc-item-num\">7.3&nbsp;&nbsp;</span>Filtramos los datos por el valor de las columnas</a></span></li><li><span><a href=\"#Copia-de-un-dataframe-y-renombrar-columnas\" data-toc-modified-id=\"Copia-de-un-dataframe-y-renombrar-columnas-7.4\"><span class=\"toc-item-num\">7.4&nbsp;&nbsp;</span>Copia de un dataframe y renombrar columnas</a></span><ul class=\"toc-item\"><li><span><a href=\"#Renombramos-columnas\" data-toc-modified-id=\"Renombramos-columnas-7.4.1\"><span class=\"toc-item-num\">7.4.1&nbsp;&nbsp;</span>Renombramos columnas</a></span></li><li><span><a href=\"#Podemos-renombrar-las-columnas-machacando-el-atributo-de-la-instancia...-¿os-suena-esto?\" data-toc-modified-id=\"Podemos-renombrar-las-columnas-machacando-el-atributo-de-la-instancia...-¿os-suena-esto?-7.4.2\"><span class=\"toc-item-num\">7.4.2&nbsp;&nbsp;</span>Podemos renombrar las columnas machacando el atributo de la instancia... ¿os suena esto?</a></span></li></ul></li><li><span><a href=\"#Borramos-columnas\" data-toc-modified-id=\"Borramos-columnas-7.5\"><span class=\"toc-item-num\">7.5&nbsp;&nbsp;</span>Borramos columnas</a></span></li><li><span><a href=\"#Borramos-filas\" data-toc-modified-id=\"Borramos-filas-7.6\"><span class=\"toc-item-num\">7.6&nbsp;&nbsp;</span>Borramos filas</a></span></li><li><span><a href=\"#Reset_index-y-set_index\" data-toc-modified-id=\"Reset_index-y-set_index-7.7\"><span class=\"toc-item-num\">7.7&nbsp;&nbsp;</span>Reset_index y set_index</a></span><ul class=\"toc-item\"><li><span><a href=\"#SET_INDEX\" data-toc-modified-id=\"SET_INDEX-7.7.1\"><span class=\"toc-item-num\">7.7.1&nbsp;&nbsp;</span>SET_INDEX</a></span></li></ul></li><li><span><a href=\"#Operaciones-entre-columnas\" data-toc-modified-id=\"Operaciones-entre-columnas-7.8\"><span class=\"toc-item-num\">7.8&nbsp;&nbsp;</span>Operaciones entre columnas</a></span></li></ul></li><li><span><a href=\"#Apply-!!\" data-toc-modified-id=\"Apply-!!-8\"><span class=\"toc-item-num\">8&nbsp;&nbsp;</span>Apply !!</a></span></li><li><span><a href=\"#Df-.loc-e-.iloc\" data-toc-modified-id=\"Df-.loc-e-.iloc-9\"><span class=\"toc-item-num\">9&nbsp;&nbsp;</span>Df .loc e .iloc</a></span><ul class=\"toc-item\"><li><span><a href=\"#Seleccionar-filas-y-columnas-en-Pandas-mediante-posición-con-iloc\" data-toc-modified-id=\"Seleccionar-filas-y-columnas-en-Pandas-mediante-posición-con-iloc-9.1\"><span class=\"toc-item-num\">9.1&nbsp;&nbsp;</span>Seleccionar filas y columnas en Pandas mediante posición con iloc</a></span></li><li><span><a href=\"#Seleccionar-filas-y-columnas-en-Pandas-en-base-a-etiquetas-con-loc\" data-toc-modified-id=\"Seleccionar-filas-y-columnas-en-Pandas-en-base-a-etiquetas-con-loc-9.2\"><span class=\"toc-item-num\">9.2&nbsp;&nbsp;</span>Seleccionar filas y columnas en Pandas en base a etiquetas con loc</a></span><ul class=\"toc-item\"><li><span><a href=\"#En-base-a-etiqueta\" data-toc-modified-id=\"En-base-a-etiqueta-9.2.1\"><span class=\"toc-item-num\">9.2.1&nbsp;&nbsp;</span>En base a etiqueta</a></span></li></ul></li></ul></li><li><span><a href=\"#Ordenamos-un-dataframe\" data-toc-modified-id=\"Ordenamos-un-dataframe-10\"><span class=\"toc-item-num\">10&nbsp;&nbsp;</span>Ordenamos un dataframe</a></span><ul class=\"toc-item\"><li><span><a href=\"#Buscamos-valores-nulos\" data-toc-modified-id=\"Buscamos-valores-nulos-10.1\"><span class=\"toc-item-num\">10.1&nbsp;&nbsp;</span>Buscamos valores nulos</a></span><ul class=\"toc-item\"><li><span><a href=\"#¿Es-nulo?\" data-toc-modified-id=\"¿Es-nulo?-10.1.1\"><span class=\"toc-item-num\">10.1.1&nbsp;&nbsp;</span>¿Es nulo?</a></span></li><li><span><a href=\"#¿Es-NO-nulo?\" data-toc-modified-id=\"¿Es-NO-nulo?-10.1.2\"><span class=\"toc-item-num\">10.1.2&nbsp;&nbsp;</span>¿Es NO nulo?</a></span></li><li><span><a href=\"#Sacar-una-suma-de-los-valores-nulos-de-cada-columna\" data-toc-modified-id=\"Sacar-una-suma-de-los-valores-nulos-de-cada-columna-10.1.3\"><span class=\"toc-item-num\">10.1.3&nbsp;&nbsp;</span>Sacar una suma de los valores nulos de cada columna</a></span></li></ul></li><li><span><a href=\"#Borramos-los-valores-nulos\" data-toc-modified-id=\"Borramos-los-valores-nulos-10.2\"><span class=\"toc-item-num\">10.2&nbsp;&nbsp;</span>Borramos los valores nulos</a></span></li><li><span><a href=\"#Cómo-rellenar-los-datos-que-faltan\" data-toc-modified-id=\"Cómo-rellenar-los-datos-que-faltan-10.3\"><span class=\"toc-item-num\">10.3&nbsp;&nbsp;</span>Cómo rellenar los datos que faltan</a></span><ul class=\"toc-item\"><li><ul class=\"toc-item\"><li><span><a href=\"#CATEGÓRICAS-EN-DATAFRAME-Y-DEJAR-DOCUMENTACIÓN\" data-toc-modified-id=\"CATEGÓRICAS-EN-DATAFRAME-Y-DEJAR-DOCUMENTACIÓN-10.3.0.1\"><span class=\"toc-item-num\">10.3.0.1&nbsp;&nbsp;</span>CATEGÓRICAS EN DATAFRAME Y DEJAR DOCUMENTACIÓN</a></span></li></ul></li></ul></li></ul></li><li><span><a href=\"#Borramos-los-duplicados\" data-toc-modified-id=\"Borramos-los-duplicados-11\"><span class=\"toc-item-num\">11&nbsp;&nbsp;</span>Borramos los duplicados</a></span></li><li><span><a href=\"#Agregación-de-datos\" data-toc-modified-id=\"Agregación-de-datos-12\"><span class=\"toc-item-num\">12&nbsp;&nbsp;</span>Agregación de datos</a></span><ul class=\"toc-item\"><li><span><a href=\"#GroupBy\" data-toc-modified-id=\"GroupBy-12.1\"><span class=\"toc-item-num\">12.1&nbsp;&nbsp;</span>GroupBy</a></span><ul class=\"toc-item\"><li><span><a href=\"#Me-preguntaréis-¿y-si-quiero-agrupar-por-más-columnas?\" data-toc-modified-id=\"Me-preguntaréis-¿y-si-quiero-agrupar-por-más-columnas?-12.1.1\"><span class=\"toc-item-num\">12.1.1&nbsp;&nbsp;</span>Me preguntaréis ¿y si quiero agrupar por más columnas?</a></span></li></ul></li><li><span><a href=\"#Unión-de-Dataframes\" data-toc-modified-id=\"Unión-de-Dataframes-12.2\"><span class=\"toc-item-num\">12.2&nbsp;&nbsp;</span>Unión de Dataframes</a></span></li><li><span><a href=\"#Concat\" data-toc-modified-id=\"Concat-12.3\"><span class=\"toc-item-num\">12.3&nbsp;&nbsp;</span>Concat</a></span></li><li><span><a href=\"#Merge\" data-toc-modified-id=\"Merge-12.4\"><span class=\"toc-item-num\">12.4&nbsp;&nbsp;</span>Merge</a></span></li><li><span><a href=\"#Join\" data-toc-modified-id=\"Join-12.5\"><span class=\"toc-item-num\">12.5&nbsp;&nbsp;</span>Join</a></span></li></ul></li><li><span><a href=\"#Exportar-datos\" data-toc-modified-id=\"Exportar-datos-13\"><span class=\"toc-item-num\">13&nbsp;&nbsp;</span>Exportar datos</a></span></li><li><span><a href=\"#Métodos-habituales-de-pandas\" data-toc-modified-id=\"Métodos-habituales-de-pandas-14\"><span class=\"toc-item-num\">14&nbsp;&nbsp;</span>Métodos habituales de pandas</a></span></li><li><span><a href=\"#Resumen\" data-toc-modified-id=\"Resumen-15\"><span class=\"toc-item-num\">15&nbsp;&nbsp;</span>Resumen</a></span></li><li><span><a href=\"#Further-materials\" data-toc-modified-id=\"Further-materials-16\"><span class=\"toc-item-num\">16&nbsp;&nbsp;</span>Further materials</a></span></li></ul></div>"
   ]
  },
  {
   "cell_type": "markdown",
   "id": "anonymous-academy",
   "metadata": {},
   "source": [
    "# Pandas"
   ]
  },
  {
   "cell_type": "markdown",
   "id": "residential-needle",
   "metadata": {},
   "source": [
    "![pandas](https://media.giphy.com/media/nVsLCrW5iHf6E/giphy.gif)"
   ]
  },
  {
   "cell_type": "markdown",
   "id": "secure-barcelona",
   "metadata": {},
   "source": [
    "Mi gif favorito para la que, a partir de ahora, será tu librería favorita 😍"
   ]
  },
  {
   "cell_type": "markdown",
   "id": "major-audience",
   "metadata": {},
   "source": [
    "## Introducción \n",
    "Pandas es, sin duda, la biblioteca más utilizada en el ecosistema de Python para el análisis y la manipulación de datos. Es rápida, potente, flexible, fácil de usar y de código abierto. \n",
    "\n",
    "\n",
    "Entre sus principales características están\n",
    "* Un objeto **DataFrame** rápido y eficiente para la manipulación de datos con indexación integrada\n",
    "* **Lectura y escritura** de datos en multitud de formatos: Microsoflt Excel, CSV, bases de datos SQL, etc;\n",
    "* Métodos integrados y eficientes para todo tipo de manipulación de datos: datos faltantes, subconjunto, unión, fusión, etc; \n",
    "* Facilidad para trabajar con datos temporales (de hecho, Pandas se llama así por \"PANnel DAta\") \n",
    "* Buena **integración con otras librerías** de análisis de datos o Machine learning: scikit-learn, scipy, seaborn, plotly, etc;\n",
    "* Es **ampliamente utilizado** tanto en el sector privado como en el académico     \n",
    "\n",
    "\n",
    "Pandas proporciona estructuras de datos de alto nivel y funciones diseñadas para hacer que el trabajo con datos estructurados o tabulares sea rápido, fácil y expresivo. Desde su aparición en 2010, ha ayudado a que Python sea un entorno de análisis de datos potente y productivo. Los principales objetos de pandas que se utilizarán en este libro son el DataFrame, una estructura de datos tabular orientada a columnas con etiquetas de filas y columnas, y la Serie, un objeto de matriz unidimensional etiquetado.\n",
    "\n",
    "Pandas combina las ideas de alto rendimiento de NumPy con las capacidades flexibles de manipulación de datos de las hojas de cálculo y las bases de datos relacionales (como SQL). Proporciona una sofisticada funcionalidad de indexación para facilitar la remodelación, el corte y la división, la realización de agregaciones y la selección de subconjuntos de datos. \n"
   ]
  },
  {
   "cell_type": "markdown",
   "id": "hourly-nutrition",
   "metadata": {},
   "source": [
    "![image](https://thumbor.forbes.com/thumbor/960x0/https%3A%2F%2Fblogs-images.forbes.com%2Fgilpress%2Ffiles%2F2016%2F03%2FTime-1200x511.jpg)\n",
    "\n",
    "\n",
    "\n",
    "Fuente: [Forbes](https://www.forbes.com/sites/gilpress/2016/03/23/data-preparation-most-time-consuming-least-enjoyable-data-science-task-survey-says/#1ba071616f63)"
   ]
  },
  {
   "cell_type": "markdown",
   "id": "fantastic-steps",
   "metadata": {},
   "source": [
    "## Instalación"
   ]
  },
  {
   "cell_type": "markdown",
   "id": "dedicated-level",
   "metadata": {},
   "source": [
    "Lo primerito que deberás hacer, siempre será     \n",
    "pip install pandas"
   ]
  },
  {
   "cell_type": "code",
   "execution_count": 2,
   "id": "psychological-theorem",
   "metadata": {},
   "outputs": [],
   "source": [
    "import pandas as pd"
   ]
  },
  {
   "cell_type": "markdown",
   "id": "explicit-harvest",
   "metadata": {},
   "source": [
    "## Introducción a las estructuras de datos de pandas\n",
    "Para empezar con pandas, necesitarás sentirte cómodo con sus dos estructuras de datos de trabajo: Series y DataFrame. Aunque no son una solución universal para todos los problemas, proporcionan una base sólida y fácil de usar para la mayoría de las aplicaciones."
   ]
  },
  {
   "cell_type": "markdown",
   "id": "angry-hamburg",
   "metadata": {},
   "source": [
    "### Series\n",
    "Una Serie es un objeto tipo array unidimensional que contiene una secuencia de valores (de tipos similares a los de NumPy) y un array asociado de etiquetas de datos, llamado su índice. La Serie más sencilla se forma a partir de un único array de datos:"
   ]
  },
  {
   "cell_type": "code",
   "execution_count": 3,
   "id": "beautiful-stylus",
   "metadata": {},
   "outputs": [],
   "source": [
    "serie = pd.Series([\"hola\",1,23,4, [1,2,3],\"otro string\"])"
   ]
  },
  {
   "cell_type": "code",
   "execution_count": 4,
   "id": "waiting-lodge",
   "metadata": {},
   "outputs": [
    {
     "data": {
      "text/plain": [
       "0           hola\n",
       "1              1\n",
       "2             23\n",
       "3              4\n",
       "4      [1, 2, 3]\n",
       "5    otro string\n",
       "dtype: object"
      ]
     },
     "execution_count": 4,
     "metadata": {},
     "output_type": "execute_result"
    }
   ],
   "source": [
    "serie"
   ]
  },
  {
   "cell_type": "code",
   "execution_count": 5,
   "id": "increasing-rwanda",
   "metadata": {},
   "outputs": [
    {
     "data": {
      "text/plain": [
       "pandas.core.series.Series"
      ]
     },
     "execution_count": 5,
     "metadata": {},
     "output_type": "execute_result"
    }
   ],
   "source": [
    "type(serie)"
   ]
  },
  {
   "cell_type": "code",
   "execution_count": 6,
   "id": "double-composition",
   "metadata": {},
   "outputs": [
    {
     "data": {
      "text/plain": [
       "array(['hola', 1, 23, 4, list([1, 2, 3]), 'otro string'], dtype=object)"
      ]
     },
     "execution_count": 6,
     "metadata": {},
     "output_type": "execute_result"
    }
   ],
   "source": [
    "serie.values"
   ]
  },
  {
   "cell_type": "code",
   "execution_count": 7,
   "id": "modified-track",
   "metadata": {},
   "outputs": [
    {
     "data": {
      "text/plain": [
       "RangeIndex(start=0, stop=6, step=1)"
      ]
     },
     "execution_count": 7,
     "metadata": {},
     "output_type": "execute_result"
    }
   ],
   "source": [
    "serie.index"
   ]
  },
  {
   "cell_type": "code",
   "execution_count": 8,
   "id": "agreed-chancellor",
   "metadata": {},
   "outputs": [
    {
     "data": {
      "text/plain": [
       "['hola', 1, 23, 4, [1, 2, 3], 'otro string']"
      ]
     },
     "execution_count": 8,
     "metadata": {},
     "output_type": "execute_result"
    }
   ],
   "source": [
    "list(serie.values)"
   ]
  },
  {
   "cell_type": "code",
   "execution_count": 9,
   "id": "ongoing-entity",
   "metadata": {},
   "outputs": [
    {
     "data": {
      "text/plain": [
       "[0, 1, 2, 3, 4, 5]"
      ]
     },
     "execution_count": 9,
     "metadata": {},
     "output_type": "execute_result"
    }
   ],
   "source": [
    "list(serie.index)"
   ]
  },
  {
   "cell_type": "markdown",
   "id": "adolescent-species",
   "metadata": {},
   "source": [
    "La representación en cadena de una Serie mostrada interactivamente muestra el índice a la izquierda y los valores a la derecha. Como no especificamos un índice para los datos, se crea uno por defecto formado por los enteros 0 a N - 1 (donde N es la longitud de los datos). Puedes obtener la representación del array y el objeto índice de la Serie a través de sus atributos values e index, respectivamente:"
   ]
  },
  {
   "cell_type": "code",
   "execution_count": 10,
   "id": "sporting-stereo",
   "metadata": {},
   "outputs": [
    {
     "data": {
      "text/plain": [
       "array(['hola', 1, 23, 4, list([1, 2, 3]), 'otro string'], dtype=object)"
      ]
     },
     "execution_count": 10,
     "metadata": {},
     "output_type": "execute_result"
    }
   ],
   "source": [
    "serie.values"
   ]
  },
  {
   "cell_type": "code",
   "execution_count": 11,
   "id": "controversial-fifty",
   "metadata": {},
   "outputs": [
    {
     "data": {
      "text/plain": [
       "RangeIndex(start=0, stop=6, step=1)"
      ]
     },
     "execution_count": 11,
     "metadata": {},
     "output_type": "execute_result"
    }
   ],
   "source": [
    "serie.index"
   ]
  },
  {
   "cell_type": "markdown",
   "id": "educated-tourism",
   "metadata": {},
   "source": [
    "Otra forma de pensar en una Serie es como un dict ordenado de longitud fija, ya que es un mapeo de valores de índice a valores de datos. Se puede utilizar en muchos contextos en los que se podría utilizar un diccionario.\n",
    "Si tienes datos contenidos en un dict de Python, puedes crear una Serie a partir de ellos pasando el dict:"
   ]
  },
  {
   "cell_type": "code",
   "execution_count": 12,
   "id": "incorrect-washington",
   "metadata": {},
   "outputs": [],
   "source": [
    "sdata = {'Ohio': 35000, 'Texas': 71000, 'Oregon': 16000, 'Utah': 5000}"
   ]
  },
  {
   "cell_type": "code",
   "execution_count": 13,
   "id": "human-civilian",
   "metadata": {},
   "outputs": [],
   "source": [
    "seriedata = pd.Series(sdata)"
   ]
  },
  {
   "cell_type": "code",
   "execution_count": 14,
   "id": "charitable-transparency",
   "metadata": {},
   "outputs": [
    {
     "data": {
      "text/plain": [
       "Ohio      35000\n",
       "Texas     71000\n",
       "Oregon    16000\n",
       "Utah       5000\n",
       "dtype: int64"
      ]
     },
     "execution_count": 14,
     "metadata": {},
     "output_type": "execute_result"
    }
   ],
   "source": [
    "seriedata"
   ]
  },
  {
   "cell_type": "code",
   "execution_count": 15,
   "id": "wired-projection",
   "metadata": {},
   "outputs": [
    {
     "data": {
      "text/plain": [
       "Index(['Ohio', 'Texas', 'Oregon', 'Utah'], dtype='object')"
      ]
     },
     "execution_count": 15,
     "metadata": {},
     "output_type": "execute_result"
    }
   ],
   "source": [
    "seriedata.index"
   ]
  },
  {
   "cell_type": "code",
   "execution_count": 16,
   "id": "unauthorized-samuel",
   "metadata": {},
   "outputs": [
    {
     "data": {
      "text/plain": [
       "array([35000, 71000, 16000,  5000])"
      ]
     },
     "execution_count": 16,
     "metadata": {},
     "output_type": "execute_result"
    }
   ],
   "source": [
    "seriedata.values"
   ]
  },
  {
   "cell_type": "code",
   "execution_count": 17,
   "id": "breathing-paris",
   "metadata": {},
   "outputs": [
    {
     "data": {
      "text/plain": [
       "Ohio      35000\n",
       "Texas     71000\n",
       "Oregon    16000\n",
       "Utah       5000\n",
       "dtype: int64"
      ]
     },
     "metadata": {},
     "output_type": "display_data"
    }
   ],
   "source": [
    "display(seriedata)"
   ]
  },
  {
   "cell_type": "markdown",
   "id": "exposed-performer",
   "metadata": {},
   "source": [
    "Cuando sólo se pasa un dict, el índice de la Serie resultante tendrá las claves del dict en orden. Puedes anular esto pasando las claves del dict en el orden que desee que aparezcan en la Serie resultante:"
   ]
  },
  {
   "cell_type": "code",
   "execution_count": 18,
   "id": "convenient-encyclopedia",
   "metadata": {},
   "outputs": [],
   "source": [
    "estados = ['California', 'Ohio', 'Oregon', 'Texas']"
   ]
  },
  {
   "cell_type": "code",
   "execution_count": 19,
   "id": "hispanic-degree",
   "metadata": {},
   "outputs": [],
   "source": [
    "serie2 = pd.Series(sdata, index=estados)"
   ]
  },
  {
   "cell_type": "code",
   "execution_count": 20,
   "id": "bd249372",
   "metadata": {},
   "outputs": [
    {
     "data": {
      "text/plain": [
       "California        NaN\n",
       "Ohio          35000.0\n",
       "Oregon        16000.0\n",
       "Texas         71000.0\n",
       "dtype: float64"
      ]
     },
     "execution_count": 20,
     "metadata": {},
     "output_type": "execute_result"
    }
   ],
   "source": [
    "serie2"
   ]
  },
  {
   "cell_type": "markdown",
   "id": "composite-collaboration",
   "metadata": {},
   "source": [
    "Aquí, los tres valores encontrados en sdata se colocaron en los lugares apropiados, pero como no se encontró ningún valor para 'California', aparece como NaN (no es un número), lo que se considera en pandas para marcar valores perdidos o NA. Como \"Utah\" no se incluyó en los estados, se excluye del objeto resultante."
   ]
  },
  {
   "cell_type": "code",
   "execution_count": 21,
   "id": "excited-culture",
   "metadata": {},
   "outputs": [],
   "source": [
    "import numpy as np"
   ]
  },
  {
   "cell_type": "code",
   "execution_count": 22,
   "id": "green-general",
   "metadata": {},
   "outputs": [
    {
     "name": "stdout",
     "output_type": "stream",
     "text": [
      "nan\n"
     ]
    }
   ],
   "source": [
    "print(np.nan)"
   ]
  },
  {
   "cell_type": "code",
   "execution_count": 23,
   "id": "different-wildlife",
   "metadata": {},
   "outputs": [
    {
     "data": {
      "text/plain": [
       "float"
      ]
     },
     "execution_count": 23,
     "metadata": {},
     "output_type": "execute_result"
    }
   ],
   "source": [
    "type(np.nan)"
   ]
  },
  {
   "cell_type": "code",
   "execution_count": 24,
   "id": "integrated-falls",
   "metadata": {},
   "outputs": [
    {
     "data": {
      "text/plain": [
       "'NaN'"
      ]
     },
     "execution_count": 24,
     "metadata": {},
     "output_type": "execute_result"
    }
   ],
   "source": [
    "\"NaN\""
   ]
  },
  {
   "cell_type": "code",
   "execution_count": 25,
   "id": "676cb90e",
   "metadata": {},
   "outputs": [],
   "source": [
    "a = np.nan"
   ]
  },
  {
   "cell_type": "code",
   "execution_count": 26,
   "id": "south-insulation",
   "metadata": {},
   "outputs": [
    {
     "name": "stdout",
     "output_type": "stream",
     "text": [
      "Hola\n"
     ]
    }
   ],
   "source": [
    "if np.isnan(a) == True:\n",
    "    print(\"Hola\")"
   ]
  },
  {
   "cell_type": "code",
   "execution_count": 27,
   "id": "fecc2f22",
   "metadata": {},
   "outputs": [
    {
     "data": {
      "text/plain": [
       "False"
      ]
     },
     "execution_count": 27,
     "metadata": {},
     "output_type": "execute_result"
    }
   ],
   "source": [
    "# No no puedo comprobar si a es un nan así \n",
    "a == np.nan"
   ]
  },
  {
   "cell_type": "markdown",
   "id": "sublime-challenge",
   "metadata": {},
   "source": [
    "### Buscar valores NaN\n",
    "NaN significa Not A Number (No es un número) y es una de las formas habituales de representar el valor que falta en los datos. Es un valor especial de punto flotante y no puede ser convertido a otro tipo que no sea float.\n",
    "El valor NaN es uno de los principales problemas en el análisis de datos. Es muy esencial tratar con NaN para obtener los resultados deseados."
   ]
  },
  {
   "cell_type": "code",
   "execution_count": 28,
   "id": "after-healthcare",
   "metadata": {},
   "outputs": [
    {
     "data": {
      "text/plain": [
       "California     True\n",
       "Ohio          False\n",
       "Oregon        False\n",
       "Texas         False\n",
       "dtype: bool"
      ]
     },
     "execution_count": 28,
     "metadata": {},
     "output_type": "execute_result"
    }
   ],
   "source": [
    "# El método de pandas para buscar NaN es pd.isnull\n",
    "pd.isnull(serie2)"
   ]
  },
  {
   "cell_type": "code",
   "execution_count": 29,
   "id": "religious-migration",
   "metadata": {},
   "outputs": [
    {
     "data": {
      "text/plain": [
       "1"
      ]
     },
     "execution_count": 29,
     "metadata": {},
     "output_type": "execute_result"
    }
   ],
   "source": [
    "pd.isnull(serie2).sum()"
   ]
  },
  {
   "cell_type": "code",
   "execution_count": 30,
   "id": "a7b63d80",
   "metadata": {},
   "outputs": [
    {
     "data": {
      "text/plain": [
       "California     True\n",
       "Ohio          False\n",
       "Oregon        False\n",
       "Texas         False\n",
       "dtype: bool"
      ]
     },
     "execution_count": 30,
     "metadata": {},
     "output_type": "execute_result"
    }
   ],
   "source": [
    "pd.isna(serie2)"
   ]
  },
  {
   "cell_type": "code",
   "execution_count": 31,
   "id": "after-netherlands",
   "metadata": {},
   "outputs": [
    {
     "data": {
      "text/plain": [
       "1"
      ]
     },
     "execution_count": 31,
     "metadata": {},
     "output_type": "execute_result"
    }
   ],
   "source": [
    "pd.isna(serie2).sum()"
   ]
  },
  {
   "cell_type": "markdown",
   "id": "19667495",
   "metadata": {},
   "source": [
    "[Isna vs isnull](https://datascience.stackexchange.com/questions/37878/difference-between-isna-and-isnull-in-pandas)"
   ]
  },
  {
   "cell_type": "markdown",
   "id": "2926c04b",
   "metadata": {},
   "source": [
    "🙃🚀---> Nos hemos quedado aquí <--- 🚀🙃"
   ]
  },
  {
   "cell_type": "markdown",
   "id": "lyric-navigation",
   "metadata": {},
   "source": [
    "## Datos de lectura/escritura\n",
    "\n",
    "Pandas puede leer y escribir datos de una gran variedad de formatos. [Lee la documentación](https://pandas.pydata.org/pandas-docs/stable/user_guide/io.html)\n",
    "Aunque una de las más comunes es a partir de un dictado de listas de igual longitud o arrays NumPy:"
   ]
  },
  {
   "cell_type": "code",
   "execution_count": 32,
   "id": "ongoing-input",
   "metadata": {},
   "outputs": [],
   "source": [
    "# Desde un diccionario\n",
    "data = {'state': ['Ohio', 'Ohio', 'Ohio', 'Nevada', 'Nevada', 'Nevada'],\n",
    "        'year': [2000, 2001, 2002, 2001, 2002, 2003],\n",
    "        'pop': [1.5, 1.7, 3.6, 2.4, 2.9, np.nan]}"
   ]
  },
  {
   "cell_type": "code",
   "execution_count": 33,
   "id": "beginning-sentence",
   "metadata": {},
   "outputs": [],
   "source": [
    "frame = pd.DataFrame(data)"
   ]
  },
  {
   "cell_type": "code",
   "execution_count": 34,
   "id": "079a11c5",
   "metadata": {},
   "outputs": [
    {
     "data": {
      "text/html": [
       "<div>\n",
       "<style scoped>\n",
       "    .dataframe tbody tr th:only-of-type {\n",
       "        vertical-align: middle;\n",
       "    }\n",
       "\n",
       "    .dataframe tbody tr th {\n",
       "        vertical-align: top;\n",
       "    }\n",
       "\n",
       "    .dataframe thead th {\n",
       "        text-align: right;\n",
       "    }\n",
       "</style>\n",
       "<table border=\"1\" class=\"dataframe\">\n",
       "  <thead>\n",
       "    <tr style=\"text-align: right;\">\n",
       "      <th></th>\n",
       "      <th>state</th>\n",
       "      <th>year</th>\n",
       "      <th>pop</th>\n",
       "    </tr>\n",
       "  </thead>\n",
       "  <tbody>\n",
       "    <tr>\n",
       "      <th>0</th>\n",
       "      <td>Ohio</td>\n",
       "      <td>2000</td>\n",
       "      <td>1.5</td>\n",
       "    </tr>\n",
       "    <tr>\n",
       "      <th>1</th>\n",
       "      <td>Ohio</td>\n",
       "      <td>2001</td>\n",
       "      <td>1.7</td>\n",
       "    </tr>\n",
       "    <tr>\n",
       "      <th>2</th>\n",
       "      <td>Ohio</td>\n",
       "      <td>2002</td>\n",
       "      <td>3.6</td>\n",
       "    </tr>\n",
       "    <tr>\n",
       "      <th>3</th>\n",
       "      <td>Nevada</td>\n",
       "      <td>2001</td>\n",
       "      <td>2.4</td>\n",
       "    </tr>\n",
       "    <tr>\n",
       "      <th>4</th>\n",
       "      <td>Nevada</td>\n",
       "      <td>2002</td>\n",
       "      <td>2.9</td>\n",
       "    </tr>\n",
       "    <tr>\n",
       "      <th>5</th>\n",
       "      <td>Nevada</td>\n",
       "      <td>2003</td>\n",
       "      <td>NaN</td>\n",
       "    </tr>\n",
       "  </tbody>\n",
       "</table>\n",
       "</div>"
      ],
      "text/plain": [
       "    state  year  pop\n",
       "0    Ohio  2000  1.5\n",
       "1    Ohio  2001  1.7\n",
       "2    Ohio  2002  3.6\n",
       "3  Nevada  2001  2.4\n",
       "4  Nevada  2002  2.9\n",
       "5  Nevada  2003  NaN"
      ]
     },
     "execution_count": 34,
     "metadata": {},
     "output_type": "execute_result"
    }
   ],
   "source": [
    "frame"
   ]
  },
  {
   "cell_type": "code",
   "execution_count": 35,
   "id": "53df5dbc",
   "metadata": {},
   "outputs": [
    {
     "data": {
      "text/plain": [
       "year    2001.50\n",
       "pop        2.42\n",
       "dtype: float64"
      ]
     },
     "execution_count": 35,
     "metadata": {},
     "output_type": "execute_result"
    }
   ],
   "source": [
    "frame.mean()"
   ]
  },
  {
   "cell_type": "code",
   "execution_count": 36,
   "id": "further-remains",
   "metadata": {
    "scrolled": true
   },
   "outputs": [
    {
     "name": "stdout",
     "output_type": "stream",
     "text": [
      "    state  year  pop\n",
      "0    Ohio  2000  1.5\n",
      "1    Ohio  2001  1.7\n",
      "2    Ohio  2002  3.6\n",
      "3  Nevada  2001  2.4\n",
      "4  Nevada  2002  2.9\n",
      "5  Nevada  2003  NaN\n"
     ]
    }
   ],
   "source": [
    "# Para visualizar un dataframe utilizaremos display y NO print\n",
    "print(frame)"
   ]
  },
  {
   "cell_type": "code",
   "execution_count": 37,
   "id": "august-fleet",
   "metadata": {},
   "outputs": [
    {
     "data": {
      "text/html": [
       "<div>\n",
       "<style scoped>\n",
       "    .dataframe tbody tr th:only-of-type {\n",
       "        vertical-align: middle;\n",
       "    }\n",
       "\n",
       "    .dataframe tbody tr th {\n",
       "        vertical-align: top;\n",
       "    }\n",
       "\n",
       "    .dataframe thead th {\n",
       "        text-align: right;\n",
       "    }\n",
       "</style>\n",
       "<table border=\"1\" class=\"dataframe\">\n",
       "  <thead>\n",
       "    <tr style=\"text-align: right;\">\n",
       "      <th></th>\n",
       "      <th>state</th>\n",
       "      <th>year</th>\n",
       "      <th>pop</th>\n",
       "    </tr>\n",
       "  </thead>\n",
       "  <tbody>\n",
       "    <tr>\n",
       "      <th>0</th>\n",
       "      <td>Ohio</td>\n",
       "      <td>2000</td>\n",
       "      <td>1.5</td>\n",
       "    </tr>\n",
       "    <tr>\n",
       "      <th>1</th>\n",
       "      <td>Ohio</td>\n",
       "      <td>2001</td>\n",
       "      <td>1.7</td>\n",
       "    </tr>\n",
       "    <tr>\n",
       "      <th>2</th>\n",
       "      <td>Ohio</td>\n",
       "      <td>2002</td>\n",
       "      <td>3.6</td>\n",
       "    </tr>\n",
       "    <tr>\n",
       "      <th>3</th>\n",
       "      <td>Nevada</td>\n",
       "      <td>2001</td>\n",
       "      <td>2.4</td>\n",
       "    </tr>\n",
       "    <tr>\n",
       "      <th>4</th>\n",
       "      <td>Nevada</td>\n",
       "      <td>2002</td>\n",
       "      <td>2.9</td>\n",
       "    </tr>\n",
       "    <tr>\n",
       "      <th>5</th>\n",
       "      <td>Nevada</td>\n",
       "      <td>2003</td>\n",
       "      <td>NaN</td>\n",
       "    </tr>\n",
       "  </tbody>\n",
       "</table>\n",
       "</div>"
      ],
      "text/plain": [
       "    state  year  pop\n",
       "0    Ohio  2000  1.5\n",
       "1    Ohio  2001  1.7\n",
       "2    Ohio  2002  3.6\n",
       "3  Nevada  2001  2.4\n",
       "4  Nevada  2002  2.9\n",
       "5  Nevada  2003  NaN"
      ]
     },
     "metadata": {},
     "output_type": "display_data"
    }
   ],
   "source": [
    "display(frame)"
   ]
  },
  {
   "cell_type": "code",
   "execution_count": 38,
   "id": "2a760a7c",
   "metadata": {},
   "outputs": [],
   "source": [
    "lista = [1.5, 1.7, 3.6, 2.4, 2.9]"
   ]
  },
  {
   "cell_type": "code",
   "execution_count": 39,
   "id": "ec315d2d",
   "metadata": {},
   "outputs": [
    {
     "data": {
      "text/plain": [
       "2.4200000000000004"
      ]
     },
     "execution_count": 39,
     "metadata": {},
     "output_type": "execute_result"
    }
   ],
   "source": [
    "sum(lista)/len(lista)"
   ]
  },
  {
   "cell_type": "markdown",
   "id": "ecb04343",
   "metadata": {},
   "source": [
    "https://pandas.pydata.org/docs/reference/api/pandas.DataFrame.from_dict.html"
   ]
  },
  {
   "cell_type": "code",
   "execution_count": 40,
   "id": "destroyed-couple",
   "metadata": {},
   "outputs": [
    {
     "data": {
      "text/html": [
       "<div>\n",
       "<style scoped>\n",
       "    .dataframe tbody tr th:only-of-type {\n",
       "        vertical-align: middle;\n",
       "    }\n",
       "\n",
       "    .dataframe tbody tr th {\n",
       "        vertical-align: top;\n",
       "    }\n",
       "\n",
       "    .dataframe thead th {\n",
       "        text-align: right;\n",
       "    }\n",
       "</style>\n",
       "<table border=\"1\" class=\"dataframe\">\n",
       "  <thead>\n",
       "    <tr style=\"text-align: right;\">\n",
       "      <th></th>\n",
       "      <th>0</th>\n",
       "      <th>1</th>\n",
       "      <th>2</th>\n",
       "      <th>3</th>\n",
       "      <th>4</th>\n",
       "      <th>5</th>\n",
       "    </tr>\n",
       "  </thead>\n",
       "  <tbody>\n",
       "    <tr>\n",
       "      <th>state</th>\n",
       "      <td>Ohio</td>\n",
       "      <td>Ohio</td>\n",
       "      <td>Ohio</td>\n",
       "      <td>Nevada</td>\n",
       "      <td>Nevada</td>\n",
       "      <td>Nevada</td>\n",
       "    </tr>\n",
       "    <tr>\n",
       "      <th>year</th>\n",
       "      <td>2000</td>\n",
       "      <td>2001</td>\n",
       "      <td>2002</td>\n",
       "      <td>2001</td>\n",
       "      <td>2002</td>\n",
       "      <td>2003</td>\n",
       "    </tr>\n",
       "    <tr>\n",
       "      <th>pop</th>\n",
       "      <td>1.5</td>\n",
       "      <td>1.7</td>\n",
       "      <td>3.6</td>\n",
       "      <td>2.4</td>\n",
       "      <td>2.9</td>\n",
       "      <td>NaN</td>\n",
       "    </tr>\n",
       "  </tbody>\n",
       "</table>\n",
       "</div>"
      ],
      "text/plain": [
       "          0     1     2       3       4       5\n",
       "state  Ohio  Ohio  Ohio  Nevada  Nevada  Nevada\n",
       "year   2000  2001  2002    2001    2002    2003\n",
       "pop     1.5   1.7   3.6     2.4     2.9     NaN"
      ]
     },
     "execution_count": 40,
     "metadata": {},
     "output_type": "execute_result"
    }
   ],
   "source": [
    "pd.DataFrame.from_dict(data,orient=\"index\")"
   ]
  },
  {
   "cell_type": "code",
   "execution_count": 41,
   "id": "christian-battery",
   "metadata": {},
   "outputs": [],
   "source": [
    "# Desde una lista de diccionarios\n",
    "datos = [{'nombre': 'Sonia',\n",
    "               'apellido': 'Fominaya',\n",
    "               'email': 'sonia.fominaya@ironhack.com',\n",
    "               'vacaciones': 30,\n",
    "               'saludo': lambda: print('Holi, soy Sonia, hacedme lo primerito la Pull Request')}, \n",
    "         \n",
    "         {'nombre': 'Ana',\n",
    "               'apellido': 'García',\n",
    "                  'email': 'ana.garcia@ironhack.com',\n",
    "               'vacaciones': 30,\n",
    "               'saludo': lambda : print('Hola, soy Ana, cuidado con los print infinitos') },\n",
    "        {'nombreS': 'Hola',\n",
    "               'apellido': 'Qué tal',\n",
    "                  'email': 'ejemplo',\n",
    "               'vacaciones': np.nan,\n",
    "               'saludo': lambda: print('Hola, soy Ana, cuidado con los print infinitos') }]"
   ]
  },
  {
   "cell_type": "code",
   "execution_count": 42,
   "id": "every-accounting",
   "metadata": {},
   "outputs": [
    {
     "name": "stdout",
     "output_type": "stream",
     "text": [
      "Holi, soy Sonia, hacedme lo primerito la Pull Request\n"
     ]
    }
   ],
   "source": [
    "datos[0][\"saludo\"]()"
   ]
  },
  {
   "cell_type": "code",
   "execution_count": 43,
   "id": "aging-angola",
   "metadata": {},
   "outputs": [],
   "source": [
    "df_datos = pd.DataFrame(datos)"
   ]
  },
  {
   "cell_type": "code",
   "execution_count": 44,
   "id": "proper-appliance",
   "metadata": {},
   "outputs": [
    {
     "data": {
      "text/html": [
       "<div>\n",
       "<style scoped>\n",
       "    .dataframe tbody tr th:only-of-type {\n",
       "        vertical-align: middle;\n",
       "    }\n",
       "\n",
       "    .dataframe tbody tr th {\n",
       "        vertical-align: top;\n",
       "    }\n",
       "\n",
       "    .dataframe thead th {\n",
       "        text-align: right;\n",
       "    }\n",
       "</style>\n",
       "<table border=\"1\" class=\"dataframe\">\n",
       "  <thead>\n",
       "    <tr style=\"text-align: right;\">\n",
       "      <th></th>\n",
       "      <th>nombre</th>\n",
       "      <th>apellido</th>\n",
       "      <th>email</th>\n",
       "      <th>vacaciones</th>\n",
       "      <th>saludo</th>\n",
       "      <th>nombreS</th>\n",
       "    </tr>\n",
       "  </thead>\n",
       "  <tbody>\n",
       "    <tr>\n",
       "      <th>0</th>\n",
       "      <td>Sonia</td>\n",
       "      <td>Fominaya</td>\n",
       "      <td>sonia.fominaya@ironhack.com</td>\n",
       "      <td>30.0</td>\n",
       "      <td>&lt;function &lt;lambda&gt; at 0x7fb8106fd280&gt;</td>\n",
       "      <td>NaN</td>\n",
       "    </tr>\n",
       "    <tr>\n",
       "      <th>1</th>\n",
       "      <td>Ana</td>\n",
       "      <td>García</td>\n",
       "      <td>ana.garcia@ironhack.com</td>\n",
       "      <td>30.0</td>\n",
       "      <td>&lt;function &lt;lambda&gt; at 0x7fb8106fd0d0&gt;</td>\n",
       "      <td>NaN</td>\n",
       "    </tr>\n",
       "    <tr>\n",
       "      <th>2</th>\n",
       "      <td>NaN</td>\n",
       "      <td>Qué tal</td>\n",
       "      <td>ejemplo</td>\n",
       "      <td>NaN</td>\n",
       "      <td>&lt;function &lt;lambda&gt; at 0x7fb8106fd430&gt;</td>\n",
       "      <td>Hola</td>\n",
       "    </tr>\n",
       "  </tbody>\n",
       "</table>\n",
       "</div>"
      ],
      "text/plain": [
       "  nombre  apellido                        email  vacaciones  \\\n",
       "0  Sonia  Fominaya  sonia.fominaya@ironhack.com        30.0   \n",
       "1    Ana    García      ana.garcia@ironhack.com        30.0   \n",
       "2    NaN   Qué tal                      ejemplo         NaN   \n",
       "\n",
       "                                  saludo nombreS  \n",
       "0  <function <lambda> at 0x7fb8106fd280>     NaN  \n",
       "1  <function <lambda> at 0x7fb8106fd0d0>     NaN  \n",
       "2  <function <lambda> at 0x7fb8106fd430>    Hola  "
      ]
     },
     "execution_count": 44,
     "metadata": {},
     "output_type": "execute_result"
    }
   ],
   "source": [
    "df_datos"
   ]
  },
  {
   "cell_type": "markdown",
   "id": "regional-watershed",
   "metadata": {},
   "source": [
    "Si hago un dataframe a través de una lista de diccionarios:       \n",
    "    - Cada diccionario será una fila   \n",
    "    - Las keys serán los nombres de las columnas    \n",
    "    - Tienen que tener la misma estructura     "
   ]
  },
  {
   "cell_type": "markdown",
   "id": "arbitrary-editing",
   "metadata": {},
   "source": [
    "Como estamos usando Jupyter Notebook, los objetos DataFrame de pandas se mostrarán como una tabla HTML más amigable para el navegador.\n"
   ]
  },
  {
   "cell_type": "markdown",
   "id": "mexican-catch",
   "metadata": {},
   "source": [
    "### Cargamos datos de formato CSV"
   ]
  },
  {
   "cell_type": "code",
   "execution_count": 45,
   "id": "bronze-corruption",
   "metadata": {},
   "outputs": [],
   "source": [
    "df = pd.read_csv(\"../datasets/avocado_kaggle.csv\") # MI VARIABLE SE LLAMA DF"
   ]
  },
  {
   "cell_type": "code",
   "execution_count": 46,
   "id": "agreed-eclipse",
   "metadata": {},
   "outputs": [
    {
     "data": {
      "text/html": [
       "<div>\n",
       "<style scoped>\n",
       "    .dataframe tbody tr th:only-of-type {\n",
       "        vertical-align: middle;\n",
       "    }\n",
       "\n",
       "    .dataframe tbody tr th {\n",
       "        vertical-align: top;\n",
       "    }\n",
       "\n",
       "    .dataframe thead th {\n",
       "        text-align: right;\n",
       "    }\n",
       "</style>\n",
       "<table border=\"1\" class=\"dataframe\">\n",
       "  <thead>\n",
       "    <tr style=\"text-align: right;\">\n",
       "      <th></th>\n",
       "      <th>Unnamed: 0</th>\n",
       "      <th>Date</th>\n",
       "      <th>AveragePrice</th>\n",
       "      <th>Total Volume</th>\n",
       "      <th>4046</th>\n",
       "      <th>4225</th>\n",
       "      <th>4770</th>\n",
       "      <th>Total Bags</th>\n",
       "      <th>Small Bags</th>\n",
       "      <th>Large Bags</th>\n",
       "      <th>XLarge Bags</th>\n",
       "      <th>type</th>\n",
       "      <th>year</th>\n",
       "      <th>region</th>\n",
       "    </tr>\n",
       "  </thead>\n",
       "  <tbody>\n",
       "    <tr>\n",
       "      <th>0</th>\n",
       "      <td>0</td>\n",
       "      <td>2015-12-27</td>\n",
       "      <td>1.33</td>\n",
       "      <td>64236.62</td>\n",
       "      <td>1036.74</td>\n",
       "      <td>54454.85</td>\n",
       "      <td>48.16</td>\n",
       "      <td>8696.87</td>\n",
       "      <td>8603.62</td>\n",
       "      <td>93.25</td>\n",
       "      <td>0.0</td>\n",
       "      <td>conventional</td>\n",
       "      <td>2015</td>\n",
       "      <td>Albany</td>\n",
       "    </tr>\n",
       "    <tr>\n",
       "      <th>1</th>\n",
       "      <td>1</td>\n",
       "      <td>2015-12-20</td>\n",
       "      <td>1.35</td>\n",
       "      <td>54876.98</td>\n",
       "      <td>674.28</td>\n",
       "      <td>44638.81</td>\n",
       "      <td>58.33</td>\n",
       "      <td>9505.56</td>\n",
       "      <td>9408.07</td>\n",
       "      <td>97.49</td>\n",
       "      <td>0.0</td>\n",
       "      <td>conventional</td>\n",
       "      <td>2015</td>\n",
       "      <td>Albany</td>\n",
       "    </tr>\n",
       "    <tr>\n",
       "      <th>2</th>\n",
       "      <td>2</td>\n",
       "      <td>2015-12-13</td>\n",
       "      <td>0.93</td>\n",
       "      <td>118220.22</td>\n",
       "      <td>794.70</td>\n",
       "      <td>109149.67</td>\n",
       "      <td>130.50</td>\n",
       "      <td>8145.35</td>\n",
       "      <td>8042.21</td>\n",
       "      <td>103.14</td>\n",
       "      <td>0.0</td>\n",
       "      <td>conventional</td>\n",
       "      <td>2015</td>\n",
       "      <td>Albany</td>\n",
       "    </tr>\n",
       "    <tr>\n",
       "      <th>3</th>\n",
       "      <td>3</td>\n",
       "      <td>2015-12-06</td>\n",
       "      <td>1.08</td>\n",
       "      <td>78992.15</td>\n",
       "      <td>1132.00</td>\n",
       "      <td>71976.41</td>\n",
       "      <td>72.58</td>\n",
       "      <td>5811.16</td>\n",
       "      <td>5677.40</td>\n",
       "      <td>133.76</td>\n",
       "      <td>0.0</td>\n",
       "      <td>conventional</td>\n",
       "      <td>2015</td>\n",
       "      <td>Albany</td>\n",
       "    </tr>\n",
       "    <tr>\n",
       "      <th>4</th>\n",
       "      <td>4</td>\n",
       "      <td>2015-11-29</td>\n",
       "      <td>1.28</td>\n",
       "      <td>51039.60</td>\n",
       "      <td>941.48</td>\n",
       "      <td>43838.39</td>\n",
       "      <td>75.78</td>\n",
       "      <td>6183.95</td>\n",
       "      <td>5986.26</td>\n",
       "      <td>197.69</td>\n",
       "      <td>0.0</td>\n",
       "      <td>conventional</td>\n",
       "      <td>2015</td>\n",
       "      <td>Albany</td>\n",
       "    </tr>\n",
       "    <tr>\n",
       "      <th>...</th>\n",
       "      <td>...</td>\n",
       "      <td>...</td>\n",
       "      <td>...</td>\n",
       "      <td>...</td>\n",
       "      <td>...</td>\n",
       "      <td>...</td>\n",
       "      <td>...</td>\n",
       "      <td>...</td>\n",
       "      <td>...</td>\n",
       "      <td>...</td>\n",
       "      <td>...</td>\n",
       "      <td>...</td>\n",
       "      <td>...</td>\n",
       "      <td>...</td>\n",
       "    </tr>\n",
       "    <tr>\n",
       "      <th>18244</th>\n",
       "      <td>7</td>\n",
       "      <td>2018-02-04</td>\n",
       "      <td>1.63</td>\n",
       "      <td>17074.83</td>\n",
       "      <td>2046.96</td>\n",
       "      <td>1529.20</td>\n",
       "      <td>0.00</td>\n",
       "      <td>13498.67</td>\n",
       "      <td>13066.82</td>\n",
       "      <td>431.85</td>\n",
       "      <td>0.0</td>\n",
       "      <td>organic</td>\n",
       "      <td>2018</td>\n",
       "      <td>WestTexNewMexico</td>\n",
       "    </tr>\n",
       "    <tr>\n",
       "      <th>18245</th>\n",
       "      <td>8</td>\n",
       "      <td>2018-01-28</td>\n",
       "      <td>1.71</td>\n",
       "      <td>13888.04</td>\n",
       "      <td>1191.70</td>\n",
       "      <td>3431.50</td>\n",
       "      <td>0.00</td>\n",
       "      <td>9264.84</td>\n",
       "      <td>8940.04</td>\n",
       "      <td>324.80</td>\n",
       "      <td>0.0</td>\n",
       "      <td>organic</td>\n",
       "      <td>2018</td>\n",
       "      <td>WestTexNewMexico</td>\n",
       "    </tr>\n",
       "    <tr>\n",
       "      <th>18246</th>\n",
       "      <td>9</td>\n",
       "      <td>2018-01-21</td>\n",
       "      <td>1.87</td>\n",
       "      <td>13766.76</td>\n",
       "      <td>1191.92</td>\n",
       "      <td>2452.79</td>\n",
       "      <td>727.94</td>\n",
       "      <td>9394.11</td>\n",
       "      <td>9351.80</td>\n",
       "      <td>42.31</td>\n",
       "      <td>0.0</td>\n",
       "      <td>organic</td>\n",
       "      <td>2018</td>\n",
       "      <td>WestTexNewMexico</td>\n",
       "    </tr>\n",
       "    <tr>\n",
       "      <th>18247</th>\n",
       "      <td>10</td>\n",
       "      <td>2018-01-14</td>\n",
       "      <td>1.93</td>\n",
       "      <td>16205.22</td>\n",
       "      <td>1527.63</td>\n",
       "      <td>2981.04</td>\n",
       "      <td>727.01</td>\n",
       "      <td>10969.54</td>\n",
       "      <td>10919.54</td>\n",
       "      <td>50.00</td>\n",
       "      <td>0.0</td>\n",
       "      <td>organic</td>\n",
       "      <td>2018</td>\n",
       "      <td>WestTexNewMexico</td>\n",
       "    </tr>\n",
       "    <tr>\n",
       "      <th>18248</th>\n",
       "      <td>11</td>\n",
       "      <td>2018-01-07</td>\n",
       "      <td>1.62</td>\n",
       "      <td>17489.58</td>\n",
       "      <td>2894.77</td>\n",
       "      <td>2356.13</td>\n",
       "      <td>224.53</td>\n",
       "      <td>12014.15</td>\n",
       "      <td>11988.14</td>\n",
       "      <td>26.01</td>\n",
       "      <td>0.0</td>\n",
       "      <td>organic</td>\n",
       "      <td>2018</td>\n",
       "      <td>WestTexNewMexico</td>\n",
       "    </tr>\n",
       "  </tbody>\n",
       "</table>\n",
       "<p>18249 rows × 14 columns</p>\n",
       "</div>"
      ],
      "text/plain": [
       "       Unnamed: 0        Date  AveragePrice  Total Volume     4046       4225  \\\n",
       "0               0  2015-12-27          1.33      64236.62  1036.74   54454.85   \n",
       "1               1  2015-12-20          1.35      54876.98   674.28   44638.81   \n",
       "2               2  2015-12-13          0.93     118220.22   794.70  109149.67   \n",
       "3               3  2015-12-06          1.08      78992.15  1132.00   71976.41   \n",
       "4               4  2015-11-29          1.28      51039.60   941.48   43838.39   \n",
       "...           ...         ...           ...           ...      ...        ...   \n",
       "18244           7  2018-02-04          1.63      17074.83  2046.96    1529.20   \n",
       "18245           8  2018-01-28          1.71      13888.04  1191.70    3431.50   \n",
       "18246           9  2018-01-21          1.87      13766.76  1191.92    2452.79   \n",
       "18247          10  2018-01-14          1.93      16205.22  1527.63    2981.04   \n",
       "18248          11  2018-01-07          1.62      17489.58  2894.77    2356.13   \n",
       "\n",
       "         4770  Total Bags  Small Bags  Large Bags  XLarge Bags          type  \\\n",
       "0       48.16     8696.87     8603.62       93.25          0.0  conventional   \n",
       "1       58.33     9505.56     9408.07       97.49          0.0  conventional   \n",
       "2      130.50     8145.35     8042.21      103.14          0.0  conventional   \n",
       "3       72.58     5811.16     5677.40      133.76          0.0  conventional   \n",
       "4       75.78     6183.95     5986.26      197.69          0.0  conventional   \n",
       "...       ...         ...         ...         ...          ...           ...   \n",
       "18244    0.00    13498.67    13066.82      431.85          0.0       organic   \n",
       "18245    0.00     9264.84     8940.04      324.80          0.0       organic   \n",
       "18246  727.94     9394.11     9351.80       42.31          0.0       organic   \n",
       "18247  727.01    10969.54    10919.54       50.00          0.0       organic   \n",
       "18248  224.53    12014.15    11988.14       26.01          0.0       organic   \n",
       "\n",
       "       year            region  \n",
       "0      2015            Albany  \n",
       "1      2015            Albany  \n",
       "2      2015            Albany  \n",
       "3      2015            Albany  \n",
       "4      2015            Albany  \n",
       "...     ...               ...  \n",
       "18244  2018  WestTexNewMexico  \n",
       "18245  2018  WestTexNewMexico  \n",
       "18246  2018  WestTexNewMexico  \n",
       "18247  2018  WestTexNewMexico  \n",
       "18248  2018  WestTexNewMexico  \n",
       "\n",
       "[18249 rows x 14 columns]"
      ]
     },
     "metadata": {},
     "output_type": "display_data"
    }
   ],
   "source": [
    "display(df) "
   ]
  },
  {
   "cell_type": "code",
   "execution_count": 47,
   "id": "dependent-swift",
   "metadata": {},
   "outputs": [
    {
     "data": {
      "text/plain": [
       "(18249, 14)"
      ]
     },
     "execution_count": 47,
     "metadata": {},
     "output_type": "execute_result"
    }
   ],
   "source": [
    "df.shape"
   ]
  },
  {
   "cell_type": "markdown",
   "id": "surprised-dinner",
   "metadata": {},
   "source": [
    "### Cargamos datos de formato xlsx"
   ]
  },
  {
   "cell_type": "code",
   "execution_count": 48,
   "id": "technological-constitution",
   "metadata": {},
   "outputs": [],
   "source": [
    "retail = pd.read_excel(\"../datasets/Online retail.xlsx\")"
   ]
  },
  {
   "cell_type": "code",
   "execution_count": 49,
   "id": "multiple-priest",
   "metadata": {},
   "outputs": [
    {
     "data": {
      "text/plain": [
       "(396034, 9)"
      ]
     },
     "execution_count": 49,
     "metadata": {},
     "output_type": "execute_result"
    }
   ],
   "source": [
    "retail.shape"
   ]
  },
  {
   "cell_type": "markdown",
   "id": "blocked-philippines",
   "metadata": {},
   "source": [
    "### Visualizamos las primeras filas"
   ]
  },
  {
   "cell_type": "code",
   "execution_count": 50,
   "id": "requested-memorial",
   "metadata": {},
   "outputs": [
    {
     "data": {
      "text/html": [
       "<div>\n",
       "<style scoped>\n",
       "    .dataframe tbody tr th:only-of-type {\n",
       "        vertical-align: middle;\n",
       "    }\n",
       "\n",
       "    .dataframe tbody tr th {\n",
       "        vertical-align: top;\n",
       "    }\n",
       "\n",
       "    .dataframe thead th {\n",
       "        text-align: right;\n",
       "    }\n",
       "</style>\n",
       "<table border=\"1\" class=\"dataframe\">\n",
       "  <thead>\n",
       "    <tr style=\"text-align: right;\">\n",
       "      <th></th>\n",
       "      <th>Unnamed: 0</th>\n",
       "      <th>Date</th>\n",
       "      <th>AveragePrice</th>\n",
       "      <th>Total Volume</th>\n",
       "      <th>4046</th>\n",
       "      <th>4225</th>\n",
       "      <th>4770</th>\n",
       "      <th>Total Bags</th>\n",
       "      <th>Small Bags</th>\n",
       "      <th>Large Bags</th>\n",
       "      <th>XLarge Bags</th>\n",
       "      <th>type</th>\n",
       "      <th>year</th>\n",
       "      <th>region</th>\n",
       "    </tr>\n",
       "  </thead>\n",
       "  <tbody>\n",
       "    <tr>\n",
       "      <th>0</th>\n",
       "      <td>0</td>\n",
       "      <td>2015-12-27</td>\n",
       "      <td>1.33</td>\n",
       "      <td>64236.62</td>\n",
       "      <td>1036.74</td>\n",
       "      <td>54454.85</td>\n",
       "      <td>48.16</td>\n",
       "      <td>8696.87</td>\n",
       "      <td>8603.62</td>\n",
       "      <td>93.25</td>\n",
       "      <td>0.0</td>\n",
       "      <td>conventional</td>\n",
       "      <td>2015</td>\n",
       "      <td>Albany</td>\n",
       "    </tr>\n",
       "    <tr>\n",
       "      <th>1</th>\n",
       "      <td>1</td>\n",
       "      <td>2015-12-20</td>\n",
       "      <td>1.35</td>\n",
       "      <td>54876.98</td>\n",
       "      <td>674.28</td>\n",
       "      <td>44638.81</td>\n",
       "      <td>58.33</td>\n",
       "      <td>9505.56</td>\n",
       "      <td>9408.07</td>\n",
       "      <td>97.49</td>\n",
       "      <td>0.0</td>\n",
       "      <td>conventional</td>\n",
       "      <td>2015</td>\n",
       "      <td>Albany</td>\n",
       "    </tr>\n",
       "    <tr>\n",
       "      <th>2</th>\n",
       "      <td>2</td>\n",
       "      <td>2015-12-13</td>\n",
       "      <td>0.93</td>\n",
       "      <td>118220.22</td>\n",
       "      <td>794.70</td>\n",
       "      <td>109149.67</td>\n",
       "      <td>130.50</td>\n",
       "      <td>8145.35</td>\n",
       "      <td>8042.21</td>\n",
       "      <td>103.14</td>\n",
       "      <td>0.0</td>\n",
       "      <td>conventional</td>\n",
       "      <td>2015</td>\n",
       "      <td>Albany</td>\n",
       "    </tr>\n",
       "    <tr>\n",
       "      <th>3</th>\n",
       "      <td>3</td>\n",
       "      <td>2015-12-06</td>\n",
       "      <td>1.08</td>\n",
       "      <td>78992.15</td>\n",
       "      <td>1132.00</td>\n",
       "      <td>71976.41</td>\n",
       "      <td>72.58</td>\n",
       "      <td>5811.16</td>\n",
       "      <td>5677.40</td>\n",
       "      <td>133.76</td>\n",
       "      <td>0.0</td>\n",
       "      <td>conventional</td>\n",
       "      <td>2015</td>\n",
       "      <td>Albany</td>\n",
       "    </tr>\n",
       "    <tr>\n",
       "      <th>4</th>\n",
       "      <td>4</td>\n",
       "      <td>2015-11-29</td>\n",
       "      <td>1.28</td>\n",
       "      <td>51039.60</td>\n",
       "      <td>941.48</td>\n",
       "      <td>43838.39</td>\n",
       "      <td>75.78</td>\n",
       "      <td>6183.95</td>\n",
       "      <td>5986.26</td>\n",
       "      <td>197.69</td>\n",
       "      <td>0.0</td>\n",
       "      <td>conventional</td>\n",
       "      <td>2015</td>\n",
       "      <td>Albany</td>\n",
       "    </tr>\n",
       "  </tbody>\n",
       "</table>\n",
       "</div>"
      ],
      "text/plain": [
       "   Unnamed: 0        Date  AveragePrice  Total Volume     4046       4225  \\\n",
       "0           0  2015-12-27          1.33      64236.62  1036.74   54454.85   \n",
       "1           1  2015-12-20          1.35      54876.98   674.28   44638.81   \n",
       "2           2  2015-12-13          0.93     118220.22   794.70  109149.67   \n",
       "3           3  2015-12-06          1.08      78992.15  1132.00   71976.41   \n",
       "4           4  2015-11-29          1.28      51039.60   941.48   43838.39   \n",
       "\n",
       "     4770  Total Bags  Small Bags  Large Bags  XLarge Bags          type  \\\n",
       "0   48.16     8696.87     8603.62       93.25          0.0  conventional   \n",
       "1   58.33     9505.56     9408.07       97.49          0.0  conventional   \n",
       "2  130.50     8145.35     8042.21      103.14          0.0  conventional   \n",
       "3   72.58     5811.16     5677.40      133.76          0.0  conventional   \n",
       "4   75.78     6183.95     5986.26      197.69          0.0  conventional   \n",
       "\n",
       "   year  region  \n",
       "0  2015  Albany  \n",
       "1  2015  Albany  \n",
       "2  2015  Albany  \n",
       "3  2015  Albany  \n",
       "4  2015  Albany  "
      ]
     },
     "execution_count": 50,
     "metadata": {},
     "output_type": "execute_result"
    }
   ],
   "source": [
    "df.head()"
   ]
  },
  {
   "cell_type": "markdown",
   "id": "acting-milton",
   "metadata": {},
   "source": [
    "Por defecto head me muestra las 5 primeras filas, puedo ver algunas más o algunas menos pasándole un número como parámetro "
   ]
  },
  {
   "cell_type": "code",
   "execution_count": 51,
   "id": "first-identity",
   "metadata": {},
   "outputs": [
    {
     "data": {
      "text/html": [
       "<div>\n",
       "<style scoped>\n",
       "    .dataframe tbody tr th:only-of-type {\n",
       "        vertical-align: middle;\n",
       "    }\n",
       "\n",
       "    .dataframe tbody tr th {\n",
       "        vertical-align: top;\n",
       "    }\n",
       "\n",
       "    .dataframe thead th {\n",
       "        text-align: right;\n",
       "    }\n",
       "</style>\n",
       "<table border=\"1\" class=\"dataframe\">\n",
       "  <thead>\n",
       "    <tr style=\"text-align: right;\">\n",
       "      <th></th>\n",
       "      <th>Unnamed: 0</th>\n",
       "      <th>Date</th>\n",
       "      <th>AveragePrice</th>\n",
       "      <th>Total Volume</th>\n",
       "      <th>4046</th>\n",
       "      <th>4225</th>\n",
       "      <th>4770</th>\n",
       "      <th>Total Bags</th>\n",
       "      <th>Small Bags</th>\n",
       "      <th>Large Bags</th>\n",
       "      <th>XLarge Bags</th>\n",
       "      <th>type</th>\n",
       "      <th>year</th>\n",
       "      <th>region</th>\n",
       "    </tr>\n",
       "  </thead>\n",
       "  <tbody>\n",
       "    <tr>\n",
       "      <th>0</th>\n",
       "      <td>0</td>\n",
       "      <td>2015-12-27</td>\n",
       "      <td>1.33</td>\n",
       "      <td>64236.62</td>\n",
       "      <td>1036.74</td>\n",
       "      <td>54454.85</td>\n",
       "      <td>48.16</td>\n",
       "      <td>8696.87</td>\n",
       "      <td>8603.62</td>\n",
       "      <td>93.25</td>\n",
       "      <td>0.0</td>\n",
       "      <td>conventional</td>\n",
       "      <td>2015</td>\n",
       "      <td>Albany</td>\n",
       "    </tr>\n",
       "    <tr>\n",
       "      <th>1</th>\n",
       "      <td>1</td>\n",
       "      <td>2015-12-20</td>\n",
       "      <td>1.35</td>\n",
       "      <td>54876.98</td>\n",
       "      <td>674.28</td>\n",
       "      <td>44638.81</td>\n",
       "      <td>58.33</td>\n",
       "      <td>9505.56</td>\n",
       "      <td>9408.07</td>\n",
       "      <td>97.49</td>\n",
       "      <td>0.0</td>\n",
       "      <td>conventional</td>\n",
       "      <td>2015</td>\n",
       "      <td>Albany</td>\n",
       "    </tr>\n",
       "  </tbody>\n",
       "</table>\n",
       "</div>"
      ],
      "text/plain": [
       "   Unnamed: 0        Date  AveragePrice  Total Volume     4046      4225  \\\n",
       "0           0  2015-12-27          1.33      64236.62  1036.74  54454.85   \n",
       "1           1  2015-12-20          1.35      54876.98   674.28  44638.81   \n",
       "\n",
       "    4770  Total Bags  Small Bags  Large Bags  XLarge Bags          type  year  \\\n",
       "0  48.16     8696.87     8603.62       93.25          0.0  conventional  2015   \n",
       "1  58.33     9505.56     9408.07       97.49          0.0  conventional  2015   \n",
       "\n",
       "   region  \n",
       "0  Albany  \n",
       "1  Albany  "
      ]
     },
     "execution_count": 51,
     "metadata": {},
     "output_type": "execute_result"
    }
   ],
   "source": [
    "df.head(2)"
   ]
  },
  {
   "cell_type": "code",
   "execution_count": 52,
   "id": "committed-stream",
   "metadata": {},
   "outputs": [
    {
     "data": {
      "text/html": [
       "<div>\n",
       "<style scoped>\n",
       "    .dataframe tbody tr th:only-of-type {\n",
       "        vertical-align: middle;\n",
       "    }\n",
       "\n",
       "    .dataframe tbody tr th {\n",
       "        vertical-align: top;\n",
       "    }\n",
       "\n",
       "    .dataframe thead th {\n",
       "        text-align: right;\n",
       "    }\n",
       "</style>\n",
       "<table border=\"1\" class=\"dataframe\">\n",
       "  <thead>\n",
       "    <tr style=\"text-align: right;\">\n",
       "      <th></th>\n",
       "      <th>Unnamed: 0</th>\n",
       "      <th>Date</th>\n",
       "      <th>AveragePrice</th>\n",
       "      <th>Total Volume</th>\n",
       "      <th>4046</th>\n",
       "      <th>4225</th>\n",
       "      <th>4770</th>\n",
       "      <th>Total Bags</th>\n",
       "      <th>Small Bags</th>\n",
       "      <th>Large Bags</th>\n",
       "      <th>XLarge Bags</th>\n",
       "      <th>type</th>\n",
       "      <th>year</th>\n",
       "      <th>region</th>\n",
       "    </tr>\n",
       "  </thead>\n",
       "  <tbody>\n",
       "    <tr>\n",
       "      <th>0</th>\n",
       "      <td>0</td>\n",
       "      <td>2015-12-27</td>\n",
       "      <td>1.33</td>\n",
       "      <td>64236.62</td>\n",
       "      <td>1036.74</td>\n",
       "      <td>54454.85</td>\n",
       "      <td>48.16</td>\n",
       "      <td>8696.87</td>\n",
       "      <td>8603.62</td>\n",
       "      <td>93.25</td>\n",
       "      <td>0.0</td>\n",
       "      <td>conventional</td>\n",
       "      <td>2015</td>\n",
       "      <td>Albany</td>\n",
       "    </tr>\n",
       "    <tr>\n",
       "      <th>1</th>\n",
       "      <td>1</td>\n",
       "      <td>2015-12-20</td>\n",
       "      <td>1.35</td>\n",
       "      <td>54876.98</td>\n",
       "      <td>674.28</td>\n",
       "      <td>44638.81</td>\n",
       "      <td>58.33</td>\n",
       "      <td>9505.56</td>\n",
       "      <td>9408.07</td>\n",
       "      <td>97.49</td>\n",
       "      <td>0.0</td>\n",
       "      <td>conventional</td>\n",
       "      <td>2015</td>\n",
       "      <td>Albany</td>\n",
       "    </tr>\n",
       "    <tr>\n",
       "      <th>2</th>\n",
       "      <td>2</td>\n",
       "      <td>2015-12-13</td>\n",
       "      <td>0.93</td>\n",
       "      <td>118220.22</td>\n",
       "      <td>794.70</td>\n",
       "      <td>109149.67</td>\n",
       "      <td>130.50</td>\n",
       "      <td>8145.35</td>\n",
       "      <td>8042.21</td>\n",
       "      <td>103.14</td>\n",
       "      <td>0.0</td>\n",
       "      <td>conventional</td>\n",
       "      <td>2015</td>\n",
       "      <td>Albany</td>\n",
       "    </tr>\n",
       "    <tr>\n",
       "      <th>3</th>\n",
       "      <td>3</td>\n",
       "      <td>2015-12-06</td>\n",
       "      <td>1.08</td>\n",
       "      <td>78992.15</td>\n",
       "      <td>1132.00</td>\n",
       "      <td>71976.41</td>\n",
       "      <td>72.58</td>\n",
       "      <td>5811.16</td>\n",
       "      <td>5677.40</td>\n",
       "      <td>133.76</td>\n",
       "      <td>0.0</td>\n",
       "      <td>conventional</td>\n",
       "      <td>2015</td>\n",
       "      <td>Albany</td>\n",
       "    </tr>\n",
       "    <tr>\n",
       "      <th>4</th>\n",
       "      <td>4</td>\n",
       "      <td>2015-11-29</td>\n",
       "      <td>1.28</td>\n",
       "      <td>51039.60</td>\n",
       "      <td>941.48</td>\n",
       "      <td>43838.39</td>\n",
       "      <td>75.78</td>\n",
       "      <td>6183.95</td>\n",
       "      <td>5986.26</td>\n",
       "      <td>197.69</td>\n",
       "      <td>0.0</td>\n",
       "      <td>conventional</td>\n",
       "      <td>2015</td>\n",
       "      <td>Albany</td>\n",
       "    </tr>\n",
       "    <tr>\n",
       "      <th>5</th>\n",
       "      <td>5</td>\n",
       "      <td>2015-11-22</td>\n",
       "      <td>1.26</td>\n",
       "      <td>55979.78</td>\n",
       "      <td>1184.27</td>\n",
       "      <td>48067.99</td>\n",
       "      <td>43.61</td>\n",
       "      <td>6683.91</td>\n",
       "      <td>6556.47</td>\n",
       "      <td>127.44</td>\n",
       "      <td>0.0</td>\n",
       "      <td>conventional</td>\n",
       "      <td>2015</td>\n",
       "      <td>Albany</td>\n",
       "    </tr>\n",
       "  </tbody>\n",
       "</table>\n",
       "</div>"
      ],
      "text/plain": [
       "   Unnamed: 0        Date  AveragePrice  Total Volume     4046       4225  \\\n",
       "0           0  2015-12-27          1.33      64236.62  1036.74   54454.85   \n",
       "1           1  2015-12-20          1.35      54876.98   674.28   44638.81   \n",
       "2           2  2015-12-13          0.93     118220.22   794.70  109149.67   \n",
       "3           3  2015-12-06          1.08      78992.15  1132.00   71976.41   \n",
       "4           4  2015-11-29          1.28      51039.60   941.48   43838.39   \n",
       "5           5  2015-11-22          1.26      55979.78  1184.27   48067.99   \n",
       "\n",
       "     4770  Total Bags  Small Bags  Large Bags  XLarge Bags          type  \\\n",
       "0   48.16     8696.87     8603.62       93.25          0.0  conventional   \n",
       "1   58.33     9505.56     9408.07       97.49          0.0  conventional   \n",
       "2  130.50     8145.35     8042.21      103.14          0.0  conventional   \n",
       "3   72.58     5811.16     5677.40      133.76          0.0  conventional   \n",
       "4   75.78     6183.95     5986.26      197.69          0.0  conventional   \n",
       "5   43.61     6683.91     6556.47      127.44          0.0  conventional   \n",
       "\n",
       "   year  region  \n",
       "0  2015  Albany  \n",
       "1  2015  Albany  \n",
       "2  2015  Albany  \n",
       "3  2015  Albany  \n",
       "4  2015  Albany  \n",
       "5  2015  Albany  "
      ]
     },
     "execution_count": 52,
     "metadata": {},
     "output_type": "execute_result"
    }
   ],
   "source": [
    "df.head(6)"
   ]
  },
  {
   "cell_type": "markdown",
   "id": "finite-foundation",
   "metadata": {},
   "source": [
    "### Visualizamos las últimas filas "
   ]
  },
  {
   "cell_type": "code",
   "execution_count": 53,
   "id": "lined-switzerland",
   "metadata": {},
   "outputs": [
    {
     "data": {
      "text/html": [
       "<div>\n",
       "<style scoped>\n",
       "    .dataframe tbody tr th:only-of-type {\n",
       "        vertical-align: middle;\n",
       "    }\n",
       "\n",
       "    .dataframe tbody tr th {\n",
       "        vertical-align: top;\n",
       "    }\n",
       "\n",
       "    .dataframe thead th {\n",
       "        text-align: right;\n",
       "    }\n",
       "</style>\n",
       "<table border=\"1\" class=\"dataframe\">\n",
       "  <thead>\n",
       "    <tr style=\"text-align: right;\">\n",
       "      <th></th>\n",
       "      <th>Unnamed: 0</th>\n",
       "      <th>Date</th>\n",
       "      <th>AveragePrice</th>\n",
       "      <th>Total Volume</th>\n",
       "      <th>4046</th>\n",
       "      <th>4225</th>\n",
       "      <th>4770</th>\n",
       "      <th>Total Bags</th>\n",
       "      <th>Small Bags</th>\n",
       "      <th>Large Bags</th>\n",
       "      <th>XLarge Bags</th>\n",
       "      <th>type</th>\n",
       "      <th>year</th>\n",
       "      <th>region</th>\n",
       "    </tr>\n",
       "  </thead>\n",
       "  <tbody>\n",
       "    <tr>\n",
       "      <th>18244</th>\n",
       "      <td>7</td>\n",
       "      <td>2018-02-04</td>\n",
       "      <td>1.63</td>\n",
       "      <td>17074.83</td>\n",
       "      <td>2046.96</td>\n",
       "      <td>1529.20</td>\n",
       "      <td>0.00</td>\n",
       "      <td>13498.67</td>\n",
       "      <td>13066.82</td>\n",
       "      <td>431.85</td>\n",
       "      <td>0.0</td>\n",
       "      <td>organic</td>\n",
       "      <td>2018</td>\n",
       "      <td>WestTexNewMexico</td>\n",
       "    </tr>\n",
       "    <tr>\n",
       "      <th>18245</th>\n",
       "      <td>8</td>\n",
       "      <td>2018-01-28</td>\n",
       "      <td>1.71</td>\n",
       "      <td>13888.04</td>\n",
       "      <td>1191.70</td>\n",
       "      <td>3431.50</td>\n",
       "      <td>0.00</td>\n",
       "      <td>9264.84</td>\n",
       "      <td>8940.04</td>\n",
       "      <td>324.80</td>\n",
       "      <td>0.0</td>\n",
       "      <td>organic</td>\n",
       "      <td>2018</td>\n",
       "      <td>WestTexNewMexico</td>\n",
       "    </tr>\n",
       "    <tr>\n",
       "      <th>18246</th>\n",
       "      <td>9</td>\n",
       "      <td>2018-01-21</td>\n",
       "      <td>1.87</td>\n",
       "      <td>13766.76</td>\n",
       "      <td>1191.92</td>\n",
       "      <td>2452.79</td>\n",
       "      <td>727.94</td>\n",
       "      <td>9394.11</td>\n",
       "      <td>9351.80</td>\n",
       "      <td>42.31</td>\n",
       "      <td>0.0</td>\n",
       "      <td>organic</td>\n",
       "      <td>2018</td>\n",
       "      <td>WestTexNewMexico</td>\n",
       "    </tr>\n",
       "    <tr>\n",
       "      <th>18247</th>\n",
       "      <td>10</td>\n",
       "      <td>2018-01-14</td>\n",
       "      <td>1.93</td>\n",
       "      <td>16205.22</td>\n",
       "      <td>1527.63</td>\n",
       "      <td>2981.04</td>\n",
       "      <td>727.01</td>\n",
       "      <td>10969.54</td>\n",
       "      <td>10919.54</td>\n",
       "      <td>50.00</td>\n",
       "      <td>0.0</td>\n",
       "      <td>organic</td>\n",
       "      <td>2018</td>\n",
       "      <td>WestTexNewMexico</td>\n",
       "    </tr>\n",
       "    <tr>\n",
       "      <th>18248</th>\n",
       "      <td>11</td>\n",
       "      <td>2018-01-07</td>\n",
       "      <td>1.62</td>\n",
       "      <td>17489.58</td>\n",
       "      <td>2894.77</td>\n",
       "      <td>2356.13</td>\n",
       "      <td>224.53</td>\n",
       "      <td>12014.15</td>\n",
       "      <td>11988.14</td>\n",
       "      <td>26.01</td>\n",
       "      <td>0.0</td>\n",
       "      <td>organic</td>\n",
       "      <td>2018</td>\n",
       "      <td>WestTexNewMexico</td>\n",
       "    </tr>\n",
       "  </tbody>\n",
       "</table>\n",
       "</div>"
      ],
      "text/plain": [
       "       Unnamed: 0        Date  AveragePrice  Total Volume     4046     4225  \\\n",
       "18244           7  2018-02-04          1.63      17074.83  2046.96  1529.20   \n",
       "18245           8  2018-01-28          1.71      13888.04  1191.70  3431.50   \n",
       "18246           9  2018-01-21          1.87      13766.76  1191.92  2452.79   \n",
       "18247          10  2018-01-14          1.93      16205.22  1527.63  2981.04   \n",
       "18248          11  2018-01-07          1.62      17489.58  2894.77  2356.13   \n",
       "\n",
       "         4770  Total Bags  Small Bags  Large Bags  XLarge Bags     type  year  \\\n",
       "18244    0.00    13498.67    13066.82      431.85          0.0  organic  2018   \n",
       "18245    0.00     9264.84     8940.04      324.80          0.0  organic  2018   \n",
       "18246  727.94     9394.11     9351.80       42.31          0.0  organic  2018   \n",
       "18247  727.01    10969.54    10919.54       50.00          0.0  organic  2018   \n",
       "18248  224.53    12014.15    11988.14       26.01          0.0  organic  2018   \n",
       "\n",
       "                 region  \n",
       "18244  WestTexNewMexico  \n",
       "18245  WestTexNewMexico  \n",
       "18246  WestTexNewMexico  \n",
       "18247  WestTexNewMexico  \n",
       "18248  WestTexNewMexico  "
      ]
     },
     "execution_count": 53,
     "metadata": {},
     "output_type": "execute_result"
    }
   ],
   "source": [
    "df.tail()"
   ]
  },
  {
   "cell_type": "markdown",
   "id": "deadly-richards",
   "metadata": {},
   "source": [
    "Excatamente igual que con .head() le pasamos un parámetro a .tail()"
   ]
  },
  {
   "cell_type": "code",
   "execution_count": 54,
   "id": "suited-variation",
   "metadata": {},
   "outputs": [
    {
     "data": {
      "text/html": [
       "<div>\n",
       "<style scoped>\n",
       "    .dataframe tbody tr th:only-of-type {\n",
       "        vertical-align: middle;\n",
       "    }\n",
       "\n",
       "    .dataframe tbody tr th {\n",
       "        vertical-align: top;\n",
       "    }\n",
       "\n",
       "    .dataframe thead th {\n",
       "        text-align: right;\n",
       "    }\n",
       "</style>\n",
       "<table border=\"1\" class=\"dataframe\">\n",
       "  <thead>\n",
       "    <tr style=\"text-align: right;\">\n",
       "      <th></th>\n",
       "      <th>Unnamed: 0</th>\n",
       "      <th>Date</th>\n",
       "      <th>AveragePrice</th>\n",
       "      <th>Total Volume</th>\n",
       "      <th>4046</th>\n",
       "      <th>4225</th>\n",
       "      <th>4770</th>\n",
       "      <th>Total Bags</th>\n",
       "      <th>Small Bags</th>\n",
       "      <th>Large Bags</th>\n",
       "      <th>XLarge Bags</th>\n",
       "      <th>type</th>\n",
       "      <th>year</th>\n",
       "      <th>region</th>\n",
       "    </tr>\n",
       "  </thead>\n",
       "  <tbody>\n",
       "    <tr>\n",
       "      <th>18243</th>\n",
       "      <td>6</td>\n",
       "      <td>2018-02-11</td>\n",
       "      <td>1.57</td>\n",
       "      <td>15986.17</td>\n",
       "      <td>1924.28</td>\n",
       "      <td>1368.32</td>\n",
       "      <td>0.00</td>\n",
       "      <td>12693.57</td>\n",
       "      <td>12437.35</td>\n",
       "      <td>256.22</td>\n",
       "      <td>0.0</td>\n",
       "      <td>organic</td>\n",
       "      <td>2018</td>\n",
       "      <td>WestTexNewMexico</td>\n",
       "    </tr>\n",
       "    <tr>\n",
       "      <th>18244</th>\n",
       "      <td>7</td>\n",
       "      <td>2018-02-04</td>\n",
       "      <td>1.63</td>\n",
       "      <td>17074.83</td>\n",
       "      <td>2046.96</td>\n",
       "      <td>1529.20</td>\n",
       "      <td>0.00</td>\n",
       "      <td>13498.67</td>\n",
       "      <td>13066.82</td>\n",
       "      <td>431.85</td>\n",
       "      <td>0.0</td>\n",
       "      <td>organic</td>\n",
       "      <td>2018</td>\n",
       "      <td>WestTexNewMexico</td>\n",
       "    </tr>\n",
       "    <tr>\n",
       "      <th>18245</th>\n",
       "      <td>8</td>\n",
       "      <td>2018-01-28</td>\n",
       "      <td>1.71</td>\n",
       "      <td>13888.04</td>\n",
       "      <td>1191.70</td>\n",
       "      <td>3431.50</td>\n",
       "      <td>0.00</td>\n",
       "      <td>9264.84</td>\n",
       "      <td>8940.04</td>\n",
       "      <td>324.80</td>\n",
       "      <td>0.0</td>\n",
       "      <td>organic</td>\n",
       "      <td>2018</td>\n",
       "      <td>WestTexNewMexico</td>\n",
       "    </tr>\n",
       "    <tr>\n",
       "      <th>18246</th>\n",
       "      <td>9</td>\n",
       "      <td>2018-01-21</td>\n",
       "      <td>1.87</td>\n",
       "      <td>13766.76</td>\n",
       "      <td>1191.92</td>\n",
       "      <td>2452.79</td>\n",
       "      <td>727.94</td>\n",
       "      <td>9394.11</td>\n",
       "      <td>9351.80</td>\n",
       "      <td>42.31</td>\n",
       "      <td>0.0</td>\n",
       "      <td>organic</td>\n",
       "      <td>2018</td>\n",
       "      <td>WestTexNewMexico</td>\n",
       "    </tr>\n",
       "    <tr>\n",
       "      <th>18247</th>\n",
       "      <td>10</td>\n",
       "      <td>2018-01-14</td>\n",
       "      <td>1.93</td>\n",
       "      <td>16205.22</td>\n",
       "      <td>1527.63</td>\n",
       "      <td>2981.04</td>\n",
       "      <td>727.01</td>\n",
       "      <td>10969.54</td>\n",
       "      <td>10919.54</td>\n",
       "      <td>50.00</td>\n",
       "      <td>0.0</td>\n",
       "      <td>organic</td>\n",
       "      <td>2018</td>\n",
       "      <td>WestTexNewMexico</td>\n",
       "    </tr>\n",
       "    <tr>\n",
       "      <th>18248</th>\n",
       "      <td>11</td>\n",
       "      <td>2018-01-07</td>\n",
       "      <td>1.62</td>\n",
       "      <td>17489.58</td>\n",
       "      <td>2894.77</td>\n",
       "      <td>2356.13</td>\n",
       "      <td>224.53</td>\n",
       "      <td>12014.15</td>\n",
       "      <td>11988.14</td>\n",
       "      <td>26.01</td>\n",
       "      <td>0.0</td>\n",
       "      <td>organic</td>\n",
       "      <td>2018</td>\n",
       "      <td>WestTexNewMexico</td>\n",
       "    </tr>\n",
       "  </tbody>\n",
       "</table>\n",
       "</div>"
      ],
      "text/plain": [
       "       Unnamed: 0        Date  AveragePrice  Total Volume     4046     4225  \\\n",
       "18243           6  2018-02-11          1.57      15986.17  1924.28  1368.32   \n",
       "18244           7  2018-02-04          1.63      17074.83  2046.96  1529.20   \n",
       "18245           8  2018-01-28          1.71      13888.04  1191.70  3431.50   \n",
       "18246           9  2018-01-21          1.87      13766.76  1191.92  2452.79   \n",
       "18247          10  2018-01-14          1.93      16205.22  1527.63  2981.04   \n",
       "18248          11  2018-01-07          1.62      17489.58  2894.77  2356.13   \n",
       "\n",
       "         4770  Total Bags  Small Bags  Large Bags  XLarge Bags     type  year  \\\n",
       "18243    0.00    12693.57    12437.35      256.22          0.0  organic  2018   \n",
       "18244    0.00    13498.67    13066.82      431.85          0.0  organic  2018   \n",
       "18245    0.00     9264.84     8940.04      324.80          0.0  organic  2018   \n",
       "18246  727.94     9394.11     9351.80       42.31          0.0  organic  2018   \n",
       "18247  727.01    10969.54    10919.54       50.00          0.0  organic  2018   \n",
       "18248  224.53    12014.15    11988.14       26.01          0.0  organic  2018   \n",
       "\n",
       "                 region  \n",
       "18243  WestTexNewMexico  \n",
       "18244  WestTexNewMexico  \n",
       "18245  WestTexNewMexico  \n",
       "18246  WestTexNewMexico  \n",
       "18247  WestTexNewMexico  \n",
       "18248  WestTexNewMexico  "
      ]
     },
     "execution_count": 54,
     "metadata": {},
     "output_type": "execute_result"
    }
   ],
   "source": [
    "df.tail(6)"
   ]
  },
  {
   "cell_type": "markdown",
   "id": "developed-distance",
   "metadata": {},
   "source": [
    "### Visualizamos una muestra aleatoria"
   ]
  },
  {
   "cell_type": "code",
   "execution_count": 55,
   "id": "beginning-qatar",
   "metadata": {},
   "outputs": [],
   "source": [
    " #si no le pasamos un parámetro, visualiza una sola fila de forma aleatoria."
   ]
  },
  {
   "cell_type": "code",
   "execution_count": 56,
   "id": "emotional-workshop",
   "metadata": {},
   "outputs": [
    {
     "data": {
      "text/html": [
       "<div>\n",
       "<style scoped>\n",
       "    .dataframe tbody tr th:only-of-type {\n",
       "        vertical-align: middle;\n",
       "    }\n",
       "\n",
       "    .dataframe tbody tr th {\n",
       "        vertical-align: top;\n",
       "    }\n",
       "\n",
       "    .dataframe thead th {\n",
       "        text-align: right;\n",
       "    }\n",
       "</style>\n",
       "<table border=\"1\" class=\"dataframe\">\n",
       "  <thead>\n",
       "    <tr style=\"text-align: right;\">\n",
       "      <th></th>\n",
       "      <th>Unnamed: 0</th>\n",
       "      <th>Date</th>\n",
       "      <th>AveragePrice</th>\n",
       "      <th>Total Volume</th>\n",
       "      <th>4046</th>\n",
       "      <th>4225</th>\n",
       "      <th>4770</th>\n",
       "      <th>Total Bags</th>\n",
       "      <th>Small Bags</th>\n",
       "      <th>Large Bags</th>\n",
       "      <th>XLarge Bags</th>\n",
       "      <th>type</th>\n",
       "      <th>year</th>\n",
       "      <th>region</th>\n",
       "    </tr>\n",
       "  </thead>\n",
       "  <tbody>\n",
       "    <tr>\n",
       "      <th>15074</th>\n",
       "      <td>15</td>\n",
       "      <td>2017-09-17</td>\n",
       "      <td>2.18</td>\n",
       "      <td>152064.59</td>\n",
       "      <td>48806.34</td>\n",
       "      <td>66114.77</td>\n",
       "      <td>0.0</td>\n",
       "      <td>37143.48</td>\n",
       "      <td>37121.28</td>\n",
       "      <td>22.2</td>\n",
       "      <td>0.0</td>\n",
       "      <td>organic</td>\n",
       "      <td>2017</td>\n",
       "      <td>California</td>\n",
       "    </tr>\n",
       "  </tbody>\n",
       "</table>\n",
       "</div>"
      ],
      "text/plain": [
       "       Unnamed: 0        Date  AveragePrice  Total Volume      4046      4225  \\\n",
       "15074          15  2017-09-17          2.18     152064.59  48806.34  66114.77   \n",
       "\n",
       "       4770  Total Bags  Small Bags  Large Bags  XLarge Bags     type  year  \\\n",
       "15074   0.0    37143.48    37121.28        22.2          0.0  organic  2017   \n",
       "\n",
       "           region  \n",
       "15074  California  "
      ]
     },
     "execution_count": 56,
     "metadata": {},
     "output_type": "execute_result"
    }
   ],
   "source": [
    "df.sample()"
   ]
  },
  {
   "cell_type": "code",
   "execution_count": 57,
   "id": "little-category",
   "metadata": {},
   "outputs": [
    {
     "data": {
      "text/html": [
       "<div>\n",
       "<style scoped>\n",
       "    .dataframe tbody tr th:only-of-type {\n",
       "        vertical-align: middle;\n",
       "    }\n",
       "\n",
       "    .dataframe tbody tr th {\n",
       "        vertical-align: top;\n",
       "    }\n",
       "\n",
       "    .dataframe thead th {\n",
       "        text-align: right;\n",
       "    }\n",
       "</style>\n",
       "<table border=\"1\" class=\"dataframe\">\n",
       "  <thead>\n",
       "    <tr style=\"text-align: right;\">\n",
       "      <th></th>\n",
       "      <th>Unnamed: 0</th>\n",
       "      <th>Date</th>\n",
       "      <th>AveragePrice</th>\n",
       "      <th>Total Volume</th>\n",
       "      <th>4046</th>\n",
       "      <th>4225</th>\n",
       "      <th>4770</th>\n",
       "      <th>Total Bags</th>\n",
       "      <th>Small Bags</th>\n",
       "      <th>Large Bags</th>\n",
       "      <th>XLarge Bags</th>\n",
       "      <th>type</th>\n",
       "      <th>year</th>\n",
       "      <th>region</th>\n",
       "    </tr>\n",
       "  </thead>\n",
       "  <tbody>\n",
       "    <tr>\n",
       "      <th>2745</th>\n",
       "      <td>41</td>\n",
       "      <td>2015-03-15</td>\n",
       "      <td>0.94</td>\n",
       "      <td>5572582.45</td>\n",
       "      <td>3034104.48</td>\n",
       "      <td>1829868.35</td>\n",
       "      <td>85831.16</td>\n",
       "      <td>622778.46</td>\n",
       "      <td>535269.21</td>\n",
       "      <td>87496.38</td>\n",
       "      <td>12.87</td>\n",
       "      <td>conventional</td>\n",
       "      <td>2015</td>\n",
       "      <td>West</td>\n",
       "    </tr>\n",
       "    <tr>\n",
       "      <th>5995</th>\n",
       "      <td>8</td>\n",
       "      <td>2017-11-05</td>\n",
       "      <td>1.47</td>\n",
       "      <td>187381.18</td>\n",
       "      <td>46741.48</td>\n",
       "      <td>65173.50</td>\n",
       "      <td>4855.57</td>\n",
       "      <td>70610.63</td>\n",
       "      <td>66781.57</td>\n",
       "      <td>3829.06</td>\n",
       "      <td>0.00</td>\n",
       "      <td>conventional</td>\n",
       "      <td>2017</td>\n",
       "      <td>Charlotte</td>\n",
       "    </tr>\n",
       "    <tr>\n",
       "      <th>11271</th>\n",
       "      <td>13</td>\n",
       "      <td>2015-09-27</td>\n",
       "      <td>1.70</td>\n",
       "      <td>8898.69</td>\n",
       "      <td>2858.56</td>\n",
       "      <td>5619.88</td>\n",
       "      <td>0.00</td>\n",
       "      <td>420.25</td>\n",
       "      <td>420.25</td>\n",
       "      <td>0.00</td>\n",
       "      <td>0.00</td>\n",
       "      <td>organic</td>\n",
       "      <td>2015</td>\n",
       "      <td>SanDiego</td>\n",
       "    </tr>\n",
       "    <tr>\n",
       "      <th>17365</th>\n",
       "      <td>27</td>\n",
       "      <td>2017-06-25</td>\n",
       "      <td>2.43</td>\n",
       "      <td>2664.00</td>\n",
       "      <td>1.28</td>\n",
       "      <td>137.32</td>\n",
       "      <td>0.00</td>\n",
       "      <td>2525.40</td>\n",
       "      <td>894.12</td>\n",
       "      <td>1631.28</td>\n",
       "      <td>0.00</td>\n",
       "      <td>organic</td>\n",
       "      <td>2017</td>\n",
       "      <td>Syracuse</td>\n",
       "    </tr>\n",
       "    <tr>\n",
       "      <th>15616</th>\n",
       "      <td>27</td>\n",
       "      <td>2017-06-25</td>\n",
       "      <td>2.15</td>\n",
       "      <td>9529.65</td>\n",
       "      <td>249.04</td>\n",
       "      <td>283.16</td>\n",
       "      <td>21.12</td>\n",
       "      <td>8976.33</td>\n",
       "      <td>8976.33</td>\n",
       "      <td>0.00</td>\n",
       "      <td>0.00</td>\n",
       "      <td>organic</td>\n",
       "      <td>2017</td>\n",
       "      <td>HarrisburgScranton</td>\n",
       "    </tr>\n",
       "  </tbody>\n",
       "</table>\n",
       "</div>"
      ],
      "text/plain": [
       "       Unnamed: 0        Date  AveragePrice  Total Volume        4046  \\\n",
       "2745           41  2015-03-15          0.94    5572582.45  3034104.48   \n",
       "5995            8  2017-11-05          1.47     187381.18    46741.48   \n",
       "11271          13  2015-09-27          1.70       8898.69     2858.56   \n",
       "17365          27  2017-06-25          2.43       2664.00        1.28   \n",
       "15616          27  2017-06-25          2.15       9529.65      249.04   \n",
       "\n",
       "             4225      4770  Total Bags  Small Bags  Large Bags  XLarge Bags  \\\n",
       "2745   1829868.35  85831.16   622778.46   535269.21    87496.38        12.87   \n",
       "5995     65173.50   4855.57    70610.63    66781.57     3829.06         0.00   \n",
       "11271     5619.88      0.00      420.25      420.25        0.00         0.00   \n",
       "17365      137.32      0.00     2525.40      894.12     1631.28         0.00   \n",
       "15616      283.16     21.12     8976.33     8976.33        0.00         0.00   \n",
       "\n",
       "               type  year              region  \n",
       "2745   conventional  2015                West  \n",
       "5995   conventional  2017           Charlotte  \n",
       "11271       organic  2015            SanDiego  \n",
       "17365       organic  2017            Syracuse  \n",
       "15616       organic  2017  HarrisburgScranton  "
      ]
     },
     "execution_count": 57,
     "metadata": {},
     "output_type": "execute_result"
    }
   ],
   "source": [
    "# Muestra aleatoria de 5 filas\n",
    "df.sample(5)"
   ]
  },
  {
   "cell_type": "code",
   "execution_count": 58,
   "id": "electric-england",
   "metadata": {},
   "outputs": [
    {
     "data": {
      "text/html": [
       "<div>\n",
       "<style scoped>\n",
       "    .dataframe tbody tr th:only-of-type {\n",
       "        vertical-align: middle;\n",
       "    }\n",
       "\n",
       "    .dataframe tbody tr th {\n",
       "        vertical-align: top;\n",
       "    }\n",
       "\n",
       "    .dataframe thead th {\n",
       "        text-align: right;\n",
       "    }\n",
       "</style>\n",
       "<table border=\"1\" class=\"dataframe\">\n",
       "  <thead>\n",
       "    <tr style=\"text-align: right;\">\n",
       "      <th></th>\n",
       "      <th>Unnamed: 0</th>\n",
       "      <th>Date</th>\n",
       "      <th>AveragePrice</th>\n",
       "      <th>Total Volume</th>\n",
       "      <th>4046</th>\n",
       "      <th>4225</th>\n",
       "      <th>4770</th>\n",
       "      <th>Total Bags</th>\n",
       "      <th>Small Bags</th>\n",
       "      <th>Large Bags</th>\n",
       "      <th>XLarge Bags</th>\n",
       "      <th>type</th>\n",
       "      <th>year</th>\n",
       "      <th>region</th>\n",
       "    </tr>\n",
       "  </thead>\n",
       "  <tbody>\n",
       "    <tr>\n",
       "      <th>14988</th>\n",
       "      <td>35</td>\n",
       "      <td>2017-04-30</td>\n",
       "      <td>2.02</td>\n",
       "      <td>17863.55</td>\n",
       "      <td>85.60</td>\n",
       "      <td>2341.26</td>\n",
       "      <td>0.00</td>\n",
       "      <td>15436.69</td>\n",
       "      <td>14866.04</td>\n",
       "      <td>570.65</td>\n",
       "      <td>0.00</td>\n",
       "      <td>organic</td>\n",
       "      <td>2017</td>\n",
       "      <td>Boston</td>\n",
       "    </tr>\n",
       "    <tr>\n",
       "      <th>7729</th>\n",
       "      <td>46</td>\n",
       "      <td>2017-02-12</td>\n",
       "      <td>1.03</td>\n",
       "      <td>159133.19</td>\n",
       "      <td>49551.37</td>\n",
       "      <td>48583.61</td>\n",
       "      <td>189.68</td>\n",
       "      <td>60808.53</td>\n",
       "      <td>59563.40</td>\n",
       "      <td>1245.13</td>\n",
       "      <td>0.00</td>\n",
       "      <td>conventional</td>\n",
       "      <td>2017</td>\n",
       "      <td>Roanoke</td>\n",
       "    </tr>\n",
       "    <tr>\n",
       "      <th>17155</th>\n",
       "      <td>29</td>\n",
       "      <td>2017-06-11</td>\n",
       "      <td>1.17</td>\n",
       "      <td>183857.14</td>\n",
       "      <td>38447.04</td>\n",
       "      <td>9085.51</td>\n",
       "      <td>0.00</td>\n",
       "      <td>136324.59</td>\n",
       "      <td>122121.81</td>\n",
       "      <td>14202.78</td>\n",
       "      <td>0.00</td>\n",
       "      <td>organic</td>\n",
       "      <td>2017</td>\n",
       "      <td>SouthCentral</td>\n",
       "    </tr>\n",
       "    <tr>\n",
       "      <th>14416</th>\n",
       "      <td>39</td>\n",
       "      <td>2016-03-27</td>\n",
       "      <td>1.45</td>\n",
       "      <td>2927.32</td>\n",
       "      <td>59.51</td>\n",
       "      <td>1996.63</td>\n",
       "      <td>1.92</td>\n",
       "      <td>869.26</td>\n",
       "      <td>0.00</td>\n",
       "      <td>869.26</td>\n",
       "      <td>0.00</td>\n",
       "      <td>organic</td>\n",
       "      <td>2016</td>\n",
       "      <td>Spokane</td>\n",
       "    </tr>\n",
       "    <tr>\n",
       "      <th>16112</th>\n",
       "      <td>46</td>\n",
       "      <td>2017-02-12</td>\n",
       "      <td>1.21</td>\n",
       "      <td>129193.22</td>\n",
       "      <td>3448.61</td>\n",
       "      <td>41590.11</td>\n",
       "      <td>1599.36</td>\n",
       "      <td>82555.14</td>\n",
       "      <td>35082.56</td>\n",
       "      <td>47472.58</td>\n",
       "      <td>0.00</td>\n",
       "      <td>organic</td>\n",
       "      <td>2017</td>\n",
       "      <td>Midsouth</td>\n",
       "    </tr>\n",
       "    <tr>\n",
       "      <th>...</th>\n",
       "      <td>...</td>\n",
       "      <td>...</td>\n",
       "      <td>...</td>\n",
       "      <td>...</td>\n",
       "      <td>...</td>\n",
       "      <td>...</td>\n",
       "      <td>...</td>\n",
       "      <td>...</td>\n",
       "      <td>...</td>\n",
       "      <td>...</td>\n",
       "      <td>...</td>\n",
       "      <td>...</td>\n",
       "      <td>...</td>\n",
       "      <td>...</td>\n",
       "    </tr>\n",
       "    <tr>\n",
       "      <th>13645</th>\n",
       "      <td>48</td>\n",
       "      <td>2016-01-24</td>\n",
       "      <td>1.81</td>\n",
       "      <td>11722.26</td>\n",
       "      <td>372.43</td>\n",
       "      <td>2325.54</td>\n",
       "      <td>5.97</td>\n",
       "      <td>9018.32</td>\n",
       "      <td>1264.47</td>\n",
       "      <td>7753.85</td>\n",
       "      <td>0.00</td>\n",
       "      <td>organic</td>\n",
       "      <td>2016</td>\n",
       "      <td>Philadelphia</td>\n",
       "    </tr>\n",
       "    <tr>\n",
       "      <th>11062</th>\n",
       "      <td>12</td>\n",
       "      <td>2015-10-04</td>\n",
       "      <td>1.76</td>\n",
       "      <td>5592.18</td>\n",
       "      <td>28.22</td>\n",
       "      <td>2449.80</td>\n",
       "      <td>645.00</td>\n",
       "      <td>2469.16</td>\n",
       "      <td>2062.84</td>\n",
       "      <td>406.32</td>\n",
       "      <td>0.00</td>\n",
       "      <td>organic</td>\n",
       "      <td>2015</td>\n",
       "      <td>RaleighGreensboro</td>\n",
       "    </tr>\n",
       "    <tr>\n",
       "      <th>15371</th>\n",
       "      <td>47</td>\n",
       "      <td>2017-02-05</td>\n",
       "      <td>1.30</td>\n",
       "      <td>17169.39</td>\n",
       "      <td>7770.90</td>\n",
       "      <td>205.02</td>\n",
       "      <td>0.00</td>\n",
       "      <td>9193.47</td>\n",
       "      <td>9148.87</td>\n",
       "      <td>44.60</td>\n",
       "      <td>0.00</td>\n",
       "      <td>organic</td>\n",
       "      <td>2017</td>\n",
       "      <td>DallasFtWorth</td>\n",
       "    </tr>\n",
       "    <tr>\n",
       "      <th>6265</th>\n",
       "      <td>13</td>\n",
       "      <td>2017-10-01</td>\n",
       "      <td>1.47</td>\n",
       "      <td>605234.66</td>\n",
       "      <td>114291.47</td>\n",
       "      <td>249372.98</td>\n",
       "      <td>198.48</td>\n",
       "      <td>241371.73</td>\n",
       "      <td>68911.62</td>\n",
       "      <td>172460.11</td>\n",
       "      <td>0.00</td>\n",
       "      <td>conventional</td>\n",
       "      <td>2017</td>\n",
       "      <td>Denver</td>\n",
       "    </tr>\n",
       "    <tr>\n",
       "      <th>2255</th>\n",
       "      <td>19</td>\n",
       "      <td>2015-08-16</td>\n",
       "      <td>1.15</td>\n",
       "      <td>497526.51</td>\n",
       "      <td>173165.55</td>\n",
       "      <td>201936.28</td>\n",
       "      <td>12055.67</td>\n",
       "      <td>110369.01</td>\n",
       "      <td>110361.10</td>\n",
       "      <td>2.94</td>\n",
       "      <td>4.97</td>\n",
       "      <td>conventional</td>\n",
       "      <td>2015</td>\n",
       "      <td>Seattle</td>\n",
       "    </tr>\n",
       "  </tbody>\n",
       "</table>\n",
       "<p>1825 rows × 14 columns</p>\n",
       "</div>"
      ],
      "text/plain": [
       "       Unnamed: 0        Date  AveragePrice  Total Volume       4046  \\\n",
       "14988          35  2017-04-30          2.02      17863.55      85.60   \n",
       "7729           46  2017-02-12          1.03     159133.19   49551.37   \n",
       "17155          29  2017-06-11          1.17     183857.14   38447.04   \n",
       "14416          39  2016-03-27          1.45       2927.32      59.51   \n",
       "16112          46  2017-02-12          1.21     129193.22    3448.61   \n",
       "...           ...         ...           ...           ...        ...   \n",
       "13645          48  2016-01-24          1.81      11722.26     372.43   \n",
       "11062          12  2015-10-04          1.76       5592.18      28.22   \n",
       "15371          47  2017-02-05          1.30      17169.39    7770.90   \n",
       "6265           13  2017-10-01          1.47     605234.66  114291.47   \n",
       "2255           19  2015-08-16          1.15     497526.51  173165.55   \n",
       "\n",
       "            4225      4770  Total Bags  Small Bags  Large Bags  XLarge Bags  \\\n",
       "14988    2341.26      0.00    15436.69    14866.04      570.65         0.00   \n",
       "7729    48583.61    189.68    60808.53    59563.40     1245.13         0.00   \n",
       "17155    9085.51      0.00   136324.59   122121.81    14202.78         0.00   \n",
       "14416    1996.63      1.92      869.26        0.00      869.26         0.00   \n",
       "16112   41590.11   1599.36    82555.14    35082.56    47472.58         0.00   \n",
       "...          ...       ...         ...         ...         ...          ...   \n",
       "13645    2325.54      5.97     9018.32     1264.47     7753.85         0.00   \n",
       "11062    2449.80    645.00     2469.16     2062.84      406.32         0.00   \n",
       "15371     205.02      0.00     9193.47     9148.87       44.60         0.00   \n",
       "6265   249372.98    198.48   241371.73    68911.62   172460.11         0.00   \n",
       "2255   201936.28  12055.67   110369.01   110361.10        2.94         4.97   \n",
       "\n",
       "               type  year             region  \n",
       "14988       organic  2017             Boston  \n",
       "7729   conventional  2017            Roanoke  \n",
       "17155       organic  2017       SouthCentral  \n",
       "14416       organic  2016            Spokane  \n",
       "16112       organic  2017           Midsouth  \n",
       "...             ...   ...                ...  \n",
       "13645       organic  2016       Philadelphia  \n",
       "11062       organic  2015  RaleighGreensboro  \n",
       "15371       organic  2017      DallasFtWorth  \n",
       "6265   conventional  2017             Denver  \n",
       "2255   conventional  2015            Seattle  \n",
       "\n",
       "[1825 rows x 14 columns]"
      ]
     },
     "execution_count": 58,
     "metadata": {},
     "output_type": "execute_result"
    }
   ],
   "source": [
    "# Muestra aleatoria del 10%\n",
    "df.sample(frac=0.1)"
   ]
  },
  {
   "cell_type": "code",
   "execution_count": 59,
   "id": "headed-college",
   "metadata": {},
   "outputs": [],
   "source": [
    "guardo_sample = df.sample(frac=0.1)"
   ]
  },
  {
   "cell_type": "code",
   "execution_count": 60,
   "id": "151f9edf",
   "metadata": {},
   "outputs": [
    {
     "data": {
      "text/html": [
       "<div>\n",
       "<style scoped>\n",
       "    .dataframe tbody tr th:only-of-type {\n",
       "        vertical-align: middle;\n",
       "    }\n",
       "\n",
       "    .dataframe tbody tr th {\n",
       "        vertical-align: top;\n",
       "    }\n",
       "\n",
       "    .dataframe thead th {\n",
       "        text-align: right;\n",
       "    }\n",
       "</style>\n",
       "<table border=\"1\" class=\"dataframe\">\n",
       "  <thead>\n",
       "    <tr style=\"text-align: right;\">\n",
       "      <th></th>\n",
       "      <th>Unnamed: 0</th>\n",
       "      <th>Date</th>\n",
       "      <th>AveragePrice</th>\n",
       "      <th>Total Volume</th>\n",
       "      <th>4046</th>\n",
       "      <th>4225</th>\n",
       "      <th>4770</th>\n",
       "      <th>Total Bags</th>\n",
       "      <th>Small Bags</th>\n",
       "      <th>Large Bags</th>\n",
       "      <th>XLarge Bags</th>\n",
       "      <th>type</th>\n",
       "      <th>year</th>\n",
       "      <th>region</th>\n",
       "    </tr>\n",
       "  </thead>\n",
       "  <tbody>\n",
       "    <tr>\n",
       "      <th>16891</th>\n",
       "      <td>30</td>\n",
       "      <td>2017-06-04</td>\n",
       "      <td>2.43</td>\n",
       "      <td>6820.70</td>\n",
       "      <td>2184.08</td>\n",
       "      <td>3605.15</td>\n",
       "      <td>0.00</td>\n",
       "      <td>1031.47</td>\n",
       "      <td>1029.60</td>\n",
       "      <td>1.87</td>\n",
       "      <td>0.0</td>\n",
       "      <td>organic</td>\n",
       "      <td>2017</td>\n",
       "      <td>Sacramento</td>\n",
       "    </tr>\n",
       "    <tr>\n",
       "      <th>2868</th>\n",
       "      <td>8</td>\n",
       "      <td>2016-10-30</td>\n",
       "      <td>1.26</td>\n",
       "      <td>408314.87</td>\n",
       "      <td>162367.80</td>\n",
       "      <td>69366.17</td>\n",
       "      <td>160.28</td>\n",
       "      <td>176420.62</td>\n",
       "      <td>94305.34</td>\n",
       "      <td>82115.28</td>\n",
       "      <td>0.0</td>\n",
       "      <td>conventional</td>\n",
       "      <td>2016</td>\n",
       "      <td>Atlanta</td>\n",
       "    </tr>\n",
       "    <tr>\n",
       "      <th>12961</th>\n",
       "      <td>40</td>\n",
       "      <td>2016-03-20</td>\n",
       "      <td>1.26</td>\n",
       "      <td>3222.83</td>\n",
       "      <td>124.06</td>\n",
       "      <td>1194.00</td>\n",
       "      <td>0.00</td>\n",
       "      <td>1904.77</td>\n",
       "      <td>856.67</td>\n",
       "      <td>1048.10</td>\n",
       "      <td>0.0</td>\n",
       "      <td>organic</td>\n",
       "      <td>2016</td>\n",
       "      <td>Indianapolis</td>\n",
       "    </tr>\n",
       "    <tr>\n",
       "      <th>12830</th>\n",
       "      <td>13</td>\n",
       "      <td>2016-09-25</td>\n",
       "      <td>2.34</td>\n",
       "      <td>9905.86</td>\n",
       "      <td>188.52</td>\n",
       "      <td>3116.08</td>\n",
       "      <td>13.79</td>\n",
       "      <td>6587.47</td>\n",
       "      <td>6491.72</td>\n",
       "      <td>95.75</td>\n",
       "      <td>0.0</td>\n",
       "      <td>organic</td>\n",
       "      <td>2016</td>\n",
       "      <td>HartfordSpringfield</td>\n",
       "    </tr>\n",
       "    <tr>\n",
       "      <th>13819</th>\n",
       "      <td>14</td>\n",
       "      <td>2016-09-18</td>\n",
       "      <td>1.46</td>\n",
       "      <td>24816.08</td>\n",
       "      <td>4166.39</td>\n",
       "      <td>3430.99</td>\n",
       "      <td>0.00</td>\n",
       "      <td>17218.70</td>\n",
       "      <td>9866.38</td>\n",
       "      <td>7352.32</td>\n",
       "      <td>0.0</td>\n",
       "      <td>organic</td>\n",
       "      <td>2016</td>\n",
       "      <td>Portland</td>\n",
       "    </tr>\n",
       "  </tbody>\n",
       "</table>\n",
       "</div>"
      ],
      "text/plain": [
       "       Unnamed: 0        Date  AveragePrice  Total Volume       4046  \\\n",
       "16891          30  2017-06-04          2.43       6820.70    2184.08   \n",
       "2868            8  2016-10-30          1.26     408314.87  162367.80   \n",
       "12961          40  2016-03-20          1.26       3222.83     124.06   \n",
       "12830          13  2016-09-25          2.34       9905.86     188.52   \n",
       "13819          14  2016-09-18          1.46      24816.08    4166.39   \n",
       "\n",
       "           4225    4770  Total Bags  Small Bags  Large Bags  XLarge Bags  \\\n",
       "16891   3605.15    0.00     1031.47     1029.60        1.87          0.0   \n",
       "2868   69366.17  160.28   176420.62    94305.34    82115.28          0.0   \n",
       "12961   1194.00    0.00     1904.77      856.67     1048.10          0.0   \n",
       "12830   3116.08   13.79     6587.47     6491.72       95.75          0.0   \n",
       "13819   3430.99    0.00    17218.70     9866.38     7352.32          0.0   \n",
       "\n",
       "               type  year               region  \n",
       "16891       organic  2017           Sacramento  \n",
       "2868   conventional  2016              Atlanta  \n",
       "12961       organic  2016         Indianapolis  \n",
       "12830       organic  2016  HartfordSpringfield  \n",
       "13819       organic  2016             Portland  "
      ]
     },
     "execution_count": 60,
     "metadata": {},
     "output_type": "execute_result"
    }
   ],
   "source": [
    "guardo_sample.head()"
   ]
  },
  {
   "cell_type": "markdown",
   "id": "brown-princeton",
   "metadata": {},
   "source": [
    "## Análisis exploratorio de un dataframe"
   ]
  },
  {
   "cell_type": "code",
   "execution_count": 61,
   "id": "previous-release",
   "metadata": {},
   "outputs": [
    {
     "data": {
      "text/plain": [
       "(18249, 14)"
      ]
     },
     "execution_count": 61,
     "metadata": {},
     "output_type": "execute_result"
    }
   ],
   "source": [
    "df.shape"
   ]
  },
  {
   "cell_type": "code",
   "execution_count": 62,
   "id": "disabled-suggestion",
   "metadata": {},
   "outputs": [
    {
     "name": "stdout",
     "output_type": "stream",
     "text": [
      "<class 'pandas.core.frame.DataFrame'>\n",
      "RangeIndex: 18249 entries, 0 to 18248\n",
      "Data columns (total 14 columns):\n",
      " #   Column        Non-Null Count  Dtype  \n",
      "---  ------        --------------  -----  \n",
      " 0   Unnamed: 0    18249 non-null  int64  \n",
      " 1   Date          18249 non-null  object \n",
      " 2   AveragePrice  18249 non-null  float64\n",
      " 3   Total Volume  18249 non-null  float64\n",
      " 4   4046          18249 non-null  float64\n",
      " 5   4225          18249 non-null  float64\n",
      " 6   4770          18249 non-null  float64\n",
      " 7   Total Bags    18249 non-null  float64\n",
      " 8   Small Bags    18249 non-null  float64\n",
      " 9   Large Bags    18249 non-null  float64\n",
      " 10  XLarge Bags   18249 non-null  float64\n",
      " 11  type          18249 non-null  object \n",
      " 12  year          18249 non-null  int64  \n",
      " 13  region        18249 non-null  object \n",
      "dtypes: float64(9), int64(2), object(3)\n",
      "memory usage: 1.9+ MB\n"
     ]
    }
   ],
   "source": [
    "df.info()"
   ]
  },
  {
   "cell_type": "code",
   "execution_count": 63,
   "id": "documentary-contract",
   "metadata": {},
   "outputs": [
    {
     "data": {
      "text/plain": [
       "Unnamed: 0      0\n",
       "Date            0\n",
       "AveragePrice    0\n",
       "Total Volume    0\n",
       "4046            0\n",
       "4225            0\n",
       "4770            0\n",
       "Total Bags      0\n",
       "Small Bags      0\n",
       "Large Bags      0\n",
       "XLarge Bags     0\n",
       "type            0\n",
       "year            0\n",
       "region          0\n",
       "dtype: int64"
      ]
     },
     "execution_count": 63,
     "metadata": {},
     "output_type": "execute_result"
    }
   ],
   "source": [
    "df.isnull().sum()"
   ]
  },
  {
   "cell_type": "code",
   "execution_count": 64,
   "id": "ecological-balance",
   "metadata": {},
   "outputs": [
    {
     "data": {
      "text/html": [
       "<div>\n",
       "<style scoped>\n",
       "    .dataframe tbody tr th:only-of-type {\n",
       "        vertical-align: middle;\n",
       "    }\n",
       "\n",
       "    .dataframe tbody tr th {\n",
       "        vertical-align: top;\n",
       "    }\n",
       "\n",
       "    .dataframe thead th {\n",
       "        text-align: right;\n",
       "    }\n",
       "</style>\n",
       "<table border=\"1\" class=\"dataframe\">\n",
       "  <thead>\n",
       "    <tr style=\"text-align: right;\">\n",
       "      <th></th>\n",
       "      <th>Unnamed: 0</th>\n",
       "      <th>AveragePrice</th>\n",
       "      <th>Total Volume</th>\n",
       "      <th>4046</th>\n",
       "      <th>4225</th>\n",
       "      <th>4770</th>\n",
       "      <th>Total Bags</th>\n",
       "      <th>Small Bags</th>\n",
       "      <th>Large Bags</th>\n",
       "      <th>XLarge Bags</th>\n",
       "      <th>year</th>\n",
       "    </tr>\n",
       "  </thead>\n",
       "  <tbody>\n",
       "    <tr>\n",
       "      <th>count</th>\n",
       "      <td>18249.000000</td>\n",
       "      <td>18249.000000</td>\n",
       "      <td>1.824900e+04</td>\n",
       "      <td>1.824900e+04</td>\n",
       "      <td>1.824900e+04</td>\n",
       "      <td>1.824900e+04</td>\n",
       "      <td>1.824900e+04</td>\n",
       "      <td>1.824900e+04</td>\n",
       "      <td>1.824900e+04</td>\n",
       "      <td>18249.000000</td>\n",
       "      <td>18249.000000</td>\n",
       "    </tr>\n",
       "    <tr>\n",
       "      <th>mean</th>\n",
       "      <td>24.232232</td>\n",
       "      <td>1.405978</td>\n",
       "      <td>8.506440e+05</td>\n",
       "      <td>2.930084e+05</td>\n",
       "      <td>2.951546e+05</td>\n",
       "      <td>2.283974e+04</td>\n",
       "      <td>2.396392e+05</td>\n",
       "      <td>1.821947e+05</td>\n",
       "      <td>5.433809e+04</td>\n",
       "      <td>3106.426507</td>\n",
       "      <td>2016.147899</td>\n",
       "    </tr>\n",
       "    <tr>\n",
       "      <th>std</th>\n",
       "      <td>15.481045</td>\n",
       "      <td>0.402677</td>\n",
       "      <td>3.453545e+06</td>\n",
       "      <td>1.264989e+06</td>\n",
       "      <td>1.204120e+06</td>\n",
       "      <td>1.074641e+05</td>\n",
       "      <td>9.862424e+05</td>\n",
       "      <td>7.461785e+05</td>\n",
       "      <td>2.439660e+05</td>\n",
       "      <td>17692.894652</td>\n",
       "      <td>0.939938</td>\n",
       "    </tr>\n",
       "    <tr>\n",
       "      <th>min</th>\n",
       "      <td>0.000000</td>\n",
       "      <td>0.440000</td>\n",
       "      <td>8.456000e+01</td>\n",
       "      <td>0.000000e+00</td>\n",
       "      <td>0.000000e+00</td>\n",
       "      <td>0.000000e+00</td>\n",
       "      <td>0.000000e+00</td>\n",
       "      <td>0.000000e+00</td>\n",
       "      <td>0.000000e+00</td>\n",
       "      <td>0.000000</td>\n",
       "      <td>2015.000000</td>\n",
       "    </tr>\n",
       "    <tr>\n",
       "      <th>25%</th>\n",
       "      <td>10.000000</td>\n",
       "      <td>1.100000</td>\n",
       "      <td>1.083858e+04</td>\n",
       "      <td>8.540700e+02</td>\n",
       "      <td>3.008780e+03</td>\n",
       "      <td>0.000000e+00</td>\n",
       "      <td>5.088640e+03</td>\n",
       "      <td>2.849420e+03</td>\n",
       "      <td>1.274700e+02</td>\n",
       "      <td>0.000000</td>\n",
       "      <td>2015.000000</td>\n",
       "    </tr>\n",
       "    <tr>\n",
       "      <th>50%</th>\n",
       "      <td>24.000000</td>\n",
       "      <td>1.370000</td>\n",
       "      <td>1.073768e+05</td>\n",
       "      <td>8.645300e+03</td>\n",
       "      <td>2.906102e+04</td>\n",
       "      <td>1.849900e+02</td>\n",
       "      <td>3.974383e+04</td>\n",
       "      <td>2.636282e+04</td>\n",
       "      <td>2.647710e+03</td>\n",
       "      <td>0.000000</td>\n",
       "      <td>2016.000000</td>\n",
       "    </tr>\n",
       "    <tr>\n",
       "      <th>75%</th>\n",
       "      <td>38.000000</td>\n",
       "      <td>1.660000</td>\n",
       "      <td>4.329623e+05</td>\n",
       "      <td>1.110202e+05</td>\n",
       "      <td>1.502069e+05</td>\n",
       "      <td>6.243420e+03</td>\n",
       "      <td>1.107834e+05</td>\n",
       "      <td>8.333767e+04</td>\n",
       "      <td>2.202925e+04</td>\n",
       "      <td>132.500000</td>\n",
       "      <td>2017.000000</td>\n",
       "    </tr>\n",
       "    <tr>\n",
       "      <th>max</th>\n",
       "      <td>52.000000</td>\n",
       "      <td>3.250000</td>\n",
       "      <td>6.250565e+07</td>\n",
       "      <td>2.274362e+07</td>\n",
       "      <td>2.047057e+07</td>\n",
       "      <td>2.546439e+06</td>\n",
       "      <td>1.937313e+07</td>\n",
       "      <td>1.338459e+07</td>\n",
       "      <td>5.719097e+06</td>\n",
       "      <td>551693.650000</td>\n",
       "      <td>2018.000000</td>\n",
       "    </tr>\n",
       "  </tbody>\n",
       "</table>\n",
       "</div>"
      ],
      "text/plain": [
       "         Unnamed: 0  AveragePrice  Total Volume          4046          4225  \\\n",
       "count  18249.000000  18249.000000  1.824900e+04  1.824900e+04  1.824900e+04   \n",
       "mean      24.232232      1.405978  8.506440e+05  2.930084e+05  2.951546e+05   \n",
       "std       15.481045      0.402677  3.453545e+06  1.264989e+06  1.204120e+06   \n",
       "min        0.000000      0.440000  8.456000e+01  0.000000e+00  0.000000e+00   \n",
       "25%       10.000000      1.100000  1.083858e+04  8.540700e+02  3.008780e+03   \n",
       "50%       24.000000      1.370000  1.073768e+05  8.645300e+03  2.906102e+04   \n",
       "75%       38.000000      1.660000  4.329623e+05  1.110202e+05  1.502069e+05   \n",
       "max       52.000000      3.250000  6.250565e+07  2.274362e+07  2.047057e+07   \n",
       "\n",
       "               4770    Total Bags    Small Bags    Large Bags    XLarge Bags  \\\n",
       "count  1.824900e+04  1.824900e+04  1.824900e+04  1.824900e+04   18249.000000   \n",
       "mean   2.283974e+04  2.396392e+05  1.821947e+05  5.433809e+04    3106.426507   \n",
       "std    1.074641e+05  9.862424e+05  7.461785e+05  2.439660e+05   17692.894652   \n",
       "min    0.000000e+00  0.000000e+00  0.000000e+00  0.000000e+00       0.000000   \n",
       "25%    0.000000e+00  5.088640e+03  2.849420e+03  1.274700e+02       0.000000   \n",
       "50%    1.849900e+02  3.974383e+04  2.636282e+04  2.647710e+03       0.000000   \n",
       "75%    6.243420e+03  1.107834e+05  8.333767e+04  2.202925e+04     132.500000   \n",
       "max    2.546439e+06  1.937313e+07  1.338459e+07  5.719097e+06  551693.650000   \n",
       "\n",
       "               year  \n",
       "count  18249.000000  \n",
       "mean    2016.147899  \n",
       "std        0.939938  \n",
       "min     2015.000000  \n",
       "25%     2015.000000  \n",
       "50%     2016.000000  \n",
       "75%     2017.000000  \n",
       "max     2018.000000  "
      ]
     },
     "execution_count": 64,
     "metadata": {},
     "output_type": "execute_result"
    }
   ],
   "source": [
    "df.describe()"
   ]
  },
  {
   "cell_type": "code",
   "execution_count": 65,
   "id": "immune-thread",
   "metadata": {},
   "outputs": [
    {
     "data": {
      "text/html": [
       "<div>\n",
       "<style scoped>\n",
       "    .dataframe tbody tr th:only-of-type {\n",
       "        vertical-align: middle;\n",
       "    }\n",
       "\n",
       "    .dataframe tbody tr th {\n",
       "        vertical-align: top;\n",
       "    }\n",
       "\n",
       "    .dataframe thead th {\n",
       "        text-align: right;\n",
       "    }\n",
       "</style>\n",
       "<table border=\"1\" class=\"dataframe\">\n",
       "  <thead>\n",
       "    <tr style=\"text-align: right;\">\n",
       "      <th></th>\n",
       "      <th>count</th>\n",
       "      <th>mean</th>\n",
       "      <th>std</th>\n",
       "      <th>min</th>\n",
       "      <th>25%</th>\n",
       "      <th>50%</th>\n",
       "      <th>75%</th>\n",
       "      <th>max</th>\n",
       "    </tr>\n",
       "  </thead>\n",
       "  <tbody>\n",
       "    <tr>\n",
       "      <th>Unnamed: 0</th>\n",
       "      <td>18249.0</td>\n",
       "      <td>24.232232</td>\n",
       "      <td>1.548104e+01</td>\n",
       "      <td>0.00</td>\n",
       "      <td>10.00</td>\n",
       "      <td>24.00</td>\n",
       "      <td>38.00</td>\n",
       "      <td>52.00</td>\n",
       "    </tr>\n",
       "    <tr>\n",
       "      <th>AveragePrice</th>\n",
       "      <td>18249.0</td>\n",
       "      <td>1.405978</td>\n",
       "      <td>4.026766e-01</td>\n",
       "      <td>0.44</td>\n",
       "      <td>1.10</td>\n",
       "      <td>1.37</td>\n",
       "      <td>1.66</td>\n",
       "      <td>3.25</td>\n",
       "    </tr>\n",
       "    <tr>\n",
       "      <th>Total Volume</th>\n",
       "      <td>18249.0</td>\n",
       "      <td>850644.013009</td>\n",
       "      <td>3.453545e+06</td>\n",
       "      <td>84.56</td>\n",
       "      <td>10838.58</td>\n",
       "      <td>107376.76</td>\n",
       "      <td>432962.29</td>\n",
       "      <td>62505646.52</td>\n",
       "    </tr>\n",
       "    <tr>\n",
       "      <th>4046</th>\n",
       "      <td>18249.0</td>\n",
       "      <td>293008.424531</td>\n",
       "      <td>1.264989e+06</td>\n",
       "      <td>0.00</td>\n",
       "      <td>854.07</td>\n",
       "      <td>8645.30</td>\n",
       "      <td>111020.20</td>\n",
       "      <td>22743616.17</td>\n",
       "    </tr>\n",
       "    <tr>\n",
       "      <th>4225</th>\n",
       "      <td>18249.0</td>\n",
       "      <td>295154.568356</td>\n",
       "      <td>1.204120e+06</td>\n",
       "      <td>0.00</td>\n",
       "      <td>3008.78</td>\n",
       "      <td>29061.02</td>\n",
       "      <td>150206.86</td>\n",
       "      <td>20470572.61</td>\n",
       "    </tr>\n",
       "    <tr>\n",
       "      <th>4770</th>\n",
       "      <td>18249.0</td>\n",
       "      <td>22839.735993</td>\n",
       "      <td>1.074641e+05</td>\n",
       "      <td>0.00</td>\n",
       "      <td>0.00</td>\n",
       "      <td>184.99</td>\n",
       "      <td>6243.42</td>\n",
       "      <td>2546439.11</td>\n",
       "    </tr>\n",
       "    <tr>\n",
       "      <th>Total Bags</th>\n",
       "      <td>18249.0</td>\n",
       "      <td>239639.202060</td>\n",
       "      <td>9.862424e+05</td>\n",
       "      <td>0.00</td>\n",
       "      <td>5088.64</td>\n",
       "      <td>39743.83</td>\n",
       "      <td>110783.37</td>\n",
       "      <td>19373134.37</td>\n",
       "    </tr>\n",
       "    <tr>\n",
       "      <th>Small Bags</th>\n",
       "      <td>18249.0</td>\n",
       "      <td>182194.686696</td>\n",
       "      <td>7.461785e+05</td>\n",
       "      <td>0.00</td>\n",
       "      <td>2849.42</td>\n",
       "      <td>26362.82</td>\n",
       "      <td>83337.67</td>\n",
       "      <td>13384586.80</td>\n",
       "    </tr>\n",
       "    <tr>\n",
       "      <th>Large Bags</th>\n",
       "      <td>18249.0</td>\n",
       "      <td>54338.088145</td>\n",
       "      <td>2.439660e+05</td>\n",
       "      <td>0.00</td>\n",
       "      <td>127.47</td>\n",
       "      <td>2647.71</td>\n",
       "      <td>22029.25</td>\n",
       "      <td>5719096.61</td>\n",
       "    </tr>\n",
       "    <tr>\n",
       "      <th>XLarge Bags</th>\n",
       "      <td>18249.0</td>\n",
       "      <td>3106.426507</td>\n",
       "      <td>1.769289e+04</td>\n",
       "      <td>0.00</td>\n",
       "      <td>0.00</td>\n",
       "      <td>0.00</td>\n",
       "      <td>132.50</td>\n",
       "      <td>551693.65</td>\n",
       "    </tr>\n",
       "    <tr>\n",
       "      <th>year</th>\n",
       "      <td>18249.0</td>\n",
       "      <td>2016.147899</td>\n",
       "      <td>9.399385e-01</td>\n",
       "      <td>2015.00</td>\n",
       "      <td>2015.00</td>\n",
       "      <td>2016.00</td>\n",
       "      <td>2017.00</td>\n",
       "      <td>2018.00</td>\n",
       "    </tr>\n",
       "  </tbody>\n",
       "</table>\n",
       "</div>"
      ],
      "text/plain": [
       "                count           mean           std      min       25%  \\\n",
       "Unnamed: 0    18249.0      24.232232  1.548104e+01     0.00     10.00   \n",
       "AveragePrice  18249.0       1.405978  4.026766e-01     0.44      1.10   \n",
       "Total Volume  18249.0  850644.013009  3.453545e+06    84.56  10838.58   \n",
       "4046          18249.0  293008.424531  1.264989e+06     0.00    854.07   \n",
       "4225          18249.0  295154.568356  1.204120e+06     0.00   3008.78   \n",
       "4770          18249.0   22839.735993  1.074641e+05     0.00      0.00   \n",
       "Total Bags    18249.0  239639.202060  9.862424e+05     0.00   5088.64   \n",
       "Small Bags    18249.0  182194.686696  7.461785e+05     0.00   2849.42   \n",
       "Large Bags    18249.0   54338.088145  2.439660e+05     0.00    127.47   \n",
       "XLarge Bags   18249.0    3106.426507  1.769289e+04     0.00      0.00   \n",
       "year          18249.0    2016.147899  9.399385e-01  2015.00   2015.00   \n",
       "\n",
       "                    50%        75%          max  \n",
       "Unnamed: 0        24.00      38.00        52.00  \n",
       "AveragePrice       1.37       1.66         3.25  \n",
       "Total Volume  107376.76  432962.29  62505646.52  \n",
       "4046            8645.30  111020.20  22743616.17  \n",
       "4225           29061.02  150206.86  20470572.61  \n",
       "4770             184.99    6243.42   2546439.11  \n",
       "Total Bags     39743.83  110783.37  19373134.37  \n",
       "Small Bags     26362.82   83337.67  13384586.80  \n",
       "Large Bags      2647.71   22029.25   5719096.61  \n",
       "XLarge Bags        0.00     132.50    551693.65  \n",
       "year            2016.00    2017.00      2018.00  "
      ]
     },
     "execution_count": 65,
     "metadata": {},
     "output_type": "execute_result"
    }
   ],
   "source": [
    "df.describe().T"
   ]
  },
  {
   "cell_type": "code",
   "execution_count": 66,
   "id": "imperial-colony",
   "metadata": {},
   "outputs": [
    {
     "data": {
      "text/plain": [
       "pandas.core.frame.DataFrame"
      ]
     },
     "execution_count": 66,
     "metadata": {},
     "output_type": "execute_result"
    }
   ],
   "source": [
    "type(df.describe())"
   ]
  },
  {
   "cell_type": "code",
   "execution_count": 67,
   "id": "fuzzy-joining",
   "metadata": {},
   "outputs": [
    {
     "data": {
      "text/plain": [
       "Unnamed: 0          24.232232\n",
       "AveragePrice         1.405978\n",
       "Total Volume    850644.013009\n",
       "4046            293008.424531\n",
       "4225            295154.568356\n",
       "4770             22839.735993\n",
       "Total Bags      239639.202060\n",
       "Small Bags      182194.686696\n",
       "Large Bags       54338.088145\n",
       "XLarge Bags       3106.426507\n",
       "year              2016.147899\n",
       "dtype: float64"
      ]
     },
     "execution_count": 67,
     "metadata": {},
     "output_type": "execute_result"
    }
   ],
   "source": [
    "df.mean()"
   ]
  },
  {
   "cell_type": "code",
   "execution_count": 68,
   "id": "tracked-spain",
   "metadata": {},
   "outputs": [
    {
     "data": {
      "text/html": [
       "<div>\n",
       "<style scoped>\n",
       "    .dataframe tbody tr th:only-of-type {\n",
       "        vertical-align: middle;\n",
       "    }\n",
       "\n",
       "    .dataframe tbody tr th {\n",
       "        vertical-align: top;\n",
       "    }\n",
       "\n",
       "    .dataframe thead th {\n",
       "        text-align: right;\n",
       "    }\n",
       "</style>\n",
       "<table border=\"1\" class=\"dataframe\">\n",
       "  <thead>\n",
       "    <tr style=\"text-align: right;\">\n",
       "      <th></th>\n",
       "      <th>Unnamed: 0</th>\n",
       "      <th>Date</th>\n",
       "      <th>AveragePrice</th>\n",
       "      <th>Total Volume</th>\n",
       "      <th>4046</th>\n",
       "      <th>4225</th>\n",
       "      <th>4770</th>\n",
       "      <th>Total Bags</th>\n",
       "      <th>Small Bags</th>\n",
       "      <th>Large Bags</th>\n",
       "      <th>XLarge Bags</th>\n",
       "      <th>type</th>\n",
       "      <th>year</th>\n",
       "      <th>region</th>\n",
       "    </tr>\n",
       "  </thead>\n",
       "  <tbody>\n",
       "    <tr>\n",
       "      <th>11820</th>\n",
       "      <td>42</td>\n",
       "      <td>2015-03-08</td>\n",
       "      <td>1.49</td>\n",
       "      <td>783913.05</td>\n",
       "      <td>253078.17</td>\n",
       "      <td>327972.28</td>\n",
       "      <td>5658.7</td>\n",
       "      <td>197203.9</td>\n",
       "      <td>169302.64</td>\n",
       "      <td>27901.26</td>\n",
       "      <td>0.0</td>\n",
       "      <td>organic</td>\n",
       "      <td>2015</td>\n",
       "      <td>TotalUS</td>\n",
       "    </tr>\n",
       "  </tbody>\n",
       "</table>\n",
       "</div>"
      ],
      "text/plain": [
       "       Unnamed: 0        Date  AveragePrice  Total Volume       4046  \\\n",
       "11820          42  2015-03-08          1.49     783913.05  253078.17   \n",
       "\n",
       "            4225    4770  Total Bags  Small Bags  Large Bags  XLarge Bags  \\\n",
       "11820  327972.28  5658.7    197203.9   169302.64    27901.26          0.0   \n",
       "\n",
       "          type  year   region  \n",
       "11820  organic  2015  TotalUS  "
      ]
     },
     "execution_count": 68,
     "metadata": {},
     "output_type": "execute_result"
    }
   ],
   "source": [
    "df.sample()"
   ]
  },
  {
   "cell_type": "code",
   "execution_count": 69,
   "id": "appointed-salad",
   "metadata": {},
   "outputs": [
    {
     "data": {
      "text/plain": [
       "1.405978409775878"
      ]
     },
     "execution_count": 69,
     "metadata": {},
     "output_type": "execute_result"
    }
   ],
   "source": [
    "df.AveragePrice.mean()"
   ]
  },
  {
   "cell_type": "code",
   "execution_count": 70,
   "id": "caroline-village",
   "metadata": {},
   "outputs": [
    {
     "data": {
      "text/plain": [
       "850644.0130089321"
      ]
     },
     "execution_count": 70,
     "metadata": {},
     "output_type": "execute_result"
    }
   ],
   "source": [
    "df[\"Total Volume\"].mean()"
   ]
  },
  {
   "cell_type": "code",
   "execution_count": 71,
   "id": "african-stanley",
   "metadata": {},
   "outputs": [
    {
     "data": {
      "text/plain": [
       "84.56"
      ]
     },
     "execution_count": 71,
     "metadata": {},
     "output_type": "execute_result"
    }
   ],
   "source": [
    "df[\"Total Volume\"].min()"
   ]
  },
  {
   "cell_type": "code",
   "execution_count": 72,
   "id": "female-county",
   "metadata": {},
   "outputs": [
    {
     "data": {
      "text/plain": [
       "62505646.52"
      ]
     },
     "execution_count": 72,
     "metadata": {},
     "output_type": "execute_result"
    }
   ],
   "source": [
    "df[\"Total Volume\"].max()"
   ]
  },
  {
   "cell_type": "code",
   "execution_count": 73,
   "id": "funny-cyprus",
   "metadata": {},
   "outputs": [
    {
     "data": {
      "text/plain": [
       "3453545.3553994712"
      ]
     },
     "execution_count": 73,
     "metadata": {},
     "output_type": "execute_result"
    }
   ],
   "source": [
    "df[\"Total Volume\"].std()"
   ]
  },
  {
   "cell_type": "code",
   "execution_count": 74,
   "id": "bacterial-colors",
   "metadata": {},
   "outputs": [
    {
     "data": {
      "text/plain": [
       "conventional    9126\n",
       "organic         9123\n",
       "Name: type, dtype: int64"
      ]
     },
     "execution_count": 74,
     "metadata": {},
     "output_type": "execute_result"
    }
   ],
   "source": [
    "df.type.value_counts()"
   ]
  },
  {
   "cell_type": "code",
   "execution_count": 75,
   "id": "eleven-watson",
   "metadata": {},
   "outputs": [
    {
     "data": {
      "text/html": [
       "<div>\n",
       "<style scoped>\n",
       "    .dataframe tbody tr th:only-of-type {\n",
       "        vertical-align: middle;\n",
       "    }\n",
       "\n",
       "    .dataframe tbody tr th {\n",
       "        vertical-align: top;\n",
       "    }\n",
       "\n",
       "    .dataframe thead th {\n",
       "        text-align: right;\n",
       "    }\n",
       "</style>\n",
       "<table border=\"1\" class=\"dataframe\">\n",
       "  <thead>\n",
       "    <tr style=\"text-align: right;\">\n",
       "      <th></th>\n",
       "      <th>Unnamed: 0</th>\n",
       "      <th>Date</th>\n",
       "      <th>AveragePrice</th>\n",
       "      <th>Total Volume</th>\n",
       "      <th>4046</th>\n",
       "      <th>4225</th>\n",
       "      <th>4770</th>\n",
       "      <th>Total Bags</th>\n",
       "      <th>Small Bags</th>\n",
       "      <th>Large Bags</th>\n",
       "      <th>XLarge Bags</th>\n",
       "      <th>type</th>\n",
       "      <th>year</th>\n",
       "      <th>region</th>\n",
       "    </tr>\n",
       "  </thead>\n",
       "  <tbody>\n",
       "    <tr>\n",
       "      <th>14865</th>\n",
       "      <td>18</td>\n",
       "      <td>2017-08-27</td>\n",
       "      <td>1.82</td>\n",
       "      <td>41523.58</td>\n",
       "      <td>4097.95</td>\n",
       "      <td>8674.09</td>\n",
       "      <td>66.86</td>\n",
       "      <td>28684.68</td>\n",
       "      <td>28684.68</td>\n",
       "      <td>0.0</td>\n",
       "      <td>0.0</td>\n",
       "      <td>organic</td>\n",
       "      <td>2017</td>\n",
       "      <td>BaltimoreWashington</td>\n",
       "    </tr>\n",
       "  </tbody>\n",
       "</table>\n",
       "</div>"
      ],
      "text/plain": [
       "       Unnamed: 0        Date  AveragePrice  Total Volume     4046     4225  \\\n",
       "14865          18  2017-08-27          1.82      41523.58  4097.95  8674.09   \n",
       "\n",
       "        4770  Total Bags  Small Bags  Large Bags  XLarge Bags     type  year  \\\n",
       "14865  66.86    28684.68    28684.68         0.0          0.0  organic  2017   \n",
       "\n",
       "                    region  \n",
       "14865  BaltimoreWashington  "
      ]
     },
     "execution_count": 75,
     "metadata": {},
     "output_type": "execute_result"
    }
   ],
   "source": [
    "df.sample()"
   ]
  },
  {
   "cell_type": "code",
   "execution_count": 76,
   "id": "05c30765",
   "metadata": {},
   "outputs": [
    {
     "data": {
      "text/plain": [
       "LosAngeles             338\n",
       "GreatLakes             338\n",
       "Charlotte              338\n",
       "Seattle                338\n",
       "Portland               338\n",
       "MiamiFtLauderdale      338\n",
       "Northeast              338\n",
       "Pittsburgh             338\n",
       "GrandRapids            338\n",
       "Chicago                338\n",
       "Philadelphia           338\n",
       "NorthernNewEngland     338\n",
       "SouthCarolina          338\n",
       "Syracuse               338\n",
       "CincinnatiDayton       338\n",
       "BaltimoreWashington    338\n",
       "StLouis                338\n",
       "Louisville             338\n",
       "PhoenixTucson          338\n",
       "Detroit                338\n",
       "Orlando                338\n",
       "Midsouth               338\n",
       "Atlanta                338\n",
       "HarrisburgScranton     338\n",
       "LasVegas               338\n",
       "NewYork                338\n",
       "SanDiego               338\n",
       "Spokane                338\n",
       "Tampa                  338\n",
       "Columbus               338\n",
       "Nashville              338\n",
       "California             338\n",
       "DallasFtWorth          338\n",
       "SanFrancisco           338\n",
       "Albany                 338\n",
       "Plains                 338\n",
       "Houston                338\n",
       "Roanoke                338\n",
       "TotalUS                338\n",
       "SouthCentral           338\n",
       "RichmondNorfolk        338\n",
       "Sacramento             338\n",
       "West                   338\n",
       "Boise                  338\n",
       "Southeast              338\n",
       "NewOrleansMobile       338\n",
       "RaleighGreensboro      338\n",
       "HartfordSpringfield    338\n",
       "BuffaloRochester       338\n",
       "Jacksonville           338\n",
       "Denver                 338\n",
       "Boston                 338\n",
       "Indianapolis           338\n",
       "WestTexNewMexico       335\n",
       "Name: region, dtype: int64"
      ]
     },
     "execution_count": 76,
     "metadata": {},
     "output_type": "execute_result"
    }
   ],
   "source": [
    "df.region.value_counts()"
   ]
  },
  {
   "cell_type": "code",
   "execution_count": 77,
   "id": "ebc10a4b",
   "metadata": {},
   "outputs": [],
   "source": [
    "#df[\"Large Bags\"].value_counts()"
   ]
  },
  {
   "cell_type": "code",
   "execution_count": 78,
   "id": "behavioral-forest",
   "metadata": {},
   "outputs": [],
   "source": [
    "# Seleccionamos las columnas cuyo tipo de dato es int64\n",
    "numericas = df._get_numeric_data()"
   ]
  },
  {
   "cell_type": "code",
   "execution_count": 79,
   "id": "responsible-liberty",
   "metadata": {},
   "outputs": [
    {
     "data": {
      "text/html": [
       "<div>\n",
       "<style scoped>\n",
       "    .dataframe tbody tr th:only-of-type {\n",
       "        vertical-align: middle;\n",
       "    }\n",
       "\n",
       "    .dataframe tbody tr th {\n",
       "        vertical-align: top;\n",
       "    }\n",
       "\n",
       "    .dataframe thead th {\n",
       "        text-align: right;\n",
       "    }\n",
       "</style>\n",
       "<table border=\"1\" class=\"dataframe\">\n",
       "  <thead>\n",
       "    <tr style=\"text-align: right;\">\n",
       "      <th></th>\n",
       "      <th>Unnamed: 0</th>\n",
       "      <th>AveragePrice</th>\n",
       "      <th>Total Volume</th>\n",
       "      <th>4046</th>\n",
       "      <th>4225</th>\n",
       "      <th>4770</th>\n",
       "      <th>Total Bags</th>\n",
       "      <th>Small Bags</th>\n",
       "      <th>Large Bags</th>\n",
       "      <th>XLarge Bags</th>\n",
       "      <th>year</th>\n",
       "    </tr>\n",
       "  </thead>\n",
       "  <tbody>\n",
       "    <tr>\n",
       "      <th>0</th>\n",
       "      <td>0</td>\n",
       "      <td>1.33</td>\n",
       "      <td>64236.62</td>\n",
       "      <td>1036.74</td>\n",
       "      <td>54454.85</td>\n",
       "      <td>48.16</td>\n",
       "      <td>8696.87</td>\n",
       "      <td>8603.62</td>\n",
       "      <td>93.25</td>\n",
       "      <td>0.0</td>\n",
       "      <td>2015</td>\n",
       "    </tr>\n",
       "    <tr>\n",
       "      <th>1</th>\n",
       "      <td>1</td>\n",
       "      <td>1.35</td>\n",
       "      <td>54876.98</td>\n",
       "      <td>674.28</td>\n",
       "      <td>44638.81</td>\n",
       "      <td>58.33</td>\n",
       "      <td>9505.56</td>\n",
       "      <td>9408.07</td>\n",
       "      <td>97.49</td>\n",
       "      <td>0.0</td>\n",
       "      <td>2015</td>\n",
       "    </tr>\n",
       "    <tr>\n",
       "      <th>2</th>\n",
       "      <td>2</td>\n",
       "      <td>0.93</td>\n",
       "      <td>118220.22</td>\n",
       "      <td>794.70</td>\n",
       "      <td>109149.67</td>\n",
       "      <td>130.50</td>\n",
       "      <td>8145.35</td>\n",
       "      <td>8042.21</td>\n",
       "      <td>103.14</td>\n",
       "      <td>0.0</td>\n",
       "      <td>2015</td>\n",
       "    </tr>\n",
       "    <tr>\n",
       "      <th>3</th>\n",
       "      <td>3</td>\n",
       "      <td>1.08</td>\n",
       "      <td>78992.15</td>\n",
       "      <td>1132.00</td>\n",
       "      <td>71976.41</td>\n",
       "      <td>72.58</td>\n",
       "      <td>5811.16</td>\n",
       "      <td>5677.40</td>\n",
       "      <td>133.76</td>\n",
       "      <td>0.0</td>\n",
       "      <td>2015</td>\n",
       "    </tr>\n",
       "    <tr>\n",
       "      <th>4</th>\n",
       "      <td>4</td>\n",
       "      <td>1.28</td>\n",
       "      <td>51039.60</td>\n",
       "      <td>941.48</td>\n",
       "      <td>43838.39</td>\n",
       "      <td>75.78</td>\n",
       "      <td>6183.95</td>\n",
       "      <td>5986.26</td>\n",
       "      <td>197.69</td>\n",
       "      <td>0.0</td>\n",
       "      <td>2015</td>\n",
       "    </tr>\n",
       "    <tr>\n",
       "      <th>...</th>\n",
       "      <td>...</td>\n",
       "      <td>...</td>\n",
       "      <td>...</td>\n",
       "      <td>...</td>\n",
       "      <td>...</td>\n",
       "      <td>...</td>\n",
       "      <td>...</td>\n",
       "      <td>...</td>\n",
       "      <td>...</td>\n",
       "      <td>...</td>\n",
       "      <td>...</td>\n",
       "    </tr>\n",
       "    <tr>\n",
       "      <th>18244</th>\n",
       "      <td>7</td>\n",
       "      <td>1.63</td>\n",
       "      <td>17074.83</td>\n",
       "      <td>2046.96</td>\n",
       "      <td>1529.20</td>\n",
       "      <td>0.00</td>\n",
       "      <td>13498.67</td>\n",
       "      <td>13066.82</td>\n",
       "      <td>431.85</td>\n",
       "      <td>0.0</td>\n",
       "      <td>2018</td>\n",
       "    </tr>\n",
       "    <tr>\n",
       "      <th>18245</th>\n",
       "      <td>8</td>\n",
       "      <td>1.71</td>\n",
       "      <td>13888.04</td>\n",
       "      <td>1191.70</td>\n",
       "      <td>3431.50</td>\n",
       "      <td>0.00</td>\n",
       "      <td>9264.84</td>\n",
       "      <td>8940.04</td>\n",
       "      <td>324.80</td>\n",
       "      <td>0.0</td>\n",
       "      <td>2018</td>\n",
       "    </tr>\n",
       "    <tr>\n",
       "      <th>18246</th>\n",
       "      <td>9</td>\n",
       "      <td>1.87</td>\n",
       "      <td>13766.76</td>\n",
       "      <td>1191.92</td>\n",
       "      <td>2452.79</td>\n",
       "      <td>727.94</td>\n",
       "      <td>9394.11</td>\n",
       "      <td>9351.80</td>\n",
       "      <td>42.31</td>\n",
       "      <td>0.0</td>\n",
       "      <td>2018</td>\n",
       "    </tr>\n",
       "    <tr>\n",
       "      <th>18247</th>\n",
       "      <td>10</td>\n",
       "      <td>1.93</td>\n",
       "      <td>16205.22</td>\n",
       "      <td>1527.63</td>\n",
       "      <td>2981.04</td>\n",
       "      <td>727.01</td>\n",
       "      <td>10969.54</td>\n",
       "      <td>10919.54</td>\n",
       "      <td>50.00</td>\n",
       "      <td>0.0</td>\n",
       "      <td>2018</td>\n",
       "    </tr>\n",
       "    <tr>\n",
       "      <th>18248</th>\n",
       "      <td>11</td>\n",
       "      <td>1.62</td>\n",
       "      <td>17489.58</td>\n",
       "      <td>2894.77</td>\n",
       "      <td>2356.13</td>\n",
       "      <td>224.53</td>\n",
       "      <td>12014.15</td>\n",
       "      <td>11988.14</td>\n",
       "      <td>26.01</td>\n",
       "      <td>0.0</td>\n",
       "      <td>2018</td>\n",
       "    </tr>\n",
       "  </tbody>\n",
       "</table>\n",
       "<p>18249 rows × 11 columns</p>\n",
       "</div>"
      ],
      "text/plain": [
       "       Unnamed: 0  AveragePrice  Total Volume     4046       4225    4770  \\\n",
       "0               0          1.33      64236.62  1036.74   54454.85   48.16   \n",
       "1               1          1.35      54876.98   674.28   44638.81   58.33   \n",
       "2               2          0.93     118220.22   794.70  109149.67  130.50   \n",
       "3               3          1.08      78992.15  1132.00   71976.41   72.58   \n",
       "4               4          1.28      51039.60   941.48   43838.39   75.78   \n",
       "...           ...           ...           ...      ...        ...     ...   \n",
       "18244           7          1.63      17074.83  2046.96    1529.20    0.00   \n",
       "18245           8          1.71      13888.04  1191.70    3431.50    0.00   \n",
       "18246           9          1.87      13766.76  1191.92    2452.79  727.94   \n",
       "18247          10          1.93      16205.22  1527.63    2981.04  727.01   \n",
       "18248          11          1.62      17489.58  2894.77    2356.13  224.53   \n",
       "\n",
       "       Total Bags  Small Bags  Large Bags  XLarge Bags  year  \n",
       "0         8696.87     8603.62       93.25          0.0  2015  \n",
       "1         9505.56     9408.07       97.49          0.0  2015  \n",
       "2         8145.35     8042.21      103.14          0.0  2015  \n",
       "3         5811.16     5677.40      133.76          0.0  2015  \n",
       "4         6183.95     5986.26      197.69          0.0  2015  \n",
       "...           ...         ...         ...          ...   ...  \n",
       "18244    13498.67    13066.82      431.85          0.0  2018  \n",
       "18245     9264.84     8940.04      324.80          0.0  2018  \n",
       "18246     9394.11     9351.80       42.31          0.0  2018  \n",
       "18247    10969.54    10919.54       50.00          0.0  2018  \n",
       "18248    12014.15    11988.14       26.01          0.0  2018  \n",
       "\n",
       "[18249 rows x 11 columns]"
      ]
     },
     "execution_count": 79,
     "metadata": {},
     "output_type": "execute_result"
    }
   ],
   "source": [
    "numericas"
   ]
  },
  {
   "cell_type": "code",
   "execution_count": 80,
   "id": "assigned-scanner",
   "metadata": {},
   "outputs": [
    {
     "data": {
      "text/html": [
       "<div>\n",
       "<style scoped>\n",
       "    .dataframe tbody tr th:only-of-type {\n",
       "        vertical-align: middle;\n",
       "    }\n",
       "\n",
       "    .dataframe tbody tr th {\n",
       "        vertical-align: top;\n",
       "    }\n",
       "\n",
       "    .dataframe thead th {\n",
       "        text-align: right;\n",
       "    }\n",
       "</style>\n",
       "<table border=\"1\" class=\"dataframe\">\n",
       "  <thead>\n",
       "    <tr style=\"text-align: right;\">\n",
       "      <th></th>\n",
       "      <th>Date</th>\n",
       "      <th>type</th>\n",
       "      <th>region</th>\n",
       "    </tr>\n",
       "  </thead>\n",
       "  <tbody>\n",
       "    <tr>\n",
       "      <th>0</th>\n",
       "      <td>2015-12-27</td>\n",
       "      <td>conventional</td>\n",
       "      <td>Albany</td>\n",
       "    </tr>\n",
       "    <tr>\n",
       "      <th>1</th>\n",
       "      <td>2015-12-20</td>\n",
       "      <td>conventional</td>\n",
       "      <td>Albany</td>\n",
       "    </tr>\n",
       "    <tr>\n",
       "      <th>2</th>\n",
       "      <td>2015-12-13</td>\n",
       "      <td>conventional</td>\n",
       "      <td>Albany</td>\n",
       "    </tr>\n",
       "    <tr>\n",
       "      <th>3</th>\n",
       "      <td>2015-12-06</td>\n",
       "      <td>conventional</td>\n",
       "      <td>Albany</td>\n",
       "    </tr>\n",
       "    <tr>\n",
       "      <th>4</th>\n",
       "      <td>2015-11-29</td>\n",
       "      <td>conventional</td>\n",
       "      <td>Albany</td>\n",
       "    </tr>\n",
       "  </tbody>\n",
       "</table>\n",
       "</div>"
      ],
      "text/plain": [
       "         Date          type  region\n",
       "0  2015-12-27  conventional  Albany\n",
       "1  2015-12-20  conventional  Albany\n",
       "2  2015-12-13  conventional  Albany\n",
       "3  2015-12-06  conventional  Albany\n",
       "4  2015-11-29  conventional  Albany"
      ]
     },
     "execution_count": 80,
     "metadata": {},
     "output_type": "execute_result"
    }
   ],
   "source": [
    "# Podemos incluir y excluir\n",
    "df.select_dtypes(include=\"object\").head()"
   ]
  },
  {
   "cell_type": "code",
   "execution_count": 81,
   "id": "interpreted-phase",
   "metadata": {},
   "outputs": [
    {
     "data": {
      "text/html": [
       "<div>\n",
       "<style scoped>\n",
       "    .dataframe tbody tr th:only-of-type {\n",
       "        vertical-align: middle;\n",
       "    }\n",
       "\n",
       "    .dataframe tbody tr th {\n",
       "        vertical-align: top;\n",
       "    }\n",
       "\n",
       "    .dataframe thead th {\n",
       "        text-align: right;\n",
       "    }\n",
       "</style>\n",
       "<table border=\"1\" class=\"dataframe\">\n",
       "  <thead>\n",
       "    <tr style=\"text-align: right;\">\n",
       "      <th></th>\n",
       "      <th>AveragePrice</th>\n",
       "      <th>Total Volume</th>\n",
       "      <th>4046</th>\n",
       "      <th>4225</th>\n",
       "      <th>4770</th>\n",
       "      <th>Total Bags</th>\n",
       "      <th>Small Bags</th>\n",
       "      <th>Large Bags</th>\n",
       "      <th>XLarge Bags</th>\n",
       "    </tr>\n",
       "  </thead>\n",
       "  <tbody>\n",
       "    <tr>\n",
       "      <th>0</th>\n",
       "      <td>1.33</td>\n",
       "      <td>64236.62</td>\n",
       "      <td>1036.74</td>\n",
       "      <td>54454.85</td>\n",
       "      <td>48.16</td>\n",
       "      <td>8696.87</td>\n",
       "      <td>8603.62</td>\n",
       "      <td>93.25</td>\n",
       "      <td>0.0</td>\n",
       "    </tr>\n",
       "    <tr>\n",
       "      <th>1</th>\n",
       "      <td>1.35</td>\n",
       "      <td>54876.98</td>\n",
       "      <td>674.28</td>\n",
       "      <td>44638.81</td>\n",
       "      <td>58.33</td>\n",
       "      <td>9505.56</td>\n",
       "      <td>9408.07</td>\n",
       "      <td>97.49</td>\n",
       "      <td>0.0</td>\n",
       "    </tr>\n",
       "    <tr>\n",
       "      <th>2</th>\n",
       "      <td>0.93</td>\n",
       "      <td>118220.22</td>\n",
       "      <td>794.70</td>\n",
       "      <td>109149.67</td>\n",
       "      <td>130.50</td>\n",
       "      <td>8145.35</td>\n",
       "      <td>8042.21</td>\n",
       "      <td>103.14</td>\n",
       "      <td>0.0</td>\n",
       "    </tr>\n",
       "    <tr>\n",
       "      <th>3</th>\n",
       "      <td>1.08</td>\n",
       "      <td>78992.15</td>\n",
       "      <td>1132.00</td>\n",
       "      <td>71976.41</td>\n",
       "      <td>72.58</td>\n",
       "      <td>5811.16</td>\n",
       "      <td>5677.40</td>\n",
       "      <td>133.76</td>\n",
       "      <td>0.0</td>\n",
       "    </tr>\n",
       "    <tr>\n",
       "      <th>4</th>\n",
       "      <td>1.28</td>\n",
       "      <td>51039.60</td>\n",
       "      <td>941.48</td>\n",
       "      <td>43838.39</td>\n",
       "      <td>75.78</td>\n",
       "      <td>6183.95</td>\n",
       "      <td>5986.26</td>\n",
       "      <td>197.69</td>\n",
       "      <td>0.0</td>\n",
       "    </tr>\n",
       "  </tbody>\n",
       "</table>\n",
       "</div>"
      ],
      "text/plain": [
       "   AveragePrice  Total Volume     4046       4225    4770  Total Bags  \\\n",
       "0          1.33      64236.62  1036.74   54454.85   48.16     8696.87   \n",
       "1          1.35      54876.98   674.28   44638.81   58.33     9505.56   \n",
       "2          0.93     118220.22   794.70  109149.67  130.50     8145.35   \n",
       "3          1.08      78992.15  1132.00   71976.41   72.58     5811.16   \n",
       "4          1.28      51039.60   941.48   43838.39   75.78     6183.95   \n",
       "\n",
       "   Small Bags  Large Bags  XLarge Bags  \n",
       "0     8603.62       93.25          0.0  \n",
       "1     9408.07       97.49          0.0  \n",
       "2     8042.21      103.14          0.0  \n",
       "3     5677.40      133.76          0.0  \n",
       "4     5986.26      197.69          0.0  "
      ]
     },
     "execution_count": 81,
     "metadata": {},
     "output_type": "execute_result"
    }
   ],
   "source": [
    "df.select_dtypes( include=\"float\").head()"
   ]
  },
  {
   "cell_type": "code",
   "execution_count": 82,
   "id": "b4840d9c",
   "metadata": {},
   "outputs": [
    {
     "data": {
      "text/html": [
       "<div>\n",
       "<style scoped>\n",
       "    .dataframe tbody tr th:only-of-type {\n",
       "        vertical-align: middle;\n",
       "    }\n",
       "\n",
       "    .dataframe tbody tr th {\n",
       "        vertical-align: top;\n",
       "    }\n",
       "\n",
       "    .dataframe thead th {\n",
       "        text-align: right;\n",
       "    }\n",
       "</style>\n",
       "<table border=\"1\" class=\"dataframe\">\n",
       "  <thead>\n",
       "    <tr style=\"text-align: right;\">\n",
       "      <th></th>\n",
       "      <th>Unnamed: 0</th>\n",
       "      <th>Date</th>\n",
       "      <th>AveragePrice</th>\n",
       "      <th>Total Volume</th>\n",
       "      <th>4046</th>\n",
       "      <th>4225</th>\n",
       "      <th>4770</th>\n",
       "      <th>Total Bags</th>\n",
       "      <th>Small Bags</th>\n",
       "      <th>Large Bags</th>\n",
       "      <th>XLarge Bags</th>\n",
       "      <th>type</th>\n",
       "      <th>year</th>\n",
       "      <th>region</th>\n",
       "    </tr>\n",
       "  </thead>\n",
       "  <tbody>\n",
       "    <tr>\n",
       "      <th>11747</th>\n",
       "      <td>21</td>\n",
       "      <td>2015-08-02</td>\n",
       "      <td>1.5</td>\n",
       "      <td>1200.48</td>\n",
       "      <td>7.15</td>\n",
       "      <td>0.0</td>\n",
       "      <td>0.0</td>\n",
       "      <td>1193.33</td>\n",
       "      <td>1193.33</td>\n",
       "      <td>0.0</td>\n",
       "      <td>0.0</td>\n",
       "      <td>organic</td>\n",
       "      <td>2015</td>\n",
       "      <td>Tampa</td>\n",
       "    </tr>\n",
       "  </tbody>\n",
       "</table>\n",
       "</div>"
      ],
      "text/plain": [
       "       Unnamed: 0        Date  AveragePrice  Total Volume  4046  4225  4770  \\\n",
       "11747          21  2015-08-02           1.5       1200.48  7.15   0.0   0.0   \n",
       "\n",
       "       Total Bags  Small Bags  Large Bags  XLarge Bags     type  year region  \n",
       "11747     1193.33     1193.33         0.0          0.0  organic  2015  Tampa  "
      ]
     },
     "execution_count": 82,
     "metadata": {},
     "output_type": "execute_result"
    }
   ],
   "source": [
    "df.sample()"
   ]
  },
  {
   "cell_type": "markdown",
   "id": "varying-candy",
   "metadata": {},
   "source": [
    "## Operaciones básicas con los dataframes"
   ]
  },
  {
   "cell_type": "markdown",
   "id": "higher-bridges",
   "metadata": {},
   "source": [
    "### Seleccionamos una columna"
   ]
  },
  {
   "cell_type": "code",
   "execution_count": 83,
   "id": "harmful-breeding",
   "metadata": {
    "scrolled": true
   },
   "outputs": [
    {
     "data": {
      "text/plain": [
       "0         64236.62\n",
       "1         54876.98\n",
       "2        118220.22\n",
       "3         78992.15\n",
       "4         51039.60\n",
       "           ...    \n",
       "18244     17074.83\n",
       "18245     13888.04\n",
       "18246     13766.76\n",
       "18247     16205.22\n",
       "18248     17489.58\n",
       "Name: Total Volume, Length: 18249, dtype: float64"
      ]
     },
     "execution_count": 83,
     "metadata": {},
     "output_type": "execute_result"
    }
   ],
   "source": [
    "df[\"Total Volume\"]"
   ]
  },
  {
   "cell_type": "code",
   "execution_count": 84,
   "id": "proof-township",
   "metadata": {},
   "outputs": [
    {
     "data": {
      "text/plain": [
       "0         8696.87\n",
       "1         9505.56\n",
       "2         8145.35\n",
       "3         5811.16\n",
       "4         6183.95\n",
       "           ...   \n",
       "18244    13498.67\n",
       "18245     9264.84\n",
       "18246     9394.11\n",
       "18247    10969.54\n",
       "18248    12014.15\n",
       "Name: Total Bags, Length: 18249, dtype: float64"
      ]
     },
     "execution_count": 84,
     "metadata": {},
     "output_type": "execute_result"
    }
   ],
   "source": [
    "# Tengo una serie de pandas\n",
    "unacolumna = df[\"Total Bags\"]\n",
    "unacolumna"
   ]
  },
  {
   "cell_type": "code",
   "execution_count": 85,
   "id": "junior-stephen",
   "metadata": {},
   "outputs": [],
   "source": [
    "# Si solo pongo unos corchetes, tengo una serie de pandas"
   ]
  },
  {
   "cell_type": "code",
   "execution_count": 86,
   "id": "inside-viking",
   "metadata": {},
   "outputs": [
    {
     "data": {
      "text/html": [
       "<div>\n",
       "<style scoped>\n",
       "    .dataframe tbody tr th:only-of-type {\n",
       "        vertical-align: middle;\n",
       "    }\n",
       "\n",
       "    .dataframe tbody tr th {\n",
       "        vertical-align: top;\n",
       "    }\n",
       "\n",
       "    .dataframe thead th {\n",
       "        text-align: right;\n",
       "    }\n",
       "</style>\n",
       "<table border=\"1\" class=\"dataframe\">\n",
       "  <thead>\n",
       "    <tr style=\"text-align: right;\">\n",
       "      <th></th>\n",
       "      <th>Total Bags</th>\n",
       "    </tr>\n",
       "  </thead>\n",
       "  <tbody>\n",
       "    <tr>\n",
       "      <th>0</th>\n",
       "      <td>8696.87</td>\n",
       "    </tr>\n",
       "    <tr>\n",
       "      <th>1</th>\n",
       "      <td>9505.56</td>\n",
       "    </tr>\n",
       "    <tr>\n",
       "      <th>2</th>\n",
       "      <td>8145.35</td>\n",
       "    </tr>\n",
       "    <tr>\n",
       "      <th>3</th>\n",
       "      <td>5811.16</td>\n",
       "    </tr>\n",
       "    <tr>\n",
       "      <th>4</th>\n",
       "      <td>6183.95</td>\n",
       "    </tr>\n",
       "  </tbody>\n",
       "</table>\n",
       "</div>"
      ],
      "text/plain": [
       "   Total Bags\n",
       "0     8696.87\n",
       "1     9505.56\n",
       "2     8145.35\n",
       "3     5811.16\n",
       "4     6183.95"
      ]
     },
     "execution_count": 86,
     "metadata": {},
     "output_type": "execute_result"
    }
   ],
   "source": [
    "unacolumna_dataframe = df[[\"Total Bags\"]]\n",
    "unacolumna_dataframe.head()"
   ]
  },
  {
   "cell_type": "code",
   "execution_count": 87,
   "id": "driving-writer",
   "metadata": {},
   "outputs": [],
   "source": [
    "# Si a pesar de pasarle una lista, solo tiene un elemento, tengo un dataframe con una sola columna"
   ]
  },
  {
   "cell_type": "code",
   "execution_count": 88,
   "id": "ancient-trouble",
   "metadata": {},
   "outputs": [],
   "source": [
    "# O dos :), o las que queramos"
   ]
  },
  {
   "cell_type": "markdown",
   "id": "industrial-amazon",
   "metadata": {},
   "source": [
    "### Seleccionamos varias columnas"
   ]
  },
  {
   "cell_type": "code",
   "execution_count": 89,
   "id": "dense-decimal",
   "metadata": {},
   "outputs": [],
   "source": [
    "dos = df[[\"Total Bags\", \"AveragePrice\", \"region\"]]"
   ]
  },
  {
   "cell_type": "code",
   "execution_count": 90,
   "id": "00ed22c6",
   "metadata": {},
   "outputs": [
    {
     "data": {
      "text/html": [
       "<div>\n",
       "<style scoped>\n",
       "    .dataframe tbody tr th:only-of-type {\n",
       "        vertical-align: middle;\n",
       "    }\n",
       "\n",
       "    .dataframe tbody tr th {\n",
       "        vertical-align: top;\n",
       "    }\n",
       "\n",
       "    .dataframe thead th {\n",
       "        text-align: right;\n",
       "    }\n",
       "</style>\n",
       "<table border=\"1\" class=\"dataframe\">\n",
       "  <thead>\n",
       "    <tr style=\"text-align: right;\">\n",
       "      <th></th>\n",
       "      <th>Total Bags</th>\n",
       "      <th>AveragePrice</th>\n",
       "      <th>region</th>\n",
       "    </tr>\n",
       "  </thead>\n",
       "  <tbody>\n",
       "    <tr>\n",
       "      <th>0</th>\n",
       "      <td>8696.87</td>\n",
       "      <td>1.33</td>\n",
       "      <td>Albany</td>\n",
       "    </tr>\n",
       "    <tr>\n",
       "      <th>1</th>\n",
       "      <td>9505.56</td>\n",
       "      <td>1.35</td>\n",
       "      <td>Albany</td>\n",
       "    </tr>\n",
       "    <tr>\n",
       "      <th>2</th>\n",
       "      <td>8145.35</td>\n",
       "      <td>0.93</td>\n",
       "      <td>Albany</td>\n",
       "    </tr>\n",
       "    <tr>\n",
       "      <th>3</th>\n",
       "      <td>5811.16</td>\n",
       "      <td>1.08</td>\n",
       "      <td>Albany</td>\n",
       "    </tr>\n",
       "    <tr>\n",
       "      <th>4</th>\n",
       "      <td>6183.95</td>\n",
       "      <td>1.28</td>\n",
       "      <td>Albany</td>\n",
       "    </tr>\n",
       "    <tr>\n",
       "      <th>...</th>\n",
       "      <td>...</td>\n",
       "      <td>...</td>\n",
       "      <td>...</td>\n",
       "    </tr>\n",
       "    <tr>\n",
       "      <th>18244</th>\n",
       "      <td>13498.67</td>\n",
       "      <td>1.63</td>\n",
       "      <td>WestTexNewMexico</td>\n",
       "    </tr>\n",
       "    <tr>\n",
       "      <th>18245</th>\n",
       "      <td>9264.84</td>\n",
       "      <td>1.71</td>\n",
       "      <td>WestTexNewMexico</td>\n",
       "    </tr>\n",
       "    <tr>\n",
       "      <th>18246</th>\n",
       "      <td>9394.11</td>\n",
       "      <td>1.87</td>\n",
       "      <td>WestTexNewMexico</td>\n",
       "    </tr>\n",
       "    <tr>\n",
       "      <th>18247</th>\n",
       "      <td>10969.54</td>\n",
       "      <td>1.93</td>\n",
       "      <td>WestTexNewMexico</td>\n",
       "    </tr>\n",
       "    <tr>\n",
       "      <th>18248</th>\n",
       "      <td>12014.15</td>\n",
       "      <td>1.62</td>\n",
       "      <td>WestTexNewMexico</td>\n",
       "    </tr>\n",
       "  </tbody>\n",
       "</table>\n",
       "<p>18249 rows × 3 columns</p>\n",
       "</div>"
      ],
      "text/plain": [
       "       Total Bags  AveragePrice            region\n",
       "0         8696.87          1.33            Albany\n",
       "1         9505.56          1.35            Albany\n",
       "2         8145.35          0.93            Albany\n",
       "3         5811.16          1.08            Albany\n",
       "4         6183.95          1.28            Albany\n",
       "...           ...           ...               ...\n",
       "18244    13498.67          1.63  WestTexNewMexico\n",
       "18245     9264.84          1.71  WestTexNewMexico\n",
       "18246     9394.11          1.87  WestTexNewMexico\n",
       "18247    10969.54          1.93  WestTexNewMexico\n",
       "18248    12014.15          1.62  WestTexNewMexico\n",
       "\n",
       "[18249 rows x 3 columns]"
      ]
     },
     "execution_count": 90,
     "metadata": {},
     "output_type": "execute_result"
    }
   ],
   "source": [
    "dos"
   ]
  },
  {
   "cell_type": "code",
   "execution_count": null,
   "id": "independent-alberta",
   "metadata": {},
   "outputs": [],
   "source": []
  },
  {
   "cell_type": "code",
   "execution_count": 91,
   "id": "plastic-mills",
   "metadata": {},
   "outputs": [],
   "source": [
    "#le podemos pasar directamente una lista con los nombres de las columnas\n",
    "lista_columnas = ['Total Bags', 'Small Bags', 'Large Bags', 'XLarge Bags']"
   ]
  },
  {
   "cell_type": "code",
   "execution_count": 92,
   "id": "photographic-writing",
   "metadata": {},
   "outputs": [],
   "source": [
    "df_nuevo = df[lista_columnas]"
   ]
  },
  {
   "cell_type": "code",
   "execution_count": 93,
   "id": "5383c56e",
   "metadata": {},
   "outputs": [
    {
     "data": {
      "text/html": [
       "<div>\n",
       "<style scoped>\n",
       "    .dataframe tbody tr th:only-of-type {\n",
       "        vertical-align: middle;\n",
       "    }\n",
       "\n",
       "    .dataframe tbody tr th {\n",
       "        vertical-align: top;\n",
       "    }\n",
       "\n",
       "    .dataframe thead th {\n",
       "        text-align: right;\n",
       "    }\n",
       "</style>\n",
       "<table border=\"1\" class=\"dataframe\">\n",
       "  <thead>\n",
       "    <tr style=\"text-align: right;\">\n",
       "      <th></th>\n",
       "      <th>Total Bags</th>\n",
       "      <th>Small Bags</th>\n",
       "      <th>Large Bags</th>\n",
       "      <th>XLarge Bags</th>\n",
       "    </tr>\n",
       "  </thead>\n",
       "  <tbody>\n",
       "    <tr>\n",
       "      <th>7228</th>\n",
       "      <td>60419.8</td>\n",
       "      <td>18260.75</td>\n",
       "      <td>40432.38</td>\n",
       "      <td>1726.67</td>\n",
       "    </tr>\n",
       "  </tbody>\n",
       "</table>\n",
       "</div>"
      ],
      "text/plain": [
       "      Total Bags  Small Bags  Large Bags  XLarge Bags\n",
       "7228     60419.8    18260.75    40432.38      1726.67"
      ]
     },
     "execution_count": 93,
     "metadata": {},
     "output_type": "execute_result"
    }
   ],
   "source": [
    "df_nuevo.sample()"
   ]
  },
  {
   "cell_type": "code",
   "execution_count": 94,
   "id": "previous-maximum",
   "metadata": {},
   "outputs": [
    {
     "data": {
      "text/plain": [
       "['Unnamed: 0',\n",
       " 'Date',\n",
       " 'AveragePrice',\n",
       " 'Total Volume',\n",
       " '4046',\n",
       " '4225',\n",
       " '4770',\n",
       " 'Total Bags',\n",
       " 'Small Bags',\n",
       " 'Large Bags',\n",
       " 'XLarge Bags',\n",
       " 'type',\n",
       " 'year',\n",
       " 'region']"
      ]
     },
     "execution_count": 94,
     "metadata": {},
     "output_type": "execute_result"
    }
   ],
   "source": [
    "# Listar los nombres de columnas de un dataframe\n",
    "columnas = list(df.columns)\n",
    "columnas"
   ]
  },
  {
   "cell_type": "code",
   "execution_count": 95,
   "id": "iraqi-jones",
   "metadata": {},
   "outputs": [],
   "source": [
    "copia = df.copy() # Hacemos una copia "
   ]
  },
  {
   "cell_type": "code",
   "execution_count": 96,
   "id": "64ccffaa",
   "metadata": {},
   "outputs": [],
   "source": [
    "copia.drop(columns=\"AveragePrice\", inplace=True)"
   ]
  },
  {
   "cell_type": "code",
   "execution_count": 97,
   "id": "2895642b",
   "metadata": {},
   "outputs": [
    {
     "data": {
      "text/html": [
       "<div>\n",
       "<style scoped>\n",
       "    .dataframe tbody tr th:only-of-type {\n",
       "        vertical-align: middle;\n",
       "    }\n",
       "\n",
       "    .dataframe tbody tr th {\n",
       "        vertical-align: top;\n",
       "    }\n",
       "\n",
       "    .dataframe thead th {\n",
       "        text-align: right;\n",
       "    }\n",
       "</style>\n",
       "<table border=\"1\" class=\"dataframe\">\n",
       "  <thead>\n",
       "    <tr style=\"text-align: right;\">\n",
       "      <th></th>\n",
       "      <th>Unnamed: 0</th>\n",
       "      <th>Date</th>\n",
       "      <th>AveragePrice</th>\n",
       "      <th>Total Volume</th>\n",
       "      <th>4046</th>\n",
       "      <th>4225</th>\n",
       "      <th>4770</th>\n",
       "      <th>Total Bags</th>\n",
       "      <th>Small Bags</th>\n",
       "      <th>Large Bags</th>\n",
       "      <th>XLarge Bags</th>\n",
       "      <th>type</th>\n",
       "      <th>year</th>\n",
       "      <th>region</th>\n",
       "    </tr>\n",
       "  </thead>\n",
       "  <tbody>\n",
       "    <tr>\n",
       "      <th>0</th>\n",
       "      <td>0</td>\n",
       "      <td>2015-12-27</td>\n",
       "      <td>1.33</td>\n",
       "      <td>64236.62</td>\n",
       "      <td>1036.74</td>\n",
       "      <td>54454.85</td>\n",
       "      <td>48.16</td>\n",
       "      <td>8696.87</td>\n",
       "      <td>8603.62</td>\n",
       "      <td>93.25</td>\n",
       "      <td>0.0</td>\n",
       "      <td>conventional</td>\n",
       "      <td>2015</td>\n",
       "      <td>Albany</td>\n",
       "    </tr>\n",
       "    <tr>\n",
       "      <th>1</th>\n",
       "      <td>1</td>\n",
       "      <td>2015-12-20</td>\n",
       "      <td>1.35</td>\n",
       "      <td>54876.98</td>\n",
       "      <td>674.28</td>\n",
       "      <td>44638.81</td>\n",
       "      <td>58.33</td>\n",
       "      <td>9505.56</td>\n",
       "      <td>9408.07</td>\n",
       "      <td>97.49</td>\n",
       "      <td>0.0</td>\n",
       "      <td>conventional</td>\n",
       "      <td>2015</td>\n",
       "      <td>Albany</td>\n",
       "    </tr>\n",
       "    <tr>\n",
       "      <th>2</th>\n",
       "      <td>2</td>\n",
       "      <td>2015-12-13</td>\n",
       "      <td>0.93</td>\n",
       "      <td>118220.22</td>\n",
       "      <td>794.70</td>\n",
       "      <td>109149.67</td>\n",
       "      <td>130.50</td>\n",
       "      <td>8145.35</td>\n",
       "      <td>8042.21</td>\n",
       "      <td>103.14</td>\n",
       "      <td>0.0</td>\n",
       "      <td>conventional</td>\n",
       "      <td>2015</td>\n",
       "      <td>Albany</td>\n",
       "    </tr>\n",
       "    <tr>\n",
       "      <th>3</th>\n",
       "      <td>3</td>\n",
       "      <td>2015-12-06</td>\n",
       "      <td>1.08</td>\n",
       "      <td>78992.15</td>\n",
       "      <td>1132.00</td>\n",
       "      <td>71976.41</td>\n",
       "      <td>72.58</td>\n",
       "      <td>5811.16</td>\n",
       "      <td>5677.40</td>\n",
       "      <td>133.76</td>\n",
       "      <td>0.0</td>\n",
       "      <td>conventional</td>\n",
       "      <td>2015</td>\n",
       "      <td>Albany</td>\n",
       "    </tr>\n",
       "    <tr>\n",
       "      <th>4</th>\n",
       "      <td>4</td>\n",
       "      <td>2015-11-29</td>\n",
       "      <td>1.28</td>\n",
       "      <td>51039.60</td>\n",
       "      <td>941.48</td>\n",
       "      <td>43838.39</td>\n",
       "      <td>75.78</td>\n",
       "      <td>6183.95</td>\n",
       "      <td>5986.26</td>\n",
       "      <td>197.69</td>\n",
       "      <td>0.0</td>\n",
       "      <td>conventional</td>\n",
       "      <td>2015</td>\n",
       "      <td>Albany</td>\n",
       "    </tr>\n",
       "  </tbody>\n",
       "</table>\n",
       "</div>"
      ],
      "text/plain": [
       "   Unnamed: 0        Date  AveragePrice  Total Volume     4046       4225  \\\n",
       "0           0  2015-12-27          1.33      64236.62  1036.74   54454.85   \n",
       "1           1  2015-12-20          1.35      54876.98   674.28   44638.81   \n",
       "2           2  2015-12-13          0.93     118220.22   794.70  109149.67   \n",
       "3           3  2015-12-06          1.08      78992.15  1132.00   71976.41   \n",
       "4           4  2015-11-29          1.28      51039.60   941.48   43838.39   \n",
       "\n",
       "     4770  Total Bags  Small Bags  Large Bags  XLarge Bags          type  \\\n",
       "0   48.16     8696.87     8603.62       93.25          0.0  conventional   \n",
       "1   58.33     9505.56     9408.07       97.49          0.0  conventional   \n",
       "2  130.50     8145.35     8042.21      103.14          0.0  conventional   \n",
       "3   72.58     5811.16     5677.40      133.76          0.0  conventional   \n",
       "4   75.78     6183.95     5986.26      197.69          0.0  conventional   \n",
       "\n",
       "   year  region  \n",
       "0  2015  Albany  \n",
       "1  2015  Albany  \n",
       "2  2015  Albany  \n",
       "3  2015  Albany  \n",
       "4  2015  Albany  "
      ]
     },
     "execution_count": 97,
     "metadata": {},
     "output_type": "execute_result"
    }
   ],
   "source": [
    "df.head() # Las modificaciones que hago en la copia son independientes del original y no afectan"
   ]
  },
  {
   "cell_type": "code",
   "execution_count": 98,
   "id": "excessive-armstrong",
   "metadata": {},
   "outputs": [
    {
     "data": {
      "text/plain": [
       "False"
      ]
     },
     "execution_count": 98,
     "metadata": {},
     "output_type": "execute_result"
    }
   ],
   "source": [
    "copia is df# PORQUE COPIA NO ES DF"
   ]
  },
  {
   "cell_type": "markdown",
   "id": "2f2b1d4c",
   "metadata": {},
   "source": [
    "## siN EMBARGO..... 🚨º"
   ]
  },
  {
   "cell_type": "code",
   "execution_count": 99,
   "id": "thorough-taiwan",
   "metadata": {},
   "outputs": [],
   "source": [
    "copia2 = df # si igualo la variable sin hacer copy me cargo el original"
   ]
  },
  {
   "cell_type": "code",
   "execution_count": 100,
   "id": "advanced-upset",
   "metadata": {},
   "outputs": [],
   "source": [
    "copia2.drop(columns=\"Total Bags\", inplace=True)"
   ]
  },
  {
   "cell_type": "code",
   "execution_count": 101,
   "id": "704b2d75",
   "metadata": {},
   "outputs": [
    {
     "data": {
      "text/plain": [
       "True"
      ]
     },
     "execution_count": 101,
     "metadata": {},
     "output_type": "execute_result"
    }
   ],
   "source": [
    "copia2 is df # PORQUE COPIA2 SÍ ES DFdf."
   ]
  },
  {
   "cell_type": "code",
   "execution_count": 102,
   "id": "internal-falls",
   "metadata": {},
   "outputs": [
    {
     "data": {
      "text/html": [
       "<div>\n",
       "<style scoped>\n",
       "    .dataframe tbody tr th:only-of-type {\n",
       "        vertical-align: middle;\n",
       "    }\n",
       "\n",
       "    .dataframe tbody tr th {\n",
       "        vertical-align: top;\n",
       "    }\n",
       "\n",
       "    .dataframe thead th {\n",
       "        text-align: right;\n",
       "    }\n",
       "</style>\n",
       "<table border=\"1\" class=\"dataframe\">\n",
       "  <thead>\n",
       "    <tr style=\"text-align: right;\">\n",
       "      <th></th>\n",
       "      <th>Unnamed: 0</th>\n",
       "      <th>Date</th>\n",
       "      <th>AveragePrice</th>\n",
       "      <th>Total Volume</th>\n",
       "      <th>4046</th>\n",
       "      <th>4225</th>\n",
       "      <th>4770</th>\n",
       "      <th>Small Bags</th>\n",
       "      <th>Large Bags</th>\n",
       "      <th>XLarge Bags</th>\n",
       "      <th>type</th>\n",
       "      <th>year</th>\n",
       "      <th>region</th>\n",
       "    </tr>\n",
       "  </thead>\n",
       "  <tbody>\n",
       "    <tr>\n",
       "      <th>0</th>\n",
       "      <td>0</td>\n",
       "      <td>2015-12-27</td>\n",
       "      <td>1.33</td>\n",
       "      <td>64236.62</td>\n",
       "      <td>1036.74</td>\n",
       "      <td>54454.85</td>\n",
       "      <td>48.16</td>\n",
       "      <td>8603.62</td>\n",
       "      <td>93.25</td>\n",
       "      <td>0.0</td>\n",
       "      <td>conventional</td>\n",
       "      <td>2015</td>\n",
       "      <td>Albany</td>\n",
       "    </tr>\n",
       "    <tr>\n",
       "      <th>1</th>\n",
       "      <td>1</td>\n",
       "      <td>2015-12-20</td>\n",
       "      <td>1.35</td>\n",
       "      <td>54876.98</td>\n",
       "      <td>674.28</td>\n",
       "      <td>44638.81</td>\n",
       "      <td>58.33</td>\n",
       "      <td>9408.07</td>\n",
       "      <td>97.49</td>\n",
       "      <td>0.0</td>\n",
       "      <td>conventional</td>\n",
       "      <td>2015</td>\n",
       "      <td>Albany</td>\n",
       "    </tr>\n",
       "    <tr>\n",
       "      <th>2</th>\n",
       "      <td>2</td>\n",
       "      <td>2015-12-13</td>\n",
       "      <td>0.93</td>\n",
       "      <td>118220.22</td>\n",
       "      <td>794.70</td>\n",
       "      <td>109149.67</td>\n",
       "      <td>130.50</td>\n",
       "      <td>8042.21</td>\n",
       "      <td>103.14</td>\n",
       "      <td>0.0</td>\n",
       "      <td>conventional</td>\n",
       "      <td>2015</td>\n",
       "      <td>Albany</td>\n",
       "    </tr>\n",
       "    <tr>\n",
       "      <th>3</th>\n",
       "      <td>3</td>\n",
       "      <td>2015-12-06</td>\n",
       "      <td>1.08</td>\n",
       "      <td>78992.15</td>\n",
       "      <td>1132.00</td>\n",
       "      <td>71976.41</td>\n",
       "      <td>72.58</td>\n",
       "      <td>5677.40</td>\n",
       "      <td>133.76</td>\n",
       "      <td>0.0</td>\n",
       "      <td>conventional</td>\n",
       "      <td>2015</td>\n",
       "      <td>Albany</td>\n",
       "    </tr>\n",
       "    <tr>\n",
       "      <th>4</th>\n",
       "      <td>4</td>\n",
       "      <td>2015-11-29</td>\n",
       "      <td>1.28</td>\n",
       "      <td>51039.60</td>\n",
       "      <td>941.48</td>\n",
       "      <td>43838.39</td>\n",
       "      <td>75.78</td>\n",
       "      <td>5986.26</td>\n",
       "      <td>197.69</td>\n",
       "      <td>0.0</td>\n",
       "      <td>conventional</td>\n",
       "      <td>2015</td>\n",
       "      <td>Albany</td>\n",
       "    </tr>\n",
       "  </tbody>\n",
       "</table>\n",
       "</div>"
      ],
      "text/plain": [
       "   Unnamed: 0        Date  AveragePrice  Total Volume     4046       4225  \\\n",
       "0           0  2015-12-27          1.33      64236.62  1036.74   54454.85   \n",
       "1           1  2015-12-20          1.35      54876.98   674.28   44638.81   \n",
       "2           2  2015-12-13          0.93     118220.22   794.70  109149.67   \n",
       "3           3  2015-12-06          1.08      78992.15  1132.00   71976.41   \n",
       "4           4  2015-11-29          1.28      51039.60   941.48   43838.39   \n",
       "\n",
       "     4770  Small Bags  Large Bags  XLarge Bags          type  year  region  \n",
       "0   48.16     8603.62       93.25          0.0  conventional  2015  Albany  \n",
       "1   58.33     9408.07       97.49          0.0  conventional  2015  Albany  \n",
       "2  130.50     8042.21      103.14          0.0  conventional  2015  Albany  \n",
       "3   72.58     5677.40      133.76          0.0  conventional  2015  Albany  \n",
       "4   75.78     5986.26      197.69          0.0  conventional  2015  Albany  "
      ]
     },
     "execution_count": 102,
     "metadata": {},
     "output_type": "execute_result"
    }
   ],
   "source": [
    "df.head()"
   ]
  },
  {
   "cell_type": "markdown",
   "id": "local-appointment",
   "metadata": {},
   "source": [
    "### Obtener los valores únicos de una columna (es decir, una serie)"
   ]
  },
  {
   "cell_type": "code",
   "execution_count": 103,
   "id": "limited-worse",
   "metadata": {},
   "outputs": [
    {
     "data": {
      "text/plain": [
       "array(['Albany', 'Atlanta', 'BaltimoreWashington', 'Boise', 'Boston',\n",
       "       'BuffaloRochester', 'California', 'Charlotte', 'Chicago',\n",
       "       'CincinnatiDayton', 'Columbus', 'DallasFtWorth', 'Denver',\n",
       "       'Detroit', 'GrandRapids', 'GreatLakes', 'HarrisburgScranton',\n",
       "       'HartfordSpringfield', 'Houston', 'Indianapolis', 'Jacksonville',\n",
       "       'LasVegas', 'LosAngeles', 'Louisville', 'MiamiFtLauderdale',\n",
       "       'Midsouth', 'Nashville', 'NewOrleansMobile', 'NewYork',\n",
       "       'Northeast', 'NorthernNewEngland', 'Orlando', 'Philadelphia',\n",
       "       'PhoenixTucson', 'Pittsburgh', 'Plains', 'Portland',\n",
       "       'RaleighGreensboro', 'RichmondNorfolk', 'Roanoke', 'Sacramento',\n",
       "       'SanDiego', 'SanFrancisco', 'Seattle', 'SouthCarolina',\n",
       "       'SouthCentral', 'Southeast', 'Spokane', 'StLouis', 'Syracuse',\n",
       "       'Tampa', 'TotalUS', 'West', 'WestTexNewMexico'], dtype=object)"
      ]
     },
     "execution_count": 103,
     "metadata": {},
     "output_type": "execute_result"
    }
   ],
   "source": [
    "df.region.unique()"
   ]
  },
  {
   "cell_type": "code",
   "execution_count": 104,
   "id": "bored-score",
   "metadata": {},
   "outputs": [
    {
     "data": {
      "text/plain": [
       "['Albany',\n",
       " 'Atlanta',\n",
       " 'BaltimoreWashington',\n",
       " 'Boise',\n",
       " 'Boston',\n",
       " 'BuffaloRochester',\n",
       " 'California',\n",
       " 'Charlotte',\n",
       " 'Chicago',\n",
       " 'CincinnatiDayton',\n",
       " 'Columbus',\n",
       " 'DallasFtWorth',\n",
       " 'Denver',\n",
       " 'Detroit',\n",
       " 'GrandRapids',\n",
       " 'GreatLakes',\n",
       " 'HarrisburgScranton',\n",
       " 'HartfordSpringfield',\n",
       " 'Houston',\n",
       " 'Indianapolis',\n",
       " 'Jacksonville',\n",
       " 'LasVegas',\n",
       " 'LosAngeles',\n",
       " 'Louisville',\n",
       " 'MiamiFtLauderdale',\n",
       " 'Midsouth',\n",
       " 'Nashville',\n",
       " 'NewOrleansMobile',\n",
       " 'NewYork',\n",
       " 'Northeast',\n",
       " 'NorthernNewEngland',\n",
       " 'Orlando',\n",
       " 'Philadelphia',\n",
       " 'PhoenixTucson',\n",
       " 'Pittsburgh',\n",
       " 'Plains',\n",
       " 'Portland',\n",
       " 'RaleighGreensboro',\n",
       " 'RichmondNorfolk',\n",
       " 'Roanoke',\n",
       " 'Sacramento',\n",
       " 'SanDiego',\n",
       " 'SanFrancisco',\n",
       " 'Seattle',\n",
       " 'SouthCarolina',\n",
       " 'SouthCentral',\n",
       " 'Southeast',\n",
       " 'Spokane',\n",
       " 'StLouis',\n",
       " 'Syracuse',\n",
       " 'Tampa',\n",
       " 'TotalUS',\n",
       " 'West',\n",
       " 'WestTexNewMexico']"
      ]
     },
     "execution_count": 104,
     "metadata": {},
     "output_type": "execute_result"
    }
   ],
   "source": [
    "list(df.region.unique())"
   ]
  },
  {
   "cell_type": "code",
   "execution_count": 105,
   "id": "little-device",
   "metadata": {},
   "outputs": [
    {
     "data": {
      "text/plain": [
       "array([nan, 'Hola'], dtype=object)"
      ]
     },
     "execution_count": 105,
     "metadata": {},
     "output_type": "execute_result"
    }
   ],
   "source": [
    "df_datos.nombreS.unique()"
   ]
  },
  {
   "cell_type": "markdown",
   "id": "statutory-chess",
   "metadata": {},
   "source": [
    "### Cambiar el tipo de datos de una columna"
   ]
  },
  {
   "cell_type": "code",
   "execution_count": 106,
   "id": "three-support",
   "metadata": {},
   "outputs": [
    {
     "data": {
      "text/plain": [
       "0        1\n",
       "1        1\n",
       "2        0\n",
       "3        1\n",
       "4        1\n",
       "        ..\n",
       "18244    1\n",
       "18245    1\n",
       "18246    1\n",
       "18247    1\n",
       "18248    1\n",
       "Name: AveragePrice, Length: 18249, dtype: int8"
      ]
     },
     "execution_count": 106,
     "metadata": {},
     "output_type": "execute_result"
    }
   ],
   "source": [
    "df.AveragePrice.astype(dtype=\"int8\")"
   ]
  },
  {
   "cell_type": "code",
   "execution_count": 107,
   "id": "05f1da01",
   "metadata": {},
   "outputs": [
    {
     "data": {
      "text/html": [
       "<div>\n",
       "<style scoped>\n",
       "    .dataframe tbody tr th:only-of-type {\n",
       "        vertical-align: middle;\n",
       "    }\n",
       "\n",
       "    .dataframe tbody tr th {\n",
       "        vertical-align: top;\n",
       "    }\n",
       "\n",
       "    .dataframe thead th {\n",
       "        text-align: right;\n",
       "    }\n",
       "</style>\n",
       "<table border=\"1\" class=\"dataframe\">\n",
       "  <thead>\n",
       "    <tr style=\"text-align: right;\">\n",
       "      <th></th>\n",
       "      <th>Unnamed: 0</th>\n",
       "      <th>Date</th>\n",
       "      <th>AveragePrice</th>\n",
       "      <th>Total Volume</th>\n",
       "      <th>4046</th>\n",
       "      <th>4225</th>\n",
       "      <th>4770</th>\n",
       "      <th>Small Bags</th>\n",
       "      <th>Large Bags</th>\n",
       "      <th>XLarge Bags</th>\n",
       "      <th>type</th>\n",
       "      <th>year</th>\n",
       "      <th>region</th>\n",
       "    </tr>\n",
       "  </thead>\n",
       "  <tbody>\n",
       "    <tr>\n",
       "      <th>0</th>\n",
       "      <td>0</td>\n",
       "      <td>2015-12-27</td>\n",
       "      <td>1.33</td>\n",
       "      <td>64236.62</td>\n",
       "      <td>1036.74</td>\n",
       "      <td>54454.85</td>\n",
       "      <td>48.16</td>\n",
       "      <td>8603.62</td>\n",
       "      <td>93.25</td>\n",
       "      <td>0.0</td>\n",
       "      <td>conventional</td>\n",
       "      <td>2015</td>\n",
       "      <td>Albany</td>\n",
       "    </tr>\n",
       "    <tr>\n",
       "      <th>1</th>\n",
       "      <td>1</td>\n",
       "      <td>2015-12-20</td>\n",
       "      <td>1.35</td>\n",
       "      <td>54876.98</td>\n",
       "      <td>674.28</td>\n",
       "      <td>44638.81</td>\n",
       "      <td>58.33</td>\n",
       "      <td>9408.07</td>\n",
       "      <td>97.49</td>\n",
       "      <td>0.0</td>\n",
       "      <td>conventional</td>\n",
       "      <td>2015</td>\n",
       "      <td>Albany</td>\n",
       "    </tr>\n",
       "    <tr>\n",
       "      <th>2</th>\n",
       "      <td>2</td>\n",
       "      <td>2015-12-13</td>\n",
       "      <td>0.93</td>\n",
       "      <td>118220.22</td>\n",
       "      <td>794.70</td>\n",
       "      <td>109149.67</td>\n",
       "      <td>130.50</td>\n",
       "      <td>8042.21</td>\n",
       "      <td>103.14</td>\n",
       "      <td>0.0</td>\n",
       "      <td>conventional</td>\n",
       "      <td>2015</td>\n",
       "      <td>Albany</td>\n",
       "    </tr>\n",
       "    <tr>\n",
       "      <th>3</th>\n",
       "      <td>3</td>\n",
       "      <td>2015-12-06</td>\n",
       "      <td>1.08</td>\n",
       "      <td>78992.15</td>\n",
       "      <td>1132.00</td>\n",
       "      <td>71976.41</td>\n",
       "      <td>72.58</td>\n",
       "      <td>5677.40</td>\n",
       "      <td>133.76</td>\n",
       "      <td>0.0</td>\n",
       "      <td>conventional</td>\n",
       "      <td>2015</td>\n",
       "      <td>Albany</td>\n",
       "    </tr>\n",
       "    <tr>\n",
       "      <th>4</th>\n",
       "      <td>4</td>\n",
       "      <td>2015-11-29</td>\n",
       "      <td>1.28</td>\n",
       "      <td>51039.60</td>\n",
       "      <td>941.48</td>\n",
       "      <td>43838.39</td>\n",
       "      <td>75.78</td>\n",
       "      <td>5986.26</td>\n",
       "      <td>197.69</td>\n",
       "      <td>0.0</td>\n",
       "      <td>conventional</td>\n",
       "      <td>2015</td>\n",
       "      <td>Albany</td>\n",
       "    </tr>\n",
       "  </tbody>\n",
       "</table>\n",
       "</div>"
      ],
      "text/plain": [
       "   Unnamed: 0        Date  AveragePrice  Total Volume     4046       4225  \\\n",
       "0           0  2015-12-27          1.33      64236.62  1036.74   54454.85   \n",
       "1           1  2015-12-20          1.35      54876.98   674.28   44638.81   \n",
       "2           2  2015-12-13          0.93     118220.22   794.70  109149.67   \n",
       "3           3  2015-12-06          1.08      78992.15  1132.00   71976.41   \n",
       "4           4  2015-11-29          1.28      51039.60   941.48   43838.39   \n",
       "\n",
       "     4770  Small Bags  Large Bags  XLarge Bags          type  year  region  \n",
       "0   48.16     8603.62       93.25          0.0  conventional  2015  Albany  \n",
       "1   58.33     9408.07       97.49          0.0  conventional  2015  Albany  \n",
       "2  130.50     8042.21      103.14          0.0  conventional  2015  Albany  \n",
       "3   72.58     5677.40      133.76          0.0  conventional  2015  Albany  \n",
       "4   75.78     5986.26      197.69          0.0  conventional  2015  Albany  "
      ]
     },
     "execution_count": 107,
     "metadata": {},
     "output_type": "execute_result"
    }
   ],
   "source": [
    "df.head()"
   ]
  },
  {
   "cell_type": "code",
   "execution_count": 108,
   "id": "comic-johns",
   "metadata": {},
   "outputs": [],
   "source": [
    "# Atención!! que no se cambian los datos si no sobreescribimos la columna\n",
    "df.AveragePrice = df.AveragePrice.astype(dtype=int)"
   ]
  },
  {
   "cell_type": "code",
   "execution_count": 109,
   "id": "apparent-direction",
   "metadata": {},
   "outputs": [
    {
     "data": {
      "text/html": [
       "<div>\n",
       "<style scoped>\n",
       "    .dataframe tbody tr th:only-of-type {\n",
       "        vertical-align: middle;\n",
       "    }\n",
       "\n",
       "    .dataframe tbody tr th {\n",
       "        vertical-align: top;\n",
       "    }\n",
       "\n",
       "    .dataframe thead th {\n",
       "        text-align: right;\n",
       "    }\n",
       "</style>\n",
       "<table border=\"1\" class=\"dataframe\">\n",
       "  <thead>\n",
       "    <tr style=\"text-align: right;\">\n",
       "      <th></th>\n",
       "      <th>Unnamed: 0</th>\n",
       "      <th>Date</th>\n",
       "      <th>AveragePrice</th>\n",
       "      <th>Total Volume</th>\n",
       "      <th>4046</th>\n",
       "      <th>4225</th>\n",
       "      <th>4770</th>\n",
       "      <th>Small Bags</th>\n",
       "      <th>Large Bags</th>\n",
       "      <th>XLarge Bags</th>\n",
       "      <th>type</th>\n",
       "      <th>year</th>\n",
       "      <th>region</th>\n",
       "    </tr>\n",
       "  </thead>\n",
       "  <tbody>\n",
       "    <tr>\n",
       "      <th>0</th>\n",
       "      <td>0</td>\n",
       "      <td>2015-12-27</td>\n",
       "      <td>1</td>\n",
       "      <td>64236.62</td>\n",
       "      <td>1036.74</td>\n",
       "      <td>54454.85</td>\n",
       "      <td>48.16</td>\n",
       "      <td>8603.62</td>\n",
       "      <td>93.25</td>\n",
       "      <td>0.0</td>\n",
       "      <td>conventional</td>\n",
       "      <td>2015</td>\n",
       "      <td>Albany</td>\n",
       "    </tr>\n",
       "    <tr>\n",
       "      <th>1</th>\n",
       "      <td>1</td>\n",
       "      <td>2015-12-20</td>\n",
       "      <td>1</td>\n",
       "      <td>54876.98</td>\n",
       "      <td>674.28</td>\n",
       "      <td>44638.81</td>\n",
       "      <td>58.33</td>\n",
       "      <td>9408.07</td>\n",
       "      <td>97.49</td>\n",
       "      <td>0.0</td>\n",
       "      <td>conventional</td>\n",
       "      <td>2015</td>\n",
       "      <td>Albany</td>\n",
       "    </tr>\n",
       "    <tr>\n",
       "      <th>2</th>\n",
       "      <td>2</td>\n",
       "      <td>2015-12-13</td>\n",
       "      <td>0</td>\n",
       "      <td>118220.22</td>\n",
       "      <td>794.70</td>\n",
       "      <td>109149.67</td>\n",
       "      <td>130.50</td>\n",
       "      <td>8042.21</td>\n",
       "      <td>103.14</td>\n",
       "      <td>0.0</td>\n",
       "      <td>conventional</td>\n",
       "      <td>2015</td>\n",
       "      <td>Albany</td>\n",
       "    </tr>\n",
       "    <tr>\n",
       "      <th>3</th>\n",
       "      <td>3</td>\n",
       "      <td>2015-12-06</td>\n",
       "      <td>1</td>\n",
       "      <td>78992.15</td>\n",
       "      <td>1132.00</td>\n",
       "      <td>71976.41</td>\n",
       "      <td>72.58</td>\n",
       "      <td>5677.40</td>\n",
       "      <td>133.76</td>\n",
       "      <td>0.0</td>\n",
       "      <td>conventional</td>\n",
       "      <td>2015</td>\n",
       "      <td>Albany</td>\n",
       "    </tr>\n",
       "    <tr>\n",
       "      <th>4</th>\n",
       "      <td>4</td>\n",
       "      <td>2015-11-29</td>\n",
       "      <td>1</td>\n",
       "      <td>51039.60</td>\n",
       "      <td>941.48</td>\n",
       "      <td>43838.39</td>\n",
       "      <td>75.78</td>\n",
       "      <td>5986.26</td>\n",
       "      <td>197.69</td>\n",
       "      <td>0.0</td>\n",
       "      <td>conventional</td>\n",
       "      <td>2015</td>\n",
       "      <td>Albany</td>\n",
       "    </tr>\n",
       "  </tbody>\n",
       "</table>\n",
       "</div>"
      ],
      "text/plain": [
       "   Unnamed: 0        Date  AveragePrice  Total Volume     4046       4225  \\\n",
       "0           0  2015-12-27             1      64236.62  1036.74   54454.85   \n",
       "1           1  2015-12-20             1      54876.98   674.28   44638.81   \n",
       "2           2  2015-12-13             0     118220.22   794.70  109149.67   \n",
       "3           3  2015-12-06             1      78992.15  1132.00   71976.41   \n",
       "4           4  2015-11-29             1      51039.60   941.48   43838.39   \n",
       "\n",
       "     4770  Small Bags  Large Bags  XLarge Bags          type  year  region  \n",
       "0   48.16     8603.62       93.25          0.0  conventional  2015  Albany  \n",
       "1   58.33     9408.07       97.49          0.0  conventional  2015  Albany  \n",
       "2  130.50     8042.21      103.14          0.0  conventional  2015  Albany  \n",
       "3   72.58     5677.40      133.76          0.0  conventional  2015  Albany  \n",
       "4   75.78     5986.26      197.69          0.0  conventional  2015  Albany  "
      ]
     },
     "execution_count": 109,
     "metadata": {},
     "output_type": "execute_result"
    }
   ],
   "source": [
    "df.head()"
   ]
  },
  {
   "cell_type": "code",
   "execution_count": 110,
   "id": "single-carpet",
   "metadata": {},
   "outputs": [
    {
     "name": "stdout",
     "output_type": "stream",
     "text": [
      "<class 'pandas.core.frame.DataFrame'>\n",
      "RangeIndex: 18249 entries, 0 to 18248\n",
      "Data columns (total 13 columns):\n",
      " #   Column        Non-Null Count  Dtype  \n",
      "---  ------        --------------  -----  \n",
      " 0   Unnamed: 0    18249 non-null  int64  \n",
      " 1   Date          18249 non-null  object \n",
      " 2   AveragePrice  18249 non-null  int64  \n",
      " 3   Total Volume  18249 non-null  float64\n",
      " 4   4046          18249 non-null  float64\n",
      " 5   4225          18249 non-null  float64\n",
      " 6   4770          18249 non-null  float64\n",
      " 7   Small Bags    18249 non-null  float64\n",
      " 8   Large Bags    18249 non-null  float64\n",
      " 9   XLarge Bags   18249 non-null  float64\n",
      " 10  type          18249 non-null  object \n",
      " 11  year          18249 non-null  int64  \n",
      " 12  region        18249 non-null  object \n",
      "dtypes: float64(7), int64(3), object(3)\n",
      "memory usage: 1.8+ MB\n"
     ]
    }
   ],
   "source": [
    "df.info()"
   ]
  },
  {
   "cell_type": "code",
   "execution_count": 111,
   "id": "informational-birmingham",
   "metadata": {},
   "outputs": [],
   "source": [
    "df[\"nueva\"] = copia2.AveragePrice.astype(dtype=int)"
   ]
  },
  {
   "cell_type": "code",
   "execution_count": 112,
   "id": "premier-sweden",
   "metadata": {},
   "outputs": [
    {
     "data": {
      "text/html": [
       "<div>\n",
       "<style scoped>\n",
       "    .dataframe tbody tr th:only-of-type {\n",
       "        vertical-align: middle;\n",
       "    }\n",
       "\n",
       "    .dataframe tbody tr th {\n",
       "        vertical-align: top;\n",
       "    }\n",
       "\n",
       "    .dataframe thead th {\n",
       "        text-align: right;\n",
       "    }\n",
       "</style>\n",
       "<table border=\"1\" class=\"dataframe\">\n",
       "  <thead>\n",
       "    <tr style=\"text-align: right;\">\n",
       "      <th></th>\n",
       "      <th>Unnamed: 0</th>\n",
       "      <th>Date</th>\n",
       "      <th>AveragePrice</th>\n",
       "      <th>Total Volume</th>\n",
       "      <th>4046</th>\n",
       "      <th>4225</th>\n",
       "      <th>4770</th>\n",
       "      <th>Small Bags</th>\n",
       "      <th>Large Bags</th>\n",
       "      <th>XLarge Bags</th>\n",
       "      <th>type</th>\n",
       "      <th>year</th>\n",
       "      <th>region</th>\n",
       "      <th>nueva</th>\n",
       "    </tr>\n",
       "  </thead>\n",
       "  <tbody>\n",
       "    <tr>\n",
       "      <th>0</th>\n",
       "      <td>0</td>\n",
       "      <td>2015-12-27</td>\n",
       "      <td>1</td>\n",
       "      <td>64236.62</td>\n",
       "      <td>1036.74</td>\n",
       "      <td>54454.85</td>\n",
       "      <td>48.16</td>\n",
       "      <td>8603.62</td>\n",
       "      <td>93.25</td>\n",
       "      <td>0.0</td>\n",
       "      <td>conventional</td>\n",
       "      <td>2015</td>\n",
       "      <td>Albany</td>\n",
       "      <td>1</td>\n",
       "    </tr>\n",
       "    <tr>\n",
       "      <th>1</th>\n",
       "      <td>1</td>\n",
       "      <td>2015-12-20</td>\n",
       "      <td>1</td>\n",
       "      <td>54876.98</td>\n",
       "      <td>674.28</td>\n",
       "      <td>44638.81</td>\n",
       "      <td>58.33</td>\n",
       "      <td>9408.07</td>\n",
       "      <td>97.49</td>\n",
       "      <td>0.0</td>\n",
       "      <td>conventional</td>\n",
       "      <td>2015</td>\n",
       "      <td>Albany</td>\n",
       "      <td>1</td>\n",
       "    </tr>\n",
       "    <tr>\n",
       "      <th>2</th>\n",
       "      <td>2</td>\n",
       "      <td>2015-12-13</td>\n",
       "      <td>0</td>\n",
       "      <td>118220.22</td>\n",
       "      <td>794.70</td>\n",
       "      <td>109149.67</td>\n",
       "      <td>130.50</td>\n",
       "      <td>8042.21</td>\n",
       "      <td>103.14</td>\n",
       "      <td>0.0</td>\n",
       "      <td>conventional</td>\n",
       "      <td>2015</td>\n",
       "      <td>Albany</td>\n",
       "      <td>0</td>\n",
       "    </tr>\n",
       "    <tr>\n",
       "      <th>3</th>\n",
       "      <td>3</td>\n",
       "      <td>2015-12-06</td>\n",
       "      <td>1</td>\n",
       "      <td>78992.15</td>\n",
       "      <td>1132.00</td>\n",
       "      <td>71976.41</td>\n",
       "      <td>72.58</td>\n",
       "      <td>5677.40</td>\n",
       "      <td>133.76</td>\n",
       "      <td>0.0</td>\n",
       "      <td>conventional</td>\n",
       "      <td>2015</td>\n",
       "      <td>Albany</td>\n",
       "      <td>1</td>\n",
       "    </tr>\n",
       "    <tr>\n",
       "      <th>4</th>\n",
       "      <td>4</td>\n",
       "      <td>2015-11-29</td>\n",
       "      <td>1</td>\n",
       "      <td>51039.60</td>\n",
       "      <td>941.48</td>\n",
       "      <td>43838.39</td>\n",
       "      <td>75.78</td>\n",
       "      <td>5986.26</td>\n",
       "      <td>197.69</td>\n",
       "      <td>0.0</td>\n",
       "      <td>conventional</td>\n",
       "      <td>2015</td>\n",
       "      <td>Albany</td>\n",
       "      <td>1</td>\n",
       "    </tr>\n",
       "  </tbody>\n",
       "</table>\n",
       "</div>"
      ],
      "text/plain": [
       "   Unnamed: 0        Date  AveragePrice  Total Volume     4046       4225  \\\n",
       "0           0  2015-12-27             1      64236.62  1036.74   54454.85   \n",
       "1           1  2015-12-20             1      54876.98   674.28   44638.81   \n",
       "2           2  2015-12-13             0     118220.22   794.70  109149.67   \n",
       "3           3  2015-12-06             1      78992.15  1132.00   71976.41   \n",
       "4           4  2015-11-29             1      51039.60   941.48   43838.39   \n",
       "\n",
       "     4770  Small Bags  Large Bags  XLarge Bags          type  year  region  \\\n",
       "0   48.16     8603.62       93.25          0.0  conventional  2015  Albany   \n",
       "1   58.33     9408.07       97.49          0.0  conventional  2015  Albany   \n",
       "2  130.50     8042.21      103.14          0.0  conventional  2015  Albany   \n",
       "3   72.58     5677.40      133.76          0.0  conventional  2015  Albany   \n",
       "4   75.78     5986.26      197.69          0.0  conventional  2015  Albany   \n",
       "\n",
       "   nueva  \n",
       "0      1  \n",
       "1      1  \n",
       "2      0  \n",
       "3      1  \n",
       "4      1  "
      ]
     },
     "execution_count": 112,
     "metadata": {},
     "output_type": "execute_result"
    }
   ],
   "source": [
    "df.head()"
   ]
  },
  {
   "cell_type": "code",
   "execution_count": 113,
   "id": "sitting-nitrogen",
   "metadata": {},
   "outputs": [],
   "source": [
    "# Para crear una columna nueva solamente tengo que darle un nombre, por ejemplo df[\"nueva\"]\n",
    "# Como cuando en un diccionario añado una KEY"
   ]
  },
  {
   "cell_type": "code",
   "execution_count": 114,
   "id": "comfortable-health",
   "metadata": {},
   "outputs": [],
   "source": [
    "df[\"otra\"] = df[\"Small Bags\"] * df[\"Total Volume\"]"
   ]
  },
  {
   "cell_type": "code",
   "execution_count": 115,
   "id": "exceptional-bracket",
   "metadata": {},
   "outputs": [
    {
     "data": {
      "text/html": [
       "<div>\n",
       "<style scoped>\n",
       "    .dataframe tbody tr th:only-of-type {\n",
       "        vertical-align: middle;\n",
       "    }\n",
       "\n",
       "    .dataframe tbody tr th {\n",
       "        vertical-align: top;\n",
       "    }\n",
       "\n",
       "    .dataframe thead th {\n",
       "        text-align: right;\n",
       "    }\n",
       "</style>\n",
       "<table border=\"1\" class=\"dataframe\">\n",
       "  <thead>\n",
       "    <tr style=\"text-align: right;\">\n",
       "      <th></th>\n",
       "      <th>Unnamed: 0</th>\n",
       "      <th>Date</th>\n",
       "      <th>AveragePrice</th>\n",
       "      <th>Total Volume</th>\n",
       "      <th>4046</th>\n",
       "      <th>4225</th>\n",
       "      <th>4770</th>\n",
       "      <th>Small Bags</th>\n",
       "      <th>Large Bags</th>\n",
       "      <th>XLarge Bags</th>\n",
       "      <th>type</th>\n",
       "      <th>year</th>\n",
       "      <th>region</th>\n",
       "      <th>nueva</th>\n",
       "      <th>otra</th>\n",
       "    </tr>\n",
       "  </thead>\n",
       "  <tbody>\n",
       "    <tr>\n",
       "      <th>6766</th>\n",
       "      <td>37</td>\n",
       "      <td>2017-04-16</td>\n",
       "      <td>0</td>\n",
       "      <td>410849.51</td>\n",
       "      <td>119501.49</td>\n",
       "      <td>58233.45</td>\n",
       "      <td>9911.63</td>\n",
       "      <td>56490.21</td>\n",
       "      <td>166712.73</td>\n",
       "      <td>0.0</td>\n",
       "      <td>conventional</td>\n",
       "      <td>2017</td>\n",
       "      <td>LasVegas</td>\n",
       "      <td>0</td>\n",
       "      <td>2.320898e+10</td>\n",
       "    </tr>\n",
       "  </tbody>\n",
       "</table>\n",
       "</div>"
      ],
      "text/plain": [
       "      Unnamed: 0        Date  AveragePrice  Total Volume       4046      4225  \\\n",
       "6766          37  2017-04-16             0     410849.51  119501.49  58233.45   \n",
       "\n",
       "         4770  Small Bags  Large Bags  XLarge Bags          type  year  \\\n",
       "6766  9911.63    56490.21   166712.73          0.0  conventional  2017   \n",
       "\n",
       "        region  nueva          otra  \n",
       "6766  LasVegas      0  2.320898e+10  "
      ]
     },
     "execution_count": 115,
     "metadata": {},
     "output_type": "execute_result"
    }
   ],
   "source": [
    "df.sample()"
   ]
  },
  {
   "cell_type": "code",
   "execution_count": 116,
   "id": "handled-skill",
   "metadata": {},
   "outputs": [],
   "source": [
    "# No puedo sumar strings y números\n",
    "#df[\"ejemplo\"] = df.AveragePrice + df.region "
   ]
  },
  {
   "cell_type": "markdown",
   "id": "orange-burden",
   "metadata": {},
   "source": [
    "### Filtramos los datos por el valor de las columnas"
   ]
  },
  {
   "cell_type": "code",
   "execution_count": 117,
   "id": "united-genre",
   "metadata": {},
   "outputs": [
    {
     "data": {
      "text/plain": [
       "array(['Albany', 'Atlanta', 'BaltimoreWashington', 'Boise', 'Boston',\n",
       "       'BuffaloRochester', 'California', 'Charlotte', 'Chicago',\n",
       "       'CincinnatiDayton', 'Columbus', 'DallasFtWorth', 'Denver',\n",
       "       'Detroit', 'GrandRapids', 'GreatLakes', 'HarrisburgScranton',\n",
       "       'HartfordSpringfield', 'Houston', 'Indianapolis', 'Jacksonville',\n",
       "       'LasVegas', 'LosAngeles', 'Louisville', 'MiamiFtLauderdale',\n",
       "       'Midsouth', 'Nashville', 'NewOrleansMobile', 'NewYork',\n",
       "       'Northeast', 'NorthernNewEngland', 'Orlando', 'Philadelphia',\n",
       "       'PhoenixTucson', 'Pittsburgh', 'Plains', 'Portland',\n",
       "       'RaleighGreensboro', 'RichmondNorfolk', 'Roanoke', 'Sacramento',\n",
       "       'SanDiego', 'SanFrancisco', 'Seattle', 'SouthCarolina',\n",
       "       'SouthCentral', 'Southeast', 'Spokane', 'StLouis', 'Syracuse',\n",
       "       'Tampa', 'TotalUS', 'West', 'WestTexNewMexico'], dtype=object)"
      ]
     },
     "execution_count": 117,
     "metadata": {},
     "output_type": "execute_result"
    }
   ],
   "source": [
    "df.region.unique()"
   ]
  },
  {
   "cell_type": "code",
   "execution_count": 118,
   "id": "surprised-breach",
   "metadata": {},
   "outputs": [],
   "source": [
    "df2 = df[df[\"region\"] == \"Houston\"]"
   ]
  },
  {
   "cell_type": "code",
   "execution_count": 119,
   "id": "brief-heritage",
   "metadata": {},
   "outputs": [
    {
     "data": {
      "text/html": [
       "<div>\n",
       "<style scoped>\n",
       "    .dataframe tbody tr th:only-of-type {\n",
       "        vertical-align: middle;\n",
       "    }\n",
       "\n",
       "    .dataframe tbody tr th {\n",
       "        vertical-align: top;\n",
       "    }\n",
       "\n",
       "    .dataframe thead th {\n",
       "        text-align: right;\n",
       "    }\n",
       "</style>\n",
       "<table border=\"1\" class=\"dataframe\">\n",
       "  <thead>\n",
       "    <tr style=\"text-align: right;\">\n",
       "      <th></th>\n",
       "      <th>Unnamed: 0</th>\n",
       "      <th>Date</th>\n",
       "      <th>AveragePrice</th>\n",
       "      <th>Total Volume</th>\n",
       "      <th>4046</th>\n",
       "      <th>4225</th>\n",
       "      <th>4770</th>\n",
       "      <th>Small Bags</th>\n",
       "      <th>Large Bags</th>\n",
       "      <th>XLarge Bags</th>\n",
       "      <th>type</th>\n",
       "      <th>year</th>\n",
       "      <th>region</th>\n",
       "      <th>nueva</th>\n",
       "      <th>otra</th>\n",
       "    </tr>\n",
       "  </thead>\n",
       "  <tbody>\n",
       "    <tr>\n",
       "      <th>17824</th>\n",
       "      <td>7</td>\n",
       "      <td>2018-02-04</td>\n",
       "      <td>1</td>\n",
       "      <td>27155.44</td>\n",
       "      <td>10163.94</td>\n",
       "      <td>216.52</td>\n",
       "      <td>0.0</td>\n",
       "      <td>16644.99</td>\n",
       "      <td>129.99</td>\n",
       "      <td>0.0</td>\n",
       "      <td>organic</td>\n",
       "      <td>2018</td>\n",
       "      <td>Houston</td>\n",
       "      <td>1</td>\n",
       "      <td>4.520020e+08</td>\n",
       "    </tr>\n",
       "    <tr>\n",
       "      <th>17825</th>\n",
       "      <td>8</td>\n",
       "      <td>2018-01-28</td>\n",
       "      <td>1</td>\n",
       "      <td>26854.20</td>\n",
       "      <td>10288.17</td>\n",
       "      <td>114.77</td>\n",
       "      <td>0.0</td>\n",
       "      <td>16394.59</td>\n",
       "      <td>56.67</td>\n",
       "      <td>0.0</td>\n",
       "      <td>organic</td>\n",
       "      <td>2018</td>\n",
       "      <td>Houston</td>\n",
       "      <td>1</td>\n",
       "      <td>4.402636e+08</td>\n",
       "    </tr>\n",
       "    <tr>\n",
       "      <th>17826</th>\n",
       "      <td>9</td>\n",
       "      <td>2018-01-21</td>\n",
       "      <td>1</td>\n",
       "      <td>32722.61</td>\n",
       "      <td>7335.69</td>\n",
       "      <td>43.11</td>\n",
       "      <td>0.0</td>\n",
       "      <td>25100.48</td>\n",
       "      <td>243.33</td>\n",
       "      <td>0.0</td>\n",
       "      <td>organic</td>\n",
       "      <td>2018</td>\n",
       "      <td>Houston</td>\n",
       "      <td>1</td>\n",
       "      <td>8.213532e+08</td>\n",
       "    </tr>\n",
       "    <tr>\n",
       "      <th>17827</th>\n",
       "      <td>10</td>\n",
       "      <td>2018-01-14</td>\n",
       "      <td>1</td>\n",
       "      <td>35522.77</td>\n",
       "      <td>11013.42</td>\n",
       "      <td>108.93</td>\n",
       "      <td>0.0</td>\n",
       "      <td>23953.75</td>\n",
       "      <td>446.67</td>\n",
       "      <td>0.0</td>\n",
       "      <td>organic</td>\n",
       "      <td>2018</td>\n",
       "      <td>Houston</td>\n",
       "      <td>1</td>\n",
       "      <td>8.509036e+08</td>\n",
       "    </tr>\n",
       "    <tr>\n",
       "      <th>17828</th>\n",
       "      <td>11</td>\n",
       "      <td>2018-01-07</td>\n",
       "      <td>1</td>\n",
       "      <td>30428.43</td>\n",
       "      <td>9238.55</td>\n",
       "      <td>61.24</td>\n",
       "      <td>0.0</td>\n",
       "      <td>20778.64</td>\n",
       "      <td>350.00</td>\n",
       "      <td>0.0</td>\n",
       "      <td>organic</td>\n",
       "      <td>2018</td>\n",
       "      <td>Houston</td>\n",
       "      <td>1</td>\n",
       "      <td>6.322614e+08</td>\n",
       "    </tr>\n",
       "  </tbody>\n",
       "</table>\n",
       "</div>"
      ],
      "text/plain": [
       "       Unnamed: 0        Date  AveragePrice  Total Volume      4046    4225  \\\n",
       "17824           7  2018-02-04             1      27155.44  10163.94  216.52   \n",
       "17825           8  2018-01-28             1      26854.20  10288.17  114.77   \n",
       "17826           9  2018-01-21             1      32722.61   7335.69   43.11   \n",
       "17827          10  2018-01-14             1      35522.77  11013.42  108.93   \n",
       "17828          11  2018-01-07             1      30428.43   9238.55   61.24   \n",
       "\n",
       "       4770  Small Bags  Large Bags  XLarge Bags     type  year   region  \\\n",
       "17824   0.0    16644.99      129.99          0.0  organic  2018  Houston   \n",
       "17825   0.0    16394.59       56.67          0.0  organic  2018  Houston   \n",
       "17826   0.0    25100.48      243.33          0.0  organic  2018  Houston   \n",
       "17827   0.0    23953.75      446.67          0.0  organic  2018  Houston   \n",
       "17828   0.0    20778.64      350.00          0.0  organic  2018  Houston   \n",
       "\n",
       "       nueva          otra  \n",
       "17824      1  4.520020e+08  \n",
       "17825      1  4.402636e+08  \n",
       "17826      1  8.213532e+08  \n",
       "17827      1  8.509036e+08  \n",
       "17828      1  6.322614e+08  "
      ]
     },
     "execution_count": 119,
     "metadata": {},
     "output_type": "execute_result"
    }
   ],
   "source": [
    "df2.tail()"
   ]
  },
  {
   "cell_type": "code",
   "execution_count": 120,
   "id": "incoming-variance",
   "metadata": {},
   "outputs": [],
   "source": [
    "# ESTE CÓDIGO HACE EXACTAMENTE LO MISMO QUE LO ANTERIOR\n"
   ]
  },
  {
   "cell_type": "code",
   "execution_count": 121,
   "id": "young-speaker",
   "metadata": {},
   "outputs": [],
   "source": [
    "df2 = df[df[\"region\"] != \"Houston\"]"
   ]
  },
  {
   "cell_type": "code",
   "execution_count": 122,
   "id": "metric-auckland",
   "metadata": {},
   "outputs": [
    {
     "data": {
      "text/html": [
       "<div>\n",
       "<style scoped>\n",
       "    .dataframe tbody tr th:only-of-type {\n",
       "        vertical-align: middle;\n",
       "    }\n",
       "\n",
       "    .dataframe tbody tr th {\n",
       "        vertical-align: top;\n",
       "    }\n",
       "\n",
       "    .dataframe thead th {\n",
       "        text-align: right;\n",
       "    }\n",
       "</style>\n",
       "<table border=\"1\" class=\"dataframe\">\n",
       "  <thead>\n",
       "    <tr style=\"text-align: right;\">\n",
       "      <th></th>\n",
       "      <th>Unnamed: 0</th>\n",
       "      <th>Date</th>\n",
       "      <th>AveragePrice</th>\n",
       "      <th>Total Volume</th>\n",
       "      <th>4046</th>\n",
       "      <th>4225</th>\n",
       "      <th>4770</th>\n",
       "      <th>Small Bags</th>\n",
       "      <th>Large Bags</th>\n",
       "      <th>XLarge Bags</th>\n",
       "      <th>type</th>\n",
       "      <th>year</th>\n",
       "      <th>region</th>\n",
       "      <th>nueva</th>\n",
       "      <th>otra</th>\n",
       "    </tr>\n",
       "  </thead>\n",
       "  <tbody>\n",
       "    <tr>\n",
       "      <th>17930</th>\n",
       "      <td>5</td>\n",
       "      <td>2018-02-18</td>\n",
       "      <td>1</td>\n",
       "      <td>9239.49</td>\n",
       "      <td>290.98</td>\n",
       "      <td>188.28</td>\n",
       "      <td>0.00</td>\n",
       "      <td>8156.67</td>\n",
       "      <td>603.56</td>\n",
       "      <td>0.00</td>\n",
       "      <td>organic</td>\n",
       "      <td>2018</td>\n",
       "      <td>NewOrleansMobile</td>\n",
       "      <td>1</td>\n",
       "      <td>7.536347e+07</td>\n",
       "    </tr>\n",
       "    <tr>\n",
       "      <th>4999</th>\n",
       "      <td>7</td>\n",
       "      <td>2016-11-06</td>\n",
       "      <td>2</td>\n",
       "      <td>492504.81</td>\n",
       "      <td>109080.72</td>\n",
       "      <td>304926.27</td>\n",
       "      <td>3840.19</td>\n",
       "      <td>74025.26</td>\n",
       "      <td>103.20</td>\n",
       "      <td>529.17</td>\n",
       "      <td>conventional</td>\n",
       "      <td>2016</td>\n",
       "      <td>SanFrancisco</td>\n",
       "      <td>2</td>\n",
       "      <td>3.645780e+10</td>\n",
       "    </tr>\n",
       "    <tr>\n",
       "      <th>11289</th>\n",
       "      <td>31</td>\n",
       "      <td>2015-05-24</td>\n",
       "      <td>1</td>\n",
       "      <td>12044.14</td>\n",
       "      <td>2853.30</td>\n",
       "      <td>8566.51</td>\n",
       "      <td>0.00</td>\n",
       "      <td>624.33</td>\n",
       "      <td>0.00</td>\n",
       "      <td>0.00</td>\n",
       "      <td>organic</td>\n",
       "      <td>2015</td>\n",
       "      <td>SanDiego</td>\n",
       "      <td>1</td>\n",
       "      <td>7.519518e+06</td>\n",
       "    </tr>\n",
       "    <tr>\n",
       "      <th>9891</th>\n",
       "      <td>37</td>\n",
       "      <td>2015-04-12</td>\n",
       "      <td>1</td>\n",
       "      <td>823.50</td>\n",
       "      <td>0.00</td>\n",
       "      <td>606.83</td>\n",
       "      <td>0.00</td>\n",
       "      <td>216.67</td>\n",
       "      <td>0.00</td>\n",
       "      <td>0.00</td>\n",
       "      <td>organic</td>\n",
       "      <td>2015</td>\n",
       "      <td>GrandRapids</td>\n",
       "      <td>1</td>\n",
       "      <td>1.784277e+05</td>\n",
       "    </tr>\n",
       "  </tbody>\n",
       "</table>\n",
       "</div>"
      ],
      "text/plain": [
       "       Unnamed: 0        Date  AveragePrice  Total Volume       4046  \\\n",
       "17930           5  2018-02-18             1       9239.49     290.98   \n",
       "4999            7  2016-11-06             2     492504.81  109080.72   \n",
       "11289          31  2015-05-24             1      12044.14    2853.30   \n",
       "9891           37  2015-04-12             1        823.50       0.00   \n",
       "\n",
       "            4225     4770  Small Bags  Large Bags  XLarge Bags          type  \\\n",
       "17930     188.28     0.00     8156.67      603.56         0.00       organic   \n",
       "4999   304926.27  3840.19    74025.26      103.20       529.17  conventional   \n",
       "11289    8566.51     0.00      624.33        0.00         0.00       organic   \n",
       "9891      606.83     0.00      216.67        0.00         0.00       organic   \n",
       "\n",
       "       year            region  nueva          otra  \n",
       "17930  2018  NewOrleansMobile      1  7.536347e+07  \n",
       "4999   2016      SanFrancisco      2  3.645780e+10  \n",
       "11289  2015          SanDiego      1  7.519518e+06  \n",
       "9891   2015       GrandRapids      1  1.784277e+05  "
      ]
     },
     "execution_count": 122,
     "metadata": {},
     "output_type": "execute_result"
    }
   ],
   "source": [
    "df2.sample(4)"
   ]
  },
  {
   "cell_type": "code",
   "execution_count": 123,
   "id": "27f9df51",
   "metadata": {},
   "outputs": [],
   "source": [
    "#df.info()"
   ]
  },
  {
   "cell_type": "code",
   "execution_count": 124,
   "id": "offshore-truth",
   "metadata": {},
   "outputs": [],
   "source": [
    "# multicondición, & and lógico\n",
    "multi = df[(df.region == \"Houston\") & (df.year == 2015)]"
   ]
  },
  {
   "cell_type": "code",
   "execution_count": 125,
   "id": "manufactured-asian",
   "metadata": {},
   "outputs": [
    {
     "data": {
      "text/html": [
       "<div>\n",
       "<style scoped>\n",
       "    .dataframe tbody tr th:only-of-type {\n",
       "        vertical-align: middle;\n",
       "    }\n",
       "\n",
       "    .dataframe tbody tr th {\n",
       "        vertical-align: top;\n",
       "    }\n",
       "\n",
       "    .dataframe thead th {\n",
       "        text-align: right;\n",
       "    }\n",
       "</style>\n",
       "<table border=\"1\" class=\"dataframe\">\n",
       "  <thead>\n",
       "    <tr style=\"text-align: right;\">\n",
       "      <th></th>\n",
       "      <th>Unnamed: 0</th>\n",
       "      <th>Date</th>\n",
       "      <th>AveragePrice</th>\n",
       "      <th>Total Volume</th>\n",
       "      <th>4046</th>\n",
       "      <th>4225</th>\n",
       "      <th>4770</th>\n",
       "      <th>Small Bags</th>\n",
       "      <th>Large Bags</th>\n",
       "      <th>XLarge Bags</th>\n",
       "      <th>type</th>\n",
       "      <th>year</th>\n",
       "      <th>region</th>\n",
       "      <th>nueva</th>\n",
       "      <th>otra</th>\n",
       "    </tr>\n",
       "  </thead>\n",
       "  <tbody>\n",
       "    <tr>\n",
       "      <th>936</th>\n",
       "      <td>0</td>\n",
       "      <td>2015-12-27</td>\n",
       "      <td>0</td>\n",
       "      <td>944506.54</td>\n",
       "      <td>389773.22</td>\n",
       "      <td>288003.62</td>\n",
       "      <td>126150.81</td>\n",
       "      <td>73711.94</td>\n",
       "      <td>36493.62</td>\n",
       "      <td>30373.33</td>\n",
       "      <td>conventional</td>\n",
       "      <td>2015</td>\n",
       "      <td>Houston</td>\n",
       "      <td>0</td>\n",
       "      <td>6.962141e+10</td>\n",
       "    </tr>\n",
       "    <tr>\n",
       "      <th>937</th>\n",
       "      <td>1</td>\n",
       "      <td>2015-12-20</td>\n",
       "      <td>0</td>\n",
       "      <td>922355.67</td>\n",
       "      <td>382444.22</td>\n",
       "      <td>278067.11</td>\n",
       "      <td>127372.19</td>\n",
       "      <td>72198.16</td>\n",
       "      <td>31520.66</td>\n",
       "      <td>30753.33</td>\n",
       "      <td>conventional</td>\n",
       "      <td>2015</td>\n",
       "      <td>Houston</td>\n",
       "      <td>0</td>\n",
       "      <td>6.659238e+10</td>\n",
       "    </tr>\n",
       "    <tr>\n",
       "      <th>938</th>\n",
       "      <td>2</td>\n",
       "      <td>2015-12-13</td>\n",
       "      <td>0</td>\n",
       "      <td>998752.95</td>\n",
       "      <td>412187.80</td>\n",
       "      <td>386865.21</td>\n",
       "      <td>81450.04</td>\n",
       "      <td>69011.01</td>\n",
       "      <td>48622.22</td>\n",
       "      <td>616.67</td>\n",
       "      <td>conventional</td>\n",
       "      <td>2015</td>\n",
       "      <td>Houston</td>\n",
       "      <td>0</td>\n",
       "      <td>6.892495e+10</td>\n",
       "    </tr>\n",
       "    <tr>\n",
       "      <th>939</th>\n",
       "      <td>3</td>\n",
       "      <td>2015-12-06</td>\n",
       "      <td>0</td>\n",
       "      <td>989676.85</td>\n",
       "      <td>368528.91</td>\n",
       "      <td>490805.00</td>\n",
       "      <td>7041.19</td>\n",
       "      <td>61020.31</td>\n",
       "      <td>62281.44</td>\n",
       "      <td>0.00</td>\n",
       "      <td>conventional</td>\n",
       "      <td>2015</td>\n",
       "      <td>Houston</td>\n",
       "      <td>0</td>\n",
       "      <td>6.039039e+10</td>\n",
       "    </tr>\n",
       "    <tr>\n",
       "      <th>940</th>\n",
       "      <td>4</td>\n",
       "      <td>2015-11-29</td>\n",
       "      <td>0</td>\n",
       "      <td>783225.98</td>\n",
       "      <td>391616.95</td>\n",
       "      <td>289533.68</td>\n",
       "      <td>4334.89</td>\n",
       "      <td>67880.28</td>\n",
       "      <td>29860.18</td>\n",
       "      <td>0.00</td>\n",
       "      <td>conventional</td>\n",
       "      <td>2015</td>\n",
       "      <td>Houston</td>\n",
       "      <td>0</td>\n",
       "      <td>5.316560e+10</td>\n",
       "    </tr>\n",
       "  </tbody>\n",
       "</table>\n",
       "</div>"
      ],
      "text/plain": [
       "     Unnamed: 0        Date  AveragePrice  Total Volume       4046       4225  \\\n",
       "936           0  2015-12-27             0     944506.54  389773.22  288003.62   \n",
       "937           1  2015-12-20             0     922355.67  382444.22  278067.11   \n",
       "938           2  2015-12-13             0     998752.95  412187.80  386865.21   \n",
       "939           3  2015-12-06             0     989676.85  368528.91  490805.00   \n",
       "940           4  2015-11-29             0     783225.98  391616.95  289533.68   \n",
       "\n",
       "          4770  Small Bags  Large Bags  XLarge Bags          type  year  \\\n",
       "936  126150.81    73711.94    36493.62     30373.33  conventional  2015   \n",
       "937  127372.19    72198.16    31520.66     30753.33  conventional  2015   \n",
       "938   81450.04    69011.01    48622.22       616.67  conventional  2015   \n",
       "939    7041.19    61020.31    62281.44         0.00  conventional  2015   \n",
       "940    4334.89    67880.28    29860.18         0.00  conventional  2015   \n",
       "\n",
       "      region  nueva          otra  \n",
       "936  Houston      0  6.962141e+10  \n",
       "937  Houston      0  6.659238e+10  \n",
       "938  Houston      0  6.892495e+10  \n",
       "939  Houston      0  6.039039e+10  \n",
       "940  Houston      0  5.316560e+10  "
      ]
     },
     "execution_count": 125,
     "metadata": {},
     "output_type": "execute_result"
    }
   ],
   "source": [
    "multi.head()"
   ]
  },
  {
   "cell_type": "code",
   "execution_count": 126,
   "id": "3a087eb2",
   "metadata": {},
   "outputs": [],
   "source": [
    "multi_p = df[(df.region == \"Houston\") | (df.region == \"Albany\")]"
   ]
  },
  {
   "cell_type": "code",
   "execution_count": 127,
   "id": "5d856d3a",
   "metadata": {},
   "outputs": [
    {
     "data": {
      "text/html": [
       "<div>\n",
       "<style scoped>\n",
       "    .dataframe tbody tr th:only-of-type {\n",
       "        vertical-align: middle;\n",
       "    }\n",
       "\n",
       "    .dataframe tbody tr th {\n",
       "        vertical-align: top;\n",
       "    }\n",
       "\n",
       "    .dataframe thead th {\n",
       "        text-align: right;\n",
       "    }\n",
       "</style>\n",
       "<table border=\"1\" class=\"dataframe\">\n",
       "  <thead>\n",
       "    <tr style=\"text-align: right;\">\n",
       "      <th></th>\n",
       "      <th>Unnamed: 0</th>\n",
       "      <th>Date</th>\n",
       "      <th>AveragePrice</th>\n",
       "      <th>Total Volume</th>\n",
       "      <th>4046</th>\n",
       "      <th>4225</th>\n",
       "      <th>4770</th>\n",
       "      <th>Small Bags</th>\n",
       "      <th>Large Bags</th>\n",
       "      <th>XLarge Bags</th>\n",
       "      <th>type</th>\n",
       "      <th>year</th>\n",
       "      <th>region</th>\n",
       "      <th>nueva</th>\n",
       "      <th>otra</th>\n",
       "    </tr>\n",
       "  </thead>\n",
       "  <tbody>\n",
       "    <tr>\n",
       "      <th>12903</th>\n",
       "      <td>34</td>\n",
       "      <td>2016-05-01</td>\n",
       "      <td>1</td>\n",
       "      <td>16297.47</td>\n",
       "      <td>5949.10</td>\n",
       "      <td>32.49</td>\n",
       "      <td>0.00</td>\n",
       "      <td>9033.37</td>\n",
       "      <td>1282.51</td>\n",
       "      <td>0.00</td>\n",
       "      <td>organic</td>\n",
       "      <td>2016</td>\n",
       "      <td>Houston</td>\n",
       "      <td>1</td>\n",
       "      <td>1.472211e+08</td>\n",
       "    </tr>\n",
       "    <tr>\n",
       "      <th>3749</th>\n",
       "      <td>5</td>\n",
       "      <td>2016-11-20</td>\n",
       "      <td>0</td>\n",
       "      <td>827345.76</td>\n",
       "      <td>466960.66</td>\n",
       "      <td>202860.35</td>\n",
       "      <td>4070.15</td>\n",
       "      <td>58525.46</td>\n",
       "      <td>94915.81</td>\n",
       "      <td>13.33</td>\n",
       "      <td>conventional</td>\n",
       "      <td>2016</td>\n",
       "      <td>Houston</td>\n",
       "      <td>0</td>\n",
       "      <td>4.842079e+10</td>\n",
       "    </tr>\n",
       "  </tbody>\n",
       "</table>\n",
       "</div>"
      ],
      "text/plain": [
       "       Unnamed: 0        Date  AveragePrice  Total Volume       4046  \\\n",
       "12903          34  2016-05-01             1      16297.47    5949.10   \n",
       "3749            5  2016-11-20             0     827345.76  466960.66   \n",
       "\n",
       "            4225     4770  Small Bags  Large Bags  XLarge Bags          type  \\\n",
       "12903      32.49     0.00     9033.37     1282.51         0.00       organic   \n",
       "3749   202860.35  4070.15    58525.46    94915.81        13.33  conventional   \n",
       "\n",
       "       year   region  nueva          otra  \n",
       "12903  2016  Houston      1  1.472211e+08  \n",
       "3749   2016  Houston      0  4.842079e+10  "
      ]
     },
     "execution_count": 127,
     "metadata": {},
     "output_type": "execute_result"
    }
   ],
   "source": [
    "multi_p.sample(2)"
   ]
  },
  {
   "cell_type": "code",
   "execution_count": 128,
   "id": "flush-printing",
   "metadata": {},
   "outputs": [
    {
     "data": {
      "text/html": [
       "<div>\n",
       "<style scoped>\n",
       "    .dataframe tbody tr th:only-of-type {\n",
       "        vertical-align: middle;\n",
       "    }\n",
       "\n",
       "    .dataframe tbody tr th {\n",
       "        vertical-align: top;\n",
       "    }\n",
       "\n",
       "    .dataframe thead th {\n",
       "        text-align: right;\n",
       "    }\n",
       "</style>\n",
       "<table border=\"1\" class=\"dataframe\">\n",
       "  <thead>\n",
       "    <tr style=\"text-align: right;\">\n",
       "      <th></th>\n",
       "      <th>Unnamed: 0</th>\n",
       "      <th>Date</th>\n",
       "      <th>AveragePrice</th>\n",
       "      <th>Total Volume</th>\n",
       "      <th>4046</th>\n",
       "      <th>4225</th>\n",
       "      <th>4770</th>\n",
       "      <th>Small Bags</th>\n",
       "      <th>Large Bags</th>\n",
       "      <th>XLarge Bags</th>\n",
       "      <th>type</th>\n",
       "      <th>year</th>\n",
       "      <th>region</th>\n",
       "      <th>nueva</th>\n",
       "      <th>otra</th>\n",
       "    </tr>\n",
       "  </thead>\n",
       "  <tbody>\n",
       "    <tr>\n",
       "      <th>3750</th>\n",
       "      <td>6</td>\n",
       "      <td>2016-11-13</td>\n",
       "      <td>1</td>\n",
       "      <td>828866.80</td>\n",
       "      <td>431731.62</td>\n",
       "      <td>231630.38</td>\n",
       "      <td>4850.40</td>\n",
       "      <td>61276.87</td>\n",
       "      <td>99274.75</td>\n",
       "      <td>102.78</td>\n",
       "      <td>conventional</td>\n",
       "      <td>2016</td>\n",
       "      <td>Houston</td>\n",
       "      <td>1</td>\n",
       "      <td>5.079036e+10</td>\n",
       "    </tr>\n",
       "    <tr>\n",
       "      <th>3751</th>\n",
       "      <td>7</td>\n",
       "      <td>2016-11-06</td>\n",
       "      <td>1</td>\n",
       "      <td>782911.25</td>\n",
       "      <td>430098.78</td>\n",
       "      <td>168814.95</td>\n",
       "      <td>2921.98</td>\n",
       "      <td>78827.53</td>\n",
       "      <td>102248.01</td>\n",
       "      <td>0.00</td>\n",
       "      <td>conventional</td>\n",
       "      <td>2016</td>\n",
       "      <td>Houston</td>\n",
       "      <td>1</td>\n",
       "      <td>6.171496e+10</td>\n",
       "    </tr>\n",
       "    <tr>\n",
       "      <th>3752</th>\n",
       "      <td>8</td>\n",
       "      <td>2016-10-30</td>\n",
       "      <td>1</td>\n",
       "      <td>709890.11</td>\n",
       "      <td>346283.28</td>\n",
       "      <td>181578.62</td>\n",
       "      <td>3192.69</td>\n",
       "      <td>47722.65</td>\n",
       "      <td>131112.87</td>\n",
       "      <td>0.00</td>\n",
       "      <td>conventional</td>\n",
       "      <td>2016</td>\n",
       "      <td>Houston</td>\n",
       "      <td>1</td>\n",
       "      <td>3.387784e+10</td>\n",
       "    </tr>\n",
       "    <tr>\n",
       "      <th>3753</th>\n",
       "      <td>9</td>\n",
       "      <td>2016-10-23</td>\n",
       "      <td>1</td>\n",
       "      <td>777847.84</td>\n",
       "      <td>371566.37</td>\n",
       "      <td>145059.25</td>\n",
       "      <td>2488.59</td>\n",
       "      <td>197398.04</td>\n",
       "      <td>61335.59</td>\n",
       "      <td>0.00</td>\n",
       "      <td>conventional</td>\n",
       "      <td>2016</td>\n",
       "      <td>Houston</td>\n",
       "      <td>1</td>\n",
       "      <td>1.535456e+11</td>\n",
       "    </tr>\n",
       "    <tr>\n",
       "      <th>6579</th>\n",
       "      <td>9</td>\n",
       "      <td>2017-10-29</td>\n",
       "      <td>1</td>\n",
       "      <td>1126402.78</td>\n",
       "      <td>481864.71</td>\n",
       "      <td>189258.96</td>\n",
       "      <td>2105.74</td>\n",
       "      <td>264530.01</td>\n",
       "      <td>188243.36</td>\n",
       "      <td>400.00</td>\n",
       "      <td>conventional</td>\n",
       "      <td>2017</td>\n",
       "      <td>Houston</td>\n",
       "      <td>1</td>\n",
       "      <td>2.979673e+11</td>\n",
       "    </tr>\n",
       "  </tbody>\n",
       "</table>\n",
       "</div>"
      ],
      "text/plain": [
       "      Unnamed: 0        Date  AveragePrice  Total Volume       4046  \\\n",
       "3750           6  2016-11-13             1     828866.80  431731.62   \n",
       "3751           7  2016-11-06             1     782911.25  430098.78   \n",
       "3752           8  2016-10-30             1     709890.11  346283.28   \n",
       "3753           9  2016-10-23             1     777847.84  371566.37   \n",
       "6579           9  2017-10-29             1    1126402.78  481864.71   \n",
       "\n",
       "           4225     4770  Small Bags  Large Bags  XLarge Bags          type  \\\n",
       "3750  231630.38  4850.40    61276.87    99274.75       102.78  conventional   \n",
       "3751  168814.95  2921.98    78827.53   102248.01         0.00  conventional   \n",
       "3752  181578.62  3192.69    47722.65   131112.87         0.00  conventional   \n",
       "3753  145059.25  2488.59   197398.04    61335.59         0.00  conventional   \n",
       "6579  189258.96  2105.74   264530.01   188243.36       400.00  conventional   \n",
       "\n",
       "      year   region  nueva          otra  \n",
       "3750  2016  Houston      1  5.079036e+10  \n",
       "3751  2016  Houston      1  6.171496e+10  \n",
       "3752  2016  Houston      1  3.387784e+10  \n",
       "3753  2016  Houston      1  1.535456e+11  \n",
       "6579  2017  Houston      1  2.979673e+11  "
      ]
     },
     "execution_count": 128,
     "metadata": {},
     "output_type": "execute_result"
    }
   ],
   "source": [
    "# | or logico\n",
    "df[(df.region==\"Houston\")&(df.AveragePrice >= 0.78)].head()"
   ]
  },
  {
   "cell_type": "markdown",
   "id": "viral-enzyme",
   "metadata": {},
   "source": [
    "### Copia de un dataframe y renombrar columnas"
   ]
  },
  {
   "cell_type": "code",
   "execution_count": 129,
   "id": "intended-merchandise",
   "metadata": {},
   "outputs": [],
   "source": [
    "otracopia = df.copy()"
   ]
  },
  {
   "cell_type": "markdown",
   "id": "apparent-venture",
   "metadata": {},
   "source": [
    "#### Renombramos columnas\n",
    "Para renombrar columnas necesitamos un diccionario"
   ]
  },
  {
   "cell_type": "code",
   "execution_count": 130,
   "id": "beginning-merchandise",
   "metadata": {},
   "outputs": [
    {
     "data": {
      "text/plain": [
       "['Unnamed: 0',\n",
       " 'Date',\n",
       " 'AveragePrice',\n",
       " 'Total Volume',\n",
       " '4046',\n",
       " '4225',\n",
       " '4770',\n",
       " 'Total Bags',\n",
       " 'Small Bags',\n",
       " 'Large Bags',\n",
       " 'XLarge Bags',\n",
       " 'type',\n",
       " 'year',\n",
       " 'region']"
      ]
     },
     "execution_count": 130,
     "metadata": {},
     "output_type": "execute_result"
    }
   ],
   "source": [
    "columnas #la tenía de antes"
   ]
  },
  {
   "cell_type": "code",
   "execution_count": 131,
   "id": "included-coordinator",
   "metadata": {},
   "outputs": [],
   "source": [
    "diccio_nuevas = {columna: columna.replace(\" \", \"_\").lower() for columna in columnas}"
   ]
  },
  {
   "cell_type": "code",
   "execution_count": 132,
   "id": "infinite-definition",
   "metadata": {},
   "outputs": [
    {
     "data": {
      "text/plain": [
       "{'Unnamed: 0': 'unnamed:_0',\n",
       " 'Date': 'date',\n",
       " 'AveragePrice': 'averageprice',\n",
       " 'Total Volume': 'total_volume',\n",
       " '4046': '4046',\n",
       " '4225': '4225',\n",
       " '4770': '4770',\n",
       " 'Total Bags': 'total_bags',\n",
       " 'Small Bags': 'small_bags',\n",
       " 'Large Bags': 'large_bags',\n",
       " 'XLarge Bags': 'xlarge_bags',\n",
       " 'type': 'type',\n",
       " 'year': 'year',\n",
       " 'region': 'region'}"
      ]
     },
     "execution_count": 132,
     "metadata": {},
     "output_type": "execute_result"
    }
   ],
   "source": [
    "diccio_nuevas"
   ]
  },
  {
   "cell_type": "code",
   "execution_count": 133,
   "id": "sweet-pocket",
   "metadata": {},
   "outputs": [
    {
     "data": {
      "text/html": [
       "<div>\n",
       "<style scoped>\n",
       "    .dataframe tbody tr th:only-of-type {\n",
       "        vertical-align: middle;\n",
       "    }\n",
       "\n",
       "    .dataframe tbody tr th {\n",
       "        vertical-align: top;\n",
       "    }\n",
       "\n",
       "    .dataframe thead th {\n",
       "        text-align: right;\n",
       "    }\n",
       "</style>\n",
       "<table border=\"1\" class=\"dataframe\">\n",
       "  <thead>\n",
       "    <tr style=\"text-align: right;\">\n",
       "      <th></th>\n",
       "      <th>unnamed:_0</th>\n",
       "      <th>date</th>\n",
       "      <th>averageprice</th>\n",
       "      <th>total_volume</th>\n",
       "      <th>4046</th>\n",
       "      <th>4225</th>\n",
       "      <th>4770</th>\n",
       "      <th>small_bags</th>\n",
       "      <th>large_bags</th>\n",
       "      <th>xlarge_bags</th>\n",
       "      <th>type</th>\n",
       "      <th>year</th>\n",
       "      <th>region</th>\n",
       "      <th>nueva</th>\n",
       "      <th>otra</th>\n",
       "    </tr>\n",
       "  </thead>\n",
       "  <tbody>\n",
       "    <tr>\n",
       "      <th>8559</th>\n",
       "      <td>9</td>\n",
       "      <td>2018-01-21</td>\n",
       "      <td>1</td>\n",
       "      <td>6610010.64</td>\n",
       "      <td>2378177.09</td>\n",
       "      <td>2590301.7</td>\n",
       "      <td>122950.68</td>\n",
       "      <td>1431898.88</td>\n",
       "      <td>24801.59</td>\n",
       "      <td>61880.7</td>\n",
       "      <td>conventional</td>\n",
       "      <td>2018</td>\n",
       "      <td>California</td>\n",
       "      <td>1</td>\n",
       "      <td>9.464867e+12</td>\n",
       "    </tr>\n",
       "  </tbody>\n",
       "</table>\n",
       "</div>"
      ],
      "text/plain": [
       "      unnamed:_0        date  averageprice  total_volume        4046  \\\n",
       "8559           9  2018-01-21             1    6610010.64  2378177.09   \n",
       "\n",
       "           4225       4770  small_bags  large_bags  xlarge_bags          type  \\\n",
       "8559  2590301.7  122950.68  1431898.88    24801.59      61880.7  conventional   \n",
       "\n",
       "      year      region  nueva          otra  \n",
       "8559  2018  California      1  9.464867e+12  "
      ]
     },
     "execution_count": 133,
     "metadata": {},
     "output_type": "execute_result"
    }
   ],
   "source": [
    "df_renombrado = df.rename(columns=diccio_nuevas)\n",
    "df_renombrado.sample()"
   ]
  },
  {
   "cell_type": "code",
   "execution_count": 134,
   "id": "8b09cf8c",
   "metadata": {},
   "outputs": [],
   "source": [
    "# Utilizamos el inplace=True para que se ejecute la acción sobre el dataframe\n",
    "df.rename(columns=diccio_nuevas, inplace=True)"
   ]
  },
  {
   "cell_type": "code",
   "execution_count": 135,
   "id": "9edf3219",
   "metadata": {},
   "outputs": [
    {
     "data": {
      "text/html": [
       "<div>\n",
       "<style scoped>\n",
       "    .dataframe tbody tr th:only-of-type {\n",
       "        vertical-align: middle;\n",
       "    }\n",
       "\n",
       "    .dataframe tbody tr th {\n",
       "        vertical-align: top;\n",
       "    }\n",
       "\n",
       "    .dataframe thead th {\n",
       "        text-align: right;\n",
       "    }\n",
       "</style>\n",
       "<table border=\"1\" class=\"dataframe\">\n",
       "  <thead>\n",
       "    <tr style=\"text-align: right;\">\n",
       "      <th></th>\n",
       "      <th>unnamed:_0</th>\n",
       "      <th>date</th>\n",
       "      <th>averageprice</th>\n",
       "      <th>total_volume</th>\n",
       "      <th>4046</th>\n",
       "      <th>4225</th>\n",
       "      <th>4770</th>\n",
       "      <th>small_bags</th>\n",
       "      <th>large_bags</th>\n",
       "      <th>xlarge_bags</th>\n",
       "      <th>type</th>\n",
       "      <th>year</th>\n",
       "      <th>region</th>\n",
       "      <th>nueva</th>\n",
       "      <th>otra</th>\n",
       "    </tr>\n",
       "  </thead>\n",
       "  <tbody>\n",
       "    <tr>\n",
       "      <th>0</th>\n",
       "      <td>0</td>\n",
       "      <td>2015-12-27</td>\n",
       "      <td>1</td>\n",
       "      <td>64236.62</td>\n",
       "      <td>1036.74</td>\n",
       "      <td>54454.85</td>\n",
       "      <td>48.16</td>\n",
       "      <td>8603.62</td>\n",
       "      <td>93.25</td>\n",
       "      <td>0.0</td>\n",
       "      <td>conventional</td>\n",
       "      <td>2015</td>\n",
       "      <td>Albany</td>\n",
       "      <td>1</td>\n",
       "      <td>5.526675e+08</td>\n",
       "    </tr>\n",
       "    <tr>\n",
       "      <th>1</th>\n",
       "      <td>1</td>\n",
       "      <td>2015-12-20</td>\n",
       "      <td>1</td>\n",
       "      <td>54876.98</td>\n",
       "      <td>674.28</td>\n",
       "      <td>44638.81</td>\n",
       "      <td>58.33</td>\n",
       "      <td>9408.07</td>\n",
       "      <td>97.49</td>\n",
       "      <td>0.0</td>\n",
       "      <td>conventional</td>\n",
       "      <td>2015</td>\n",
       "      <td>Albany</td>\n",
       "      <td>1</td>\n",
       "      <td>5.162865e+08</td>\n",
       "    </tr>\n",
       "    <tr>\n",
       "      <th>2</th>\n",
       "      <td>2</td>\n",
       "      <td>2015-12-13</td>\n",
       "      <td>0</td>\n",
       "      <td>118220.22</td>\n",
       "      <td>794.70</td>\n",
       "      <td>109149.67</td>\n",
       "      <td>130.50</td>\n",
       "      <td>8042.21</td>\n",
       "      <td>103.14</td>\n",
       "      <td>0.0</td>\n",
       "      <td>conventional</td>\n",
       "      <td>2015</td>\n",
       "      <td>Albany</td>\n",
       "      <td>0</td>\n",
       "      <td>9.507518e+08</td>\n",
       "    </tr>\n",
       "    <tr>\n",
       "      <th>3</th>\n",
       "      <td>3</td>\n",
       "      <td>2015-12-06</td>\n",
       "      <td>1</td>\n",
       "      <td>78992.15</td>\n",
       "      <td>1132.00</td>\n",
       "      <td>71976.41</td>\n",
       "      <td>72.58</td>\n",
       "      <td>5677.40</td>\n",
       "      <td>133.76</td>\n",
       "      <td>0.0</td>\n",
       "      <td>conventional</td>\n",
       "      <td>2015</td>\n",
       "      <td>Albany</td>\n",
       "      <td>1</td>\n",
       "      <td>4.484700e+08</td>\n",
       "    </tr>\n",
       "    <tr>\n",
       "      <th>4</th>\n",
       "      <td>4</td>\n",
       "      <td>2015-11-29</td>\n",
       "      <td>1</td>\n",
       "      <td>51039.60</td>\n",
       "      <td>941.48</td>\n",
       "      <td>43838.39</td>\n",
       "      <td>75.78</td>\n",
       "      <td>5986.26</td>\n",
       "      <td>197.69</td>\n",
       "      <td>0.0</td>\n",
       "      <td>conventional</td>\n",
       "      <td>2015</td>\n",
       "      <td>Albany</td>\n",
       "      <td>1</td>\n",
       "      <td>3.055363e+08</td>\n",
       "    </tr>\n",
       "  </tbody>\n",
       "</table>\n",
       "</div>"
      ],
      "text/plain": [
       "   unnamed:_0        date  averageprice  total_volume     4046       4225  \\\n",
       "0           0  2015-12-27             1      64236.62  1036.74   54454.85   \n",
       "1           1  2015-12-20             1      54876.98   674.28   44638.81   \n",
       "2           2  2015-12-13             0     118220.22   794.70  109149.67   \n",
       "3           3  2015-12-06             1      78992.15  1132.00   71976.41   \n",
       "4           4  2015-11-29             1      51039.60   941.48   43838.39   \n",
       "\n",
       "     4770  small_bags  large_bags  xlarge_bags          type  year  region  \\\n",
       "0   48.16     8603.62       93.25          0.0  conventional  2015  Albany   \n",
       "1   58.33     9408.07       97.49          0.0  conventional  2015  Albany   \n",
       "2  130.50     8042.21      103.14          0.0  conventional  2015  Albany   \n",
       "3   72.58     5677.40      133.76          0.0  conventional  2015  Albany   \n",
       "4   75.78     5986.26      197.69          0.0  conventional  2015  Albany   \n",
       "\n",
       "   nueva          otra  \n",
       "0      1  5.526675e+08  \n",
       "1      1  5.162865e+08  \n",
       "2      0  9.507518e+08  \n",
       "3      1  4.484700e+08  \n",
       "4      1  3.055363e+08  "
      ]
     },
     "execution_count": 135,
     "metadata": {},
     "output_type": "execute_result"
    }
   ],
   "source": [
    "df.head()"
   ]
  },
  {
   "cell_type": "markdown",
   "id": "everyday-oregon",
   "metadata": {},
   "source": [
    "El método rename me permite renombrar solamente las columnas que yo quiera, las que estén en el diccionario. No hace falta renombrar todas a la vez "
   ]
  },
  {
   "cell_type": "code",
   "execution_count": 136,
   "id": "30490aa2",
   "metadata": {},
   "outputs": [],
   "source": [
    "otro = {\"unnamed:_0\": \"Inútil\"}"
   ]
  },
  {
   "cell_type": "code",
   "execution_count": 137,
   "id": "3758e2e7",
   "metadata": {},
   "outputs": [],
   "source": [
    "df.rename(columns = otro, inplace=True)"
   ]
  },
  {
   "cell_type": "code",
   "execution_count": 138,
   "id": "a8cc35e9",
   "metadata": {},
   "outputs": [
    {
     "data": {
      "text/html": [
       "<div>\n",
       "<style scoped>\n",
       "    .dataframe tbody tr th:only-of-type {\n",
       "        vertical-align: middle;\n",
       "    }\n",
       "\n",
       "    .dataframe tbody tr th {\n",
       "        vertical-align: top;\n",
       "    }\n",
       "\n",
       "    .dataframe thead th {\n",
       "        text-align: right;\n",
       "    }\n",
       "</style>\n",
       "<table border=\"1\" class=\"dataframe\">\n",
       "  <thead>\n",
       "    <tr style=\"text-align: right;\">\n",
       "      <th></th>\n",
       "      <th>Inútil</th>\n",
       "      <th>date</th>\n",
       "      <th>averageprice</th>\n",
       "      <th>total_volume</th>\n",
       "      <th>4046</th>\n",
       "      <th>4225</th>\n",
       "      <th>4770</th>\n",
       "      <th>small_bags</th>\n",
       "      <th>large_bags</th>\n",
       "      <th>xlarge_bags</th>\n",
       "      <th>type</th>\n",
       "      <th>year</th>\n",
       "      <th>region</th>\n",
       "      <th>nueva</th>\n",
       "      <th>otra</th>\n",
       "    </tr>\n",
       "  </thead>\n",
       "  <tbody>\n",
       "    <tr>\n",
       "      <th>0</th>\n",
       "      <td>0</td>\n",
       "      <td>2015-12-27</td>\n",
       "      <td>1</td>\n",
       "      <td>64236.62</td>\n",
       "      <td>1036.74</td>\n",
       "      <td>54454.85</td>\n",
       "      <td>48.16</td>\n",
       "      <td>8603.62</td>\n",
       "      <td>93.25</td>\n",
       "      <td>0.0</td>\n",
       "      <td>conventional</td>\n",
       "      <td>2015</td>\n",
       "      <td>Albany</td>\n",
       "      <td>1</td>\n",
       "      <td>5.526675e+08</td>\n",
       "    </tr>\n",
       "    <tr>\n",
       "      <th>1</th>\n",
       "      <td>1</td>\n",
       "      <td>2015-12-20</td>\n",
       "      <td>1</td>\n",
       "      <td>54876.98</td>\n",
       "      <td>674.28</td>\n",
       "      <td>44638.81</td>\n",
       "      <td>58.33</td>\n",
       "      <td>9408.07</td>\n",
       "      <td>97.49</td>\n",
       "      <td>0.0</td>\n",
       "      <td>conventional</td>\n",
       "      <td>2015</td>\n",
       "      <td>Albany</td>\n",
       "      <td>1</td>\n",
       "      <td>5.162865e+08</td>\n",
       "    </tr>\n",
       "    <tr>\n",
       "      <th>2</th>\n",
       "      <td>2</td>\n",
       "      <td>2015-12-13</td>\n",
       "      <td>0</td>\n",
       "      <td>118220.22</td>\n",
       "      <td>794.70</td>\n",
       "      <td>109149.67</td>\n",
       "      <td>130.50</td>\n",
       "      <td>8042.21</td>\n",
       "      <td>103.14</td>\n",
       "      <td>0.0</td>\n",
       "      <td>conventional</td>\n",
       "      <td>2015</td>\n",
       "      <td>Albany</td>\n",
       "      <td>0</td>\n",
       "      <td>9.507518e+08</td>\n",
       "    </tr>\n",
       "    <tr>\n",
       "      <th>3</th>\n",
       "      <td>3</td>\n",
       "      <td>2015-12-06</td>\n",
       "      <td>1</td>\n",
       "      <td>78992.15</td>\n",
       "      <td>1132.00</td>\n",
       "      <td>71976.41</td>\n",
       "      <td>72.58</td>\n",
       "      <td>5677.40</td>\n",
       "      <td>133.76</td>\n",
       "      <td>0.0</td>\n",
       "      <td>conventional</td>\n",
       "      <td>2015</td>\n",
       "      <td>Albany</td>\n",
       "      <td>1</td>\n",
       "      <td>4.484700e+08</td>\n",
       "    </tr>\n",
       "    <tr>\n",
       "      <th>4</th>\n",
       "      <td>4</td>\n",
       "      <td>2015-11-29</td>\n",
       "      <td>1</td>\n",
       "      <td>51039.60</td>\n",
       "      <td>941.48</td>\n",
       "      <td>43838.39</td>\n",
       "      <td>75.78</td>\n",
       "      <td>5986.26</td>\n",
       "      <td>197.69</td>\n",
       "      <td>0.0</td>\n",
       "      <td>conventional</td>\n",
       "      <td>2015</td>\n",
       "      <td>Albany</td>\n",
       "      <td>1</td>\n",
       "      <td>3.055363e+08</td>\n",
       "    </tr>\n",
       "  </tbody>\n",
       "</table>\n",
       "</div>"
      ],
      "text/plain": [
       "   Inútil        date  averageprice  total_volume     4046       4225    4770  \\\n",
       "0       0  2015-12-27             1      64236.62  1036.74   54454.85   48.16   \n",
       "1       1  2015-12-20             1      54876.98   674.28   44638.81   58.33   \n",
       "2       2  2015-12-13             0     118220.22   794.70  109149.67  130.50   \n",
       "3       3  2015-12-06             1      78992.15  1132.00   71976.41   72.58   \n",
       "4       4  2015-11-29             1      51039.60   941.48   43838.39   75.78   \n",
       "\n",
       "   small_bags  large_bags  xlarge_bags          type  year  region  nueva  \\\n",
       "0     8603.62       93.25          0.0  conventional  2015  Albany      1   \n",
       "1     9408.07       97.49          0.0  conventional  2015  Albany      1   \n",
       "2     8042.21      103.14          0.0  conventional  2015  Albany      0   \n",
       "3     5677.40      133.76          0.0  conventional  2015  Albany      1   \n",
       "4     5986.26      197.69          0.0  conventional  2015  Albany      1   \n",
       "\n",
       "           otra  \n",
       "0  5.526675e+08  \n",
       "1  5.162865e+08  \n",
       "2  9.507518e+08  \n",
       "3  4.484700e+08  \n",
       "4  3.055363e+08  "
      ]
     },
     "execution_count": 138,
     "metadata": {},
     "output_type": "execute_result"
    }
   ],
   "source": [
    "df.head()"
   ]
  },
  {
   "cell_type": "code",
   "execution_count": 139,
   "id": "3fbe1c3a",
   "metadata": {},
   "outputs": [],
   "source": [
    "#df.drop(columns=\"aosdghljsadkghjqpoklj\")"
   ]
  },
  {
   "cell_type": "markdown",
   "id": "unexpected-hammer",
   "metadata": {},
   "source": [
    "#### Podemos renombrar las columnas machacando el atributo de la instancia... ¿os suena esto?\n",
    "Requiere una lista con el mismo número de columnas"
   ]
  },
  {
   "cell_type": "code",
   "execution_count": 140,
   "id": "engaging-robert",
   "metadata": {},
   "outputs": [],
   "source": [
    "# O podríamos machacar el atributo del objeto columns\n",
    "df3 = df.copy()"
   ]
  },
  {
   "cell_type": "code",
   "execution_count": 141,
   "id": "funded-radius",
   "metadata": {},
   "outputs": [
    {
     "data": {
      "text/plain": [
       "Index(['Inútil', 'date', 'averageprice', 'total_volume', '4046', '4225',\n",
       "       '4770', 'small_bags', 'large_bags', 'xlarge_bags', 'type', 'year',\n",
       "       'region', 'nueva', 'otra'],\n",
       "      dtype='object')"
      ]
     },
     "execution_count": 141,
     "metadata": {},
     "output_type": "execute_result"
    }
   ],
   "source": [
    "df3.columns"
   ]
  },
  {
   "cell_type": "code",
   "execution_count": 142,
   "id": "legal-montana",
   "metadata": {},
   "outputs": [],
   "source": [
    "lista_minus = [a.lower() for a in df3.columns]"
   ]
  },
  {
   "cell_type": "code",
   "execution_count": 143,
   "id": "61325d6b",
   "metadata": {},
   "outputs": [],
   "source": [
    "prueba = [\"🚀\"]*15"
   ]
  },
  {
   "cell_type": "code",
   "execution_count": 144,
   "id": "540fb6bb",
   "metadata": {},
   "outputs": [
    {
     "data": {
      "text/plain": [
       "['🚀', '🚀', '🚀', '🚀', '🚀', '🚀', '🚀', '🚀', '🚀', '🚀', '🚀', '🚀', '🚀', '🚀', '🚀']"
      ]
     },
     "execution_count": 144,
     "metadata": {},
     "output_type": "execute_result"
    }
   ],
   "source": [
    "prueba"
   ]
  },
  {
   "cell_type": "code",
   "execution_count": 145,
   "id": "realistic-links",
   "metadata": {},
   "outputs": [],
   "source": [
    "df3.columns = prueba"
   ]
  },
  {
   "cell_type": "code",
   "execution_count": 146,
   "id": "spanish-cement",
   "metadata": {},
   "outputs": [
    {
     "data": {
      "text/html": [
       "<div>\n",
       "<style scoped>\n",
       "    .dataframe tbody tr th:only-of-type {\n",
       "        vertical-align: middle;\n",
       "    }\n",
       "\n",
       "    .dataframe tbody tr th {\n",
       "        vertical-align: top;\n",
       "    }\n",
       "\n",
       "    .dataframe thead th {\n",
       "        text-align: right;\n",
       "    }\n",
       "</style>\n",
       "<table border=\"1\" class=\"dataframe\">\n",
       "  <thead>\n",
       "    <tr style=\"text-align: right;\">\n",
       "      <th></th>\n",
       "      <th>🚀</th>\n",
       "      <th>🚀</th>\n",
       "      <th>🚀</th>\n",
       "      <th>🚀</th>\n",
       "      <th>🚀</th>\n",
       "      <th>🚀</th>\n",
       "      <th>🚀</th>\n",
       "      <th>🚀</th>\n",
       "      <th>🚀</th>\n",
       "      <th>🚀</th>\n",
       "      <th>🚀</th>\n",
       "      <th>🚀</th>\n",
       "      <th>🚀</th>\n",
       "      <th>🚀</th>\n",
       "      <th>🚀</th>\n",
       "    </tr>\n",
       "  </thead>\n",
       "  <tbody>\n",
       "    <tr>\n",
       "      <th>0</th>\n",
       "      <td>0</td>\n",
       "      <td>2015-12-27</td>\n",
       "      <td>1</td>\n",
       "      <td>64236.62</td>\n",
       "      <td>1036.74</td>\n",
       "      <td>54454.85</td>\n",
       "      <td>48.16</td>\n",
       "      <td>8603.62</td>\n",
       "      <td>93.25</td>\n",
       "      <td>0.0</td>\n",
       "      <td>conventional</td>\n",
       "      <td>2015</td>\n",
       "      <td>Albany</td>\n",
       "      <td>1</td>\n",
       "      <td>5.526675e+08</td>\n",
       "    </tr>\n",
       "    <tr>\n",
       "      <th>1</th>\n",
       "      <td>1</td>\n",
       "      <td>2015-12-20</td>\n",
       "      <td>1</td>\n",
       "      <td>54876.98</td>\n",
       "      <td>674.28</td>\n",
       "      <td>44638.81</td>\n",
       "      <td>58.33</td>\n",
       "      <td>9408.07</td>\n",
       "      <td>97.49</td>\n",
       "      <td>0.0</td>\n",
       "      <td>conventional</td>\n",
       "      <td>2015</td>\n",
       "      <td>Albany</td>\n",
       "      <td>1</td>\n",
       "      <td>5.162865e+08</td>\n",
       "    </tr>\n",
       "    <tr>\n",
       "      <th>2</th>\n",
       "      <td>2</td>\n",
       "      <td>2015-12-13</td>\n",
       "      <td>0</td>\n",
       "      <td>118220.22</td>\n",
       "      <td>794.70</td>\n",
       "      <td>109149.67</td>\n",
       "      <td>130.50</td>\n",
       "      <td>8042.21</td>\n",
       "      <td>103.14</td>\n",
       "      <td>0.0</td>\n",
       "      <td>conventional</td>\n",
       "      <td>2015</td>\n",
       "      <td>Albany</td>\n",
       "      <td>0</td>\n",
       "      <td>9.507518e+08</td>\n",
       "    </tr>\n",
       "    <tr>\n",
       "      <th>3</th>\n",
       "      <td>3</td>\n",
       "      <td>2015-12-06</td>\n",
       "      <td>1</td>\n",
       "      <td>78992.15</td>\n",
       "      <td>1132.00</td>\n",
       "      <td>71976.41</td>\n",
       "      <td>72.58</td>\n",
       "      <td>5677.40</td>\n",
       "      <td>133.76</td>\n",
       "      <td>0.0</td>\n",
       "      <td>conventional</td>\n",
       "      <td>2015</td>\n",
       "      <td>Albany</td>\n",
       "      <td>1</td>\n",
       "      <td>4.484700e+08</td>\n",
       "    </tr>\n",
       "    <tr>\n",
       "      <th>4</th>\n",
       "      <td>4</td>\n",
       "      <td>2015-11-29</td>\n",
       "      <td>1</td>\n",
       "      <td>51039.60</td>\n",
       "      <td>941.48</td>\n",
       "      <td>43838.39</td>\n",
       "      <td>75.78</td>\n",
       "      <td>5986.26</td>\n",
       "      <td>197.69</td>\n",
       "      <td>0.0</td>\n",
       "      <td>conventional</td>\n",
       "      <td>2015</td>\n",
       "      <td>Albany</td>\n",
       "      <td>1</td>\n",
       "      <td>3.055363e+08</td>\n",
       "    </tr>\n",
       "  </tbody>\n",
       "</table>\n",
       "</div>"
      ],
      "text/plain": [
       "   🚀           🚀  🚀          🚀        🚀          🚀       🚀        🚀       🚀  \\\n",
       "0  0  2015-12-27  1   64236.62  1036.74   54454.85   48.16  8603.62   93.25   \n",
       "1  1  2015-12-20  1   54876.98   674.28   44638.81   58.33  9408.07   97.49   \n",
       "2  2  2015-12-13  0  118220.22   794.70  109149.67  130.50  8042.21  103.14   \n",
       "3  3  2015-12-06  1   78992.15  1132.00   71976.41   72.58  5677.40  133.76   \n",
       "4  4  2015-11-29  1   51039.60   941.48   43838.39   75.78  5986.26  197.69   \n",
       "\n",
       "     🚀             🚀     🚀       🚀  🚀             🚀  \n",
       "0  0.0  conventional  2015  Albany  1  5.526675e+08  \n",
       "1  0.0  conventional  2015  Albany  1  5.162865e+08  \n",
       "2  0.0  conventional  2015  Albany  0  9.507518e+08  \n",
       "3  0.0  conventional  2015  Albany  1  4.484700e+08  \n",
       "4  0.0  conventional  2015  Albany  1  3.055363e+08  "
      ]
     },
     "execution_count": 146,
     "metadata": {},
     "output_type": "execute_result"
    }
   ],
   "source": [
    "df3.head()"
   ]
  },
  {
   "cell_type": "code",
   "execution_count": 147,
   "id": "36bdc670",
   "metadata": {},
   "outputs": [
    {
     "data": {
      "text/plain": [
       "RangeIndex(start=0, stop=18249, step=1)"
      ]
     },
     "execution_count": 147,
     "metadata": {},
     "output_type": "execute_result"
    }
   ],
   "source": [
    "df3.index"
   ]
  },
  {
   "cell_type": "markdown",
   "id": "unique-circulation",
   "metadata": {},
   "source": [
    "### Borramos columnas"
   ]
  },
  {
   "cell_type": "code",
   "execution_count": 148,
   "id": "9bb5271e",
   "metadata": {},
   "outputs": [
    {
     "data": {
      "text/html": [
       "<div>\n",
       "<style scoped>\n",
       "    .dataframe tbody tr th:only-of-type {\n",
       "        vertical-align: middle;\n",
       "    }\n",
       "\n",
       "    .dataframe tbody tr th {\n",
       "        vertical-align: top;\n",
       "    }\n",
       "\n",
       "    .dataframe thead th {\n",
       "        text-align: right;\n",
       "    }\n",
       "</style>\n",
       "<table border=\"1\" class=\"dataframe\">\n",
       "  <thead>\n",
       "    <tr style=\"text-align: right;\">\n",
       "      <th></th>\n",
       "      <th>Inútil</th>\n",
       "      <th>date</th>\n",
       "      <th>averageprice</th>\n",
       "      <th>total_volume</th>\n",
       "      <th>4046</th>\n",
       "      <th>4225</th>\n",
       "      <th>4770</th>\n",
       "      <th>small_bags</th>\n",
       "      <th>large_bags</th>\n",
       "      <th>xlarge_bags</th>\n",
       "      <th>type</th>\n",
       "      <th>year</th>\n",
       "      <th>region</th>\n",
       "      <th>nueva</th>\n",
       "      <th>otra</th>\n",
       "    </tr>\n",
       "  </thead>\n",
       "  <tbody>\n",
       "    <tr>\n",
       "      <th>12905</th>\n",
       "      <td>36</td>\n",
       "      <td>2016-04-17</td>\n",
       "      <td>1</td>\n",
       "      <td>16685.6</td>\n",
       "      <td>5531.72</td>\n",
       "      <td>51.15</td>\n",
       "      <td>0.0</td>\n",
       "      <td>7146.6</td>\n",
       "      <td>3956.13</td>\n",
       "      <td>0.0</td>\n",
       "      <td>organic</td>\n",
       "      <td>2016</td>\n",
       "      <td>Houston</td>\n",
       "      <td>1</td>\n",
       "      <td>1.192453e+08</td>\n",
       "    </tr>\n",
       "  </tbody>\n",
       "</table>\n",
       "</div>"
      ],
      "text/plain": [
       "       Inútil        date  averageprice  total_volume     4046   4225  4770  \\\n",
       "12905      36  2016-04-17             1       16685.6  5531.72  51.15   0.0   \n",
       "\n",
       "       small_bags  large_bags  xlarge_bags     type  year   region  nueva  \\\n",
       "12905      7146.6     3956.13          0.0  organic  2016  Houston      1   \n",
       "\n",
       "               otra  \n",
       "12905  1.192453e+08  "
      ]
     },
     "execution_count": 148,
     "metadata": {},
     "output_type": "execute_result"
    }
   ],
   "source": [
    "df.sample()"
   ]
  },
  {
   "cell_type": "code",
   "execution_count": 149,
   "id": "renewable-complexity",
   "metadata": {},
   "outputs": [],
   "source": [
    "# Axis 1 siempre columnas\n",
    "df.drop([\"Inútil\", \"4046\",\"4225\",\"4770\"],axis=1,inplace=True)"
   ]
  },
  {
   "cell_type": "code",
   "execution_count": 150,
   "id": "sublime-mouth",
   "metadata": {},
   "outputs": [
    {
     "data": {
      "text/html": [
       "<div>\n",
       "<style scoped>\n",
       "    .dataframe tbody tr th:only-of-type {\n",
       "        vertical-align: middle;\n",
       "    }\n",
       "\n",
       "    .dataframe tbody tr th {\n",
       "        vertical-align: top;\n",
       "    }\n",
       "\n",
       "    .dataframe thead th {\n",
       "        text-align: right;\n",
       "    }\n",
       "</style>\n",
       "<table border=\"1\" class=\"dataframe\">\n",
       "  <thead>\n",
       "    <tr style=\"text-align: right;\">\n",
       "      <th></th>\n",
       "      <th>date</th>\n",
       "      <th>averageprice</th>\n",
       "      <th>total_volume</th>\n",
       "      <th>small_bags</th>\n",
       "      <th>large_bags</th>\n",
       "      <th>xlarge_bags</th>\n",
       "      <th>type</th>\n",
       "      <th>year</th>\n",
       "      <th>region</th>\n",
       "      <th>nueva</th>\n",
       "      <th>otra</th>\n",
       "    </tr>\n",
       "  </thead>\n",
       "  <tbody>\n",
       "    <tr>\n",
       "      <th>3327</th>\n",
       "      <td>2016-01-03</td>\n",
       "      <td>0</td>\n",
       "      <td>222534.76</td>\n",
       "      <td>12613.38</td>\n",
       "      <td>29550.02</td>\n",
       "      <td>9387.59</td>\n",
       "      <td>conventional</td>\n",
       "      <td>2016</td>\n",
       "      <td>CincinnatiDayton</td>\n",
       "      <td>0</td>\n",
       "      <td>2.806915e+09</td>\n",
       "    </tr>\n",
       "  </tbody>\n",
       "</table>\n",
       "</div>"
      ],
      "text/plain": [
       "            date  averageprice  total_volume  small_bags  large_bags  \\\n",
       "3327  2016-01-03             0     222534.76    12613.38    29550.02   \n",
       "\n",
       "      xlarge_bags          type  year            region  nueva          otra  \n",
       "3327      9387.59  conventional  2016  CincinnatiDayton      0  2.806915e+09  "
      ]
     },
     "execution_count": 150,
     "metadata": {},
     "output_type": "execute_result"
    }
   ],
   "source": [
    "df.sample()"
   ]
  },
  {
   "cell_type": "markdown",
   "id": "native-oxide",
   "metadata": {},
   "source": [
    "### Borramos filas"
   ]
  },
  {
   "cell_type": "code",
   "execution_count": 151,
   "id": "impossible-complaint",
   "metadata": {},
   "outputs": [],
   "source": [
    "# Axis 0 siempre filas\n",
    "df.drop([1,2,4], axis=0, inplace=True)"
   ]
  },
  {
   "cell_type": "code",
   "execution_count": 152,
   "id": "unavailable-madagascar",
   "metadata": {},
   "outputs": [
    {
     "data": {
      "text/html": [
       "<div>\n",
       "<style scoped>\n",
       "    .dataframe tbody tr th:only-of-type {\n",
       "        vertical-align: middle;\n",
       "    }\n",
       "\n",
       "    .dataframe tbody tr th {\n",
       "        vertical-align: top;\n",
       "    }\n",
       "\n",
       "    .dataframe thead th {\n",
       "        text-align: right;\n",
       "    }\n",
       "</style>\n",
       "<table border=\"1\" class=\"dataframe\">\n",
       "  <thead>\n",
       "    <tr style=\"text-align: right;\">\n",
       "      <th></th>\n",
       "      <th>date</th>\n",
       "      <th>averageprice</th>\n",
       "      <th>total_volume</th>\n",
       "      <th>small_bags</th>\n",
       "      <th>large_bags</th>\n",
       "      <th>xlarge_bags</th>\n",
       "      <th>type</th>\n",
       "      <th>year</th>\n",
       "      <th>region</th>\n",
       "      <th>nueva</th>\n",
       "      <th>otra</th>\n",
       "    </tr>\n",
       "  </thead>\n",
       "  <tbody>\n",
       "    <tr>\n",
       "      <th>0</th>\n",
       "      <td>2015-12-27</td>\n",
       "      <td>1</td>\n",
       "      <td>64236.62</td>\n",
       "      <td>8603.62</td>\n",
       "      <td>93.25</td>\n",
       "      <td>0.0</td>\n",
       "      <td>conventional</td>\n",
       "      <td>2015</td>\n",
       "      <td>Albany</td>\n",
       "      <td>1</td>\n",
       "      <td>5.526675e+08</td>\n",
       "    </tr>\n",
       "    <tr>\n",
       "      <th>3</th>\n",
       "      <td>2015-12-06</td>\n",
       "      <td>1</td>\n",
       "      <td>78992.15</td>\n",
       "      <td>5677.40</td>\n",
       "      <td>133.76</td>\n",
       "      <td>0.0</td>\n",
       "      <td>conventional</td>\n",
       "      <td>2015</td>\n",
       "      <td>Albany</td>\n",
       "      <td>1</td>\n",
       "      <td>4.484700e+08</td>\n",
       "    </tr>\n",
       "    <tr>\n",
       "      <th>5</th>\n",
       "      <td>2015-11-22</td>\n",
       "      <td>1</td>\n",
       "      <td>55979.78</td>\n",
       "      <td>6556.47</td>\n",
       "      <td>127.44</td>\n",
       "      <td>0.0</td>\n",
       "      <td>conventional</td>\n",
       "      <td>2015</td>\n",
       "      <td>Albany</td>\n",
       "      <td>1</td>\n",
       "      <td>3.670297e+08</td>\n",
       "    </tr>\n",
       "    <tr>\n",
       "      <th>6</th>\n",
       "      <td>2015-11-15</td>\n",
       "      <td>0</td>\n",
       "      <td>83453.76</td>\n",
       "      <td>8196.81</td>\n",
       "      <td>122.05</td>\n",
       "      <td>0.0</td>\n",
       "      <td>conventional</td>\n",
       "      <td>2015</td>\n",
       "      <td>Albany</td>\n",
       "      <td>0</td>\n",
       "      <td>6.840546e+08</td>\n",
       "    </tr>\n",
       "    <tr>\n",
       "      <th>7</th>\n",
       "      <td>2015-11-08</td>\n",
       "      <td>0</td>\n",
       "      <td>109428.33</td>\n",
       "      <td>6266.85</td>\n",
       "      <td>562.37</td>\n",
       "      <td>0.0</td>\n",
       "      <td>conventional</td>\n",
       "      <td>2015</td>\n",
       "      <td>Albany</td>\n",
       "      <td>0</td>\n",
       "      <td>6.857709e+08</td>\n",
       "    </tr>\n",
       "  </tbody>\n",
       "</table>\n",
       "</div>"
      ],
      "text/plain": [
       "         date  averageprice  total_volume  small_bags  large_bags  \\\n",
       "0  2015-12-27             1      64236.62     8603.62       93.25   \n",
       "3  2015-12-06             1      78992.15     5677.40      133.76   \n",
       "5  2015-11-22             1      55979.78     6556.47      127.44   \n",
       "6  2015-11-15             0      83453.76     8196.81      122.05   \n",
       "7  2015-11-08             0     109428.33     6266.85      562.37   \n",
       "\n",
       "   xlarge_bags          type  year  region  nueva          otra  \n",
       "0          0.0  conventional  2015  Albany      1  5.526675e+08  \n",
       "3          0.0  conventional  2015  Albany      1  4.484700e+08  \n",
       "5          0.0  conventional  2015  Albany      1  3.670297e+08  \n",
       "6          0.0  conventional  2015  Albany      0  6.840546e+08  \n",
       "7          0.0  conventional  2015  Albany      0  6.857709e+08  "
      ]
     },
     "execution_count": 152,
     "metadata": {},
     "output_type": "execute_result"
    }
   ],
   "source": [
    "df.head()"
   ]
  },
  {
   "cell_type": "markdown",
   "id": "supposed-recipe",
   "metadata": {},
   "source": [
    "Las filas también se pueden eliminar. Ten en cuenta que los índices no se reinician. El índice se asocia a la fila, no al orden.   \n",
    "¿Se puede reiniciar el index? Correcto\n"
   ]
  },
  {
   "cell_type": "markdown",
   "id": "encouraging-cabin",
   "metadata": {},
   "source": [
    "### Reset_index y set_index"
   ]
  },
  {
   "cell_type": "markdown",
   "id": "hidden-speech",
   "metadata": {},
   "source": [
    "Leemos la [documentación](https://pandas.pydata.org/pandas-docs/stable/reference/api/pandas.DataFrame.reset_index.html) para entender algunos parámetros"
   ]
  },
  {
   "cell_type": "code",
   "execution_count": 153,
   "id": "impressive-going",
   "metadata": {},
   "outputs": [
    {
     "data": {
      "text/html": [
       "<div>\n",
       "<style scoped>\n",
       "    .dataframe tbody tr th:only-of-type {\n",
       "        vertical-align: middle;\n",
       "    }\n",
       "\n",
       "    .dataframe tbody tr th {\n",
       "        vertical-align: top;\n",
       "    }\n",
       "\n",
       "    .dataframe thead th {\n",
       "        text-align: right;\n",
       "    }\n",
       "</style>\n",
       "<table border=\"1\" class=\"dataframe\">\n",
       "  <thead>\n",
       "    <tr style=\"text-align: right;\">\n",
       "      <th></th>\n",
       "      <th>index</th>\n",
       "      <th>date</th>\n",
       "      <th>averageprice</th>\n",
       "      <th>total_volume</th>\n",
       "      <th>small_bags</th>\n",
       "      <th>large_bags</th>\n",
       "      <th>xlarge_bags</th>\n",
       "      <th>type</th>\n",
       "      <th>year</th>\n",
       "      <th>region</th>\n",
       "      <th>nueva</th>\n",
       "      <th>otra</th>\n",
       "    </tr>\n",
       "  </thead>\n",
       "  <tbody>\n",
       "    <tr>\n",
       "      <th>0</th>\n",
       "      <td>0</td>\n",
       "      <td>2015-12-27</td>\n",
       "      <td>1</td>\n",
       "      <td>64236.62</td>\n",
       "      <td>8603.62</td>\n",
       "      <td>93.25</td>\n",
       "      <td>0.0</td>\n",
       "      <td>conventional</td>\n",
       "      <td>2015</td>\n",
       "      <td>Albany</td>\n",
       "      <td>1</td>\n",
       "      <td>5.526675e+08</td>\n",
       "    </tr>\n",
       "    <tr>\n",
       "      <th>1</th>\n",
       "      <td>3</td>\n",
       "      <td>2015-12-06</td>\n",
       "      <td>1</td>\n",
       "      <td>78992.15</td>\n",
       "      <td>5677.40</td>\n",
       "      <td>133.76</td>\n",
       "      <td>0.0</td>\n",
       "      <td>conventional</td>\n",
       "      <td>2015</td>\n",
       "      <td>Albany</td>\n",
       "      <td>1</td>\n",
       "      <td>4.484700e+08</td>\n",
       "    </tr>\n",
       "    <tr>\n",
       "      <th>2</th>\n",
       "      <td>5</td>\n",
       "      <td>2015-11-22</td>\n",
       "      <td>1</td>\n",
       "      <td>55979.78</td>\n",
       "      <td>6556.47</td>\n",
       "      <td>127.44</td>\n",
       "      <td>0.0</td>\n",
       "      <td>conventional</td>\n",
       "      <td>2015</td>\n",
       "      <td>Albany</td>\n",
       "      <td>1</td>\n",
       "      <td>3.670297e+08</td>\n",
       "    </tr>\n",
       "    <tr>\n",
       "      <th>3</th>\n",
       "      <td>6</td>\n",
       "      <td>2015-11-15</td>\n",
       "      <td>0</td>\n",
       "      <td>83453.76</td>\n",
       "      <td>8196.81</td>\n",
       "      <td>122.05</td>\n",
       "      <td>0.0</td>\n",
       "      <td>conventional</td>\n",
       "      <td>2015</td>\n",
       "      <td>Albany</td>\n",
       "      <td>0</td>\n",
       "      <td>6.840546e+08</td>\n",
       "    </tr>\n",
       "    <tr>\n",
       "      <th>4</th>\n",
       "      <td>7</td>\n",
       "      <td>2015-11-08</td>\n",
       "      <td>0</td>\n",
       "      <td>109428.33</td>\n",
       "      <td>6266.85</td>\n",
       "      <td>562.37</td>\n",
       "      <td>0.0</td>\n",
       "      <td>conventional</td>\n",
       "      <td>2015</td>\n",
       "      <td>Albany</td>\n",
       "      <td>0</td>\n",
       "      <td>6.857709e+08</td>\n",
       "    </tr>\n",
       "    <tr>\n",
       "      <th>...</th>\n",
       "      <td>...</td>\n",
       "      <td>...</td>\n",
       "      <td>...</td>\n",
       "      <td>...</td>\n",
       "      <td>...</td>\n",
       "      <td>...</td>\n",
       "      <td>...</td>\n",
       "      <td>...</td>\n",
       "      <td>...</td>\n",
       "      <td>...</td>\n",
       "      <td>...</td>\n",
       "      <td>...</td>\n",
       "    </tr>\n",
       "    <tr>\n",
       "      <th>18241</th>\n",
       "      <td>18244</td>\n",
       "      <td>2018-02-04</td>\n",
       "      <td>1</td>\n",
       "      <td>17074.83</td>\n",
       "      <td>13066.82</td>\n",
       "      <td>431.85</td>\n",
       "      <td>0.0</td>\n",
       "      <td>organic</td>\n",
       "      <td>2018</td>\n",
       "      <td>WestTexNewMexico</td>\n",
       "      <td>1</td>\n",
       "      <td>2.231137e+08</td>\n",
       "    </tr>\n",
       "    <tr>\n",
       "      <th>18242</th>\n",
       "      <td>18245</td>\n",
       "      <td>2018-01-28</td>\n",
       "      <td>1</td>\n",
       "      <td>13888.04</td>\n",
       "      <td>8940.04</td>\n",
       "      <td>324.80</td>\n",
       "      <td>0.0</td>\n",
       "      <td>organic</td>\n",
       "      <td>2018</td>\n",
       "      <td>WestTexNewMexico</td>\n",
       "      <td>1</td>\n",
       "      <td>1.241596e+08</td>\n",
       "    </tr>\n",
       "    <tr>\n",
       "      <th>18243</th>\n",
       "      <td>18246</td>\n",
       "      <td>2018-01-21</td>\n",
       "      <td>1</td>\n",
       "      <td>13766.76</td>\n",
       "      <td>9351.80</td>\n",
       "      <td>42.31</td>\n",
       "      <td>0.0</td>\n",
       "      <td>organic</td>\n",
       "      <td>2018</td>\n",
       "      <td>WestTexNewMexico</td>\n",
       "      <td>1</td>\n",
       "      <td>1.287440e+08</td>\n",
       "    </tr>\n",
       "    <tr>\n",
       "      <th>18244</th>\n",
       "      <td>18247</td>\n",
       "      <td>2018-01-14</td>\n",
       "      <td>1</td>\n",
       "      <td>16205.22</td>\n",
       "      <td>10919.54</td>\n",
       "      <td>50.00</td>\n",
       "      <td>0.0</td>\n",
       "      <td>organic</td>\n",
       "      <td>2018</td>\n",
       "      <td>WestTexNewMexico</td>\n",
       "      <td>1</td>\n",
       "      <td>1.769535e+08</td>\n",
       "    </tr>\n",
       "    <tr>\n",
       "      <th>18245</th>\n",
       "      <td>18248</td>\n",
       "      <td>2018-01-07</td>\n",
       "      <td>1</td>\n",
       "      <td>17489.58</td>\n",
       "      <td>11988.14</td>\n",
       "      <td>26.01</td>\n",
       "      <td>0.0</td>\n",
       "      <td>organic</td>\n",
       "      <td>2018</td>\n",
       "      <td>WestTexNewMexico</td>\n",
       "      <td>1</td>\n",
       "      <td>2.096675e+08</td>\n",
       "    </tr>\n",
       "  </tbody>\n",
       "</table>\n",
       "<p>18246 rows × 12 columns</p>\n",
       "</div>"
      ],
      "text/plain": [
       "       index        date  averageprice  total_volume  small_bags  large_bags  \\\n",
       "0          0  2015-12-27             1      64236.62     8603.62       93.25   \n",
       "1          3  2015-12-06             1      78992.15     5677.40      133.76   \n",
       "2          5  2015-11-22             1      55979.78     6556.47      127.44   \n",
       "3          6  2015-11-15             0      83453.76     8196.81      122.05   \n",
       "4          7  2015-11-08             0     109428.33     6266.85      562.37   \n",
       "...      ...         ...           ...           ...         ...         ...   \n",
       "18241  18244  2018-02-04             1      17074.83    13066.82      431.85   \n",
       "18242  18245  2018-01-28             1      13888.04     8940.04      324.80   \n",
       "18243  18246  2018-01-21             1      13766.76     9351.80       42.31   \n",
       "18244  18247  2018-01-14             1      16205.22    10919.54       50.00   \n",
       "18245  18248  2018-01-07             1      17489.58    11988.14       26.01   \n",
       "\n",
       "       xlarge_bags          type  year            region  nueva          otra  \n",
       "0              0.0  conventional  2015            Albany      1  5.526675e+08  \n",
       "1              0.0  conventional  2015            Albany      1  4.484700e+08  \n",
       "2              0.0  conventional  2015            Albany      1  3.670297e+08  \n",
       "3              0.0  conventional  2015            Albany      0  6.840546e+08  \n",
       "4              0.0  conventional  2015            Albany      0  6.857709e+08  \n",
       "...            ...           ...   ...               ...    ...           ...  \n",
       "18241          0.0       organic  2018  WestTexNewMexico      1  2.231137e+08  \n",
       "18242          0.0       organic  2018  WestTexNewMexico      1  1.241596e+08  \n",
       "18243          0.0       organic  2018  WestTexNewMexico      1  1.287440e+08  \n",
       "18244          0.0       organic  2018  WestTexNewMexico      1  1.769535e+08  \n",
       "18245          0.0       organic  2018  WestTexNewMexico      1  2.096675e+08  \n",
       "\n",
       "[18246 rows x 12 columns]"
      ]
     },
     "execution_count": 153,
     "metadata": {},
     "output_type": "execute_result"
    }
   ],
   "source": [
    "df.reset_index()"
   ]
  },
  {
   "cell_type": "code",
   "execution_count": 154,
   "id": "1a8ee829",
   "metadata": {},
   "outputs": [
    {
     "data": {
      "text/plain": [
       "Int64Index([    0,     3,     5,     6,     7,     8,     9,    10,    11,\n",
       "               12,\n",
       "            ...\n",
       "            18239, 18240, 18241, 18242, 18243, 18244, 18245, 18246, 18247,\n",
       "            18248],\n",
       "           dtype='int64', length=18246)"
      ]
     },
     "execution_count": 154,
     "metadata": {},
     "output_type": "execute_result"
    }
   ],
   "source": [
    "df.index #Es la columna nueva de índice"
   ]
  },
  {
   "cell_type": "code",
   "execution_count": 155,
   "id": "entertaining-mounting",
   "metadata": {},
   "outputs": [],
   "source": [
    "#Drop = True evita que se genere otra columna con el index anterior"
   ]
  },
  {
   "cell_type": "code",
   "execution_count": 156,
   "id": "dutch-dispute",
   "metadata": {},
   "outputs": [
    {
     "data": {
      "text/html": [
       "<div>\n",
       "<style scoped>\n",
       "    .dataframe tbody tr th:only-of-type {\n",
       "        vertical-align: middle;\n",
       "    }\n",
       "\n",
       "    .dataframe tbody tr th {\n",
       "        vertical-align: top;\n",
       "    }\n",
       "\n",
       "    .dataframe thead th {\n",
       "        text-align: right;\n",
       "    }\n",
       "</style>\n",
       "<table border=\"1\" class=\"dataframe\">\n",
       "  <thead>\n",
       "    <tr style=\"text-align: right;\">\n",
       "      <th></th>\n",
       "      <th>date</th>\n",
       "      <th>averageprice</th>\n",
       "      <th>total_volume</th>\n",
       "      <th>small_bags</th>\n",
       "      <th>large_bags</th>\n",
       "      <th>xlarge_bags</th>\n",
       "      <th>type</th>\n",
       "      <th>year</th>\n",
       "      <th>region</th>\n",
       "      <th>nueva</th>\n",
       "      <th>otra</th>\n",
       "    </tr>\n",
       "  </thead>\n",
       "  <tbody>\n",
       "    <tr>\n",
       "      <th>0</th>\n",
       "      <td>2015-12-27</td>\n",
       "      <td>1</td>\n",
       "      <td>64236.62</td>\n",
       "      <td>8603.62</td>\n",
       "      <td>93.25</td>\n",
       "      <td>0.0</td>\n",
       "      <td>conventional</td>\n",
       "      <td>2015</td>\n",
       "      <td>Albany</td>\n",
       "      <td>1</td>\n",
       "      <td>5.526675e+08</td>\n",
       "    </tr>\n",
       "    <tr>\n",
       "      <th>1</th>\n",
       "      <td>2015-12-06</td>\n",
       "      <td>1</td>\n",
       "      <td>78992.15</td>\n",
       "      <td>5677.40</td>\n",
       "      <td>133.76</td>\n",
       "      <td>0.0</td>\n",
       "      <td>conventional</td>\n",
       "      <td>2015</td>\n",
       "      <td>Albany</td>\n",
       "      <td>1</td>\n",
       "      <td>4.484700e+08</td>\n",
       "    </tr>\n",
       "    <tr>\n",
       "      <th>2</th>\n",
       "      <td>2015-11-22</td>\n",
       "      <td>1</td>\n",
       "      <td>55979.78</td>\n",
       "      <td>6556.47</td>\n",
       "      <td>127.44</td>\n",
       "      <td>0.0</td>\n",
       "      <td>conventional</td>\n",
       "      <td>2015</td>\n",
       "      <td>Albany</td>\n",
       "      <td>1</td>\n",
       "      <td>3.670297e+08</td>\n",
       "    </tr>\n",
       "    <tr>\n",
       "      <th>3</th>\n",
       "      <td>2015-11-15</td>\n",
       "      <td>0</td>\n",
       "      <td>83453.76</td>\n",
       "      <td>8196.81</td>\n",
       "      <td>122.05</td>\n",
       "      <td>0.0</td>\n",
       "      <td>conventional</td>\n",
       "      <td>2015</td>\n",
       "      <td>Albany</td>\n",
       "      <td>0</td>\n",
       "      <td>6.840546e+08</td>\n",
       "    </tr>\n",
       "    <tr>\n",
       "      <th>4</th>\n",
       "      <td>2015-11-08</td>\n",
       "      <td>0</td>\n",
       "      <td>109428.33</td>\n",
       "      <td>6266.85</td>\n",
       "      <td>562.37</td>\n",
       "      <td>0.0</td>\n",
       "      <td>conventional</td>\n",
       "      <td>2015</td>\n",
       "      <td>Albany</td>\n",
       "      <td>0</td>\n",
       "      <td>6.857709e+08</td>\n",
       "    </tr>\n",
       "    <tr>\n",
       "      <th>...</th>\n",
       "      <td>...</td>\n",
       "      <td>...</td>\n",
       "      <td>...</td>\n",
       "      <td>...</td>\n",
       "      <td>...</td>\n",
       "      <td>...</td>\n",
       "      <td>...</td>\n",
       "      <td>...</td>\n",
       "      <td>...</td>\n",
       "      <td>...</td>\n",
       "      <td>...</td>\n",
       "    </tr>\n",
       "    <tr>\n",
       "      <th>18241</th>\n",
       "      <td>2018-02-04</td>\n",
       "      <td>1</td>\n",
       "      <td>17074.83</td>\n",
       "      <td>13066.82</td>\n",
       "      <td>431.85</td>\n",
       "      <td>0.0</td>\n",
       "      <td>organic</td>\n",
       "      <td>2018</td>\n",
       "      <td>WestTexNewMexico</td>\n",
       "      <td>1</td>\n",
       "      <td>2.231137e+08</td>\n",
       "    </tr>\n",
       "    <tr>\n",
       "      <th>18242</th>\n",
       "      <td>2018-01-28</td>\n",
       "      <td>1</td>\n",
       "      <td>13888.04</td>\n",
       "      <td>8940.04</td>\n",
       "      <td>324.80</td>\n",
       "      <td>0.0</td>\n",
       "      <td>organic</td>\n",
       "      <td>2018</td>\n",
       "      <td>WestTexNewMexico</td>\n",
       "      <td>1</td>\n",
       "      <td>1.241596e+08</td>\n",
       "    </tr>\n",
       "    <tr>\n",
       "      <th>18243</th>\n",
       "      <td>2018-01-21</td>\n",
       "      <td>1</td>\n",
       "      <td>13766.76</td>\n",
       "      <td>9351.80</td>\n",
       "      <td>42.31</td>\n",
       "      <td>0.0</td>\n",
       "      <td>organic</td>\n",
       "      <td>2018</td>\n",
       "      <td>WestTexNewMexico</td>\n",
       "      <td>1</td>\n",
       "      <td>1.287440e+08</td>\n",
       "    </tr>\n",
       "    <tr>\n",
       "      <th>18244</th>\n",
       "      <td>2018-01-14</td>\n",
       "      <td>1</td>\n",
       "      <td>16205.22</td>\n",
       "      <td>10919.54</td>\n",
       "      <td>50.00</td>\n",
       "      <td>0.0</td>\n",
       "      <td>organic</td>\n",
       "      <td>2018</td>\n",
       "      <td>WestTexNewMexico</td>\n",
       "      <td>1</td>\n",
       "      <td>1.769535e+08</td>\n",
       "    </tr>\n",
       "    <tr>\n",
       "      <th>18245</th>\n",
       "      <td>2018-01-07</td>\n",
       "      <td>1</td>\n",
       "      <td>17489.58</td>\n",
       "      <td>11988.14</td>\n",
       "      <td>26.01</td>\n",
       "      <td>0.0</td>\n",
       "      <td>organic</td>\n",
       "      <td>2018</td>\n",
       "      <td>WestTexNewMexico</td>\n",
       "      <td>1</td>\n",
       "      <td>2.096675e+08</td>\n",
       "    </tr>\n",
       "  </tbody>\n",
       "</table>\n",
       "<p>18246 rows × 11 columns</p>\n",
       "</div>"
      ],
      "text/plain": [
       "             date  averageprice  total_volume  small_bags  large_bags  \\\n",
       "0      2015-12-27             1      64236.62     8603.62       93.25   \n",
       "1      2015-12-06             1      78992.15     5677.40      133.76   \n",
       "2      2015-11-22             1      55979.78     6556.47      127.44   \n",
       "3      2015-11-15             0      83453.76     8196.81      122.05   \n",
       "4      2015-11-08             0     109428.33     6266.85      562.37   \n",
       "...           ...           ...           ...         ...         ...   \n",
       "18241  2018-02-04             1      17074.83    13066.82      431.85   \n",
       "18242  2018-01-28             1      13888.04     8940.04      324.80   \n",
       "18243  2018-01-21             1      13766.76     9351.80       42.31   \n",
       "18244  2018-01-14             1      16205.22    10919.54       50.00   \n",
       "18245  2018-01-07             1      17489.58    11988.14       26.01   \n",
       "\n",
       "       xlarge_bags          type  year            region  nueva          otra  \n",
       "0              0.0  conventional  2015            Albany      1  5.526675e+08  \n",
       "1              0.0  conventional  2015            Albany      1  4.484700e+08  \n",
       "2              0.0  conventional  2015            Albany      1  3.670297e+08  \n",
       "3              0.0  conventional  2015            Albany      0  6.840546e+08  \n",
       "4              0.0  conventional  2015            Albany      0  6.857709e+08  \n",
       "...            ...           ...   ...               ...    ...           ...  \n",
       "18241          0.0       organic  2018  WestTexNewMexico      1  2.231137e+08  \n",
       "18242          0.0       organic  2018  WestTexNewMexico      1  1.241596e+08  \n",
       "18243          0.0       organic  2018  WestTexNewMexico      1  1.287440e+08  \n",
       "18244          0.0       organic  2018  WestTexNewMexico      1  1.769535e+08  \n",
       "18245          0.0       organic  2018  WestTexNewMexico      1  2.096675e+08  \n",
       "\n",
       "[18246 rows x 11 columns]"
      ]
     },
     "execution_count": 156,
     "metadata": {},
     "output_type": "execute_result"
    }
   ],
   "source": [
    "df_reset_index = df.reset_index(drop=True)\n",
    "df_reset_index"
   ]
  },
  {
   "cell_type": "markdown",
   "id": "invalid-holly",
   "metadata": {},
   "source": [
    "#### SET_INDEX"
   ]
  },
  {
   "cell_type": "code",
   "execution_count": 157,
   "id": "generic-monthly",
   "metadata": {},
   "outputs": [
    {
     "data": {
      "text/html": [
       "<div>\n",
       "<style scoped>\n",
       "    .dataframe tbody tr th:only-of-type {\n",
       "        vertical-align: middle;\n",
       "    }\n",
       "\n",
       "    .dataframe tbody tr th {\n",
       "        vertical-align: top;\n",
       "    }\n",
       "\n",
       "    .dataframe thead th {\n",
       "        text-align: right;\n",
       "    }\n",
       "</style>\n",
       "<table border=\"1\" class=\"dataframe\">\n",
       "  <thead>\n",
       "    <tr style=\"text-align: right;\">\n",
       "      <th></th>\n",
       "      <th>averageprice</th>\n",
       "      <th>total_volume</th>\n",
       "      <th>small_bags</th>\n",
       "      <th>large_bags</th>\n",
       "      <th>xlarge_bags</th>\n",
       "      <th>type</th>\n",
       "      <th>year</th>\n",
       "      <th>region</th>\n",
       "      <th>nueva</th>\n",
       "      <th>otra</th>\n",
       "    </tr>\n",
       "    <tr>\n",
       "      <th>date</th>\n",
       "      <th></th>\n",
       "      <th></th>\n",
       "      <th></th>\n",
       "      <th></th>\n",
       "      <th></th>\n",
       "      <th></th>\n",
       "      <th></th>\n",
       "      <th></th>\n",
       "      <th></th>\n",
       "      <th></th>\n",
       "    </tr>\n",
       "  </thead>\n",
       "  <tbody>\n",
       "    <tr>\n",
       "      <th>2015-12-27</th>\n",
       "      <td>1</td>\n",
       "      <td>64236.62</td>\n",
       "      <td>8603.62</td>\n",
       "      <td>93.25</td>\n",
       "      <td>0.0</td>\n",
       "      <td>conventional</td>\n",
       "      <td>2015</td>\n",
       "      <td>Albany</td>\n",
       "      <td>1</td>\n",
       "      <td>5.526675e+08</td>\n",
       "    </tr>\n",
       "    <tr>\n",
       "      <th>2015-12-06</th>\n",
       "      <td>1</td>\n",
       "      <td>78992.15</td>\n",
       "      <td>5677.40</td>\n",
       "      <td>133.76</td>\n",
       "      <td>0.0</td>\n",
       "      <td>conventional</td>\n",
       "      <td>2015</td>\n",
       "      <td>Albany</td>\n",
       "      <td>1</td>\n",
       "      <td>4.484700e+08</td>\n",
       "    </tr>\n",
       "    <tr>\n",
       "      <th>2015-11-22</th>\n",
       "      <td>1</td>\n",
       "      <td>55979.78</td>\n",
       "      <td>6556.47</td>\n",
       "      <td>127.44</td>\n",
       "      <td>0.0</td>\n",
       "      <td>conventional</td>\n",
       "      <td>2015</td>\n",
       "      <td>Albany</td>\n",
       "      <td>1</td>\n",
       "      <td>3.670297e+08</td>\n",
       "    </tr>\n",
       "    <tr>\n",
       "      <th>2015-11-15</th>\n",
       "      <td>0</td>\n",
       "      <td>83453.76</td>\n",
       "      <td>8196.81</td>\n",
       "      <td>122.05</td>\n",
       "      <td>0.0</td>\n",
       "      <td>conventional</td>\n",
       "      <td>2015</td>\n",
       "      <td>Albany</td>\n",
       "      <td>0</td>\n",
       "      <td>6.840546e+08</td>\n",
       "    </tr>\n",
       "    <tr>\n",
       "      <th>2015-11-08</th>\n",
       "      <td>0</td>\n",
       "      <td>109428.33</td>\n",
       "      <td>6266.85</td>\n",
       "      <td>562.37</td>\n",
       "      <td>0.0</td>\n",
       "      <td>conventional</td>\n",
       "      <td>2015</td>\n",
       "      <td>Albany</td>\n",
       "      <td>0</td>\n",
       "      <td>6.857709e+08</td>\n",
       "    </tr>\n",
       "  </tbody>\n",
       "</table>\n",
       "</div>"
      ],
      "text/plain": [
       "            averageprice  total_volume  small_bags  large_bags  xlarge_bags  \\\n",
       "date                                                                          \n",
       "2015-12-27             1      64236.62     8603.62       93.25          0.0   \n",
       "2015-12-06             1      78992.15     5677.40      133.76          0.0   \n",
       "2015-11-22             1      55979.78     6556.47      127.44          0.0   \n",
       "2015-11-15             0      83453.76     8196.81      122.05          0.0   \n",
       "2015-11-08             0     109428.33     6266.85      562.37          0.0   \n",
       "\n",
       "                    type  year  region  nueva          otra  \n",
       "date                                                         \n",
       "2015-12-27  conventional  2015  Albany      1  5.526675e+08  \n",
       "2015-12-06  conventional  2015  Albany      1  4.484700e+08  \n",
       "2015-11-22  conventional  2015  Albany      1  3.670297e+08  \n",
       "2015-11-15  conventional  2015  Albany      0  6.840546e+08  \n",
       "2015-11-08  conventional  2015  Albany      0  6.857709e+08  "
      ]
     },
     "execution_count": 157,
     "metadata": {},
     "output_type": "execute_result"
    }
   ],
   "source": [
    "df_date = df.set_index(\"date\")\n",
    "df_date.head()"
   ]
  },
  {
   "cell_type": "markdown",
   "id": "young-intersection",
   "metadata": {},
   "source": [
    "¿Para qué nos puede servir tener la fecha como índice?    \n",
    "Lo veremos más adelante, para analizar series temporales, pero os avanzo un poco de fantasía"
   ]
  },
  {
   "cell_type": "code",
   "execution_count": 158,
   "id": "tropical-equity",
   "metadata": {},
   "outputs": [],
   "source": [
    "import seaborn as sns\n",
    "sns.set_context(\"poster\")\n",
    "sns.set(rc={'figure.figsize': (20.,6.)})\n",
    "sns.set_style('whitegrid')"
   ]
  },
  {
   "cell_type": "code",
   "execution_count": 159,
   "id": "personal-retailer",
   "metadata": {},
   "outputs": [
    {
     "data": {
      "text/html": [
       "<div>\n",
       "<style scoped>\n",
       "    .dataframe tbody tr th:only-of-type {\n",
       "        vertical-align: middle;\n",
       "    }\n",
       "\n",
       "    .dataframe tbody tr th {\n",
       "        vertical-align: top;\n",
       "    }\n",
       "\n",
       "    .dataframe thead th {\n",
       "        text-align: right;\n",
       "    }\n",
       "</style>\n",
       "<table border=\"1\" class=\"dataframe\">\n",
       "  <thead>\n",
       "    <tr style=\"text-align: right;\">\n",
       "      <th></th>\n",
       "      <th>averageprice</th>\n",
       "      <th>total_volume</th>\n",
       "      <th>small_bags</th>\n",
       "      <th>large_bags</th>\n",
       "      <th>xlarge_bags</th>\n",
       "      <th>type</th>\n",
       "      <th>year</th>\n",
       "      <th>region</th>\n",
       "      <th>nueva</th>\n",
       "      <th>otra</th>\n",
       "    </tr>\n",
       "    <tr>\n",
       "      <th>date</th>\n",
       "      <th></th>\n",
       "      <th></th>\n",
       "      <th></th>\n",
       "      <th></th>\n",
       "      <th></th>\n",
       "      <th></th>\n",
       "      <th></th>\n",
       "      <th></th>\n",
       "      <th></th>\n",
       "      <th></th>\n",
       "    </tr>\n",
       "  </thead>\n",
       "  <tbody>\n",
       "    <tr>\n",
       "      <th>2015-12-27</th>\n",
       "      <td>1</td>\n",
       "      <td>64236.62</td>\n",
       "      <td>8603.62</td>\n",
       "      <td>93.25</td>\n",
       "      <td>0.0</td>\n",
       "      <td>conventional</td>\n",
       "      <td>2015</td>\n",
       "      <td>Albany</td>\n",
       "      <td>1</td>\n",
       "      <td>5.526675e+08</td>\n",
       "    </tr>\n",
       "    <tr>\n",
       "      <th>2015-12-06</th>\n",
       "      <td>1</td>\n",
       "      <td>78992.15</td>\n",
       "      <td>5677.40</td>\n",
       "      <td>133.76</td>\n",
       "      <td>0.0</td>\n",
       "      <td>conventional</td>\n",
       "      <td>2015</td>\n",
       "      <td>Albany</td>\n",
       "      <td>1</td>\n",
       "      <td>4.484700e+08</td>\n",
       "    </tr>\n",
       "  </tbody>\n",
       "</table>\n",
       "</div>"
      ],
      "text/plain": [
       "            averageprice  total_volume  small_bags  large_bags  xlarge_bags  \\\n",
       "date                                                                          \n",
       "2015-12-27             1      64236.62     8603.62       93.25          0.0   \n",
       "2015-12-06             1      78992.15     5677.40      133.76          0.0   \n",
       "\n",
       "                    type  year  region  nueva          otra  \n",
       "date                                                         \n",
       "2015-12-27  conventional  2015  Albany      1  5.526675e+08  \n",
       "2015-12-06  conventional  2015  Albany      1  4.484700e+08  "
      ]
     },
     "execution_count": 159,
     "metadata": {},
     "output_type": "execute_result"
    }
   ],
   "source": [
    "df_filtro = df_date[df_date.region == \"Albany\"]\n",
    "df_filtro.head(2)"
   ]
  },
  {
   "cell_type": "code",
   "execution_count": 160,
   "id": "a6ace57e",
   "metadata": {},
   "outputs": [
    {
     "data": {
      "text/plain": [
       "335"
      ]
     },
     "execution_count": 160,
     "metadata": {},
     "output_type": "execute_result"
    }
   ],
   "source": [
    "len(list(df_filtro.index))"
   ]
  },
  {
   "cell_type": "code",
   "execution_count": 161,
   "id": "0f8f21c6",
   "metadata": {},
   "outputs": [
    {
     "data": {
      "text/plain": [
       "169"
      ]
     },
     "execution_count": 161,
     "metadata": {},
     "output_type": "execute_result"
    }
   ],
   "source": [
    "len(set(list(df_filtro.index)))"
   ]
  },
  {
   "cell_type": "code",
   "execution_count": 162,
   "id": "dcdcec3a",
   "metadata": {},
   "outputs": [],
   "source": [
    "prueba = df_filtro.loc[~df_filtro.index.duplicated(), :]"
   ]
  },
  {
   "cell_type": "code",
   "execution_count": 163,
   "id": "cheap-indianapolis",
   "metadata": {},
   "outputs": [
    {
     "data": {
      "text/plain": [
       "<AxesSubplot:xlabel='date', ylabel='small_bags'>"
      ]
     },
     "execution_count": 163,
     "metadata": {},
     "output_type": "execute_result"
    },
    {
     "data": {
      "image/png": "[encoded data removed]",
      "text/plain": [
       "<Figure size 1440x432 with 1 Axes>"
      ]
     },
     "metadata": {},
     "output_type": "display_data"
    }
   ],
   "source": [
    "sns.lineplot(data=prueba, x=prueba.index, y=prueba.small_bags)"
   ]
  },
  {
   "cell_type": "code",
   "execution_count": 164,
   "id": "7e0d307f",
   "metadata": {},
   "outputs": [
    {
     "data": {
      "text/plain": [
       "True"
      ]
     },
     "execution_count": 164,
     "metadata": {},
     "output_type": "execute_result"
    }
   ],
   "source": [
    "df.index.is_unique"
   ]
  },
  {
   "cell_type": "markdown",
   "id": "neutral-founder",
   "metadata": {},
   "source": [
    "### Operaciones entre columnas"
   ]
  },
  {
   "cell_type": "code",
   "execution_count": 165,
   "id": "ready-current",
   "metadata": {},
   "outputs": [],
   "source": [
    "# Para generar una columna nueva solo tengo que ponerle un nombreS"
   ]
  },
  {
   "cell_type": "code",
   "execution_count": 166,
   "id": "improved-philosophy",
   "metadata": {},
   "outputs": [
    {
     "data": {
      "text/html": [
       "<div>\n",
       "<style scoped>\n",
       "    .dataframe tbody tr th:only-of-type {\n",
       "        vertical-align: middle;\n",
       "    }\n",
       "\n",
       "    .dataframe tbody tr th {\n",
       "        vertical-align: top;\n",
       "    }\n",
       "\n",
       "    .dataframe thead th {\n",
       "        text-align: right;\n",
       "    }\n",
       "</style>\n",
       "<table border=\"1\" class=\"dataframe\">\n",
       "  <thead>\n",
       "    <tr style=\"text-align: right;\">\n",
       "      <th></th>\n",
       "      <th>date</th>\n",
       "      <th>averageprice</th>\n",
       "      <th>total_volume</th>\n",
       "      <th>small_bags</th>\n",
       "      <th>large_bags</th>\n",
       "      <th>xlarge_bags</th>\n",
       "      <th>type</th>\n",
       "      <th>year</th>\n",
       "      <th>region</th>\n",
       "      <th>nueva</th>\n",
       "      <th>otra</th>\n",
       "    </tr>\n",
       "  </thead>\n",
       "  <tbody>\n",
       "    <tr>\n",
       "      <th>0</th>\n",
       "      <td>2015-12-27</td>\n",
       "      <td>1</td>\n",
       "      <td>64236.62</td>\n",
       "      <td>8603.62</td>\n",
       "      <td>93.25</td>\n",
       "      <td>0.0</td>\n",
       "      <td>conventional</td>\n",
       "      <td>2015</td>\n",
       "      <td>Albany</td>\n",
       "      <td>802287.5650</td>\n",
       "      <td>5.526675e+08</td>\n",
       "    </tr>\n",
       "    <tr>\n",
       "      <th>3</th>\n",
       "      <td>2015-12-06</td>\n",
       "      <td>1</td>\n",
       "      <td>78992.15</td>\n",
       "      <td>5677.40</td>\n",
       "      <td>133.76</td>\n",
       "      <td>0.0</td>\n",
       "      <td>conventional</td>\n",
       "      <td>2015</td>\n",
       "      <td>Albany</td>\n",
       "      <td>759409.0240</td>\n",
       "      <td>4.484700e+08</td>\n",
       "    </tr>\n",
       "    <tr>\n",
       "      <th>5</th>\n",
       "      <td>2015-11-22</td>\n",
       "      <td>1</td>\n",
       "      <td>55979.78</td>\n",
       "      <td>6556.47</td>\n",
       "      <td>127.44</td>\n",
       "      <td>0.0</td>\n",
       "      <td>conventional</td>\n",
       "      <td>2015</td>\n",
       "      <td>Albany</td>\n",
       "      <td>835556.5368</td>\n",
       "      <td>3.670297e+08</td>\n",
       "    </tr>\n",
       "  </tbody>\n",
       "</table>\n",
       "</div>"
      ],
      "text/plain": [
       "         date  averageprice  total_volume  small_bags  large_bags  \\\n",
       "0  2015-12-27             1      64236.62     8603.62       93.25   \n",
       "3  2015-12-06             1      78992.15     5677.40      133.76   \n",
       "5  2015-11-22             1      55979.78     6556.47      127.44   \n",
       "\n",
       "   xlarge_bags          type  year  region        nueva          otra  \n",
       "0          0.0  conventional  2015  Albany  802287.5650  5.526675e+08  \n",
       "3          0.0  conventional  2015  Albany  759409.0240  4.484700e+08  \n",
       "5          0.0  conventional  2015  Albany  835556.5368  3.670297e+08  "
      ]
     },
     "execution_count": 166,
     "metadata": {},
     "output_type": "execute_result"
    }
   ],
   "source": [
    "df[\"nueva\"] = df.large_bags * df.small_bags\n",
    "df.head(3)"
   ]
  },
  {
   "cell_type": "markdown",
   "id": "collective-serve",
   "metadata": {},
   "source": [
    "## Apply !! "
   ]
  },
  {
   "cell_type": "markdown",
   "id": "international-james",
   "metadata": {},
   "source": [
    "Aplica una función a lo largo de un eje del DataFrame.      \n",
    "[Lee la doc](https://pandas.pydata.org/docs/reference/api/pandas.DataFrame.apply.html)"
   ]
  },
  {
   "cell_type": "code",
   "execution_count": 167,
   "id": "magnetic-technology",
   "metadata": {},
   "outputs": [],
   "source": [
    "#Creamos una función sencilla que vamos a aplicar"
   ]
  },
  {
   "cell_type": "code",
   "execution_count": 168,
   "id": "acknowledged-output",
   "metadata": {},
   "outputs": [],
   "source": [
    "def euros(x):\n",
    "    return f\"{x}\""
   ]
  },
  {
   "cell_type": "code",
   "execution_count": 169,
   "id": "exclusive-metadata",
   "metadata": {},
   "outputs": [
    {
     "data": {
      "text/plain": [
       "'5'"
      ]
     },
     "execution_count": 169,
     "metadata": {},
     "output_type": "execute_result"
    }
   ],
   "source": [
    "euros(5)"
   ]
  },
  {
   "cell_type": "code",
   "execution_count": 170,
   "id": "prospective-blink",
   "metadata": {},
   "outputs": [],
   "source": [
    "lista = [135,14.16,164.62,23.15,26.15]"
   ]
  },
  {
   "cell_type": "code",
   "execution_count": 171,
   "id": "falling-damage",
   "metadata": {},
   "outputs": [
    {
     "data": {
      "text/plain": [
       "['135', '14.16', '164.62', '23.15', '26.15']"
      ]
     },
     "execution_count": 171,
     "metadata": {},
     "output_type": "execute_result"
    }
   ],
   "source": [
    "nuevalista = list(map(euros,lista))\n",
    "nuevalista"
   ]
  },
  {
   "cell_type": "code",
   "execution_count": 172,
   "id": "799f1fb2",
   "metadata": {},
   "outputs": [
    {
     "data": {
      "text/html": [
       "<div>\n",
       "<style scoped>\n",
       "    .dataframe tbody tr th:only-of-type {\n",
       "        vertical-align: middle;\n",
       "    }\n",
       "\n",
       "    .dataframe tbody tr th {\n",
       "        vertical-align: top;\n",
       "    }\n",
       "\n",
       "    .dataframe thead th {\n",
       "        text-align: right;\n",
       "    }\n",
       "</style>\n",
       "<table border=\"1\" class=\"dataframe\">\n",
       "  <thead>\n",
       "    <tr style=\"text-align: right;\">\n",
       "      <th></th>\n",
       "      <th>date</th>\n",
       "      <th>averageprice</th>\n",
       "      <th>total_volume</th>\n",
       "      <th>small_bags</th>\n",
       "      <th>large_bags</th>\n",
       "      <th>xlarge_bags</th>\n",
       "      <th>type</th>\n",
       "      <th>year</th>\n",
       "      <th>region</th>\n",
       "      <th>nueva</th>\n",
       "      <th>otra</th>\n",
       "    </tr>\n",
       "  </thead>\n",
       "  <tbody>\n",
       "    <tr>\n",
       "      <th>0</th>\n",
       "      <td>2015-12-27</td>\n",
       "      <td>1</td>\n",
       "      <td>64236.62</td>\n",
       "      <td>8603.62</td>\n",
       "      <td>93.25</td>\n",
       "      <td>0.0</td>\n",
       "      <td>conventional</td>\n",
       "      <td>2015</td>\n",
       "      <td>Albany</td>\n",
       "      <td>8.022876e+05</td>\n",
       "      <td>5.526675e+08</td>\n",
       "    </tr>\n",
       "    <tr>\n",
       "      <th>3</th>\n",
       "      <td>2015-12-06</td>\n",
       "      <td>1</td>\n",
       "      <td>78992.15</td>\n",
       "      <td>5677.40</td>\n",
       "      <td>133.76</td>\n",
       "      <td>0.0</td>\n",
       "      <td>conventional</td>\n",
       "      <td>2015</td>\n",
       "      <td>Albany</td>\n",
       "      <td>7.594090e+05</td>\n",
       "      <td>4.484700e+08</td>\n",
       "    </tr>\n",
       "    <tr>\n",
       "      <th>5</th>\n",
       "      <td>2015-11-22</td>\n",
       "      <td>1</td>\n",
       "      <td>55979.78</td>\n",
       "      <td>6556.47</td>\n",
       "      <td>127.44</td>\n",
       "      <td>0.0</td>\n",
       "      <td>conventional</td>\n",
       "      <td>2015</td>\n",
       "      <td>Albany</td>\n",
       "      <td>8.355565e+05</td>\n",
       "      <td>3.670297e+08</td>\n",
       "    </tr>\n",
       "    <tr>\n",
       "      <th>6</th>\n",
       "      <td>2015-11-15</td>\n",
       "      <td>0</td>\n",
       "      <td>83453.76</td>\n",
       "      <td>8196.81</td>\n",
       "      <td>122.05</td>\n",
       "      <td>0.0</td>\n",
       "      <td>conventional</td>\n",
       "      <td>2015</td>\n",
       "      <td>Albany</td>\n",
       "      <td>1.000421e+06</td>\n",
       "      <td>6.840546e+08</td>\n",
       "    </tr>\n",
       "    <tr>\n",
       "      <th>7</th>\n",
       "      <td>2015-11-08</td>\n",
       "      <td>0</td>\n",
       "      <td>109428.33</td>\n",
       "      <td>6266.85</td>\n",
       "      <td>562.37</td>\n",
       "      <td>0.0</td>\n",
       "      <td>conventional</td>\n",
       "      <td>2015</td>\n",
       "      <td>Albany</td>\n",
       "      <td>3.524288e+06</td>\n",
       "      <td>6.857709e+08</td>\n",
       "    </tr>\n",
       "  </tbody>\n",
       "</table>\n",
       "</div>"
      ],
      "text/plain": [
       "         date  averageprice  total_volume  small_bags  large_bags  \\\n",
       "0  2015-12-27             1      64236.62     8603.62       93.25   \n",
       "3  2015-12-06             1      78992.15     5677.40      133.76   \n",
       "5  2015-11-22             1      55979.78     6556.47      127.44   \n",
       "6  2015-11-15             0      83453.76     8196.81      122.05   \n",
       "7  2015-11-08             0     109428.33     6266.85      562.37   \n",
       "\n",
       "   xlarge_bags          type  year  region         nueva          otra  \n",
       "0          0.0  conventional  2015  Albany  8.022876e+05  5.526675e+08  \n",
       "3          0.0  conventional  2015  Albany  7.594090e+05  4.484700e+08  \n",
       "5          0.0  conventional  2015  Albany  8.355565e+05  3.670297e+08  \n",
       "6          0.0  conventional  2015  Albany  1.000421e+06  6.840546e+08  \n",
       "7          0.0  conventional  2015  Albany  3.524288e+06  6.857709e+08  "
      ]
     },
     "execution_count": 172,
     "metadata": {},
     "output_type": "execute_result"
    }
   ],
   "source": [
    "df.head()"
   ]
  },
  {
   "cell_type": "code",
   "execution_count": 173,
   "id": "domestic-richardson",
   "metadata": {},
   "outputs": [],
   "source": [
    "# Aplicamos la función a una columna y vemos el resultado en la salida"
   ]
  },
  {
   "cell_type": "code",
   "execution_count": 174,
   "id": "essential-connecticut",
   "metadata": {},
   "outputs": [],
   "source": [
    "# Si quiero machacar la columna"
   ]
  },
  {
   "cell_type": "code",
   "execution_count": 175,
   "id": "gorgeous-memory",
   "metadata": {},
   "outputs": [],
   "source": [
    "df.averageprice = df.averageprice.apply(euros)"
   ]
  },
  {
   "cell_type": "code",
   "execution_count": 176,
   "id": "0ed534a4",
   "metadata": {},
   "outputs": [
    {
     "data": {
      "text/html": [
       "<div>\n",
       "<style scoped>\n",
       "    .dataframe tbody tr th:only-of-type {\n",
       "        vertical-align: middle;\n",
       "    }\n",
       "\n",
       "    .dataframe tbody tr th {\n",
       "        vertical-align: top;\n",
       "    }\n",
       "\n",
       "    .dataframe thead th {\n",
       "        text-align: right;\n",
       "    }\n",
       "</style>\n",
       "<table border=\"1\" class=\"dataframe\">\n",
       "  <thead>\n",
       "    <tr style=\"text-align: right;\">\n",
       "      <th></th>\n",
       "      <th>date</th>\n",
       "      <th>averageprice</th>\n",
       "      <th>total_volume</th>\n",
       "      <th>small_bags</th>\n",
       "      <th>large_bags</th>\n",
       "      <th>xlarge_bags</th>\n",
       "      <th>type</th>\n",
       "      <th>year</th>\n",
       "      <th>region</th>\n",
       "      <th>nueva</th>\n",
       "      <th>otra</th>\n",
       "    </tr>\n",
       "  </thead>\n",
       "  <tbody>\n",
       "    <tr>\n",
       "      <th>0</th>\n",
       "      <td>2015-12-27</td>\n",
       "      <td>1</td>\n",
       "      <td>64236.62</td>\n",
       "      <td>8603.62</td>\n",
       "      <td>93.25</td>\n",
       "      <td>0.0</td>\n",
       "      <td>conventional</td>\n",
       "      <td>2015</td>\n",
       "      <td>Albany</td>\n",
       "      <td>8.022876e+05</td>\n",
       "      <td>5.526675e+08</td>\n",
       "    </tr>\n",
       "    <tr>\n",
       "      <th>3</th>\n",
       "      <td>2015-12-06</td>\n",
       "      <td>1</td>\n",
       "      <td>78992.15</td>\n",
       "      <td>5677.40</td>\n",
       "      <td>133.76</td>\n",
       "      <td>0.0</td>\n",
       "      <td>conventional</td>\n",
       "      <td>2015</td>\n",
       "      <td>Albany</td>\n",
       "      <td>7.594090e+05</td>\n",
       "      <td>4.484700e+08</td>\n",
       "    </tr>\n",
       "    <tr>\n",
       "      <th>5</th>\n",
       "      <td>2015-11-22</td>\n",
       "      <td>1</td>\n",
       "      <td>55979.78</td>\n",
       "      <td>6556.47</td>\n",
       "      <td>127.44</td>\n",
       "      <td>0.0</td>\n",
       "      <td>conventional</td>\n",
       "      <td>2015</td>\n",
       "      <td>Albany</td>\n",
       "      <td>8.355565e+05</td>\n",
       "      <td>3.670297e+08</td>\n",
       "    </tr>\n",
       "    <tr>\n",
       "      <th>6</th>\n",
       "      <td>2015-11-15</td>\n",
       "      <td>0</td>\n",
       "      <td>83453.76</td>\n",
       "      <td>8196.81</td>\n",
       "      <td>122.05</td>\n",
       "      <td>0.0</td>\n",
       "      <td>conventional</td>\n",
       "      <td>2015</td>\n",
       "      <td>Albany</td>\n",
       "      <td>1.000421e+06</td>\n",
       "      <td>6.840546e+08</td>\n",
       "    </tr>\n",
       "    <tr>\n",
       "      <th>7</th>\n",
       "      <td>2015-11-08</td>\n",
       "      <td>0</td>\n",
       "      <td>109428.33</td>\n",
       "      <td>6266.85</td>\n",
       "      <td>562.37</td>\n",
       "      <td>0.0</td>\n",
       "      <td>conventional</td>\n",
       "      <td>2015</td>\n",
       "      <td>Albany</td>\n",
       "      <td>3.524288e+06</td>\n",
       "      <td>6.857709e+08</td>\n",
       "    </tr>\n",
       "  </tbody>\n",
       "</table>\n",
       "</div>"
      ],
      "text/plain": [
       "         date averageprice  total_volume  small_bags  large_bags  xlarge_bags  \\\n",
       "0  2015-12-27            1      64236.62     8603.62       93.25          0.0   \n",
       "3  2015-12-06            1      78992.15     5677.40      133.76          0.0   \n",
       "5  2015-11-22            1      55979.78     6556.47      127.44          0.0   \n",
       "6  2015-11-15            0      83453.76     8196.81      122.05          0.0   \n",
       "7  2015-11-08            0     109428.33     6266.85      562.37          0.0   \n",
       "\n",
       "           type  year  region         nueva          otra  \n",
       "0  conventional  2015  Albany  8.022876e+05  5.526675e+08  \n",
       "3  conventional  2015  Albany  7.594090e+05  4.484700e+08  \n",
       "5  conventional  2015  Albany  8.355565e+05  3.670297e+08  \n",
       "6  conventional  2015  Albany  1.000421e+06  6.840546e+08  \n",
       "7  conventional  2015  Albany  3.524288e+06  6.857709e+08  "
      ]
     },
     "execution_count": 176,
     "metadata": {},
     "output_type": "execute_result"
    }
   ],
   "source": [
    "df.head()"
   ]
  },
  {
   "cell_type": "code",
   "execution_count": 177,
   "id": "political-dining",
   "metadata": {},
   "outputs": [],
   "source": [
    "# Vamos a crear una columna nueva haciendo un apply a otra columna"
   ]
  },
  {
   "cell_type": "code",
   "execution_count": 178,
   "id": "unlimited-opinion",
   "metadata": {},
   "outputs": [],
   "source": [
    "df[\"euros\"] = df.total_volume.apply(euros)"
   ]
  },
  {
   "cell_type": "code",
   "execution_count": 179,
   "id": "polar-robert",
   "metadata": {},
   "outputs": [
    {
     "data": {
      "text/html": [
       "<div>\n",
       "<style scoped>\n",
       "    .dataframe tbody tr th:only-of-type {\n",
       "        vertical-align: middle;\n",
       "    }\n",
       "\n",
       "    .dataframe tbody tr th {\n",
       "        vertical-align: top;\n",
       "    }\n",
       "\n",
       "    .dataframe thead th {\n",
       "        text-align: right;\n",
       "    }\n",
       "</style>\n",
       "<table border=\"1\" class=\"dataframe\">\n",
       "  <thead>\n",
       "    <tr style=\"text-align: right;\">\n",
       "      <th></th>\n",
       "      <th>date</th>\n",
       "      <th>averageprice</th>\n",
       "      <th>total_volume</th>\n",
       "      <th>small_bags</th>\n",
       "      <th>large_bags</th>\n",
       "      <th>xlarge_bags</th>\n",
       "      <th>type</th>\n",
       "      <th>year</th>\n",
       "      <th>region</th>\n",
       "      <th>nueva</th>\n",
       "      <th>otra</th>\n",
       "      <th>euros</th>\n",
       "    </tr>\n",
       "  </thead>\n",
       "  <tbody>\n",
       "    <tr>\n",
       "      <th>0</th>\n",
       "      <td>2015-12-27</td>\n",
       "      <td>1</td>\n",
       "      <td>64236.62</td>\n",
       "      <td>8603.62</td>\n",
       "      <td>93.25</td>\n",
       "      <td>0.0</td>\n",
       "      <td>conventional</td>\n",
       "      <td>2015</td>\n",
       "      <td>Albany</td>\n",
       "      <td>8.022876e+05</td>\n",
       "      <td>5.526675e+08</td>\n",
       "      <td>64236.62</td>\n",
       "    </tr>\n",
       "    <tr>\n",
       "      <th>3</th>\n",
       "      <td>2015-12-06</td>\n",
       "      <td>1</td>\n",
       "      <td>78992.15</td>\n",
       "      <td>5677.40</td>\n",
       "      <td>133.76</td>\n",
       "      <td>0.0</td>\n",
       "      <td>conventional</td>\n",
       "      <td>2015</td>\n",
       "      <td>Albany</td>\n",
       "      <td>7.594090e+05</td>\n",
       "      <td>4.484700e+08</td>\n",
       "      <td>78992.15</td>\n",
       "    </tr>\n",
       "    <tr>\n",
       "      <th>5</th>\n",
       "      <td>2015-11-22</td>\n",
       "      <td>1</td>\n",
       "      <td>55979.78</td>\n",
       "      <td>6556.47</td>\n",
       "      <td>127.44</td>\n",
       "      <td>0.0</td>\n",
       "      <td>conventional</td>\n",
       "      <td>2015</td>\n",
       "      <td>Albany</td>\n",
       "      <td>8.355565e+05</td>\n",
       "      <td>3.670297e+08</td>\n",
       "      <td>55979.78</td>\n",
       "    </tr>\n",
       "    <tr>\n",
       "      <th>6</th>\n",
       "      <td>2015-11-15</td>\n",
       "      <td>0</td>\n",
       "      <td>83453.76</td>\n",
       "      <td>8196.81</td>\n",
       "      <td>122.05</td>\n",
       "      <td>0.0</td>\n",
       "      <td>conventional</td>\n",
       "      <td>2015</td>\n",
       "      <td>Albany</td>\n",
       "      <td>1.000421e+06</td>\n",
       "      <td>6.840546e+08</td>\n",
       "      <td>83453.76</td>\n",
       "    </tr>\n",
       "    <tr>\n",
       "      <th>7</th>\n",
       "      <td>2015-11-08</td>\n",
       "      <td>0</td>\n",
       "      <td>109428.33</td>\n",
       "      <td>6266.85</td>\n",
       "      <td>562.37</td>\n",
       "      <td>0.0</td>\n",
       "      <td>conventional</td>\n",
       "      <td>2015</td>\n",
       "      <td>Albany</td>\n",
       "      <td>3.524288e+06</td>\n",
       "      <td>6.857709e+08</td>\n",
       "      <td>109428.33</td>\n",
       "    </tr>\n",
       "  </tbody>\n",
       "</table>\n",
       "</div>"
      ],
      "text/plain": [
       "         date averageprice  total_volume  small_bags  large_bags  xlarge_bags  \\\n",
       "0  2015-12-27            1      64236.62     8603.62       93.25          0.0   \n",
       "3  2015-12-06            1      78992.15     5677.40      133.76          0.0   \n",
       "5  2015-11-22            1      55979.78     6556.47      127.44          0.0   \n",
       "6  2015-11-15            0      83453.76     8196.81      122.05          0.0   \n",
       "7  2015-11-08            0     109428.33     6266.85      562.37          0.0   \n",
       "\n",
       "           type  year  region         nueva          otra      euros  \n",
       "0  conventional  2015  Albany  8.022876e+05  5.526675e+08   64236.62  \n",
       "3  conventional  2015  Albany  7.594090e+05  4.484700e+08   78992.15  \n",
       "5  conventional  2015  Albany  8.355565e+05  3.670297e+08   55979.78  \n",
       "6  conventional  2015  Albany  1.000421e+06  6.840546e+08   83453.76  \n",
       "7  conventional  2015  Albany  3.524288e+06  6.857709e+08  109428.33  "
      ]
     },
     "execution_count": 179,
     "metadata": {},
     "output_type": "execute_result"
    }
   ],
   "source": [
    "df.head()"
   ]
  },
  {
   "cell_type": "code",
   "execution_count": 180,
   "id": "comprehensive-pepper",
   "metadata": {},
   "outputs": [],
   "source": [
    "#Hazlo con lambda!!\n",
    "# Vamos a hacer una columna nueva que junte región y año solamente si en type pone convencional y si no otra cosa"
   ]
  },
  {
   "cell_type": "code",
   "execution_count": 181,
   "id": "patent-coordination",
   "metadata": {},
   "outputs": [],
   "source": [
    "df[\"fantasya\"] = df.apply(lambda fila: f\"{fila['year']}, {fila['region']}\" if fila[\"type\"] == \"conventional\" else \"OTRACOSA\", axis=1)"
   ]
  },
  {
   "cell_type": "code",
   "execution_count": 182,
   "id": "virgin-client",
   "metadata": {},
   "outputs": [
    {
     "data": {
      "text/html": [
       "<div>\n",
       "<style scoped>\n",
       "    .dataframe tbody tr th:only-of-type {\n",
       "        vertical-align: middle;\n",
       "    }\n",
       "\n",
       "    .dataframe tbody tr th {\n",
       "        vertical-align: top;\n",
       "    }\n",
       "\n",
       "    .dataframe thead th {\n",
       "        text-align: right;\n",
       "    }\n",
       "</style>\n",
       "<table border=\"1\" class=\"dataframe\">\n",
       "  <thead>\n",
       "    <tr style=\"text-align: right;\">\n",
       "      <th></th>\n",
       "      <th>date</th>\n",
       "      <th>averageprice</th>\n",
       "      <th>total_volume</th>\n",
       "      <th>small_bags</th>\n",
       "      <th>large_bags</th>\n",
       "      <th>xlarge_bags</th>\n",
       "      <th>type</th>\n",
       "      <th>year</th>\n",
       "      <th>region</th>\n",
       "      <th>nueva</th>\n",
       "      <th>otra</th>\n",
       "      <th>euros</th>\n",
       "      <th>fantasya</th>\n",
       "    </tr>\n",
       "  </thead>\n",
       "  <tbody>\n",
       "    <tr>\n",
       "      <th>1516</th>\n",
       "      <td>2015-11-01</td>\n",
       "      <td>1</td>\n",
       "      <td>4801621.08</td>\n",
       "      <td>697293.46</td>\n",
       "      <td>83580.91</td>\n",
       "      <td>19.25</td>\n",
       "      <td>conventional</td>\n",
       "      <td>2015</td>\n",
       "      <td>Northeast</td>\n",
       "      <td>5.828042e+10</td>\n",
       "      <td>3.348139e+12</td>\n",
       "      <td>4801621.08</td>\n",
       "      <td>2015, Northeast</td>\n",
       "    </tr>\n",
       "  </tbody>\n",
       "</table>\n",
       "</div>"
      ],
      "text/plain": [
       "            date averageprice  total_volume  small_bags  large_bags  \\\n",
       "1516  2015-11-01            1    4801621.08   697293.46    83580.91   \n",
       "\n",
       "      xlarge_bags          type  year     region         nueva          otra  \\\n",
       "1516        19.25  conventional  2015  Northeast  5.828042e+10  3.348139e+12   \n",
       "\n",
       "           euros         fantasya  \n",
       "1516  4801621.08  2015, Northeast  "
      ]
     },
     "execution_count": 182,
     "metadata": {},
     "output_type": "execute_result"
    }
   ],
   "source": [
    "df.sample(1)"
   ]
  },
  {
   "cell_type": "code",
   "execution_count": 183,
   "id": "public-israeli",
   "metadata": {},
   "outputs": [],
   "source": [
    "df[\"prueba\"] = df.apply(lambda palabra: \"loquesea\" if palabra[\"region\"] == \"Albany\" else palabra[\"euros\"], axis=1)"
   ]
  },
  {
   "cell_type": "code",
   "execution_count": 184,
   "id": "78696fe9",
   "metadata": {},
   "outputs": [
    {
     "ename": "KeyError",
     "evalue": "\"['lakdhfgklajh' 'ejemplo'] not found in axis\"",
     "output_type": "error",
     "traceback": [
      "\u001b[0;31m---------------------------------------------------------------------------\u001b[0m",
      "\u001b[0;31mKeyError\u001b[0m                                  Traceback (most recent call last)",
      "\u001b[0;32m<ipython-input-184-95d0fedd6bdf>\u001b[0m in \u001b[0;36m<module>\u001b[0;34m\u001b[0m\n\u001b[0;32m----> 1\u001b[0;31m \u001b[0mdf\u001b[0m\u001b[0;34m.\u001b[0m\u001b[0mdrop\u001b[0m\u001b[0;34m(\u001b[0m\u001b[0mcolumns\u001b[0m\u001b[0;34m=\u001b[0m\u001b[0;34m[\u001b[0m\u001b[0;34m\"lakdhfgklajh\"\u001b[0m\u001b[0;34m,\u001b[0m\u001b[0;34m\"ejemplo\"\u001b[0m\u001b[0;34m,\u001b[0m \u001b[0;34m\"prueba\"\u001b[0m\u001b[0;34m]\u001b[0m\u001b[0;34m,\u001b[0m \u001b[0minplace\u001b[0m\u001b[0;34m=\u001b[0m\u001b[0;32mTrue\u001b[0m\u001b[0;34m)\u001b[0m\u001b[0;34m\u001b[0m\u001b[0;34m\u001b[0m\u001b[0m\n\u001b[0m",
      "\u001b[0;32m~/opt/anaconda3/envs/clase/lib/python3.8/site-packages/pandas/core/frame.py\u001b[0m in \u001b[0;36mdrop\u001b[0;34m(self, labels, axis, index, columns, level, inplace, errors)\u001b[0m\n\u001b[1;32m   4306\u001b[0m                 \u001b[0mweight\u001b[0m  \u001b[0;36m1.0\u001b[0m     \u001b[0;36m0.8\u001b[0m\u001b[0;34m\u001b[0m\u001b[0;34m\u001b[0m\u001b[0m\n\u001b[1;32m   4307\u001b[0m         \"\"\"\n\u001b[0;32m-> 4308\u001b[0;31m         return super().drop(\n\u001b[0m\u001b[1;32m   4309\u001b[0m             \u001b[0mlabels\u001b[0m\u001b[0;34m=\u001b[0m\u001b[0mlabels\u001b[0m\u001b[0;34m,\u001b[0m\u001b[0;34m\u001b[0m\u001b[0;34m\u001b[0m\u001b[0m\n\u001b[1;32m   4310\u001b[0m             \u001b[0maxis\u001b[0m\u001b[0;34m=\u001b[0m\u001b[0maxis\u001b[0m\u001b[0;34m,\u001b[0m\u001b[0;34m\u001b[0m\u001b[0;34m\u001b[0m\u001b[0m\n",
      "\u001b[0;32m~/opt/anaconda3/envs/clase/lib/python3.8/site-packages/pandas/core/generic.py\u001b[0m in \u001b[0;36mdrop\u001b[0;34m(self, labels, axis, index, columns, level, inplace, errors)\u001b[0m\n\u001b[1;32m   4151\u001b[0m         \u001b[0;32mfor\u001b[0m \u001b[0maxis\u001b[0m\u001b[0;34m,\u001b[0m \u001b[0mlabels\u001b[0m \u001b[0;32min\u001b[0m \u001b[0maxes\u001b[0m\u001b[0;34m.\u001b[0m\u001b[0mitems\u001b[0m\u001b[0;34m(\u001b[0m\u001b[0;34m)\u001b[0m\u001b[0;34m:\u001b[0m\u001b[0;34m\u001b[0m\u001b[0;34m\u001b[0m\u001b[0m\n\u001b[1;32m   4152\u001b[0m             \u001b[0;32mif\u001b[0m \u001b[0mlabels\u001b[0m \u001b[0;32mis\u001b[0m \u001b[0;32mnot\u001b[0m \u001b[0;32mNone\u001b[0m\u001b[0;34m:\u001b[0m\u001b[0;34m\u001b[0m\u001b[0;34m\u001b[0m\u001b[0m\n\u001b[0;32m-> 4153\u001b[0;31m                 \u001b[0mobj\u001b[0m \u001b[0;34m=\u001b[0m \u001b[0mobj\u001b[0m\u001b[0;34m.\u001b[0m\u001b[0m_drop_axis\u001b[0m\u001b[0;34m(\u001b[0m\u001b[0mlabels\u001b[0m\u001b[0;34m,\u001b[0m \u001b[0maxis\u001b[0m\u001b[0;34m,\u001b[0m \u001b[0mlevel\u001b[0m\u001b[0;34m=\u001b[0m\u001b[0mlevel\u001b[0m\u001b[0;34m,\u001b[0m \u001b[0merrors\u001b[0m\u001b[0;34m=\u001b[0m\u001b[0merrors\u001b[0m\u001b[0;34m)\u001b[0m\u001b[0;34m\u001b[0m\u001b[0;34m\u001b[0m\u001b[0m\n\u001b[0m\u001b[1;32m   4154\u001b[0m \u001b[0;34m\u001b[0m\u001b[0m\n\u001b[1;32m   4155\u001b[0m         \u001b[0;32mif\u001b[0m \u001b[0minplace\u001b[0m\u001b[0;34m:\u001b[0m\u001b[0;34m\u001b[0m\u001b[0;34m\u001b[0m\u001b[0m\n",
      "\u001b[0;32m~/opt/anaconda3/envs/clase/lib/python3.8/site-packages/pandas/core/generic.py\u001b[0m in \u001b[0;36m_drop_axis\u001b[0;34m(self, labels, axis, level, errors)\u001b[0m\n\u001b[1;32m   4186\u001b[0m                 \u001b[0mnew_axis\u001b[0m \u001b[0;34m=\u001b[0m \u001b[0maxis\u001b[0m\u001b[0;34m.\u001b[0m\u001b[0mdrop\u001b[0m\u001b[0;34m(\u001b[0m\u001b[0mlabels\u001b[0m\u001b[0;34m,\u001b[0m \u001b[0mlevel\u001b[0m\u001b[0;34m=\u001b[0m\u001b[0mlevel\u001b[0m\u001b[0;34m,\u001b[0m \u001b[0merrors\u001b[0m\u001b[0;34m=\u001b[0m\u001b[0merrors\u001b[0m\u001b[0;34m)\u001b[0m\u001b[0;34m\u001b[0m\u001b[0;34m\u001b[0m\u001b[0m\n\u001b[1;32m   4187\u001b[0m             \u001b[0;32melse\u001b[0m\u001b[0;34m:\u001b[0m\u001b[0;34m\u001b[0m\u001b[0;34m\u001b[0m\u001b[0m\n\u001b[0;32m-> 4188\u001b[0;31m                 \u001b[0mnew_axis\u001b[0m \u001b[0;34m=\u001b[0m \u001b[0maxis\u001b[0m\u001b[0;34m.\u001b[0m\u001b[0mdrop\u001b[0m\u001b[0;34m(\u001b[0m\u001b[0mlabels\u001b[0m\u001b[0;34m,\u001b[0m \u001b[0merrors\u001b[0m\u001b[0;34m=\u001b[0m\u001b[0merrors\u001b[0m\u001b[0;34m)\u001b[0m\u001b[0;34m\u001b[0m\u001b[0;34m\u001b[0m\u001b[0m\n\u001b[0m\u001b[1;32m   4189\u001b[0m             \u001b[0mresult\u001b[0m \u001b[0;34m=\u001b[0m \u001b[0mself\u001b[0m\u001b[0;34m.\u001b[0m\u001b[0mreindex\u001b[0m\u001b[0;34m(\u001b[0m\u001b[0;34m**\u001b[0m\u001b[0;34m{\u001b[0m\u001b[0maxis_name\u001b[0m\u001b[0;34m:\u001b[0m \u001b[0mnew_axis\u001b[0m\u001b[0;34m}\u001b[0m\u001b[0;34m)\u001b[0m\u001b[0;34m\u001b[0m\u001b[0;34m\u001b[0m\u001b[0m\n\u001b[1;32m   4190\u001b[0m \u001b[0;34m\u001b[0m\u001b[0m\n",
      "\u001b[0;32m~/opt/anaconda3/envs/clase/lib/python3.8/site-packages/pandas/core/indexes/base.py\u001b[0m in \u001b[0;36mdrop\u001b[0;34m(self, labels, errors)\u001b[0m\n\u001b[1;32m   5589\u001b[0m         \u001b[0;32mif\u001b[0m \u001b[0mmask\u001b[0m\u001b[0;34m.\u001b[0m\u001b[0many\u001b[0m\u001b[0;34m(\u001b[0m\u001b[0;34m)\u001b[0m\u001b[0;34m:\u001b[0m\u001b[0;34m\u001b[0m\u001b[0;34m\u001b[0m\u001b[0m\n\u001b[1;32m   5590\u001b[0m             \u001b[0;32mif\u001b[0m \u001b[0merrors\u001b[0m \u001b[0;34m!=\u001b[0m \u001b[0;34m\"ignore\"\u001b[0m\u001b[0;34m:\u001b[0m\u001b[0;34m\u001b[0m\u001b[0;34m\u001b[0m\u001b[0m\n\u001b[0;32m-> 5591\u001b[0;31m                 \u001b[0;32mraise\u001b[0m \u001b[0mKeyError\u001b[0m\u001b[0;34m(\u001b[0m\u001b[0;34mf\"{labels[mask]} not found in axis\"\u001b[0m\u001b[0;34m)\u001b[0m\u001b[0;34m\u001b[0m\u001b[0;34m\u001b[0m\u001b[0m\n\u001b[0m\u001b[1;32m   5592\u001b[0m             \u001b[0mindexer\u001b[0m \u001b[0;34m=\u001b[0m \u001b[0mindexer\u001b[0m\u001b[0;34m[\u001b[0m\u001b[0;34m~\u001b[0m\u001b[0mmask\u001b[0m\u001b[0;34m]\u001b[0m\u001b[0;34m\u001b[0m\u001b[0;34m\u001b[0m\u001b[0m\n\u001b[1;32m   5593\u001b[0m         \u001b[0;32mreturn\u001b[0m \u001b[0mself\u001b[0m\u001b[0;34m.\u001b[0m\u001b[0mdelete\u001b[0m\u001b[0;34m(\u001b[0m\u001b[0mindexer\u001b[0m\u001b[0;34m)\u001b[0m\u001b[0;34m\u001b[0m\u001b[0;34m\u001b[0m\u001b[0m\n",
      "\u001b[0;31mKeyError\u001b[0m: \"['lakdhfgklajh' 'ejemplo'] not found in axis\""
     ]
    }
   ],
   "source": [
    "df.drop(columns=[\"lakdhfgklajh\",\"ejemplo\", \"prueba\"], inplace=True)"
   ]
  },
  {
   "cell_type": "code",
   "execution_count": 185,
   "id": "43e4b4b3",
   "metadata": {},
   "outputs": [
    {
     "data": {
      "text/html": [
       "<div>\n",
       "<style scoped>\n",
       "    .dataframe tbody tr th:only-of-type {\n",
       "        vertical-align: middle;\n",
       "    }\n",
       "\n",
       "    .dataframe tbody tr th {\n",
       "        vertical-align: top;\n",
       "    }\n",
       "\n",
       "    .dataframe thead th {\n",
       "        text-align: right;\n",
       "    }\n",
       "</style>\n",
       "<table border=\"1\" class=\"dataframe\">\n",
       "  <thead>\n",
       "    <tr style=\"text-align: right;\">\n",
       "      <th></th>\n",
       "      <th>date</th>\n",
       "      <th>averageprice</th>\n",
       "      <th>total_volume</th>\n",
       "      <th>small_bags</th>\n",
       "      <th>large_bags</th>\n",
       "      <th>xlarge_bags</th>\n",
       "      <th>type</th>\n",
       "      <th>year</th>\n",
       "      <th>region</th>\n",
       "      <th>nueva</th>\n",
       "      <th>otra</th>\n",
       "      <th>euros</th>\n",
       "      <th>fantasya</th>\n",
       "      <th>prueba</th>\n",
       "    </tr>\n",
       "  </thead>\n",
       "  <tbody>\n",
       "    <tr>\n",
       "      <th>0</th>\n",
       "      <td>2015-12-27</td>\n",
       "      <td>1</td>\n",
       "      <td>64236.62</td>\n",
       "      <td>8603.62</td>\n",
       "      <td>93.25</td>\n",
       "      <td>0.0</td>\n",
       "      <td>conventional</td>\n",
       "      <td>2015</td>\n",
       "      <td>Albany</td>\n",
       "      <td>8.022876e+05</td>\n",
       "      <td>5.526675e+08</td>\n",
       "      <td>64236.62</td>\n",
       "      <td>2015, Albany</td>\n",
       "      <td>loquesea</td>\n",
       "    </tr>\n",
       "    <tr>\n",
       "      <th>3</th>\n",
       "      <td>2015-12-06</td>\n",
       "      <td>1</td>\n",
       "      <td>78992.15</td>\n",
       "      <td>5677.40</td>\n",
       "      <td>133.76</td>\n",
       "      <td>0.0</td>\n",
       "      <td>conventional</td>\n",
       "      <td>2015</td>\n",
       "      <td>Albany</td>\n",
       "      <td>7.594090e+05</td>\n",
       "      <td>4.484700e+08</td>\n",
       "      <td>78992.15</td>\n",
       "      <td>2015, Albany</td>\n",
       "      <td>loquesea</td>\n",
       "    </tr>\n",
       "    <tr>\n",
       "      <th>5</th>\n",
       "      <td>2015-11-22</td>\n",
       "      <td>1</td>\n",
       "      <td>55979.78</td>\n",
       "      <td>6556.47</td>\n",
       "      <td>127.44</td>\n",
       "      <td>0.0</td>\n",
       "      <td>conventional</td>\n",
       "      <td>2015</td>\n",
       "      <td>Albany</td>\n",
       "      <td>8.355565e+05</td>\n",
       "      <td>3.670297e+08</td>\n",
       "      <td>55979.78</td>\n",
       "      <td>2015, Albany</td>\n",
       "      <td>loquesea</td>\n",
       "    </tr>\n",
       "    <tr>\n",
       "      <th>6</th>\n",
       "      <td>2015-11-15</td>\n",
       "      <td>0</td>\n",
       "      <td>83453.76</td>\n",
       "      <td>8196.81</td>\n",
       "      <td>122.05</td>\n",
       "      <td>0.0</td>\n",
       "      <td>conventional</td>\n",
       "      <td>2015</td>\n",
       "      <td>Albany</td>\n",
       "      <td>1.000421e+06</td>\n",
       "      <td>6.840546e+08</td>\n",
       "      <td>83453.76</td>\n",
       "      <td>2015, Albany</td>\n",
       "      <td>loquesea</td>\n",
       "    </tr>\n",
       "    <tr>\n",
       "      <th>7</th>\n",
       "      <td>2015-11-08</td>\n",
       "      <td>0</td>\n",
       "      <td>109428.33</td>\n",
       "      <td>6266.85</td>\n",
       "      <td>562.37</td>\n",
       "      <td>0.0</td>\n",
       "      <td>conventional</td>\n",
       "      <td>2015</td>\n",
       "      <td>Albany</td>\n",
       "      <td>3.524288e+06</td>\n",
       "      <td>6.857709e+08</td>\n",
       "      <td>109428.33</td>\n",
       "      <td>2015, Albany</td>\n",
       "      <td>loquesea</td>\n",
       "    </tr>\n",
       "  </tbody>\n",
       "</table>\n",
       "</div>"
      ],
      "text/plain": [
       "         date averageprice  total_volume  small_bags  large_bags  xlarge_bags  \\\n",
       "0  2015-12-27            1      64236.62     8603.62       93.25          0.0   \n",
       "3  2015-12-06            1      78992.15     5677.40      133.76          0.0   \n",
       "5  2015-11-22            1      55979.78     6556.47      127.44          0.0   \n",
       "6  2015-11-15            0      83453.76     8196.81      122.05          0.0   \n",
       "7  2015-11-08            0     109428.33     6266.85      562.37          0.0   \n",
       "\n",
       "           type  year  region         nueva          otra      euros  \\\n",
       "0  conventional  2015  Albany  8.022876e+05  5.526675e+08   64236.62   \n",
       "3  conventional  2015  Albany  7.594090e+05  4.484700e+08   78992.15   \n",
       "5  conventional  2015  Albany  8.355565e+05  3.670297e+08   55979.78   \n",
       "6  conventional  2015  Albany  1.000421e+06  6.840546e+08   83453.76   \n",
       "7  conventional  2015  Albany  3.524288e+06  6.857709e+08  109428.33   \n",
       "\n",
       "       fantasya    prueba  \n",
       "0  2015, Albany  loquesea  \n",
       "3  2015, Albany  loquesea  \n",
       "5  2015, Albany  loquesea  \n",
       "6  2015, Albany  loquesea  \n",
       "7  2015, Albany  loquesea  "
      ]
     },
     "execution_count": 185,
     "metadata": {},
     "output_type": "execute_result"
    }
   ],
   "source": [
    "df.head()"
   ]
  },
  {
   "cell_type": "code",
   "execution_count": null,
   "id": "clinical-injury",
   "metadata": {},
   "outputs": [],
   "source": [
    "# Aplicamos una función que además de x tiene otro argumento."
   ]
  },
  {
   "cell_type": "code",
   "execution_count": 186,
   "id": "annoying-viking",
   "metadata": {},
   "outputs": [],
   "source": [
    "def empiezapora(palabra,x):\n",
    "    if x.lower().startswith(\"a\"):\n",
    "        return x\n",
    "    else:\n",
    "        return palabra"
   ]
  },
  {
   "cell_type": "code",
   "execution_count": 187,
   "id": "temporal-grounds",
   "metadata": {},
   "outputs": [
    {
     "data": {
      "text/plain": [
       "'amanda'"
      ]
     },
     "execution_count": 187,
     "metadata": {},
     "output_type": "execute_result"
    }
   ],
   "source": [
    "empiezapora(\"hola\", \"amanda\")"
   ]
  },
  {
   "cell_type": "code",
   "execution_count": 188,
   "id": "dress-window",
   "metadata": {},
   "outputs": [
    {
     "data": {
      "text/plain": [
       "'hola'"
      ]
     },
     "execution_count": 188,
     "metadata": {},
     "output_type": "execute_result"
    }
   ],
   "source": [
    "empiezapora(\"hola\", \"jjajajaja\")"
   ]
  },
  {
   "cell_type": "code",
   "execution_count": 189,
   "id": "pleased-overview",
   "metadata": {},
   "outputs": [
    {
     "ename": "SyntaxError",
     "evalue": "invalid character in identifier (<ipython-input-189-22bf754ed649>, line 1)",
     "output_type": "error",
     "traceback": [
      "\u001b[0;36m  File \u001b[0;32m\"<ipython-input-189-22bf754ed649>\"\u001b[0;36m, line \u001b[0;32m1\u001b[0m\n\u001b[0;31m    df[\"nosemeocurre\"] = df.region.apply(empiezapora(\"NOEMPIEZAPORA\", ¿CÓMO C*** LE DIGO A PANDAS QUE AQUÍ VA CADA REGISTRO)\u001b[0m\n\u001b[0m                                                                          ^\u001b[0m\n\u001b[0;31mSyntaxError\u001b[0m\u001b[0;31m:\u001b[0m invalid character in identifier\n"
     ]
    }
   ],
   "source": [
    "df[\"nosemeocurre\"] = df.region.apply(empiezapora(\"NOEMPIEZAPORA\", ¿CÓMO C*** LE DIGO A PANDAS QUE AQUÍ VA CADA REGISTRO)"
   ]
  },
  {
   "cell_type": "code",
   "execution_count": 190,
   "id": "associate-hunger",
   "metadata": {},
   "outputs": [],
   "source": [
    "# no puedo, tengo que hacerlo con lambda como hemos hecho arriba"
   ]
  },
  {
   "cell_type": "markdown",
   "id": "organized-central",
   "metadata": {},
   "source": [
    "Cuando hago un apply sobre una columna, aunque use un lambda, no pongo axis porque en el caso de abajo, lo que estoy haciendo es modificar una columna, utilizo lambda para decirle al apply que el primer argumento es un string que viene de fuera y el segundo argumento es el propio registro del dataframe. "
   ]
  },
  {
   "cell_type": "code",
   "execution_count": 191,
   "id": "strange-fraction",
   "metadata": {},
   "outputs": [],
   "source": [
    "df[\"columna_a\"] = df.region.apply(lambda registro: (empiezapora(\"OTRACOSA\", registro)))"
   ]
  },
  {
   "cell_type": "code",
   "execution_count": 192,
   "id": "assured-medication",
   "metadata": {},
   "outputs": [
    {
     "data": {
      "text/html": [
       "<div>\n",
       "<style scoped>\n",
       "    .dataframe tbody tr th:only-of-type {\n",
       "        vertical-align: middle;\n",
       "    }\n",
       "\n",
       "    .dataframe tbody tr th {\n",
       "        vertical-align: top;\n",
       "    }\n",
       "\n",
       "    .dataframe thead th {\n",
       "        text-align: right;\n",
       "    }\n",
       "</style>\n",
       "<table border=\"1\" class=\"dataframe\">\n",
       "  <thead>\n",
       "    <tr style=\"text-align: right;\">\n",
       "      <th></th>\n",
       "      <th>date</th>\n",
       "      <th>averageprice</th>\n",
       "      <th>total_volume</th>\n",
       "      <th>small_bags</th>\n",
       "      <th>large_bags</th>\n",
       "      <th>xlarge_bags</th>\n",
       "      <th>type</th>\n",
       "      <th>year</th>\n",
       "      <th>region</th>\n",
       "      <th>nueva</th>\n",
       "      <th>otra</th>\n",
       "      <th>euros</th>\n",
       "      <th>fantasya</th>\n",
       "      <th>prueba</th>\n",
       "      <th>columna_a</th>\n",
       "    </tr>\n",
       "  </thead>\n",
       "  <tbody>\n",
       "    <tr>\n",
       "      <th>4265</th>\n",
       "      <td>2016-12-18</td>\n",
       "      <td>1</td>\n",
       "      <td>1241381.71</td>\n",
       "      <td>215851.19</td>\n",
       "      <td>39174.98</td>\n",
       "      <td>1946.20</td>\n",
       "      <td>conventional</td>\n",
       "      <td>2016</td>\n",
       "      <td>NewYork</td>\n",
       "      <td>8.455966e+09</td>\n",
       "      <td>2.679537e+11</td>\n",
       "      <td>1241381.71</td>\n",
       "      <td>2016, NewYork</td>\n",
       "      <td>1241381.71</td>\n",
       "      <td>OTRACOSA</td>\n",
       "    </tr>\n",
       "    <tr>\n",
       "      <th>8983</th>\n",
       "      <td>2018-03-18</td>\n",
       "      <td>1</td>\n",
       "      <td>777300.99</td>\n",
       "      <td>119694.95</td>\n",
       "      <td>92.29</td>\n",
       "      <td>4427.35</td>\n",
       "      <td>conventional</td>\n",
       "      <td>2018</td>\n",
       "      <td>SanFrancisco</td>\n",
       "      <td>1.104665e+07</td>\n",
       "      <td>9.303900e+10</td>\n",
       "      <td>777300.99</td>\n",
       "      <td>2018, SanFrancisco</td>\n",
       "      <td>777300.99</td>\n",
       "      <td>OTRACOSA</td>\n",
       "    </tr>\n",
       "    <tr>\n",
       "      <th>15284</th>\n",
       "      <td>2017-10-01</td>\n",
       "      <td>1</td>\n",
       "      <td>9352.24</td>\n",
       "      <td>6061.17</td>\n",
       "      <td>635.37</td>\n",
       "      <td>0.00</td>\n",
       "      <td>organic</td>\n",
       "      <td>2017</td>\n",
       "      <td>Columbus</td>\n",
       "      <td>3.851086e+06</td>\n",
       "      <td>5.668552e+07</td>\n",
       "      <td>9352.24</td>\n",
       "      <td>OTRACOSA</td>\n",
       "      <td>9352.24</td>\n",
       "      <td>OTRACOSA</td>\n",
       "    </tr>\n",
       "    <tr>\n",
       "      <th>15319</th>\n",
       "      <td>2017-01-29</td>\n",
       "      <td>1</td>\n",
       "      <td>6971.41</td>\n",
       "      <td>2039.28</td>\n",
       "      <td>760.43</td>\n",
       "      <td>0.00</td>\n",
       "      <td>organic</td>\n",
       "      <td>2017</td>\n",
       "      <td>Columbus</td>\n",
       "      <td>1.550730e+06</td>\n",
       "      <td>1.421666e+07</td>\n",
       "      <td>6971.41</td>\n",
       "      <td>OTRACOSA</td>\n",
       "      <td>6971.41</td>\n",
       "      <td>OTRACOSA</td>\n",
       "    </tr>\n",
       "    <tr>\n",
       "      <th>14568</th>\n",
       "      <td>2016-04-24</td>\n",
       "      <td>1</td>\n",
       "      <td>4904.86</td>\n",
       "      <td>3703.92</td>\n",
       "      <td>0.00</td>\n",
       "      <td>0.00</td>\n",
       "      <td>organic</td>\n",
       "      <td>2016</td>\n",
       "      <td>Tampa</td>\n",
       "      <td>0.000000e+00</td>\n",
       "      <td>1.816721e+07</td>\n",
       "      <td>4904.86</td>\n",
       "      <td>OTRACOSA</td>\n",
       "      <td>4904.86</td>\n",
       "      <td>OTRACOSA</td>\n",
       "    </tr>\n",
       "  </tbody>\n",
       "</table>\n",
       "</div>"
      ],
      "text/plain": [
       "             date averageprice  total_volume  small_bags  large_bags  \\\n",
       "4265   2016-12-18            1    1241381.71   215851.19    39174.98   \n",
       "8983   2018-03-18            1     777300.99   119694.95       92.29   \n",
       "15284  2017-10-01            1       9352.24     6061.17      635.37   \n",
       "15319  2017-01-29            1       6971.41     2039.28      760.43   \n",
       "14568  2016-04-24            1       4904.86     3703.92        0.00   \n",
       "\n",
       "       xlarge_bags          type  year        region         nueva  \\\n",
       "4265       1946.20  conventional  2016       NewYork  8.455966e+09   \n",
       "8983       4427.35  conventional  2018  SanFrancisco  1.104665e+07   \n",
       "15284         0.00       organic  2017      Columbus  3.851086e+06   \n",
       "15319         0.00       organic  2017      Columbus  1.550730e+06   \n",
       "14568         0.00       organic  2016         Tampa  0.000000e+00   \n",
       "\n",
       "               otra       euros            fantasya      prueba columna_a  \n",
       "4265   2.679537e+11  1241381.71       2016, NewYork  1241381.71  OTRACOSA  \n",
       "8983   9.303900e+10   777300.99  2018, SanFrancisco   777300.99  OTRACOSA  \n",
       "15284  5.668552e+07     9352.24            OTRACOSA     9352.24  OTRACOSA  \n",
       "15319  1.421666e+07     6971.41            OTRACOSA     6971.41  OTRACOSA  \n",
       "14568  1.816721e+07     4904.86            OTRACOSA     4904.86  OTRACOSA  "
      ]
     },
     "execution_count": 192,
     "metadata": {},
     "output_type": "execute_result"
    }
   ],
   "source": [
    "df.sample(5)"
   ]
  },
  {
   "cell_type": "markdown",
   "id": "62ff68d7",
   "metadata": {},
   "source": [
    "[Artículo1](https://towardsdatascience.com/apply-and-lambda-usage-in-pandas-b13a1ea037f7)     \n",
    "[OTro](https://www.geeksforgeeks.org/applying-lambda-functions-to-pandas-dataframe/)      \n",
    "[TU VIDA ES LA DOCUMENTACIÓN](https://pandas.pydata.org/docs/reference/api/pandas.DataFrame.apply.html)"
   ]
  },
  {
   "cell_type": "markdown",
   "id": "occupational-intro",
   "metadata": {},
   "source": [
    "## Df .loc e .iloc"
   ]
  },
  {
   "cell_type": "markdown",
   "id": "confused-tower",
   "metadata": {},
   "source": [
    "### Seleccionar filas y columnas en Pandas mediante posición con iloc"
   ]
  },
  {
   "cell_type": "markdown",
   "id": "affecting-hartford",
   "metadata": {},
   "source": [
    "El método iloc se utiliza en los DataFrames para seleccionar los elementos en base a su ubicación. Su sintaxis es data.iloc[<filas>, <columnas>], donde <filas> y <columnas> son la posición de las filas y columnas que se desean seleccionar en el orden que aparecen en el objeto. Una notación familiar para los usuarios de Matlab. En un DataFrame cada una de las filas tiene un número que va desde 0 hasta el total de filas menos uno. Siendo iloc el método que permite seleccionar los datos en base a estos números. Lo mismo que aplica a las columnas.\n",
    "\n",
    "En iloc hay dos argumentos filas y columnas. En caso de que se omita el segundo, se seleccionarán todas las columnas de la fila. Así para seleccionar diferentes filas se puede utilizar."
   ]
  },
  {
   "cell_type": "code",
   "execution_count": 193,
   "id": "welcome-doctor",
   "metadata": {},
   "outputs": [
    {
     "data": {
      "text/plain": [
       "date                2015-12-27\n",
       "averageprice                 1\n",
       "total_volume          64236.62\n",
       "small_bags             8603.62\n",
       "large_bags               93.25\n",
       "xlarge_bags                0.0\n",
       "type              conventional\n",
       "year                      2015\n",
       "region                  Albany\n",
       "nueva               802287.565\n",
       "otra            552667468.5644\n",
       "euros                 64236.62\n",
       "fantasya          2015, Albany\n",
       "prueba                loquesea\n",
       "columna_a               Albany\n",
       "Name: 0, dtype: object"
      ]
     },
     "execution_count": 193,
     "metadata": {},
     "output_type": "execute_result"
    }
   ],
   "source": [
    "#seleccionamos un registro completo\n",
    "df.iloc[0]"
   ]
  },
  {
   "cell_type": "code",
   "execution_count": 194,
   "id": "sitting-morrison",
   "metadata": {},
   "outputs": [
    {
     "data": {
      "text/html": [
       "<div>\n",
       "<style scoped>\n",
       "    .dataframe tbody tr th:only-of-type {\n",
       "        vertical-align: middle;\n",
       "    }\n",
       "\n",
       "    .dataframe tbody tr th {\n",
       "        vertical-align: top;\n",
       "    }\n",
       "\n",
       "    .dataframe thead th {\n",
       "        text-align: right;\n",
       "    }\n",
       "</style>\n",
       "<table border=\"1\" class=\"dataframe\">\n",
       "  <thead>\n",
       "    <tr style=\"text-align: right;\">\n",
       "      <th></th>\n",
       "      <th>date</th>\n",
       "      <th>averageprice</th>\n",
       "      <th>total_volume</th>\n",
       "      <th>small_bags</th>\n",
       "      <th>large_bags</th>\n",
       "      <th>xlarge_bags</th>\n",
       "      <th>type</th>\n",
       "      <th>year</th>\n",
       "      <th>region</th>\n",
       "      <th>nueva</th>\n",
       "      <th>otra</th>\n",
       "      <th>euros</th>\n",
       "      <th>fantasya</th>\n",
       "      <th>prueba</th>\n",
       "      <th>columna_a</th>\n",
       "    </tr>\n",
       "  </thead>\n",
       "  <tbody>\n",
       "    <tr>\n",
       "      <th>0</th>\n",
       "      <td>2015-12-27</td>\n",
       "      <td>1</td>\n",
       "      <td>64236.62</td>\n",
       "      <td>8603.62</td>\n",
       "      <td>93.25</td>\n",
       "      <td>0.0</td>\n",
       "      <td>conventional</td>\n",
       "      <td>2015</td>\n",
       "      <td>Albany</td>\n",
       "      <td>8.022876e+05</td>\n",
       "      <td>5.526675e+08</td>\n",
       "      <td>64236.62</td>\n",
       "      <td>2015, Albany</td>\n",
       "      <td>loquesea</td>\n",
       "      <td>Albany</td>\n",
       "    </tr>\n",
       "    <tr>\n",
       "      <th>3</th>\n",
       "      <td>2015-12-06</td>\n",
       "      <td>1</td>\n",
       "      <td>78992.15</td>\n",
       "      <td>5677.40</td>\n",
       "      <td>133.76</td>\n",
       "      <td>0.0</td>\n",
       "      <td>conventional</td>\n",
       "      <td>2015</td>\n",
       "      <td>Albany</td>\n",
       "      <td>7.594090e+05</td>\n",
       "      <td>4.484700e+08</td>\n",
       "      <td>78992.15</td>\n",
       "      <td>2015, Albany</td>\n",
       "      <td>loquesea</td>\n",
       "      <td>Albany</td>\n",
       "    </tr>\n",
       "    <tr>\n",
       "      <th>5</th>\n",
       "      <td>2015-11-22</td>\n",
       "      <td>1</td>\n",
       "      <td>55979.78</td>\n",
       "      <td>6556.47</td>\n",
       "      <td>127.44</td>\n",
       "      <td>0.0</td>\n",
       "      <td>conventional</td>\n",
       "      <td>2015</td>\n",
       "      <td>Albany</td>\n",
       "      <td>8.355565e+05</td>\n",
       "      <td>3.670297e+08</td>\n",
       "      <td>55979.78</td>\n",
       "      <td>2015, Albany</td>\n",
       "      <td>loquesea</td>\n",
       "      <td>Albany</td>\n",
       "    </tr>\n",
       "    <tr>\n",
       "      <th>6</th>\n",
       "      <td>2015-11-15</td>\n",
       "      <td>0</td>\n",
       "      <td>83453.76</td>\n",
       "      <td>8196.81</td>\n",
       "      <td>122.05</td>\n",
       "      <td>0.0</td>\n",
       "      <td>conventional</td>\n",
       "      <td>2015</td>\n",
       "      <td>Albany</td>\n",
       "      <td>1.000421e+06</td>\n",
       "      <td>6.840546e+08</td>\n",
       "      <td>83453.76</td>\n",
       "      <td>2015, Albany</td>\n",
       "      <td>loquesea</td>\n",
       "      <td>Albany</td>\n",
       "    </tr>\n",
       "    <tr>\n",
       "      <th>7</th>\n",
       "      <td>2015-11-08</td>\n",
       "      <td>0</td>\n",
       "      <td>109428.33</td>\n",
       "      <td>6266.85</td>\n",
       "      <td>562.37</td>\n",
       "      <td>0.0</td>\n",
       "      <td>conventional</td>\n",
       "      <td>2015</td>\n",
       "      <td>Albany</td>\n",
       "      <td>3.524288e+06</td>\n",
       "      <td>6.857709e+08</td>\n",
       "      <td>109428.33</td>\n",
       "      <td>2015, Albany</td>\n",
       "      <td>loquesea</td>\n",
       "      <td>Albany</td>\n",
       "    </tr>\n",
       "  </tbody>\n",
       "</table>\n",
       "</div>"
      ],
      "text/plain": [
       "         date averageprice  total_volume  small_bags  large_bags  xlarge_bags  \\\n",
       "0  2015-12-27            1      64236.62     8603.62       93.25          0.0   \n",
       "3  2015-12-06            1      78992.15     5677.40      133.76          0.0   \n",
       "5  2015-11-22            1      55979.78     6556.47      127.44          0.0   \n",
       "6  2015-11-15            0      83453.76     8196.81      122.05          0.0   \n",
       "7  2015-11-08            0     109428.33     6266.85      562.37          0.0   \n",
       "\n",
       "           type  year  region         nueva          otra      euros  \\\n",
       "0  conventional  2015  Albany  8.022876e+05  5.526675e+08   64236.62   \n",
       "3  conventional  2015  Albany  7.594090e+05  4.484700e+08   78992.15   \n",
       "5  conventional  2015  Albany  8.355565e+05  3.670297e+08   55979.78   \n",
       "6  conventional  2015  Albany  1.000421e+06  6.840546e+08   83453.76   \n",
       "7  conventional  2015  Albany  3.524288e+06  6.857709e+08  109428.33   \n",
       "\n",
       "       fantasya    prueba columna_a  \n",
       "0  2015, Albany  loquesea    Albany  \n",
       "3  2015, Albany  loquesea    Albany  \n",
       "5  2015, Albany  loquesea    Albany  \n",
       "6  2015, Albany  loquesea    Albany  \n",
       "7  2015, Albany  loquesea    Albany  "
      ]
     },
     "execution_count": 194,
     "metadata": {},
     "output_type": "execute_result"
    }
   ],
   "source": [
    "#un rango de registros con sliding\n",
    "df.iloc[0:5]"
   ]
  },
  {
   "cell_type": "code",
   "execution_count": 195,
   "id": "unnecessary-lewis",
   "metadata": {},
   "outputs": [
    {
     "data": {
      "text/html": [
       "<div>\n",
       "<style scoped>\n",
       "    .dataframe tbody tr th:only-of-type {\n",
       "        vertical-align: middle;\n",
       "    }\n",
       "\n",
       "    .dataframe tbody tr th {\n",
       "        vertical-align: top;\n",
       "    }\n",
       "\n",
       "    .dataframe thead th {\n",
       "        text-align: right;\n",
       "    }\n",
       "</style>\n",
       "<table border=\"1\" class=\"dataframe\">\n",
       "  <thead>\n",
       "    <tr style=\"text-align: right;\">\n",
       "      <th></th>\n",
       "      <th>date</th>\n",
       "    </tr>\n",
       "  </thead>\n",
       "  <tbody>\n",
       "    <tr>\n",
       "      <th>18248</th>\n",
       "      <td>2018-01-07</td>\n",
       "    </tr>\n",
       "  </tbody>\n",
       "</table>\n",
       "</div>"
      ],
      "text/plain": [
       "             date\n",
       "18248  2018-01-07"
      ]
     },
     "execution_count": 195,
     "metadata": {},
     "output_type": "execute_result"
    }
   ],
   "source": [
    "# Registros de la primera columna\n",
    "df.iloc[-1:, [0]]"
   ]
  },
  {
   "cell_type": "code",
   "execution_count": 196,
   "id": "d4a01a34",
   "metadata": {},
   "outputs": [
    {
     "data": {
      "text/html": [
       "<div>\n",
       "<style scoped>\n",
       "    .dataframe tbody tr th:only-of-type {\n",
       "        vertical-align: middle;\n",
       "    }\n",
       "\n",
       "    .dataframe tbody tr th {\n",
       "        vertical-align: top;\n",
       "    }\n",
       "\n",
       "    .dataframe thead th {\n",
       "        text-align: right;\n",
       "    }\n",
       "</style>\n",
       "<table border=\"1\" class=\"dataframe\">\n",
       "  <thead>\n",
       "    <tr style=\"text-align: right;\">\n",
       "      <th></th>\n",
       "      <th>averageprice</th>\n",
       "    </tr>\n",
       "  </thead>\n",
       "  <tbody>\n",
       "    <tr>\n",
       "      <th>0</th>\n",
       "      <td>1</td>\n",
       "    </tr>\n",
       "    <tr>\n",
       "      <th>3</th>\n",
       "      <td>1</td>\n",
       "    </tr>\n",
       "    <tr>\n",
       "      <th>5</th>\n",
       "      <td>1</td>\n",
       "    </tr>\n",
       "    <tr>\n",
       "      <th>6</th>\n",
       "      <td>0</td>\n",
       "    </tr>\n",
       "    <tr>\n",
       "      <th>7</th>\n",
       "      <td>0</td>\n",
       "    </tr>\n",
       "  </tbody>\n",
       "</table>\n",
       "</div>"
      ],
      "text/plain": [
       "  averageprice\n",
       "0            1\n",
       "3            1\n",
       "5            1\n",
       "6            0\n",
       "7            0"
      ]
     },
     "execution_count": 196,
     "metadata": {},
     "output_type": "execute_result"
    }
   ],
   "source": [
    "df.iloc[0:5, [1]]"
   ]
  },
  {
   "cell_type": "code",
   "execution_count": 197,
   "id": "capital-bahrain",
   "metadata": {},
   "outputs": [],
   "source": [
    "# El segundo argumento, en este caso el número 1, es la columna, aquí no pasamos string si no posición."
   ]
  },
  {
   "cell_type": "code",
   "execution_count": 198,
   "id": "scenic-raising",
   "metadata": {},
   "outputs": [
    {
     "data": {
      "text/html": [
       "<div>\n",
       "<style scoped>\n",
       "    .dataframe tbody tr th:only-of-type {\n",
       "        vertical-align: middle;\n",
       "    }\n",
       "\n",
       "    .dataframe tbody tr th {\n",
       "        vertical-align: top;\n",
       "    }\n",
       "\n",
       "    .dataframe thead th {\n",
       "        text-align: right;\n",
       "    }\n",
       "</style>\n",
       "<table border=\"1\" class=\"dataframe\">\n",
       "  <thead>\n",
       "    <tr style=\"text-align: right;\">\n",
       "      <th></th>\n",
       "      <th>date</th>\n",
       "      <th>small_bags</th>\n",
       "    </tr>\n",
       "  </thead>\n",
       "  <tbody>\n",
       "    <tr>\n",
       "      <th>0</th>\n",
       "      <td>2015-12-27</td>\n",
       "      <td>8603.62</td>\n",
       "    </tr>\n",
       "    <tr>\n",
       "      <th>3</th>\n",
       "      <td>2015-12-06</td>\n",
       "      <td>5677.40</td>\n",
       "    </tr>\n",
       "    <tr>\n",
       "      <th>5</th>\n",
       "      <td>2015-11-22</td>\n",
       "      <td>6556.47</td>\n",
       "    </tr>\n",
       "    <tr>\n",
       "      <th>6</th>\n",
       "      <td>2015-11-15</td>\n",
       "      <td>8196.81</td>\n",
       "    </tr>\n",
       "    <tr>\n",
       "      <th>7</th>\n",
       "      <td>2015-11-08</td>\n",
       "      <td>6266.85</td>\n",
       "    </tr>\n",
       "  </tbody>\n",
       "</table>\n",
       "</div>"
      ],
      "text/plain": [
       "         date  small_bags\n",
       "0  2015-12-27     8603.62\n",
       "3  2015-12-06     5677.40\n",
       "5  2015-11-22     6556.47\n",
       "6  2015-11-15     8196.81\n",
       "7  2015-11-08     6266.85"
      ]
     },
     "execution_count": 198,
     "metadata": {},
     "output_type": "execute_result"
    }
   ],
   "source": [
    "df.iloc[0:5, [0,3]]"
   ]
  },
  {
   "cell_type": "code",
   "execution_count": 199,
   "id": "informational-logic",
   "metadata": {},
   "outputs": [],
   "source": [
    "# COLUMNAS POR RANGO"
   ]
  },
  {
   "cell_type": "code",
   "execution_count": null,
   "id": "blessed-transcript",
   "metadata": {},
   "outputs": [],
   "source": [
    "df.iloc[14:24, 3:7]"
   ]
  },
  {
   "cell_type": "markdown",
   "id": "awful-friday",
   "metadata": {},
   "source": [
    "### Seleccionar filas y columnas en Pandas en base a etiquetas con loc\n",
    "El método loc se puede usar de dos formas diferentes: seleccionar filas o columnas en base a una etiqueta o seleccionar filas o columnas en base a una condición."
   ]
  },
  {
   "cell_type": "markdown",
   "id": "compressed-bookmark",
   "metadata": {},
   "source": [
    "#### En base a etiqueta"
   ]
  },
  {
   "cell_type": "code",
   "execution_count": null,
   "id": "8a05e47d",
   "metadata": {},
   "outputs": [],
   "source": [
    "# Loc busca DENTRO del INDEX algo concreto"
   ]
  },
  {
   "cell_type": "code",
   "execution_count": null,
   "id": "headed-transfer",
   "metadata": {},
   "outputs": [],
   "source": [
    "df_index_date = df.set_index(\"date\") #Creo un data nuevo para probar en el que el index es la fecha\n",
    "df_index_date.head(3)"
   ]
  },
  {
   "cell_type": "code",
   "execution_count": null,
   "id": "norwegian-active",
   "metadata": {},
   "outputs": [],
   "source": [
    "df_index_date.loc[\"2015-12-06\"].head() # Busco una fecha dentro del index con LOC"
   ]
  },
  {
   "cell_type": "code",
   "execution_count": null,
   "id": "preceding-infrastructure",
   "metadata": {},
   "outputs": [],
   "source": [
    "filtrado = df.loc[(df[\"year\"] > 2014) & (df[\"region\"]==\"Albany\")] #Loc funciona pero realmnte NO LO NECESITO"
   ]
  },
  {
   "cell_type": "code",
   "execution_count": null,
   "id": "87ca2374",
   "metadata": {},
   "outputs": [],
   "source": [
    "filtrado.head(2)"
   ]
  },
  {
   "cell_type": "markdown",
   "id": "behind-celebration",
   "metadata": {},
   "source": [
    "Sintaxis del loc con varias condiciones\n",
    "```python \n",
    "df.loc[(df[\"columna\"] condición) & (df[\"columna\"] condición)]\n",
    "````"
   ]
  },
  {
   "cell_type": "markdown",
   "id": "written-canberra",
   "metadata": {},
   "source": [
    "Misma operación, pero dame solo columnas concretas"
   ]
  },
  {
   "cell_type": "code",
   "execution_count": null,
   "id": "found-insulation",
   "metadata": {},
   "outputs": [],
   "source": [
    "# Esta selección de columnas la vimos al principio, pasarle una lista para que coja solo las columnas que quiero"
   ]
  },
  {
   "cell_type": "code",
   "execution_count": null,
   "id": "73ddb28e",
   "metadata": {},
   "outputs": [],
   "source": [
    "filtrado_ = df.loc[(df[\"year\"] > 2014) & (df[\"region\"]==\"Albany\"), [\"type\", \"year\", \"region\"]]\n",
    "filtrado_ .head()"
   ]
  },
  {
   "cell_type": "markdown",
   "id": "photographic-fortune",
   "metadata": {},
   "source": [
    "## Ordenamos un dataframe"
   ]
  },
  {
   "cell_type": "code",
   "execution_count": null,
   "id": "equal-folks",
   "metadata": {},
   "outputs": [],
   "source": [
    "df.sort_values(by=\"year\",ascending=False).head() #Ascending FALSE de mayor a menor"
   ]
  },
  {
   "cell_type": "code",
   "execution_count": null,
   "id": "72092973",
   "metadata": {},
   "outputs": [],
   "source": [
    "df.sort_values(by=\"year\",ascending=False)[\"averageprice\"].head() #Ascending FALSE de mayor a menor"
   ]
  },
  {
   "cell_type": "code",
   "execution_count": null,
   "id": "893afd75",
   "metadata": {},
   "outputs": [],
   "source": [
    "guardar_ordenado = df.sort_values(by=\"large_bags\") #Lo puedo guardar en una variable"
   ]
  },
  {
   "cell_type": "code",
   "execution_count": null,
   "id": "77efa8bc",
   "metadata": {},
   "outputs": [],
   "source": [
    "guardar_ordenado.head()"
   ]
  },
  {
   "cell_type": "code",
   "execution_count": null,
   "id": "f022e43a",
   "metadata": {},
   "outputs": [],
   "source": [
    "df.sort_values(by=[\"date\", \"region\"]).head() #ORDENAR POR VARIAS COLUMNAS"
   ]
  },
  {
   "cell_type": "markdown",
   "id": "defensive-print",
   "metadata": {},
   "source": [
    "### Buscamos valores nulos "
   ]
  },
  {
   "cell_type": "code",
   "execution_count": null,
   "id": "graphic-treasure",
   "metadata": {},
   "outputs": [],
   "source": [
    "import seaborn as sns"
   ]
  },
  {
   "cell_type": "code",
   "execution_count": null,
   "id": "intimate-account",
   "metadata": {},
   "outputs": [],
   "source": [
    "df_titanic = sns.load_dataset(\"titanic\")\n",
    "df_titanic.head()"
   ]
  },
  {
   "cell_type": "markdown",
   "id": "english-baseline",
   "metadata": {},
   "source": [
    "#### ¿Es nulo?"
   ]
  },
  {
   "cell_type": "code",
   "execution_count": null,
   "id": "desirable-separation",
   "metadata": {},
   "outputs": [],
   "source": [
    "df_titanic.isna().head()"
   ]
  },
  {
   "cell_type": "markdown",
   "id": "complicated-official",
   "metadata": {},
   "source": [
    "#### ¿Es NO nulo?"
   ]
  },
  {
   "cell_type": "code",
   "execution_count": null,
   "id": "involved-private",
   "metadata": {},
   "outputs": [],
   "source": [
    "df_titanic.notna().head()"
   ]
  },
  {
   "cell_type": "markdown",
   "id": "aggregate-glass",
   "metadata": {},
   "source": [
    "#### Sacar una suma de los valores nulos de cada columna"
   ]
  },
  {
   "cell_type": "code",
   "execution_count": null,
   "id": "disciplinary-finder",
   "metadata": {},
   "outputs": [],
   "source": [
    "df_titanic.isna().sum()"
   ]
  },
  {
   "cell_type": "markdown",
   "id": "dramatic-victoria",
   "metadata": {},
   "source": [
    "### Borramos los valores nulos\n",
    "Hay varias formas de hacerlo, tenemos en cuenta el parámetro \"how\" y, desde luego, [nos leemos la documentación](https://pandas.pydata.org/pandas-docs/stable/reference/api/pandas.DataFrame.dropna.html)."
   ]
  },
  {
   "cell_type": "code",
   "execution_count": null,
   "id": "distant-nickname",
   "metadata": {},
   "outputs": [],
   "source": [
    "df_titanic.shape"
   ]
  },
  {
   "cell_type": "code",
   "execution_count": null,
   "id": "removable-bridal",
   "metadata": {},
   "outputs": [],
   "source": [
    "#Con \"all\" borramos donde TODOS los registros sean NaN"
   ]
  },
  {
   "cell_type": "code",
   "execution_count": null,
   "id": "9d642d7a",
   "metadata": {},
   "outputs": [],
   "source": [
    "df_titanic.dropna(how=\"all\", inplace=True)"
   ]
  },
  {
   "cell_type": "code",
   "execution_count": null,
   "id": "burning-flood",
   "metadata": {},
   "outputs": [],
   "source": [
    "df_titanic.dropna(inplace=True)"
   ]
  },
  {
   "cell_type": "code",
   "execution_count": null,
   "id": "2a18113c",
   "metadata": {},
   "outputs": [],
   "source": [
    "df_titanic.shape"
   ]
  },
  {
   "cell_type": "code",
   "execution_count": null,
   "id": "according-dressing",
   "metadata": {},
   "outputs": [],
   "source": [
    "# NUNCA BORRAMOS LOS NAN A LO LOCO, OS LO SUPLICO \n",
    "# Si no pongo nada, axis = 0 entonces borra todas las filas que contengan un NaN da igual en qué columna\n",
    "# SI PONGO 1 borramos las columnas"
   ]
  },
  {
   "cell_type": "code",
   "execution_count": null,
   "id": "clean-climb",
   "metadata": {},
   "outputs": [],
   "source": [
    "# si hago drop axis=1 lo que borramos son las columnas, ESTO TAMPOCO LO HACEMOS POR FAVOR\n",
    "df_titanic.dropna(how=\"all\", axis=1)"
   ]
  },
  {
   "cell_type": "code",
   "execution_count": null,
   "id": "found-showcase",
   "metadata": {},
   "outputs": [],
   "source": [
    "# BORRAMOS LOS REGISTROS DONDE TODO SEA NAN (poner axis=0 es lo mismo que nada porque viene por defecto)\n",
    "# si hago drop axis=1 lo que borramos son las columnas, ESTO TAMPOCO LO HACEMOS POR FAVOR\n",
    "df_titanic.dropna(how=\"all\", axis=0)"
   ]
  },
  {
   "cell_type": "code",
   "execution_count": null,
   "id": "worthy-official",
   "metadata": {},
   "outputs": [],
   "source": [
    "# Borramos las columnas donde todo sea NAN\n",
    "df_titanic.dropna(how=\"all\", axis=1)"
   ]
  },
  {
   "cell_type": "markdown",
   "id": "chicken-pregnancy",
   "metadata": {},
   "source": [
    "RECORDAD QUE INPLACE TRUE ES PARA QUE EL MÉTODO ACCIONE SOBRE EL DF, SI NO, TENGO QUE GUARDARLO EN UNA VARIABLE NUEVA"
   ]
  },
  {
   "cell_type": "markdown",
   "id": "american-fluid",
   "metadata": {},
   "source": [
    "Con \"any\" (parámetro que viene by default así que ojo con no poner nada) se borran todos los registros en los que en alguna columna haya un NaN"
   ]
  },
  {
   "cell_type": "markdown",
   "id": "partial-medicare",
   "metadata": {},
   "source": [
    "### Cómo rellenar los datos que faltan"
   ]
  },
  {
   "cell_type": "markdown",
   "id": "exclusive-custody",
   "metadata": {},
   "source": [
    "¿Qué os parece un poquito de [documentación](https://pandas.pydata.org/docs/reference/api/pandas.DataFrame.fillna.html)?"
   ]
  },
  {
   "cell_type": "code",
   "execution_count": null,
   "id": "neural-brown",
   "metadata": {},
   "outputs": [],
   "source": [
    "df_titanic.head()"
   ]
  },
  {
   "cell_type": "code",
   "execution_count": null,
   "id": "medical-methodology",
   "metadata": {},
   "outputs": [],
   "source": [
    "df_titanic.isna().sum()"
   ]
  },
  {
   "cell_type": "code",
   "execution_count": null,
   "id": "intelligent-administration",
   "metadata": {},
   "outputs": [],
   "source": [
    "#FILLNA es el método que me va a permitir rellenar los NAN con lo que yo le ponga\n",
    "df_titanic.age.fillna(df_titanic.age.mean(), inplace=True)"
   ]
  },
  {
   "cell_type": "code",
   "execution_count": null,
   "id": "logical-cleveland",
   "metadata": {},
   "outputs": [],
   "source": [
    "df_titanic.age.isna().sum()"
   ]
  },
  {
   "cell_type": "code",
   "execution_count": null,
   "id": "tracked-mouth",
   "metadata": {},
   "outputs": [],
   "source": [
    "df_titanic.embarked.fillna(\"Otracosa\",inplace=True)"
   ]
  },
  {
   "cell_type": "code",
   "execution_count": null,
   "id": "macro-macedonia",
   "metadata": {},
   "outputs": [],
   "source": [
    "df_titanic.loc[df_titanic[\"embarked\"] == \"Otracosa\"]"
   ]
  },
  {
   "cell_type": "code",
   "execution_count": null,
   "id": "characteristic-verse",
   "metadata": {},
   "outputs": [],
   "source": [
    "# REPASAMOS APPLY PARA SACAR UNA COLUMNA NUEVA CON INFORMACIÓN DE OTRA\n"
   ]
  },
  {
   "cell_type": "code",
   "execution_count": null,
   "id": "brutal-leave",
   "metadata": {},
   "outputs": [],
   "source": []
  },
  {
   "cell_type": "code",
   "execution_count": null,
   "id": "dried-campus",
   "metadata": {},
   "outputs": [],
   "source": []
  },
  {
   "cell_type": "code",
   "execution_count": null,
   "id": "recovered-provider",
   "metadata": {},
   "outputs": [],
   "source": []
  },
  {
   "cell_type": "code",
   "execution_count": null,
   "id": "complex-radiation",
   "metadata": {},
   "outputs": [],
   "source": []
  },
  {
   "cell_type": "code",
   "execution_count": null,
   "id": "successful-requirement",
   "metadata": {},
   "outputs": [],
   "source": []
  },
  {
   "cell_type": "markdown",
   "id": "israeli-billion",
   "metadata": {},
   "source": [
    "##### CATEGÓRICAS EN DATAFRAME Y DEJAR DOCUMENTACIÓN\n",
    "https://runebook.dev/es/docs/pandas/user_guide/categorical"
   ]
  },
  {
   "cell_type": "code",
   "execution_count": null,
   "id": "f39579f8",
   "metadata": {},
   "outputs": [],
   "source": [
    "df_titanic = sns.load_dataset(\"titanic\")\n",
    "df_titanic.head()"
   ]
  },
  {
   "cell_type": "code",
   "execution_count": null,
   "id": "b5b69069",
   "metadata": {},
   "outputs": [],
   "source": [
    "df_titanic.info()"
   ]
  },
  {
   "cell_type": "code",
   "execution_count": null,
   "id": "51071b4c",
   "metadata": {},
   "outputs": [],
   "source": [
    "df_titanic.deck.value_counts()"
   ]
  },
  {
   "cell_type": "code",
   "execution_count": null,
   "id": "78d79698",
   "metadata": {},
   "outputs": [],
   "source": [
    "df_titanic.deck.isna().sum()"
   ]
  },
  {
   "cell_type": "code",
   "execution_count": null,
   "id": "c712b323",
   "metadata": {},
   "outputs": [],
   "source": [
    "df_titanic.deck.values.categories"
   ]
  },
  {
   "cell_type": "code",
   "execution_count": null,
   "id": "ac0075f1",
   "metadata": {},
   "outputs": [],
   "source": [
    "#df_titanic.deck.fillna(\"Unknown\", inplace=True) # ERROR LO DEJO A PROPÓSITO porque no puedo añadir una categoría que no está\n"
   ]
  },
  {
   "cell_type": "code",
   "execution_count": null,
   "id": "af90a1f7",
   "metadata": {},
   "outputs": [],
   "source": [
    "df_titanic.deck.cat.add_categories(\"Desconocido\", inplace=True)"
   ]
  },
  {
   "cell_type": "code",
   "execution_count": null,
   "id": "3ff7138c",
   "metadata": {},
   "outputs": [],
   "source": [
    "df_titanic.deck.values.categories"
   ]
  },
  {
   "cell_type": "code",
   "execution_count": null,
   "id": "dd18d6bc",
   "metadata": {},
   "outputs": [],
   "source": [
    "df_titanic.deck.fillna(\"Desconocido\", inplace=True) # Ahora ya puedo hacer fillna con Desconocido "
   ]
  },
  {
   "cell_type": "code",
   "execution_count": null,
   "id": "random-austin",
   "metadata": {},
   "outputs": [],
   "source": [
    "# ValueError: Cannot setitem on a Categorical with a new category, set the categories first\n",
    "df_titanic.info()"
   ]
  },
  {
   "cell_type": "code",
   "execution_count": null,
   "id": "tight-carolina",
   "metadata": {},
   "outputs": [],
   "source": [
    "joder = [{\"key\": 5},{\"key\":6.3}]"
   ]
  },
  {
   "cell_type": "code",
   "execution_count": null,
   "id": "493f9c17",
   "metadata": {},
   "outputs": [],
   "source": [
    "quesale = pd.DataFrame(joder)\n",
    "quesale.info()"
   ]
  },
  {
   "cell_type": "code",
   "execution_count": null,
   "id": "a6a89602",
   "metadata": {},
   "outputs": [],
   "source": [
    "quesale.to_csv(\"probando\", index=False)"
   ]
  },
  {
   "cell_type": "code",
   "execution_count": null,
   "id": "d9cf66c9",
   "metadata": {},
   "outputs": [],
   "source": [
    "data = pd.read_csv(\"probando\")"
   ]
  },
  {
   "cell_type": "code",
   "execution_count": null,
   "id": "f0ac9166",
   "metadata": {},
   "outputs": [],
   "source": [
    "data.head()"
   ]
  },
  {
   "cell_type": "code",
   "execution_count": null,
   "id": "1377720b",
   "metadata": {},
   "outputs": [],
   "source": [
    "data.info()"
   ]
  },
  {
   "cell_type": "code",
   "execution_count": null,
   "id": "4f8d01f9",
   "metadata": {},
   "outputs": [],
   "source": [
    "data.to_csv(\"otravez\", index=False)"
   ]
  },
  {
   "cell_type": "markdown",
   "id": "documentary-declaration",
   "metadata": {},
   "source": [
    "## Borramos los duplicados"
   ]
  },
  {
   "cell_type": "code",
   "execution_count": null,
   "id": "settled-february",
   "metadata": {},
   "outputs": [],
   "source": [
    "df_titanic.drop_duplicates().head()"
   ]
  },
  {
   "cell_type": "code",
   "execution_count": null,
   "id": "90b89a62",
   "metadata": {},
   "outputs": [],
   "source": [
    "np.isnan(df.loc[3][\"large_bags\"])"
   ]
  },
  {
   "cell_type": "code",
   "execution_count": null,
   "id": "b642c667",
   "metadata": {},
   "outputs": [],
   "source": [
    "df.loc[3][\"type\"]"
   ]
  },
  {
   "cell_type": "markdown",
   "id": "tamil-gibson",
   "metadata": {},
   "source": [
    "## Agregación de datos\n",
    "### GroupBy\n",
    "GroupBy de Pandas es una función potente y versátil en Python. Nos permite dividir sus datos en grupos separados para realizar cálculos para un mejor análisis.\n",
    "Un DataFrame puede agruparse en sus filas (eje=0) o en sus columnas (eje=1). Una vez hecho esto, se aplica una función a cada grupo, produciendo un nuevo valor. Finalmente, los resultados de todas esas aplicaciones de funciones se combinan en un objeto resultado. La forma del objeto resultante dependerá normalmente de lo que se haga con los datos."
   ]
  },
  {
   "cell_type": "markdown",
   "id": "surprised-malpractice",
   "metadata": {},
   "source": [
    "https://pandas.pydata.org/docs/reference/api/pandas.DataFrame.groupby.html"
   ]
  },
  {
   "cell_type": "code",
   "execution_count": null,
   "id": "checked-stranger",
   "metadata": {},
   "outputs": [],
   "source": [
    "df = pd.DataFrame({'key1' : ['a', 'a', 'b', 'b', 'a'], 'key2' : ['one', 'two', 'one', 'two', 'one'],'data1' : np.random.randn(5),'data2' : np.random.randn(5)})"
   ]
  },
  {
   "cell_type": "code",
   "execution_count": null,
   "id": "incredible-shopping",
   "metadata": {},
   "outputs": [],
   "source": [
    "df.head()"
   ]
  },
  {
   "cell_type": "markdown",
   "id": "separate-tsunami",
   "metadata": {},
   "source": [
    "Supongamos que queremos calcular la media de la columna data1 utilizando las etiquetas de key1. Hay varias formas de hacerlo. Una es acceder a datos1 y llamar a groupby con la columna (una Serie) en key1.\n",
    "Los datos (una Serie) han sido agregados según la clave de grupo, produciendo una nueva Serie que ahora está indexada por los valores únicos de la columna clave1. El índice resultante tiene el nombre 'clave1' porque la columna DataFrame `df['clave1']` lo hizo."
   ]
  },
  {
   "cell_type": "code",
   "execution_count": null,
   "id": "worldwide-biography",
   "metadata": {},
   "outputs": [],
   "source": [
    "group = df[\"data1\"].groupby(df[\"key1\"]).mean()"
   ]
  },
  {
   "cell_type": "code",
   "execution_count": null,
   "id": "identified-conducting",
   "metadata": {},
   "outputs": [],
   "source": [
    "group # ESTO ES UNA SERIE DE PANDAS"
   ]
  },
  {
   "cell_type": "code",
   "execution_count": null,
   "id": "183032fb",
   "metadata": {},
   "outputs": [],
   "source": [
    "type(group)"
   ]
  },
  {
   "cell_type": "code",
   "execution_count": null,
   "id": "399c808c",
   "metadata": {},
   "outputs": [],
   "source": [
    "dataframe = pd.DataFrame(df[\"data1\"].groupby(df[\"key1\"]).mean())"
   ]
  },
  {
   "cell_type": "code",
   "execution_count": null,
   "id": "09587b26",
   "metadata": {},
   "outputs": [],
   "source": [
    "dataframe"
   ]
  },
  {
   "cell_type": "code",
   "execution_count": null,
   "id": "1e4d3c75",
   "metadata": {},
   "outputs": [],
   "source": [
    "avocado = pd.read_csv(\"../datasets/avocado_kaggle.csv\")\n",
    "avocado.sample()"
   ]
  },
  {
   "cell_type": "code",
   "execution_count": null,
   "id": "3b9269da",
   "metadata": {},
   "outputs": [],
   "source": [
    "avocado[\"AveragePrice\"].groupby(avocado[\"type\"]).mean()"
   ]
  },
  {
   "cell_type": "markdown",
   "id": "imposed-village",
   "metadata": {},
   "source": [
    "#### Me preguntaréis ¿y si quiero agrupar por más columnas?"
   ]
  },
  {
   "cell_type": "code",
   "execution_count": null,
   "id": "equal-radio",
   "metadata": {},
   "outputs": [],
   "source": [
    "df.groupby([\"key1\", \"key2\"]).mean()"
   ]
  },
  {
   "cell_type": "markdown",
   "id": "rising-outside",
   "metadata": {},
   "source": [
    "Otra forma de groupby con sintaxis agg     \n",
    "https://pandas.pydata.org/docs/reference/api/pandas.core.groupby.DataFrameGroupBy.aggregate.html\n",
    "\n",
    "- mean\n",
    "- sum\n",
    "- count"
   ]
  },
  {
   "cell_type": "code",
   "execution_count": null,
   "id": "cross-guatemala",
   "metadata": {},
   "outputs": [],
   "source": [
    "df.groupby(\"key1\").agg({\"data1\": \"sum\"})"
   ]
  },
  {
   "cell_type": "code",
   "execution_count": null,
   "id": "intellectual-median",
   "metadata": {},
   "outputs": [],
   "source": [
    "df.groupby(\"key2\").agg({\"data1\": \"sum\", \"data2\":\"mean\"})"
   ]
  },
  {
   "cell_type": "code",
   "execution_count": null,
   "id": "express-mentor",
   "metadata": {},
   "outputs": [],
   "source": [
    "avocado.sample()"
   ]
  },
  {
   "cell_type": "code",
   "execution_count": null,
   "id": "dominant-minutes",
   "metadata": {},
   "outputs": [],
   "source": [
    "avocado.groupby(\"region\").agg({\"AveragePrice\":\"mean\", \"Total Bags\": \"sum\"})"
   ]
  },
  {
   "cell_type": "code",
   "execution_count": null,
   "id": "traditional-heavy",
   "metadata": {},
   "outputs": [],
   "source": [
    "meloguardo = avocado.groupby([\"region\", \"type\"]).agg({\"AveragePrice\":\"mean\", \"Total Bags\": \"sum\"})"
   ]
  },
  {
   "cell_type": "code",
   "execution_count": null,
   "id": "d756a206",
   "metadata": {},
   "outputs": [],
   "source": [
    "meloguardo.head(20)"
   ]
  },
  {
   "cell_type": "code",
   "execution_count": null,
   "id": "christian-trigger",
   "metadata": {},
   "outputs": [],
   "source": [
    "# Esto es lo mismo que lo anterior, añado la columna AGE y al final hago la media"
   ]
  },
  {
   "cell_type": "code",
   "execution_count": null,
   "id": "essential-computer",
   "metadata": {},
   "outputs": [],
   "source": [
    "df_titanic.groupby([\"sex\", \"class\"]).agg({\"age\":\"mean\"})"
   ]
  },
  {
   "cell_type": "markdown",
   "id": "innovative-hormone",
   "metadata": {},
   "source": [
    "### Unión de Dataframes\n",
    "- https://realpython.com/pandas-merge-join-and-concat/\n",
    "- https://pandas.pydata.org/pandas-docs/stable/user_guide/merging.html\n",
    "\n",
    "\n",
    "### Concat\n",
    "Unimos dataframes a lo largo del eje 0 uno debajo de otro. Alinea las columnas por etiqueta."
   ]
  },
  {
   "cell_type": "code",
   "execution_count": 200,
   "id": "stuck-activity",
   "metadata": {},
   "outputs": [],
   "source": [
    "import pandas as pd"
   ]
  },
  {
   "cell_type": "code",
   "execution_count": 201,
   "id": "narrow-maximum",
   "metadata": {},
   "outputs": [],
   "source": [
    "df = pd.read_csv('https://raw.githubusercontent.com/justmarkham/DAT8/master/data/u.user',\n",
    "                             sep='|', \n",
    "                             index_col='user_id')"
   ]
  },
  {
   "cell_type": "code",
   "execution_count": 202,
   "id": "beginning-liver",
   "metadata": {},
   "outputs": [
    {
     "data": {
      "text/html": [
       "<div>\n",
       "<style scoped>\n",
       "    .dataframe tbody tr th:only-of-type {\n",
       "        vertical-align: middle;\n",
       "    }\n",
       "\n",
       "    .dataframe tbody tr th {\n",
       "        vertical-align: top;\n",
       "    }\n",
       "\n",
       "    .dataframe thead th {\n",
       "        text-align: right;\n",
       "    }\n",
       "</style>\n",
       "<table border=\"1\" class=\"dataframe\">\n",
       "  <thead>\n",
       "    <tr style=\"text-align: right;\">\n",
       "      <th></th>\n",
       "      <th>age</th>\n",
       "      <th>gender</th>\n",
       "      <th>occupation</th>\n",
       "      <th>zip_code</th>\n",
       "    </tr>\n",
       "    <tr>\n",
       "      <th>user_id</th>\n",
       "      <th></th>\n",
       "      <th></th>\n",
       "      <th></th>\n",
       "      <th></th>\n",
       "    </tr>\n",
       "  </thead>\n",
       "  <tbody>\n",
       "    <tr>\n",
       "      <th>1</th>\n",
       "      <td>24</td>\n",
       "      <td>M</td>\n",
       "      <td>technician</td>\n",
       "      <td>85711</td>\n",
       "    </tr>\n",
       "    <tr>\n",
       "      <th>2</th>\n",
       "      <td>53</td>\n",
       "      <td>F</td>\n",
       "      <td>other</td>\n",
       "      <td>94043</td>\n",
       "    </tr>\n",
       "    <tr>\n",
       "      <th>3</th>\n",
       "      <td>23</td>\n",
       "      <td>M</td>\n",
       "      <td>writer</td>\n",
       "      <td>32067</td>\n",
       "    </tr>\n",
       "    <tr>\n",
       "      <th>4</th>\n",
       "      <td>24</td>\n",
       "      <td>M</td>\n",
       "      <td>technician</td>\n",
       "      <td>43537</td>\n",
       "    </tr>\n",
       "    <tr>\n",
       "      <th>5</th>\n",
       "      <td>33</td>\n",
       "      <td>F</td>\n",
       "      <td>other</td>\n",
       "      <td>15213</td>\n",
       "    </tr>\n",
       "  </tbody>\n",
       "</table>\n",
       "</div>"
      ],
      "text/plain": [
       "         age gender  occupation zip_code\n",
       "user_id                                 \n",
       "1         24      M  technician    85711\n",
       "2         53      F       other    94043\n",
       "3         23      M      writer    32067\n",
       "4         24      M  technician    43537\n",
       "5         33      F       other    15213"
      ]
     },
     "execution_count": 202,
     "metadata": {},
     "output_type": "execute_result"
    }
   ],
   "source": [
    "df.head()"
   ]
  },
  {
   "cell_type": "code",
   "execution_count": 203,
   "id": "common-wright",
   "metadata": {},
   "outputs": [],
   "source": [
    "uno=df.sample(frac=0.3)\n",
    "dos=df.sample(frac=0.4)"
   ]
  },
  {
   "cell_type": "code",
   "execution_count": 204,
   "id": "framed-philadelphia",
   "metadata": {},
   "outputs": [
    {
     "data": {
      "text/html": [
       "<div>\n",
       "<style scoped>\n",
       "    .dataframe tbody tr th:only-of-type {\n",
       "        vertical-align: middle;\n",
       "    }\n",
       "\n",
       "    .dataframe tbody tr th {\n",
       "        vertical-align: top;\n",
       "    }\n",
       "\n",
       "    .dataframe thead th {\n",
       "        text-align: right;\n",
       "    }\n",
       "</style>\n",
       "<table border=\"1\" class=\"dataframe\">\n",
       "  <thead>\n",
       "    <tr style=\"text-align: right;\">\n",
       "      <th></th>\n",
       "      <th>age</th>\n",
       "      <th>gender</th>\n",
       "      <th>occupation</th>\n",
       "      <th>zip_code</th>\n",
       "    </tr>\n",
       "    <tr>\n",
       "      <th>user_id</th>\n",
       "      <th></th>\n",
       "      <th></th>\n",
       "      <th></th>\n",
       "      <th></th>\n",
       "    </tr>\n",
       "  </thead>\n",
       "  <tbody>\n",
       "    <tr>\n",
       "      <th>345</th>\n",
       "      <td>28</td>\n",
       "      <td>F</td>\n",
       "      <td>librarian</td>\n",
       "      <td>94143</td>\n",
       "    </tr>\n",
       "    <tr>\n",
       "      <th>343</th>\n",
       "      <td>43</td>\n",
       "      <td>M</td>\n",
       "      <td>engineer</td>\n",
       "      <td>30093</td>\n",
       "    </tr>\n",
       "    <tr>\n",
       "      <th>377</th>\n",
       "      <td>22</td>\n",
       "      <td>M</td>\n",
       "      <td>student</td>\n",
       "      <td>18015</td>\n",
       "    </tr>\n",
       "    <tr>\n",
       "      <th>385</th>\n",
       "      <td>36</td>\n",
       "      <td>M</td>\n",
       "      <td>writer</td>\n",
       "      <td>10003</td>\n",
       "    </tr>\n",
       "    <tr>\n",
       "      <th>313</th>\n",
       "      <td>41</td>\n",
       "      <td>M</td>\n",
       "      <td>marketing</td>\n",
       "      <td>60035</td>\n",
       "    </tr>\n",
       "  </tbody>\n",
       "</table>\n",
       "</div>"
      ],
      "text/plain": [
       "         age gender occupation zip_code\n",
       "user_id                                \n",
       "345       28      F  librarian    94143\n",
       "343       43      M   engineer    30093\n",
       "377       22      M    student    18015\n",
       "385       36      M     writer    10003\n",
       "313       41      M  marketing    60035"
      ]
     },
     "execution_count": 204,
     "metadata": {},
     "output_type": "execute_result"
    }
   ],
   "source": [
    "uno.head()"
   ]
  },
  {
   "cell_type": "code",
   "execution_count": 205,
   "id": "differential-testament",
   "metadata": {},
   "outputs": [
    {
     "data": {
      "text/html": [
       "<div>\n",
       "<style scoped>\n",
       "    .dataframe tbody tr th:only-of-type {\n",
       "        vertical-align: middle;\n",
       "    }\n",
       "\n",
       "    .dataframe tbody tr th {\n",
       "        vertical-align: top;\n",
       "    }\n",
       "\n",
       "    .dataframe thead th {\n",
       "        text-align: right;\n",
       "    }\n",
       "</style>\n",
       "<table border=\"1\" class=\"dataframe\">\n",
       "  <thead>\n",
       "    <tr style=\"text-align: right;\">\n",
       "      <th></th>\n",
       "      <th>age</th>\n",
       "      <th>gender</th>\n",
       "      <th>occupation</th>\n",
       "      <th>zip_code</th>\n",
       "    </tr>\n",
       "    <tr>\n",
       "      <th>user_id</th>\n",
       "      <th></th>\n",
       "      <th></th>\n",
       "      <th></th>\n",
       "      <th></th>\n",
       "    </tr>\n",
       "  </thead>\n",
       "  <tbody>\n",
       "    <tr>\n",
       "      <th>311</th>\n",
       "      <td>32</td>\n",
       "      <td>M</td>\n",
       "      <td>technician</td>\n",
       "      <td>73071</td>\n",
       "    </tr>\n",
       "    <tr>\n",
       "      <th>321</th>\n",
       "      <td>49</td>\n",
       "      <td>F</td>\n",
       "      <td>educator</td>\n",
       "      <td>55413</td>\n",
       "    </tr>\n",
       "    <tr>\n",
       "      <th>417</th>\n",
       "      <td>27</td>\n",
       "      <td>F</td>\n",
       "      <td>other</td>\n",
       "      <td>48103</td>\n",
       "    </tr>\n",
       "    <tr>\n",
       "      <th>847</th>\n",
       "      <td>29</td>\n",
       "      <td>M</td>\n",
       "      <td>student</td>\n",
       "      <td>55417</td>\n",
       "    </tr>\n",
       "    <tr>\n",
       "      <th>640</th>\n",
       "      <td>20</td>\n",
       "      <td>M</td>\n",
       "      <td>student</td>\n",
       "      <td>61801</td>\n",
       "    </tr>\n",
       "  </tbody>\n",
       "</table>\n",
       "</div>"
      ],
      "text/plain": [
       "         age gender  occupation zip_code\n",
       "user_id                                 \n",
       "311       32      M  technician    73071\n",
       "321       49      F    educator    55413\n",
       "417       27      F       other    48103\n",
       "847       29      M     student    55417\n",
       "640       20      M     student    61801"
      ]
     },
     "execution_count": 205,
     "metadata": {},
     "output_type": "execute_result"
    }
   ],
   "source": [
    "dos.head()"
   ]
  },
  {
   "cell_type": "code",
   "execution_count": 206,
   "id": "deadly-publicity",
   "metadata": {},
   "outputs": [
    {
     "data": {
      "text/plain": [
       "((283, 4), (377, 4))"
      ]
     },
     "execution_count": 206,
     "metadata": {},
     "output_type": "execute_result"
    }
   ],
   "source": [
    "uno.shape, dos.shape"
   ]
  },
  {
   "cell_type": "code",
   "execution_count": 208,
   "id": "polyphonic-motion",
   "metadata": {},
   "outputs": [
    {
     "data": {
      "text/html": [
       "<div>\n",
       "<style scoped>\n",
       "    .dataframe tbody tr th:only-of-type {\n",
       "        vertical-align: middle;\n",
       "    }\n",
       "\n",
       "    .dataframe tbody tr th {\n",
       "        vertical-align: top;\n",
       "    }\n",
       "\n",
       "    .dataframe thead th {\n",
       "        text-align: right;\n",
       "    }\n",
       "</style>\n",
       "<table border=\"1\" class=\"dataframe\">\n",
       "  <thead>\n",
       "    <tr style=\"text-align: right;\">\n",
       "      <th></th>\n",
       "      <th>age</th>\n",
       "      <th>gender</th>\n",
       "      <th>occupation</th>\n",
       "      <th>zip_code</th>\n",
       "    </tr>\n",
       "    <tr>\n",
       "      <th>user_id</th>\n",
       "      <th></th>\n",
       "      <th></th>\n",
       "      <th></th>\n",
       "      <th></th>\n",
       "    </tr>\n",
       "  </thead>\n",
       "  <tbody>\n",
       "    <tr>\n",
       "      <th>345</th>\n",
       "      <td>28</td>\n",
       "      <td>F</td>\n",
       "      <td>librarian</td>\n",
       "      <td>94143</td>\n",
       "    </tr>\n",
       "    <tr>\n",
       "      <th>343</th>\n",
       "      <td>43</td>\n",
       "      <td>M</td>\n",
       "      <td>engineer</td>\n",
       "      <td>30093</td>\n",
       "    </tr>\n",
       "    <tr>\n",
       "      <th>377</th>\n",
       "      <td>22</td>\n",
       "      <td>M</td>\n",
       "      <td>student</td>\n",
       "      <td>18015</td>\n",
       "    </tr>\n",
       "    <tr>\n",
       "      <th>385</th>\n",
       "      <td>36</td>\n",
       "      <td>M</td>\n",
       "      <td>writer</td>\n",
       "      <td>10003</td>\n",
       "    </tr>\n",
       "    <tr>\n",
       "      <th>313</th>\n",
       "      <td>41</td>\n",
       "      <td>M</td>\n",
       "      <td>marketing</td>\n",
       "      <td>60035</td>\n",
       "    </tr>\n",
       "  </tbody>\n",
       "</table>\n",
       "</div>"
      ],
      "text/plain": [
       "         age gender occupation zip_code\n",
       "user_id                                \n",
       "345       28      F  librarian    94143\n",
       "343       43      M   engineer    30093\n",
       "377       22      M    student    18015\n",
       "385       36      M     writer    10003\n",
       "313       41      M  marketing    60035"
      ]
     },
     "execution_count": 208,
     "metadata": {},
     "output_type": "execute_result"
    }
   ],
   "source": [
    "pd.concat([uno, dos]).head()  # esto recibe una lista de dataframes"
   ]
  },
  {
   "cell_type": "code",
   "execution_count": 209,
   "id": "tested-burner",
   "metadata": {},
   "outputs": [
    {
     "data": {
      "text/plain": [
       "(660, 4)"
      ]
     },
     "execution_count": 209,
     "metadata": {},
     "output_type": "execute_result"
    }
   ],
   "source": [
    "concatenado=pd.concat([uno, dos])\n",
    "\n",
    "concatenado.shape"
   ]
  },
  {
   "cell_type": "code",
   "execution_count": null,
   "id": "vertical-tulsa",
   "metadata": {},
   "outputs": [],
   "source": [
    "# Podemos concatenar uno al lado del otro pero tienen que tener el mismo número de filas"
   ]
  },
  {
   "cell_type": "code",
   "execution_count": 210,
   "id": "substantial-public",
   "metadata": {},
   "outputs": [],
   "source": [
    "concat_h=pd.concat([uno, uno], axis=1)"
   ]
  },
  {
   "cell_type": "code",
   "execution_count": 211,
   "id": "narrative-receptor",
   "metadata": {},
   "outputs": [
    {
     "data": {
      "text/html": [
       "<div>\n",
       "<style scoped>\n",
       "    .dataframe tbody tr th:only-of-type {\n",
       "        vertical-align: middle;\n",
       "    }\n",
       "\n",
       "    .dataframe tbody tr th {\n",
       "        vertical-align: top;\n",
       "    }\n",
       "\n",
       "    .dataframe thead th {\n",
       "        text-align: right;\n",
       "    }\n",
       "</style>\n",
       "<table border=\"1\" class=\"dataframe\">\n",
       "  <thead>\n",
       "    <tr style=\"text-align: right;\">\n",
       "      <th></th>\n",
       "      <th>age</th>\n",
       "      <th>gender</th>\n",
       "      <th>occupation</th>\n",
       "      <th>zip_code</th>\n",
       "      <th>age</th>\n",
       "      <th>gender</th>\n",
       "      <th>occupation</th>\n",
       "      <th>zip_code</th>\n",
       "    </tr>\n",
       "    <tr>\n",
       "      <th>user_id</th>\n",
       "      <th></th>\n",
       "      <th></th>\n",
       "      <th></th>\n",
       "      <th></th>\n",
       "      <th></th>\n",
       "      <th></th>\n",
       "      <th></th>\n",
       "      <th></th>\n",
       "    </tr>\n",
       "  </thead>\n",
       "  <tbody>\n",
       "    <tr>\n",
       "      <th>345</th>\n",
       "      <td>28</td>\n",
       "      <td>F</td>\n",
       "      <td>librarian</td>\n",
       "      <td>94143</td>\n",
       "      <td>28</td>\n",
       "      <td>F</td>\n",
       "      <td>librarian</td>\n",
       "      <td>94143</td>\n",
       "    </tr>\n",
       "    <tr>\n",
       "      <th>343</th>\n",
       "      <td>43</td>\n",
       "      <td>M</td>\n",
       "      <td>engineer</td>\n",
       "      <td>30093</td>\n",
       "      <td>43</td>\n",
       "      <td>M</td>\n",
       "      <td>engineer</td>\n",
       "      <td>30093</td>\n",
       "    </tr>\n",
       "    <tr>\n",
       "      <th>377</th>\n",
       "      <td>22</td>\n",
       "      <td>M</td>\n",
       "      <td>student</td>\n",
       "      <td>18015</td>\n",
       "      <td>22</td>\n",
       "      <td>M</td>\n",
       "      <td>student</td>\n",
       "      <td>18015</td>\n",
       "    </tr>\n",
       "    <tr>\n",
       "      <th>385</th>\n",
       "      <td>36</td>\n",
       "      <td>M</td>\n",
       "      <td>writer</td>\n",
       "      <td>10003</td>\n",
       "      <td>36</td>\n",
       "      <td>M</td>\n",
       "      <td>writer</td>\n",
       "      <td>10003</td>\n",
       "    </tr>\n",
       "    <tr>\n",
       "      <th>313</th>\n",
       "      <td>41</td>\n",
       "      <td>M</td>\n",
       "      <td>marketing</td>\n",
       "      <td>60035</td>\n",
       "      <td>41</td>\n",
       "      <td>M</td>\n",
       "      <td>marketing</td>\n",
       "      <td>60035</td>\n",
       "    </tr>\n",
       "  </tbody>\n",
       "</table>\n",
       "</div>"
      ],
      "text/plain": [
       "         age gender occupation zip_code  age gender occupation zip_code\n",
       "user_id                                                                \n",
       "345       28      F  librarian    94143   28      F  librarian    94143\n",
       "343       43      M   engineer    30093   43      M   engineer    30093\n",
       "377       22      M    student    18015   22      M    student    18015\n",
       "385       36      M     writer    10003   36      M     writer    10003\n",
       "313       41      M  marketing    60035   41      M  marketing    60035"
      ]
     },
     "execution_count": 211,
     "metadata": {},
     "output_type": "execute_result"
    }
   ],
   "source": [
    "concat_h.head()"
   ]
  },
  {
   "cell_type": "markdown",
   "id": "weekly-klein",
   "metadata": {},
   "source": [
    "### Merge"
   ]
  },
  {
   "cell_type": "markdown",
   "id": "fluid-composer",
   "metadata": {},
   "source": [
    "[Merge()](https://pandas.pydata.org/docs/reference/api/pandas.DataFrame.merge.html) es más útil cuando se desea combinar filas que comparten datos."
   ]
  },
  {
   "cell_type": "code",
   "execution_count": 212,
   "id": "northern-approach",
   "metadata": {},
   "outputs": [],
   "source": [
    "df1=pd.DataFrame({'lkey': ['k0', 'k1', 'k2'],\n",
    "                   'B': [1, 2, 3]})\n",
    "\n",
    "df2=pd.DataFrame({'rkey': ['k0', 'k1', 'k2'],\n",
    "                   'B': [4, 6, 7]})"
   ]
  },
  {
   "cell_type": "code",
   "execution_count": 213,
   "id": "dangerous-bandwidth",
   "metadata": {},
   "outputs": [],
   "source": [
    "df3=pd.DataFrame({'rkey': ['k0', 'k1', 'k2'],\n",
    "                   'Otracol': [4, 6, 7]})"
   ]
  },
  {
   "cell_type": "code",
   "execution_count": 214,
   "id": "grand-programming",
   "metadata": {},
   "outputs": [
    {
     "data": {
      "text/html": [
       "<div>\n",
       "<style scoped>\n",
       "    .dataframe tbody tr th:only-of-type {\n",
       "        vertical-align: middle;\n",
       "    }\n",
       "\n",
       "    .dataframe tbody tr th {\n",
       "        vertical-align: top;\n",
       "    }\n",
       "\n",
       "    .dataframe thead th {\n",
       "        text-align: right;\n",
       "    }\n",
       "</style>\n",
       "<table border=\"1\" class=\"dataframe\">\n",
       "  <thead>\n",
       "    <tr style=\"text-align: right;\">\n",
       "      <th></th>\n",
       "      <th>lkey</th>\n",
       "      <th>B</th>\n",
       "    </tr>\n",
       "  </thead>\n",
       "  <tbody>\n",
       "    <tr>\n",
       "      <th>0</th>\n",
       "      <td>k0</td>\n",
       "      <td>1</td>\n",
       "    </tr>\n",
       "    <tr>\n",
       "      <th>1</th>\n",
       "      <td>k1</td>\n",
       "      <td>2</td>\n",
       "    </tr>\n",
       "    <tr>\n",
       "      <th>2</th>\n",
       "      <td>k2</td>\n",
       "      <td>3</td>\n",
       "    </tr>\n",
       "  </tbody>\n",
       "</table>\n",
       "</div>"
      ],
      "text/plain": [
       "  lkey  B\n",
       "0   k0  1\n",
       "1   k1  2\n",
       "2   k2  3"
      ]
     },
     "execution_count": 214,
     "metadata": {},
     "output_type": "execute_result"
    }
   ],
   "source": [
    "df1.head()"
   ]
  },
  {
   "cell_type": "code",
   "execution_count": 215,
   "id": "increased-tractor",
   "metadata": {},
   "outputs": [
    {
     "data": {
      "text/html": [
       "<div>\n",
       "<style scoped>\n",
       "    .dataframe tbody tr th:only-of-type {\n",
       "        vertical-align: middle;\n",
       "    }\n",
       "\n",
       "    .dataframe tbody tr th {\n",
       "        vertical-align: top;\n",
       "    }\n",
       "\n",
       "    .dataframe thead th {\n",
       "        text-align: right;\n",
       "    }\n",
       "</style>\n",
       "<table border=\"1\" class=\"dataframe\">\n",
       "  <thead>\n",
       "    <tr style=\"text-align: right;\">\n",
       "      <th></th>\n",
       "      <th>rkey</th>\n",
       "      <th>B</th>\n",
       "    </tr>\n",
       "  </thead>\n",
       "  <tbody>\n",
       "    <tr>\n",
       "      <th>0</th>\n",
       "      <td>k0</td>\n",
       "      <td>4</td>\n",
       "    </tr>\n",
       "    <tr>\n",
       "      <th>1</th>\n",
       "      <td>k1</td>\n",
       "      <td>6</td>\n",
       "    </tr>\n",
       "    <tr>\n",
       "      <th>2</th>\n",
       "      <td>k2</td>\n",
       "      <td>7</td>\n",
       "    </tr>\n",
       "  </tbody>\n",
       "</table>\n",
       "</div>"
      ],
      "text/plain": [
       "  rkey  B\n",
       "0   k0  4\n",
       "1   k1  6\n",
       "2   k2  7"
      ]
     },
     "execution_count": 215,
     "metadata": {},
     "output_type": "execute_result"
    }
   ],
   "source": [
    "df2.head()"
   ]
  },
  {
   "cell_type": "code",
   "execution_count": 219,
   "id": "opposed-seminar",
   "metadata": {},
   "outputs": [
    {
     "data": {
      "text/html": [
       "<div>\n",
       "<style scoped>\n",
       "    .dataframe tbody tr th:only-of-type {\n",
       "        vertical-align: middle;\n",
       "    }\n",
       "\n",
       "    .dataframe tbody tr th {\n",
       "        vertical-align: top;\n",
       "    }\n",
       "\n",
       "    .dataframe thead th {\n",
       "        text-align: right;\n",
       "    }\n",
       "</style>\n",
       "<table border=\"1\" class=\"dataframe\">\n",
       "  <thead>\n",
       "    <tr style=\"text-align: right;\">\n",
       "      <th></th>\n",
       "      <th>lkey</th>\n",
       "      <th>B_izq</th>\n",
       "      <th>rkey</th>\n",
       "      <th>Bdcha</th>\n",
       "    </tr>\n",
       "  </thead>\n",
       "  <tbody>\n",
       "    <tr>\n",
       "      <th>0</th>\n",
       "      <td>k0</td>\n",
       "      <td>1</td>\n",
       "      <td>k0</td>\n",
       "      <td>4</td>\n",
       "    </tr>\n",
       "    <tr>\n",
       "      <th>1</th>\n",
       "      <td>k1</td>\n",
       "      <td>2</td>\n",
       "      <td>k1</td>\n",
       "      <td>6</td>\n",
       "    </tr>\n",
       "    <tr>\n",
       "      <th>2</th>\n",
       "      <td>k2</td>\n",
       "      <td>3</td>\n",
       "      <td>k2</td>\n",
       "      <td>7</td>\n",
       "    </tr>\n",
       "  </tbody>\n",
       "</table>\n",
       "</div>"
      ],
      "text/plain": [
       "  lkey  B_izq rkey  Bdcha\n",
       "0   k0      1   k0      4\n",
       "1   k1      2   k1      6\n",
       "2   k2      3   k2      7"
      ]
     },
     "execution_count": 219,
     "metadata": {},
     "output_type": "execute_result"
    }
   ],
   "source": [
    "mergeado=df1.merge(df2, left_on='lkey', right_on='rkey', suffixes=['_izq', 'dcha'])\n",
    "\n",
    "mergeado"
   ]
  },
  {
   "cell_type": "code",
   "execution_count": 220,
   "id": "american-chance",
   "metadata": {},
   "outputs": [
    {
     "data": {
      "text/html": [
       "<div>\n",
       "<style scoped>\n",
       "    .dataframe tbody tr th:only-of-type {\n",
       "        vertical-align: middle;\n",
       "    }\n",
       "\n",
       "    .dataframe tbody tr th {\n",
       "        vertical-align: top;\n",
       "    }\n",
       "\n",
       "    .dataframe thead th {\n",
       "        text-align: right;\n",
       "    }\n",
       "</style>\n",
       "<table border=\"1\" class=\"dataframe\">\n",
       "  <thead>\n",
       "    <tr style=\"text-align: right;\">\n",
       "      <th></th>\n",
       "      <th>rkey</th>\n",
       "      <th>Otracol</th>\n",
       "    </tr>\n",
       "  </thead>\n",
       "  <tbody>\n",
       "    <tr>\n",
       "      <th>0</th>\n",
       "      <td>k0</td>\n",
       "      <td>4</td>\n",
       "    </tr>\n",
       "    <tr>\n",
       "      <th>1</th>\n",
       "      <td>k1</td>\n",
       "      <td>6</td>\n",
       "    </tr>\n",
       "    <tr>\n",
       "      <th>2</th>\n",
       "      <td>k2</td>\n",
       "      <td>7</td>\n",
       "    </tr>\n",
       "  </tbody>\n",
       "</table>\n",
       "</div>"
      ],
      "text/plain": [
       "  rkey  Otracol\n",
       "0   k0        4\n",
       "1   k1        6\n",
       "2   k2        7"
      ]
     },
     "execution_count": 220,
     "metadata": {},
     "output_type": "execute_result"
    }
   ],
   "source": [
    "df3.head()"
   ]
  },
  {
   "cell_type": "code",
   "execution_count": 221,
   "id": "lightweight-bleeding",
   "metadata": {},
   "outputs": [],
   "source": [
    "mer_merge=mergeado.merge(df3, left_on='lkey', right_on='rkey')"
   ]
  },
  {
   "cell_type": "code",
   "execution_count": 222,
   "id": "functioning-morning",
   "metadata": {},
   "outputs": [
    {
     "data": {
      "text/html": [
       "<div>\n",
       "<style scoped>\n",
       "    .dataframe tbody tr th:only-of-type {\n",
       "        vertical-align: middle;\n",
       "    }\n",
       "\n",
       "    .dataframe tbody tr th {\n",
       "        vertical-align: top;\n",
       "    }\n",
       "\n",
       "    .dataframe thead th {\n",
       "        text-align: right;\n",
       "    }\n",
       "</style>\n",
       "<table border=\"1\" class=\"dataframe\">\n",
       "  <thead>\n",
       "    <tr style=\"text-align: right;\">\n",
       "      <th></th>\n",
       "      <th>lkey</th>\n",
       "      <th>B_izq</th>\n",
       "      <th>rkey_x</th>\n",
       "      <th>Bdcha</th>\n",
       "      <th>rkey_y</th>\n",
       "      <th>Otracol</th>\n",
       "    </tr>\n",
       "  </thead>\n",
       "  <tbody>\n",
       "    <tr>\n",
       "      <th>0</th>\n",
       "      <td>k0</td>\n",
       "      <td>1</td>\n",
       "      <td>k0</td>\n",
       "      <td>4</td>\n",
       "      <td>k0</td>\n",
       "      <td>4</td>\n",
       "    </tr>\n",
       "    <tr>\n",
       "      <th>1</th>\n",
       "      <td>k1</td>\n",
       "      <td>2</td>\n",
       "      <td>k1</td>\n",
       "      <td>6</td>\n",
       "      <td>k1</td>\n",
       "      <td>6</td>\n",
       "    </tr>\n",
       "    <tr>\n",
       "      <th>2</th>\n",
       "      <td>k2</td>\n",
       "      <td>3</td>\n",
       "      <td>k2</td>\n",
       "      <td>7</td>\n",
       "      <td>k2</td>\n",
       "      <td>7</td>\n",
       "    </tr>\n",
       "  </tbody>\n",
       "</table>\n",
       "</div>"
      ],
      "text/plain": [
       "  lkey  B_izq rkey_x  Bdcha rkey_y  Otracol\n",
       "0   k0      1     k0      4     k0        4\n",
       "1   k1      2     k1      6     k1        6\n",
       "2   k2      3     k2      7     k2        7"
      ]
     },
     "execution_count": 222,
     "metadata": {},
     "output_type": "execute_result"
    }
   ],
   "source": [
    "mer_merge.head()"
   ]
  },
  {
   "cell_type": "code",
   "execution_count": null,
   "id": "fifteen-reality",
   "metadata": {},
   "outputs": [],
   "source": [
    "# Una vez hemos mergeado, nos interesa eliminar la columna repetida"
   ]
  },
  {
   "cell_type": "code",
   "execution_count": 223,
   "id": "extensive-collaboration",
   "metadata": {},
   "outputs": [
    {
     "data": {
      "text/html": [
       "<div>\n",
       "<style scoped>\n",
       "    .dataframe tbody tr th:only-of-type {\n",
       "        vertical-align: middle;\n",
       "    }\n",
       "\n",
       "    .dataframe tbody tr th {\n",
       "        vertical-align: top;\n",
       "    }\n",
       "\n",
       "    .dataframe thead th {\n",
       "        text-align: right;\n",
       "    }\n",
       "</style>\n",
       "<table border=\"1\" class=\"dataframe\">\n",
       "  <thead>\n",
       "    <tr style=\"text-align: right;\">\n",
       "      <th></th>\n",
       "      <th>lkey</th>\n",
       "      <th>B_izq</th>\n",
       "      <th>Bdcha</th>\n",
       "      <th>Otracol</th>\n",
       "    </tr>\n",
       "  </thead>\n",
       "  <tbody>\n",
       "    <tr>\n",
       "      <th>0</th>\n",
       "      <td>k0</td>\n",
       "      <td>1</td>\n",
       "      <td>4</td>\n",
       "      <td>4</td>\n",
       "    </tr>\n",
       "    <tr>\n",
       "      <th>1</th>\n",
       "      <td>k1</td>\n",
       "      <td>2</td>\n",
       "      <td>6</td>\n",
       "      <td>6</td>\n",
       "    </tr>\n",
       "    <tr>\n",
       "      <th>2</th>\n",
       "      <td>k2</td>\n",
       "      <td>3</td>\n",
       "      <td>7</td>\n",
       "      <td>7</td>\n",
       "    </tr>\n",
       "  </tbody>\n",
       "</table>\n",
       "</div>"
      ],
      "text/plain": [
       "  lkey  B_izq  Bdcha  Otracol\n",
       "0   k0      1      4        4\n",
       "1   k1      2      6        6\n",
       "2   k2      3      7        7"
      ]
     },
     "execution_count": 223,
     "metadata": {},
     "output_type": "execute_result"
    }
   ],
   "source": [
    "mer_merge.drop(columns=['rkey_x', 'rkey_y'])"
   ]
  },
  {
   "cell_type": "markdown",
   "id": "encouraging-violence",
   "metadata": {},
   "source": [
    "# Cuando no me coinciden los datos"
   ]
  },
  {
   "cell_type": "code",
   "execution_count": 224,
   "id": "differential-cross",
   "metadata": {},
   "outputs": [],
   "source": [
    "df1=pd.DataFrame({'lkey': ['k0', 'k1', 'k2'],\n",
    "                   'B': [1, 2, 3]})\n",
    "\n",
    "df2=pd.DataFrame({'rkey': ['k0', 'k1', 'k3'],\n",
    "                   'B': [4, 6, 7]})"
   ]
  },
  {
   "cell_type": "code",
   "execution_count": 225,
   "id": "touched-agency",
   "metadata": {},
   "outputs": [
    {
     "data": {
      "text/html": [
       "<div>\n",
       "<style scoped>\n",
       "    .dataframe tbody tr th:only-of-type {\n",
       "        vertical-align: middle;\n",
       "    }\n",
       "\n",
       "    .dataframe tbody tr th {\n",
       "        vertical-align: top;\n",
       "    }\n",
       "\n",
       "    .dataframe thead th {\n",
       "        text-align: right;\n",
       "    }\n",
       "</style>\n",
       "<table border=\"1\" class=\"dataframe\">\n",
       "  <thead>\n",
       "    <tr style=\"text-align: right;\">\n",
       "      <th></th>\n",
       "      <th>lkey</th>\n",
       "      <th>B</th>\n",
       "    </tr>\n",
       "  </thead>\n",
       "  <tbody>\n",
       "    <tr>\n",
       "      <th>0</th>\n",
       "      <td>k0</td>\n",
       "      <td>1</td>\n",
       "    </tr>\n",
       "    <tr>\n",
       "      <th>1</th>\n",
       "      <td>k1</td>\n",
       "      <td>2</td>\n",
       "    </tr>\n",
       "    <tr>\n",
       "      <th>2</th>\n",
       "      <td>k2</td>\n",
       "      <td>3</td>\n",
       "    </tr>\n",
       "  </tbody>\n",
       "</table>\n",
       "</div>"
      ],
      "text/plain": [
       "  lkey  B\n",
       "0   k0  1\n",
       "1   k1  2\n",
       "2   k2  3"
      ]
     },
     "execution_count": 225,
     "metadata": {},
     "output_type": "execute_result"
    }
   ],
   "source": [
    "df1"
   ]
  },
  {
   "cell_type": "code",
   "execution_count": 226,
   "id": "offensive-prospect",
   "metadata": {},
   "outputs": [
    {
     "data": {
      "text/html": [
       "<div>\n",
       "<style scoped>\n",
       "    .dataframe tbody tr th:only-of-type {\n",
       "        vertical-align: middle;\n",
       "    }\n",
       "\n",
       "    .dataframe tbody tr th {\n",
       "        vertical-align: top;\n",
       "    }\n",
       "\n",
       "    .dataframe thead th {\n",
       "        text-align: right;\n",
       "    }\n",
       "</style>\n",
       "<table border=\"1\" class=\"dataframe\">\n",
       "  <thead>\n",
       "    <tr style=\"text-align: right;\">\n",
       "      <th></th>\n",
       "      <th>rkey</th>\n",
       "      <th>B</th>\n",
       "    </tr>\n",
       "  </thead>\n",
       "  <tbody>\n",
       "    <tr>\n",
       "      <th>0</th>\n",
       "      <td>k0</td>\n",
       "      <td>4</td>\n",
       "    </tr>\n",
       "    <tr>\n",
       "      <th>1</th>\n",
       "      <td>k1</td>\n",
       "      <td>6</td>\n",
       "    </tr>\n",
       "    <tr>\n",
       "      <th>2</th>\n",
       "      <td>k3</td>\n",
       "      <td>7</td>\n",
       "    </tr>\n",
       "  </tbody>\n",
       "</table>\n",
       "</div>"
      ],
      "text/plain": [
       "  rkey  B\n",
       "0   k0  4\n",
       "1   k1  6\n",
       "2   k3  7"
      ]
     },
     "execution_count": 226,
     "metadata": {},
     "output_type": "execute_result"
    }
   ],
   "source": [
    "df2"
   ]
  },
  {
   "cell_type": "code",
   "execution_count": 227,
   "id": "green-feedback",
   "metadata": {},
   "outputs": [
    {
     "data": {
      "text/html": [
       "<div>\n",
       "<style scoped>\n",
       "    .dataframe tbody tr th:only-of-type {\n",
       "        vertical-align: middle;\n",
       "    }\n",
       "\n",
       "    .dataframe tbody tr th {\n",
       "        vertical-align: top;\n",
       "    }\n",
       "\n",
       "    .dataframe thead th {\n",
       "        text-align: right;\n",
       "    }\n",
       "</style>\n",
       "<table border=\"1\" class=\"dataframe\">\n",
       "  <thead>\n",
       "    <tr style=\"text-align: right;\">\n",
       "      <th></th>\n",
       "      <th>lkey</th>\n",
       "      <th>B_x</th>\n",
       "      <th>rkey</th>\n",
       "      <th>B_y</th>\n",
       "    </tr>\n",
       "  </thead>\n",
       "  <tbody>\n",
       "    <tr>\n",
       "      <th>0</th>\n",
       "      <td>k0</td>\n",
       "      <td>1</td>\n",
       "      <td>k0</td>\n",
       "      <td>4</td>\n",
       "    </tr>\n",
       "    <tr>\n",
       "      <th>1</th>\n",
       "      <td>k1</td>\n",
       "      <td>2</td>\n",
       "      <td>k1</td>\n",
       "      <td>6</td>\n",
       "    </tr>\n",
       "  </tbody>\n",
       "</table>\n",
       "</div>"
      ],
      "text/plain": [
       "  lkey  B_x rkey  B_y\n",
       "0   k0    1   k0    4\n",
       "1   k1    2   k1    6"
      ]
     },
     "execution_count": 227,
     "metadata": {},
     "output_type": "execute_result"
    }
   ],
   "source": [
    "df1.merge(df2, left_on='lkey', right_on='rkey')"
   ]
  },
  {
   "cell_type": "code",
   "execution_count": 235,
   "id": "chicken-degree",
   "metadata": {},
   "outputs": [],
   "source": [
    "uno_2=pd.DataFrame({'nombre_uno': ['ras', 'sonia', 'ana', 'dobby', 'k4'],\n",
    "                  'dirección': ['calle fantasía', 'a1', 'a2', 'a3', 'a4']})\n",
    "\n",
    "otro_2=pd.DataFrame({'nombre_dos': ['ras', 'ana', 'sonia'],\n",
    "                  'teléfono': ['7245689247', 'b1', 'b2']})"
   ]
  },
  {
   "cell_type": "code",
   "execution_count": null,
   "id": "alien-closing",
   "metadata": {},
   "outputs": [],
   "source": [
    " # Si no pongo how es un INNER y borra donde no haya match"
   ]
  },
  {
   "cell_type": "code",
   "execution_count": 236,
   "id": "phantom-agenda",
   "metadata": {},
   "outputs": [
    {
     "data": {
      "text/html": [
       "<div>\n",
       "<style scoped>\n",
       "    .dataframe tbody tr th:only-of-type {\n",
       "        vertical-align: middle;\n",
       "    }\n",
       "\n",
       "    .dataframe tbody tr th {\n",
       "        vertical-align: top;\n",
       "    }\n",
       "\n",
       "    .dataframe thead th {\n",
       "        text-align: right;\n",
       "    }\n",
       "</style>\n",
       "<table border=\"1\" class=\"dataframe\">\n",
       "  <thead>\n",
       "    <tr style=\"text-align: right;\">\n",
       "      <th></th>\n",
       "      <th>nombre_uno</th>\n",
       "      <th>dirección</th>\n",
       "      <th>nombre_dos</th>\n",
       "      <th>teléfono</th>\n",
       "    </tr>\n",
       "  </thead>\n",
       "  <tbody>\n",
       "    <tr>\n",
       "      <th>0</th>\n",
       "      <td>ras</td>\n",
       "      <td>calle fantasía</td>\n",
       "      <td>ras</td>\n",
       "      <td>7245689247</td>\n",
       "    </tr>\n",
       "    <tr>\n",
       "      <th>1</th>\n",
       "      <td>sonia</td>\n",
       "      <td>a1</td>\n",
       "      <td>sonia</td>\n",
       "      <td>b2</td>\n",
       "    </tr>\n",
       "    <tr>\n",
       "      <th>2</th>\n",
       "      <td>ana</td>\n",
       "      <td>a2</td>\n",
       "      <td>ana</td>\n",
       "      <td>b1</td>\n",
       "    </tr>\n",
       "  </tbody>\n",
       "</table>\n",
       "</div>"
      ],
      "text/plain": [
       "  nombre_uno       dirección nombre_dos    teléfono\n",
       "0        ras  calle fantasía        ras  7245689247\n",
       "1      sonia              a1      sonia          b2\n",
       "2        ana              a2        ana          b1"
      ]
     },
     "execution_count": 236,
     "metadata": {},
     "output_type": "execute_result"
    }
   ],
   "source": [
    "uno_2.merge(otro_2, left_on='nombre_uno', right_on='nombre_dos')"
   ]
  },
  {
   "cell_type": "code",
   "execution_count": 238,
   "id": "0ca58689",
   "metadata": {},
   "outputs": [
    {
     "data": {
      "text/html": [
       "<div>\n",
       "<style scoped>\n",
       "    .dataframe tbody tr th:only-of-type {\n",
       "        vertical-align: middle;\n",
       "    }\n",
       "\n",
       "    .dataframe tbody tr th {\n",
       "        vertical-align: top;\n",
       "    }\n",
       "\n",
       "    .dataframe thead th {\n",
       "        text-align: right;\n",
       "    }\n",
       "</style>\n",
       "<table border=\"1\" class=\"dataframe\">\n",
       "  <thead>\n",
       "    <tr style=\"text-align: right;\">\n",
       "      <th></th>\n",
       "      <th>nombre_uno</th>\n",
       "      <th>dirección</th>\n",
       "      <th>teléfono</th>\n",
       "    </tr>\n",
       "  </thead>\n",
       "  <tbody>\n",
       "    <tr>\n",
       "      <th>0</th>\n",
       "      <td>ras</td>\n",
       "      <td>calle fantasía</td>\n",
       "      <td>7245689247</td>\n",
       "    </tr>\n",
       "    <tr>\n",
       "      <th>1</th>\n",
       "      <td>ana</td>\n",
       "      <td>a2</td>\n",
       "      <td>b1</td>\n",
       "    </tr>\n",
       "    <tr>\n",
       "      <th>2</th>\n",
       "      <td>sonia</td>\n",
       "      <td>a1</td>\n",
       "      <td>b2</td>\n",
       "    </tr>\n",
       "  </tbody>\n",
       "</table>\n",
       "</div>"
      ],
      "text/plain": [
       "  nombre_uno       dirección    teléfono\n",
       "0        ras  calle fantasía  7245689247\n",
       "1        ana              a2          b1\n",
       "2      sonia              a1          b2"
      ]
     },
     "execution_count": 238,
     "metadata": {},
     "output_type": "execute_result"
    }
   ],
   "source": [
    "uno_2.merge(otro_2, left_on='nombre_uno', right_on='nombre_dos', how='right').drop('nombre_dos', axis=1)"
   ]
  },
  {
   "cell_type": "markdown",
   "id": "behavioral-anger",
   "metadata": {},
   "source": [
    "### Join\n",
    "El join, a diferencia del merge, va a unir los dataframes y donde no haya registros en el \"índice\" va a poner NaN"
   ]
  },
  {
   "cell_type": "code",
   "execution_count": 239,
   "id": "searching-combine",
   "metadata": {},
   "outputs": [],
   "source": [
    "uno=pd.DataFrame({'key': ['k0', 'k1', 'k2', 'k3', 'k4'],\n",
    "                  'A': ['a0', 'a1', 'a2', 'a3', 'a4']})\n",
    "\n",
    "otro=pd.DataFrame({'key': ['k0', 'k1', 'k2'],\n",
    "                  'B': ['b0', 'b1', 'b2']})"
   ]
  },
  {
   "cell_type": "code",
   "execution_count": 240,
   "id": "retired-captain",
   "metadata": {},
   "outputs": [
    {
     "data": {
      "text/html": [
       "<div>\n",
       "<style scoped>\n",
       "    .dataframe tbody tr th:only-of-type {\n",
       "        vertical-align: middle;\n",
       "    }\n",
       "\n",
       "    .dataframe tbody tr th {\n",
       "        vertical-align: top;\n",
       "    }\n",
       "\n",
       "    .dataframe thead th {\n",
       "        text-align: right;\n",
       "    }\n",
       "</style>\n",
       "<table border=\"1\" class=\"dataframe\">\n",
       "  <thead>\n",
       "    <tr style=\"text-align: right;\">\n",
       "      <th></th>\n",
       "      <th>key</th>\n",
       "      <th>A</th>\n",
       "    </tr>\n",
       "  </thead>\n",
       "  <tbody>\n",
       "    <tr>\n",
       "      <th>0</th>\n",
       "      <td>k0</td>\n",
       "      <td>a0</td>\n",
       "    </tr>\n",
       "    <tr>\n",
       "      <th>1</th>\n",
       "      <td>k1</td>\n",
       "      <td>a1</td>\n",
       "    </tr>\n",
       "    <tr>\n",
       "      <th>2</th>\n",
       "      <td>k2</td>\n",
       "      <td>a2</td>\n",
       "    </tr>\n",
       "    <tr>\n",
       "      <th>3</th>\n",
       "      <td>k3</td>\n",
       "      <td>a3</td>\n",
       "    </tr>\n",
       "    <tr>\n",
       "      <th>4</th>\n",
       "      <td>k4</td>\n",
       "      <td>a4</td>\n",
       "    </tr>\n",
       "  </tbody>\n",
       "</table>\n",
       "</div>"
      ],
      "text/plain": [
       "  key   A\n",
       "0  k0  a0\n",
       "1  k1  a1\n",
       "2  k2  a2\n",
       "3  k3  a3\n",
       "4  k4  a4"
      ]
     },
     "execution_count": 240,
     "metadata": {},
     "output_type": "execute_result"
    }
   ],
   "source": [
    "uno"
   ]
  },
  {
   "cell_type": "code",
   "execution_count": 241,
   "id": "fundamental-cooperative",
   "metadata": {},
   "outputs": [
    {
     "data": {
      "text/html": [
       "<div>\n",
       "<style scoped>\n",
       "    .dataframe tbody tr th:only-of-type {\n",
       "        vertical-align: middle;\n",
       "    }\n",
       "\n",
       "    .dataframe tbody tr th {\n",
       "        vertical-align: top;\n",
       "    }\n",
       "\n",
       "    .dataframe thead th {\n",
       "        text-align: right;\n",
       "    }\n",
       "</style>\n",
       "<table border=\"1\" class=\"dataframe\">\n",
       "  <thead>\n",
       "    <tr style=\"text-align: right;\">\n",
       "      <th></th>\n",
       "      <th>key</th>\n",
       "      <th>B</th>\n",
       "    </tr>\n",
       "  </thead>\n",
       "  <tbody>\n",
       "    <tr>\n",
       "      <th>0</th>\n",
       "      <td>k0</td>\n",
       "      <td>b0</td>\n",
       "    </tr>\n",
       "    <tr>\n",
       "      <th>1</th>\n",
       "      <td>k1</td>\n",
       "      <td>b1</td>\n",
       "    </tr>\n",
       "    <tr>\n",
       "      <th>2</th>\n",
       "      <td>k2</td>\n",
       "      <td>b2</td>\n",
       "    </tr>\n",
       "  </tbody>\n",
       "</table>\n",
       "</div>"
      ],
      "text/plain": [
       "  key   B\n",
       "0  k0  b0\n",
       "1  k1  b1\n",
       "2  k2  b2"
      ]
     },
     "execution_count": 241,
     "metadata": {},
     "output_type": "execute_result"
    }
   ],
   "source": [
    "otro"
   ]
  },
  {
   "cell_type": "code",
   "execution_count": 243,
   "id": "respective-mustang",
   "metadata": {},
   "outputs": [
    {
     "data": {
      "text/html": [
       "<div>\n",
       "<style scoped>\n",
       "    .dataframe tbody tr th:only-of-type {\n",
       "        vertical-align: middle;\n",
       "    }\n",
       "\n",
       "    .dataframe tbody tr th {\n",
       "        vertical-align: top;\n",
       "    }\n",
       "\n",
       "    .dataframe thead th {\n",
       "        text-align: right;\n",
       "    }\n",
       "</style>\n",
       "<table border=\"1\" class=\"dataframe\">\n",
       "  <thead>\n",
       "    <tr style=\"text-align: right;\">\n",
       "      <th></th>\n",
       "      <th>key_uno</th>\n",
       "      <th>A</th>\n",
       "      <th>key_dos</th>\n",
       "      <th>B</th>\n",
       "    </tr>\n",
       "  </thead>\n",
       "  <tbody>\n",
       "    <tr>\n",
       "      <th>0</th>\n",
       "      <td>k0</td>\n",
       "      <td>a0</td>\n",
       "      <td>k0</td>\n",
       "      <td>b0</td>\n",
       "    </tr>\n",
       "    <tr>\n",
       "      <th>1</th>\n",
       "      <td>k1</td>\n",
       "      <td>a1</td>\n",
       "      <td>k1</td>\n",
       "      <td>b1</td>\n",
       "    </tr>\n",
       "    <tr>\n",
       "      <th>2</th>\n",
       "      <td>k2</td>\n",
       "      <td>a2</td>\n",
       "      <td>k2</td>\n",
       "      <td>b2</td>\n",
       "    </tr>\n",
       "    <tr>\n",
       "      <th>3</th>\n",
       "      <td>k3</td>\n",
       "      <td>a3</td>\n",
       "      <td>NaN</td>\n",
       "      <td>NaN</td>\n",
       "    </tr>\n",
       "    <tr>\n",
       "      <th>4</th>\n",
       "      <td>k4</td>\n",
       "      <td>a4</td>\n",
       "      <td>NaN</td>\n",
       "      <td>NaN</td>\n",
       "    </tr>\n",
       "  </tbody>\n",
       "</table>\n",
       "</div>"
      ],
      "text/plain": [
       "  key_uno   A key_dos    B\n",
       "0      k0  a0      k0   b0\n",
       "1      k1  a1      k1   b1\n",
       "2      k2  a2      k2   b2\n",
       "3      k3  a3     NaN  NaN\n",
       "4      k4  a4     NaN  NaN"
      ]
     },
     "execution_count": 243,
     "metadata": {},
     "output_type": "execute_result"
    }
   ],
   "source": [
    "uno.join(otro, lsuffix='_uno', rsuffix='_dos')"
   ]
  },
  {
   "cell_type": "code",
   "execution_count": 244,
   "id": "adjacent-anchor",
   "metadata": {},
   "outputs": [
    {
     "data": {
      "text/html": [
       "<div>\n",
       "<style scoped>\n",
       "    .dataframe tbody tr th:only-of-type {\n",
       "        vertical-align: middle;\n",
       "    }\n",
       "\n",
       "    .dataframe tbody tr th {\n",
       "        vertical-align: top;\n",
       "    }\n",
       "\n",
       "    .dataframe thead th {\n",
       "        text-align: right;\n",
       "    }\n",
       "</style>\n",
       "<table border=\"1\" class=\"dataframe\">\n",
       "  <thead>\n",
       "    <tr style=\"text-align: right;\">\n",
       "      <th></th>\n",
       "      <th>key_uno</th>\n",
       "      <th>B</th>\n",
       "      <th>key_dos</th>\n",
       "      <th>A</th>\n",
       "    </tr>\n",
       "  </thead>\n",
       "  <tbody>\n",
       "    <tr>\n",
       "      <th>0</th>\n",
       "      <td>k0</td>\n",
       "      <td>b0</td>\n",
       "      <td>k0</td>\n",
       "      <td>a0</td>\n",
       "    </tr>\n",
       "    <tr>\n",
       "      <th>1</th>\n",
       "      <td>k1</td>\n",
       "      <td>b1</td>\n",
       "      <td>k1</td>\n",
       "      <td>a1</td>\n",
       "    </tr>\n",
       "    <tr>\n",
       "      <th>2</th>\n",
       "      <td>k2</td>\n",
       "      <td>b2</td>\n",
       "      <td>k2</td>\n",
       "      <td>a2</td>\n",
       "    </tr>\n",
       "  </tbody>\n",
       "</table>\n",
       "</div>"
      ],
      "text/plain": [
       "  key_uno   B key_dos   A\n",
       "0      k0  b0      k0  a0\n",
       "1      k1  b1      k1  a1\n",
       "2      k2  b2      k2  a2"
      ]
     },
     "execution_count": 244,
     "metadata": {},
     "output_type": "execute_result"
    }
   ],
   "source": [
    "otro.join(uno, lsuffix='_uno', rsuffix='_dos')"
   ]
  },
  {
   "cell_type": "code",
   "execution_count": 246,
   "id": "civil-kernel",
   "metadata": {},
   "outputs": [
    {
     "data": {
      "text/html": [
       "<div>\n",
       "<style scoped>\n",
       "    .dataframe tbody tr th:only-of-type {\n",
       "        vertical-align: middle;\n",
       "    }\n",
       "\n",
       "    .dataframe tbody tr th {\n",
       "        vertical-align: top;\n",
       "    }\n",
       "\n",
       "    .dataframe thead th {\n",
       "        text-align: right;\n",
       "    }\n",
       "</style>\n",
       "<table border=\"1\" class=\"dataframe\">\n",
       "  <thead>\n",
       "    <tr style=\"text-align: right;\">\n",
       "      <th></th>\n",
       "      <th>key_uno</th>\n",
       "      <th>A</th>\n",
       "      <th>key_dos</th>\n",
       "      <th>B</th>\n",
       "    </tr>\n",
       "  </thead>\n",
       "  <tbody>\n",
       "    <tr>\n",
       "      <th>0</th>\n",
       "      <td>k0</td>\n",
       "      <td>a0</td>\n",
       "      <td>k0</td>\n",
       "      <td>b0</td>\n",
       "    </tr>\n",
       "    <tr>\n",
       "      <th>1</th>\n",
       "      <td>k1</td>\n",
       "      <td>a1</td>\n",
       "      <td>k1</td>\n",
       "      <td>b1</td>\n",
       "    </tr>\n",
       "    <tr>\n",
       "      <th>2</th>\n",
       "      <td>k2</td>\n",
       "      <td>a2</td>\n",
       "      <td>k2</td>\n",
       "      <td>b2</td>\n",
       "    </tr>\n",
       "  </tbody>\n",
       "</table>\n",
       "</div>"
      ],
      "text/plain": [
       "  key_uno   A key_dos   B\n",
       "0      k0  a0      k0  b0\n",
       "1      k1  a1      k1  b1\n",
       "2      k2  a2      k2  b2"
      ]
     },
     "execution_count": 246,
     "metadata": {},
     "output_type": "execute_result"
    }
   ],
   "source": [
    "uno.join(otro, lsuffix='_uno', rsuffix='_dos', how='right')"
   ]
  },
  {
   "cell_type": "code",
   "execution_count": 247,
   "id": "graduate-disclosure",
   "metadata": {},
   "outputs": [
    {
     "data": {
      "text/html": [
       "<div>\n",
       "<style scoped>\n",
       "    .dataframe tbody tr th:only-of-type {\n",
       "        vertical-align: middle;\n",
       "    }\n",
       "\n",
       "    .dataframe tbody tr th {\n",
       "        vertical-align: top;\n",
       "    }\n",
       "\n",
       "    .dataframe thead th {\n",
       "        text-align: right;\n",
       "    }\n",
       "</style>\n",
       "<table border=\"1\" class=\"dataframe\">\n",
       "  <thead>\n",
       "    <tr style=\"text-align: right;\">\n",
       "      <th></th>\n",
       "      <th>key_uno</th>\n",
       "      <th>B</th>\n",
       "      <th>key_dos</th>\n",
       "      <th>A</th>\n",
       "    </tr>\n",
       "  </thead>\n",
       "  <tbody>\n",
       "    <tr>\n",
       "      <th>0</th>\n",
       "      <td>k0</td>\n",
       "      <td>b0</td>\n",
       "      <td>k0</td>\n",
       "      <td>a0</td>\n",
       "    </tr>\n",
       "    <tr>\n",
       "      <th>1</th>\n",
       "      <td>k1</td>\n",
       "      <td>b1</td>\n",
       "      <td>k1</td>\n",
       "      <td>a1</td>\n",
       "    </tr>\n",
       "    <tr>\n",
       "      <th>2</th>\n",
       "      <td>k2</td>\n",
       "      <td>b2</td>\n",
       "      <td>k2</td>\n",
       "      <td>a2</td>\n",
       "    </tr>\n",
       "  </tbody>\n",
       "</table>\n",
       "</div>"
      ],
      "text/plain": [
       "  key_uno   B key_dos   A\n",
       "0      k0  b0      k0  a0\n",
       "1      k1  b1      k1  a1\n",
       "2      k2  b2      k2  a2"
      ]
     },
     "execution_count": 247,
     "metadata": {},
     "output_type": "execute_result"
    }
   ],
   "source": [
    "otro.join(uno, lsuffix='_uno', rsuffix='_dos', how='left')"
   ]
  },
  {
   "cell_type": "code",
   "execution_count": 249,
   "id": "dc9a257e",
   "metadata": {},
   "outputs": [
    {
     "data": {
      "text/plain": [
       "pandas.core.frame.DataFrame"
      ]
     },
     "execution_count": 249,
     "metadata": {},
     "output_type": "execute_result"
    }
   ],
   "source": [
    "type(uno.join(otro, lsuffix='_uno', rsuffix='_dos'))"
   ]
  },
  {
   "cell_type": "markdown",
   "id": "worthy-delicious",
   "metadata": {},
   "source": [
    "## Exportar datos"
   ]
  },
  {
   "cell_type": "code",
   "execution_count": 248,
   "id": "super-milton",
   "metadata": {},
   "outputs": [],
   "source": [
    "otro.to_csv('../datasets/pandas_m,erge.csv')"
   ]
  },
  {
   "cell_type": "markdown",
   "id": "unlimited-nelson",
   "metadata": {},
   "source": [
    "## Métodos habituales de pandas\n",
    "```python\n",
    "df.head()                     # printea la cabeza, por defecto 5 filas\n",
    "df.tail()                     # pritea la cola, por defecto 5 filas\n",
    "df.describe()                 # descripcion estadistica\n",
    "df.info()                     # informacion del df\n",
    "df.info(memory_usage='deep')\n",
    "df.columns                    # muestra columna\n",
    "df.index                      # muestra indice\n",
    "df.dtypes                     # muestra tipos de datos de las columnas\n",
    "df.plot()                     # hace un grafico\n",
    "df.hist()                     # hace un histograma\n",
    "df.col.value_counts()         # cuenta los valores unicos de una columna\n",
    "df.col.unique()               # muestra valores unicos de una columna\n",
    "df.copy()                     # copia el df\n",
    "df.drop()                     # elimina columnas o filas (axis=0,1)\n",
    "df.dropna()                   # elimina nulos\n",
    "df.fillna()                   # rellena nulos\n",
    "df.shape                      # dimensiones del df\n",
    "df._get_numeric_data()        # selecciona columnas numericas\n",
    "df.rename()                   # renombre columnas\n",
    "df.str.replace()              # reemplaza columnas de strings\n",
    "df.astype(dtype='float32')    # cambia el tipo de dato\n",
    "df.iloc[]                     # localiza por indice\n",
    "df.loc[]                      # localiza por elemento\n",
    "df.transpose()                # transpone el df\n",
    "df.T\n",
    "df.sample(n, frac)            # muestra del df\n",
    "df.col.sum()                  # suma de una columna\n",
    "df.col.max()                  # maximo de una columna\n",
    "df.col.min()                  # minimo de una columna\n",
    "df[col]                       # selecciona columna\n",
    "df.col\n",
    "df.isnull()                   # valores nulos\n",
    "df.isna()\n",
    "df.notna()                    # valores no nulos\n",
    "df.drop_duplicates()          # eliminar duplicados\n",
    "df.reset_index(inplace=True)  # resetea el indice y sobreescribe\n",
    "```"
   ]
  },
  {
   "cell_type": "markdown",
   "id": "extensive-capitol",
   "metadata": {},
   "source": [
    "## Resumen\n",
    "Es tu turno ¿qué hemos aprendido hoy?\n",
    "- * "
   ]
  },
  {
   "cell_type": "markdown",
   "id": "stylish-jefferson",
   "metadata": {},
   "source": [
    "## Further materials\n",
    "\n",
    "* [Read the docs!](https://pandas.pydata.org/pandas-docs/stable/index.html)\n",
    "* [Cheatsheet](https://pandas.pydata.org/Pandas_Cheat_Sheet.pdf)\n",
    "* [Exercises to practice](https://github.com/guipsamora/pandas_exercises)\n",
    "* [More on merge, concat, and join](https://realpython.com/pandas-merge-join-and-concat/#pandas-join-combining-data-on-a-column-or-index). And [even more!](https://pandas.pydata.org/pandas-docs/stable/user_guide/merging.html)\n",
    "* [Materials by a friend of a friend Juan Huguet](https://github.com/juanhuguetgarcia/uib-aa-g1-material/tree/master/W1%20-%20Intro%20to%20python%20y%20pandas) "
   ]
  }
 ],
 "metadata": {
  "kernelspec": {
   "display_name": "clase",
   "language": "python",
   "name": "clase"
  },
  "language_info": {
   "codemirror_mode": {
    "name": "ipython",
    "version": 3
   },
   "file_extension": ".py",
   "mimetype": "text/x-python",
   "name": "python",
   "nbconvert_exporter": "python",
   "pygments_lexer": "ipython3",
   "version": "3.8.8"
  },
  "toc": {
   "base_numbering": 1,
   "nav_menu": {},
   "number_sections": true,
   "sideBar": true,
   "skip_h1_title": true,
   "title_cell": "Table of Contents",
   "title_sidebar": "Contents",
   "toc_cell": true,
   "toc_position": {
    "height": "calc(100% - 180px)",
    "left": "10px",
    "top": "150px",
    "width": "288px"
   },
   "toc_section_display": true,
   "toc_window_display": false
  },
  "varInspector": {
   "cols": {
    "lenName": 16,
    "lenType": 16,
    "lenVar": 40
   },
   "kernels_config": {
    "python": {
     "delete_cmd_postfix": "",
     "delete_cmd_prefix": "del ",
     "library": "var_list.py",
     "varRefreshCmd": "print(var_dic_list())"
    },
    "r": {
     "delete_cmd_postfix": ") ",
     "delete_cmd_prefix": "rm(",
     "library": "var_list.r",
     "varRefreshCmd": "cat(var_dic_list()) "
    }
   },
   "types_to_exclude": [
    "module",
    "function",
    "builtin_function_or_method",
    "instance",
    "_Feature"
   ],
   "window_display": false
  }
 },
 "nbformat": 4,
 "nbformat_minor": 5
}
