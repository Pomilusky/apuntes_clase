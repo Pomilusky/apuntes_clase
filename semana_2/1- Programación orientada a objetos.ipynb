{
 "cells": [
  {
   "cell_type": "markdown",
   "id": "fewer-verse",
   "metadata": {},
   "source": [
    "# Programación orientada a objetos"
   ]
  },
  {
   "cell_type": "markdown",
   "id": "sustained-decimal",
   "metadata": {},
   "source": [
    "![gif](https://media.giphy.com/media/U3PGvzpsVpAzGdhY6n/giphy.gif)"
   ]
  },
  {
   "cell_type": "markdown",
   "id": "linear-pierre",
   "metadata": {
    "toc": true
   },
   "source": [
    "<h1>Table of Contents<span class=\"tocSkip\"></span></h1>\n",
    "<div class=\"toc\"><ul class=\"toc-item\"><li><span><a href=\"#¿Qué-es-la-OOP---Object-Orient-Programming?\" data-toc-modified-id=\"¿Qué-es-la-OOP---Object-Orient-Programming?-1\"><span class=\"toc-item-num\">1&nbsp;&nbsp;</span>¿Qué es la OOP - Object Orient Programming?</a></span><ul class=\"toc-item\"><li><span><a href=\"#Principios-fundamentales\" data-toc-modified-id=\"Principios-fundamentales-1.1\"><span class=\"toc-item-num\">1.1&nbsp;&nbsp;</span>Principios fundamentales</a></span></li></ul></li><li><span><a href=\"#Clases-e-instancias\" data-toc-modified-id=\"Clases-e-instancias-2\"><span class=\"toc-item-num\">2&nbsp;&nbsp;</span>Clases e instancias</a></span></li><li><span><a href=\"#Definición-de-una-clase\" data-toc-modified-id=\"Definición-de-una-clase-3\"><span class=\"toc-item-num\">3&nbsp;&nbsp;</span>Definición de una clase</a></span><ul class=\"toc-item\"><li><span><a href=\"#Atributos-de-instancia\" data-toc-modified-id=\"Atributos-de-instancia-3.1\"><span class=\"toc-item-num\">3.1&nbsp;&nbsp;</span>Atributos de instancia</a></span><ul class=\"toc-item\"><li><span><a href=\"#Atributos-por-defecto\" data-toc-modified-id=\"Atributos-por-defecto-3.1.1\"><span class=\"toc-item-num\">3.1.1&nbsp;&nbsp;</span>Atributos por defecto</a></span></li></ul></li><li><span><a href=\"#Métodos-de-instancia\" data-toc-modified-id=\"Métodos-de-instancia-3.2\"><span class=\"toc-item-num\">3.2&nbsp;&nbsp;</span>Métodos de instancia</a></span><ul class=\"toc-item\"><li><span><a href=\"#Python-está-construido-con-objetos\" data-toc-modified-id=\"Python-está-construido-con-objetos-3.2.1\"><span class=\"toc-item-num\">3.2.1&nbsp;&nbsp;</span>Python está construido con objetos</a></span></li></ul></li><li><span><a href=\"#Variables-de-clase\" data-toc-modified-id=\"Variables-de-clase-3.3\"><span class=\"toc-item-num\">3.3&nbsp;&nbsp;</span>Variables de clase</a></span></li><li><span><a href=\"#Métodos-que-pueden-modificar-atributos\" data-toc-modified-id=\"Métodos-que-pueden-modificar-atributos-3.4\"><span class=\"toc-item-num\">3.4&nbsp;&nbsp;</span>Métodos que pueden modificar atributos</a></span></li></ul></li><li><span><a href=\"#Antes-de-seguir,-cogemos-aire-y-repasamos-vocabulario\" data-toc-modified-id=\"Antes-de-seguir,-cogemos-aire-y-repasamos-vocabulario-4\"><span class=\"toc-item-num\">4&nbsp;&nbsp;</span>Antes de seguir, cogemos aire y repasamos vocabulario</a></span><ul class=\"toc-item\"><li><ul class=\"toc-item\"><li><span><a href=\"#Ejercicio-fácil\" data-toc-modified-id=\"Ejercicio-fácil-4.0.1\"><span class=\"toc-item-num\">4.0.1&nbsp;&nbsp;</span>Ejercicio fácil</a></span></li></ul></li></ul></li><li><span><a href=\"#Herencia-(Inheritance)\" data-toc-modified-id=\"Herencia-(Inheritance)-5\"><span class=\"toc-item-num\">5&nbsp;&nbsp;</span>Herencia (Inheritance)</a></span><ul class=\"toc-item\"><li><span><a href=\"#super()\" data-toc-modified-id=\"super()-5.1\"><span class=\"toc-item-num\">5.1&nbsp;&nbsp;</span>super()</a></span></li><li><span><a href=\"#Resolución-de-métodos\" data-toc-modified-id=\"Resolución-de-métodos-5.2\"><span class=\"toc-item-num\">5.2&nbsp;&nbsp;</span>Resolución de métodos</a></span></li></ul></li><li><span><a href=\"#Resumen\" data-toc-modified-id=\"Resumen-6\"><span class=\"toc-item-num\">6&nbsp;&nbsp;</span>Resumen</a></span></li><li><span><a href=\"#Further-materials\" data-toc-modified-id=\"Further-materials-7\"><span class=\"toc-item-num\">7&nbsp;&nbsp;</span>Further materials</a></span><ul class=\"toc-item\"><li><span><a href=\"#Métodos-AVANZADOS-@classmethod-@staticmethod\" data-toc-modified-id=\"Métodos-AVANZADOS-@classmethod-@staticmethod-7.1\"><span class=\"toc-item-num\">7.1&nbsp;&nbsp;</span>Métodos <strong>AVANZADOS</strong> @classmethod @staticmethod</a></span></li></ul></li></ul></div>"
   ]
  },
  {
   "cell_type": "markdown",
   "id": "static-nancy",
   "metadata": {},
   "source": [
    "## ¿Qué es la OOP - Object Orient Programming?"
   ]
  },
  {
   "cell_type": "markdown",
   "id": "handy-cleaners",
   "metadata": {},
   "source": [
    "La programación orientada a objetos es un paradigma de programación, es decir, un estilo y técnica de programación, que va más allá de la propia implementación. Este paradigma se fundamenta en el concepto \"objeto\", el cual puede contener tanto datos, bajo la forma de campos denominados \"atributos\", como código para su manipulación bajo la forma de procedimientos y funciones, denominados \"métodos\". Gracias a esto, podemos agruparlo todo bajo un solo tipo de dato (la \"clase\" de objeto), lo cual facilita la modularidad y la reusabilidad del código.    \n",
    "Esto tiene una fuerte implicación en el diseño de soluciones informáticas; metodologías de ingeniería del software están basadas en la programación orientada a objetos."
   ]
  },
  {
   "cell_type": "markdown",
   "id": "instructional-scotland",
   "metadata": {},
   "source": [
    "Podéis imaginaros los objetos como un nuevo tipo de dato cuya definición viene dada en una estructura llamada clase.\n",
    "Se suelen comparar las clases con moldes de galletas y los objetos con las galletas en sí mismas. Si bien todas las galletas que se hacen con el mismo molde tienen la misma forma, cada una adquiere atributos individuales después del horneado. Cosas como el color, la textura, el sabor... pueden llegar a ser muy distintas.\n",
    "En otras palabras, las galletas comparten un proceso de fabricación y unos atributos, pero son independientes entre ellas y del propio molde y eso hace que cada una sea única.\n",
    "Extrapolando el ejemplo, una clase es sólo un guión sobre como deben ser los objetos que se crearán con ella."
   ]
  },
  {
   "cell_type": "markdown",
   "id": "fallen-brazil",
   "metadata": {},
   "source": [
    "![clases](https://files.realpython.com/media/Object-Oriented-Programming-OOP-in-Python-3_Watermarked.0d29780806d5.jpg)"
   ]
  },
  {
   "cell_type": "markdown",
   "id": "binary-treasury",
   "metadata": {},
   "source": [
    "### Principios fundamentales "
   ]
  },
  {
   "cell_type": "markdown",
   "id": "secondary-arena",
   "metadata": {},
   "source": [
    "   1 - **Abstracción de datos**: Algo que hacemos de forma natural en nuestra comprensión del mundo es la abstracción de información concreta en conceptos o clases. Por ejemplo, el concepto de \"coche\" nos evoca una idea de vehículo con cuatro ruedass, volante, motor....Nuestro coche es una \"instancia\" concreta de ese concepto, y diferente a otros coches, pero somos capaces de asociar determinadas propiedades o característiicas a dicho concepto por encima de detalles específicos. Esta capacidad de abstraer un concepto es fundamental para el desarrollo del lenguaje humano y, por supuesto, tan buena idea ha sido trasladada al mundo de la programación. En POO (OOP), denominamos \"clase\" al concepto abstracto y \"objeto\" a la realización de dicho concepto. Tu coche es concreto, puedes conducirlo, es un objeto, una \"instancia\" de la clase \"coche\".     \n",
    "   \n",
    "   2 - **Encapsulación**: Cada tipo de objeto contiene una información propia y puede ser manipulado de una forma particular. Un coche se puede conducir y tiene una presión determinada aen las ruedas, un color, un nivel concreto de gasolina, etc. Con un GPS podemos obtener nuestras coordenadas de posición y las baterías tendrán una carga determinada. Un perro ladra, tiene un peso, una edad. Todos esos atributos y \"métodos\" quedan \"encapsulados\" dentro del objeto, y son accesibles solo a través de un objeto determinado. La ventaja es que no necesitamos tener, por ejemplo, una lista con nombres, otra con edades, otra con pesos...sino una lista de objetos y cada uno encierra, es decir, encapsula, su propia información.     \n",
    "   \n",
    "   3 - **Herencia**: Algunas clases pueden especializar a otras. Para esto, la clase especializada \"hereda\" las propiedades de l clase más general, denominada \"superclase\". Por ejemplo, las clases \"Coche\" y \"Camión\" pueden heredar de la clase \"Vehículo\". Esto es una forma de reutilizar el código, al poder asumir aquellas propiedades comunes entre varias clases en una clase superior. Python soporta \"herencia múltiple\", por lo que una clase puede definirse como subclase de varias clases de las que heredaría todas sus propiedades (atributos y métodos) a la vez.    \n",
    "   \n",
    "   4 - **Poliformismo**: Un cuadrado puede dibujarse, un círculo también, como puede dibujarse cualquier otra forma. \"Cuadrado\" y \"Círculo\" serían subclases de \"Forma\". La superclase \"Forma\" implementa un método dibujar(), y tanto la subclase \"Cuadrado\" como la subclase \"Círculo\" redefinen este método a su caso particular. Así una función podría aceptar como parámetro un objeto de tipo \"Forma\" e invocar el método dibujar() sin saber si el argumento pasado es un círculo o un cuadrado. Cada objeto conoce su nivel de especialización y la implementación concreta de sus métodos. Esta capacidad de usar métodos de superclase en el código pero que, en tiempo de ejecución, se resuelvan a métodos de subclases, se denomina \"Poliformismo\": una misma variable puede adoptar distintas formas."
   ]
  },
  {
   "cell_type": "markdown",
   "id": "proof-impact",
   "metadata": {},
   "source": [
    "## Clases e instancias"
   ]
  },
  {
   "cell_type": "markdown",
   "id": "manufactured-template",
   "metadata": {},
   "source": [
    "Una clase es como un tipo abstracto para alos objetos que, además de almacenar valores denominados atributos, tiene asociados una serie de funciones que llamamos métodos. Una instancia de una clase es lo mismo que decir un objeto de esa clase. Instanciar una clase hace referencia a la creación de un objeto que pertenece a esa clase.\n",
    "En Python, los tipos de datos son clases y cualquier literal o variable de alguno de estos tipos es un objeto que instancia a la clase del tipo. Por ejemplo: a = 2222 equivale a instanciar la clase PyLongObject asignando a un atributo interno el valor 2222. Esto es lo que ocurre a bajo nivel, pero nosotras podemos considerar que la variable a es del tipo int. Podemos conocer el tipo de cualquier variable, es decir, la clase que instancia, con la función type(), y el identificador del objeto instanciado con la función id()."
   ]
  },
  {
   "cell_type": "code",
   "execution_count": 2,
   "id": "incredible-sample",
   "metadata": {},
   "outputs": [
    {
     "data": {
      "text/plain": [
       "(int, 4331625824)"
      ]
     },
     "execution_count": 2,
     "metadata": {},
     "output_type": "execute_result"
    }
   ],
   "source": [
    "a = 33\n",
    "type(a), id(a)"
   ]
  },
  {
   "cell_type": "code",
   "execution_count": 3,
   "id": "dutch-baking",
   "metadata": {},
   "outputs": [],
   "source": [
    "hola = \"hola\""
   ]
  },
  {
   "cell_type": "code",
   "execution_count": null,
   "id": "absent-yorkshire",
   "metadata": {},
   "outputs": [],
   "source": [
    "hola.upper()"
   ]
  },
  {
   "cell_type": "code",
   "execution_count": 5,
   "id": "aba42969",
   "metadata": {},
   "outputs": [],
   "source": [
    "lista = [1,2,3]"
   ]
  },
  {
   "cell_type": "code",
   "execution_count": 7,
   "id": "ca87f316",
   "metadata": {},
   "outputs": [],
   "source": [
    "lista.reverse()"
   ]
  },
  {
   "cell_type": "markdown",
   "id": "acceptable-building",
   "metadata": {},
   "source": [
    "Para conocer todos los métodos y atributos de una clase podemos usar la función dir() tanto sobre un objeto como sobre la clase."
   ]
  },
  {
   "cell_type": "code",
   "execution_count": 8,
   "id": "forbidden-teacher",
   "metadata": {},
   "outputs": [
    {
     "data": {
      "text/plain": [
       "['__add__',\n",
       " '__class__',\n",
       " '__contains__',\n",
       " '__delattr__',\n",
       " '__dir__',\n",
       " '__doc__',\n",
       " '__eq__',\n",
       " '__format__',\n",
       " '__ge__',\n",
       " '__getattribute__',\n",
       " '__getitem__',\n",
       " '__getnewargs__',\n",
       " '__gt__',\n",
       " '__hash__',\n",
       " '__init__',\n",
       " '__init_subclass__',\n",
       " '__iter__',\n",
       " '__le__',\n",
       " '__len__',\n",
       " '__lt__',\n",
       " '__mod__',\n",
       " '__mul__',\n",
       " '__ne__',\n",
       " '__new__',\n",
       " '__reduce__',\n",
       " '__reduce_ex__',\n",
       " '__repr__',\n",
       " '__rmod__',\n",
       " '__rmul__',\n",
       " '__setattr__',\n",
       " '__sizeof__',\n",
       " '__str__',\n",
       " '__subclasshook__',\n",
       " 'capitalize',\n",
       " 'casefold',\n",
       " 'center',\n",
       " 'count',\n",
       " 'encode',\n",
       " 'endswith',\n",
       " 'expandtabs',\n",
       " 'find',\n",
       " 'format',\n",
       " 'format_map',\n",
       " 'index',\n",
       " 'isalnum',\n",
       " 'isalpha',\n",
       " 'isascii',\n",
       " 'isdecimal',\n",
       " 'isdigit',\n",
       " 'isidentifier',\n",
       " 'islower',\n",
       " 'isnumeric',\n",
       " 'isprintable',\n",
       " 'isspace',\n",
       " 'istitle',\n",
       " 'isupper',\n",
       " 'join',\n",
       " 'ljust',\n",
       " 'lower',\n",
       " 'lstrip',\n",
       " 'maketrans',\n",
       " 'partition',\n",
       " 'replace',\n",
       " 'rfind',\n",
       " 'rindex',\n",
       " 'rjust',\n",
       " 'rpartition',\n",
       " 'rsplit',\n",
       " 'rstrip',\n",
       " 'split',\n",
       " 'splitlines',\n",
       " 'startswith',\n",
       " 'strip',\n",
       " 'swapcase',\n",
       " 'title',\n",
       " 'translate',\n",
       " 'upper',\n",
       " 'zfill']"
      ]
     },
     "execution_count": 8,
     "metadata": {},
     "output_type": "execute_result"
    }
   ],
   "source": [
    "dir(hola)"
   ]
  },
  {
   "cell_type": "markdown",
   "id": "joint-cedar",
   "metadata": {},
   "source": [
    "## Definición de una clase "
   ]
  },
  {
   "cell_type": "markdown",
   "id": "cosmetic-seven",
   "metadata": {},
   "source": [
    "Podemos definir nuestras propias clases e indicar si heredan de otras, cuáles son sus atributos internos y cuáles son sus métodos. Una vez definida la clase, es posible crear objetos a partir de esta. Para crear una clase basta con agrupar atributos y métodos en el cuerpo de un bloque **class**.    \n",
    "Imagina que creas un sofwtare para gestionar una escuela, y quieres representar a los \"profesores\" en tu código Python. Los profesores tendrán algunos datos asociados (`atributos` en la jerga `clase`), y podrán *realizar acciones* a través de funciones que llamaremos `métodos` (de nuevo, jerga `clase`).\n",
    "\n",
    "Podríamos hacerlo de uno en uno:"
   ]
  },
  {
   "cell_type": "code",
   "execution_count": 10,
   "id": "objective-rochester",
   "metadata": {},
   "outputs": [],
   "source": [
    "# Diccionario \n",
    "instructor_sonia = {\"nombre\": \"Sonia\",\n",
    "         \"apellido\": \"Fominaya\",\n",
    "         \"email\": \"s.fominaya@ironhack.com\",\n",
    "         \"vacaciones\": 20,\n",
    "         \"saludo\": lambda: print(\"Hola buenos días, llegad puntuales por favor o tiraréis la ruleta\")\n",
    "}\n",
    "\n",
    "# Gracias pero no...."
   ]
  },
  {
   "cell_type": "code",
   "execution_count": 11,
   "id": "ongoing-magic",
   "metadata": {},
   "outputs": [
    {
     "data": {
      "text/plain": [
       "dict_keys(['nombre', 'apellido', 'email', 'vacaciones', 'saludo'])"
      ]
     },
     "execution_count": 11,
     "metadata": {},
     "output_type": "execute_result"
    }
   ],
   "source": [
    "instructor_sonia.keys()"
   ]
  },
  {
   "cell_type": "code",
   "execution_count": 12,
   "id": "civil-johnson",
   "metadata": {},
   "outputs": [
    {
     "data": {
      "text/plain": [
       "<function __main__.<lambda>()>"
      ]
     },
     "execution_count": 12,
     "metadata": {},
     "output_type": "execute_result"
    }
   ],
   "source": [
    "# Accedemos al saludo\n",
    "instructor_sonia[\"saludo\"]"
   ]
  },
  {
   "cell_type": "code",
   "execution_count": 14,
   "id": "vertical-potter",
   "metadata": {},
   "outputs": [
    {
     "data": {
      "text/plain": [
       "'s.fominaya@ironhack.com'"
      ]
     },
     "execution_count": 14,
     "metadata": {},
     "output_type": "execute_result"
    }
   ],
   "source": [
    "# Accedemos al e-mail\n",
    "instructor_sonia[\"email\"]"
   ]
  },
  {
   "cell_type": "code",
   "execution_count": 15,
   "id": "unique-count",
   "metadata": {},
   "outputs": [
    {
     "data": {
      "text/plain": [
       "'Fominaya'"
      ]
     },
     "execution_count": 15,
     "metadata": {},
     "output_type": "execute_result"
    }
   ],
   "source": [
    "# Accedemos al apellido\n",
    "instructor_sonia[\"apellido\"]"
   ]
  },
  {
   "cell_type": "markdown",
   "id": "copyrighted-definition",
   "metadata": {},
   "source": [
    "Os dejo [aquí](https://realpython.com/python-pep8/#naming-styles) un artículo de realpython sobre las convenciones para nombrar cosas (con cosas me refiero a variables, clases, funciones...cositas del código)\n",
    "La comunidad de usuarios de Python ha adoptado una guía de estilo que facilita la lectura del código y la consistencia entre programas de distintos usuarios. Esta guía no es de seguimiento obligatorio, pero es altamente recomendable."
   ]
  },
  {
   "cell_type": "code",
   "execution_count": 16,
   "id": "accurate-transcription",
   "metadata": {},
   "outputs": [],
   "source": [
    "# Sintaxis para definir una función\n",
    "def funcion():\n",
    "    pass"
   ]
  },
  {
   "cell_type": "code",
   "execution_count": 17,
   "id": "early-drain",
   "metadata": {},
   "outputs": [],
   "source": [
    "# Sintaxis para definir una clase\n",
    "class Clase():\n",
    "    pass"
   ]
  },
  {
   "cell_type": "code",
   "execution_count": 18,
   "id": "upper-mobility",
   "metadata": {},
   "outputs": [],
   "source": [
    "class Instructor():\n",
    "    pass"
   ]
  },
  {
   "cell_type": "code",
   "execution_count": 20,
   "id": "complimentary-finnish",
   "metadata": {},
   "outputs": [],
   "source": [
    "# Sintanxis para generar las instancias / objetos de la clase\n",
    "sonia = Instructor()"
   ]
  },
  {
   "cell_type": "code",
   "execution_count": 21,
   "id": "settled-faculty",
   "metadata": {},
   "outputs": [
    {
     "data": {
      "text/plain": [
       "<__main__.Instructor at 0x7fbb3c64b0a0>"
      ]
     },
     "execution_count": 21,
     "metadata": {},
     "output_type": "execute_result"
    }
   ],
   "source": [
    "sonia"
   ]
  },
  {
   "cell_type": "code",
   "execution_count": 22,
   "id": "junior-given",
   "metadata": {},
   "outputs": [
    {
     "data": {
      "text/plain": [
       "__main__.Instructor"
      ]
     },
     "execution_count": 22,
     "metadata": {},
     "output_type": "execute_result"
    }
   ],
   "source": [
    "type(sonia)"
   ]
  },
  {
   "cell_type": "code",
   "execution_count": 23,
   "id": "cutting-touch",
   "metadata": {},
   "outputs": [
    {
     "data": {
      "text/plain": [
       "str"
      ]
     },
     "execution_count": 23,
     "metadata": {},
     "output_type": "execute_result"
    }
   ],
   "source": [
    "type(hola)"
   ]
  },
  {
   "cell_type": "code",
   "execution_count": 24,
   "id": "fitted-exchange",
   "metadata": {},
   "outputs": [
    {
     "data": {
      "text/plain": [
       "False"
      ]
     },
     "execution_count": 24,
     "metadata": {},
     "output_type": "execute_result"
    }
   ],
   "source": [
    "isinstance(sonia, Clase)"
   ]
  },
  {
   "cell_type": "code",
   "execution_count": 25,
   "id": "33179298",
   "metadata": {},
   "outputs": [
    {
     "data": {
      "text/plain": [
       "True"
      ]
     },
     "execution_count": 25,
     "metadata": {},
     "output_type": "execute_result"
    }
   ],
   "source": [
    "isinstance(sonia, Instructor)"
   ]
  },
  {
   "cell_type": "markdown",
   "id": "decimal-mission",
   "metadata": {},
   "source": [
    "### Atributos de instancia\n",
    "Contienen datos que son únicos para cada instancia."
   ]
  },
  {
   "cell_type": "code",
   "execution_count": 26,
   "id": "digital-personality",
   "metadata": {},
   "outputs": [
    {
     "data": {
      "text/plain": [
       "<__main__.Instructor at 0x7fbb3c64b0a0>"
      ]
     },
     "execution_count": 26,
     "metadata": {},
     "output_type": "execute_result"
    }
   ],
   "source": [
    "# Podemos asignar atributos a las instanacias, una vez ya definidas de la siguiente manera\n",
    "sonia"
   ]
  },
  {
   "cell_type": "code",
   "execution_count": 28,
   "id": "detected-bahamas",
   "metadata": {},
   "outputs": [],
   "source": [
    "sonia.nombre = \"Sonia\""
   ]
  },
  {
   "cell_type": "code",
   "execution_count": 29,
   "id": "parliamentary-colleague",
   "metadata": {},
   "outputs": [
    {
     "data": {
      "text/plain": [
       "'Sonia'"
      ]
     },
     "execution_count": 29,
     "metadata": {},
     "output_type": "execute_result"
    }
   ],
   "source": [
    "sonia.nombre"
   ]
  },
  {
   "cell_type": "code",
   "execution_count": 30,
   "id": "super-clearing",
   "metadata": {},
   "outputs": [
    {
     "data": {
      "text/plain": [
       "<__main__.Instructor at 0x7fbb3c64b0a0>"
      ]
     },
     "execution_count": 30,
     "metadata": {},
     "output_type": "execute_result"
    }
   ],
   "source": [
    "sonia"
   ]
  },
  {
   "cell_type": "code",
   "execution_count": 31,
   "id": "intended-bread",
   "metadata": {},
   "outputs": [],
   "source": [
    "sonia.edad = 33"
   ]
  },
  {
   "cell_type": "code",
   "execution_count": 32,
   "id": "extra-possible",
   "metadata": {},
   "outputs": [
    {
     "data": {
      "text/plain": [
       "33"
      ]
     },
     "execution_count": 32,
     "metadata": {},
     "output_type": "execute_result"
    }
   ],
   "source": [
    "sonia.edad"
   ]
  },
  {
   "cell_type": "code",
   "execution_count": 33,
   "id": "south-alaska",
   "metadata": {},
   "outputs": [],
   "source": [
    "ras = Instructor()"
   ]
  },
  {
   "cell_type": "code",
   "execution_count": 36,
   "id": "b04fd20b",
   "metadata": {},
   "outputs": [
    {
     "data": {
      "text/plain": [
       "33"
      ]
     },
     "execution_count": 36,
     "metadata": {},
     "output_type": "execute_result"
    }
   ],
   "source": [
    "sonia.edad"
   ]
  },
  {
   "cell_type": "code",
   "execution_count": 37,
   "id": "f711986e",
   "metadata": {},
   "outputs": [],
   "source": [
    "ras.nomber = \"Ras\""
   ]
  },
  {
   "cell_type": "code",
   "execution_count": 40,
   "id": "changed-prophet",
   "metadata": {},
   "outputs": [
    {
     "data": {
      "text/plain": [
       "{'nombre': 'Sonia', 'edad': 33}"
      ]
     },
     "execution_count": 40,
     "metadata": {},
     "output_type": "execute_result"
    }
   ],
   "source": [
    "# Puedo exportar todos los atributos de un objeto de clase utilizando __dict__\n",
    "sonia.__dict__"
   ]
  },
  {
   "cell_type": "code",
   "execution_count": 41,
   "id": "narrative-butter",
   "metadata": {},
   "outputs": [],
   "source": [
    "datos_sonia = sonia.__dict__"
   ]
  },
  {
   "cell_type": "code",
   "execution_count": 42,
   "id": "improving-morrison",
   "metadata": {},
   "outputs": [
    {
     "data": {
      "text/plain": [
       "{'nombre': 'Sonia', 'edad': 33}"
      ]
     },
     "execution_count": 42,
     "metadata": {},
     "output_type": "execute_result"
    }
   ],
   "source": [
    "datos_sonia"
   ]
  },
  {
   "cell_type": "code",
   "execution_count": 43,
   "id": "acquired-building",
   "metadata": {},
   "outputs": [
    {
     "ename": "AttributeError",
     "evalue": "'Instructor' object has no attribute 'nombre'",
     "output_type": "error",
     "traceback": [
      "\u001b[0;31m---------------------------------------------------------------------------\u001b[0m",
      "\u001b[0;31mAttributeError\u001b[0m                            Traceback (most recent call last)",
      "\u001b[0;32m<ipython-input-43-b3f7bfe9d910>\u001b[0m in \u001b[0;36m<module>\u001b[0;34m\u001b[0m\n\u001b[1;32m      1\u001b[0m \u001b[0;31m# Generar los atributos de la instancia así, no deja de ser repetititvo, y además podríamos equivocarnos\u001b[0m\u001b[0;34m\u001b[0m\u001b[0;34m\u001b[0m\u001b[0;34m\u001b[0m\u001b[0m\n\u001b[0;32m----> 2\u001b[0;31m \u001b[0mras\u001b[0m\u001b[0;34m.\u001b[0m\u001b[0mnombre\u001b[0m\u001b[0;34m\u001b[0m\u001b[0;34m\u001b[0m\u001b[0m\n\u001b[0m",
      "\u001b[0;31mAttributeError\u001b[0m: 'Instructor' object has no attribute 'nombre'"
     ]
    }
   ],
   "source": [
    "# Generar los atributos de la instancia así, no deja de ser repetititvo, y además podríamos equivocarnos\n",
    "ras.nombre"
   ]
  },
  {
   "cell_type": "code",
   "execution_count": 44,
   "id": "metropolitan-cowboy",
   "metadata": {},
   "outputs": [
    {
     "data": {
      "text/plain": [
       "'Ras'"
      ]
     },
     "execution_count": 44,
     "metadata": {},
     "output_type": "execute_result"
    }
   ],
   "source": [
    "ras.nomber"
   ]
  },
  {
   "cell_type": "code",
   "execution_count": null,
   "id": "sophisticated-dinner",
   "metadata": {},
   "outputs": [],
   "source": [
    "# Ejemplos"
   ]
  },
  {
   "cell_type": "code",
   "execution_count": 45,
   "id": "healthy-receiver",
   "metadata": {},
   "outputs": [],
   "source": [
    "juncal = Instructor()"
   ]
  },
  {
   "cell_type": "code",
   "execution_count": 46,
   "id": "ecological-demographic",
   "metadata": {},
   "outputs": [],
   "source": [
    "juncal.nombre = \"Juncal\""
   ]
  },
  {
   "cell_type": "code",
   "execution_count": 47,
   "id": "enclosed-intent",
   "metadata": {},
   "outputs": [
    {
     "data": {
      "text/plain": [
       "'Juncal'"
      ]
     },
     "execution_count": 47,
     "metadata": {},
     "output_type": "execute_result"
    }
   ],
   "source": [
    "juncal.nombre"
   ]
  },
  {
   "cell_type": "code",
   "execution_count": null,
   "id": "840a82fa",
   "metadata": {},
   "outputs": [],
   "source": [
    "juncal.nombre()"
   ]
  },
  {
   "cell_type": "markdown",
   "id": "narrative-inspection",
   "metadata": {},
   "source": [
    "En lugar de hacerlo uno por uno, podemos crear estas variables cada vez que se crea una instancia de un objeto con el método especial `__init__`.  Esta función define todas las acciones que deben realizarse cuando creamos un nuevo objeto. La razón por la que tenemos dos guiones bajos antes y después del nombre de la función es para indicar que esta función es interna al objeto y no debe ser llamada desde fuera del objeto.\n",
    "\n",
    "El método `__init__` recibe la instancia como primer argumento --- `fer` en el ejemplo anterior. Por convención, llamamos a ese argumento `self`, pero podría ser cualquier cosa. "
   ]
  },
  {
   "cell_type": "code",
   "execution_count": 48,
   "id": "decent-wireless",
   "metadata": {},
   "outputs": [],
   "source": [
    "class Instructor():\n",
    "    \n",
    "    def __init__(self, name, surname, holidays):\n",
    "        \"\"\"\n",
    "        El método init nos va a servir para inicializar los atributos del objeto/instancia\n",
    "        \"\"\"\n",
    "        self.nombre = name\n",
    "        self.apellido = surname\n",
    "        self.vacaciones = holidays"
   ]
  },
  {
   "cell_type": "code",
   "execution_count": 49,
   "id": "filled-screen",
   "metadata": {},
   "outputs": [],
   "source": [
    "sonia = Instructor(\"Sonia\", \"Fominaya\", 20)\n",
    "ana = Instructor(\"Ana\", \"García\", 20)"
   ]
  },
  {
   "cell_type": "code",
   "execution_count": 50,
   "id": "detected-queen",
   "metadata": {},
   "outputs": [
    {
     "data": {
      "text/plain": [
       "'Sonia'"
      ]
     },
     "execution_count": 50,
     "metadata": {},
     "output_type": "execute_result"
    }
   ],
   "source": [
    "sonia.nombre"
   ]
  },
  {
   "cell_type": "code",
   "execution_count": 51,
   "id": "operating-brain",
   "metadata": {},
   "outputs": [
    {
     "data": {
      "text/plain": [
       "20"
      ]
     },
     "execution_count": 51,
     "metadata": {},
     "output_type": "execute_result"
    }
   ],
   "source": [
    "sonia.vacaciones"
   ]
  },
  {
   "cell_type": "code",
   "execution_count": 52,
   "id": "identified-beatles",
   "metadata": {},
   "outputs": [
    {
     "data": {
      "text/plain": [
       "'Fominaya'"
      ]
     },
     "execution_count": 52,
     "metadata": {},
     "output_type": "execute_result"
    }
   ],
   "source": [
    "sonia.apellido"
   ]
  },
  {
   "cell_type": "code",
   "execution_count": 53,
   "id": "fatty-relaxation",
   "metadata": {},
   "outputs": [
    {
     "data": {
      "text/plain": [
       "'Ana'"
      ]
     },
     "execution_count": 53,
     "metadata": {},
     "output_type": "execute_result"
    }
   ],
   "source": [
    "ana.nombre"
   ]
  },
  {
   "cell_type": "code",
   "execution_count": 54,
   "id": "27d8074a",
   "metadata": {},
   "outputs": [
    {
     "data": {
      "text/plain": [
       "'García'"
      ]
     },
     "execution_count": 54,
     "metadata": {},
     "output_type": "execute_result"
    }
   ],
   "source": [
    "ana.apellido"
   ]
  },
  {
   "cell_type": "code",
   "execution_count": 55,
   "id": "f8c3d645",
   "metadata": {},
   "outputs": [
    {
     "data": {
      "text/plain": [
       "20"
      ]
     },
     "execution_count": 55,
     "metadata": {},
     "output_type": "execute_result"
    }
   ],
   "source": [
    "ana.vacaciones"
   ]
  },
  {
   "cell_type": "code",
   "execution_count": 56,
   "id": "c14d17e9",
   "metadata": {},
   "outputs": [
    {
     "ename": "TypeError",
     "evalue": "__init__() missing 2 required positional arguments: 'surname' and 'holidays'",
     "output_type": "error",
     "traceback": [
      "\u001b[0;31m---------------------------------------------------------------------------\u001b[0m",
      "\u001b[0;31mTypeError\u001b[0m                                 Traceback (most recent call last)",
      "\u001b[0;32m<ipython-input-56-24a385d0a362>\u001b[0m in \u001b[0;36m<module>\u001b[0;34m\u001b[0m\n\u001b[0;32m----> 1\u001b[0;31m \u001b[0mras\u001b[0m \u001b[0;34m=\u001b[0m \u001b[0mInstructor\u001b[0m\u001b[0;34m(\u001b[0m\u001b[0;34m\"Ras\"\u001b[0m\u001b[0;34m)\u001b[0m\u001b[0;34m\u001b[0m\u001b[0;34m\u001b[0m\u001b[0m\n\u001b[0m",
      "\u001b[0;31mTypeError\u001b[0m: __init__() missing 2 required positional arguments: 'surname' and 'holidays'"
     ]
    }
   ],
   "source": [
    "ras = Instructor(\"Ras\")"
   ]
  },
  {
   "cell_type": "code",
   "execution_count": 58,
   "id": "3778805c",
   "metadata": {},
   "outputs": [
    {
     "data": {
      "text/plain": [
       "{'nombre': 'Ana', 'apellido': 'García', 'vacaciones': 20}"
      ]
     },
     "execution_count": 58,
     "metadata": {},
     "output_type": "execute_result"
    }
   ],
   "source": [
    "ana.__dict__"
   ]
  },
  {
   "cell_type": "code",
   "execution_count": 59,
   "id": "0a89c1f2",
   "metadata": {},
   "outputs": [],
   "source": [
    "ana.ciudad = \"Madrid\""
   ]
  },
  {
   "cell_type": "code",
   "execution_count": 60,
   "id": "proved-amendment",
   "metadata": {},
   "outputs": [
    {
     "data": {
      "text/plain": [
       "'Madrid'"
      ]
     },
     "execution_count": 60,
     "metadata": {},
     "output_type": "execute_result"
    }
   ],
   "source": [
    "# Aquí le hemos añadido un nuevo atributo para ver que aunque el constructor guarda unos, puedo seguir añadiendo\n",
    "ana.ciudad"
   ]
  },
  {
   "cell_type": "code",
   "execution_count": 61,
   "id": "ambient-upgrade",
   "metadata": {},
   "outputs": [
    {
     "ename": "AttributeError",
     "evalue": "'Instructor' object has no attribute 'ciudad'",
     "output_type": "error",
     "traceback": [
      "\u001b[0;31m---------------------------------------------------------------------------\u001b[0m",
      "\u001b[0;31mAttributeError\u001b[0m                            Traceback (most recent call last)",
      "\u001b[0;32m<ipython-input-61-d17c5a23cb42>\u001b[0m in \u001b[0;36m<module>\u001b[0;34m\u001b[0m\n\u001b[0;32m----> 1\u001b[0;31m \u001b[0msonia\u001b[0m\u001b[0;34m.\u001b[0m\u001b[0mciudad\u001b[0m\u001b[0;34m\u001b[0m\u001b[0;34m\u001b[0m\u001b[0m\n\u001b[0m",
      "\u001b[0;31mAttributeError\u001b[0m: 'Instructor' object has no attribute 'ciudad'"
     ]
    }
   ],
   "source": [
    "sonia.ciudad"
   ]
  },
  {
   "cell_type": "code",
   "execution_count": 62,
   "id": "heard-mouth",
   "metadata": {},
   "outputs": [],
   "source": [
    "pepe = Instructor(\"Pepe\", \"Hola\", [15,15,15,15,1456,357,3567])"
   ]
  },
  {
   "cell_type": "code",
   "execution_count": 63,
   "id": "outstanding-behalf",
   "metadata": {},
   "outputs": [
    {
     "data": {
      "text/plain": [
       "{'nombre': 'Pepe',\n",
       " 'apellido': 'Hola',\n",
       " 'vacaciones': [15, 15, 15, 15, 1456, 357, 3567]}"
      ]
     },
     "execution_count": 63,
     "metadata": {},
     "output_type": "execute_result"
    }
   ],
   "source": [
    "pepe.__dict__"
   ]
  },
  {
   "cell_type": "code",
   "execution_count": 65,
   "id": "15aacea8",
   "metadata": {},
   "outputs": [
    {
     "data": {
      "text/plain": [
       "{'nombre': 'Sonia', 'apellido': 'Fominaya', 'vacaciones': 20}"
      ]
     },
     "execution_count": 65,
     "metadata": {},
     "output_type": "execute_result"
    }
   ],
   "source": [
    "sonia.__dict__"
   ]
  },
  {
   "cell_type": "code",
   "execution_count": 66,
   "id": "rapid-private",
   "metadata": {},
   "outputs": [
    {
     "data": {
      "text/plain": [
       "['apellido', 'nombre', 'vacaciones']"
      ]
     },
     "execution_count": 66,
     "metadata": {},
     "output_type": "execute_result"
    }
   ],
   "source": [
    "## Para ver los atributos así mono en una lista\n",
    "[elemento for elemento in dir(sonia) if \"__\" not in elemento]"
   ]
  },
  {
   "cell_type": "code",
   "execution_count": 68,
   "id": "d4f8ec0e",
   "metadata": {},
   "outputs": [],
   "source": [
    "#dir(sonia)"
   ]
  },
  {
   "cell_type": "markdown",
   "id": "hindu-calcium",
   "metadata": {},
   "source": [
    "¿Qué hace self? Indica que los datos que estamos metiendo son para el objeto que estamos creando, es exactamente igual que cuando al principio hacíamaos ana.nombre = nombre "
   ]
  },
  {
   "cell_type": "markdown",
   "id": "activated-economy",
   "metadata": {},
   "source": [
    "#### Atributos por defecto\n",
    "\n",
    "Podemos inicializar los atributos con un valor por defecto por si luego, a la hora de crear las instancias, el usuario o nosotras mismas no ponemos nada en alguno de los atributos"
   ]
  },
  {
   "cell_type": "code",
   "execution_count": 71,
   "id": "spatial-melissa",
   "metadata": {},
   "outputs": [],
   "source": [
    "class Instructor():\n",
    "    \n",
    "    def __init__(self, name, surname, holidays= 24):\n",
    "        \"\"\"\n",
    "        El método init nos va a servir para inicializar los atributos del objeto/instancia\n",
    "        \"\"\"\n",
    "        self.nombre = name\n",
    "        self.apellido = surname\n",
    "        self.vacaciones = holidays\n",
    "        "
   ]
  },
  {
   "cell_type": "code",
   "execution_count": 70,
   "id": "thirty-arcade",
   "metadata": {},
   "outputs": [
    {
     "data": {
      "text/plain": [
       "{'nombre': 'Sonia', 'apellido': 'Fominaya', 'vacaciones': 20}"
      ]
     },
     "execution_count": 70,
     "metadata": {},
     "output_type": "execute_result"
    }
   ],
   "source": [
    "sonia.__dict__"
   ]
  },
  {
   "cell_type": "code",
   "execution_count": 72,
   "id": "protective-violin",
   "metadata": {},
   "outputs": [],
   "source": [
    "sonia = Instructor(\"Sonia\", \"Fominaya\")"
   ]
  },
  {
   "cell_type": "code",
   "execution_count": 73,
   "id": "cc9451ef",
   "metadata": {},
   "outputs": [
    {
     "data": {
      "text/plain": [
       "24"
      ]
     },
     "execution_count": 73,
     "metadata": {},
     "output_type": "execute_result"
    }
   ],
   "source": [
    "sonia.vacaciones"
   ]
  },
  {
   "cell_type": "code",
   "execution_count": 74,
   "id": "jewish-quest",
   "metadata": {},
   "outputs": [],
   "source": [
    "ana = Instructor(\"Ana\", \"García\", 20)"
   ]
  },
  {
   "cell_type": "code",
   "execution_count": 75,
   "id": "level-nancy",
   "metadata": {},
   "outputs": [
    {
     "data": {
      "text/plain": [
       "20"
      ]
     },
     "execution_count": 75,
     "metadata": {},
     "output_type": "execute_result"
    }
   ],
   "source": [
    "ana.vacaciones"
   ]
  },
  {
   "cell_type": "code",
   "execution_count": 76,
   "id": "young-middle",
   "metadata": {},
   "outputs": [],
   "source": [
    "instructor_0001 = Instructor(\"Ana\", \"García\", 20)"
   ]
  },
  {
   "cell_type": "markdown",
   "id": "coated-convenience",
   "metadata": {},
   "source": [
    "### Métodos de instancia "
   ]
  },
  {
   "cell_type": "markdown",
   "id": "divided-priest",
   "metadata": {},
   "source": [
    "Son funciones dentro de las clases que nos ahorrarán mucho tiempo"
   ]
  },
  {
   "cell_type": "code",
   "execution_count": 77,
   "id": "convenient-monitor",
   "metadata": {},
   "outputs": [
    {
     "name": "stdout",
     "output_type": "stream",
     "text": [
      "Hola, soy Sonia Fominaya y llego puntual\n"
     ]
    }
   ],
   "source": [
    "print(f\"Hola, soy {sonia.nombre} {sonia.apellido} y llego puntual\")"
   ]
  },
  {
   "cell_type": "code",
   "execution_count": 78,
   "id": "curious-detroit",
   "metadata": {},
   "outputs": [],
   "source": [
    "# función que saluda\n",
    "def funcion_saluda(nombre, apellido):\n",
    "    print(f\"Hola soy {nombre} {apellido} y llego puntual\")"
   ]
  },
  {
   "cell_type": "code",
   "execution_count": 79,
   "id": "hazardous-belly",
   "metadata": {},
   "outputs": [
    {
     "name": "stdout",
     "output_type": "stream",
     "text": [
      "Hola soy Ras Corell y llego puntual\n"
     ]
    }
   ],
   "source": [
    "# llamamos a la función con dos argumentos\n",
    "funcion_saluda(\"Ras\", \"Corell\")"
   ]
  },
  {
   "cell_type": "code",
   "execution_count": 82,
   "id": "figured-briefs",
   "metadata": {},
   "outputs": [],
   "source": [
    "class Instructor():\n",
    "    \n",
    "    def __init__(self, name, surname, holidays= 24):\n",
    "        \"\"\"\n",
    "        El método init nos va a servir para inicializar los atributos del objeto/instancia\n",
    "        \"\"\"\n",
    "        self.nombre = name\n",
    "        self.apellido = surname\n",
    "        self.vacaciones = holidays\n",
    "        \n",
    "    def saludo(self):\n",
    "        print(f\"Hola soy {self.nombre} {self.apellido} y llego puntual\")"
   ]
  },
  {
   "cell_type": "markdown",
   "id": "simple-sodium",
   "metadata": {},
   "source": [
    "**Ojo**     👀        \n",
    "Si modificamos una clase y añadimos atributos o métodos, tenemos que volver a crear el objeto para que se inicialice con esos atributos y tenga esos métodos."
   ]
  },
  {
   "cell_type": "code",
   "execution_count": 83,
   "id": "swedish-article",
   "metadata": {},
   "outputs": [],
   "source": [
    "# Lo tengo que volver a crear :) \n",
    "sonia = Instructor(\"Sonia\", \"Fominaya\", 20)\n",
    "ana = Instructor(\"Ana\", \"García\", 20)\n",
    "ras = Instructor(\"Ras\", \"Corell\", 20)"
   ]
  },
  {
   "cell_type": "code",
   "execution_count": 85,
   "id": "challenging-wrapping",
   "metadata": {},
   "outputs": [
    {
     "name": "stdout",
     "output_type": "stream",
     "text": [
      "Hola soy Sonia Fominaya y llego puntual\n"
     ]
    }
   ],
   "source": [
    "sonia.saludo()"
   ]
  },
  {
   "cell_type": "code",
   "execution_count": 86,
   "id": "exotic-moldova",
   "metadata": {},
   "outputs": [
    {
     "name": "stdout",
     "output_type": "stream",
     "text": [
      "Hola soy Ras Corell y llego puntual\n"
     ]
    }
   ],
   "source": [
    "ras.saludo()"
   ]
  },
  {
   "cell_type": "code",
   "execution_count": 90,
   "id": "confidential-bowling",
   "metadata": {},
   "outputs": [],
   "source": [
    "class Instructor():\n",
    "    \n",
    "    def __init__(self, name, surname, holidays= 24):\n",
    "        \"\"\"\n",
    "        El método init nos va a servir para inicializar los atributos del objeto/instancia\n",
    "        \"\"\"\n",
    "        self.nombre = name\n",
    "        self.apellido = surname\n",
    "        self.vacaciones = holidays\n",
    "        # MAIL es un atributo que bebe de otros atributos del objeto\n",
    "        self.email = self.nombre.lower() + \".\" + self.apellido.lower() + \"@ironhack.com\"\n",
    "        \n",
    "    def saludo(self):\n",
    "        print(f\"Hola soy {self.nombre} {self.apellido} y llego puntual\")"
   ]
  },
  {
   "cell_type": "code",
   "execution_count": 91,
   "id": "quick-investigator",
   "metadata": {},
   "outputs": [],
   "source": [
    "# Lo tengo que volver a crear :) \n",
    "sonia = Instructor(\"Sonia\", \"Fominaya\", 20)\n",
    "ana = Instructor(\"Ana\", \"García\", 20)\n",
    "ras = Instructor(\"Ras\", \"Corell\", 20)"
   ]
  },
  {
   "cell_type": "code",
   "execution_count": 92,
   "id": "interstate-imagination",
   "metadata": {},
   "outputs": [
    {
     "data": {
      "text/plain": [
       "'sonia.fominaya@ironhack.com'"
      ]
     },
     "execution_count": 92,
     "metadata": {},
     "output_type": "execute_result"
    }
   ],
   "source": [
    "sonia.email"
   ]
  },
  {
   "cell_type": "code",
   "execution_count": 98,
   "id": "cubic-system",
   "metadata": {},
   "outputs": [],
   "source": [
    "class Instructor():\n",
    "    \n",
    "    def __init__(self, name, surname, holidays= 24):\n",
    "        \"\"\"\n",
    "        El método init nos va a servir para inicializar los atributos del objeto/instancia\n",
    "        \"\"\"\n",
    "        self.nombre = name\n",
    "        self.apellido = surname\n",
    "        self.vacaciones = holidays\n",
    "        # MAIL es un atributo que bebe de otros atributos del objeto\n",
    "        self.email = self.nombre.lower() + \".\" + self.apellido.lower() + \"@ironhack.com\"\n",
    "        \n",
    "    def saludo(self):\n",
    "        print(f\"Hola soy {self.nombre} {self.apellido} y llego puntual\")\n",
    "        \n",
    "    def creardireccion(self, address):\n",
    "        self.direccion = address\n",
    "        \n",
    "    def cambiarapellidos(self,nuevoapellido):\n",
    "        self.apellido = nuevoapellido\n",
    "        self.email = self.nombre.lower() + \".\" + self.apellido.lower() + \"@ironhack.com\""
   ]
  },
  {
   "cell_type": "code",
   "execution_count": 103,
   "id": "mental-attitude",
   "metadata": {},
   "outputs": [],
   "source": [
    "sonia = Instructor(\"Sonia\", \"Fominaya\", 20)\n",
    "ana = Instructor(\"Ana\", \"García\", 20)\n",
    "ras = Instructor(\"Ras\", \"Corel\", 20)"
   ]
  },
  {
   "cell_type": "code",
   "execution_count": 104,
   "id": "capable-shift",
   "metadata": {},
   "outputs": [
    {
     "ename": "AttributeError",
     "evalue": "'Instructor' object has no attribute 'direccion'",
     "output_type": "error",
     "traceback": [
      "\u001b[0;31m---------------------------------------------------------------------------\u001b[0m",
      "\u001b[0;31mAttributeError\u001b[0m                            Traceback (most recent call last)",
      "\u001b[0;32m<ipython-input-104-420599b8eee7>\u001b[0m in \u001b[0;36m<module>\u001b[0;34m\u001b[0m\n\u001b[0;32m----> 1\u001b[0;31m \u001b[0mras\u001b[0m\u001b[0;34m.\u001b[0m\u001b[0mdireccion\u001b[0m\u001b[0;34m\u001b[0m\u001b[0;34m\u001b[0m\u001b[0m\n\u001b[0m",
      "\u001b[0;31mAttributeError\u001b[0m: 'Instructor' object has no attribute 'direccion'"
     ]
    }
   ],
   "source": [
    "ras.direccion"
   ]
  },
  {
   "cell_type": "code",
   "execution_count": 110,
   "id": "covered-today",
   "metadata": {},
   "outputs": [],
   "source": [
    "ras.creardireccion(\"Calle Embajadores\")"
   ]
  },
  {
   "cell_type": "code",
   "execution_count": 106,
   "id": "stunning-mistress",
   "metadata": {},
   "outputs": [
    {
     "data": {
      "text/plain": [
       "'Calle Embajadores'"
      ]
     },
     "execution_count": 106,
     "metadata": {},
     "output_type": "execute_result"
    }
   ],
   "source": [
    "ras.direccion"
   ]
  },
  {
   "cell_type": "code",
   "execution_count": 107,
   "id": "capable-lafayette",
   "metadata": {},
   "outputs": [
    {
     "data": {
      "text/plain": [
       "'Corel'"
      ]
     },
     "execution_count": 107,
     "metadata": {},
     "output_type": "execute_result"
    }
   ],
   "source": [
    "ras.apellido"
   ]
  },
  {
   "cell_type": "code",
   "execution_count": 108,
   "id": "26aafb1c",
   "metadata": {},
   "outputs": [],
   "source": [
    "ras.cambiarapellidos(\"Corell\")"
   ]
  },
  {
   "cell_type": "code",
   "execution_count": 109,
   "id": "2c7a6de8",
   "metadata": {},
   "outputs": [
    {
     "data": {
      "text/plain": [
       "'ras.corell@ironhack.com'"
      ]
     },
     "execution_count": 109,
     "metadata": {},
     "output_type": "execute_result"
    }
   ],
   "source": [
    "ras.email"
   ]
  },
  {
   "cell_type": "markdown",
   "id": "flying-parameter",
   "metadata": {},
   "source": [
    "#### Python está construido con objetos\n",
    "En Python los tipos de datos primitivos son también objetos que tienen asociados atributos y métodos."
   ]
  },
  {
   "cell_type": "code",
   "execution_count": 113,
   "id": "approved-transsexual",
   "metadata": {},
   "outputs": [
    {
     "name": "stdout",
     "output_type": "stream",
     "text": [
      "PYTHON\n"
     ]
    }
   ],
   "source": [
    "#llamamos al método de la clase string \n",
    "c = \"Python\"\n",
    "print(c.upper()) #llamamos al método de la clase string "
   ]
  },
  {
   "cell_type": "markdown",
   "id": "robust-cursor",
   "metadata": {},
   "source": [
    "Siempre que hacemos `.algo()`, es porque estmos llamando a los métodos de esa clase, igual que antes hemos llamado a\n",
    "```python\n",
    "sonia.saludo()\n",
    "````"
   ]
  },
  {
   "cell_type": "markdown",
   "id": "graduate-satellite",
   "metadata": {},
   "source": [
    "### Variables de clase\n",
    "\n",
    "Las variables de instancia son únicas para cada instancia. Las variables de clase, en cambio, son comunes a todas las instancias de una clase."
   ]
  },
  {
   "cell_type": "code",
   "execution_count": 114,
   "id": "frequent-training",
   "metadata": {},
   "outputs": [],
   "source": [
    "class Instructor():\n",
    "    \n",
    "    # Horas_lectivas es una variable de clase y está fuera del INIT\n",
    "    horas_lectivas = 8\n",
    "    \n",
    "    def __init__(self, name, surname, holidays= 24):\n",
    "        \"\"\"\n",
    "        El método init nos va a servir para inicializar los atributos del objeto/instancia\n",
    "        \"\"\"\n",
    "        self.nombre = name\n",
    "        self.apellido = surname\n",
    "        self.vacaciones = holidays\n",
    "        # MAIL es un atributo que bebe de otros atributos del objeto\n",
    "        self.email = self.nombre.lower() + \".\" + self.apellido.lower() + \"@ironhack.com\"\n",
    "        \n",
    "    def saludo(self):\n",
    "        print(f\"Hola soy {self.nombre} {self.apellido} y llego puntual\")\n",
    "        \n",
    "    def creardireccion(self, address):\n",
    "        self.direccion = address\n",
    "        \n",
    "    def cambiarapellidos(self,nuevoapellido):\n",
    "        self.apellido = nuevoapellido\n",
    "        self.email = self.nombre.lower() + \".\" + self.apellido.lower() + \"@ironhack.com\""
   ]
  },
  {
   "cell_type": "code",
   "execution_count": 115,
   "id": "expressed-resistance",
   "metadata": {},
   "outputs": [],
   "source": [
    "# Lo tengo que volver a crear :) \n",
    "sonia = Instructor(\"Sonia\", \"Fominaya\", 20)\n",
    "ana = Instructor(\"Ana\", \"García\", 20)\n",
    "ras = Instructor(\"Ras\", \"Corel\", 20)"
   ]
  },
  {
   "cell_type": "code",
   "execution_count": 116,
   "id": "popular-workshop",
   "metadata": {},
   "outputs": [
    {
     "data": {
      "text/plain": [
       "8"
      ]
     },
     "execution_count": 116,
     "metadata": {},
     "output_type": "execute_result"
    }
   ],
   "source": [
    "#Ahora todos los objetos que creemos a partir de la clase Instructor, le pondrá la variable horas_lectivas a 8\n",
    "sonia.horas_lectivas"
   ]
  },
  {
   "cell_type": "code",
   "execution_count": 117,
   "id": "180e1e15",
   "metadata": {},
   "outputs": [
    {
     "data": {
      "text/plain": [
       "8"
      ]
     },
     "execution_count": 117,
     "metadata": {},
     "output_type": "execute_result"
    }
   ],
   "source": [
    "ras.horas_lectivas"
   ]
  },
  {
   "cell_type": "code",
   "execution_count": 119,
   "id": "limiting-section",
   "metadata": {},
   "outputs": [
    {
     "data": {
      "text/plain": [
       "{'nombre': 'Sonia',\n",
       " 'apellido': 'Fominaya',\n",
       " 'vacaciones': 20,\n",
       " 'email': 'sonia.fominaya@ironhack.com'}"
      ]
     },
     "execution_count": 119,
     "metadata": {},
     "output_type": "execute_result"
    }
   ],
   "source": [
    "# Las variables de clase no aparecen cuando hago __dict__\n",
    "sonia.__dict__"
   ]
  },
  {
   "cell_type": "code",
   "execution_count": 120,
   "id": "failing-treatment",
   "metadata": {},
   "outputs": [],
   "source": [
    "# puedo sobreescribir estas variables\n",
    "sonia.horas_lectivas = 6"
   ]
  },
  {
   "cell_type": "code",
   "execution_count": 121,
   "id": "dated-dragon",
   "metadata": {},
   "outputs": [
    {
     "data": {
      "text/plain": [
       "{'nombre': 'Sonia',\n",
       " 'apellido': 'Fominaya',\n",
       " 'vacaciones': 20,\n",
       " 'email': 'sonia.fominaya@ironhack.com',\n",
       " 'horas_lectivas': 6}"
      ]
     },
     "execution_count": 121,
     "metadata": {},
     "output_type": "execute_result"
    }
   ],
   "source": [
    "sonia.__dict__"
   ]
  },
  {
   "cell_type": "code",
   "execution_count": 122,
   "id": "tropical-disco",
   "metadata": {},
   "outputs": [],
   "source": [
    "Instructor.horas_lectivas = 10"
   ]
  },
  {
   "cell_type": "code",
   "execution_count": 123,
   "id": "agricultural-wrapping",
   "metadata": {},
   "outputs": [
    {
     "data": {
      "text/plain": [
       "10"
      ]
     },
     "execution_count": 123,
     "metadata": {},
     "output_type": "execute_result"
    }
   ],
   "source": [
    "ras.horas_lectivas"
   ]
  },
  {
   "cell_type": "code",
   "execution_count": 124,
   "id": "powered-target",
   "metadata": {},
   "outputs": [
    {
     "data": {
      "text/plain": [
       "10"
      ]
     },
     "execution_count": 124,
     "metadata": {},
     "output_type": "execute_result"
    }
   ],
   "source": [
    "ana.horas_lectivas"
   ]
  },
  {
   "cell_type": "code",
   "execution_count": 125,
   "id": "diagnostic-membrane",
   "metadata": {},
   "outputs": [
    {
     "data": {
      "text/plain": [
       "6"
      ]
     },
     "execution_count": 125,
     "metadata": {},
     "output_type": "execute_result"
    }
   ],
   "source": [
    "sonia.horas_lectivas"
   ]
  },
  {
   "cell_type": "markdown",
   "id": "parliamentary-gateway",
   "metadata": {},
   "source": [
    "Observamos que Python está creando un nuevo atributo para Sonia, que anula la variable de clase"
   ]
  },
  {
   "cell_type": "code",
   "execution_count": null,
   "id": "urban-generation",
   "metadata": {},
   "outputs": [],
   "source": []
  },
  {
   "cell_type": "markdown",
   "id": "hidden-reporter",
   "metadata": {},
   "source": [
    "**También OJO**    \n",
    "Si yo quiero moficar una variable de clase para todos los objetos ya creados y no tener que ir de uno en uno.\n",
    "Aunque hay un pero con esto....  🙃"
   ]
  },
  {
   "cell_type": "code",
   "execution_count": null,
   "id": "formed-optics",
   "metadata": {},
   "outputs": [],
   "source": [
    "# Modificamos variable de clase\n"
   ]
  },
  {
   "cell_type": "code",
   "execution_count": null,
   "id": "formed-norway",
   "metadata": {},
   "outputs": [],
   "source": []
  },
  {
   "cell_type": "code",
   "execution_count": null,
   "id": "younger-charge",
   "metadata": {},
   "outputs": [],
   "source": []
  },
  {
   "cell_type": "markdown",
   "id": "talented-madison",
   "metadata": {},
   "source": [
    "Al machacar el atributo \"horas lectivas\" de Sonia, hemos hecho que esa variable sea propia del objeto y haya dejado de ser una variable de clase, por eso cuando editamos las horas lectivas de todos los objetos modificando la variable de clase más arriba `Instructor.horas_lectivas=10` la de Sonia NO SE CAMBIA. "
   ]
  },
  {
   "cell_type": "code",
   "execution_count": null,
   "id": "regulation-parts",
   "metadata": {},
   "outputs": [],
   "source": [
    "# Reminder puedo modificar atributos que no sean de clase"
   ]
  },
  {
   "cell_type": "code",
   "execution_count": null,
   "id": "dressed-renaissance",
   "metadata": {},
   "outputs": [],
   "source": []
  },
  {
   "cell_type": "code",
   "execution_count": null,
   "id": "enormous-attempt",
   "metadata": {},
   "outputs": [],
   "source": []
  },
  {
   "cell_type": "markdown",
   "id": "familiar-lighting",
   "metadata": {},
   "source": [
    "En general, no deben usarse atributos de clase, excepto para almacenar valores constantes."
   ]
  },
  {
   "cell_type": "markdown",
   "id": "stunning-worse",
   "metadata": {},
   "source": [
    "### Métodos que pueden modificar atributos"
   ]
  },
  {
   "cell_type": "code",
   "execution_count": 126,
   "id": "exclusive-inclusion",
   "metadata": {},
   "outputs": [],
   "source": [
    "class Instructor():\n",
    "    \n",
    "    # Horas_lectivas es una variable de clase y está fuera del INIT\n",
    "    horas_lectivas = 8\n",
    "    \n",
    "    def __init__(self, name, surname, holidays= 24):\n",
    "        \"\"\"\n",
    "        El método init nos va a servir para inicializar los atributos del objeto/instancia\n",
    "        \"\"\"\n",
    "        self.nombre = name\n",
    "        self.apellido = surname\n",
    "        self.vacaciones = holidays\n",
    "        # MAIL es un atributo que bebe de otros atributos del objeto\n",
    "        self.email = self.nombre.lower() + \".\" + self.apellido.lower() + \"@ironhack.com\"\n",
    "        \n",
    "    def saludo(self):\n",
    "        print(f\"Hola soy {self.nombre} {self.apellido} y llego puntual\")\n",
    "        \n",
    "    def creardireccion(self, address):\n",
    "        self.direccion = address\n",
    "        \n",
    "    def cambiarapellidos(self,nuevoapellido):\n",
    "        self.apellido = nuevoapellido\n",
    "        self.email = self.nombre.lower() + \".\" + self.apellido.lower() + \"@ironhack.com\"\n",
    "        \n",
    "    def coger_vacaciones(self, dias=1):\n",
    "        self.vacaciones -= dias"
   ]
  },
  {
   "cell_type": "code",
   "execution_count": 128,
   "id": "committed-bench",
   "metadata": {},
   "outputs": [],
   "source": [
    "sonia = Instructor(\"Sonia\", \"Fominaya\", 20)\n",
    "ana = Instructor(\"Ana\", \"García\", 20)\n",
    "ras = Instructor(\"Ras\", \"Corel\", 20)"
   ]
  },
  {
   "cell_type": "code",
   "execution_count": 129,
   "id": "reported-guyana",
   "metadata": {},
   "outputs": [],
   "source": [
    "ana.coger_vacaciones(4)"
   ]
  },
  {
   "cell_type": "code",
   "execution_count": 130,
   "id": "documented-crystal",
   "metadata": {},
   "outputs": [
    {
     "data": {
      "text/plain": [
       "16"
      ]
     },
     "execution_count": 130,
     "metadata": {},
     "output_type": "execute_result"
    }
   ],
   "source": [
    "ana.vacaciones"
   ]
  },
  {
   "cell_type": "code",
   "execution_count": 131,
   "id": "absent-reader",
   "metadata": {},
   "outputs": [],
   "source": [
    "ras.coger_vacaciones()"
   ]
  },
  {
   "cell_type": "code",
   "execution_count": 133,
   "id": "indonesian-modeling",
   "metadata": {},
   "outputs": [
    {
     "data": {
      "text/plain": [
       "19"
      ]
     },
     "execution_count": 133,
     "metadata": {},
     "output_type": "execute_result"
    }
   ],
   "source": [
    "ras.vacaciones"
   ]
  },
  {
   "cell_type": "markdown",
   "id": "polished-values",
   "metadata": {},
   "source": [
    "**Ejercicio**\n",
    "\n",
    "Crear una clase `Círculo` con:\n",
    "* radio como variable de instancia/objeto\n",
    "* pi (math.pi) como variable de clase\n",
    "* un método calcular_área(self) que devuelva el área del objeto \"círculo\""
   ]
  },
  {
   "cell_type": "code",
   "execution_count": 134,
   "id": "civil-furniture",
   "metadata": {},
   "outputs": [],
   "source": [
    "# Corregimos el ejercicio"
   ]
  },
  {
   "cell_type": "code",
   "execution_count": 2,
   "id": "c70b6d67",
   "metadata": {},
   "outputs": [],
   "source": [
    "import math"
   ]
  },
  {
   "cell_type": "code",
   "execution_count": null,
   "id": "c726d7a5",
   "metadata": {},
   "outputs": [],
   "source": [
    "# Solución de Antonio "
   ]
  },
  {
   "cell_type": "code",
   "execution_count": 136,
   "id": "focused-invite",
   "metadata": {},
   "outputs": [],
   "source": [
    "from math import pi\n",
    "\n",
    "class circulo():\n",
    "    # Nos falta la variable de clase pi\n",
    "    \n",
    "    def __init__(self,radio):\n",
    "        self.radio = radio\n",
    "        \n",
    "    def calcular_area(self):\n",
    "        self.area = pi*self.radio**2 # aquí puede acceder a pi porque está importado fuera de la clase (from math import pi)"
   ]
  },
  {
   "cell_type": "code",
   "execution_count": 137,
   "id": "fewer-flush",
   "metadata": {},
   "outputs": [],
   "source": [
    "cir_antonio = circulo(4)"
   ]
  },
  {
   "cell_type": "code",
   "execution_count": 139,
   "id": "fitting-council",
   "metadata": {},
   "outputs": [],
   "source": [
    "cir_antonio.calcular_area()"
   ]
  },
  {
   "cell_type": "code",
   "execution_count": 140,
   "id": "excellent-nature",
   "metadata": {},
   "outputs": [
    {
     "data": {
      "text/plain": [
       "50.26548245743669"
      ]
     },
     "execution_count": 140,
     "metadata": {},
     "output_type": "execute_result"
    }
   ],
   "source": [
    "cir_antonio.area"
   ]
  },
  {
   "cell_type": "code",
   "execution_count": null,
   "id": "b5d5a698",
   "metadata": {},
   "outputs": [],
   "source": [
    "# Solución de Marc"
   ]
  },
  {
   "cell_type": "code",
   "execution_count": 9,
   "id": "13818100",
   "metadata": {},
   "outputs": [
    {
     "ename": "NameError",
     "evalue": "name 'pi' is not defined",
     "output_type": "error",
     "traceback": [
      "\u001b[0;31m---------------------------------------------------------------------------\u001b[0m",
      "\u001b[0;31mNameError\u001b[0m                                 Traceback (most recent call last)",
      "\u001b[0;32m<ipython-input-9-f84ab820532c>\u001b[0m in \u001b[0;36m<module>\u001b[0;34m\u001b[0m\n\u001b[0;32m----> 1\u001b[0;31m \u001b[0mpi\u001b[0m\u001b[0;34m\u001b[0m\u001b[0;34m\u001b[0m\u001b[0m\n\u001b[0m",
      "\u001b[0;31mNameError\u001b[0m: name 'pi' is not defined"
     ]
    }
   ],
   "source": [
    "pi"
   ]
  },
  {
   "cell_type": "code",
   "execution_count": 10,
   "id": "2149b510",
   "metadata": {},
   "outputs": [
    {
     "ename": "NameError",
     "evalue": "name 'calculate_surface' is not defined",
     "output_type": "error",
     "traceback": [
      "\u001b[0;31m---------------------------------------------------------------------------\u001b[0m",
      "\u001b[0;31mNameError\u001b[0m                                 Traceback (most recent call last)",
      "\u001b[0;32m<ipython-input-10-848becf45e1b>\u001b[0m in \u001b[0;36m<module>\u001b[0;34m\u001b[0m\n\u001b[0;32m----> 1\u001b[0;31m \u001b[0mcalculate_surface\u001b[0m\u001b[0;34m(\u001b[0m\u001b[0;34m)\u001b[0m\u001b[0;34m\u001b[0m\u001b[0;34m\u001b[0m\u001b[0m\n\u001b[0m",
      "\u001b[0;31mNameError\u001b[0m: name 'calculate_surface' is not defined"
     ]
    }
   ],
   "source": [
    "calculate_surface()"
   ]
  },
  {
   "cell_type": "code",
   "execution_count": 22,
   "id": "024eb814",
   "metadata": {},
   "outputs": [],
   "source": [
    "pi = math.pi"
   ]
  },
  {
   "cell_type": "code",
   "execution_count": 3,
   "id": "e29543c4",
   "metadata": {},
   "outputs": [],
   "source": [
    "import math"
   ]
  },
  {
   "cell_type": "code",
   "execution_count": 7,
   "id": "entertaining-clarity",
   "metadata": {},
   "outputs": [],
   "source": [
    "class Circle():\n",
    "    # Variable de clas PI fuera del init\n",
    "    pi = math.pi\n",
    "    \n",
    "    def __init__(self, radium):\n",
    "        self.radium = radium\n",
    "        \n",
    "    def calculate_surface(self):\n",
    "        self.area = self.pi*self.radium**2 # aquí deberíamos poner self.pi para que funcione\n",
    "        return self.pi*self.radium**2 # Si funciona actualmente es porque pi ya está en mi kernel de jupyter"
   ]
  },
  {
   "cell_type": "code",
   "execution_count": 8,
   "id": "9656a046",
   "metadata": {},
   "outputs": [],
   "source": [
    "cir1 = Circle(3)\n",
    "cir2 = Circle(5)"
   ]
  },
  {
   "cell_type": "code",
   "execution_count": 9,
   "id": "33589888",
   "metadata": {},
   "outputs": [
    {
     "data": {
      "text/plain": [
       "78.53981633974483"
      ]
     },
     "execution_count": 9,
     "metadata": {},
     "output_type": "execute_result"
    }
   ],
   "source": [
    "cir2.calculate_surface()"
   ]
  },
  {
   "cell_type": "code",
   "execution_count": 6,
   "id": "9c8d2b3b",
   "metadata": {},
   "outputs": [],
   "source": [
    "variable = Circle(3)"
   ]
  },
  {
   "cell_type": "code",
   "execution_count": 8,
   "id": "972b2ce2",
   "metadata": {},
   "outputs": [
    {
     "ename": "NameError",
     "evalue": "name 'pi' is not defined",
     "output_type": "error",
     "traceback": [
      "\u001b[0;31m---------------------------------------------------------------------------\u001b[0m",
      "\u001b[0;31mNameError\u001b[0m                                 Traceback (most recent call last)",
      "\u001b[0;32m<ipython-input-8-cb5ef620aa9e>\u001b[0m in \u001b[0;36m<module>\u001b[0;34m\u001b[0m\n\u001b[0;32m----> 1\u001b[0;31m \u001b[0mvariable\u001b[0m\u001b[0;34m.\u001b[0m\u001b[0mcalculate_surface\u001b[0m\u001b[0;34m(\u001b[0m\u001b[0;34m)\u001b[0m\u001b[0;34m\u001b[0m\u001b[0;34m\u001b[0m\u001b[0m\n\u001b[0m",
      "\u001b[0;32m<ipython-input-3-91aa5cab165e>\u001b[0m in \u001b[0;36mcalculate_surface\u001b[0;34m(self)\u001b[0m\n\u001b[1;32m      7\u001b[0m \u001b[0;34m\u001b[0m\u001b[0m\n\u001b[1;32m      8\u001b[0m     \u001b[0;32mdef\u001b[0m \u001b[0mcalculate_surface\u001b[0m\u001b[0;34m(\u001b[0m\u001b[0mself\u001b[0m\u001b[0;34m)\u001b[0m\u001b[0;34m:\u001b[0m\u001b[0;34m\u001b[0m\u001b[0;34m\u001b[0m\u001b[0m\n\u001b[0;32m----> 9\u001b[0;31m         \u001b[0mself\u001b[0m\u001b[0;34m.\u001b[0m\u001b[0marea\u001b[0m \u001b[0;34m=\u001b[0m \u001b[0mpi\u001b[0m\u001b[0;34m*\u001b[0m\u001b[0mself\u001b[0m\u001b[0;34m.\u001b[0m\u001b[0mradium\u001b[0m\u001b[0;34m**\u001b[0m\u001b[0;36m2\u001b[0m \u001b[0;31m# aquí deberíamos poner self.pi para que funcione\u001b[0m\u001b[0;34m\u001b[0m\u001b[0;34m\u001b[0m\u001b[0m\n\u001b[0m\u001b[1;32m     10\u001b[0m         \u001b[0;32mreturn\u001b[0m \u001b[0mpi\u001b[0m\u001b[0;34m*\u001b[0m\u001b[0mself\u001b[0m\u001b[0;34m.\u001b[0m\u001b[0mradium\u001b[0m\u001b[0;34m**\u001b[0m\u001b[0;36m2\u001b[0m \u001b[0;31m# Si funciona actualmente es porque pi ya está en mi kernel de jupyter\u001b[0m\u001b[0;34m\u001b[0m\u001b[0;34m\u001b[0m\u001b[0m\n",
      "\u001b[0;31mNameError\u001b[0m: name 'pi' is not defined"
     ]
    }
   ],
   "source": [
    "variable.calculate_surface()"
   ]
  },
  {
   "cell_type": "code",
   "execution_count": null,
   "id": "interpreted-gothic",
   "metadata": {},
   "outputs": [],
   "source": [
    "# Instanciamos un objeto a través de la clase Círculo con radio 6"
   ]
  },
  {
   "cell_type": "code",
   "execution_count": 144,
   "id": "verbal-buying",
   "metadata": {},
   "outputs": [],
   "source": [
    "cir_marc = Circle(6)"
   ]
  },
  {
   "cell_type": "code",
   "execution_count": null,
   "id": "stunning-hospital",
   "metadata": {},
   "outputs": [],
   "source": [
    "# Llamamos al método calcula_area de ese objeto"
   ]
  },
  {
   "cell_type": "code",
   "execution_count": 145,
   "id": "viral-bristol",
   "metadata": {},
   "outputs": [
    {
     "data": {
      "text/plain": [
       "113.09733552923255"
      ]
     },
     "execution_count": 145,
     "metadata": {},
     "output_type": "execute_result"
    }
   ],
   "source": [
    "cir_marc.calculate_surface()"
   ]
  },
  {
   "cell_type": "code",
   "execution_count": 146,
   "id": "ac2c3a83",
   "metadata": {},
   "outputs": [],
   "source": [
    "## Solución Ras"
   ]
  },
  {
   "cell_type": "code",
   "execution_count": 147,
   "id": "5ecdeab2",
   "metadata": {},
   "outputs": [],
   "source": [
    "class Circulo():\n",
    "    pi = math.pi # Variable de clase\n",
    "    # Atributos/variables del objeto/instancia\n",
    "    \n",
    "    def __init__(self,num):\n",
    "        self.radio = num\n",
    "        \n",
    "    # Método del objeto\n",
    "    \n",
    "    def calcular_area(self): # Con self puedo coger TODOS los atributos dentro de la función\n",
    "        area = (self.radio ** 2) * self.pi\n",
    "        return area"
   ]
  },
  {
   "cell_type": "markdown",
   "id": "loved-yahoo",
   "metadata": {},
   "source": [
    "## Antes de seguir, cogemos aire y repasamos vocabulario"
   ]
  },
  {
   "cell_type": "markdown",
   "id": "increasing-royal",
   "metadata": {},
   "source": [
    "**Clase**: El molde de las galletas. Con la clase podemos generar instancias u objetos.    \n",
    "**Objeto**: La galleta que generamos. Cada objeto tiene características diferentes pero bajo el mismo patrón que sería la clase.       \n",
    "**Instancia**: Lo mismo que el objeto, es un sinónimo :) jeje      \n",
    "**Atributo**: Los ingredientes distintos de cada objeto. Están definidos como argumentos en la función __init__ pero se guardan como datos cuando instanciamos un objeto llamando a la clase     \n",
    "```python\n",
    "fer = Instructor(\"Fernando\", \"Costa\")\n",
    "\n",
    "```\n",
    "Podemos decir que los atributos son los DATOS, en este caso \"Fernando\" y \"Costa.\n",
    "Son variables   \n",
    "\n",
    "\n",
    "**Atributo de clase**: Variables que pertenecen a la clase y que van a ser iguales en todos los objetos.      \n",
    "**Atributo de objeto/instancia**: Los artributos explicados arriba, propios de cada objeto.     \n",
    "**Método**: Funciones que hacen cosas    \n"
   ]
  },
  {
   "cell_type": "markdown",
   "id": "initial-switzerland",
   "metadata": {},
   "source": [
    "#### Ejercicio fácil\n",
    "Kataaaaaaaa --> https://www.codewars.com/kata/53f0f358b9cb376eca001079/train/python"
   ]
  },
  {
   "cell_type": "markdown",
   "id": "pressed-proof",
   "metadata": {},
   "source": [
    "## Herencia (Inheritance)"
   ]
  },
  {
   "cell_type": "markdown",
   "id": "japanese-execution",
   "metadata": {},
   "source": [
    "La herencia permite definir nuevas clases a partir de clases existentes. A la clase de la que se hereda se le denomina \"clase madre\"/\"superclase\"/\"parent\". A la clase que hereda se la denomina \"clase hija\"(\"child\") o \"subclase.\"    \n",
    "La clase hija \"hereda\" todas las propiedades de la clase madre y nos permite redefinir métodos y atributos o añadir nuevos. La ventaja fundamental que aporta el mecanismo de herencia a la programación es la capacidad de reutilizar el código. Así, un conjunto de clases que compartan atributos y métodos pueden heredar de una superclase donde se definan esos métodos y atributos."
   ]
  },
  {
   "cell_type": "markdown",
   "id": "wanted-works",
   "metadata": {},
   "source": [
    "\n",
    "![miniyoda](https://media.giphy.com/media/j0eRJzyW7XjMpu1Pqd/giphy.gif)"
   ]
  },
  {
   "cell_type": "code",
   "execution_count": 148,
   "id": "mighty-preliminary",
   "metadata": {},
   "outputs": [],
   "source": [
    "# para crear diferentes PROFESORES\n",
    "class Instructor():\n",
    "    # Horas lectivas es una variable de clase y está FUERA DEL INIT\n",
    "    horas_lectivas = 8\n",
    "    \n",
    "    def __init__(self,name,surname,holidays = 30):\n",
    "        \"\"\"\n",
    "        El método init nos va a sevir para inicializar los atributos del objeto/instancia\n",
    "        \"\"\"\n",
    "        self.vacaciones = holidays\n",
    "        self.nombre = name\n",
    "        self.apellido = surname\n",
    "        # El atributo e-mail bebe de otros atributos del objeto\n",
    "        self.email = self.nombre.lower() + \".\" + self.apellido.lower() + \"@ironhack.com\"\n",
    "    \n",
    "    def saludo(self):\n",
    "        print(f\"Hola soy {self.nombre} {self.apellido} y quiero que entendáis los objetos\")\n",
    "    \n",
    "    def creadireccion(self, address):\n",
    "        self.direccion = address\n",
    "        \n",
    "    def cambiarapellidos(self, nuevoapellido):\n",
    "        self.apellido = nuevoapellido\n",
    "        self.email = self.nombre.lower() + \".\" + self.apellido.lower() + \"@ironhack.com\"\n",
    "    def coger_vacaciones(self, dias=1):\n",
    "        self.vacaciones -= dias"
   ]
  },
  {
   "cell_type": "code",
   "execution_count": 149,
   "id": "integral-guyana",
   "metadata": {},
   "outputs": [],
   "source": [
    "# Creamos un \"tipo especial\" de instructors que heredan de instructor\n",
    "class Lead(Instructor):\n",
    "    pass"
   ]
  },
  {
   "cell_type": "code",
   "execution_count": 150,
   "id": "biblical-guyana",
   "metadata": {},
   "outputs": [],
   "source": [
    "german = Lead(\"Germán\", \"Álvarez\")"
   ]
  },
  {
   "cell_type": "code",
   "execution_count": 151,
   "id": "typical-platinum",
   "metadata": {},
   "outputs": [
    {
     "data": {
      "text/plain": [
       "<__main__.Lead at 0x7fbb3c64b730>"
      ]
     },
     "execution_count": 151,
     "metadata": {},
     "output_type": "execute_result"
    }
   ],
   "source": [
    "german"
   ]
  },
  {
   "cell_type": "code",
   "execution_count": 152,
   "id": "answering-drawing",
   "metadata": {},
   "outputs": [
    {
     "data": {
      "text/plain": [
       "'Germán'"
      ]
     },
     "execution_count": 152,
     "metadata": {},
     "output_type": "execute_result"
    }
   ],
   "source": [
    "german.nombre"
   ]
  },
  {
   "cell_type": "code",
   "execution_count": 153,
   "id": "focused-technique",
   "metadata": {},
   "outputs": [
    {
     "data": {
      "text/plain": [
       "{'vacaciones': 30,\n",
       " 'nombre': 'Germán',\n",
       " 'apellido': 'Álvarez',\n",
       " 'email': 'germán.álvarez@ironhack.com'}"
      ]
     },
     "execution_count": 153,
     "metadata": {},
     "output_type": "execute_result"
    }
   ],
   "source": [
    "german.__dict__"
   ]
  },
  {
   "cell_type": "code",
   "execution_count": 156,
   "id": "dressed-omaha",
   "metadata": {},
   "outputs": [
    {
     "data": {
      "text/plain": [
       "True"
      ]
     },
     "execution_count": 156,
     "metadata": {},
     "output_type": "execute_result"
    }
   ],
   "source": [
    "issubclass(Lead,Instructor)"
   ]
  },
  {
   "cell_type": "code",
   "execution_count": 157,
   "id": "fatty-healing",
   "metadata": {},
   "outputs": [
    {
     "data": {
      "text/plain": [
       "False"
      ]
     },
     "execution_count": 157,
     "metadata": {},
     "output_type": "execute_result"
    }
   ],
   "source": [
    "issubclass(Instructor,Lead)"
   ]
  },
  {
   "cell_type": "markdown",
   "id": "continuing-fundamental",
   "metadata": {},
   "source": [
    "- Método definido en el `parent`, pero no en el `child`\n",
    "\n",
    "En este caso, el hijo heredará el método del padre, funcionará exactamente igual y no hay que redefinirlo.\n",
    "\n",
    "- Método definido en `Child`, pero no en Parent\n",
    "\n",
    "El método sólo pertenece al hijo. La herencia es en un solo sentido.\n",
    "\n",
    "- Método definido en \"ambos\".\n",
    "\n",
    "Aquí pueden ocurrir dos cosas, pero ambas son una variante del mismo hecho. El método escrito en la clase `Child` sobrescribirá el definido anteriormente en Parent.\n",
    "\n",
    "Sin embargo, si queremos utilizar el método original y simplemente añadirle algo más, siempre podemos hacer referencia al método original (de padre) con `super()`. La función `super()` nos permite llamar a cualquier método de la clase padre. Sólo recuerda llamarlo sobre el nuevo definido y asegurarte de obtener todos los atributos que necesita 😉 ."
   ]
  },
  {
   "cell_type": "markdown",
   "id": "willing-workshop",
   "metadata": {},
   "source": [
    "### super()"
   ]
  },
  {
   "cell_type": "code",
   "execution_count": 158,
   "id": "sustainable-niger",
   "metadata": {},
   "outputs": [],
   "source": [
    "import random"
   ]
  },
  {
   "cell_type": "code",
   "execution_count": null,
   "id": "southwest-drove",
   "metadata": {},
   "outputs": [],
   "source": [
    "# RECORDATORIO DE CÓMO TENÍAMOS LA CLASE INSTRUCTOR \n",
    "class Instructor():\n",
    "    #Horas lectivas es una variable de clase y está fuera del INIT\n",
    "    horas_lectivas = 8\n",
    "    \n",
    "    \n",
    "    def __init__(self,name, surname, holidays = 30):\n",
    "        \"\"\"\n",
    "        Inicializa los atributos/variables de OBJETO/instancia\n",
    "        \"\"\"\n",
    "        self.nombre = name\n",
    "        self.apellido = surname\n",
    "        self.vacaciones = holidays\n",
    "        # El atributo email bebe de otros atributos del propio objeto\n",
    "        self.email = self.nombre.lower() + \".\" + self.apellido.lower() + \"@ironhack.com\"\n",
    "        \n",
    "    def saludo(self):\n",
    "        print(f\"Hola, soy {self.nombre} {self.apellido} y llego puntual\")\n",
    "        \n",
    "    def coger_vacaciones(self, dias = 1):\n",
    "        self.vacaciones -= dias"
   ]
  },
  {
   "cell_type": "code",
   "execution_count": 174,
   "id": "incorrect-sacramento",
   "metadata": {},
   "outputs": [],
   "source": [
    "# Veámosle la utilidad      \n",
    "class Lead(Instructor):\n",
    "    \n",
    "    horas_lectivas = 9\n",
    "    \n",
    "    def __init__(self, nombre,apellido,grupo,vacaciones=30):\n",
    "        super().__init__(nombre,apellido,vacaciones) #Tomamos los atributos de la clase parent\n",
    "        self.clase = grupo"
   ]
  },
  {
   "cell_type": "code",
   "execution_count": 175,
   "id": "dependent-victim",
   "metadata": {},
   "outputs": [],
   "source": [
    "german = Lead(\"Germñán\", \"Álvarez\", \"Web\")"
   ]
  },
  {
   "cell_type": "code",
   "execution_count": 176,
   "id": "roman-findings",
   "metadata": {},
   "outputs": [
    {
     "data": {
      "text/plain": [
       "'Web'"
      ]
     },
     "execution_count": 176,
     "metadata": {},
     "output_type": "execute_result"
    }
   ],
   "source": [
    "german.clase"
   ]
  },
  {
   "cell_type": "code",
   "execution_count": 177,
   "id": "living-adaptation",
   "metadata": {},
   "outputs": [
    {
     "name": "stdout",
     "output_type": "stream",
     "text": [
      "Hola soy Germñán Álvarez y quiero que entendáis los objetos\n"
     ]
    }
   ],
   "source": [
    "german.saludo()"
   ]
  },
  {
   "cell_type": "code",
   "execution_count": 178,
   "id": "liquid-congo",
   "metadata": {},
   "outputs": [],
   "source": [
    "class Lead(Instructor):\n",
    "    \n",
    "    horas_lectivas = 9\n",
    "    \n",
    "    def __init__(self, nombre,apellido,grupo,vacaciones=30):\n",
    "        super().__init__(nombre,apellido,vacaciones) #Tomamos los atributos de la clase parent\n",
    "        self.clase = grupo\n",
    "        \n",
    "    def saludo(self):\n",
    "        print(f\"Hola soy {self.nombre} {self.apellido} y soy Lead Instructor de {self.clase}\")"
   ]
  },
  {
   "cell_type": "code",
   "execution_count": 179,
   "id": "f190abd5",
   "metadata": {},
   "outputs": [],
   "source": [
    "german = Lead(\"Germñán\", \"Álvarez\", \"Web\")"
   ]
  },
  {
   "cell_type": "code",
   "execution_count": 180,
   "id": "forward-repository",
   "metadata": {},
   "outputs": [
    {
     "name": "stdout",
     "output_type": "stream",
     "text": [
      "Hola soy Germñán Álvarez y soy Lead Instructor de Web\n"
     ]
    }
   ],
   "source": [
    "german.saludo()"
   ]
  },
  {
   "cell_type": "code",
   "execution_count": 181,
   "id": "tired-litigation",
   "metadata": {},
   "outputs": [],
   "source": [
    "german.coger_vacaciones(6)"
   ]
  },
  {
   "cell_type": "code",
   "execution_count": 182,
   "id": "graphic-holocaust",
   "metadata": {},
   "outputs": [
    {
     "data": {
      "text/plain": [
       "24"
      ]
     },
     "execution_count": 182,
     "metadata": {},
     "output_type": "execute_result"
    }
   ],
   "source": [
    "german.vacaciones"
   ]
  },
  {
   "cell_type": "code",
   "execution_count": 183,
   "id": "attempted-captain",
   "metadata": {},
   "outputs": [],
   "source": [
    "import random"
   ]
  },
  {
   "cell_type": "code",
   "execution_count": 189,
   "id": "559eef5e",
   "metadata": {},
   "outputs": [],
   "source": [
    "clase_data = ['Victor',\n",
    " 'Molina',\n",
    " 'Sergio',\n",
    " 'Rodrigo',\n",
    " 'Ricardo',\n",
    " 'Pablo',\n",
    " 'Mario',\n",
    " 'Marilyn',\n",
    " 'Marc',\n",
    " 'Juana',\n",
    " 'Jesús',\n",
    " 'Isabel',\n",
    " 'Eva',\n",
    " 'Diego',\n",
    " 'Cesar',\n",
    " 'Beatriz',\n",
    " 'Antonio']"
   ]
  },
  {
   "cell_type": "code",
   "execution_count": 185,
   "id": "5c7aa635",
   "metadata": {},
   "outputs": [],
   "source": [
    "import random"
   ]
  },
  {
   "cell_type": "code",
   "execution_count": 188,
   "id": "arabic-assembly",
   "metadata": {},
   "outputs": [],
   "source": [
    "# Lo que escribimos en las clases child no influye para nada en los objetos creados a partir de clases parent"
   ]
  },
  {
   "cell_type": "code",
   "execution_count": 186,
   "id": "public-deviation",
   "metadata": {},
   "outputs": [],
   "source": [
    "class Lead(Instructor):\n",
    "    \n",
    "    horas_lectivas = 9\n",
    "    \n",
    "    def __init__(self, nombre,apellido,grupo,vacaciones=30):\n",
    "        super().__init__(nombre,apellido,vacaciones) #Tomamos los atributos de la clase parent\n",
    "        self.clase = grupo\n",
    "        \n",
    "    def saludo(self):\n",
    "        print(f\"Hola soy {self.nombre} {self.apellido} y soy Lead Instructor de {self.clase}\")\n",
    "    \n",
    "    def elegir_alumno(self,lista):\n",
    "        return random.choice(lista)"
   ]
  },
  {
   "cell_type": "code",
   "execution_count": 187,
   "id": "earlier-bottom",
   "metadata": {},
   "outputs": [],
   "source": [
    "german = Lead(\"Germán\", \"Álvarez\",\"Web\")"
   ]
  },
  {
   "cell_type": "code",
   "execution_count": 190,
   "id": "offensive-treasure",
   "metadata": {},
   "outputs": [
    {
     "data": {
      "text/plain": [
       "'Antonio'"
      ]
     },
     "execution_count": 190,
     "metadata": {},
     "output_type": "execute_result"
    }
   ],
   "source": [
    "german.elegir_alumno(clase_data)"
   ]
  },
  {
   "cell_type": "code",
   "execution_count": 191,
   "id": "wrapped-registration",
   "metadata": {},
   "outputs": [
    {
     "ename": "NameError",
     "evalue": "name 'elegir_alumno' is not defined",
     "output_type": "error",
     "traceback": [
      "\u001b[0;31m---------------------------------------------------------------------------\u001b[0m",
      "\u001b[0;31mNameError\u001b[0m                                 Traceback (most recent call last)",
      "\u001b[0;32m<ipython-input-191-b289a40fd38a>\u001b[0m in \u001b[0;36m<module>\u001b[0;34m\u001b[0m\n\u001b[0;32m----> 1\u001b[0;31m \u001b[0melegir_alumno\u001b[0m\u001b[0;34m(\u001b[0m\u001b[0mclase_data\u001b[0m\u001b[0;34m)\u001b[0m\u001b[0;34m\u001b[0m\u001b[0;34m\u001b[0m\u001b[0m\n\u001b[0m",
      "\u001b[0;31mNameError\u001b[0m: name 'elegir_alumno' is not defined"
     ]
    }
   ],
   "source": [
    "elegir_alumno(clase_data)"
   ]
  },
  {
   "cell_type": "code",
   "execution_count": 207,
   "id": "current-austria",
   "metadata": {},
   "outputs": [],
   "source": [
    "class Lead(Instructor):\n",
    "    \n",
    "    horas_lectivas = 9\n",
    "    \n",
    "    def __init__(self, nombre,apellido,grupo, vacaciones=30):\n",
    "        super().__init__(nombre,apellido,vacaciones) #Tomamos los atributos de la clase parent\n",
    "        self.clase = grupo\n",
    "        \n",
    "    def saludo(self):\n",
    "        print(f\"Hola soy {self.nombre} {self.apellido} y soy Lead Instructor de {self.clase}\")\n",
    "    \n",
    "    def elegir_alumno(self,lista):\n",
    "        return random.choice(lista)\n",
    "    \n",
    "    @staticmethod\n",
    "    def elegir(lista):\n",
    "        return random.choice(lista)"
   ]
  },
  {
   "cell_type": "code",
   "execution_count": null,
   "id": "ca26e0bd",
   "metadata": {},
   "outputs": [],
   "source": [
    "un_lead = Lead(\"\")"
   ]
  },
  {
   "cell_type": "code",
   "execution_count": 193,
   "id": "periodic-dakota",
   "metadata": {},
   "outputs": [
    {
     "data": {
      "text/plain": [
       "'Marilyn'"
      ]
     },
     "execution_count": 193,
     "metadata": {},
     "output_type": "execute_result"
    }
   ],
   "source": [
    "Lead.elegir(clase_data)"
   ]
  },
  {
   "cell_type": "code",
   "execution_count": 211,
   "id": "5cdb39e9",
   "metadata": {},
   "outputs": [],
   "source": [
    "\"\"\"\n",
    "CLASE DE PRUEBA DESASTROSA\n",
    "\"\"\"\n",
    "\n",
    "class Otra(Lead):\n",
    "    horas_lectivas = 5\n",
    "    \n",
    "    def __init__(self,otro_atributo, nombre, apellido, grupo, vacaciones=30):\n",
    "        super().__init__(nombre,apellido, vacaciones, grupo)\n",
    "        self.atributo = otro_atributo"
   ]
  },
  {
   "cell_type": "code",
   "execution_count": 212,
   "id": "a112c5c3",
   "metadata": {},
   "outputs": [],
   "source": [
    "probando = Otra(\"Pepe\", \"García\", \"hola\", \"web\", 30)"
   ]
  },
  {
   "cell_type": "code",
   "execution_count": 215,
   "id": "922f9857",
   "metadata": {},
   "outputs": [
    {
     "data": {
      "text/plain": [
       "30"
      ]
     },
     "execution_count": 215,
     "metadata": {},
     "output_type": "execute_result"
    }
   ],
   "source": [
    "probando.clase"
   ]
  },
  {
   "cell_type": "code",
   "execution_count": 219,
   "id": "eb590652",
   "metadata": {},
   "outputs": [
    {
     "data": {
      "text/plain": [
       "'web'"
      ]
     },
     "execution_count": 219,
     "metadata": {},
     "output_type": "execute_result"
    }
   ],
   "source": [
    "probando.vacaciones"
   ]
  },
  {
   "cell_type": "code",
   "execution_count": 220,
   "id": "4806d949",
   "metadata": {},
   "outputs": [
    {
     "data": {
      "text/plain": [
       "'García'"
      ]
     },
     "execution_count": 220,
     "metadata": {},
     "output_type": "execute_result"
    }
   ],
   "source": [
    "probando.nombre"
   ]
  },
  {
   "cell_type": "code",
   "execution_count": 216,
   "id": "3038e749",
   "metadata": {},
   "outputs": [],
   "source": [
    "\"\"\"\n",
    "CLASE HERENCIA BIEN\n",
    "\"\"\"\n",
    "\n",
    "class Bien(Lead):\n",
    "    horas_lectivas = 10\n",
    "    \n",
    "    def __init__(self, nombre,apellido,grupo,otro_atributo,vacaciones=30):\n",
    "        super().__init__(nombre,apellido,grupo,vacaciones)\n",
    "        self.equipo = otro_atributo"
   ]
  },
  {
   "cell_type": "code",
   "execution_count": 217,
   "id": "c36e88c7",
   "metadata": {},
   "outputs": [],
   "source": [
    "prueba_final = Bien(\"Pepe\", \"García\", \"Cyber\", False)"
   ]
  },
  {
   "cell_type": "code",
   "execution_count": 218,
   "id": "4fedc953",
   "metadata": {},
   "outputs": [
    {
     "data": {
      "text/plain": [
       "'García'"
      ]
     },
     "execution_count": 218,
     "metadata": {},
     "output_type": "execute_result"
    }
   ],
   "source": [
    "prueba_final.apellido"
   ]
  },
  {
   "cell_type": "markdown",
   "id": "middle-saver",
   "metadata": {},
   "source": [
    "### Resolución de métodos"
   ]
  },
  {
   "cell_type": "code",
   "execution_count": 221,
   "id": "metallic-differential",
   "metadata": {},
   "outputs": [
    {
     "name": "stdout",
     "output_type": "stream",
     "text": [
      "Help on class Lead in module __main__:\n",
      "\n",
      "class Lead(Instructor)\n",
      " |  Lead(nombre, apellido, grupo, vacaciones=30)\n",
      " |  \n",
      " |  Method resolution order:\n",
      " |      Lead\n",
      " |      Instructor\n",
      " |      builtins.object\n",
      " |  \n",
      " |  Methods defined here:\n",
      " |  \n",
      " |  __init__(self, nombre, apellido, grupo, vacaciones=30)\n",
      " |      El método init nos va a sevir para inicializar los atributos del objeto/instancia\n",
      " |  \n",
      " |  elegir_alumno(self, lista)\n",
      " |  \n",
      " |  saludo(self)\n",
      " |  \n",
      " |  ----------------------------------------------------------------------\n",
      " |  Static methods defined here:\n",
      " |  \n",
      " |  elegir(lista)\n",
      " |  \n",
      " |  ----------------------------------------------------------------------\n",
      " |  Data and other attributes defined here:\n",
      " |  \n",
      " |  horas_lectivas = 9\n",
      " |  \n",
      " |  ----------------------------------------------------------------------\n",
      " |  Methods inherited from Instructor:\n",
      " |  \n",
      " |  cambiarapellidos(self, nuevoapellido)\n",
      " |  \n",
      " |  coger_vacaciones(self, dias=1)\n",
      " |  \n",
      " |  creadireccion(self, address)\n",
      " |  \n",
      " |  ----------------------------------------------------------------------\n",
      " |  Data descriptors inherited from Instructor:\n",
      " |  \n",
      " |  __dict__\n",
      " |      dictionary for instance variables (if defined)\n",
      " |  \n",
      " |  __weakref__\n",
      " |      list of weak references to the object (if defined)\n",
      "\n",
      "None\n"
     ]
    }
   ],
   "source": [
    "print(help(Lead))"
   ]
  },
  {
   "cell_type": "markdown",
   "id": "corresponding-business",
   "metadata": {},
   "source": [
    "## Resumen\n",
    "Ahora es su turno: ¿Qué hemos aprendido? 🤯\n",
    "\n",
    "- Definir una clase\n",
    "- Clases son moldes de galletas\n",
    "- Las instancias son las galletas que cortamos\n",
    "- La instancia es lo mismo que un objeto\n",
    "- Los atributos son los datos propios de cada objeto\n",
    "- Puede haber también atributos de clases\n",
    "- Los atributos de clase van antes del init y son iguales para todos los objetos\n",
    "- Los atributos de clas no aparecen en el .__dict__\n",
    "- Si machacas en un objeto un atributo de clase, se convierte en un atributo de objeto\n",
    "- Podemos modificar todos los atributos de clase de objetos ya creados siempre y cuando sigan siendo de clase\n",
    "- super() me permite heredar los atributos de otra clase\n",
    "- También podemos crear atributos que utilicen otros (recordad el email)\n",
    "- Se pueden hacer subclases (heredando de otras)\n",
    "- Definir funciones dentro de las clases (métodos)"
   ]
  },
  {
   "cell_type": "markdown",
   "id": "christian-breach",
   "metadata": {},
   "source": [
    "## Further materials\n",
    "\n",
    "* Tutorial de Youtube de [Corey Schafer](https://www.youtube.com/watch?v=ZDa-Z5JzLYM)\n",
    "* [Real Python](https://docs.hektorprofe.net/python/programacion-orientada-a-objetos/clases-y-objetos/)\n",
    "* [Interesante lectura](https://medium.com/@shaistha24/functional-programming-vs-object-oriented-programming-oop-which-is-better-82172e53a526) --> OOP vs Functional programming"
   ]
  },
  {
   "cell_type": "markdown",
   "id": "technical-chocolate",
   "metadata": {},
   "source": [
    "### Métodos **AVANZADOS** @classmethod @staticmethod\n",
    "* [Real Python - @classmethod/@stathicmethod](https://realpython.com/instance-class-and-static-methods-demystified/) - Python avanzado con decoradores (los mencionaremos más adelante)"
   ]
  }
 ],
 "metadata": {
  "kernelspec": {
   "display_name": "ironhack",
   "language": "python",
   "name": "ironhack"
  },
  "language_info": {
   "codemirror_mode": {
    "name": "ipython",
    "version": 3
   },
   "file_extension": ".py",
   "mimetype": "text/x-python",
   "name": "python",
   "nbconvert_exporter": "python",
   "pygments_lexer": "ipython3",
   "version": "3.8.5"
  },
  "toc": {
   "base_numbering": 1,
   "nav_menu": {},
   "number_sections": true,
   "sideBar": true,
   "skip_h1_title": true,
   "title_cell": "Table of Contents",
   "title_sidebar": "Contents",
   "toc_cell": true,
   "toc_position": {
    "height": "calc(100% - 180px)",
    "left": "10px",
    "top": "150px",
    "width": "288px"
   },
   "toc_section_display": true,
   "toc_window_display": false
  }
 },
 "nbformat": 4,
 "nbformat_minor": 5
}
