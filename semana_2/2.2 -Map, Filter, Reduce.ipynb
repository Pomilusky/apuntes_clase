{
 "cells": [
  {
   "cell_type": "markdown",
   "id": "bottom-commerce",
   "metadata": {},
   "source": [
    "# Lambda & Map, Filter, Reduce"
   ]
  },
  {
   "cell_type": "markdown",
   "id": "twelve-decrease",
   "metadata": {},
   "source": [
    "![gif](https://media.giphy.com/media/11lBqvULyT9C36/giphy.gif)"
   ]
  },
  {
   "cell_type": "markdown",
   "id": "rising-buyer",
   "metadata": {
    "toc": true
   },
   "source": [
    "<h1>Table of Contents<span class=\"tocSkip\"></span></h1>\n",
    "<div class=\"toc\"><ul class=\"toc-item\"><li><span><a href=\"#A-cada-estudiante-se-le-asigna-un-tema-al-azar\" data-toc-modified-id=\"A-cada-estudiante-se-le-asigna-un-tema-al-azar-1\"><span class=\"toc-item-num\">1&nbsp;&nbsp;</span>A cada estudiante se le asigna un tema al azar</a></span></li><li><span><a href=\"#Crear-grupos-con-otras-personas-que-hayan-estudiado-la-misma-función\" data-toc-modified-id=\"Crear-grupos-con-otras-personas-que-hayan-estudiado-la-misma-función-2\"><span class=\"toc-item-num\">2&nbsp;&nbsp;</span>Crear grupos con otras personas que hayan estudiado la misma función</a></span></li><li><span><a href=\"#Crea-grupos-con-otras-personas-que-hayan-estudiado-otras-funciones\" data-toc-modified-id=\"Crea-grupos-con-otras-personas-que-hayan-estudiado-otras-funciones-3\"><span class=\"toc-item-num\">3&nbsp;&nbsp;</span>Crea grupos con otras personas que hayan estudiado otras funciones</a></span></li><li><span><a href=\"#Map,-Filter,-Reduce\" data-toc-modified-id=\"Map,-Filter,-Reduce-4\"><span class=\"toc-item-num\">4&nbsp;&nbsp;</span>Map, Filter, Reduce</a></span><ul class=\"toc-item\"><li><span><a href=\"#Map\" data-toc-modified-id=\"Map-4.1\"><span class=\"toc-item-num\">4.1&nbsp;&nbsp;</span>Map</a></span><ul class=\"toc-item\"><li><span><a href=\"#Primero-lo-hacemos-con-funciones\" data-toc-modified-id=\"Primero-lo-hacemos-con-funciones-4.1.1\"><span class=\"toc-item-num\">4.1.1&nbsp;&nbsp;</span>Primero lo hacemos con funciones</a></span></li><li><span><a href=\"#Extra:-¡Hazlo-con-lambda!\" data-toc-modified-id=\"Extra:-¡Hazlo-con-lambda!-4.1.2\"><span class=\"toc-item-num\">4.1.2&nbsp;&nbsp;</span>Extra: ¡Hazlo con lambda!</a></span></li></ul></li><li><span><a href=\"#Filter\" data-toc-modified-id=\"Filter-4.2\"><span class=\"toc-item-num\">4.2&nbsp;&nbsp;</span>Filter</a></span><ul class=\"toc-item\"><li><span><a href=\"#Primero-lo-hacemos-con-funciones\" data-toc-modified-id=\"Primero-lo-hacemos-con-funciones-4.2.1\"><span class=\"toc-item-num\">4.2.1&nbsp;&nbsp;</span>Primero lo hacemos con funciones</a></span></li><li><span><a href=\"#Extra:-¡Hazlo-con-lambda!\" data-toc-modified-id=\"Extra:-¡Hazlo-con-lambda!-4.2.2\"><span class=\"toc-item-num\">4.2.2&nbsp;&nbsp;</span>Extra: ¡Hazlo con lambda!</a></span></li></ul></li><li><span><a href=\"#Reduce\" data-toc-modified-id=\"Reduce-4.3\"><span class=\"toc-item-num\">4.3&nbsp;&nbsp;</span>Reduce</a></span><ul class=\"toc-item\"><li><span><a href=\"#¿Qué-ha-pasado?\" data-toc-modified-id=\"¿Qué-ha-pasado?-4.3.1\"><span class=\"toc-item-num\">4.3.1&nbsp;&nbsp;</span>¿Qué ha pasado?</a></span></li></ul></li><li><span><a href=\"#Primero-lo-hacemos-con-funciones\" data-toc-modified-id=\"Primero-lo-hacemos-con-funciones-4.4\"><span class=\"toc-item-num\">4.4&nbsp;&nbsp;</span>Primero lo hacemos con funciones</a></span></li><li><span><a href=\"#Extra:-¡Hazlo-con-lambda!\" data-toc-modified-id=\"Extra:-¡Hazlo-con-lambda!-4.5\"><span class=\"toc-item-num\">4.5&nbsp;&nbsp;</span>Extra: ¡Hazlo con lambda!</a></span></li></ul></li><li><span><a href=\"#Summary\" data-toc-modified-id=\"Summary-5\"><span class=\"toc-item-num\">5&nbsp;&nbsp;</span>Summary</a></span></li><li><span><a href=\"#Further-materials\" data-toc-modified-id=\"Further-materials-6\"><span class=\"toc-item-num\">6&nbsp;&nbsp;</span>Further materials</a></span></li></ul></div>"
   ]
  },
  {
   "cell_type": "markdown",
   "id": "stunning-kansas",
   "metadata": {},
   "source": [
    "Vamos a jugar a un pequeño juego en el que vais a ser los protagonistas de la clase\n",
    "![otrogif](https://media.giphy.com/media/dM2xuxnJCg4H6/giphy.gif)"
   ]
  },
  {
   "cell_type": "markdown",
   "id": "corrected-liberal",
   "metadata": {},
   "source": [
    "## A cada estudiante se le asigna un tema al azar"
   ]
  },
  {
   "cell_type": "code",
   "execution_count": 12,
   "id": "blessed-scale",
   "metadata": {},
   "outputs": [],
   "source": [
    "estudiantes = ['Victor',\n",
    " 'Molina',\n",
    " 'Sergio',\n",
    " 'Rodrigo',\n",
    " 'Ricardo',\n",
    " 'Pablo',\n",
    " 'Mario',\n",
    " 'Marilyn',\n",
    " 'Marc',\n",
    " 'Juana',\n",
    " 'Jesús',\n",
    " 'Isabel',\n",
    " 'Eva',\n",
    " 'Diego',\n",
    " 'Cesar',\n",
    " 'Antonio']"
   ]
  },
  {
   "cell_type": "code",
   "execution_count": 13,
   "id": "downtown-holder",
   "metadata": {},
   "outputs": [],
   "source": [
    "topics = [\"map\"] *5 + [\"filter\"] *5 + [\"reduce\"]*6"
   ]
  },
  {
   "cell_type": "code",
   "execution_count": 14,
   "id": "atomic-headset",
   "metadata": {},
   "outputs": [],
   "source": [
    "import random\n",
    "random.shuffle(estudiantes)\n",
    "random.shuffle(topics)"
   ]
  },
  {
   "cell_type": "code",
   "execution_count": 15,
   "id": "perfect-stations",
   "metadata": {},
   "outputs": [],
   "source": [
    "todojunto = list(zip(estudiantes,topics))"
   ]
  },
  {
   "cell_type": "code",
   "execution_count": 16,
   "id": "prime-outside",
   "metadata": {},
   "outputs": [
    {
     "data": {
      "text/plain": [
       "[('Jesús', 'filter'),\n",
       " ('Rodrigo', 'reduce'),\n",
       " ('Juana', 'reduce'),\n",
       " ('Isabel', 'filter'),\n",
       " ('Cesar', 'reduce'),\n",
       " ('Victor', 'filter'),\n",
       " ('Eva', 'reduce'),\n",
       " ('Mario', 'map'),\n",
       " ('Marc', 'map'),\n",
       " ('Diego', 'map'),\n",
       " ('Sergio', 'reduce'),\n",
       " ('Pablo', 'filter'),\n",
       " ('Molina', 'map'),\n",
       " ('Marilyn', 'reduce'),\n",
       " ('Ricardo', 'map'),\n",
       " ('Antonio', 'filter')]"
      ]
     },
     "execution_count": 16,
     "metadata": {},
     "output_type": "execute_result"
    }
   ],
   "source": [
    "todojunto"
   ]
  },
  {
   "cell_type": "code",
   "execution_count": 21,
   "id": "0aa5326a",
   "metadata": {},
   "outputs": [
    {
     "data": {
      "text/plain": [
       "16"
      ]
     },
     "execution_count": 21,
     "metadata": {},
     "output_type": "execute_result"
    }
   ],
   "source": [
    "len(todojunto)"
   ]
  },
  {
   "cell_type": "markdown",
   "id": "continent-adobe",
   "metadata": {},
   "source": [
    "# Empezamos"
   ]
  },
  {
   "cell_type": "markdown",
   "id": "meaning-count",
   "metadata": {},
   "source": [
    "Tienes 10 minutos para explorar y comprender la función que te han asignado por tu cuenta. Puede que estos enlaces te resulten útiles:\n",
    "\n",
    "* [enlace 1](https://medium.com/swlh/higher-order-functions-in-python-map-filter-and-reduce-34299fee1b21)\n",
    "* [enlace 2](https://www.learnpython.org/en/Map,_Filter,_Reduce)\n",
    "* [enlace 3](https://stackabuse.com/map-filter-and-reduce-in-python-with-examples)"
   ]
  },
  {
   "cell_type": "markdown",
   "id": "unknown-tomorrow",
   "metadata": {},
   "source": [
    "## Crear grupos con otras personas que hayan estudiado la misma función\n",
    "\n",
    "Tienes otros 10 minutos para compartir pensamientos y dudas con otros estudiantes que hayan leído sobre el mismo tema."
   ]
  },
  {
   "cell_type": "markdown",
   "id": "closing-referral",
   "metadata": {},
   "source": [
    "![otrogif](https://media.giphy.com/media/UatRnEUNX8iCQ/giphy.gif)"
   ]
  },
  {
   "cell_type": "markdown",
   "id": "standing-missile",
   "metadata": {},
   "source": [
    "## Crea grupos con otras personas que hayan estudiado otras funciones\n",
    "\n",
    "En esta parte del juego se te asigna un grupo en el que eres el experto en tu función.      \n",
    "Cada miembro del grupo tiene 5 minutos para explicar su función a los demás miembros del equipo."
   ]
  },
  {
   "cell_type": "code",
   "execution_count": 22,
   "id": "editorial-gender",
   "metadata": {},
   "outputs": [],
   "source": [
    "map_expertos = list(filter(lambda x: x[1] == \"map\",todojunto))\n",
    "filter_expertos = list(filter(lambda x : x[1] == \"filter\", todojunto))\n",
    "reduce_expertos = list(filter(lambda x: x [1] == \"reduce\", todojunto))"
   ]
  },
  {
   "cell_type": "code",
   "execution_count": 23,
   "id": "therapeutic-hollow",
   "metadata": {},
   "outputs": [
    {
     "name": "stdout",
     "output_type": "stream",
     "text": [
      "5\n",
      "5\n",
      "6\n"
     ]
    }
   ],
   "source": [
    "print(len(map_expertos))\n",
    "print(len(filter_expertos))\n",
    "print(len(reduce_expertos))"
   ]
  },
  {
   "cell_type": "code",
   "execution_count": 24,
   "id": "convertible-banking",
   "metadata": {},
   "outputs": [
    {
     "name": "stdout",
     "output_type": "stream",
     "text": [
      "Grupo 1: [('Mario', 'map'), ('Jesús', 'filter'), ('Rodrigo', 'reduce')]\n",
      "Grupo 2: [('Marc', 'map'), ('Isabel', 'filter'), ('Juana', 'reduce')]\n",
      "Grupo 3: [('Diego', 'map'), ('Victor', 'filter'), ('Cesar', 'reduce')]\n",
      "Grupo 4: [('Molina', 'map'), ('Pablo', 'filter'), ('Eva', 'reduce')]\n",
      "Grupo 5: [('Ricardo', 'map'), ('Antonio', 'filter'), ('Sergio', 'reduce')]\n"
     ]
    }
   ],
   "source": [
    "i = 1\n",
    "for gente in zip(map_expertos, filter_expertos, reduce_expertos):\n",
    "    print(f\"Grupo {i}: {[[y][0]  for y in gente]}\")\n",
    "    i += 1"
   ]
  },
  {
   "cell_type": "code",
   "execution_count": 61,
   "id": "2912a288",
   "metadata": {},
   "outputs": [
    {
     "data": {
      "text/plain": [
       "'Mario'"
      ]
     },
     "execution_count": 61,
     "metadata": {},
     "output_type": "execute_result"
    }
   ],
   "source": [
    "random.choice(estudiantes)"
   ]
  },
  {
   "cell_type": "markdown",
   "id": "collectible-charter",
   "metadata": {},
   "source": [
    "## Map, Filter, Reduce"
   ]
  },
  {
   "cell_type": "markdown",
   "id": "cardiac-sentence",
   "metadata": {},
   "source": [
    "Existen tres funciones que nos resultarán muy prácticas cuando trabajemos con contenedores e iteradores. Estas funciones facilitan ciertas operaciones básicas y habituales sobre colecciones iterables de datos, como eliminar elementos que no cumplan cierta condición, calcular un resultado a partir de los datos contenidos o aplicar una transformación a cada elemento. Vamos a verlas con ejemplos de uso:"
   ]
  },
  {
   "cell_type": "markdown",
   "id": "distinct-translator",
   "metadata": {},
   "source": [
    "### Map"
   ]
  },
  {
   "cell_type": "markdown",
   "id": "ceramic-blend",
   "metadata": {},
   "source": [
    "La función map() toma una función y una lista y aplica esa función a cada elemento de esa lista, produciendo una nueva lista.\n",
    "```python\n",
    "map(function_to_apply, list_of_inputs)\n",
    "```"
   ]
  },
  {
   "cell_type": "code",
   "execution_count": null,
   "id": "expensive-birthday",
   "metadata": {},
   "outputs": [],
   "source": [
    "# Manos a la obra"
   ]
  },
  {
   "cell_type": "markdown",
   "id": "capital-matrix",
   "metadata": {},
   "source": [
    "#### Primero lo hacemos con funciones"
   ]
  },
  {
   "cell_type": "code",
   "execution_count": 29,
   "id": "italic-contamination",
   "metadata": {},
   "outputs": [],
   "source": [
    "def resta_2(x):\n",
    "    return x -2"
   ]
  },
  {
   "cell_type": "code",
   "execution_count": 30,
   "id": "occupied-defeat",
   "metadata": {},
   "outputs": [],
   "source": [
    "numeros = [1,2,3,4,5,6]"
   ]
  },
  {
   "cell_type": "code",
   "execution_count": 31,
   "id": "narrow-bradford",
   "metadata": {},
   "outputs": [
    {
     "data": {
      "text/plain": [
       "<map at 0x7f80a09a59d0>"
      ]
     },
     "execution_count": 31,
     "metadata": {},
     "output_type": "execute_result"
    }
   ],
   "source": [
    "map(resta_2,numeros)"
   ]
  },
  {
   "cell_type": "markdown",
   "id": "removable-southeast",
   "metadata": {},
   "source": [
    "La función map devuelve un iterador, así que tenemos que utilizar el constructor list()"
   ]
  },
  {
   "cell_type": "code",
   "execution_count": 34,
   "id": "competitive-citizen",
   "metadata": {},
   "outputs": [
    {
     "data": {
      "text/plain": [
       "[-1, 0, 1, 2, 3, 4]"
      ]
     },
     "execution_count": 34,
     "metadata": {},
     "output_type": "execute_result"
    }
   ],
   "source": [
    "# CON MAP\n",
    "lista_nueva = list(map(resta_2,numeros))\n",
    "lista_nueva"
   ]
  },
  {
   "cell_type": "code",
   "execution_count": 36,
   "id": "renewable-incident",
   "metadata": {},
   "outputs": [
    {
     "data": {
      "text/plain": [
       "[-1, 0, 1, 2, 3, 4]"
      ]
     },
     "execution_count": 36,
     "metadata": {},
     "output_type": "execute_result"
    }
   ],
   "source": [
    "# CON LIST \n",
    "lista_list = [resta_2(num) for num in numeros]\n",
    "lista_list"
   ]
  },
  {
   "cell_type": "code",
   "execution_count": 37,
   "id": "british-flour",
   "metadata": {},
   "outputs": [],
   "source": [
    "nombres = [\"AlUMNADO\", \"Sonia\", \"Dobby\"]"
   ]
  },
  {
   "cell_type": "code",
   "execution_count": 38,
   "id": "unique-blind",
   "metadata": {},
   "outputs": [],
   "source": [
    "def saluda(x):\n",
    "    return f\"Hola {x} 🔥\""
   ]
  },
  {
   "cell_type": "code",
   "execution_count": 39,
   "id": "korean-snake",
   "metadata": {},
   "outputs": [
    {
     "data": {
      "text/plain": [
       "['Hola AlUMNADO 🔥', 'Hola Sonia 🔥', 'Hola Dobby 🔥']"
      ]
     },
     "execution_count": 39,
     "metadata": {},
     "output_type": "execute_result"
    }
   ],
   "source": [
    "list(map(saluda,nombres))"
   ]
  },
  {
   "cell_type": "markdown",
   "id": "trained-algeria",
   "metadata": {},
   "source": [
    "#### Extra: ¡Hazlo con lambda!"
   ]
  },
  {
   "cell_type": "code",
   "execution_count": 40,
   "id": "functioning-alpha",
   "metadata": {},
   "outputs": [
    {
     "data": {
      "text/plain": [
       "[-1, 0, 1, 2, 3, 4]"
      ]
     },
     "execution_count": 40,
     "metadata": {},
     "output_type": "execute_result"
    }
   ],
   "source": [
    "list(map(lambda x: x-2, numeros))"
   ]
  },
  {
   "cell_type": "code",
   "execution_count": 41,
   "id": "noticed-greek",
   "metadata": {},
   "outputs": [
    {
     "data": {
      "text/plain": [
       "['Hola AlUMNADO 🔥', 'Hola Sonia 🔥', 'Hola Dobby 🔥']"
      ]
     },
     "execution_count": 41,
     "metadata": {},
     "output_type": "execute_result"
    }
   ],
   "source": [
    "list(map(lambda x: f\"Hola {x} 🔥\", nombres))"
   ]
  },
  {
   "cell_type": "markdown",
   "id": "connected-found",
   "metadata": {},
   "source": [
    "### Filter"
   ]
  },
  {
   "cell_type": "markdown",
   "id": "boring-aluminum",
   "metadata": {},
   "source": [
    "La función filter() filtra una lista de elementos para los que una función devuelve True.\n",
    "```python\n",
    "filter(una_funcion, una_lista)\n",
    "```"
   ]
  },
  {
   "cell_type": "markdown",
   "id": "alpine-shakespeare",
   "metadata": {},
   "source": [
    "Imagina que quieres filtrar una lista de números para obtener solo los valores pares."
   ]
  },
  {
   "cell_type": "code",
   "execution_count": 44,
   "id": "voluntary-clerk",
   "metadata": {},
   "outputs": [],
   "source": [
    "valores = list(range(20))"
   ]
  },
  {
   "cell_type": "code",
   "execution_count": 45,
   "id": "7f0bf4d9",
   "metadata": {},
   "outputs": [
    {
     "data": {
      "text/plain": [
       "[0, 1, 2, 3, 4, 5, 6, 7, 8, 9, 10, 11, 12, 13, 14, 15, 16, 17, 18, 19]"
      ]
     },
     "execution_count": 45,
     "metadata": {},
     "output_type": "execute_result"
    }
   ],
   "source": [
    "valores"
   ]
  },
  {
   "cell_type": "code",
   "execution_count": 47,
   "id": "474a5875",
   "metadata": {},
   "outputs": [
    {
     "name": "stdout",
     "output_type": "stream",
     "text": [
      "[0, 2, 4, 6, 8, 10, 12, 14, 16, 18]\n"
     ]
    }
   ],
   "source": [
    "pares = []\n",
    "for num in valores:\n",
    "    if num % 2 == 0:\n",
    "        pares.append(num)\n",
    "print(pares)"
   ]
  },
  {
   "cell_type": "code",
   "execution_count": null,
   "id": "fatal-brake",
   "metadata": {},
   "outputs": [],
   "source": [
    "# Mejor aplicamos el filter"
   ]
  },
  {
   "cell_type": "markdown",
   "id": "considered-database",
   "metadata": {},
   "source": [
    "#### Primero lo hacemos con funciones"
   ]
  },
  {
   "cell_type": "code",
   "execution_count": 48,
   "id": "proved-anniversary",
   "metadata": {},
   "outputs": [],
   "source": [
    "def pares(x):\n",
    "    return x % 2 == 0"
   ]
  },
  {
   "cell_type": "code",
   "execution_count": 49,
   "id": "proper-colleague",
   "metadata": {},
   "outputs": [
    {
     "data": {
      "text/plain": [
       "False"
      ]
     },
     "execution_count": 49,
     "metadata": {},
     "output_type": "execute_result"
    }
   ],
   "source": [
    "pares(3)"
   ]
  },
  {
   "cell_type": "code",
   "execution_count": 50,
   "id": "approved-inquiry",
   "metadata": {},
   "outputs": [
    {
     "data": {
      "text/plain": [
       "True"
      ]
     },
     "execution_count": 50,
     "metadata": {},
     "output_type": "execute_result"
    }
   ],
   "source": [
    "pares(2)"
   ]
  },
  {
   "cell_type": "code",
   "execution_count": 51,
   "id": "b8d27827",
   "metadata": {},
   "outputs": [
    {
     "data": {
      "text/plain": [
       "[0, 2, 4, 6, 8, 10, 12, 14, 16, 18]"
      ]
     },
     "execution_count": 51,
     "metadata": {},
     "output_type": "execute_result"
    }
   ],
   "source": [
    "list(filter(pares,valores))"
   ]
  },
  {
   "cell_type": "markdown",
   "id": "gothic-limit",
   "metadata": {},
   "source": [
    "Imagina que quieres filtrar una lista y quedarte solo con los grupos que empiezan con la letra R"
   ]
  },
  {
   "cell_type": "code",
   "execution_count": 52,
   "id": "usual-contest",
   "metadata": {},
   "outputs": [],
   "source": [
    "grupos = [\"Rufus T. Firefly\", \"Standstill\", \"La M.O.D.A\", \"The Low Flying Panic Attack\", \"Rusos Blancos\"]"
   ]
  },
  {
   "cell_type": "code",
   "execution_count": 53,
   "id": "attractive-universe",
   "metadata": {},
   "outputs": [],
   "source": [
    "def empiezaconr(x):\n",
    "    return x[0].lower() == \"r\""
   ]
  },
  {
   "cell_type": "code",
   "execution_count": 54,
   "id": "fatal-flexibility",
   "metadata": {},
   "outputs": [
    {
     "data": {
      "text/plain": [
       "False"
      ]
     },
     "execution_count": 54,
     "metadata": {},
     "output_type": "execute_result"
    }
   ],
   "source": [
    "empiezaconr(\"Hola\")"
   ]
  },
  {
   "cell_type": "code",
   "execution_count": 55,
   "id": "reasonable-senior",
   "metadata": {},
   "outputs": [
    {
     "data": {
      "text/plain": [
       "['Rufus T. Firefly', 'Rusos Blancos']"
      ]
     },
     "execution_count": 55,
     "metadata": {},
     "output_type": "execute_result"
    }
   ],
   "source": [
    "list(filter(empiezaconr,grupos))"
   ]
  },
  {
   "cell_type": "code",
   "execution_count": 56,
   "id": "charitable-donna",
   "metadata": {},
   "outputs": [],
   "source": [
    "def empiezaconr_mejor(x):\n",
    "    return x.lower().startswith(\"r\")"
   ]
  },
  {
   "cell_type": "code",
   "execution_count": 57,
   "id": "impressive-berlin",
   "metadata": {},
   "outputs": [
    {
     "data": {
      "text/plain": [
       "['Rufus T. Firefly', 'Rusos Blancos']"
      ]
     },
     "execution_count": 57,
     "metadata": {},
     "output_type": "execute_result"
    }
   ],
   "source": [
    "list(filter(empiezaconr_mejor,grupos))"
   ]
  },
  {
   "cell_type": "markdown",
   "id": "younger-influence",
   "metadata": {},
   "source": [
    "#### Extra: ¡Hazlo con lambda!"
   ]
  },
  {
   "cell_type": "code",
   "execution_count": 58,
   "id": "direct-costs",
   "metadata": {},
   "outputs": [
    {
     "data": {
      "text/plain": [
       "['Rufus T. Firefly', 'Rusos Blancos']"
      ]
     },
     "execution_count": 58,
     "metadata": {},
     "output_type": "execute_result"
    }
   ],
   "source": [
    "list(filter(lambda x: x.lower().startswith(\"r\"), grupos))"
   ]
  },
  {
   "cell_type": "code",
   "execution_count": 59,
   "id": "broadband-caribbean",
   "metadata": {},
   "outputs": [
    {
     "data": {
      "text/plain": [
       "[0, 2, 4, 6, 8, 10, 12, 14, 16, 18]"
      ]
     },
     "execution_count": 59,
     "metadata": {},
     "output_type": "execute_result"
    }
   ],
   "source": [
    "list(filter(lambda x: x %2 == 0, valores))"
   ]
  },
  {
   "cell_type": "markdown",
   "id": "informal-climb",
   "metadata": {},
   "source": [
    "### Reduce"
   ]
  },
  {
   "cell_type": "markdown",
   "id": "challenging-valve",
   "metadata": {},
   "source": [
    "Esta función no es una función predefinida, lo cual implica importar antes la biblioteca functools para su uso. La función reduce() aplica de forma acumulativa la función f() sobre los elementos del iterable. El acumulador puede inicializarse con un tercer argumento opcional. El resultado es el valor final del acumulador.\n",
    "```python\n",
    "reduce(función, iterable[, inicial])\n",
    "```"
   ]
  },
  {
   "cell_type": "code",
   "execution_count": 62,
   "id": "brilliant-barrier",
   "metadata": {},
   "outputs": [],
   "source": [
    "from functools import reduce"
   ]
  },
  {
   "cell_type": "markdown",
   "id": "korean-partnership",
   "metadata": {},
   "source": [
    "⚠️ Reduce es un poco más complicado de entender que map() y filter() así que veamos paso a paso el siguiente ejemplo ⚠️"
   ]
  },
  {
   "cell_type": "code",
   "execution_count": 63,
   "id": "wicked-investigator",
   "metadata": {},
   "outputs": [],
   "source": [
    "def suma(x,y):\n",
    "    return x + y"
   ]
  },
  {
   "cell_type": "code",
   "execution_count": 68,
   "id": "1bc37aa9",
   "metadata": {},
   "outputs": [],
   "source": [
    "lista = [2,4,7,3]"
   ]
  },
  {
   "cell_type": "code",
   "execution_count": 69,
   "id": "ccaf04aa",
   "metadata": {},
   "outputs": [
    {
     "name": "stdout",
     "output_type": "stream",
     "text": [
      "16\n"
     ]
    }
   ],
   "source": [
    "print(reduce(suma, lista))"
   ]
  },
  {
   "cell_type": "markdown",
   "id": "exceptional-auditor",
   "metadata": {},
   "source": [
    "#### ¿Qué ha pasado?\n",
    "- Empezamos con una lista [2, 4, 7, 3] y pasamos la función suma (x, y) a reduce ( ) junto con esta lista, sin un valor inicial\n",
    "\n",
    "- reduce() llama a suma(2, 4), y suma() devuelve 6\n",
    "\n",
    "- reduce() llama a suma(6, 7) (resultado de la llamada anterior a suma() y el siguiente elemento de la lista como parámetros), y suma() devuelve 13\n",
    "\n",
    "- reduce() llama a suma(13, 3), y suma() devuelve 16\n",
    "\n",
    "Como no quedan más elementos en la secuencia, reduce() devuelve 16"
   ]
  },
  {
   "cell_type": "markdown",
   "id": "encouraging-modeling",
   "metadata": {},
   "source": [
    "Factorial:     \n",
    "Cantidad que resulta de la multiplicación de determinado número natural por todos los números naturales que le anteceden excluyendo el cero; se representa por n!"
   ]
  },
  {
   "cell_type": "code",
   "execution_count": 70,
   "id": "electrical-knitting",
   "metadata": {},
   "outputs": [],
   "source": [
    "def factorial(n):\n",
    "    \"\"\"Función que calcula el factorial de un número entero positivo.\n",
    "    Parámetros\n",
    "    n: Es un entero positivo.\n",
    "    Devuelve el factorial de n.\n",
    "    \"\"\"\n",
    "    temp = 1\n",
    "    for i in range(n):\n",
    "        temp *= i+1\n",
    "    return temp"
   ]
  },
  {
   "cell_type": "code",
   "execution_count": 71,
   "id": "lesbian-theory",
   "metadata": {},
   "outputs": [
    {
     "data": {
      "text/plain": [
       "5040"
      ]
     },
     "execution_count": 71,
     "metadata": {},
     "output_type": "execute_result"
    }
   ],
   "source": [
    "factorial(7)"
   ]
  },
  {
   "cell_type": "code",
   "execution_count": null,
   "id": "proof-hundred",
   "metadata": {},
   "outputs": [],
   "source": [
    "#Ahora Usemos Reduce"
   ]
  },
  {
   "cell_type": "markdown",
   "id": "northern-elephant",
   "metadata": {},
   "source": [
    "### Primero lo hacemos con funciones"
   ]
  },
  {
   "cell_type": "code",
   "execution_count": 72,
   "id": "metric-ranking",
   "metadata": {},
   "outputs": [
    {
     "data": {
      "text/plain": [
       "[1, 2, 3, 4, 5, 6, 7, 8]"
      ]
     },
     "execution_count": 72,
     "metadata": {},
     "output_type": "execute_result"
    }
   ],
   "source": [
    "nums = range(1,9)\n",
    "list(nums)"
   ]
  },
  {
   "cell_type": "code",
   "execution_count": 73,
   "id": "opponent-detector",
   "metadata": {},
   "outputs": [],
   "source": [
    "def multiplica(a,b):\n",
    "    print(a,b)\n",
    "    return a*b"
   ]
  },
  {
   "cell_type": "code",
   "execution_count": 74,
   "id": "sapphire-official",
   "metadata": {},
   "outputs": [
    {
     "name": "stdout",
     "output_type": "stream",
     "text": [
      "1 2\n",
      "2 3\n",
      "6 4\n",
      "24 5\n",
      "120 6\n",
      "720 7\n",
      "5040 8\n"
     ]
    },
    {
     "data": {
      "text/plain": [
       "40320"
      ]
     },
     "execution_count": 74,
     "metadata": {},
     "output_type": "execute_result"
    }
   ],
   "source": [
    "reduce(multiplica,nums)"
   ]
  },
  {
   "cell_type": "markdown",
   "id": "premier-familiar",
   "metadata": {},
   "source": [
    "### Extra: ¡Hazlo con lambda!"
   ]
  },
  {
   "cell_type": "code",
   "execution_count": 76,
   "id": "random-spring",
   "metadata": {},
   "outputs": [
    {
     "data": {
      "text/plain": [
       "40320"
      ]
     },
     "execution_count": 76,
     "metadata": {},
     "output_type": "execute_result"
    }
   ],
   "source": [
    "n = 9\n",
    "reduce(lambda x,y: x*y, range(1,n))"
   ]
  },
  {
   "cell_type": "markdown",
   "id": "innocent-alberta",
   "metadata": {},
   "source": [
    "## Summary\n",
    "- Map, filter, reduce (gracias por venir)"
   ]
  },
  {
   "cell_type": "markdown",
   "id": "jewish-configuration",
   "metadata": {},
   "source": [
    "## Further materials\n",
    "http://web.mit.edu/6.005/www/sp16/classes/25-map-filter-reduce/    \n",
    "https://docs.hektorprofe.net/python/funcionalidades-avanzadas/funciones-lambda/"
   ]
  }
 ],
 "metadata": {
  "kernelspec": {
   "display_name": "Python 3 (ipykernel)",
   "language": "python",
   "name": "python3"
  },
  "language_info": {
   "codemirror_mode": {
    "name": "ipython",
    "version": 3
   },
   "file_extension": ".py",
   "mimetype": "text/x-python",
   "name": "python",
   "nbconvert_exporter": "python",
   "pygments_lexer": "ipython3",
   "version": "3.9.5"
  },
  "toc": {
   "base_numbering": 1,
   "nav_menu": {},
   "number_sections": true,
   "sideBar": true,
   "skip_h1_title": true,
   "title_cell": "Table of Contents",
   "title_sidebar": "Contents",
   "toc_cell": true,
   "toc_position": {
    "height": "calc(100% - 180px)",
    "left": "10px",
    "top": "150px",
    "width": "211px"
   },
   "toc_section_display": true,
   "toc_window_display": false
  }
 },
 "nbformat": 4,
 "nbformat_minor": 5
}
