{
 "cells": [
  {
   "cell_type": "markdown",
   "id": "296c3fa2",
   "metadata": {},
   "source": [
    "# 3.1 - MongoDB\n",
    "\n",
    "https://docs.mongodb.com/manual/administration/install-community/\n",
    "\n",
    "https://docs.mongodb.com/compass/current/install/\n",
    "\n",
    "MongoDB es una base de datos orientada a documentos. Esto quiere decir que en lugar de guardar los datos en registros, guarda los datos en documentos. Estos documentos son almacenados en BSON, que es una representación binaria de JSON.\n",
    "\n",
    "Una de las diferencias más importantes con respecto a las bases de datos relacionales, es que no es necesario seguir un esquema. Los documentos de una misma colección, concepto similar a una tabla de una base de datos relacional, pueden tener esquemas diferentes.\n"
   ]
  },
  {
   "cell_type": "code",
   "execution_count": 1,
   "id": "d686b82b",
   "metadata": {},
   "outputs": [
    {
     "name": "stdout",
     "output_type": "stream",
     "text": [
      "Requirement already satisfied: pymongo in /Users/iudh/opt/anaconda3/envs/clase/lib/python3.8/site-packages (4.0.1)\n",
      "Note: you may need to restart the kernel to use updated packages.\n"
     ]
    }
   ],
   "source": [
    "%pip install pymongo"
   ]
  },
  {
   "cell_type": "code",
   "execution_count": 2,
   "id": "b53f90eb",
   "metadata": {},
   "outputs": [],
   "source": [
    "import pymongo # importa toda la libreria"
   ]
  },
  {
   "cell_type": "code",
   "execution_count": 3,
   "id": "87c2662e",
   "metadata": {},
   "outputs": [],
   "source": [
    "cliente=pymongo.MongoClient()   # llamar al servidor\n",
    "\n",
    "db=cliente.nueva_db    # crea una nueva base de datos"
   ]
  },
  {
   "cell_type": "code",
   "execution_count": 4,
   "id": "882a8427",
   "metadata": {},
   "outputs": [
    {
     "data": {
      "text/plain": [
       "['admin',\n",
       " 'arbbot',\n",
       " 'companies',\n",
       " 'complete_exchange_matches',\n",
       " 'config',\n",
       " 'local',\n",
       " 'telegram_messages']"
      ]
     },
     "execution_count": 4,
     "metadata": {},
     "output_type": "execute_result"
    }
   ],
   "source": [
    "cliente.list_database_names()"
   ]
  },
  {
   "cell_type": "code",
   "execution_count": 5,
   "id": "ae026dc9",
   "metadata": {},
   "outputs": [],
   "source": [
    "colec=db.n_coleccion    # crea una nueva coleccion de documentos"
   ]
  },
  {
   "cell_type": "code",
   "execution_count": 6,
   "id": "af4151db",
   "metadata": {},
   "outputs": [
    {
     "data": {
      "text/plain": [
       "[]"
      ]
     },
     "execution_count": 6,
     "metadata": {},
     "output_type": "execute_result"
    }
   ],
   "source": [
    "db.list_collection_names()"
   ]
  },
  {
   "cell_type": "code",
   "execution_count": 7,
   "id": "bc989056",
   "metadata": {},
   "outputs": [
    {
     "data": {
      "text/plain": [
       "<pymongo.results.InsertOneResult at 0x7f9b51477e00>"
      ]
     },
     "execution_count": 7,
     "metadata": {},
     "output_type": "execute_result"
    }
   ],
   "source": [
    "dictio={'nombre': 'Pepe', 'edad':50000}\n",
    "\n",
    "colec.insert_one(dictio) # inserta un elemento en la coleccion"
   ]
  },
  {
   "cell_type": "code",
   "execution_count": 8,
   "id": "85c8002d",
   "metadata": {},
   "outputs": [
    {
     "data": {
      "text/plain": [
       "['admin',\n",
       " 'arbbot',\n",
       " 'companies',\n",
       " 'complete_exchange_matches',\n",
       " 'config',\n",
       " 'local',\n",
       " 'nueva_db',\n",
       " 'telegram_messages']"
      ]
     },
     "execution_count": 8,
     "metadata": {},
     "output_type": "execute_result"
    }
   ],
   "source": [
    "cliente.list_database_names()"
   ]
  },
  {
   "cell_type": "code",
   "execution_count": 9,
   "id": "6afb0b69",
   "metadata": {},
   "outputs": [
    {
     "data": {
      "text/plain": [
       "['n_coleccion']"
      ]
     },
     "execution_count": 9,
     "metadata": {},
     "output_type": "execute_result"
    }
   ],
   "source": [
    "db.list_collection_names()"
   ]
  },
  {
   "cell_type": "code",
   "execution_count": 10,
   "id": "f4320811",
   "metadata": {},
   "outputs": [
    {
     "data": {
      "text/plain": [
       "<pymongo.results.InsertOneResult at 0x7f9b5145f1c0>"
      ]
     },
     "execution_count": 10,
     "metadata": {},
     "output_type": "execute_result"
    }
   ],
   "source": [
    "dictio={'saludo': 'hola que tal', 'insulto': 'eres un carapijo'}\n",
    "\n",
    "colec.insert_one(dictio)"
   ]
  },
  {
   "cell_type": "code",
   "execution_count": 11,
   "id": "812407c3",
   "metadata": {},
   "outputs": [
    {
     "data": {
      "text/plain": [
       "<pymongo.results.InsertManyResult at 0x7f9b51477c00>"
      ]
     },
     "execution_count": 11,
     "metadata": {},
     "output_type": "execute_result"
    }
   ],
   "source": [
    "# insertar varios\n",
    "\n",
    "colec.insert_many([\n",
    "    {'codigo': 'python', 'hora': '943', 'juego para niños': 'Java', 'edad': 30},\n",
    "    {'hola': 'adios','edad': 20}\n",
    "])"
   ]
  },
  {
   "cell_type": "code",
   "execution_count": 12,
   "id": "0dcf515f",
   "metadata": {},
   "outputs": [
    {
     "data": {
      "text/plain": [
       "<pymongo.results.InsertOneResult at 0x7f9b51477240>"
      ]
     },
     "execution_count": 12,
     "metadata": {},
     "output_type": "execute_result"
    }
   ],
   "source": [
    "dictio={'id': 0, 'saludo': 'hola que tal', 'insulto': 'eres un carapijo'} # puesto asi, es otra key\n",
    "\n",
    "colec.insert_one(dictio)"
   ]
  },
  {
   "cell_type": "code",
   "execution_count": 13,
   "id": "51f1daf9",
   "metadata": {},
   "outputs": [
    {
     "data": {
      "text/plain": [
       "<pymongo.results.InsertOneResult at 0x7f9b5148cb40>"
      ]
     },
     "execution_count": 13,
     "metadata": {},
     "output_type": "execute_result"
    }
   ],
   "source": [
    "dictio={'_id': 0, 'saludo': 'hola que tal', 'insulto': 'eres un carapijo'} # asi si\n",
    "\n",
    "colec.insert_one(dictio)"
   ]
  },
  {
   "cell_type": "code",
   "execution_count": 14,
   "id": "45b50423",
   "metadata": {},
   "outputs": [
    {
     "data": {
      "text/plain": [
       "<pymongo.results.InsertOneResult at 0x7f9b5148c680>"
      ]
     },
     "execution_count": 14,
     "metadata": {},
     "output_type": "execute_result"
    }
   ],
   "source": [
    "dictio={'_id': 'h', 'saludo': 'hola que tal', 'insulto': 'eres un carapijo'} # asi si\n",
    "\n",
    "colec.insert_one(dictio)"
   ]
  },
  {
   "cell_type": "code",
   "execution_count": 15,
   "id": "20e41237",
   "metadata": {},
   "outputs": [
    {
     "data": {
      "text/plain": [
       "[{'_id': ObjectId('61fbc53e4472301b1edc3d53'),\n",
       "  'nombre': 'Pepe',\n",
       "  'edad': 50000},\n",
       " {'_id': ObjectId('61fbc53e4472301b1edc3d54'),\n",
       "  'saludo': 'hola que tal',\n",
       "  'insulto': 'eres un carapijo'},\n",
       " {'_id': ObjectId('61fbc53e4472301b1edc3d55'),\n",
       "  'codigo': 'python',\n",
       "  'hora': '943',\n",
       "  'juego para niños': 'Java',\n",
       "  'edad': 30},\n",
       " {'_id': ObjectId('61fbc53e4472301b1edc3d56'), 'hola': 'adios', 'edad': 20},\n",
       " {'_id': ObjectId('61fbc53e4472301b1edc3d57'),\n",
       "  'id': 0,\n",
       "  'saludo': 'hola que tal',\n",
       "  'insulto': 'eres un carapijo'},\n",
       " {'_id': 0, 'saludo': 'hola que tal', 'insulto': 'eres un carapijo'},\n",
       " {'_id': 'h', 'saludo': 'hola que tal', 'insulto': 'eres un carapijo'}]"
      ]
     },
     "execution_count": 15,
     "metadata": {},
     "output_type": "execute_result"
    }
   ],
   "source": [
    "list(colec.find())  # encuentra todo"
   ]
  },
  {
   "cell_type": "code",
   "execution_count": 16,
   "id": "308bdc0f",
   "metadata": {},
   "outputs": [
    {
     "data": {
      "text/plain": [
       "[{'_id': ObjectId('61fbc53e4472301b1edc3d54'),\n",
       "  'saludo': 'hola que tal',\n",
       "  'insulto': 'eres un carapijo'},\n",
       " {'_id': ObjectId('61fbc53e4472301b1edc3d57'),\n",
       "  'id': 0,\n",
       "  'saludo': 'hola que tal',\n",
       "  'insulto': 'eres un carapijo'},\n",
       " {'_id': 0, 'saludo': 'hola que tal', 'insulto': 'eres un carapijo'},\n",
       " {'_id': 'h', 'saludo': 'hola que tal', 'insulto': 'eres un carapijo'}]"
      ]
     },
     "execution_count": 16,
     "metadata": {},
     "output_type": "execute_result"
    }
   ],
   "source": [
    "list(colec.find({'saludo': 'hola que tal'}))  # es una query"
   ]
  },
  {
   "cell_type": "code",
   "execution_count": 17,
   "id": "38d60c9f",
   "metadata": {},
   "outputs": [
    {
     "data": {
      "text/plain": [
       "[{'_id': ObjectId('61fbc53e4472301b1edc3d54'),\n",
       "  'saludo': 'hola que tal',\n",
       "  'insulto': 'eres un carapijo'},\n",
       " {'_id': ObjectId('61fbc53e4472301b1edc3d57'),\n",
       "  'id': 0,\n",
       "  'saludo': 'hola que tal',\n",
       "  'insulto': 'eres un carapijo'}]"
      ]
     },
     "execution_count": 17,
     "metadata": {},
     "output_type": "execute_result"
    }
   ],
   "source": [
    "list(colec.find({'saludo': 'hola que tal'}).limit(2))"
   ]
  },
  {
   "cell_type": "code",
   "execution_count": 18,
   "id": "52107153",
   "metadata": {},
   "outputs": [
    {
     "data": {
      "text/plain": [
       "[{'_id': ObjectId('61fbc53e4472301b1edc3d53'),\n",
       "  'nombre': 'Pepe',\n",
       "  'edad': 50000},\n",
       " {'_id': ObjectId('61fbc53e4472301b1edc3d55'),\n",
       "  'codigo': 'python',\n",
       "  'hora': '943',\n",
       "  'juego para niños': 'Java',\n",
       "  'edad': 30}]"
      ]
     },
     "execution_count": 18,
     "metadata": {},
     "output_type": "execute_result"
    }
   ],
   "source": [
    "list(colec.find({'edad': {'$gte': 25}})) # dame aquellos doc cuya key edad sea mayor o igual que 25"
   ]
  },
  {
   "cell_type": "code",
   "execution_count": 19,
   "id": "dbfc33db",
   "metadata": {},
   "outputs": [
    {
     "data": {
      "text/plain": [
       "[{'_id': ObjectId('61fbc53e4472301b1edc3d53'),\n",
       "  'nombre': 'Pepe',\n",
       "  'edad': 50000},\n",
       " {'_id': ObjectId('61fbc53e4472301b1edc3d55'),\n",
       "  'codigo': 'python',\n",
       "  'hora': '943',\n",
       "  'juego para niños': 'Java',\n",
       "  'edad': 30}]"
      ]
     },
     "execution_count": 19,
     "metadata": {},
     "output_type": "execute_result"
    }
   ],
   "source": [
    "list(colec.find({'edad': {'$gt': 25}})) # dame aquellos doc cuya key edad sea mayor que"
   ]
  },
  {
   "cell_type": "code",
   "execution_count": 20,
   "id": "b2294eb5",
   "metadata": {},
   "outputs": [
    {
     "data": {
      "text/plain": [
       "[{'_id': ObjectId('61fbc53e4472301b1edc3d56'), 'hola': 'adios', 'edad': 20}]"
      ]
     },
     "execution_count": 20,
     "metadata": {},
     "output_type": "execute_result"
    }
   ],
   "source": [
    "list(colec.find({'edad': {'$lte': 25}})) # dame aquellos doc cuya key edad sea menor que o igual"
   ]
  },
  {
   "cell_type": "code",
   "execution_count": 21,
   "id": "347ac0ff",
   "metadata": {},
   "outputs": [
    {
     "data": {
      "text/plain": [
       "[{'_id': ObjectId('61fbc53e4472301b1edc3d56'), 'hola': 'adios', 'edad': 20}]"
      ]
     },
     "execution_count": 21,
     "metadata": {},
     "output_type": "execute_result"
    }
   ],
   "source": [
    "list(colec.find({'edad': {'$lt': 25}})) # estrictamente menor"
   ]
  },
  {
   "cell_type": "code",
   "execution_count": 22,
   "id": "a7a1d386",
   "metadata": {},
   "outputs": [
    {
     "data": {
      "text/plain": [
       "<pymongo.results.InsertOneResult at 0x7f9b5149d540>"
      ]
     },
     "execution_count": 22,
     "metadata": {},
     "output_type": "execute_result"
    }
   ],
   "source": [
    "dictio={'saludo': 'hola que tal', 'insulto': {'1': 'tonto', '2': 'alegre'}} # asi si\n",
    "\n",
    "colec.insert_one(dictio)"
   ]
  },
  {
   "cell_type": "code",
   "execution_count": 23,
   "id": "08977a44",
   "metadata": {},
   "outputs": [
    {
     "data": {
      "text/plain": [
       "[{'_id': ObjectId('61fbc53e4472301b1edc3d58'),\n",
       "  'saludo': 'hola que tal',\n",
       "  'insulto': {'1': 'tonto', '2': 'alegre'}}]"
      ]
     },
     "execution_count": 23,
     "metadata": {},
     "output_type": "execute_result"
    }
   ],
   "source": [
    "list(colec.find({'insulto': {'1': 'tonto', '2': 'alegre'}})) "
   ]
  },
  {
   "cell_type": "code",
   "execution_count": 24,
   "id": "834043b6",
   "metadata": {},
   "outputs": [
    {
     "data": {
      "text/plain": [
       "<pymongo.results.DeleteResult at 0x7f9b5149b640>"
      ]
     },
     "execution_count": 24,
     "metadata": {},
     "output_type": "execute_result"
    }
   ],
   "source": [
    "colec.delete_one({'_id': 'hola'})   # borrar uno, el primero si hay varios"
   ]
  },
  {
   "cell_type": "code",
   "execution_count": 25,
   "id": "81d09a7e",
   "metadata": {},
   "outputs": [
    {
     "data": {
      "text/plain": [
       "[{'_id': ObjectId('61fbc53e4472301b1edc3d53'),\n",
       "  'nombre': 'Pepe',\n",
       "  'edad': 50000},\n",
       " {'_id': ObjectId('61fbc53e4472301b1edc3d54'),\n",
       "  'saludo': 'hola que tal',\n",
       "  'insulto': 'eres un carapijo'},\n",
       " {'_id': ObjectId('61fbc53e4472301b1edc3d55'),\n",
       "  'codigo': 'python',\n",
       "  'hora': '943',\n",
       "  'juego para niños': 'Java',\n",
       "  'edad': 30},\n",
       " {'_id': ObjectId('61fbc53e4472301b1edc3d56'), 'hola': 'adios', 'edad': 20},\n",
       " {'_id': ObjectId('61fbc53e4472301b1edc3d57'),\n",
       "  'id': 0,\n",
       "  'saludo': 'hola que tal',\n",
       "  'insulto': 'eres un carapijo'},\n",
       " {'_id': 0, 'saludo': 'hola que tal', 'insulto': 'eres un carapijo'},\n",
       " {'_id': 'h', 'saludo': 'hola que tal', 'insulto': 'eres un carapijo'},\n",
       " {'_id': ObjectId('61fbc53e4472301b1edc3d58'),\n",
       "  'saludo': 'hola que tal',\n",
       "  'insulto': {'1': 'tonto', '2': 'alegre'}}]"
      ]
     },
     "execution_count": 25,
     "metadata": {},
     "output_type": "execute_result"
    }
   ],
   "source": [
    "list(colec.find())  "
   ]
  },
  {
   "cell_type": "code",
   "execution_count": 26,
   "id": "802302e0",
   "metadata": {},
   "outputs": [
    {
     "data": {
      "text/plain": [
       "<pymongo.results.DeleteResult at 0x7f9b51496700>"
      ]
     },
     "execution_count": 26,
     "metadata": {},
     "output_type": "execute_result"
    }
   ],
   "source": [
    "colec.delete_many({'edad': {'$lt': 25}})  # borrar muchos segun condicion"
   ]
  },
  {
   "cell_type": "code",
   "execution_count": 27,
   "id": "39053424",
   "metadata": {},
   "outputs": [
    {
     "data": {
      "text/plain": [
       "[]"
      ]
     },
     "execution_count": 27,
     "metadata": {},
     "output_type": "execute_result"
    }
   ],
   "source": [
    "list(colec.find({'edad': {'$lt': 25}})) "
   ]
  },
  {
   "cell_type": "code",
   "execution_count": 28,
   "id": "2d7a0532",
   "metadata": {},
   "outputs": [
    {
     "data": {
      "text/plain": [
       "<pymongo.results.UpdateResult at 0x7f9b510f9400>"
      ]
     },
     "execution_count": 28,
     "metadata": {},
     "output_type": "execute_result"
    }
   ],
   "source": [
    "colec.update_one({'nombre': 'Pepe'}, {'$set': {'nombre': 'Mamut de las cavernas'}})"
   ]
  },
  {
   "cell_type": "code",
   "execution_count": 29,
   "id": "0a96268d",
   "metadata": {},
   "outputs": [
    {
     "data": {
      "text/plain": [
       "[{'_id': ObjectId('61fbc53e4472301b1edc3d53'),\n",
       "  'nombre': 'Mamut de las cavernas',\n",
       "  'edad': 50000},\n",
       " {'_id': ObjectId('61fbc53e4472301b1edc3d54'),\n",
       "  'saludo': 'hola que tal',\n",
       "  'insulto': 'eres un carapijo'},\n",
       " {'_id': ObjectId('61fbc53e4472301b1edc3d55'),\n",
       "  'codigo': 'python',\n",
       "  'hora': '943',\n",
       "  'juego para niños': 'Java',\n",
       "  'edad': 30},\n",
       " {'_id': ObjectId('61fbc53e4472301b1edc3d57'),\n",
       "  'id': 0,\n",
       "  'saludo': 'hola que tal',\n",
       "  'insulto': 'eres un carapijo'},\n",
       " {'_id': 0, 'saludo': 'hola que tal', 'insulto': 'eres un carapijo'},\n",
       " {'_id': 'h', 'saludo': 'hola que tal', 'insulto': 'eres un carapijo'},\n",
       " {'_id': ObjectId('61fbc53e4472301b1edc3d58'),\n",
       "  'saludo': 'hola que tal',\n",
       "  'insulto': {'1': 'tonto', '2': 'alegre'}}]"
      ]
     },
     "execution_count": 29,
     "metadata": {},
     "output_type": "execute_result"
    }
   ],
   "source": [
    "list(colec.find())  "
   ]
  },
  {
   "cell_type": "code",
   "execution_count": 30,
   "id": "79a2698b",
   "metadata": {},
   "outputs": [
    {
     "data": {
      "text/plain": [
       "<pymongo.results.UpdateResult at 0x7f9b51472980>"
      ]
     },
     "execution_count": 30,
     "metadata": {},
     "output_type": "execute_result"
    }
   ],
   "source": [
    "colec.update_many({'saludo': 'hola'}, {'$set': {'saludo': ' hola chato, como vas?'}})"
   ]
  },
  {
   "cell_type": "code",
   "execution_count": 31,
   "id": "1e743994",
   "metadata": {},
   "outputs": [
    {
     "data": {
      "text/plain": [
       "[{'_id': ObjectId('61fbc53e4472301b1edc3d55'),\n",
       "  'codigo': 'python',\n",
       "  'hora': '943',\n",
       "  'juego para niños': 'Java',\n",
       "  'edad': 30}]"
      ]
     },
     "execution_count": 31,
     "metadata": {},
     "output_type": "execute_result"
    }
   ],
   "source": [
    "list(colec.find({'hora': {'$regex': '\\d'}}))  # con regex"
   ]
  },
  {
   "cell_type": "code",
   "execution_count": 32,
   "id": "6a16c5c9",
   "metadata": {},
   "outputs": [],
   "source": [
    "colec.drop()  # elimina la coleccion"
   ]
  },
  {
   "cell_type": "code",
   "execution_count": 33,
   "id": "845db65e",
   "metadata": {},
   "outputs": [
    {
     "data": {
      "text/plain": [
       "[]"
      ]
     },
     "execution_count": 33,
     "metadata": {},
     "output_type": "execute_result"
    }
   ],
   "source": [
    "db.list_collection_names()"
   ]
  },
  {
   "cell_type": "markdown",
   "id": "3a5a081e",
   "metadata": {},
   "source": [
    "### Geoqueries"
   ]
  },
  {
   "cell_type": "code",
   "execution_count": 34,
   "id": "fc1ac2f4",
   "metadata": {},
   "outputs": [],
   "source": [
    "from pymongo import MongoClient"
   ]
  },
  {
   "cell_type": "code",
   "execution_count": 35,
   "id": "fda7a05e",
   "metadata": {},
   "outputs": [],
   "source": [
    "cliente=MongoClient('mongodb://localhost:27017')"
   ]
  },
  {
   "cell_type": "code",
   "execution_count": 36,
   "id": "4b6ea2d9",
   "metadata": {},
   "outputs": [],
   "source": [
    "db=cliente.companies  # es la base de datos"
   ]
  },
  {
   "cell_type": "code",
   "execution_count": 37,
   "id": "f6b1b78d",
   "metadata": {},
   "outputs": [],
   "source": [
    "colec=db.companies # es la coleccion"
   ]
  },
  {
   "cell_type": "code",
   "execution_count": 38,
   "id": "ee97f297",
   "metadata": {},
   "outputs": [],
   "source": [
    "al_menos_1_ofi=colec.find({'offices': {'$not': {'$size': 0}}},\n",
    "                          {'_id': 0, 'name': 1, 'offices': 1})\n",
    "\n",
    "\n",
    "# devuelve aquellos elementos con oficinas distinto de cero(en longitud)\n",
    "# solo el nombre y las oficinas sin id"
   ]
  },
  {
   "cell_type": "code",
   "execution_count": 39,
   "id": "a1483034",
   "metadata": {},
   "outputs": [
    {
     "data": {
      "text/html": [
       "<div>\n",
       "<style scoped>\n",
       "    .dataframe tbody tr th:only-of-type {\n",
       "        vertical-align: middle;\n",
       "    }\n",
       "\n",
       "    .dataframe tbody tr th {\n",
       "        vertical-align: top;\n",
       "    }\n",
       "\n",
       "    .dataframe thead th {\n",
       "        text-align: right;\n",
       "    }\n",
       "</style>\n",
       "<table border=\"1\" class=\"dataframe\">\n",
       "  <thead>\n",
       "    <tr style=\"text-align: right;\">\n",
       "      <th></th>\n",
       "      <th>name</th>\n",
       "      <th>offices</th>\n",
       "    </tr>\n",
       "  </thead>\n",
       "  <tbody>\n",
       "    <tr>\n",
       "      <th>0</th>\n",
       "      <td>Wetpaint</td>\n",
       "      <td>[{'description': '', 'address1': '710 - 2nd Av...</td>\n",
       "    </tr>\n",
       "    <tr>\n",
       "      <th>1</th>\n",
       "      <td>AdventNet</td>\n",
       "      <td>[{'description': 'Headquarters', 'address1': '...</td>\n",
       "    </tr>\n",
       "    <tr>\n",
       "      <th>2</th>\n",
       "      <td>Zoho</td>\n",
       "      <td>[{'description': 'Headquarters', 'address1': '...</td>\n",
       "    </tr>\n",
       "    <tr>\n",
       "      <th>3</th>\n",
       "      <td>Digg</td>\n",
       "      <td>[{'description': None, 'address1': '135 Missis...</td>\n",
       "    </tr>\n",
       "    <tr>\n",
       "      <th>4</th>\n",
       "      <td>Facebook</td>\n",
       "      <td>[{'description': 'Headquarters', 'address1': '...</td>\n",
       "    </tr>\n",
       "  </tbody>\n",
       "</table>\n",
       "</div>"
      ],
      "text/plain": [
       "        name                                            offices\n",
       "0   Wetpaint  [{'description': '', 'address1': '710 - 2nd Av...\n",
       "1  AdventNet  [{'description': 'Headquarters', 'address1': '...\n",
       "2       Zoho  [{'description': 'Headquarters', 'address1': '...\n",
       "3       Digg  [{'description': None, 'address1': '135 Missis...\n",
       "4   Facebook  [{'description': 'Headquarters', 'address1': '..."
      ]
     },
     "execution_count": 39,
     "metadata": {},
     "output_type": "execute_result"
    }
   ],
   "source": [
    "import pandas as pd\n",
    "\n",
    "df=pd.DataFrame(al_menos_1_ofi)\n",
    "\n",
    "df.head()"
   ]
  },
  {
   "cell_type": "code",
   "execution_count": 40,
   "id": "cfe2dbad",
   "metadata": {},
   "outputs": [],
   "source": [
    "df=df.dropna()"
   ]
  },
  {
   "cell_type": "code",
   "execution_count": 41,
   "id": "ca153d3d",
   "metadata": {},
   "outputs": [],
   "source": [
    "jsnn=df.offices.apply(lambda x: pd.json_normalize(x))"
   ]
  },
  {
   "cell_type": "code",
   "execution_count": 42,
   "id": "9981bc6a",
   "metadata": {},
   "outputs": [
    {
     "data": {
      "text/plain": [
       "pandas.core.frame.DataFrame"
      ]
     },
     "execution_count": 42,
     "metadata": {},
     "output_type": "execute_result"
    }
   ],
   "source": [
    "type(jsnn[0])"
   ]
  },
  {
   "cell_type": "code",
   "execution_count": 43,
   "id": "06e2a013",
   "metadata": {},
   "outputs": [
    {
     "data": {
      "text/html": [
       "<div>\n",
       "<style scoped>\n",
       "    .dataframe tbody tr th:only-of-type {\n",
       "        vertical-align: middle;\n",
       "    }\n",
       "\n",
       "    .dataframe tbody tr th {\n",
       "        vertical-align: top;\n",
       "    }\n",
       "\n",
       "    .dataframe thead th {\n",
       "        text-align: right;\n",
       "    }\n",
       "</style>\n",
       "<table border=\"1\" class=\"dataframe\">\n",
       "  <thead>\n",
       "    <tr style=\"text-align: right;\">\n",
       "      <th></th>\n",
       "      <th>description</th>\n",
       "      <th>address1</th>\n",
       "      <th>address2</th>\n",
       "      <th>zip_code</th>\n",
       "      <th>city</th>\n",
       "      <th>state_code</th>\n",
       "      <th>country_code</th>\n",
       "      <th>latitude</th>\n",
       "      <th>longitude</th>\n",
       "    </tr>\n",
       "  </thead>\n",
       "  <tbody>\n",
       "    <tr>\n",
       "      <th>0</th>\n",
       "      <td></td>\n",
       "      <td>710 - 2nd Avenue</td>\n",
       "      <td>Suite 1100</td>\n",
       "      <td>98104</td>\n",
       "      <td>Seattle</td>\n",
       "      <td>WA</td>\n",
       "      <td>USA</td>\n",
       "      <td>47.603122</td>\n",
       "      <td>-122.333253</td>\n",
       "    </tr>\n",
       "    <tr>\n",
       "      <th>1</th>\n",
       "      <td></td>\n",
       "      <td>270 Lafayette Street</td>\n",
       "      <td>Suite 505</td>\n",
       "      <td>10012</td>\n",
       "      <td>New York</td>\n",
       "      <td>NY</td>\n",
       "      <td>USA</td>\n",
       "      <td>40.723731</td>\n",
       "      <td>-73.996431</td>\n",
       "    </tr>\n",
       "    <tr>\n",
       "      <th>2</th>\n",
       "      <td>Headquarters</td>\n",
       "      <td>4900 Hopyard Rd.</td>\n",
       "      <td>Suite 310</td>\n",
       "      <td>94588</td>\n",
       "      <td>Pleasanton</td>\n",
       "      <td>CA</td>\n",
       "      <td>USA</td>\n",
       "      <td>37.692934</td>\n",
       "      <td>-121.904945</td>\n",
       "    </tr>\n",
       "    <tr>\n",
       "      <th>3</th>\n",
       "      <td>Headquarters</td>\n",
       "      <td>4900 Hopyard Rd</td>\n",
       "      <td>Suite 310</td>\n",
       "      <td>94588</td>\n",
       "      <td>Pleasanton</td>\n",
       "      <td>CA</td>\n",
       "      <td>USA</td>\n",
       "      <td>37.692934</td>\n",
       "      <td>-121.904945</td>\n",
       "    </tr>\n",
       "    <tr>\n",
       "      <th>4</th>\n",
       "      <td>None</td>\n",
       "      <td>135 Mississippi St</td>\n",
       "      <td></td>\n",
       "      <td>94107</td>\n",
       "      <td>San Francisco</td>\n",
       "      <td>CA</td>\n",
       "      <td>USA</td>\n",
       "      <td>37.764726</td>\n",
       "      <td>-122.394523</td>\n",
       "    </tr>\n",
       "  </tbody>\n",
       "</table>\n",
       "</div>"
      ],
      "text/plain": [
       "    description              address1    address2 zip_code           city  \\\n",
       "0                    710 - 2nd Avenue  Suite 1100    98104        Seattle   \n",
       "1                270 Lafayette Street   Suite 505    10012       New York   \n",
       "2  Headquarters      4900 Hopyard Rd.   Suite 310    94588     Pleasanton   \n",
       "3  Headquarters       4900 Hopyard Rd   Suite 310    94588     Pleasanton   \n",
       "4          None    135 Mississippi St                94107  San Francisco   \n",
       "\n",
       "  state_code country_code   latitude   longitude  \n",
       "0         WA          USA  47.603122 -122.333253  \n",
       "1         NY          USA  40.723731  -73.996431  \n",
       "2         CA          USA  37.692934 -121.904945  \n",
       "3         CA          USA  37.692934 -121.904945  \n",
       "4         CA          USA  37.764726 -122.394523  "
      ]
     },
     "execution_count": 43,
     "metadata": {},
     "output_type": "execute_result"
    }
   ],
   "source": [
    "df_n=pd.DataFrame()  # df vacio\n",
    "\n",
    "\n",
    "for i in range(1000):\n",
    "    df_n=df_n.append(pd.json_normalize(df.offices[i]), ignore_index=True)\n",
    "\n",
    "df_n.head()"
   ]
  },
  {
   "cell_type": "code",
   "execution_count": 44,
   "id": "7908dfad",
   "metadata": {},
   "outputs": [
    {
     "data": {
      "text/plain": [
       "(1272, 9)"
      ]
     },
     "execution_count": 44,
     "metadata": {},
     "output_type": "execute_result"
    }
   ],
   "source": [
    "df_n.shape"
   ]
  },
  {
   "cell_type": "code",
   "execution_count": 45,
   "id": "e4b7c626",
   "metadata": {},
   "outputs": [],
   "source": [
    "def get_first(data):\n",
    "    \n",
    "    #data=data['offices']\n",
    "    \n",
    "    principal=None\n",
    "    \n",
    "    \n",
    "    if data[0]['latitude'] and data[0]['longitude']:\n",
    "        # esto es una geoquery (geopoint)\n",
    "        \n",
    "        principal={\n",
    "            'type': 'Point',\n",
    "            'coordinates': [data[0]['latitude'], data[0]['longitude']]\n",
    "        }\n",
    "        \n",
    "    return {'totalOffices': len(data),\n",
    "            'lat': data[0]['latitude'],\n",
    "            'lng': data[0]['longitude'],\n",
    "            'principal':principal}"
   ]
  },
  {
   "cell_type": "code",
   "execution_count": 46,
   "id": "a935b2c1",
   "metadata": {},
   "outputs": [],
   "source": [
    "first_ofi=pd.DataFrame(df.offices.apply(get_first).dropna())\n",
    "\n",
    "first_ofi.columns=['principal']"
   ]
  },
  {
   "cell_type": "code",
   "execution_count": 47,
   "id": "5e564955",
   "metadata": {},
   "outputs": [
    {
     "data": {
      "text/html": [
       "<div>\n",
       "<style scoped>\n",
       "    .dataframe tbody tr th:only-of-type {\n",
       "        vertical-align: middle;\n",
       "    }\n",
       "\n",
       "    .dataframe tbody tr th {\n",
       "        vertical-align: top;\n",
       "    }\n",
       "\n",
       "    .dataframe thead th {\n",
       "        text-align: right;\n",
       "    }\n",
       "</style>\n",
       "<table border=\"1\" class=\"dataframe\">\n",
       "  <thead>\n",
       "    <tr style=\"text-align: right;\">\n",
       "      <th></th>\n",
       "      <th>principal</th>\n",
       "    </tr>\n",
       "  </thead>\n",
       "  <tbody>\n",
       "    <tr>\n",
       "      <th>0</th>\n",
       "      <td>{'totalOffices': 2, 'lat': 47.603122, 'lng': -...</td>\n",
       "    </tr>\n",
       "    <tr>\n",
       "      <th>1</th>\n",
       "      <td>{'totalOffices': 1, 'lat': 37.692934, 'lng': -...</td>\n",
       "    </tr>\n",
       "    <tr>\n",
       "      <th>2</th>\n",
       "      <td>{'totalOffices': 1, 'lat': 37.692934, 'lng': -...</td>\n",
       "    </tr>\n",
       "    <tr>\n",
       "      <th>3</th>\n",
       "      <td>{'totalOffices': 1, 'lat': 37.764726, 'lng': -...</td>\n",
       "    </tr>\n",
       "    <tr>\n",
       "      <th>4</th>\n",
       "      <td>{'totalOffices': 3, 'lat': 37.41605, 'lng': -1...</td>\n",
       "    </tr>\n",
       "  </tbody>\n",
       "</table>\n",
       "</div>"
      ],
      "text/plain": [
       "                                           principal\n",
       "0  {'totalOffices': 2, 'lat': 47.603122, 'lng': -...\n",
       "1  {'totalOffices': 1, 'lat': 37.692934, 'lng': -...\n",
       "2  {'totalOffices': 1, 'lat': 37.692934, 'lng': -...\n",
       "3  {'totalOffices': 1, 'lat': 37.764726, 'lng': -...\n",
       "4  {'totalOffices': 3, 'lat': 37.41605, 'lng': -1..."
      ]
     },
     "execution_count": 47,
     "metadata": {},
     "output_type": "execute_result"
    }
   ],
   "source": [
    "first_ofi.head()"
   ]
  },
  {
   "cell_type": "code",
   "execution_count": 48,
   "id": "9dcbc426",
   "metadata": {},
   "outputs": [
    {
     "data": {
      "text/html": [
       "<div>\n",
       "<style scoped>\n",
       "    .dataframe tbody tr th:only-of-type {\n",
       "        vertical-align: middle;\n",
       "    }\n",
       "\n",
       "    .dataframe tbody tr th {\n",
       "        vertical-align: top;\n",
       "    }\n",
       "\n",
       "    .dataframe thead th {\n",
       "        text-align: right;\n",
       "    }\n",
       "</style>\n",
       "<table border=\"1\" class=\"dataframe\">\n",
       "  <thead>\n",
       "    <tr style=\"text-align: right;\">\n",
       "      <th></th>\n",
       "      <th>name</th>\n",
       "      <th>principal</th>\n",
       "    </tr>\n",
       "  </thead>\n",
       "  <tbody>\n",
       "    <tr>\n",
       "      <th>0</th>\n",
       "      <td>Wetpaint</td>\n",
       "      <td>{'totalOffices': 2, 'lat': 47.603122, 'lng': -...</td>\n",
       "    </tr>\n",
       "    <tr>\n",
       "      <th>1</th>\n",
       "      <td>AdventNet</td>\n",
       "      <td>{'totalOffices': 1, 'lat': 37.692934, 'lng': -...</td>\n",
       "    </tr>\n",
       "    <tr>\n",
       "      <th>2</th>\n",
       "      <td>Zoho</td>\n",
       "      <td>{'totalOffices': 1, 'lat': 37.692934, 'lng': -...</td>\n",
       "    </tr>\n",
       "    <tr>\n",
       "      <th>3</th>\n",
       "      <td>Digg</td>\n",
       "      <td>{'totalOffices': 1, 'lat': 37.764726, 'lng': -...</td>\n",
       "    </tr>\n",
       "    <tr>\n",
       "      <th>4</th>\n",
       "      <td>Facebook</td>\n",
       "      <td>{'totalOffices': 3, 'lat': 37.41605, 'lng': -1...</td>\n",
       "    </tr>\n",
       "  </tbody>\n",
       "</table>\n",
       "</div>"
      ],
      "text/plain": [
       "        name                                          principal\n",
       "0   Wetpaint  {'totalOffices': 2, 'lat': 47.603122, 'lng': -...\n",
       "1  AdventNet  {'totalOffices': 1, 'lat': 37.692934, 'lng': -...\n",
       "2       Zoho  {'totalOffices': 1, 'lat': 37.692934, 'lng': -...\n",
       "3       Digg  {'totalOffices': 1, 'lat': 37.764726, 'lng': -...\n",
       "4   Facebook  {'totalOffices': 3, 'lat': 37.41605, 'lng': -1..."
      ]
     },
     "execution_count": 48,
     "metadata": {},
     "output_type": "execute_result"
    }
   ],
   "source": [
    "df=pd.concat([df, first_ofi], axis=1).drop(columns=['offices']).dropna()\n",
    "\n",
    "df.head()"
   ]
  },
  {
   "cell_type": "code",
   "execution_count": 49,
   "id": "1f8e6245",
   "metadata": {},
   "outputs": [],
   "source": [
    "df.to_json('data/oficinas.json')  # guarda a json"
   ]
  },
  {
   "cell_type": "code",
   "execution_count": 50,
   "id": "f1889823",
   "metadata": {},
   "outputs": [
    {
     "data": {
      "text/plain": [
       "<pymongo.results.InsertManyResult at 0x7f9b30ff3580>"
      ]
     },
     "execution_count": 50,
     "metadata": {},
     "output_type": "execute_result"
    }
   ],
   "source": [
    "db.first_office.insert_many(df.to_dict('records')) # inserta en mongo todo el df"
   ]
  },
  {
   "cell_type": "code",
   "execution_count": 51,
   "id": "724b5470",
   "metadata": {},
   "outputs": [
    {
     "data": {
      "text/plain": [
       "<pymongo.results.DeleteResult at 0x7f9b52c6e680>"
      ]
     },
     "execution_count": 51,
     "metadata": {},
     "output_type": "execute_result"
    }
   ],
   "source": [
    "db.first_office.delete_many({'principal.lat': None})  # key1.key2 : value\n",
    "db.first_office.delete_many({'principal.lng': None})"
   ]
  },
  {
   "cell_type": "code",
   "execution_count": 52,
   "id": "7c15673c",
   "metadata": {},
   "outputs": [
    {
     "data": {
      "text/plain": [
       "'principal_2dsphere'"
      ]
     },
     "execution_count": 52,
     "metadata": {},
     "output_type": "execute_result"
    }
   ],
   "source": [
    "# crear index 2d\n",
    "\n",
    "db.first_office.create_index([('principal', '2dsphere')])"
   ]
  },
  {
   "cell_type": "code",
   "execution_count": 53,
   "id": "2d246b8d",
   "metadata": {},
   "outputs": [],
   "source": [
    "# encuentra los elementos dentro de cierto radio, geoquery\n",
    "\n",
    "def find_near(geopunto, radio=1000):\n",
    "    \n",
    "    return db.first_ofi.find({'principal': {'$near': {'$geometry': geopunto, '$maxDistance': radio}}})"
   ]
  },
  {
   "cell_type": "code",
   "execution_count": 54,
   "id": "ebb3a121",
   "metadata": {},
   "outputs": [
    {
     "data": {
      "text/plain": [
       "[]"
      ]
     },
     "execution_count": 54,
     "metadata": {},
     "output_type": "execute_result"
    }
   ],
   "source": [
    "# ejemplo\n",
    "\n",
    "park_avenue={'type': 'Point',\n",
    "            'coordinates': [-73.987308, 40.738935]}  # geopunto\n",
    "\n",
    "radio=10000000 # radio de busqueda en metros\n",
    "\n",
    "n_ofi=find_near(park_avenue)\n",
    "\n",
    "list(n_ofi)"
   ]
  },
  {
   "cell_type": "code",
   "execution_count": null,
   "id": "958eb501",
   "metadata": {},
   "outputs": [],
   "source": []
  },
  {
   "cell_type": "code",
   "execution_count": null,
   "id": "0f5f4495",
   "metadata": {},
   "outputs": [],
   "source": []
  }
 ],
 "metadata": {
  "kernelspec": {
   "display_name": "clase",
   "language": "python",
   "name": "clase"
  },
  "language_info": {
   "codemirror_mode": {
    "name": "ipython",
    "version": 3
   },
   "file_extension": ".py",
   "mimetype": "text/x-python",
   "name": "python",
   "nbconvert_exporter": "python",
   "pygments_lexer": "ipython3",
   "version": "3.8.8"
  },
  "varInspector": {
   "cols": {
    "lenName": 16,
    "lenType": 16,
    "lenVar": 40
   },
   "kernels_config": {
    "python": {
     "delete_cmd_postfix": "",
     "delete_cmd_prefix": "del ",
     "library": "var_list.py",
     "varRefreshCmd": "print(var_dic_list())"
    },
    "r": {
     "delete_cmd_postfix": ") ",
     "delete_cmd_prefix": "rm(",
     "library": "var_list.r",
     "varRefreshCmd": "cat(var_dic_list()) "
    }
   },
   "types_to_exclude": [
    "module",
    "function",
    "builtin_function_or_method",
    "instance",
    "_Feature"
   ],
   "window_display": false
  }
 },
 "nbformat": 4,
 "nbformat_minor": 5
}
