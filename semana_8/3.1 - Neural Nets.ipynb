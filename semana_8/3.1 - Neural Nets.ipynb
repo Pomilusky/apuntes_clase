{
 "cells": [
  {
   "cell_type": "markdown",
   "metadata": {},
   "source": [
    "# 3.1 - Neural Networks\n",
    "\n",
    "https://github.com/YonatanRA/Intro-redes-neuronales\n",
    "\n",
    "\n",
    "![node](images/node.png)\n",
    "\n",
    "\n",
    "![acti](images/acti.png)\n",
    "\n",
    "\n",
    "![neural](images/neural.jpg)"
   ]
  },
  {
   "cell_type": "markdown",
   "metadata": {},
   "source": [
    "### MLP (Multi-Layer Perceptron)"
   ]
  },
  {
   "cell_type": "code",
   "execution_count": 5,
   "metadata": {},
   "outputs": [],
   "source": [
    "import warnings\n",
    "warnings.simplefilter('ignore')\n",
    "\n",
    "import pandas as pd\n",
    "import matplotlib.pyplot as plt\n",
    "%matplotlib inline\n",
    "import seaborn as sns\n",
    "\n",
    "from sklearn.model_selection import train_test_split as tts\n",
    "from sklearn.preprocessing import StandardScaler\n",
    "from sklearn.metrics import confusion_matrix, roc_curve, roc_auc_score\n",
    "\n",
    "\n",
    "from sklearn.neural_network import MLPClassifier"
   ]
  },
  {
   "cell_type": "code",
   "execution_count": 2,
   "metadata": {},
   "outputs": [
    {
     "data": {
      "text/html": [
       "<div>\n",
       "<style scoped>\n",
       "    .dataframe tbody tr th:only-of-type {\n",
       "        vertical-align: middle;\n",
       "    }\n",
       "\n",
       "    .dataframe tbody tr th {\n",
       "        vertical-align: top;\n",
       "    }\n",
       "\n",
       "    .dataframe thead th {\n",
       "        text-align: right;\n",
       "    }\n",
       "</style>\n",
       "<table border=\"1\" class=\"dataframe\">\n",
       "  <thead>\n",
       "    <tr style=\"text-align: right;\">\n",
       "      <th></th>\n",
       "      <th>id</th>\n",
       "      <th>LifeTime</th>\n",
       "      <th>dira</th>\n",
       "      <th>FlightDistance</th>\n",
       "      <th>FlightDistanceError</th>\n",
       "      <th>IP</th>\n",
       "      <th>IPSig</th>\n",
       "      <th>VertexChi2</th>\n",
       "      <th>pt</th>\n",
       "      <th>DOCAone</th>\n",
       "      <th>...</th>\n",
       "      <th>p1_p</th>\n",
       "      <th>p2_p</th>\n",
       "      <th>p0_eta</th>\n",
       "      <th>p1_eta</th>\n",
       "      <th>p2_eta</th>\n",
       "      <th>SPDhits</th>\n",
       "      <th>production</th>\n",
       "      <th>signal</th>\n",
       "      <th>mass</th>\n",
       "      <th>min_ANNmuon</th>\n",
       "    </tr>\n",
       "  </thead>\n",
       "  <tbody>\n",
       "    <tr>\n",
       "      <th>0</th>\n",
       "      <td>18453471</td>\n",
       "      <td>0.001578</td>\n",
       "      <td>0.999999</td>\n",
       "      <td>14.033335</td>\n",
       "      <td>0.681401</td>\n",
       "      <td>0.016039</td>\n",
       "      <td>0.451886</td>\n",
       "      <td>1.900433</td>\n",
       "      <td>1482.037476</td>\n",
       "      <td>0.066667</td>\n",
       "      <td>...</td>\n",
       "      <td>12290.760742</td>\n",
       "      <td>39264.398438</td>\n",
       "      <td>3.076006</td>\n",
       "      <td>4.003800</td>\n",
       "      <td>4.031514</td>\n",
       "      <td>458</td>\n",
       "      <td>-99</td>\n",
       "      <td>0</td>\n",
       "      <td>1866.300049</td>\n",
       "      <td>0.277559</td>\n",
       "    </tr>\n",
       "    <tr>\n",
       "      <th>1</th>\n",
       "      <td>5364094</td>\n",
       "      <td>0.000988</td>\n",
       "      <td>0.999705</td>\n",
       "      <td>5.536157</td>\n",
       "      <td>0.302341</td>\n",
       "      <td>0.142163</td>\n",
       "      <td>9.564503</td>\n",
       "      <td>0.865666</td>\n",
       "      <td>3050.720703</td>\n",
       "      <td>0.024022</td>\n",
       "      <td>...</td>\n",
       "      <td>16562.667969</td>\n",
       "      <td>7341.257812</td>\n",
       "      <td>3.228553</td>\n",
       "      <td>2.786543</td>\n",
       "      <td>2.975564</td>\n",
       "      <td>406</td>\n",
       "      <td>-99</td>\n",
       "      <td>0</td>\n",
       "      <td>1727.095947</td>\n",
       "      <td>0.225924</td>\n",
       "    </tr>\n",
       "    <tr>\n",
       "      <th>2</th>\n",
       "      <td>11130990</td>\n",
       "      <td>0.000877</td>\n",
       "      <td>0.999984</td>\n",
       "      <td>6.117302</td>\n",
       "      <td>0.276463</td>\n",
       "      <td>0.034746</td>\n",
       "      <td>1.970751</td>\n",
       "      <td>10.975849</td>\n",
       "      <td>3895.908691</td>\n",
       "      <td>0.055044</td>\n",
       "      <td>...</td>\n",
       "      <td>22695.388672</td>\n",
       "      <td>10225.309570</td>\n",
       "      <td>3.536903</td>\n",
       "      <td>2.865686</td>\n",
       "      <td>3.052810</td>\n",
       "      <td>196</td>\n",
       "      <td>-99</td>\n",
       "      <td>0</td>\n",
       "      <td>1898.588013</td>\n",
       "      <td>0.368630</td>\n",
       "    </tr>\n",
       "    <tr>\n",
       "      <th>3</th>\n",
       "      <td>15173787</td>\n",
       "      <td>0.000854</td>\n",
       "      <td>0.999903</td>\n",
       "      <td>5.228067</td>\n",
       "      <td>0.220739</td>\n",
       "      <td>0.076389</td>\n",
       "      <td>4.271331</td>\n",
       "      <td>3.276358</td>\n",
       "      <td>4010.781738</td>\n",
       "      <td>0.053779</td>\n",
       "      <td>...</td>\n",
       "      <td>16909.515625</td>\n",
       "      <td>9141.426758</td>\n",
       "      <td>3.087461</td>\n",
       "      <td>3.218034</td>\n",
       "      <td>2.375592</td>\n",
       "      <td>137</td>\n",
       "      <td>-99</td>\n",
       "      <td>0</td>\n",
       "      <td>1840.410034</td>\n",
       "      <td>0.246045</td>\n",
       "    </tr>\n",
       "    <tr>\n",
       "      <th>4</th>\n",
       "      <td>1102544</td>\n",
       "      <td>0.001129</td>\n",
       "      <td>0.999995</td>\n",
       "      <td>39.069534</td>\n",
       "      <td>1.898197</td>\n",
       "      <td>0.120936</td>\n",
       "      <td>4.984982</td>\n",
       "      <td>0.468348</td>\n",
       "      <td>4144.546875</td>\n",
       "      <td>0.004491</td>\n",
       "      <td>...</td>\n",
       "      <td>97612.804688</td>\n",
       "      <td>47118.785156</td>\n",
       "      <td>4.632295</td>\n",
       "      <td>4.711155</td>\n",
       "      <td>4.296878</td>\n",
       "      <td>477</td>\n",
       "      <td>-99</td>\n",
       "      <td>0</td>\n",
       "      <td>1899.793945</td>\n",
       "      <td>0.222060</td>\n",
       "    </tr>\n",
       "  </tbody>\n",
       "</table>\n",
       "<p>5 rows × 51 columns</p>\n",
       "</div>"
      ],
      "text/plain": [
       "         id  LifeTime      dira  FlightDistance  FlightDistanceError  \\\n",
       "0  18453471  0.001578  0.999999       14.033335             0.681401   \n",
       "1   5364094  0.000988  0.999705        5.536157             0.302341   \n",
       "2  11130990  0.000877  0.999984        6.117302             0.276463   \n",
       "3  15173787  0.000854  0.999903        5.228067             0.220739   \n",
       "4   1102544  0.001129  0.999995       39.069534             1.898197   \n",
       "\n",
       "         IP     IPSig  VertexChi2           pt   DOCAone  ...          p1_p  \\\n",
       "0  0.016039  0.451886    1.900433  1482.037476  0.066667  ...  12290.760742   \n",
       "1  0.142163  9.564503    0.865666  3050.720703  0.024022  ...  16562.667969   \n",
       "2  0.034746  1.970751   10.975849  3895.908691  0.055044  ...  22695.388672   \n",
       "3  0.076389  4.271331    3.276358  4010.781738  0.053779  ...  16909.515625   \n",
       "4  0.120936  4.984982    0.468348  4144.546875  0.004491  ...  97612.804688   \n",
       "\n",
       "           p2_p    p0_eta    p1_eta    p2_eta  SPDhits  production  signal  \\\n",
       "0  39264.398438  3.076006  4.003800  4.031514      458         -99       0   \n",
       "1   7341.257812  3.228553  2.786543  2.975564      406         -99       0   \n",
       "2  10225.309570  3.536903  2.865686  3.052810      196         -99       0   \n",
       "3   9141.426758  3.087461  3.218034  2.375592      137         -99       0   \n",
       "4  47118.785156  4.632295  4.711155  4.296878      477         -99       0   \n",
       "\n",
       "          mass  min_ANNmuon  \n",
       "0  1866.300049     0.277559  \n",
       "1  1727.095947     0.225924  \n",
       "2  1898.588013     0.368630  \n",
       "3  1840.410034     0.246045  \n",
       "4  1899.793945     0.222060  \n",
       "\n",
       "[5 rows x 51 columns]"
      ]
     },
     "execution_count": 2,
     "metadata": {},
     "output_type": "execute_result"
    }
   ],
   "source": [
    "muon=pd.read_csv('data/muon.csv')\n",
    "\n",
    "muon.head()"
   ]
  },
  {
   "cell_type": "code",
   "execution_count": 3,
   "metadata": {},
   "outputs": [],
   "source": [
    "X=muon.drop(columns=['id', 'production', 'signal', 'mass', 'min_ANNmuon'])\n",
    "\n",
    "y=muon.signal"
   ]
  },
  {
   "cell_type": "code",
   "execution_count": 4,
   "metadata": {},
   "outputs": [],
   "source": [
    "X_s=StandardScaler().fit_transform(X)"
   ]
  },
  {
   "cell_type": "code",
   "execution_count": 5,
   "metadata": {},
   "outputs": [],
   "source": [
    "X_train, X_test, y_train, y_test=tts(X_s, y)"
   ]
  },
  {
   "cell_type": "code",
   "execution_count": 6,
   "metadata": {},
   "outputs": [
    {
     "data": {
      "text/plain": [
       "MLPClassifier(activation='tanh', max_iter=500)"
      ]
     },
     "execution_count": 6,
     "metadata": {},
     "output_type": "execute_result"
    }
   ],
   "source": [
    "mlp=MLPClassifier(hidden_layer_sizes=(100,), activation='tanh', max_iter=500)\n",
    "\n",
    "mlp.fit(X_train, y_train)"
   ]
  },
  {
   "cell_type": "code",
   "execution_count": 7,
   "metadata": {},
   "outputs": [],
   "source": [
    "y_pred=mlp.predict(X_test)\n",
    "\n",
    "y_prob=mlp.predict_proba(X_test)"
   ]
  },
  {
   "cell_type": "code",
   "execution_count": 12,
   "metadata": {},
   "outputs": [
    {
     "data": {
      "text/plain": [
       "array([0, 1, 1, 0, 1, 0, 1, 1, 1, 0])"
      ]
     },
     "execution_count": 12,
     "metadata": {},
     "output_type": "execute_result"
    }
   ],
   "source": [
    "y_pred[:10]"
   ]
  },
  {
   "cell_type": "code",
   "execution_count": 13,
   "metadata": {},
   "outputs": [
    {
     "data": {
      "text/plain": [
       "array([[9.99905302e-01, 9.46983885e-05],\n",
       "       [9.75727811e-04, 9.99024272e-01],\n",
       "       [2.47425916e-01, 7.52574084e-01],\n",
       "       [9.99875645e-01, 1.24354642e-04],\n",
       "       [3.33922037e-02, 9.66607796e-01],\n",
       "       [9.99312827e-01, 6.87172867e-04],\n",
       "       [3.18791269e-02, 9.68120873e-01],\n",
       "       [1.39364705e-04, 9.99860635e-01],\n",
       "       [5.64041559e-03, 9.94359584e-01],\n",
       "       [9.32700065e-01, 6.72999348e-02]])"
      ]
     },
     "execution_count": 13,
     "metadata": {},
     "output_type": "execute_result"
    }
   ],
   "source": [
    "y_prob[:10]"
   ]
  },
  {
   "cell_type": "code",
   "execution_count": 10,
   "metadata": {},
   "outputs": [
    {
     "data": {
      "image/png": "[encoded data removed]",
      "text/plain": [
       "<Figure size 432x288 with 2 Axes>"
      ]
     },
     "metadata": {
      "needs_background": "light"
     },
     "output_type": "display_data"
    }
   ],
   "source": [
    "confusion=confusion_matrix(y_test, y_pred)\n",
    "ax=sns.heatmap((confusion/len(y_pred)*100), annot=True)\n",
    "b, t=ax.get_ylim()\n",
    "ax.set_ylim(b+.5, t-.5)\n",
    "plt.xlabel('prediccion')\n",
    "plt.ylabel('verdad')\n",
    "plt.title('confusion')\n",
    "plt.show();"
   ]
  },
  {
   "cell_type": "code",
   "execution_count": 14,
   "metadata": {},
   "outputs": [
    {
     "data": {
      "image/png": "[encoded data removed]",
      "text/plain": [
       "<Figure size 432x288 with 1 Axes>"
      ]
     },
     "metadata": {
      "needs_background": "light"
     },
     "output_type": "display_data"
    }
   ],
   "source": [
    "fpr, tpr, umb=roc_curve(y_test, y_pred)\n",
    "auc=roc_auc_score(y_test, y_pred)\n",
    "plt.plot(fpr, tpr)\n",
    "plt.plot(fpr, fpr, 'r--')\n",
    "plt.title('ROC curve: AUC={}'.format(auc))\n",
    "plt.show();\n",
    "\n",
    "# esto esta mal, tiene que ser con y_prob"
   ]
  },
  {
   "cell_type": "code",
   "execution_count": null,
   "metadata": {},
   "outputs": [],
   "source": [
    "len(y_prob)==len(y_test)"
   ]
  },
  {
   "cell_type": "markdown",
   "metadata": {},
   "source": [
    "### CNN (Convolutional Neural Network)\n",
    "\n",
    "\n",
    "https://en.wikipedia.org/wiki/Convolution\n",
    "\n",
    "\n",
    "![neural2](images/neural2.webp)\n",
    "\n",
    "![neural3](images/neural3.gif)\n",
    "\n",
    "![neural4](images/neural4.png)"
   ]
  },
  {
   "cell_type": "markdown",
   "metadata": {},
   "source": [
    "### CNN-1D"
   ]
  },
  {
   "cell_type": "code",
   "execution_count": 6,
   "metadata": {},
   "outputs": [],
   "source": [
    "import numpy as np\n",
    "\n",
    "from tensorflow.keras.models import Sequential\n",
    "from tensorflow.keras.layers import Dense, Flatten, Conv1D, MaxPooling1D"
   ]
  },
  {
   "cell_type": "code",
   "execution_count": 17,
   "metadata": {},
   "outputs": [],
   "source": [
    "def secuencia(lst, steps):\n",
    "    \n",
    "    X,y=[],[]\n",
    "    \n",
    "    for i in range(len(lst)):\n",
    "        \n",
    "        idx=i+steps\n",
    "        \n",
    "        if idx>len(lst)-1:break\n",
    "            \n",
    "        s_x, s_y=lst[i:idx], lst[idx]\n",
    "        X.append(s_x)\n",
    "        y.append(s_y)\n",
    "        \n",
    "    return np.array(X), np.array(y)"
   ]
  },
  {
   "cell_type": "code",
   "execution_count": 18,
   "metadata": {},
   "outputs": [],
   "source": [
    "raw_seq=[10, 20, 30, 40, 50, 60, 70, 80, 90]\n",
    "\n",
    "steps=3"
   ]
  },
  {
   "cell_type": "code",
   "execution_count": 19,
   "metadata": {},
   "outputs": [],
   "source": [
    "X,y=secuencia(raw_seq, steps)\n",
    "\n",
    "n_features=1"
   ]
  },
  {
   "cell_type": "code",
   "execution_count": 20,
   "metadata": {},
   "outputs": [],
   "source": [
    "X=X.reshape((X.shape[0], X.shape[1], n_features))"
   ]
  },
  {
   "cell_type": "code",
   "execution_count": 24,
   "metadata": {},
   "outputs": [
    {
     "data": {
      "text/plain": [
       "array([40, 50, 60, 70, 80, 90])"
      ]
     },
     "execution_count": 24,
     "metadata": {},
     "output_type": "execute_result"
    }
   ],
   "source": [
    "y"
   ]
  },
  {
   "cell_type": "code",
   "execution_count": 25,
   "metadata": {},
   "outputs": [
    {
     "name": "stderr",
     "output_type": "stream",
     "text": [
      "2022-03-02 09:51:05.295175: I tensorflow/core/platform/cpu_feature_guard.cc:145] This TensorFlow binary is optimized with Intel(R) MKL-DNN to use the following CPU instructions in performance critical operations:  SSE4.1 SSE4.2\n",
      "To enable them in non-MKL-DNN operations, rebuild TensorFlow with the appropriate compiler flags.\n",
      "2022-03-02 09:51:05.296385: I tensorflow/core/common_runtime/process_util.cc:115] Creating new thread pool with default inter op setting: 8. Tune using inter_op_parallelism_threads for best performance.\n"
     ]
    },
    {
     "data": {
      "text/plain": [
       "<tensorflow.python.keras.callbacks.History at 0x7f950e3e9d10>"
      ]
     },
     "execution_count": 25,
     "metadata": {},
     "output_type": "execute_result"
    }
   ],
   "source": [
    "# modelo\n",
    "\n",
    "modelo=Sequential()\n",
    "\n",
    "modelo.add(Conv1D(filters=64, kernel_size=2, activation='relu', input_shape=(steps, n_features)))\n",
    "modelo.add(MaxPooling1D(pool_size=2))\n",
    "modelo.add(Flatten())\n",
    "modelo.add(Dense(1))\n",
    "\n",
    "\n",
    "modelo.compile(optimizer='adam', loss='mse')\n",
    "\n",
    "\n",
    "modelo.fit(X, y, epochs=1000, verbose=0)"
   ]
  },
  {
   "cell_type": "code",
   "execution_count": 26,
   "metadata": {},
   "outputs": [
    {
     "name": "stdout",
     "output_type": "stream",
     "text": [
      "Model: \"sequential\"\n",
      "_________________________________________________________________\n",
      "Layer (type)                 Output Shape              Param #   \n",
      "=================================================================\n",
      "conv1d (Conv1D)              (None, 2, 64)             192       \n",
      "_________________________________________________________________\n",
      "max_pooling1d (MaxPooling1D) (None, 1, 64)             0         \n",
      "_________________________________________________________________\n",
      "flatten (Flatten)            (None, 64)                0         \n",
      "_________________________________________________________________\n",
      "dense (Dense)                (None, 1)                 65        \n",
      "=================================================================\n",
      "Total params: 257\n",
      "Trainable params: 257\n",
      "Non-trainable params: 0\n",
      "_________________________________________________________________\n"
     ]
    }
   ],
   "source": [
    "modelo.summary()"
   ]
  },
  {
   "cell_type": "code",
   "execution_count": 31,
   "metadata": {},
   "outputs": [],
   "source": [
    "# prediccionº\n",
    "\n",
    "x_input=np.array([100,110,120]).reshape((1, steps, n_features)).astype(float)"
   ]
  },
  {
   "cell_type": "code",
   "execution_count": 32,
   "metadata": {},
   "outputs": [
    {
     "data": {
      "text/plain": [
       "array([[143.99187]], dtype=float32)"
      ]
     },
     "execution_count": 32,
     "metadata": {},
     "output_type": "execute_result"
    }
   ],
   "source": [
    "y_pred=modelo.predict(x_input, verbose=0)\n",
    "\n",
    "y_pred"
   ]
  },
  {
   "cell_type": "markdown",
   "metadata": {},
   "source": [
    "### CNN-2D"
   ]
  },
  {
   "cell_type": "code",
   "execution_count": 33,
   "metadata": {},
   "outputs": [
    {
     "data": {
      "text/html": [
       "<div>\n",
       "<style scoped>\n",
       "    .dataframe tbody tr th:only-of-type {\n",
       "        vertical-align: middle;\n",
       "    }\n",
       "\n",
       "    .dataframe tbody tr th {\n",
       "        vertical-align: top;\n",
       "    }\n",
       "\n",
       "    .dataframe thead th {\n",
       "        text-align: right;\n",
       "    }\n",
       "</style>\n",
       "<table border=\"1\" class=\"dataframe\">\n",
       "  <thead>\n",
       "    <tr style=\"text-align: right;\">\n",
       "      <th></th>\n",
       "      <th>label</th>\n",
       "      <th>pixel1</th>\n",
       "      <th>pixel2</th>\n",
       "      <th>pixel3</th>\n",
       "      <th>pixel4</th>\n",
       "      <th>pixel5</th>\n",
       "      <th>pixel6</th>\n",
       "      <th>pixel7</th>\n",
       "      <th>pixel8</th>\n",
       "      <th>pixel9</th>\n",
       "      <th>...</th>\n",
       "      <th>pixel775</th>\n",
       "      <th>pixel776</th>\n",
       "      <th>pixel777</th>\n",
       "      <th>pixel778</th>\n",
       "      <th>pixel779</th>\n",
       "      <th>pixel780</th>\n",
       "      <th>pixel781</th>\n",
       "      <th>pixel782</th>\n",
       "      <th>pixel783</th>\n",
       "      <th>pixel784</th>\n",
       "    </tr>\n",
       "  </thead>\n",
       "  <tbody>\n",
       "    <tr>\n",
       "      <th>0</th>\n",
       "      <td>0</td>\n",
       "      <td>0</td>\n",
       "      <td>0</td>\n",
       "      <td>0</td>\n",
       "      <td>0</td>\n",
       "      <td>0</td>\n",
       "      <td>0</td>\n",
       "      <td>0</td>\n",
       "      <td>9</td>\n",
       "      <td>8</td>\n",
       "      <td>...</td>\n",
       "      <td>103</td>\n",
       "      <td>87</td>\n",
       "      <td>56</td>\n",
       "      <td>0</td>\n",
       "      <td>0</td>\n",
       "      <td>0</td>\n",
       "      <td>0</td>\n",
       "      <td>0</td>\n",
       "      <td>0</td>\n",
       "      <td>0</td>\n",
       "    </tr>\n",
       "    <tr>\n",
       "      <th>1</th>\n",
       "      <td>1</td>\n",
       "      <td>0</td>\n",
       "      <td>0</td>\n",
       "      <td>0</td>\n",
       "      <td>0</td>\n",
       "      <td>0</td>\n",
       "      <td>0</td>\n",
       "      <td>0</td>\n",
       "      <td>0</td>\n",
       "      <td>0</td>\n",
       "      <td>...</td>\n",
       "      <td>34</td>\n",
       "      <td>0</td>\n",
       "      <td>0</td>\n",
       "      <td>0</td>\n",
       "      <td>0</td>\n",
       "      <td>0</td>\n",
       "      <td>0</td>\n",
       "      <td>0</td>\n",
       "      <td>0</td>\n",
       "      <td>0</td>\n",
       "    </tr>\n",
       "    <tr>\n",
       "      <th>2</th>\n",
       "      <td>2</td>\n",
       "      <td>0</td>\n",
       "      <td>0</td>\n",
       "      <td>0</td>\n",
       "      <td>0</td>\n",
       "      <td>0</td>\n",
       "      <td>0</td>\n",
       "      <td>14</td>\n",
       "      <td>53</td>\n",
       "      <td>99</td>\n",
       "      <td>...</td>\n",
       "      <td>0</td>\n",
       "      <td>0</td>\n",
       "      <td>0</td>\n",
       "      <td>0</td>\n",
       "      <td>63</td>\n",
       "      <td>53</td>\n",
       "      <td>31</td>\n",
       "      <td>0</td>\n",
       "      <td>0</td>\n",
       "      <td>0</td>\n",
       "    </tr>\n",
       "    <tr>\n",
       "      <th>3</th>\n",
       "      <td>2</td>\n",
       "      <td>0</td>\n",
       "      <td>0</td>\n",
       "      <td>0</td>\n",
       "      <td>0</td>\n",
       "      <td>0</td>\n",
       "      <td>0</td>\n",
       "      <td>0</td>\n",
       "      <td>0</td>\n",
       "      <td>0</td>\n",
       "      <td>...</td>\n",
       "      <td>137</td>\n",
       "      <td>126</td>\n",
       "      <td>140</td>\n",
       "      <td>0</td>\n",
       "      <td>133</td>\n",
       "      <td>224</td>\n",
       "      <td>222</td>\n",
       "      <td>56</td>\n",
       "      <td>0</td>\n",
       "      <td>0</td>\n",
       "    </tr>\n",
       "    <tr>\n",
       "      <th>4</th>\n",
       "      <td>3</td>\n",
       "      <td>0</td>\n",
       "      <td>0</td>\n",
       "      <td>0</td>\n",
       "      <td>0</td>\n",
       "      <td>0</td>\n",
       "      <td>0</td>\n",
       "      <td>0</td>\n",
       "      <td>0</td>\n",
       "      <td>0</td>\n",
       "      <td>...</td>\n",
       "      <td>0</td>\n",
       "      <td>0</td>\n",
       "      <td>0</td>\n",
       "      <td>0</td>\n",
       "      <td>0</td>\n",
       "      <td>0</td>\n",
       "      <td>0</td>\n",
       "      <td>0</td>\n",
       "      <td>0</td>\n",
       "      <td>0</td>\n",
       "    </tr>\n",
       "  </tbody>\n",
       "</table>\n",
       "<p>5 rows × 785 columns</p>\n",
       "</div>"
      ],
      "text/plain": [
       "   label  pixel1  pixel2  pixel3  pixel4  pixel5  pixel6  pixel7  pixel8  \\\n",
       "0      0       0       0       0       0       0       0       0       9   \n",
       "1      1       0       0       0       0       0       0       0       0   \n",
       "2      2       0       0       0       0       0       0      14      53   \n",
       "3      2       0       0       0       0       0       0       0       0   \n",
       "4      3       0       0       0       0       0       0       0       0   \n",
       "\n",
       "   pixel9  ...  pixel775  pixel776  pixel777  pixel778  pixel779  pixel780  \\\n",
       "0       8  ...       103        87        56         0         0         0   \n",
       "1       0  ...        34         0         0         0         0         0   \n",
       "2      99  ...         0         0         0         0        63        53   \n",
       "3       0  ...       137       126       140         0       133       224   \n",
       "4       0  ...         0         0         0         0         0         0   \n",
       "\n",
       "   pixel781  pixel782  pixel783  pixel784  \n",
       "0         0         0         0         0  \n",
       "1         0         0         0         0  \n",
       "2        31         0         0         0  \n",
       "3       222        56         0         0  \n",
       "4         0         0         0         0  \n",
       "\n",
       "[5 rows x 785 columns]"
      ]
     },
     "execution_count": 33,
     "metadata": {},
     "output_type": "execute_result"
    }
   ],
   "source": [
    "fashion=pd.read_csv('data/fashion-mnist.csv')\n",
    "\n",
    "fashion.head()"
   ]
  },
  {
   "cell_type": "code",
   "execution_count": 38,
   "metadata": {},
   "outputs": [
    {
     "data": {
      "image/png": "[encoded data removed]",
      "text/plain": [
       "<Figure size 360x360 with 1 Axes>"
      ]
     },
     "metadata": {
      "needs_background": "light"
     },
     "output_type": "display_data"
    }
   ],
   "source": [
    "plt.figure(figsize=(5,5))\n",
    "plt.imshow(fashion.values[20,1:].reshape(28,28))\n",
    "plt.show();"
   ]
  },
  {
   "cell_type": "code",
   "execution_count": 39,
   "metadata": {},
   "outputs": [
    {
     "data": {
      "text/plain": [
       "array([0, 1, 2, 3, 8, 6, 5, 4, 7, 9])"
      ]
     },
     "execution_count": 39,
     "metadata": {},
     "output_type": "execute_result"
    }
   ],
   "source": [
    "fashion.label.unique()"
   ]
  },
  {
   "cell_type": "code",
   "execution_count": 40,
   "metadata": {},
   "outputs": [],
   "source": [
    "from tensorflow import keras\n",
    "\n",
    "from tensorflow.keras.utils import to_categorical\n",
    "from tensorflow.keras.layers import Dropout\n",
    "from tensorflow.keras.layers import Conv2D, MaxPooling2D, BatchNormalization"
   ]
  },
  {
   "cell_type": "code",
   "execution_count": 41,
   "metadata": {},
   "outputs": [],
   "source": [
    "input_shape=(28, 28, 1)"
   ]
  },
  {
   "cell_type": "code",
   "execution_count": 42,
   "metadata": {},
   "outputs": [],
   "source": [
    "X=np.array(fashion.iloc[:, 1:])\n",
    "\n",
    "y=to_categorical(np.array(fashion.iloc[:,0]))"
   ]
  },
  {
   "cell_type": "code",
   "execution_count": 44,
   "metadata": {},
   "outputs": [
    {
     "data": {
      "text/plain": [
       "array([[1., 0., 0., 0., 0., 0., 0., 0., 0., 0.],\n",
       "       [0., 1., 0., 0., 0., 0., 0., 0., 0., 0.]], dtype=float32)"
      ]
     },
     "execution_count": 44,
     "metadata": {},
     "output_type": "execute_result"
    }
   ],
   "source": [
    "y[:2]"
   ]
  },
  {
   "cell_type": "code",
   "execution_count": 45,
   "metadata": {},
   "outputs": [],
   "source": [
    "X_train, X_test, y_train, y_test=tts(X, y)"
   ]
  },
  {
   "cell_type": "code",
   "execution_count": 46,
   "metadata": {},
   "outputs": [],
   "source": [
    "X_train=X_train.reshape(X_train.shape[0], 28, 28, 1).astype('float32')/255\n",
    "\n",
    "X_test=X_test.reshape(X_test.shape[0], 28, 28, 1).astype('float32')/255"
   ]
  },
  {
   "cell_type": "code",
   "execution_count": 47,
   "metadata": {},
   "outputs": [],
   "source": [
    "batch=256\n",
    "n_clases=10\n",
    "epocas=50"
   ]
  },
  {
   "cell_type": "code",
   "execution_count": 48,
   "metadata": {},
   "outputs": [
    {
     "name": "stdout",
     "output_type": "stream",
     "text": [
      "Model: \"sequential_1\"\n",
      "_________________________________________________________________\n",
      "Layer (type)                 Output Shape              Param #   \n",
      "=================================================================\n",
      "conv2d (Conv2D)              (None, 26, 26, 32)        320       \n",
      "_________________________________________________________________\n",
      "max_pooling2d (MaxPooling2D) (None, 13, 13, 32)        0         \n",
      "_________________________________________________________________\n",
      "dropout (Dropout)            (None, 13, 13, 32)        0         \n",
      "_________________________________________________________________\n",
      "conv2d_1 (Conv2D)            (None, 11, 11, 64)        18496     \n",
      "_________________________________________________________________\n",
      "max_pooling2d_1 (MaxPooling2 (None, 5, 5, 64)          0         \n",
      "_________________________________________________________________\n",
      "dropout_1 (Dropout)          (None, 5, 5, 64)          0         \n",
      "_________________________________________________________________\n",
      "conv2d_2 (Conv2D)            (None, 3, 3, 128)         73856     \n",
      "_________________________________________________________________\n",
      "dropout_2 (Dropout)          (None, 3, 3, 128)         0         \n",
      "_________________________________________________________________\n",
      "flatten_1 (Flatten)          (None, 1152)              0         \n",
      "_________________________________________________________________\n",
      "dense_1 (Dense)              (None, 128)               147584    \n",
      "_________________________________________________________________\n",
      "dropout_3 (Dropout)          (None, 128)               0         \n",
      "_________________________________________________________________\n",
      "dense_2 (Dense)              (None, 10)                1290      \n",
      "=================================================================\n",
      "Total params: 241,546\n",
      "Trainable params: 241,546\n",
      "Non-trainable params: 0\n",
      "_________________________________________________________________\n"
     ]
    }
   ],
   "source": [
    "# modelo\n",
    "\n",
    "modelo=Sequential()\n",
    "\n",
    "modelo.add(Conv2D(32, kernel_size=(3, 3), activation='relu',\n",
    "                  kernel_initializer='he_normal', input_shape=input_shape))\n",
    "\n",
    "modelo.add(MaxPooling2D((2,2)))\n",
    "modelo.add(Dropout(0.25))\n",
    "\n",
    "modelo.add(Conv2D(64, (3, 3), activation='relu'))\n",
    "modelo.add(MaxPooling2D((2,2)))\n",
    "modelo.add(Dropout(0.25))\n",
    "\n",
    "modelo.add(Conv2D(128, (3, 3), activation='relu'))\n",
    "modelo.add(Dropout(0.4))\n",
    "\n",
    "modelo.add(Flatten())\n",
    "modelo.add(Dense(128,  activation='relu'))\n",
    "modelo.add(Dropout(0.3))\n",
    "modelo.add(Dense(n_clases, activation='softmax'))\n",
    "\n",
    "\n",
    "modelo.compile(loss=keras.losses.categorical_crossentropy, \n",
    "               optimizer=keras.optimizers.Adam(), \n",
    "               metrics=['accuracy'])\n",
    "\n",
    "modelo.summary()"
   ]
  },
  {
   "cell_type": "code",
   "execution_count": 49,
   "metadata": {},
   "outputs": [],
   "source": [
    "historico=modelo.fit(X_train, y_train, batch_size=batch, epochs=epocas, verbose=0)"
   ]
  },
  {
   "cell_type": "code",
   "execution_count": 50,
   "metadata": {},
   "outputs": [],
   "source": [
    "score=modelo.evaluate(X_test, y_test, verbose=0)"
   ]
  },
  {
   "cell_type": "code",
   "execution_count": 51,
   "metadata": {},
   "outputs": [
    {
     "name": "stdout",
     "output_type": "stream",
     "text": [
      "Perdida testeo:  0.2928100498199463\n",
      "Accuracy testeo:  0.898\n"
     ]
    }
   ],
   "source": [
    "print ('Perdida testeo: ', score[0])\n",
    "print ('Accuracy testeo: ', score[1])"
   ]
  },
  {
   "cell_type": "code",
   "execution_count": 52,
   "metadata": {},
   "outputs": [],
   "source": [
    "acc=historico.history['accuracy']\n",
    "loss=historico.history['loss']\n",
    "\n",
    "epocas=range(len(acc))"
   ]
  },
  {
   "cell_type": "code",
   "execution_count": 53,
   "metadata": {},
   "outputs": [
    {
     "data": {
      "image/png": "[encoded data removed]",
      "text/plain": [
       "<Figure size 432x288 with 1 Axes>"
      ]
     },
     "metadata": {
      "needs_background": "light"
     },
     "output_type": "display_data"
    }
   ],
   "source": [
    "plt.plot(epocas, acc, 'bo', label='train acc')\n",
    "plt.plot(epocas, loss, 'ro', label='train loss')\n",
    "plt.legend()\n",
    "plt.show();"
   ]
  },
  {
   "cell_type": "markdown",
   "metadata": {},
   "source": [
    "### LSTM (Long-Short Term Memory)\n",
    "\n",
    "\n",
    "![lstm](images/lstm.png)"
   ]
  },
  {
   "cell_type": "code",
   "execution_count": 7,
   "metadata": {},
   "outputs": [],
   "source": [
    "from tensorflow.keras.layers import LSTM\n",
    "from tensorflow.keras.layers import RepeatVector\n",
    "from tensorflow.keras.layers import TimeDistributed\n",
    "\n",
    "from sklearn.metrics import mean_squared_error as mse"
   ]
  },
  {
   "cell_type": "code",
   "execution_count": 8,
   "metadata": {},
   "outputs": [],
   "source": [
    "seq_in=np.array([0.1, 0.2, 0.3, 0.4, 0.5, 0.6, 0.7, 0.8, 0.9])\n",
    "\n",
    "n_in=len(seq_in)\n",
    "\n",
    "seq_in=seq_in.reshape((1, n_in, 1))\n",
    "\n",
    "\n",
    "\n",
    "seq_out=seq_in[:, 1:, :]\n",
    "n_out=n_in-1"
   ]
  },
  {
   "cell_type": "code",
   "execution_count": 9,
   "metadata": {},
   "outputs": [
    {
     "name": "stderr",
     "output_type": "stream",
     "text": [
      "2022-03-02 10:43:30.894594: I tensorflow/core/platform/cpu_feature_guard.cc:145] This TensorFlow binary is optimized with Intel(R) MKL-DNN to use the following CPU instructions in performance critical operations:  SSE4.1 SSE4.2\n",
      "To enable them in non-MKL-DNN operations, rebuild TensorFlow with the appropriate compiler flags.\n",
      "2022-03-02 10:43:30.895467: I tensorflow/core/common_runtime/process_util.cc:115] Creating new thread pool with default inter op setting: 8. Tune using inter_op_parallelism_threads for best performance.\n"
     ]
    }
   ],
   "source": [
    "# modelo\n",
    "modelo=Sequential()\n",
    "\n",
    "modelo.add(LSTM(100, activation='relu', input_shape=(n_in, 1)))\n",
    "modelo.add(RepeatVector(n_out))\n",
    "\n",
    "modelo.add(LSTM(100, activation='relu', return_sequences=True))\n",
    "modelo.add(TimeDistributed(Dense(1)))\n",
    "\n",
    "modelo.add(LSTM(100, activation='relu', return_sequences=True))\n",
    "modelo.add(TimeDistributed(Dense(1)))\n",
    "\n",
    "modelo.add(LSTM(100, activation='relu', return_sequences=True))\n",
    "modelo.add(TimeDistributed(Dense(1)))\n",
    "\n",
    "modelo.add(LSTM(100, activation='relu', return_sequences=True))\n",
    "modelo.add(TimeDistributed(Dense(1)))\n",
    "\n",
    "modelo.add(LSTM(100, activation='relu', return_sequences=True))\n",
    "modelo.add(TimeDistributed(Dense(1)))\n",
    "\n",
    "modelo.add(LSTM(100, activation='relu', return_sequences=True))\n",
    "modelo.add(TimeDistributed(Dense(1)))\n",
    "\n",
    "modelo.add(LSTM(100, activation='relu', return_sequences=True))\n",
    "modelo.add(TimeDistributed(Dense(1)))\n",
    "\n",
    "modelo.add(LSTM(100, activation='relu', return_sequences=True))\n",
    "modelo.add(TimeDistributed(Dense(1)))\n",
    "\n",
    "modelo.compile(optimizer='adam', loss='mse')"
   ]
  },
  {
   "cell_type": "code",
   "execution_count": 10,
   "metadata": {},
   "outputs": [
    {
     "name": "stdout",
     "output_type": "stream",
     "text": [
      "Model: \"sequential\"\n",
      "_________________________________________________________________\n",
      "Layer (type)                 Output Shape              Param #   \n",
      "=================================================================\n",
      "lstm (LSTM)                  (None, 100)               40800     \n",
      "_________________________________________________________________\n",
      "repeat_vector (RepeatVector) (None, 8, 100)            0         \n",
      "_________________________________________________________________\n",
      "lstm_1 (LSTM)                (None, 8, 100)            80400     \n",
      "_________________________________________________________________\n",
      "time_distributed (TimeDistri (None, 8, 1)              101       \n",
      "_________________________________________________________________\n",
      "lstm_2 (LSTM)                (None, 8, 100)            40800     \n",
      "_________________________________________________________________\n",
      "time_distributed_1 (TimeDist (None, 8, 1)              101       \n",
      "_________________________________________________________________\n",
      "lstm_3 (LSTM)                (None, 8, 100)            40800     \n",
      "_________________________________________________________________\n",
      "time_distributed_2 (TimeDist (None, 8, 1)              101       \n",
      "_________________________________________________________________\n",
      "lstm_4 (LSTM)                (None, 8, 100)            40800     \n",
      "_________________________________________________________________\n",
      "time_distributed_3 (TimeDist (None, 8, 1)              101       \n",
      "_________________________________________________________________\n",
      "lstm_5 (LSTM)                (None, 8, 100)            40800     \n",
      "_________________________________________________________________\n",
      "time_distributed_4 (TimeDist (None, 8, 1)              101       \n",
      "_________________________________________________________________\n",
      "lstm_6 (LSTM)                (None, 8, 100)            40800     \n",
      "_________________________________________________________________\n",
      "time_distributed_5 (TimeDist (None, 8, 1)              101       \n",
      "_________________________________________________________________\n",
      "lstm_7 (LSTM)                (None, 8, 100)            40800     \n",
      "_________________________________________________________________\n",
      "time_distributed_6 (TimeDist (None, 8, 1)              101       \n",
      "_________________________________________________________________\n",
      "lstm_8 (LSTM)                (None, 8, 100)            40800     \n",
      "_________________________________________________________________\n",
      "time_distributed_7 (TimeDist (None, 8, 1)              101       \n",
      "=================================================================\n",
      "Total params: 407,608\n",
      "Trainable params: 407,608\n",
      "Non-trainable params: 0\n",
      "_________________________________________________________________\n"
     ]
    }
   ],
   "source": [
    "modelo.fit(seq_in, seq_out, epochs=300, verbose=0)\n",
    "\n",
    "modelo.summary()"
   ]
  },
  {
   "cell_type": "code",
   "execution_count": 11,
   "metadata": {},
   "outputs": [
    {
     "data": {
      "text/plain": [
       "array([0.18878224, 0.30314007, 0.4043079 , 0.498001  , 0.5972844 ,\n",
       "       0.6999143 , 0.801894  , 0.8994752 ], dtype=float32)"
      ]
     },
     "execution_count": 11,
     "metadata": {},
     "output_type": "execute_result"
    }
   ],
   "source": [
    "y_pred=modelo.predict(seq_in, verbose=0)\n",
    "\n",
    "y_pred[0, :, 0]"
   ]
  },
  {
   "cell_type": "code",
   "execution_count": 12,
   "metadata": {},
   "outputs": [
    {
     "data": {
      "text/plain": [
       "0.0046029433935865565"
      ]
     },
     "execution_count": 12,
     "metadata": {},
     "output_type": "execute_result"
    }
   ],
   "source": [
    "mse(seq_in[0,:,0][1:], y_pred[0, :, 0])**0.5"
   ]
  },
  {
   "cell_type": "code",
   "execution_count": null,
   "metadata": {},
   "outputs": [],
   "source": []
  }
 ],
 "metadata": {
  "finalized": {
   "timestamp": 1646207139148,
   "trusted": true
  },
  "kernelspec": {
   "display_name": "drop",
   "language": "python",
   "name": "drop"
  },
  "language_info": {
   "codemirror_mode": {
    "name": "ipython",
    "version": 3
   },
   "file_extension": ".py",
   "mimetype": "text/x-python",
   "name": "python",
   "nbconvert_exporter": "python",
   "pygments_lexer": "ipython3",
   "version": "3.7.7"
  }
 },
 "nbformat": 4,
 "nbformat_minor": 2
}
