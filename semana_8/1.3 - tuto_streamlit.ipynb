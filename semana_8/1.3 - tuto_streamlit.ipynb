{
 "cells": [
  {
   "cell_type": "markdown",
   "id": "e7732b5e",
   "metadata": {},
   "source": [
    "# Tutorial Streamlit\n",
    "\n",
    "https://docs.streamlit.io/\n",
    "\n",
    "Tiene que ser en un archivo `.py`, ejecutando `streamlit run nombre_archivo.py`"
   ]
  },
  {
   "cell_type": "code",
   "execution_count": null,
   "id": "0bae36bc",
   "metadata": {},
   "outputs": [],
   "source": [
    "# el hello world\n",
    "\n",
    "import streamlit as st\n",
    "\n",
    "st.title('Mi webapp')"
   ]
  },
  {
   "cell_type": "markdown",
   "id": "b4324ac9",
   "metadata": {},
   "source": [
    "**Mostrando un dataframe**"
   ]
  },
  {
   "cell_type": "code",
   "execution_count": null,
   "id": "095d0660",
   "metadata": {},
   "outputs": [],
   "source": [
    "import streamlit as st\n",
    "import pandas as pd\n",
    "\n",
    "st.title('Titanic Dataset')  # titulo\n",
    "\n",
    "st.header('Data from Titanic passengers') # cabecera de la tabla\n",
    "\n",
    "df=pd.read_csv('https://raw.githubusercontent.com/mwaskom/seaborn-data/master/titanic.csv')\n",
    "st.write(df)"
   ]
  },
  {
   "cell_type": "markdown",
   "id": "0be3d815",
   "metadata": {},
   "source": [
    "**Añadiendo un grafico**"
   ]
  },
  {
   "cell_type": "code",
   "execution_count": null,
   "id": "59266ccb",
   "metadata": {},
   "outputs": [],
   "source": [
    "import streamlit as st\n",
    "import pandas as pd\n",
    "\n",
    "st.title('Titanic Dataset')  # titulo\n",
    "\n",
    "st.header('Data from Titanic passengers') # cabecera de la tabla\n",
    "\n",
    "df=pd.read_csv('https://raw.githubusercontent.com/mwaskom/seaborn-data/master/titanic.csv')\n",
    "st.write(df)  # dataframe\n",
    "\n",
    "st.header('Fare Cumulative')\n",
    "fare=df['fare'].cumsum()\n",
    "st.line_chart(fare)  # grafico de linea"
   ]
  },
  {
   "cell_type": "markdown",
   "id": "e60f96f6",
   "metadata": {},
   "source": [
    "**Subir archivos**"
   ]
  },
  {
   "cell_type": "code",
   "execution_count": null,
   "id": "9062e349",
   "metadata": {},
   "outputs": [],
   "source": [
    "import streamlit as st\n",
    "from PIL import Image\n",
    "\n",
    "uploaded_file = st.file_uploader(\"Upload Files\",type=['png','jpeg'])\n",
    "\n",
    "if uploaded_file is not None:\n",
    "    file_details = {\"FileName\":uploaded_file.name,\"FileType\":uploaded_file.type,\"FileSize\":uploaded_file.size}\n",
    "    st.write(file_details)\n",
    "    \n",
    "    \n",
    "st.write(Image.open(uploaded_file))"
   ]
  },
  {
   "cell_type": "markdown",
   "id": "c6fd8f7a",
   "metadata": {},
   "source": [
    "**Titanic**"
   ]
  },
  {
   "cell_type": "code",
   "execution_count": null,
   "id": "5eb69c04",
   "metadata": {},
   "outputs": [],
   "source": [
    "\n",
    "# main imports\n",
    "\n",
    "import pandas as pd\n",
    "import numpy as np\n",
    "import streamlit as st\n",
    "import random as rd\n",
    "import pickle\n",
    "#from sklearn.model_selection import cross_val_score #only when testing\n",
    "np.random.seed(13) #random seed to keep predictions consistent\n",
    "\n",
    "forest_clf = pickle.load(open(\"models/modelo_rfc.pkl\",'rb'))\n",
    "\n",
    "\n",
    "## STREAMLIT\n",
    "st.write(\"\"\"\n",
    "         # Would you have survived the Titanic Disaster?\"\"\")\n",
    "st.image(\"https://media1.faz.net/ppmedia/aktuell/83311481/1.1703919/format_top1_breit/der-untergang-der-titanic-1912.jpg\",\n",
    "         caption = \"This disaster.\")\n",
    "st.image(\"http://3.bp.blogspot.com/-C6WJdUOdAaA/UJ7WLxU6lUI/AAAAAAAAAXs/GkjXrSqV2go/s320/titanic2.jpg\", caption = \"Not this one....\")\n",
    "\n",
    "st.write(\"\"\"\n",
    "         ## How it works:\n",
    "         Given some inputs the algorithm will give you a prediction for your survival\n",
    "         \n",
    "         ### Some information to help in your selection\n",
    "         \n",
    "         #### Women and children first\n",
    "         \n",
    "         *Only about 32% of passengers survived.*\n",
    "         \n",
    "         If you were a man, you're chances of survival were much lower. The overall survival rate for men was about 20%.\n",
    "         For women, it was 74%, and for children, 52%.\n",
    "         \n",
    "         \n",
    "         #### Titanic ticket prices were:\n",
    "         \n",
    "         - First Class (parlor suite) = £870/$4,350 ($113,075.78 2018)\n",
    "         - First Class (berth) = £30/$150 ($3,899.16 2018)\n",
    "         - Second Class = £12/$60 ($1,559.67 2018)\n",
    "         - Third Class = £3 - £8/$15 - $40 ($389.92 to $1,039.78 2018)\n",
    "         To put that into cotext, the average US wage in 1912 was about 22 cents per hour. The average person in the US made between $200 and $400 per year.\n",
    "         \n",
    "         The oldest passenger onboard was 74 year old Johan Svensson.\n",
    "         \"\"\")\n",
    "\n",
    "st.markdown(\"[You can find more facts about the Titanic here](https://www.telegraph.co.uk/travel/lists/titanic-fascinating-facts/#:~:text=1.,2.)\")\n",
    "st.markdown(\"[and here](https://titanicfacts.net/titanic-survivors/)\")\n",
    "st.markdown(\"[Could Jack have lived? More about the famous door scene from the Titanic Movie](http://colgatephys111.blogspot.com/2012/11/could-jack-have-lived.html)\")\n",
    "        \n",
    "\n",
    "\n",
    "\n",
    "st.sidebar.header(\"User Input Parameters\")\n",
    "\n",
    "### input needs to be scaled! geht raw X_train and then scale\n",
    "\n",
    "def user_input_features():\n",
    "    age = st.sidebar.slider(\"Your Age\", 1,75,30)\n",
    "    fare = st.sidebar.slider(\"Fare in 1912 $ (See Info)\",15,500,40)\n",
    "    SibSp = st.sidebar.selectbox(\"How many siblings or spouses are travelling with you?\",[0,1,2,3,4,5,6,7,8])\n",
    "    Parch = st.sidebar.selectbox(\"How many parents or children are travelling with you?\",[0,1,2,3,4,5,6,7,8])\n",
    "    cabin_multiple = st.sidebar.selectbox(\"How many additional cabins have you booked?\",[0,1,2,3,4])\n",
    "    numeric_ticket = rd.randint(0, 1)\n",
    "    Sex = st.sidebar.selectbox(\"Select your Gender (due to the historical nature of the data only male/female are available)\",[\"male\",\"female\"])\n",
    "    Sex_female = 0 if Sex == \"male\" else 1\n",
    "    Sex_male = 0 if Sex == \"female\" else 1\n",
    "    Pclass = st.sidebar.selectbox(\"Which Class is your ticket from?  (For accurate predictions match with Fare)\", [1,2,3])\n",
    "    Pclass_1 = 1 if Pclass == 1 else 0; Pclass_2 = 1 if Pclass == 2 else 0; Pclass_3 = 1 if Pclass == 3 else 0\n",
    "    boarding = st.sidebar.selectbox(\"Where did you board the Titanic?\", [\"Cherbourg\",\"Queenstown\",\"Southampton\"])\n",
    "    Embarked_C = 1 if boarding == \"Cherbourg\" else 0; Embarked_Q = 1 if boarding == \"Queenstown\" else 0; Embarked_S = 1 if boarding == \"Southampton\" else 0\n",
    "    data = {\"Age\": age,\"norm_fare\":np.log(fare+1),\"SibSp\":SibSp,\"Parch\":Parch,\"cabin_multiple\": cabin_multiple,\n",
    "            \"numeric_ticket\":numeric_ticket,\"Sex_female\":Sex_female,\"Sex_male\":Sex_male,\"Pclass_1\": Pclass_1, \"Pclass_2\": Pclass_2, \"Pclass_3\": Pclass_3,\n",
    "            \"Embarked_C\":Embarked_C,\"Embarked_Q\":Embarked_Q, \"Embarked_S\":Embarked_S}\n",
    "    data = pd.DataFrame(data, index = [0])\n",
    "    #scaler.transform(data)\n",
    "    #age,np.log(fare+1), SibSp, Parch, cabin_multiple, numeric_ticket, Sex_female,Sex_male, Pclass_1,Pclass_2,Pclass_3, Embarked_C, Embarked_Q, Embarked_S\n",
    "    return data\n",
    "\n",
    "user_data = user_input_features()\n",
    "#st.subheader(\"Your input Parameters:\")\n",
    "#st.dataframe(user_data.to_dict())\n",
    "\n",
    "prediction = forest_clf.predict(user_data)\n",
    "st.title(\"Survival Prediction\")\n",
    "#st.write(prediction[0])\n",
    "if prediction[0] == 1:\n",
    "    st.write(\"**You probably would have made it!**\")\n",
    "    st.image(\"https://thumbs-prod.si-cdn.com/pn1W-PCw0pwa_EpefSOduW74gcM=/fit-in/1072x0/https://public-media.si-cdn.com/filer/Titanic-survivors-drifting-2.jpg\")\n",
    "else: \n",
    "    st.write(\"Well...how do I put this...**you're probably safer just watching the movie!**\")\n",
    "    st.image(\"https://i2-prod.irishmirror.ie/incoming/article9830920.ece/ALTERNATES/s615b/0_Kate-Winslet-as-Rose-DeWitt-Bukater-and-Leonardo-DiCaprio-as-Jack-Dawson-in-Titanic.jpg\")\n",
    "\n",
    "\n",
    "######TESTING#####\n",
    "\n",
    "def display_scores(scores):\n",
    "    print(\"Scores:\", scores)\n",
    "    print(\"Mean:\", scores.mean())\n",
    "    print(\"Standard deviation:\", scores.std())\n",
    "\n",
    "\n"
   ]
  }
 ],
 "metadata": {
  "finalized": {
   "timestamp": 1646047371238,
   "trusted": true
  },
  "kernelspec": {
   "display_name": "clase",
   "language": "python",
   "name": "clase"
  },
  "language_info": {
   "codemirror_mode": {
    "name": "ipython",
    "version": 3
   },
   "file_extension": ".py",
   "mimetype": "text/x-python",
   "name": "python",
   "nbconvert_exporter": "python",
   "pygments_lexer": "ipython3",
   "version": "3.8.8"
  }
 },
 "nbformat": 4,
 "nbformat_minor": 5
}
