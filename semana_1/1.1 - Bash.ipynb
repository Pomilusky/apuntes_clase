{
 "cells": [
  {
   "cell_type": "markdown",
   "metadata": {
    "toc": true
   },
   "source": [
    "<h1>Table of Contents<span class=\"tocSkip\"></span></h1>\n",
    "<div class=\"toc\"><ul class=\"toc-item\"><li><span><a href=\"#¿Qué-es-la-terminal?\" data-toc-modified-id=\"¿Qué-es-la-terminal?-1\"><span class=\"toc-item-num\">1&nbsp;&nbsp;</span>¿Qué es la terminal?</a></span></li><li><span><a href=\"#Bash\" data-toc-modified-id=\"Bash-2\"><span class=\"toc-item-num\">2&nbsp;&nbsp;</span>Bash</a></span></li><li><span><a href=\"#Intro\" data-toc-modified-id=\"Intro-3\"><span class=\"toc-item-num\">3&nbsp;&nbsp;</span>Intro</a></span></li><li><span><a href=\"#Comandos-básicos\" data-toc-modified-id=\"Comandos-básicos-4\"><span class=\"toc-item-num\">4&nbsp;&nbsp;</span>Comandos básicos</a></span><ul class=\"toc-item\"><li><ul class=\"toc-item\"><li><span><a href=\"#Crear,-editar,-explorar\" data-toc-modified-id=\"Crear,-editar,-explorar-4.0.1\"><span class=\"toc-item-num\">4.0.1&nbsp;&nbsp;</span>Crear, editar, explorar</a></span></li></ul></li><li><span><a href=\"#Creacion-de-alias\" data-toc-modified-id=\"Creacion-de-alias-4.1\"><span class=\"toc-item-num\">4.1&nbsp;&nbsp;</span>Creacion de alias</a></span></li><li><span><a href=\"#Bucles,-condicionales-y-funciones\" data-toc-modified-id=\"Bucles,-condicionales-y-funciones-4.2\"><span class=\"toc-item-num\">4.2&nbsp;&nbsp;</span>Bucles, condicionales y funciones</a></span><ul class=\"toc-item\"><li><span><a href=\"#For\" data-toc-modified-id=\"For-4.2.1\"><span class=\"toc-item-num\">4.2.1&nbsp;&nbsp;</span>For</a></span></li><li><span><a href=\"#start-stop-step\" data-toc-modified-id=\"start-stop-step-4.2.2\"><span class=\"toc-item-num\">4.2.2&nbsp;&nbsp;</span>start-stop-step</a></span></li><li><span><a href=\"#bucle-infinito\" data-toc-modified-id=\"bucle-infinito-4.2.3\"><span class=\"toc-item-num\">4.2.3&nbsp;&nbsp;</span>bucle infinito</a></span></li><li><span><a href=\"#while\" data-toc-modified-id=\"while-4.2.4\"><span class=\"toc-item-num\">4.2.4&nbsp;&nbsp;</span>while</a></span></li><li><span><a href=\"#condicional\" data-toc-modified-id=\"condicional-4.2.5\"><span class=\"toc-item-num\">4.2.5&nbsp;&nbsp;</span>condicional</a></span></li><li><span><a href=\"#funcion\" data-toc-modified-id=\"funcion-4.2.6\"><span class=\"toc-item-num\">4.2.6&nbsp;&nbsp;</span>funcion</a></span></li></ul></li><li><span><a href=\"#+-Resumen\" data-toc-modified-id=\"+-Resumen-4.3\"><span class=\"toc-item-num\">4.3&nbsp;&nbsp;</span>+ Resumen</a></span></li><li><span><a href=\"#Más-material\" data-toc-modified-id=\"Más-material-4.4\"><span class=\"toc-item-num\">4.4&nbsp;&nbsp;</span>Más material</a></span><ul class=\"toc-item\"><li><span><a href=\"#Ejemplos\" data-toc-modified-id=\"Ejemplos-4.4.1\"><span class=\"toc-item-num\">4.4.1&nbsp;&nbsp;</span>Ejemplos</a></span></li><li><span><a href=\"#Referencias\" data-toc-modified-id=\"Referencias-4.4.2\"><span class=\"toc-item-num\">4.4.2&nbsp;&nbsp;</span>Referencias</a></span></li></ul></li><li><span><a href=\"#Juegos-en-bash:\" data-toc-modified-id=\"Juegos-en-bash:-4.5\"><span class=\"toc-item-num\">4.5&nbsp;&nbsp;</span>Juegos en bash:</a></span></li></ul></li></ul></div>"
   ]
  },
  {
   "cell_type": "markdown",
   "metadata": {},
   "source": [
    "![elgif](https://media.giphy.com/media/f9k1tV7HyORcngKF8v/giphy.gif)"
   ]
  },
  {
   "cell_type": "markdown",
   "metadata": {},
   "source": [
    "## ¿Qué es la terminal?"
   ]
  },
  {
   "cell_type": "markdown",
   "metadata": {},
   "source": [
    "La terminal es una manera de interactuar con nuestr ordenador, pero en lugar de hacerlo a traves de iconos y movimientos del ratón, como estáis habituadas hacer (y es lo que conocemos como GUI (Graphical User Interface)), esas interacciones se realizan con líneas de comandos. Y por eso la terminal es una CLI (Command Line Interface).\n",
    "\n",
    "En el caso de la terminal, muchos nombres se usan como sinonimos: bash, shell, zsh, iTerm, etc. Realmente todos estos nombres son emuladores de terminal de tipo Unix-like que usan lenguaje Bash. Es decir, todo eso son \"programas\". Aunque tampoco vamos a profundizar en ello. \n",
    "El lenguaje Bash es el CLI más utilizado y standard en la industria.\n",
    "\n",
    "Si usas macOS 🍎 o Linux 🐧, no te preocupes, por defecto la terminal que estarás usando utiliza el lenguaje Bash.\n",
    "En Windows 🪟, sin embargo, la cosa es un poco diferente. El CLI de Windows, también conocido como cmd.exe o Command Prompt es diferente, aunque comparta muchas similaridades en la sintaxis, también hay muchas incompatibilidades.\n",
    "\n",
    "Por ejemplo, el comando ls usado en ambos mac y Linux, tiene como equivalente el dir en cmd.exe\n",
    "\n",
    "Pero no temáis, las usuarias de Windows podéis tener el mismo programa con algunas opciones diferentes como Git BASH,o instalar WSL (Windows Subsystem for Linux) con el programa Hyper como terminal.\n",
    "\n",
    "No nos engañemos por su antiguedad y estética sencilla. Aunque os parezca sacada del mundo de Matrix... la terminal es una tecnologia muy concisa y que permanece muy actual."
   ]
  },
  {
   "cell_type": "markdown",
   "metadata": {},
   "source": [
    "## Bash\n",
    "¿Qué es bash?\n",
    "Bash es un intérprete de comandos que ejecuta, una por una, las instrucciones introducidas por el usuario o contenidas en un script y devuelve los resultados.      \n",
    "\n",
    "https://es.wikipedia.org/wiki/Bash\n",
    "\n",
    "Por otro lado, Bash no es una terminal. Tampoco es la única shell disponible. De hecho, podemos ver los intérpretes disponibles en nuestro equipo al observar el contenido del archivo /etc/shells. Si lo consideramos necesario, podemos asignar a los usuarios comunes algún otro (distinto de Bash). De esta manera podemos restringir el alcance de lo que pueden llegar a hacer utilizando la línea de comandos. Por supuesto, es el administrador quien decide esto.     \n",
    "También existe **ZSH**, otra forma de terminal:\n",
    "ZSH, también llamado Z shell, es una versión extendida de Bourne Shell (sh), con muchas características nuevas y soporte para plugins y temas. Dado que se basa en el mismo shell que Bash, ZSH tiene muchas de las mismas características. Empezar a utilizarlo es muy sencillo.      \n",
    "        \n",
    "https://github.com/ohmyzsh/ohmyzsh/wiki/Installing-ZSH"
   ]
  },
  {
   "cell_type": "markdown",
   "metadata": {},
   "source": [
    "## Intro"
   ]
  },
  {
   "cell_type": "markdown",
   "metadata": {},
   "source": [
    "**GUI**: Graphical User Interface: interacción usuario-máquina a través de gráficos, iconos, imágenes, textos.  \n",
    "**CLI**: Command Line Interface: interacción usuario-máquina a través de comandos de texto."
   ]
  },
  {
   "cell_type": "markdown",
   "metadata": {},
   "source": [
    "CLIs:\n",
    " * Mac, Linux: UNIX shell  \n",
    " * Windows: Git-Bash"
   ]
  },
  {
   "cell_type": "markdown",
   "metadata": {},
   "source": [
    "*Sinónimos* de CLI:\n",
    " * shell\n",
    " * consola\n",
    " * terminal"
   ]
  },
  {
   "cell_type": "markdown",
   "metadata": {},
   "source": [
    "Una terminal es útil para:\n",
    " * Conexiones SSH (Secure Shell): SSH es un protocolo criptográfico para operar de manera segura en redes inseguras.\n",
    " * Crear pequeños programas. \n",
    " * Administrar servidores.\n",
    " * Pretender ser un buen programador.\n",
    " * Disfrutar de permisos de administrador. (¡Con cuidado!)"
   ]
  },
  {
   "cell_type": "markdown",
   "metadata": {},
   "source": [
    "## Comandos básicos"
   ]
  },
  {
   "cell_type": "markdown",
   "metadata": {},
   "source": [
    "La sintaxis general para los comandos de bash es: `comando [opciones] [argumentos]`  \n",
    "¡Algunos comandos NECESITAN opciones y/o argumentos!      \n",
    "Y además....       \n",
    "Puedes usar la tecla `<TAB>` para autocompletar."
   ]
  },
  {
   "cell_type": "markdown",
   "metadata": {},
   "source": [
    "`bash --version`: version de bash"
   ]
  },
  {
   "cell_type": "markdown",
   "metadata": {},
   "source": [
    "`man`: manual, ayuda"
   ]
  },
  {
   "cell_type": "markdown",
   "metadata": {},
   "source": [
    "`pwd`: imprime el directorio actual"
   ]
  },
  {
   "cell_type": "markdown",
   "metadata": {},
   "source": [
    "`clear`: limpia la terminal"
   ]
  },
  {
   "cell_type": "markdown",
   "metadata": {},
   "source": [
    "`tput reset`: también limpia la terminal"
   ]
  },
  {
   "cell_type": "markdown",
   "metadata": {},
   "source": [
    "`echo`: imprime por pantalla"
   ]
  },
  {
   "cell_type": "markdown",
   "metadata": {},
   "source": [
    "`date`: fecha"
   ]
  },
  {
   "cell_type": "markdown",
   "metadata": {},
   "source": [
    "`cal`: calendario"
   ]
  },
  {
   "cell_type": "markdown",
   "metadata": {},
   "source": [
    "`cd`: cambio a directorio raiz\n",
    "\n",
    "`cd [argumento]`: cambio de directorio, entrar\n",
    "\n",
    "`cd ..`: cambio de directorio, atrás"
   ]
  },
  {
   "cell_type": "markdown",
   "metadata": {},
   "source": [
    "`ls`: listado de directorios\n",
    "\n",
    "`ls -a`: todos los archivos\n",
    "\n",
    "`ls -l`: listado largo\n",
    "\n",
    "`ls -al`: ambos\n",
    "\n",
    "`ls -als`: ambos con nº de elementos"
   ]
  },
  {
   "cell_type": "markdown",
   "metadata": {},
   "source": [
    "#### Crear, editar, explorar"
   ]
  },
  {
   "cell_type": "markdown",
   "metadata": {},
   "source": [
    "`mkdir`: crear directorio"
   ]
  },
  {
   "cell_type": "markdown",
   "metadata": {},
   "source": [
    "`touch`: crea un archivo en blanco "
   ]
  },
  {
   "cell_type": "markdown",
   "metadata": {},
   "source": [
    "`>>`: añade a un archivo"
   ]
  },
  {
   "cell_type": "markdown",
   "metadata": {},
   "source": [
    "`>`: inserta en un archivo (¡Cuidado!, borra todo el contenido del archivo)"
   ]
  },
  {
   "cell_type": "markdown",
   "metadata": {},
   "source": [
    "`cat`: mira el contenido del archivo"
   ]
  },
  {
   "cell_type": "markdown",
   "metadata": {},
   "source": [
    "`head`: mira la cabeza del archivo (-n número) antes del archivo"
   ]
  },
  {
   "cell_type": "code",
   "execution_count": 4,
   "metadata": {},
   "outputs": [
    {
     "data": {
      "text/plain": [
       "5"
      ]
     },
     "execution_count": 4,
     "metadata": {},
     "output_type": "execute_result"
    }
   ],
   "source": [
    "3 + 2 "
   ]
  },
  {
   "cell_type": "markdown",
   "metadata": {},
   "source": [
    "`tail`: mira la cola del archivo"
   ]
  },
  {
   "cell_type": "markdown",
   "metadata": {},
   "source": [
    "Otra forma de editar archivos es el editor \"nano\".        \n",
    "Aquí os dejo [algunos](https://adclichosting.com/knowledgebase/comandos-del-editor-nano/) comandos"
   ]
  },
  {
   "cell_type": "markdown",
   "metadata": {},
   "source": [
    "`nano`: edita el contenido del archivo\n",
    "--> Ctrl + x: Salimos del editor"
   ]
  },
  {
   "cell_type": "markdown",
   "metadata": {},
   "source": [
    "`wc`: cuenta lineas/palabras/caracteres \n",
    "\n",
    "(podemos pasarle el parámetro específico -l / -w / -c)"
   ]
  },
  {
   "cell_type": "markdown",
   "metadata": {},
   "source": [
    "`mv`: mueve o renombra archivo"
   ]
  },
  {
   "cell_type": "markdown",
   "metadata": {},
   "source": [
    "`cp`: copiar archivo"
   ]
  },
  {
   "cell_type": "markdown",
   "metadata": {},
   "source": [
    "`rm`: borra archivo"
   ]
  },
  {
   "cell_type": "markdown",
   "metadata": {},
   "source": [
    "`rm -r`: borra directorio"
   ]
  },
  {
   "cell_type": "markdown",
   "metadata": {},
   "source": [
    "`find`: encuentra archivos     \n",
    "El comando find tiene muchas opciones y parámetros...[revisad aquí](https://www.diskinternals.com/linux-reader/bash-find-command/)      \n",
    "find ruta archivo (si estoy en la misma carpeta nada)      \n",
    "Combinado con `*`"
   ]
  },
  {
   "cell_type": "markdown",
   "metadata": {},
   "source": [
    "`grep`: encuentra en el texto dentro de un archivo"
   ]
  },
  {
   "cell_type": "markdown",
   "metadata": {},
   "source": [
    "`|`: calcula segun el resultado de otro comando"
   ]
  },
  {
   "cell_type": "markdown",
   "metadata": {},
   "source": [
    "`history`: muestra el historico de comandos ejecutados"
   ]
  },
  {
   "cell_type": "markdown",
   "metadata": {},
   "source": [
    "(history | grep loquesea) # busco en el historial de comandos"
   ]
  },
  {
   "cell_type": "markdown",
   "metadata": {},
   "source": [
    "`age=31`: crear variable"
   ]
  },
  {
   "cell_type": "markdown",
   "metadata": {},
   "source": [
    "`$`: acceder a variable"
   ]
  },
  {
   "cell_type": "markdown",
   "metadata": {},
   "source": [
    "`top` and `htop`: muestra el uso de RAM y CPU"
   ]
  },
  {
   "cell_type": "markdown",
   "metadata": {},
   "source": [
    "`Ctrl+R`: pra encontrar comandos anteriores"
   ]
  },
  {
   "cell_type": "markdown",
   "metadata": {},
   "source": [
    "### Creacion de alias"
   ]
  },
  {
   "cell_type": "markdown",
   "metadata": {},
   "source": [
    "Los alias son atajos para comandos frecuentes:\n",
    "\n",
    "Existe un archivo `.bashrc` o `.zshrc` en tu directorio raíz y añade un comando alias:  \n",
    "`alias jn=\"jupyter notebook\"`  \n",
    "**La terminal se tiene que reiniciar**"
   ]
  },
  {
   "cell_type": "markdown",
   "metadata": {},
   "source": [
    "### Bucles, condicionales y funciones"
   ]
  },
  {
   "cell_type": "markdown",
   "metadata": {},
   "source": [
    "#### For\n",
    "`for i in 1 2 3  \n",
    "do\n",
    "echo $i\n",
    "done`"
   ]
  },
  {
   "cell_type": "markdown",
   "metadata": {},
   "source": [
    "#### start-stop-step\n",
    "\n",
    "`for i in {0..10..2}       \n",
    "do\n",
    "echo $i\n",
    "done`\n"
   ]
  },
  {
   "cell_type": "markdown",
   "metadata": {},
   "source": [
    "#### bucle infinito\n",
    "\n",
    "`for (( ; ; ))     \n",
    "do\n",
    "echo 1\n",
    "done`"
   ]
  },
  {
   "cell_type": "markdown",
   "metadata": {},
   "source": [
    "#### while\n",
    "\n",
    "`total=1`\n",
    "\n",
    "`while [ $total -le 3 ]`\n",
    "\n",
    "`do`\n",
    "\n",
    "`total=$(($total + 1))`\n",
    "\n",
    "`done`\n",
    "\n",
    "`echo 'bucle acabado'`\n",
    "\n",
    "`echo $total`"
   ]
  },
  {
   "cell_type": "markdown",
   "metadata": {},
   "source": [
    "#### condicional\n",
    "\n",
    "`a=1`\n",
    "\n",
    "`if [ $a -le 3 ]`\n",
    "\n",
    "`then`\n",
    "\n",
    "`echo 'pequeño'`\n",
    "\n",
    "`else `\n",
    "\n",
    "`echo 'grande'`\n",
    "\n",
    "`fi`"
   ]
  },
  {
   "cell_type": "markdown",
   "metadata": {},
   "source": [
    "#### funcion\n",
    "\n",
    "`funcion() {\n",
    "echo 'estoy en la funcion'\n",
    "}`\n",
    "\n",
    "\n",
    "`funcion`"
   ]
  },
  {
   "cell_type": "markdown",
   "metadata": {},
   "source": [
    "### + Resumen\n",
    "Es tu turno ¿Qué hemos aprendido en esta clase?\n",
    "- Comandos que podemos utilizar en bash\n",
    "- cd (directorio raíz)\n",
    "- cat (abrir archivo)\n",
    "- rm (borrar archivo)\n",
    "- cd.. (volvemos atrás)\n",
    "- pwd (indica ruta donde estamos)\n",
    "- history (historial de comandos)\n",
    "- con la terminal tenemos permisos de admin y hacemos cosas permanentemente oJO\n",
    "- man AYUDA\n",
    "- Algunos comandos tienen parámetros (buscadlo en google) se introducen con FLAGS -loquesea"
   ]
  },
  {
   "cell_type": "markdown",
   "metadata": {},
   "source": [
    "### Más material"
   ]
  },
  {
   "cell_type": "markdown",
   "metadata": {},
   "source": [
    "#### Ejemplos"
   ]
  },
  {
   "cell_type": "markdown",
   "metadata": {},
   "source": [
    "**Crear directorio, archivo de texto, rellenar y borrar**"
   ]
  },
  {
   "cell_type": "markdown",
   "metadata": {},
   "source": [
    "`mkdir A`         # crea directorio\n",
    "\n",
    "`ls`              # comprobacion\n",
    "\n",
    "`touch hola.txt`  # crea archivo\n",
    "\n",
    "`ls`              # comprobacion\n",
    "\n",
    "`echo 'hola'`     # print, muestra por terminal\n",
    "\n",
    "`echo 3`\n",
    "\n",
    "`echo 'hola que tal, como estas?' >> hola.txt`     # escribe sobre el archivo hola.txt\n",
    "\n",
    "`cat hola.txt`                                     # lee el archivo\n",
    "\n",
    "`grep 'hola' hola.txt`                             # busca patron en el archivo\n",
    "\n",
    "`rm -rf hola.txt`          # borra archivo\n",
    "\n",
    "`ls`                       # comprobacion \n",
    "\n",
    "`rm -rf A`                 # borra directorio\n",
    "\n",
    "`ls`                      # comprobacion"
   ]
  },
  {
   "cell_type": "markdown",
   "metadata": {},
   "source": [
    "**Con bucle y función**"
   ]
  },
  {
   "cell_type": "markdown",
   "metadata": {},
   "source": [
    "`funcion() {\n",
    "echo 'estoy en la funcion'\n",
    "}`                              # define funcion\n",
    "\n",
    "\n",
    "\n",
    "`total=10`    # variable\n",
    "\n",
    "`while [ $total -ge 4 ]`   # inicio bucle\n",
    "\n",
    "`do` \n",
    "\n",
    "`funcion`  # llamada a funcion\n",
    "\n",
    "`total=$(($total - 1))`    # actualiza variable\n",
    "\n",
    "`done`     # fin de bucle\n",
    "\n",
    "`echo 'bucle acabado'`   # imprime por terminal\n",
    "\n",
    "`funcion`   # llamada a funcion\n",
    "\n",
    "`echo 'fin'`     # imprime por terminal"
   ]
  },
  {
   "cell_type": "markdown",
   "metadata": {},
   "source": [
    "#### Referencias"
   ]
  },
  {
   "cell_type": "markdown",
   "metadata": {},
   "source": [
    "**Manual:**\n",
    "\n",
    "https://www.gnu.org/savannah-checkouts/gnu/bash/manual/bash.html"
   ]
  },
  {
   "cell_type": "markdown",
   "metadata": {},
   "source": [
    "**Cheat Sheets:**\n",
    "\n",
    "[bash1](https://devhints.io/bash)"
   ]
  },
  {
   "cell_type": "markdown",
   "metadata": {},
   "source": [
    "### Juegos en bash:\n",
    "\n",
    "[Aventura gráfica Terminus](https://web.mit.edu/mprat/Public/web/Terminus/Web/main.html)\n",
    "\n",
    "[The Command Line Murders](https://github.com/veltman/clmystery)"
   ]
  }
 ],
 "metadata": {
  "finalized": {
   "timestamp": 1619446289233,
   "trusted": true
  },
  "kernelspec": {
   "display_name": "ironhack",
   "language": "python",
   "name": "ironhack"
  },
  "language_info": {
   "codemirror_mode": {
    "name": "ipython",
    "version": 3
   },
   "file_extension": ".py",
   "mimetype": "text/x-python",
   "name": "python",
   "nbconvert_exporter": "python",
   "pygments_lexer": "ipython3",
   "version": "3.8.5"
  },
  "toc": {
   "base_numbering": 1,
   "nav_menu": {},
   "number_sections": true,
   "sideBar": true,
   "skip_h1_title": true,
   "title_cell": "Table of Contents",
   "title_sidebar": "Contents",
   "toc_cell": true,
   "toc_position": {
    "height": "calc(100% - 180px)",
    "left": "10px",
    "top": "150px",
    "width": "288px"
   },
   "toc_section_display": true,
   "toc_window_display": false
  },
  "varInspector": {
   "cols": {
    "lenName": 16,
    "lenType": 16,
    "lenVar": 40
   },
   "kernels_config": {
    "python": {
     "delete_cmd_postfix": "",
     "delete_cmd_prefix": "del ",
     "library": "var_list.py",
     "varRefreshCmd": "print(var_dic_list())"
    },
    "r": {
     "delete_cmd_postfix": ") ",
     "delete_cmd_prefix": "rm(",
     "library": "var_list.r",
     "varRefreshCmd": "cat(var_dic_list()) "
    }
   },
   "types_to_exclude": [
    "module",
    "function",
    "builtin_function_or_method",
    "instance",
    "_Feature"
   ],
   "window_display": false
  }
 },
 "nbformat": 4,
 "nbformat_minor": 4
}
