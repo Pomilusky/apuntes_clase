{
 "cells": [
  {
   "cell_type": "markdown",
   "metadata": {},
   "source": [
    "# 2.3- Automatización\n",
    "\n",
    "![automatizacion](images/automatizacion.png)"
   ]
  },
  {
   "cell_type": "markdown",
   "metadata": {},
   "source": [
    "Selenium automatiza los navegadores. Principalmente, es para la automatización de aplicaciones web con fines de pruebas, pero ciertamente no se limita a eso. Las tareas aburridas de administración basadas en web pueden ser automatizadas.\n",
    "\n",
    "Veremos como realizar estas automatizaciones y además ocultar nuestro driver para que parezca una persona."
   ]
  },
  {
   "cell_type": "markdown",
   "metadata": {},
   "source": [
    "**Librerias**"
   ]
  },
  {
   "cell_type": "code",
   "execution_count": null,
   "metadata": {},
   "outputs": [],
   "source": [
    "from selenium import webdriver    # driver de selenium\n",
    "\n",
    "import time                       # para menejo temporal\n",
    " \n",
    "import getpass                    # introduccion de texto oculto, passwords\n",
    "\n",
    "import os                         # libreria del sistema \n",
    "\n",
    "from zipfile import ZipFile       # manejo de archivos zip\n",
    "\n",
    "import pandas as pd"
   ]
  },
  {
   "cell_type": "markdown",
   "metadata": {},
   "source": [
    "### Opciones del driver\n",
    "\n",
    "https://peter.sh/experiments/chromium-command-line-switches/\n"
   ]
  },
  {
   "cell_type": "code",
   "execution_count": null,
   "metadata": {},
   "outputs": [],
   "source": [
    "from selenium.webdriver.chrome.options import Options"
   ]
  },
  {
   "cell_type": "code",
   "execution_count": null,
   "metadata": {},
   "outputs": [],
   "source": [
    "# opciones del webdriver\n",
    "\n",
    "opciones=Options()\n",
    "\n",
    "opciones.add_experimental_option('excludeSwitches', ['enable-automation'])\n",
    "opciones.add_experimental_option('useAutomationExtension', False)\n",
    "\n",
    "opciones.headless=False    # si True, no aperece la ventana (headless=no visible)\n",
    "\n",
    "opciones.add_argument('--start-maximized')         # comienza maximizado\n",
    "\n",
    "\n",
    "opciones.add_argument('user-data-dir=selenium')    # mantiene las cookies\n",
    "\n",
    "opciones.add_extension('driver/adblock.crx')       # adblocker\n",
    "\n",
    "#opciones.add_argument('--incognito')              # incognito\n",
    " \n",
    "#opciones.add_argument('--no-proxy-server')                 # sin proxy\n",
    "#opciones.add_argument('proxy-server=106.122.8.54:3128')    # proxy custom\n"
   ]
  },
  {
   "cell_type": "markdown",
   "metadata": {},
   "source": [
    "### Creando usuario random\n",
    "\n",
    "https://pypi.org/project/fake-useragent/"
   ]
  },
  {
   "cell_type": "code",
   "execution_count": null,
   "metadata": {},
   "outputs": [],
   "source": [
    "!pip install fake_useragent"
   ]
  },
  {
   "cell_type": "code",
   "execution_count": null,
   "metadata": {},
   "outputs": [],
   "source": [
    "from fake_useragent import UserAgent\n",
    "\n",
    "usuario=UserAgent().random\n",
    "\n",
    "print(usuario)\n",
    "\n",
    "#opciones.add_argument(f'user-agent={usuario}')"
   ]
  },
  {
   "cell_type": "markdown",
   "metadata": {},
   "source": [
    "### Editando el archivo chromedriver\n",
    "\n",
    "\n",
    "Distil web monitor comprueba el patrón de regex  \"[a-z]dc_\", y el chromedriver tiene una variable que cumple con dicho patrón \"cdc_\". Esto hace posible la detección del driver en la red por parte de los monitores.\n",
    "\n",
    "\n",
    "**Cambiando la string cdc_**\n",
    "\n",
    "Podemos editar el chromedriver usando Vim, escribiendo en terminal:\n",
    "\n",
    "`vim /ruta/al/chromedriver`\n",
    "\n",
    "Una ver abierto el Vim, verás muchas **@** en el archivo. En el editor realizamos los siguientes pasos:\n",
    "\n",
    "+ Vamos a reemplazar la string `cdc_` todas las veces que aparece escribiendo: `%s/cdc_/arm_/g`. arm_ es solo un ejemplo, se puede sustituir con cualquier string con la condición de que se mantenga la longitud, si no el driver fallará.\n",
    "\n",
    "+ Para guardar los cambios y salir de Vim se escribe: `:wq!` y presiona Enter. Para salir sin guardar `:q!`.\n"
   ]
  },
  {
   "cell_type": "code",
   "execution_count": null,
   "metadata": {},
   "outputs": [],
   "source": [
    "PATH='driver/chromedriver'\n",
    "\n",
    "from webdriver_manager.chrome import ChromeDriverManager\n",
    "\n",
    "PATH=ChromeDriverManager().install()"
   ]
  },
  {
   "cell_type": "markdown",
   "metadata": {},
   "source": [
    "### Ejemplo Kaggle \n",
    "\n",
    "https://www.kaggle.com/"
   ]
  },
  {
   "cell_type": "code",
   "execution_count": null,
   "metadata": {},
   "outputs": [],
   "source": [
    "url='https://www.kaggle.com/'"
   ]
  },
  {
   "cell_type": "code",
   "execution_count": null,
   "metadata": {},
   "outputs": [],
   "source": [
    "driver=webdriver.Chrome(PATH, options=opciones)\n",
    "driver.get(url)\n",
    "    \n",
    "time.sleep(3)\n",
    "\n",
    "datasets=driver.find_element_by_xpath('//*[@id=\"site-container\"]/div/div[1]/div[1]/a[2]')\n",
    "datasets.click()\n",
    "\n",
    "time.sleep(3)\n",
    "\n",
    "buscar=driver.find_element_by_xpath('//*[@id=\"site-content\"]/div[6]/div/div/div[1]/div/input')\n",
    "\n",
    "buscar.send_keys('geoloc')    # palabras clave de busqueda, buscar.submit() si fuera necesario\n",
    "\n",
    "time.sleep(3)\n",
    "\n",
    "filtro=driver.find_element_by_xpath('//*[@id=\"site-content\"]/div[5]/div/div/div[1]/div/div[1]/button/i')\n",
    "filtro.click()\n",
    "\n",
    "time.sleep(3)\n",
    "\n",
    "selector=driver.find_element_by_xpath('//*[@id=\"site-content\"]/div[5]/div/div/div[1]/div/div[2]/div/div/div/div[2]/div[2]')\n",
    "selector=selector.find_element_by_xpath('//*[@id=\"site-content\"]/div[5]/div/div/div[1]/div/div[2]/div/div/div/div[2]/div[2]/div/input[2]')\n",
    "\n",
    "selector.send_keys('1')\n",
    "\n",
    "\n",
    "aplicar=driver.find_element_by_xpath('//*[@id=\"site-content\"]/div[5]/div/div/div[1]/div/div[2]/div/div/div/div[6]/button[2]/span')\n",
    "aplicar.click()\n",
    "\n",
    "\n",
    "time.sleep(3)\n",
    "\n",
    "tabla_datasets=driver.find_element_by_xpath('//*[@id=\"site-content\"]/div[6]/div/div[1]/div/ul')\n",
    "\n",
    "primer_dataset=tabla_datasets.find_element_by_xpath('//*[@id=\"site-content\"]/div[6]/div/div[1]/div/ul/li[1]/div[1]/a/div[2]/div')\n",
    "primer_dataset.click()\n",
    "\n",
    "time.sleep(5)\n",
    "\n",
    "descargar=driver.find_element_by_xpath('//*[@id=\"site-content\"]/div[2]/div[2]/div[3]/div[2]/div/div[2]/div/div[1]/div[2]/i')\n",
    "descargar.click()\n",
    "\n",
    "time.sleep(2)\n",
    "\n",
    "\n",
    "sign_in=driver.find_element_by_xpath('//*[@id=\"site-container\"]/div[1]/div/form/div[2]/div/div[2]/a/li/div')\n",
    "sign_in.click()\n",
    "\n",
    "time.sleep(2)\n",
    "\n",
    "entradas=driver.find_elements_by_tag_name('input')\n",
    "\n",
    "email=entradas[0]\n",
    "email.send_keys(input('Introduce tu email: ')) \n",
    "\n",
    "\n",
    "password=entradas[1]\n",
    "password.send_keys(getpass.getpass('Introduce tu password: ')) \n",
    "\n",
    "\n",
    "siguiente=driver.find_element_by_css_selector('#site-container > div:nth-child(1) > div > form > div.sc-qQKPx.fVZito > div.sc-qYHHM.gXtZap > button > span')\n",
    "siguiente.click()\n",
    "\n",
    "time.sleep(2)\n",
    "\n",
    "descargar=driver.find_element_by_xpath('//*[@id=\"site-content\"]/div[2]/div[1]/div/div/div[2]/div[2]/div[1]/div[2]/a/button/span')\n",
    "descargar.click()\n",
    "\n",
    "\n",
    "while not os.path.exists('/Users/iudh/Downloads/archive.zip'):\n",
    "    time.sleep(1)\n",
    "    \n",
    "\n",
    "time.sleep(2)\n",
    "\n",
    "driver.quit()\n",
    "\n",
    "z=ZipFile('/Users/iudh/Downloads/archive.zip')\n",
    "\n",
    "archivos=z.infolist()\n",
    "\n",
    "df=pd.read_csv(z.open(archivos[0].filename))\n",
    "\n",
    "os.remove('/Users/iudh/Downloads/archive.zip')\n",
    "\n",
    "df"
   ]
  },
  {
   "cell_type": "code",
   "execution_count": null,
   "metadata": {},
   "outputs": [],
   "source": [
    "driver.quit()"
   ]
  },
  {
   "cell_type": "markdown",
   "metadata": {},
   "source": [
    "### Ejemplo Cuevana\n",
    "\n",
    "https://www1.cuevana3.video/"
   ]
  },
  {
   "cell_type": "code",
   "execution_count": null,
   "metadata": {},
   "outputs": [],
   "source": [
    "from selenium.webdriver.common.by import By\n",
    "from selenium.webdriver.support.ui import WebDriverWait\n",
    "from selenium.webdriver.support import expected_conditions as EC\n",
    "from selenium.webdriver import ActionChains as AC"
   ]
  },
  {
   "cell_type": "code",
   "execution_count": null,
   "metadata": {},
   "outputs": [],
   "source": [
    "url='https://www1.cuevana3.video/'  "
   ]
  },
  {
   "cell_type": "code",
   "execution_count": null,
   "metadata": {},
   "outputs": [],
   "source": [
    "driver=webdriver.Chrome(PATH, options=opciones)\n",
    "driver.get(url)\n",
    "    \n",
    "time.sleep(5)\n",
    "\n",
    "\n",
    "buscar=driver.find_element_by_xpath('//*[@id=\"keysss\"]')\n",
    "\n",
    "buscar.send_keys('final space')\n",
    "buscar.submit()\n",
    "\n",
    "\n",
    "primer_resultado=driver.find_element_by_xpath('//*[@id=\"aa-wp\"]/div/div/main/section/ul/li/div/a/div/figure/img')\n",
    "primer_resultado.click()\n",
    "\n",
    "\n",
    "temporadas=driver.find_element_by_xpath('//*[@id=\"select-season\"]')\n",
    "temporadas.click()\n",
    "\n",
    "chooser=WebDriverWait(temporadas, 5).until(EC.element_to_be_clickable((By.XPATH, '//*[contains(text(),'+'\"'+f'Temporada {1}'+'\"'+')]')))\n",
    "chooser.click()\n",
    "\n",
    "capitulos=driver.find_element_by_xpath(f'//*[@id=\"season-{1}\"]')\n",
    "\n",
    "capitulos=capitulos.find_elements_by_tag_name('li')\n",
    "time.sleep(1)\n",
    "\n",
    "# desde aqui capitulos \n",
    "capitulos[-1].click()\n",
    "\n",
    "#while 1:\n",
    "\n",
    "time.sleep(1)\n",
    "\n",
    "try:\n",
    "    idioma=driver.find_element_by_xpath('//*[@id=\"top-single\"]/div[1]/ul')\n",
    "    idioma=WebDriverWait(idioma, 2).until(EC.element_to_be_clickable((By.XPATH, '//*[contains(text(),'+'\"'+'Subtitulado '+'\"'+')]')))\n",
    "    idioma.click()\n",
    "\n",
    "    idioma=driver.find_element_by_xpath('//*[@id=\"top-single\"]/div[1]/ul/li[2]/div[2]/ul')\n",
    "    idioma.click()\n",
    "except:\n",
    "    print('no hay subtitulado..')\n",
    "\n",
    "\n",
    "video=driver.find_element_by_xpath('//*[@id=\"top-single\"]/div[1]/div[2]/div/div/div/div/iframe')\n",
    "video.click()\n",
    "\n",
    "video_url=video.get_attribute('src')\n",
    "\n",
    "\n",
    "driver.get(video_url)\n",
    "time.sleep(2)\n",
    "\n",
    "# depende del video player\n",
    "play=driver.find_element_by_xpath('//*[@id=\"myVideo\"]/div[2]/div[12]/div[1]/div/div/div[2]/div')\n",
    "play.click()\n",
    "\n",
    "\n",
    "pantalla_completa=driver.find_element_by_xpath('//*[@id=\"myVideo\"]/div[2]/div[12]/div[4]/div[2]/div[15]')\n",
    "pantalla_completa.click()\n",
    "\n",
    "tiempo_cap=0\n",
    "\n",
    "time.sleep(1)\n",
    "\n",
    "while 1:\n",
    "    tiempo_cap=driver.find_element_by_class_name('jw-icon.jw-icon-inline.jw-text.jw-reset.jw-text-countdown').get_attribute('innerText') \n",
    "    if tiempo_cap=='00:00':\n",
    "        break\n",
    "\n",
    "video=driver.find_element_by_xpath('//*[@id=\"myVideo\"]/div[2]/div[4]/video')\n",
    "\n",
    "AC(driver).double_click(video).perform()\n",
    "\n",
    "driver.back()\n",
    "\n",
    "siguiente=driver.find_element_by_xpath('//*[@id=\"top-single\"]/div[1]/div[3]/a[3]')\n",
    "siguiente.click()"
   ]
  },
  {
   "cell_type": "code",
   "execution_count": null,
   "metadata": {},
   "outputs": [],
   "source": [
    "driver.quit()"
   ]
  },
  {
   "cell_type": "code",
   "execution_count": null,
   "metadata": {},
   "outputs": [],
   "source": []
  }
 ],
 "metadata": {
  "finalized": {
   "timestamp": 1618416077763,
   "trusted": true
  },
  "kernelspec": {
   "display_name": "Python 3",
   "language": "python",
   "name": "python3"
  },
  "language_info": {
   "codemirror_mode": {
    "name": "ipython",
    "version": 3
   },
   "file_extension": ".py",
   "mimetype": "text/x-python",
   "name": "python",
   "nbconvert_exporter": "python",
   "pygments_lexer": "ipython3",
   "version": "3.8.8"
  },
  "varInspector": {
   "cols": {
    "lenName": 16,
    "lenType": 16,
    "lenVar": 40
   },
   "kernels_config": {
    "python": {
     "delete_cmd_postfix": "",
     "delete_cmd_prefix": "del ",
     "library": "var_list.py",
     "varRefreshCmd": "print(var_dic_list())"
    },
    "r": {
     "delete_cmd_postfix": ") ",
     "delete_cmd_prefix": "rm(",
     "library": "var_list.r",
     "varRefreshCmd": "cat(var_dic_list()) "
    }
   },
   "types_to_exclude": [
    "module",
    "function",
    "builtin_function_or_method",
    "instance",
    "_Feature"
   ],
   "window_display": false
  }
 },
 "nbformat": 4,
 "nbformat_minor": 4
}
