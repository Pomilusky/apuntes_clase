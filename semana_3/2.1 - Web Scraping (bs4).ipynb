{
 "cells": [
  {
   "cell_type": "markdown",
   "metadata": {},
   "source": [
    "# 2.1 - Web Scraping (bs4)\n",
    "\n",
    "$$$$\n",
    "\n",
    "![scraping](images/scraping.png)\n",
    "\n",
    "$$$$\n",
    "\n",
    "Web scraping o raspado web, es una técnica utilizada mediante programas de software para extraer información de sitios web. Usualmente, estos programas simulan la navegación de un humano en la web ya sea utilizando el protocolo HTTP manualmente, o incrustando un navegador en una aplicación.\n",
    "\n",
    "El web scraping está muy relacionado con la indexación de la web, la cual indexa la información de la web utilizando un robot y es una técnica universal adoptada por la mayoría de los motores de búsqueda. Sin embargo, el web scraping se enfoca más en la transformación de datos sin estructura en la web, como el formato HTML, en datos estructurados que pueden ser almacenados y analizados en una base de datos central, en una hoja de cálculo o en alguna otra fuente de almacenamiento. Alguno de los usos del web scraping son la comparación de precios en tiendas, la monitorización de datos relacionados con el clima de cierta región, la detección de cambios en sitios webs y la integración de datos en sitios webs. \n",
    "\n",
    "En los últimos años el web scraping se ha convertido en una técnica muy utilizada dentro del sector del posicionamiento web gracias a su capacidad de generar grandes cantidades de datos para crear contenidos de calidad.\n",
    "\n",
    "Podríamos pensar que el web scraping es nuestro último recurso a falta de una API o un feed RSS. A falta de una fuente de datos, siempre podemos extraer aquello que sale por pantalla."
   ]
  },
  {
   "cell_type": "markdown",
   "metadata": {},
   "source": [
    "### Extracción desde el HTML\n",
    "\n",
    "Para scrapear una página web, en primer lugar debemos conocer las estructura que tiene el HTML. Veamos la estructura básica.\n",
    "\n",
    "El HTML consiste en contenido `<etiquetado>`, es como si fueran cajas de contenido, organizado de manera jerárquica:\n",
    "\n",
    "```\n",
    "<html>\n",
    "    <head>\n",
    "        <title>Titulo de la pagina</title>\n",
    "    </head>\n",
    "    <body>\n",
    "        <h1>Cabecera</h1>\n",
    "        <p>Parrafo</p>\n",
    "    </body>\n",
    "</html>\n",
    "```\n",
    "\n",
    "$$$$\n",
    "\n",
    "Las etiquetas el HTML se pueden clasificar en varios grupos, dependiendo del tipo de contenido que posea. Estos son algunos ejemplos:\n",
    "\n",
    "+ cabecera: `<h1>`, `<h2>`, `<h3>`, `<hgroup>`...\n",
    "+ texto: `<b>`, `<p>`...\n",
    "+ embebido: `<audio>`, `<img>`, `<video>`...\n",
    "+ tabular: `<table>`, `<tr>`, `<td>`, `<tbody>`...\n",
    "+ secciones: `<header>`, `<section>`, `<article>`...\n",
    "+ metadata: `<meta>`, `<title>`, `<script>`...\n",
    "\n",
    "$$$$\n",
    "\n",
    "Las etiquetas pueden tener atributos. Por ejemplo:\n",
    " \n",
    "`<div class=\"text-monospace\" id=\"name_132\", href=\"www.example.com\"> Contenido de la pagina </div>` \n",
    "\n",
    "Esta etiqueta `div` tiene los siguientes atributos:\n",
    "\n",
    "+ class: atributo con valor \"text-monospace\". La clase no es única en la página.\n",
    "+ id: atributo con valor \"name_132\". El id de una etiqueta la identifica de manera unívoca.\n",
    "+ href: atributo con valor \"www.example.com\". El href suele contener el link a otra parte de la página.\n",
    "\n",
    "Siguiendo con la analogía de las cajas, si una etiqueta de HTML es una caja, los atributos serían las pegatinas pegadas en la tapa de la caja.\n",
    "\n",
    "Conociendo cual es el contenido que queremos extraer, debemos encontrar las etiquetas dentro del HTML de la página web."
   ]
  },
  {
   "cell_type": "markdown",
   "metadata": {},
   "source": [
    "Usaremos la herramienta **[BeautifulSoup](https://www.crummy.com/software/BeautifulSoup/bs4/doc/)**."
   ]
  },
  {
   "cell_type": "code",
   "execution_count": 1,
   "metadata": {},
   "outputs": [
    {
     "name": "stdout",
     "output_type": "stream",
     "text": [
      "Requirement already satisfied: beautifulsoup4 in /Users/iudh/opt/anaconda3/lib/python3.8/site-packages (4.9.3)\r\n",
      "Requirement already satisfied: soupsieve>1.2 in /Users/iudh/opt/anaconda3/lib/python3.8/site-packages (from beautifulsoup4) (2.2.1)\r\n"
     ]
    }
   ],
   "source": [
    "!pip install beautifulsoup4"
   ]
  },
  {
   "cell_type": "code",
   "execution_count": 2,
   "metadata": {},
   "outputs": [],
   "source": [
    "import requests as req\n",
    "\n",
    "from bs4 import BeautifulSoup as bs"
   ]
  },
  {
   "cell_type": "markdown",
   "metadata": {},
   "source": [
    "### Ejemplos Wikipedia\n",
    "\n",
    "**[Países europeos según esperanza de vida](https://en.wikipedia.org/wiki/List_of_European_countries_by_life_expectancy)**"
   ]
  },
  {
   "cell_type": "code",
   "execution_count": 3,
   "metadata": {},
   "outputs": [],
   "source": [
    "url='https://en.wikipedia.org/wiki/List_of_European_countries_by_life_expectancy'"
   ]
  },
  {
   "cell_type": "code",
   "execution_count": 4,
   "metadata": {},
   "outputs": [
    {
     "data": {
      "text/plain": [
       "b'<!DOCTYPE html>\\n<html class=\"client-nojs\" lang=\"en\" dir=\"ltr\">\\n<head>\\n<meta charset=\"UTF-8\"/>\\n<title>List of European countries by life expectancy - Wikipedia</title>\\n<script>document.documentElement.className=\"client-js\";RLCONF={\"wgBreakFrames\":false,\"wgSeparatorTransformTable\":[\"\",\"\"],\"wgDigitTransformTable\":[\"\",\"\"],\"wgDefaultDateFormat\":\"dmy\",\"wgMonthNames\":[\"\",\"January\",\"February\",\"March\",\"April\",\"May\",\"June\",\"July\",\"August\",\"September\",\"October\",\"November\",\"December\"],\"wgRequestId\":\"20c643d3-91d3-4cb5-bf3d-9dcf245d2934\",\"wgCSPNonce\":false,\"wgCanonicalNamespace\":\"\",\"wgCanonicalSpecialPageName\":false,\"wgNamespaceNumber\":0,\"wgPageName\":\"List_of_European_countries_by_life_expectancy\",\"wgTitle\":\"List of European countries by life expectancy\",\"wgCurRevisionId\":1049636953,\"wgRevisionId\":1049636953,\"wgArticleId\":22175559,\"wgIsArticle\":true,\"wgIsRedirect\":false,\"wgAction\":\"view\",\"wgUserName\":null,\"wgUserGroups\":[\"*\"],\"wgCategories\":[\"Articles with short description\",\"Short description is d'"
      ]
     },
     "execution_count": 4,
     "metadata": {},
     "output_type": "execute_result"
    }
   ],
   "source": [
    "# usamos el requests para extraer el html string\n",
    "\n",
    "html=req.get(url).content\n",
    "\n",
    "html[:1000]"
   ]
  },
  {
   "cell_type": "code",
   "execution_count": 6,
   "metadata": {
    "scrolled": false
   },
   "outputs": [
    {
     "data": {
      "text/plain": [
       "bs4.BeautifulSoup"
      ]
     },
     "execution_count": 6,
     "metadata": {},
     "output_type": "execute_result"
    }
   ],
   "source": [
    "# bs4 para manejar el html\n",
    "\n",
    "soup=bs(html, 'html.parser')\n",
    "\n",
    "type(soup)"
   ]
  },
  {
   "cell_type": "code",
   "execution_count": 8,
   "metadata": {},
   "outputs": [
    {
     "data": {
      "text/plain": [
       "bs4.element.Tag"
      ]
     },
     "execution_count": 8,
     "metadata": {},
     "output_type": "execute_result"
    }
   ],
   "source": [
    "# tabla\n",
    "\n",
    "tabla=soup.find('table')\n",
    "\n",
    "type(tabla)"
   ]
  },
  {
   "cell_type": "code",
   "execution_count": 17,
   "metadata": {},
   "outputs": [
    {
     "data": {
      "text/plain": [
       "[['Rank',\n",
       "  '',\n",
       "  'Country',\n",
       "  'Life expectancy[1]',\n",
       "  '',\n",
       "  'Influenza vaccination rate, people aged 65 and over, 2016 (%)[2]'],\n",
       " ['1', '', '\\xa0Monaco[3]', '', '89.4'],\n",
       " ['2', '', '\\xa0San Marino[4]', '', '83.4'],\n",
       " ['3', '', '\\xa0\\xa0Switzerland', '83.0'],\n",
       " ['4', '', '\\xa0Spain', '82.8', '', '56%']]"
      ]
     },
     "execution_count": 17,
     "metadata": {},
     "output_type": "execute_result"
    }
   ],
   "source": [
    "# extraer las filas\n",
    "\n",
    "filas=tabla.find_all('tr')\n",
    "\n",
    "filas=[f.text.strip().split('\\n') for f in filas]\n",
    "\n",
    "filas[:5]"
   ]
  },
  {
   "cell_type": "code",
   "execution_count": 18,
   "metadata": {},
   "outputs": [
    {
     "data": {
      "text/plain": [
       "[['Rank',\n",
       "  'Country',\n",
       "  'Life expectancy[1]',\n",
       "  'Influenza vaccination rate, people aged 65 and over, 2016 (%)[2]'],\n",
       " ['1', '\\xa0Monaco[3]', '89.4'],\n",
       " ['2', '\\xa0San Marino[4]', '83.4'],\n",
       " ['3', '\\xa0\\xa0Switzerland', '83.0'],\n",
       " ['4', '\\xa0Spain', '82.8', '56%']]"
      ]
     },
     "execution_count": 18,
     "metadata": {},
     "output_type": "execute_result"
    }
   ],
   "source": [
    "# minima limpieza\n",
    "\n",
    "final=[]\n",
    "\n",
    "\n",
    "for e in filas:\n",
    "    tmp=[]\n",
    "\n",
    "    for st in e:\n",
    "        if st!='':\n",
    "            tmp.append(st)\n",
    "    final.append(tmp)\n",
    "    \n",
    "final[:5]"
   ]
  },
  {
   "cell_type": "code",
   "execution_count": 19,
   "metadata": {
    "scrolled": true
   },
   "outputs": [
    {
     "data": {
      "text/html": [
       "<div>\n",
       "<style scoped>\n",
       "    .dataframe tbody tr th:only-of-type {\n",
       "        vertical-align: middle;\n",
       "    }\n",
       "\n",
       "    .dataframe tbody tr th {\n",
       "        vertical-align: top;\n",
       "    }\n",
       "\n",
       "    .dataframe thead th {\n",
       "        text-align: right;\n",
       "    }\n",
       "</style>\n",
       "<table border=\"1\" class=\"dataframe\">\n",
       "  <thead>\n",
       "    <tr style=\"text-align: right;\">\n",
       "      <th></th>\n",
       "      <th>Rank</th>\n",
       "      <th>Country</th>\n",
       "      <th>Life expectancy[1]</th>\n",
       "      <th>Influenza vaccination rate, people aged 65 and over, 2016 (%)[2]</th>\n",
       "    </tr>\n",
       "  </thead>\n",
       "  <tbody>\n",
       "    <tr>\n",
       "      <th>0</th>\n",
       "      <td>1</td>\n",
       "      <td>Monaco[3]</td>\n",
       "      <td>89.4</td>\n",
       "      <td>None</td>\n",
       "    </tr>\n",
       "    <tr>\n",
       "      <th>1</th>\n",
       "      <td>2</td>\n",
       "      <td>San Marino[4]</td>\n",
       "      <td>83.4</td>\n",
       "      <td>None</td>\n",
       "    </tr>\n",
       "    <tr>\n",
       "      <th>2</th>\n",
       "      <td>3</td>\n",
       "      <td>Switzerland</td>\n",
       "      <td>83.0</td>\n",
       "      <td>None</td>\n",
       "    </tr>\n",
       "    <tr>\n",
       "      <th>3</th>\n",
       "      <td>4</td>\n",
       "      <td>Spain</td>\n",
       "      <td>82.8</td>\n",
       "      <td>56%</td>\n",
       "    </tr>\n",
       "    <tr>\n",
       "      <th>4</th>\n",
       "      <td>5</td>\n",
       "      <td>Liechtenstein</td>\n",
       "      <td>82.7</td>\n",
       "      <td>28%</td>\n",
       "    </tr>\n",
       "    <tr>\n",
       "      <th>5</th>\n",
       "      <td>6</td>\n",
       "      <td>Italy</td>\n",
       "      <td>82.7</td>\n",
       "      <td>50%</td>\n",
       "    </tr>\n",
       "    <tr>\n",
       "      <th>6</th>\n",
       "      <td>7</td>\n",
       "      <td>Norway</td>\n",
       "      <td>82.5</td>\n",
       "      <td>38%</td>\n",
       "    </tr>\n",
       "    <tr>\n",
       "      <th>7</th>\n",
       "      <td>8</td>\n",
       "      <td>Iceland</td>\n",
       "      <td>82.5</td>\n",
       "      <td>47%</td>\n",
       "    </tr>\n",
       "    <tr>\n",
       "      <th>8</th>\n",
       "      <td>9</td>\n",
       "      <td>Luxembourg</td>\n",
       "      <td>82.3</td>\n",
       "      <td>38%</td>\n",
       "    </tr>\n",
       "    <tr>\n",
       "      <th>9</th>\n",
       "      <td>10</td>\n",
       "      <td>France</td>\n",
       "      <td>82.3</td>\n",
       "      <td>50%</td>\n",
       "    </tr>\n",
       "  </tbody>\n",
       "</table>\n",
       "</div>"
      ],
      "text/plain": [
       "  Rank         Country Life expectancy[1]  \\\n",
       "0    1       Monaco[3]               89.4   \n",
       "1    2   San Marino[4]               83.4   \n",
       "2    3     Switzerland               83.0   \n",
       "3    4           Spain               82.8   \n",
       "4    5   Liechtenstein               82.7   \n",
       "5    6           Italy               82.7   \n",
       "6    7          Norway               82.5   \n",
       "7    8         Iceland               82.5   \n",
       "8    9      Luxembourg               82.3   \n",
       "9   10          France               82.3   \n",
       "\n",
       "  Influenza vaccination rate, people aged 65 and over, 2016 (%)[2]  \n",
       "0                                               None                \n",
       "1                                               None                \n",
       "2                                               None                \n",
       "3                                                56%                \n",
       "4                                                28%                \n",
       "5                                                50%                \n",
       "6                                                38%                \n",
       "7                                                47%                \n",
       "8                                                38%                \n",
       "9                                                50%                "
      ]
     },
     "execution_count": 19,
     "metadata": {},
     "output_type": "execute_result"
    }
   ],
   "source": [
    "# dataframe\n",
    "\n",
    "import pandas as pd\n",
    "\n",
    "col_names=final[0]\n",
    "\n",
    "data=final[1:]\n",
    "\n",
    "df=pd.DataFrame(data, columns=col_names)\n",
    "\n",
    "df.head(10)"
   ]
  },
  {
   "cell_type": "markdown",
   "metadata": {},
   "source": [
    "### Ejemplo geolocalización por IP\n",
    "\n",
    "https://tools.keycdn.com/geo"
   ]
  },
  {
   "cell_type": "markdown",
   "metadata": {},
   "source": [
    "**¿Dónde estoy?**"
   ]
  },
  {
   "cell_type": "code",
   "execution_count": 20,
   "metadata": {},
   "outputs": [],
   "source": [
    "url='https://tools.keycdn.com/geo'"
   ]
  },
  {
   "cell_type": "code",
   "execution_count": 21,
   "metadata": {},
   "outputs": [],
   "source": [
    "html=req.get(url).content\n",
    "\n",
    "soup=bs(html, 'html.parser')"
   ]
  },
  {
   "cell_type": "code",
   "execution_count": 24,
   "metadata": {},
   "outputs": [
    {
     "data": {
      "text/plain": [
       "<div class=\"mt-4\" id=\"geoResult\">\n",
       "<div class=\"bg-light medium rounded p-3\">\n",
       "<p class=\"small text-uppercase text-muted font-weight-semi-bold line-height-headings mb-2\">Location</p> <dl class=\"row mb-0\">\n",
       "<dt class=\"col-4\">City</dt><dd class=\"col-8 text-monospace\">Madrid</dd><dt class=\"col-4\">Region</dt><dd class=\"col-8 text-monospace\">Madrid (M)</dd><dt class=\"col-4\">Postal code</dt><dd class=\"col-8 text-monospace\">28050</dd><dt class=\"col-4\">Country</dt><dd class=\"col-8 text-monospace\">Spain (ES)</dd><dt class=\"col-4\">Continent</dt><dd class=\"col-8 text-monospace\">Europe (EU)</dd><dt class=\"col-4\">Coordinates</dt><dd class=\"col-8 text-monospace\">40.4163 (lat) / -3.6934 (long)</dd><dt class=\"col-4\">Time</dt><dd class=\"col-8 text-monospace\">2022-01-28 10:25:25 (Europe/Madrid)</dd> </dl>\n",
       "<p class=\"small text-uppercase text-muted font-weight-semi-bold line-height-headings mt-4 mb-2\">Network</p>\n",
       "<dl class=\"row mb-0\">\n",
       "<dt class=\"col-4\">IP address</dt><dd class=\"col-8 text-monospace\">2.136.116.82</dd><dt class=\"col-4\">Hostname</dt><dd class=\"col-8 text-monospace\">82.red-2-136-116.staticip.rima-tde.net</dd><dt class=\"col-4\">Provider</dt><dd class=\"col-8 text-monospace\">Telefonica De Espana</dd><dt class=\"col-4\">ASN</dt><dd class=\"col-8 text-monospace\">3352</dd> </dl>\n",
       "</div>\n",
       "<div class=\"mapael mt-4\" id=\"geoMap\">\n",
       "<div class=\"map position-relative\"></div>\n",
       "</div>\n",
       "</div>"
      ]
     },
     "execution_count": 24,
     "metadata": {},
     "output_type": "execute_result"
    }
   ],
   "source": [
    "soup.find('div', {'id': 'geoResult'})"
   ]
  },
  {
   "cell_type": "code",
   "execution_count": 27,
   "metadata": {},
   "outputs": [
    {
     "data": {
      "text/plain": [
       "[<dd class=\"col-8 text-monospace\">Madrid</dd>,\n",
       " <dd class=\"col-8 text-monospace\">Madrid (M)</dd>,\n",
       " <dd class=\"col-8 text-monospace\">28050</dd>,\n",
       " <dd class=\"col-8 text-monospace\">Spain (ES)</dd>,\n",
       " <dd class=\"col-8 text-monospace\">Europe (EU)</dd>,\n",
       " <dd class=\"col-8 text-monospace\">40.4163 (lat) / -3.6934 (long)</dd>,\n",
       " <dd class=\"col-8 text-monospace\">2022-01-28 10:25:25 (Europe/Madrid)</dd>,\n",
       " <dd class=\"col-8 text-monospace\">2.136.116.82</dd>,\n",
       " <dd class=\"col-8 text-monospace\">82.red-2-136-116.staticip.rima-tde.net</dd>,\n",
       " <dd class=\"col-8 text-monospace\">Telefonica De Espana</dd>,\n",
       " <dd class=\"col-8 text-monospace\">3352</dd>]"
      ]
     },
     "execution_count": 27,
     "metadata": {},
     "output_type": "execute_result"
    }
   ],
   "source": [
    "tabla=soup.find('div', {'id': 'geoResult'})\n",
    "\n",
    "tabla.find_all('dd', {'class': 'col-8 text-monospace'})"
   ]
  },
  {
   "cell_type": "code",
   "execution_count": 28,
   "metadata": {},
   "outputs": [
    {
     "data": {
      "text/plain": [
       "['Madrid',\n",
       " 'Madrid (M)',\n",
       " '28050',\n",
       " 'Spain (ES)',\n",
       " 'Europe (EU)',\n",
       " '40.4163 (lat) / -3.6934 (long)',\n",
       " '2022-01-28 10:25:25 (Europe/Madrid)',\n",
       " '2.136.116.82',\n",
       " '82.red-2-136-116.staticip.rima-tde.net',\n",
       " 'Telefonica De Espana',\n",
       " '3352']"
      ]
     },
     "execution_count": 28,
     "metadata": {},
     "output_type": "execute_result"
    }
   ],
   "source": [
    "conexion=[e.text for e in tabla.find_all('dd', {'class': 'col-8 text-monospace'})]\n",
    "\n",
    "conexion"
   ]
  },
  {
   "cell_type": "code",
   "execution_count": 29,
   "metadata": {},
   "outputs": [
    {
     "data": {
      "text/plain": [
       "[<dt class=\"col-4\">City</dt>,\n",
       " <dt class=\"col-4\">Region</dt>,\n",
       " <dt class=\"col-4\">Postal code</dt>,\n",
       " <dt class=\"col-4\">Country</dt>,\n",
       " <dt class=\"col-4\">Continent</dt>,\n",
       " <dt class=\"col-4\">Coordinates</dt>,\n",
       " <dt class=\"col-4\">Time</dt>,\n",
       " <dt class=\"col-4\">IP address</dt>,\n",
       " <dt class=\"col-4\">Hostname</dt>,\n",
       " <dt class=\"col-4\">Provider</dt>,\n",
       " <dt class=\"col-4\">ASN</dt>]"
      ]
     },
     "execution_count": 29,
     "metadata": {},
     "output_type": "execute_result"
    }
   ],
   "source": [
    "tabla.find_all('dt')"
   ]
  },
  {
   "cell_type": "markdown",
   "metadata": {},
   "source": [
    "**Búsqueda según IP**\n",
    "\n",
    "https://tools.keycdn.com/geo?host=137.255.90.7"
   ]
  },
  {
   "cell_type": "code",
   "execution_count": 30,
   "metadata": {},
   "outputs": [],
   "source": [
    "url='https://tools.keycdn.com/geo?host=137.255.90.7'\n",
    "\n",
    "html=req.get(url).content\n",
    "\n",
    "soup=bs(html, 'html.parser')"
   ]
  },
  {
   "cell_type": "code",
   "execution_count": 31,
   "metadata": {},
   "outputs": [
    {
     "data": {
      "text/plain": [
       "[<dd class=\"col-8 text-monospace\">Benin (BJ)</dd>,\n",
       " <dd class=\"col-8 text-monospace\">Africa (AF)</dd>,\n",
       " <dd class=\"col-8 text-monospace\">9.5 (lat) / 2.25 (long)</dd>,\n",
       " <dd class=\"col-8 text-monospace\">2022-01-28 10:31:17 (Africa/Porto-Novo)</dd>,\n",
       " <dd class=\"col-8 text-monospace\">137.255.90.7</dd>,\n",
       " <dd class=\"col-8 text-monospace\">137.255.90.7</dd>]"
      ]
     },
     "execution_count": 31,
     "metadata": {},
     "output_type": "execute_result"
    }
   ],
   "source": [
    "tabla=soup.find('div', {'id': 'geoResult'})\n",
    "\n",
    "tabla.find_all('dd', {'class': 'col-8 text-monospace'})"
   ]
  },
  {
   "cell_type": "code",
   "execution_count": 32,
   "metadata": {},
   "outputs": [
    {
     "data": {
      "text/plain": [
       "[<dt class=\"col-4\">Country</dt>,\n",
       " <dt class=\"col-4\">Continent</dt>,\n",
       " <dt class=\"col-4\">Coordinates</dt>,\n",
       " <dt class=\"col-4\">Time</dt>,\n",
       " <dt class=\"col-4\">IP address</dt>,\n",
       " <dt class=\"col-4\">Hostname</dt>]"
      ]
     },
     "execution_count": 32,
     "metadata": {},
     "output_type": "execute_result"
    }
   ],
   "source": [
    "tabla.find_all('dt')"
   ]
  },
  {
   "cell_type": "code",
   "execution_count": 34,
   "metadata": {},
   "outputs": [
    {
     "data": {
      "text/plain": [
       "'12.54'"
      ]
     },
     "execution_count": 34,
     "metadata": {},
     "output_type": "execute_result"
    }
   ],
   "source": [
    "'{:2.2f}'.format(12.5436363636363)  # formato en strings de numeros"
   ]
  },
  {
   "cell_type": "code",
   "execution_count": 33,
   "metadata": {},
   "outputs": [],
   "source": [
    "list_ip=['137.255.90.7', '255.255.90.7', '177.255.21.7']"
   ]
  },
  {
   "cell_type": "code",
   "execution_count": 35,
   "metadata": {},
   "outputs": [],
   "source": [
    "def geo(ip):\n",
    "    \n",
    "    url=f'https://tools.keycdn.com/geo?host={ip}'\n",
    "    \n",
    "    html=req.get(url).content\n",
    "\n",
    "    soup=bs(html, 'html.parser')\n",
    "    \n",
    "    tabla=soup.find('div', {'id': 'geoResult'})\n",
    "    \n",
    "    conexion=[e.text for e in tabla.find_all('dd', {'class': 'col-8 text-monospace'})]\n",
    "\n",
    "    return conexion"
   ]
  },
  {
   "cell_type": "code",
   "execution_count": 37,
   "metadata": {},
   "outputs": [
    {
     "name": "stdout",
     "output_type": "stream",
     "text": [
      "['Benin (BJ)', 'Africa (AF)', '9.5 (lat) / 2.25 (long)', '2022-01-28 10:35:53 (Africa/Porto-Novo)', '137.255.90.7', '137.255.90.7']\n",
      "['255.255.90.7', '255.255.90.7']\n",
      "['Cartagena', 'Departamento de Bolivar (BOL)', '130001', 'Colombia (CO)', 'South America (SA)', '10.4013 (lat) / -75.5267 (long)', '2022-01-28 04:35:53 (America/Bogota)', '177.255.21.7', 'Dinamic-Tigo-177-255-21-7.tigo.com.co', 'Colombia Movil', '27831']\n"
     ]
    }
   ],
   "source": [
    "for ip in list_ip:\n",
    "    print(geo(ip))"
   ]
  },
  {
   "cell_type": "markdown",
   "metadata": {},
   "source": [
    "### Ejemplo LinkedIn"
   ]
  },
  {
   "cell_type": "code",
   "execution_count": 92,
   "metadata": {},
   "outputs": [],
   "source": [
    "import pandas as pd\n",
    "\n",
    "\n",
    "def linkedin(num_pages, keywords, country, n_secs, exp):\n",
    "    \n",
    "    URL='https://www.linkedin.com/jobs/search/'\n",
    "\n",
    "    data=[]\n",
    "\n",
    "    for i in range(num_pages):\n",
    "\n",
    "        scrape_url=''.join([\n",
    "            URL,  # url base\n",
    "            f'?keywords={keywords}',   # palabras clave de busqueda\n",
    "            f'&location={country}',   # pais lugar\n",
    "            f'&f_TPR={n_secs}',        # segundos atras\n",
    "            f'&F_E={exp}',            # experiencia\n",
    "            f'&start={i*25}'           # numero de paginas (i)\n",
    "        ])\n",
    "\n",
    "\n",
    "        html=req.get(scrape_url).content  # el html de la pagina\n",
    "\n",
    "        soup=bs(html, 'html.parser')       # la sopa parseada\n",
    "\n",
    "        for oferta in soup.find_all('div', \n",
    "                               class_=\"base-card base-card--link base-search-card base-search-card--link job-search-card\"):\n",
    "            # bucle para las ofertas\n",
    "            titulo=oferta.find('span', class_=\"screen-reader-text\").text.strip()   # titulo de la oferta\n",
    "\n",
    "            nombre=oferta.find('a', class_=\"hidden-nested-link\").text.strip()   # nombre de la compañia\n",
    "\n",
    "            link_comp=oferta.find('a', class_=\"hidden-nested-link\").attrs['href']  # link de la compañia\n",
    "\n",
    "            lugar=oferta.find('span', class_=\"job-search-card__location\").text.strip()  # lugar\n",
    "\n",
    "            link_ofer=oferta.find('a', class_=\"base-card__full-link\").attrs['href']   # link de la oferta\n",
    "\n",
    "            fecha=oferta.find('time').attrs['datetime']       # fecha de publicacion\n",
    "\n",
    "            data.append({\n",
    "                'title': titulo,\n",
    "                'name': nombre,\n",
    "                'link de la compañia': link_comp,\n",
    "                'location': lugar,\n",
    "                'link de la oferta': link_ofer,\n",
    "                'datetime': fecha\n",
    "            })\n",
    "            \n",
    "    return pd.DataFrame(data)\n"
   ]
  },
  {
   "cell_type": "code",
   "execution_count": 93,
   "metadata": {},
   "outputs": [
    {
     "data": {
      "text/html": [
       "<div>\n",
       "<style scoped>\n",
       "    .dataframe tbody tr th:only-of-type {\n",
       "        vertical-align: middle;\n",
       "    }\n",
       "\n",
       "    .dataframe tbody tr th {\n",
       "        vertical-align: top;\n",
       "    }\n",
       "\n",
       "    .dataframe thead th {\n",
       "        text-align: right;\n",
       "    }\n",
       "</style>\n",
       "<table border=\"1\" class=\"dataframe\">\n",
       "  <thead>\n",
       "    <tr style=\"text-align: right;\">\n",
       "      <th></th>\n",
       "      <th>title</th>\n",
       "      <th>name</th>\n",
       "      <th>link de la compañia</th>\n",
       "      <th>location</th>\n",
       "      <th>link de la oferta</th>\n",
       "      <th>datetime</th>\n",
       "    </tr>\n",
       "  </thead>\n",
       "  <tbody>\n",
       "    <tr>\n",
       "      <th>0</th>\n",
       "      <td>Analistas de Datos</td>\n",
       "      <td>Auchan Retail</td>\n",
       "      <td>https://fr.linkedin.com/company/auchan?trk=pub...</td>\n",
       "      <td>Madrid, Community of Madrid, Spain</td>\n",
       "      <td>https://es.linkedin.com/jobs/view/analistas-de...</td>\n",
       "      <td>2022-01-27</td>\n",
       "    </tr>\n",
       "    <tr>\n",
       "      <th>1</th>\n",
       "      <td>Data Scientist</td>\n",
       "      <td>Aplazame</td>\n",
       "      <td>https://es.linkedin.com/company/aplazame?trk=p...</td>\n",
       "      <td>Madrid, Community of Madrid, Spain</td>\n",
       "      <td>https://es.linkedin.com/jobs/view/data-scienti...</td>\n",
       "      <td>2022-01-27</td>\n",
       "    </tr>\n",
       "    <tr>\n",
       "      <th>2</th>\n",
       "      <td>Data Scientist (h/m)</td>\n",
       "      <td>Generali</td>\n",
       "      <td>https://it.linkedin.com/company/generali?trk=p...</td>\n",
       "      <td>Madrid, Community of Madrid, Spain</td>\n",
       "      <td>https://es.linkedin.com/jobs/view/data-scienti...</td>\n",
       "      <td>2022-01-27</td>\n",
       "    </tr>\n",
       "    <tr>\n",
       "      <th>3</th>\n",
       "      <td>Data Analyst</td>\n",
       "      <td>ODILO</td>\n",
       "      <td>https://es.linkedin.com/company/odilotid?trk=p...</td>\n",
       "      <td>Madrid, Community of Madrid, Spain</td>\n",
       "      <td>https://es.linkedin.com/jobs/view/data-analyst...</td>\n",
       "      <td>2022-01-27</td>\n",
       "    </tr>\n",
       "    <tr>\n",
       "      <th>4</th>\n",
       "      <td>Financial Data Analyst &amp; IT Systems</td>\n",
       "      <td>Mercedes-Benz Financial Services España</td>\n",
       "      <td>https://es.linkedin.com/company/mercedes-benz-...</td>\n",
       "      <td>Madrid, Community of Madrid, Spain</td>\n",
       "      <td>https://es.linkedin.com/jobs/view/financial-da...</td>\n",
       "      <td>2022-01-25</td>\n",
       "    </tr>\n",
       "    <tr>\n",
       "      <th>...</th>\n",
       "      <td>...</td>\n",
       "      <td>...</td>\n",
       "      <td>...</td>\n",
       "      <td>...</td>\n",
       "      <td>...</td>\n",
       "      <td>...</td>\n",
       "    </tr>\n",
       "    <tr>\n",
       "      <th>70</th>\n",
       "      <td>Técnico/a Data&amp;Analytics (Sanitas Mayores)</td>\n",
       "      <td>Sanitas</td>\n",
       "      <td>https://es.linkedin.com/company/sanitas?trk=pu...</td>\n",
       "      <td>Madrid, Community of Madrid, Spain</td>\n",
       "      <td>https://es.linkedin.com/jobs/view/t%C3%A9cnico...</td>\n",
       "      <td>2022-01-27</td>\n",
       "    </tr>\n",
       "    <tr>\n",
       "      <th>71</th>\n",
       "      <td>Data Scientist (I&amp;D)</td>\n",
       "      <td>Capgemini</td>\n",
       "      <td>https://fr.linkedin.com/company/capgemini?trk=...</td>\n",
       "      <td>Madrid, Community of Madrid, Spain</td>\n",
       "      <td>https://es.linkedin.com/jobs/view/data-scienti...</td>\n",
       "      <td>2022-01-21</td>\n",
       "    </tr>\n",
       "    <tr>\n",
       "      <th>72</th>\n",
       "      <td>Junior Analyst w/English</td>\n",
       "      <td>Constella Intelligence</td>\n",
       "      <td>https://www.linkedin.com/company/constella?trk...</td>\n",
       "      <td>Madrid, Community of Madrid, Spain</td>\n",
       "      <td>https://es.linkedin.com/jobs/view/junior-analy...</td>\n",
       "      <td>2022-01-27</td>\n",
       "    </tr>\n",
       "    <tr>\n",
       "      <th>73</th>\n",
       "      <td>Business Analyst</td>\n",
       "      <td>Kappa Sport Iberia</td>\n",
       "      <td>https://www.linkedin.com/company/kappa-sport-i...</td>\n",
       "      <td>Pozuelo de Alarcón, Community of Madrid, Spain</td>\n",
       "      <td>https://es.linkedin.com/jobs/view/business-ana...</td>\n",
       "      <td>2022-01-25</td>\n",
       "    </tr>\n",
       "    <tr>\n",
       "      <th>74</th>\n",
       "      <td>Data Scientist</td>\n",
       "      <td>idealista</td>\n",
       "      <td>https://es.linkedin.com/company/idealista-com?...</td>\n",
       "      <td>Madrid, Community of Madrid, Spain</td>\n",
       "      <td>https://es.linkedin.com/jobs/view/data-scienti...</td>\n",
       "      <td>2022-01-24</td>\n",
       "    </tr>\n",
       "  </tbody>\n",
       "</table>\n",
       "<p>75 rows × 6 columns</p>\n",
       "</div>"
      ],
      "text/plain": [
       "                                         title  \\\n",
       "0                           Analistas de Datos   \n",
       "1                               Data Scientist   \n",
       "2                         Data Scientist (h/m)   \n",
       "3                                 Data Analyst   \n",
       "4          Financial Data Analyst & IT Systems   \n",
       "..                                         ...   \n",
       "70  Técnico/a Data&Analytics (Sanitas Mayores)   \n",
       "71                        Data Scientist (I&D)   \n",
       "72                    Junior Analyst w/English   \n",
       "73                            Business Analyst   \n",
       "74                              Data Scientist   \n",
       "\n",
       "                                       name  \\\n",
       "0                             Auchan Retail   \n",
       "1                                  Aplazame   \n",
       "2                                  Generali   \n",
       "3                                     ODILO   \n",
       "4   Mercedes-Benz Financial Services España   \n",
       "..                                      ...   \n",
       "70                                  Sanitas   \n",
       "71                                Capgemini   \n",
       "72                   Constella Intelligence   \n",
       "73                       Kappa Sport Iberia   \n",
       "74                                idealista   \n",
       "\n",
       "                                  link de la compañia  \\\n",
       "0   https://fr.linkedin.com/company/auchan?trk=pub...   \n",
       "1   https://es.linkedin.com/company/aplazame?trk=p...   \n",
       "2   https://it.linkedin.com/company/generali?trk=p...   \n",
       "3   https://es.linkedin.com/company/odilotid?trk=p...   \n",
       "4   https://es.linkedin.com/company/mercedes-benz-...   \n",
       "..                                                ...   \n",
       "70  https://es.linkedin.com/company/sanitas?trk=pu...   \n",
       "71  https://fr.linkedin.com/company/capgemini?trk=...   \n",
       "72  https://www.linkedin.com/company/constella?trk...   \n",
       "73  https://www.linkedin.com/company/kappa-sport-i...   \n",
       "74  https://es.linkedin.com/company/idealista-com?...   \n",
       "\n",
       "                                          location  \\\n",
       "0               Madrid, Community of Madrid, Spain   \n",
       "1               Madrid, Community of Madrid, Spain   \n",
       "2               Madrid, Community of Madrid, Spain   \n",
       "3               Madrid, Community of Madrid, Spain   \n",
       "4               Madrid, Community of Madrid, Spain   \n",
       "..                                             ...   \n",
       "70              Madrid, Community of Madrid, Spain   \n",
       "71              Madrid, Community of Madrid, Spain   \n",
       "72              Madrid, Community of Madrid, Spain   \n",
       "73  Pozuelo de Alarcón, Community of Madrid, Spain   \n",
       "74              Madrid, Community of Madrid, Spain   \n",
       "\n",
       "                                    link de la oferta    datetime  \n",
       "0   https://es.linkedin.com/jobs/view/analistas-de...  2022-01-27  \n",
       "1   https://es.linkedin.com/jobs/view/data-scienti...  2022-01-27  \n",
       "2   https://es.linkedin.com/jobs/view/data-scienti...  2022-01-27  \n",
       "3   https://es.linkedin.com/jobs/view/data-analyst...  2022-01-27  \n",
       "4   https://es.linkedin.com/jobs/view/financial-da...  2022-01-25  \n",
       "..                                                ...         ...  \n",
       "70  https://es.linkedin.com/jobs/view/t%C3%A9cnico...  2022-01-27  \n",
       "71  https://es.linkedin.com/jobs/view/data-scienti...  2022-01-21  \n",
       "72  https://es.linkedin.com/jobs/view/junior-analy...  2022-01-27  \n",
       "73  https://es.linkedin.com/jobs/view/business-ana...  2022-01-25  \n",
       "74  https://es.linkedin.com/jobs/view/data-scienti...  2022-01-24  \n",
       "\n",
       "[75 rows x 6 columns]"
      ]
     },
     "execution_count": 93,
     "metadata": {},
     "output_type": "execute_result"
    }
   ],
   "source": [
    "linkedin(3, 'data', 'Madrid', 300000, 2)"
   ]
  },
  {
   "cell_type": "code",
   "execution_count": null,
   "metadata": {},
   "outputs": [],
   "source": []
  },
  {
   "cell_type": "code",
   "execution_count": null,
   "metadata": {},
   "outputs": [],
   "source": []
  },
  {
   "cell_type": "code",
   "execution_count": 103,
   "metadata": {},
   "outputs": [
    {
     "data": {
      "text/plain": [
       "1009"
      ]
     },
     "execution_count": 103,
     "metadata": {},
     "output_type": "execute_result"
    }
   ],
   "source": [
    "# repaso funciones\n",
    "\n",
    "def suma(*args):\n",
    "    return sum(args)\n",
    "\n",
    "suma(2, 2, 3, 45, 67, 890)"
   ]
  },
  {
   "cell_type": "code",
   "execution_count": 105,
   "metadata": {},
   "outputs": [],
   "source": [
    "def saludar(nombre, lang='es', colega=True):\n",
    "    s=''\n",
    "    \n",
    "    if colega:\n",
    "        s='colega!!!'\n",
    "        \n",
    "    if lang=='es':\n",
    "        print('Hola {} {}'.format(nombre, s))\n",
    "        \n",
    "    else:\n",
    "        print('Hello {} buddy!!!'.format(nombre))"
   ]
  },
  {
   "cell_type": "code",
   "execution_count": 104,
   "metadata": {},
   "outputs": [],
   "source": [
    "def saludar_multiple(*lst, lang='es', colega=True):\n",
    "    for e in lst:\n",
    "        saludar(e, lang, colega)"
   ]
  },
  {
   "cell_type": "code",
   "execution_count": 106,
   "metadata": {},
   "outputs": [
    {
     "name": "stdout",
     "output_type": "stream",
     "text": [
      "Hola Pepe colega!!!\n"
     ]
    }
   ],
   "source": [
    "saludar('Pepe')"
   ]
  },
  {
   "cell_type": "code",
   "execution_count": 107,
   "metadata": {},
   "outputs": [
    {
     "name": "stdout",
     "output_type": "stream",
     "text": [
      "Hola ['Pepe', 'en'] colega!!!\n"
     ]
    }
   ],
   "source": [
    "saludar(['Pepe', 'en'])"
   ]
  },
  {
   "cell_type": "code",
   "execution_count": 108,
   "metadata": {},
   "outputs": [
    {
     "name": "stdout",
     "output_type": "stream",
     "text": [
      "Hello Pepe buddy!!!\n"
     ]
    }
   ],
   "source": [
    "saludar(*['Pepe', 'en'])"
   ]
  },
  {
   "cell_type": "code",
   "execution_count": 109,
   "metadata": {},
   "outputs": [
    {
     "name": "stdout",
     "output_type": "stream",
     "text": [
      "Hello Ana buddy!!!\n",
      "Hello Pepe buddy!!!\n",
      "Hello Juan buddy!!!\n",
      "Hello Maria buddy!!!\n"
     ]
    }
   ],
   "source": [
    "saludar_multiple('Ana', 'Pepe', 'Juan', 'Maria', lang='en')"
   ]
  },
  {
   "cell_type": "code",
   "execution_count": 118,
   "metadata": {},
   "outputs": [],
   "source": [
    "nombres=['Ana', 'Pepe', 'Juan', 'Maria']\n",
    "\n",
    "config={'lang': 'es', 'colega': True}"
   ]
  },
  {
   "cell_type": "code",
   "execution_count": 119,
   "metadata": {},
   "outputs": [
    {
     "name": "stdout",
     "output_type": "stream",
     "text": [
      "Hola Ana colega!!!\n",
      "Hola Pepe colega!!!\n",
      "Hola Juan colega!!!\n",
      "Hola Maria colega!!!\n"
     ]
    }
   ],
   "source": [
    "saludar_multiple(*nombres, **config)"
   ]
  },
  {
   "cell_type": "code",
   "execution_count": null,
   "metadata": {},
   "outputs": [],
   "source": [
    "def function (*args, **kwargs):\n",
    "    return "
   ]
  }
 ],
 "metadata": {
  "kernelspec": {
   "display_name": "clase",
   "language": "python",
   "name": "clase"
  },
  "language_info": {
   "codemirror_mode": {
    "name": "ipython",
    "version": 3
   },
   "file_extension": ".py",
   "mimetype": "text/x-python",
   "name": "python",
   "nbconvert_exporter": "python",
   "pygments_lexer": "ipython3",
   "version": "3.8.8"
  },
  "varInspector": {
   "cols": {
    "lenName": 16,
    "lenType": 16,
    "lenVar": 40
   },
   "kernels_config": {
    "python": {
     "delete_cmd_postfix": "",
     "delete_cmd_prefix": "del ",
     "library": "var_list.py",
     "varRefreshCmd": "print(var_dic_list())"
    },
    "r": {
     "delete_cmd_postfix": ") ",
     "delete_cmd_prefix": "rm(",
     "library": "var_list.r",
     "varRefreshCmd": "cat(var_dic_list()) "
    }
   },
   "types_to_exclude": [
    "module",
    "function",
    "builtin_function_or_method",
    "instance",
    "_Feature"
   ],
   "window_display": false
  }
 },
 "nbformat": 4,
 "nbformat_minor": 4
}
