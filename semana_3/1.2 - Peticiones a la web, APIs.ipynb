{
 "cells": [
  {
   "cell_type": "markdown",
   "metadata": {},
   "source": [
    "# 1.2 - Peticiones a la web, APIs\n",
    "\n",
    "$$$$\n",
    "\n",
    "![api_request](images/api_request.svg)\n",
    "\n",
    "$$$$\n",
    "\n",
    "Una api interfaz de programación de aplicaciones, es un código que permite que dos programas de software se comuniquen entre sí.\n",
    "\n",
    "La api define la forma correcta para que un desarrollador escriba un programa que solicite servicios de un sistema operativo u otra aplicación. Las api se implementan mediante llamadas a funciones. La sintaxis requerida se describe en la documentación de la api a la que se llama, y cada una es diferente.\n",
    "\n",
    "Las api se componen de dos elementos relacionados. La primera es una especificación que describe cómo se intercambia la información entre programas, hecha en forma de una solicitud de procesamiento y una devolución de los datos necesarios. El segundo es una interfaz de software escrita según esa especificación y publicada de alguna manera para su uso. Se dice que el software que quiere acceder a las características y capacidades de la API la llama, y se dice que el software que crea la API la publica.\n",
    "\n",
    "De manera general, usaremos las api para obtener información."
   ]
  },
  {
   "cell_type": "markdown",
   "metadata": {},
   "source": [
    "### Realizando una petición a la web (GET)\n",
    "\n",
    "Usaremos la librería [requests](https://docs.python-requests.org/en/master/) para realizar peticiones a la web."
   ]
  },
  {
   "cell_type": "code",
   "execution_count": 1,
   "metadata": {},
   "outputs": [
    {
     "name": "stdout",
     "output_type": "stream",
     "text": [
      "Requirement already satisfied: requests in /Users/iudh/opt/anaconda3/lib/python3.8/site-packages (2.25.1)\n",
      "Requirement already satisfied: certifi>=2017.4.17 in /Users/iudh/opt/anaconda3/lib/python3.8/site-packages (from requests) (2020.12.5)\n",
      "Requirement already satisfied: idna<3,>=2.5 in /Users/iudh/opt/anaconda3/lib/python3.8/site-packages (from requests) (2.10)\n",
      "Requirement already satisfied: urllib3<1.27,>=1.21.1 in /Users/iudh/opt/anaconda3/lib/python3.8/site-packages (from requests) (1.26.4)\n",
      "Requirement already satisfied: chardet<5,>=3.0.2 in /Users/iudh/opt/anaconda3/lib/python3.8/site-packages (from requests) (4.0.0)\n"
     ]
    }
   ],
   "source": [
    "!pip install requests"
   ]
  },
  {
   "cell_type": "code",
   "execution_count": 2,
   "metadata": {},
   "outputs": [],
   "source": [
    "import requests as req"
   ]
  },
  {
   "cell_type": "code",
   "execution_count": 3,
   "metadata": {},
   "outputs": [],
   "source": [
    "url='http://www.google.es'"
   ]
  },
  {
   "cell_type": "code",
   "execution_count": 4,
   "metadata": {},
   "outputs": [
    {
     "data": {
      "text/plain": [
       "<Response [200]>"
      ]
     },
     "execution_count": 4,
     "metadata": {},
     "output_type": "execute_result"
    }
   ],
   "source": [
    "req.get(url)  # realiza la peticion get"
   ]
  },
  {
   "cell_type": "code",
   "execution_count": 5,
   "metadata": {},
   "outputs": [],
   "source": [
    "url='http://www.google.com/search?q=anime'"
   ]
  },
  {
   "cell_type": "code",
   "execution_count": 6,
   "metadata": {},
   "outputs": [
    {
     "data": {
      "text/plain": [
       "<Response [200]>"
      ]
     },
     "execution_count": 6,
     "metadata": {},
     "output_type": "execute_result"
    }
   ],
   "source": [
    "req.get(url)"
   ]
  },
  {
   "cell_type": "code",
   "execution_count": 7,
   "metadata": {},
   "outputs": [
    {
     "data": {
      "text/plain": [
       "'<!doctype html><html lang=\"es\"><head><meta charset=\"UTF-8\"><meta content=\"/images/branding/googleg/1'"
      ]
     },
     "execution_count": 7,
     "metadata": {},
     "output_type": "execute_result"
    }
   ],
   "source": [
    "req.get(url).text[:100]"
   ]
  },
  {
   "cell_type": "markdown",
   "metadata": {},
   "source": [
    "### API de [Anime](https://jikan.moe/)"
   ]
  },
  {
   "cell_type": "code",
   "execution_count": 8,
   "metadata": {},
   "outputs": [],
   "source": [
    "URL_BASE='https://api.jikan.moe/v4/anime?q='"
   ]
  },
  {
   "cell_type": "code",
   "execution_count": 9,
   "metadata": {},
   "outputs": [],
   "source": [
    "busqueda='ghost in the shell'"
   ]
  },
  {
   "cell_type": "code",
   "execution_count": 10,
   "metadata": {},
   "outputs": [
    {
     "data": {
      "text/plain": [
       "<Response [200]>"
      ]
     },
     "execution_count": 10,
     "metadata": {},
     "output_type": "execute_result"
    }
   ],
   "source": [
    "response=req.get(URL_BASE+busqueda)\n",
    "\n",
    "response"
   ]
  },
  {
   "cell_type": "markdown",
   "metadata": {},
   "source": [
    "### [PokeAPI](https://pokeapi.co/)"
   ]
  },
  {
   "cell_type": "code",
   "execution_count": 11,
   "metadata": {},
   "outputs": [],
   "source": [
    "URL='https://pokeapi.co/api/v2/'"
   ]
  },
  {
   "cell_type": "code",
   "execution_count": 12,
   "metadata": {},
   "outputs": [],
   "source": [
    "pokemon='pokemon/25'"
   ]
  },
  {
   "cell_type": "code",
   "execution_count": 13,
   "metadata": {},
   "outputs": [
    {
     "data": {
      "text/plain": [
       "<Response [200]>"
      ]
     },
     "execution_count": 13,
     "metadata": {},
     "output_type": "execute_result"
    }
   ],
   "source": [
    "res=req.get(URL+pokemon)\n",
    "\n",
    "res"
   ]
  },
  {
   "cell_type": "code",
   "execution_count": 14,
   "metadata": {},
   "outputs": [
    {
     "data": {
      "text/plain": [
       "{'count': 1118,\n",
       " 'next': 'https://pokeapi.co/api/v2/pokemon?offset=4&limit=3',\n",
       " 'previous': 'https://pokeapi.co/api/v2/pokemon?offset=0&limit=1',\n",
       " 'results': [{'name': 'ivysaur',\n",
       "   'url': 'https://pokeapi.co/api/v2/pokemon/2/'},\n",
       "  {'name': 'venusaur', 'url': 'https://pokeapi.co/api/v2/pokemon/3/'},\n",
       "  {'name': 'charmander', 'url': 'https://pokeapi.co/api/v2/pokemon/4/'}]}"
      ]
     },
     "execution_count": 14,
     "metadata": {},
     "output_type": "execute_result"
    }
   ],
   "source": [
    "# la url puede tener parametros\n",
    "\n",
    "query={'limit':3, 'offset':1}  # url=https://pokeapi.co/api/v2/pokemon?limit=3&offset=1\n",
    "\n",
    "req.get(URL+'pokemon', params=query).json()"
   ]
  },
  {
   "cell_type": "markdown",
   "metadata": {},
   "source": [
    "### [ISS](https://wheretheiss.at/w/developer) API"
   ]
  },
  {
   "cell_type": "code",
   "execution_count": 15,
   "metadata": {
    "scrolled": false
   },
   "outputs": [
    {
     "data": {
      "text/plain": [
       "<Response [200]>"
      ]
     },
     "execution_count": 15,
     "metadata": {},
     "output_type": "execute_result"
    }
   ],
   "source": [
    "URL='https://api.wheretheiss.at/v1/satellites/25544'\n",
    "\n",
    "res_iss=req.get(URL)\n",
    "\n",
    "res_iss"
   ]
  },
  {
   "cell_type": "code",
   "execution_count": 16,
   "metadata": {},
   "outputs": [
    {
     "data": {
      "text/plain": [
       "{'Date': 'Fri, 28 Jan 2022 09:14:22 GMT', 'Server': 'Apache/2.2.22 (Ubuntu)', 'X-Powered-By': 'PHP/5.3.10-1ubuntu3.26', 'X-Rate-Limit-Limit': '350', 'X-Rate-Limit-Remaining': '335', 'X-Rate-Limit-Interval': '5 minutes', 'Access-Control-Allow-Origin': '*', 'X-Apache-Time': 'D=22992', 'Cache-Control': 'max-age=0, no-cache', 'Content-Length': '307', 'Keep-Alive': 'timeout=15, max=100', 'Connection': 'Keep-Alive', 'Content-Type': 'application/json'}"
      ]
     },
     "execution_count": 16,
     "metadata": {},
     "output_type": "execute_result"
    }
   ],
   "source": [
    "res_iss.headers"
   ]
  },
  {
   "cell_type": "code",
   "execution_count": 17,
   "metadata": {},
   "outputs": [
    {
     "data": {
      "text/plain": [
       "{'name': 'iss',\n",
       " 'id': 25544,\n",
       " 'latitude': 4.8727811471344,\n",
       " 'longitude': 46.554071193762,\n",
       " 'altitude': 415.81345905191,\n",
       " 'velocity': 27591.9129,\n",
       " 'visibility': 'daylight',\n",
       " 'footprint': 4486.1025945414,\n",
       " 'timestamp': 1643361262,\n",
       " 'daynum': 2459607.8849769,\n",
       " 'solar_lat': -18.155037470956,\n",
       " 'solar_lon': 44.638852221844,\n",
       " 'units': 'kilometers'}"
      ]
     },
     "execution_count": 17,
     "metadata": {},
     "output_type": "execute_result"
    }
   ],
   "source": [
    "res_iss.json()"
   ]
  },
  {
   "cell_type": "code",
   "execution_count": 18,
   "metadata": {},
   "outputs": [
    {
     "name": "stdout",
     "output_type": "stream",
     "text": [
      "0\n",
      "1\n",
      "2\n",
      "3\n",
      "4\n",
      "5\n",
      "6\n",
      "7\n",
      "8\n",
      "9\n",
      "10\n",
      "11\n",
      "12\n",
      "13\n",
      "14\n",
      "15\n",
      "16\n",
      "17\n",
      "18\n",
      "19\n",
      "CPU times: user 723 ms, sys: 62.4 ms, total: 785 ms\n",
      "Wall time: 23.4 s\n"
     ]
    }
   ],
   "source": [
    "%%time\n",
    "\n",
    "import time\n",
    "\n",
    "posiciones=[]\n",
    "\n",
    "for i in range(20):\n",
    "    print(i)\n",
    "    \n",
    "    res_iss=req.get(URL)\n",
    "    \n",
    "    data=res_iss.json()\n",
    "    \n",
    "    posiciones.append(data)\n",
    "    \n",
    "    time.sleep(0.5)  # que se duerma medio segundo"
   ]
  },
  {
   "cell_type": "code",
   "execution_count": 19,
   "metadata": {},
   "outputs": [
    {
     "data": {
      "text/plain": [
       "[{'name': 'iss',\n",
       "  'id': 25544,\n",
       "  'latitude': 4.923682883892,\n",
       "  'longitude': 46.590276395729,\n",
       "  'altitude': 415.8048561766,\n",
       "  'velocity': 27591.954969275,\n",
       "  'visibility': 'daylight',\n",
       "  'footprint': 4486.0585728305,\n",
       "  'timestamp': 1643361263,\n",
       "  'daynum': 2459607.8849884,\n",
       "  'solar_lat': -18.155034411204,\n",
       "  'solar_lon': 44.634686120221,\n",
       "  'units': 'kilometers'},\n",
       " {'name': 'iss',\n",
       "  'id': 25544,\n",
       "  'latitude': 4.9745822492544,\n",
       "  'longitude': 46.626487843013,\n",
       "  'altitude': 415.79628465382,\n",
       "  'velocity': 27591.996984358,\n",
       "  'visibility': 'daylight',\n",
       "  'footprint': 4486.0147110307,\n",
       "  'timestamp': 1643361264,\n",
       "  'daynum': 2459607.885,\n",
       "  'solar_lat': -18.155031351452,\n",
       "  'solar_lon': 44.630520018597,\n",
       "  'units': 'kilometers'}]"
      ]
     },
     "execution_count": 19,
     "metadata": {},
     "output_type": "execute_result"
    }
   ],
   "source": [
    "posiciones[:2]"
   ]
  },
  {
   "cell_type": "code",
   "execution_count": 20,
   "metadata": {},
   "outputs": [
    {
     "name": "stdout",
     "output_type": "stream",
     "text": [
      "CPU times: user 973 µs, sys: 183 µs, total: 1.16 ms\n",
      "Wall time: 1.16 ms\n"
     ]
    },
    {
     "data": {
      "text/html": [
       "<div>\n",
       "<style scoped>\n",
       "    .dataframe tbody tr th:only-of-type {\n",
       "        vertical-align: middle;\n",
       "    }\n",
       "\n",
       "    .dataframe tbody tr th {\n",
       "        vertical-align: top;\n",
       "    }\n",
       "\n",
       "    .dataframe thead th {\n",
       "        text-align: right;\n",
       "    }\n",
       "</style>\n",
       "<table border=\"1\" class=\"dataframe\">\n",
       "  <thead>\n",
       "    <tr style=\"text-align: right;\">\n",
       "      <th></th>\n",
       "      <th>name</th>\n",
       "      <th>id</th>\n",
       "      <th>latitude</th>\n",
       "      <th>longitude</th>\n",
       "      <th>altitude</th>\n",
       "      <th>velocity</th>\n",
       "      <th>visibility</th>\n",
       "      <th>footprint</th>\n",
       "      <th>timestamp</th>\n",
       "      <th>daynum</th>\n",
       "      <th>solar_lat</th>\n",
       "      <th>solar_lon</th>\n",
       "      <th>units</th>\n",
       "    </tr>\n",
       "  </thead>\n",
       "  <tbody>\n",
       "    <tr>\n",
       "      <th>0</th>\n",
       "      <td>iss</td>\n",
       "      <td>25544</td>\n",
       "      <td>4.923683</td>\n",
       "      <td>46.590276</td>\n",
       "      <td>415.804856</td>\n",
       "      <td>27591.954969</td>\n",
       "      <td>daylight</td>\n",
       "      <td>4486.058573</td>\n",
       "      <td>1643361263</td>\n",
       "      <td>2.459608e+06</td>\n",
       "      <td>-18.155034</td>\n",
       "      <td>44.634686</td>\n",
       "      <td>kilometers</td>\n",
       "    </tr>\n",
       "    <tr>\n",
       "      <th>1</th>\n",
       "      <td>iss</td>\n",
       "      <td>25544</td>\n",
       "      <td>4.974582</td>\n",
       "      <td>46.626488</td>\n",
       "      <td>415.796285</td>\n",
       "      <td>27591.996984</td>\n",
       "      <td>daylight</td>\n",
       "      <td>4486.014711</td>\n",
       "      <td>1643361264</td>\n",
       "      <td>2.459608e+06</td>\n",
       "      <td>-18.155031</td>\n",
       "      <td>44.630520</td>\n",
       "      <td>kilometers</td>\n",
       "    </tr>\n",
       "    <tr>\n",
       "      <th>2</th>\n",
       "      <td>iss</td>\n",
       "      <td>25544</td>\n",
       "      <td>5.025481</td>\n",
       "      <td>46.662707</td>\n",
       "      <td>415.787744</td>\n",
       "      <td>27592.038947</td>\n",
       "      <td>daylight</td>\n",
       "      <td>4485.971007</td>\n",
       "      <td>1643361265</td>\n",
       "      <td>2.459608e+06</td>\n",
       "      <td>-18.155028</td>\n",
       "      <td>44.626354</td>\n",
       "      <td>kilometers</td>\n",
       "    </tr>\n",
       "    <tr>\n",
       "      <th>3</th>\n",
       "      <td>iss</td>\n",
       "      <td>25544</td>\n",
       "      <td>5.076376</td>\n",
       "      <td>46.698931</td>\n",
       "      <td>415.779235</td>\n",
       "      <td>27592.080853</td>\n",
       "      <td>daylight</td>\n",
       "      <td>4485.927465</td>\n",
       "      <td>1643361266</td>\n",
       "      <td>2.459608e+06</td>\n",
       "      <td>-18.155025</td>\n",
       "      <td>44.622188</td>\n",
       "      <td>kilometers</td>\n",
       "    </tr>\n",
       "    <tr>\n",
       "      <th>4</th>\n",
       "      <td>iss</td>\n",
       "      <td>25544</td>\n",
       "      <td>5.178158</td>\n",
       "      <td>46.771399</td>\n",
       "      <td>415.762312</td>\n",
       "      <td>27592.164504</td>\n",
       "      <td>daylight</td>\n",
       "      <td>4485.840861</td>\n",
       "      <td>1643361268</td>\n",
       "      <td>2.459608e+06</td>\n",
       "      <td>-18.155019</td>\n",
       "      <td>44.613855</td>\n",
       "      <td>kilometers</td>\n",
       "    </tr>\n",
       "    <tr>\n",
       "      <th>5</th>\n",
       "      <td>iss</td>\n",
       "      <td>25544</td>\n",
       "      <td>5.229045</td>\n",
       "      <td>46.807642</td>\n",
       "      <td>415.753897</td>\n",
       "      <td>27592.206247</td>\n",
       "      <td>daylight</td>\n",
       "      <td>4485.797799</td>\n",
       "      <td>1643361269</td>\n",
       "      <td>2.459608e+06</td>\n",
       "      <td>-18.155016</td>\n",
       "      <td>44.609689</td>\n",
       "      <td>kilometers</td>\n",
       "    </tr>\n",
       "    <tr>\n",
       "      <th>6</th>\n",
       "      <td>iss</td>\n",
       "      <td>25544</td>\n",
       "      <td>5.279929</td>\n",
       "      <td>46.843893</td>\n",
       "      <td>415.745514</td>\n",
       "      <td>27592.247936</td>\n",
       "      <td>daylight</td>\n",
       "      <td>4485.754897</td>\n",
       "      <td>1643361270</td>\n",
       "      <td>2.459608e+06</td>\n",
       "      <td>-18.155013</td>\n",
       "      <td>44.605523</td>\n",
       "      <td>kilometers</td>\n",
       "    </tr>\n",
       "    <tr>\n",
       "      <th>7</th>\n",
       "      <td>iss</td>\n",
       "      <td>25544</td>\n",
       "      <td>5.330811</td>\n",
       "      <td>46.880150</td>\n",
       "      <td>415.737162</td>\n",
       "      <td>27592.289571</td>\n",
       "      <td>daylight</td>\n",
       "      <td>4485.712155</td>\n",
       "      <td>1643361271</td>\n",
       "      <td>2.459608e+06</td>\n",
       "      <td>-18.155010</td>\n",
       "      <td>44.601357</td>\n",
       "      <td>kilometers</td>\n",
       "    </tr>\n",
       "    <tr>\n",
       "      <th>8</th>\n",
       "      <td>iss</td>\n",
       "      <td>25544</td>\n",
       "      <td>5.381693</td>\n",
       "      <td>46.916415</td>\n",
       "      <td>415.728841</td>\n",
       "      <td>27592.331153</td>\n",
       "      <td>daylight</td>\n",
       "      <td>4485.669571</td>\n",
       "      <td>1643361272</td>\n",
       "      <td>2.459608e+06</td>\n",
       "      <td>-18.155007</td>\n",
       "      <td>44.597191</td>\n",
       "      <td>kilometers</td>\n",
       "    </tr>\n",
       "    <tr>\n",
       "      <th>9</th>\n",
       "      <td>iss</td>\n",
       "      <td>25544</td>\n",
       "      <td>5.483444</td>\n",
       "      <td>46.988963</td>\n",
       "      <td>415.712293</td>\n",
       "      <td>27592.414150</td>\n",
       "      <td>daylight</td>\n",
       "      <td>4485.584886</td>\n",
       "      <td>1643361274</td>\n",
       "      <td>2.459608e+06</td>\n",
       "      <td>-18.155001</td>\n",
       "      <td>44.588859</td>\n",
       "      <td>kilometers</td>\n",
       "    </tr>\n",
       "    <tr>\n",
       "      <th>10</th>\n",
       "      <td>iss</td>\n",
       "      <td>25544</td>\n",
       "      <td>5.534315</td>\n",
       "      <td>47.025247</td>\n",
       "      <td>415.704067</td>\n",
       "      <td>27592.455566</td>\n",
       "      <td>daylight</td>\n",
       "      <td>4485.542784</td>\n",
       "      <td>1643361275</td>\n",
       "      <td>2.459608e+06</td>\n",
       "      <td>-18.154998</td>\n",
       "      <td>44.584693</td>\n",
       "      <td>kilometers</td>\n",
       "    </tr>\n",
       "    <tr>\n",
       "      <th>11</th>\n",
       "      <td>iss</td>\n",
       "      <td>25544</td>\n",
       "      <td>5.585184</td>\n",
       "      <td>47.061539</td>\n",
       "      <td>415.695871</td>\n",
       "      <td>27592.496928</td>\n",
       "      <td>daylight</td>\n",
       "      <td>4485.500841</td>\n",
       "      <td>1643361276</td>\n",
       "      <td>2.459608e+06</td>\n",
       "      <td>-18.154995</td>\n",
       "      <td>44.580526</td>\n",
       "      <td>kilometers</td>\n",
       "    </tr>\n",
       "    <tr>\n",
       "      <th>12</th>\n",
       "      <td>iss</td>\n",
       "      <td>25544</td>\n",
       "      <td>5.636050</td>\n",
       "      <td>47.097837</td>\n",
       "      <td>415.687707</td>\n",
       "      <td>27592.538235</td>\n",
       "      <td>daylight</td>\n",
       "      <td>4485.459059</td>\n",
       "      <td>1643361277</td>\n",
       "      <td>2.459608e+06</td>\n",
       "      <td>-18.154992</td>\n",
       "      <td>44.576360</td>\n",
       "      <td>kilometers</td>\n",
       "    </tr>\n",
       "    <tr>\n",
       "      <th>13</th>\n",
       "      <td>iss</td>\n",
       "      <td>25544</td>\n",
       "      <td>5.686913</td>\n",
       "      <td>47.134143</td>\n",
       "      <td>415.679575</td>\n",
       "      <td>27592.579487</td>\n",
       "      <td>daylight</td>\n",
       "      <td>4485.417436</td>\n",
       "      <td>1643361278</td>\n",
       "      <td>2.459608e+06</td>\n",
       "      <td>-18.154989</td>\n",
       "      <td>44.572194</td>\n",
       "      <td>kilometers</td>\n",
       "    </tr>\n",
       "    <tr>\n",
       "      <th>14</th>\n",
       "      <td>iss</td>\n",
       "      <td>25544</td>\n",
       "      <td>5.737776</td>\n",
       "      <td>47.170457</td>\n",
       "      <td>415.671473</td>\n",
       "      <td>27592.620687</td>\n",
       "      <td>daylight</td>\n",
       "      <td>4485.375972</td>\n",
       "      <td>1643361279</td>\n",
       "      <td>2.459608e+06</td>\n",
       "      <td>-18.154985</td>\n",
       "      <td>44.568028</td>\n",
       "      <td>kilometers</td>\n",
       "    </tr>\n",
       "    <tr>\n",
       "      <th>15</th>\n",
       "      <td>iss</td>\n",
       "      <td>25544</td>\n",
       "      <td>5.788634</td>\n",
       "      <td>47.206777</td>\n",
       "      <td>415.663403</td>\n",
       "      <td>27592.661829</td>\n",
       "      <td>daylight</td>\n",
       "      <td>4485.334670</td>\n",
       "      <td>1643361280</td>\n",
       "      <td>2.459608e+06</td>\n",
       "      <td>-18.154982</td>\n",
       "      <td>44.563862</td>\n",
       "      <td>kilometers</td>\n",
       "    </tr>\n",
       "    <tr>\n",
       "      <th>16</th>\n",
       "      <td>iss</td>\n",
       "      <td>25544</td>\n",
       "      <td>5.890341</td>\n",
       "      <td>47.279439</td>\n",
       "      <td>415.647357</td>\n",
       "      <td>27592.743951</td>\n",
       "      <td>daylight</td>\n",
       "      <td>4485.252544</td>\n",
       "      <td>1643361282</td>\n",
       "      <td>2.459608e+06</td>\n",
       "      <td>-18.154976</td>\n",
       "      <td>44.555530</td>\n",
       "      <td>kilometers</td>\n",
       "    </tr>\n",
       "    <tr>\n",
       "      <th>17</th>\n",
       "      <td>iss</td>\n",
       "      <td>25544</td>\n",
       "      <td>5.941190</td>\n",
       "      <td>47.315782</td>\n",
       "      <td>415.639382</td>\n",
       "      <td>27592.784929</td>\n",
       "      <td>daylight</td>\n",
       "      <td>4485.211722</td>\n",
       "      <td>1643361283</td>\n",
       "      <td>2.459608e+06</td>\n",
       "      <td>-18.154973</td>\n",
       "      <td>44.551364</td>\n",
       "      <td>kilometers</td>\n",
       "    </tr>\n",
       "    <tr>\n",
       "      <th>18</th>\n",
       "      <td>iss</td>\n",
       "      <td>25544</td>\n",
       "      <td>5.992036</td>\n",
       "      <td>47.352132</td>\n",
       "      <td>415.631437</td>\n",
       "      <td>27592.825852</td>\n",
       "      <td>daylight</td>\n",
       "      <td>4485.171059</td>\n",
       "      <td>1643361284</td>\n",
       "      <td>2.459608e+06</td>\n",
       "      <td>-18.154970</td>\n",
       "      <td>44.547197</td>\n",
       "      <td>kilometers</td>\n",
       "    </tr>\n",
       "    <tr>\n",
       "      <th>19</th>\n",
       "      <td>iss</td>\n",
       "      <td>25544</td>\n",
       "      <td>6.042880</td>\n",
       "      <td>47.388489</td>\n",
       "      <td>415.623524</td>\n",
       "      <td>27592.866721</td>\n",
       "      <td>daylight</td>\n",
       "      <td>4485.130556</td>\n",
       "      <td>1643361285</td>\n",
       "      <td>2.459608e+06</td>\n",
       "      <td>-18.154967</td>\n",
       "      <td>44.543031</td>\n",
       "      <td>kilometers</td>\n",
       "    </tr>\n",
       "  </tbody>\n",
       "</table>\n",
       "</div>"
      ],
      "text/plain": [
       "   name     id  latitude  longitude    altitude      velocity visibility  \\\n",
       "0   iss  25544  4.923683  46.590276  415.804856  27591.954969   daylight   \n",
       "1   iss  25544  4.974582  46.626488  415.796285  27591.996984   daylight   \n",
       "2   iss  25544  5.025481  46.662707  415.787744  27592.038947   daylight   \n",
       "3   iss  25544  5.076376  46.698931  415.779235  27592.080853   daylight   \n",
       "4   iss  25544  5.178158  46.771399  415.762312  27592.164504   daylight   \n",
       "5   iss  25544  5.229045  46.807642  415.753897  27592.206247   daylight   \n",
       "6   iss  25544  5.279929  46.843893  415.745514  27592.247936   daylight   \n",
       "7   iss  25544  5.330811  46.880150  415.737162  27592.289571   daylight   \n",
       "8   iss  25544  5.381693  46.916415  415.728841  27592.331153   daylight   \n",
       "9   iss  25544  5.483444  46.988963  415.712293  27592.414150   daylight   \n",
       "10  iss  25544  5.534315  47.025247  415.704067  27592.455566   daylight   \n",
       "11  iss  25544  5.585184  47.061539  415.695871  27592.496928   daylight   \n",
       "12  iss  25544  5.636050  47.097837  415.687707  27592.538235   daylight   \n",
       "13  iss  25544  5.686913  47.134143  415.679575  27592.579487   daylight   \n",
       "14  iss  25544  5.737776  47.170457  415.671473  27592.620687   daylight   \n",
       "15  iss  25544  5.788634  47.206777  415.663403  27592.661829   daylight   \n",
       "16  iss  25544  5.890341  47.279439  415.647357  27592.743951   daylight   \n",
       "17  iss  25544  5.941190  47.315782  415.639382  27592.784929   daylight   \n",
       "18  iss  25544  5.992036  47.352132  415.631437  27592.825852   daylight   \n",
       "19  iss  25544  6.042880  47.388489  415.623524  27592.866721   daylight   \n",
       "\n",
       "      footprint   timestamp        daynum  solar_lat  solar_lon       units  \n",
       "0   4486.058573  1643361263  2.459608e+06 -18.155034  44.634686  kilometers  \n",
       "1   4486.014711  1643361264  2.459608e+06 -18.155031  44.630520  kilometers  \n",
       "2   4485.971007  1643361265  2.459608e+06 -18.155028  44.626354  kilometers  \n",
       "3   4485.927465  1643361266  2.459608e+06 -18.155025  44.622188  kilometers  \n",
       "4   4485.840861  1643361268  2.459608e+06 -18.155019  44.613855  kilometers  \n",
       "5   4485.797799  1643361269  2.459608e+06 -18.155016  44.609689  kilometers  \n",
       "6   4485.754897  1643361270  2.459608e+06 -18.155013  44.605523  kilometers  \n",
       "7   4485.712155  1643361271  2.459608e+06 -18.155010  44.601357  kilometers  \n",
       "8   4485.669571  1643361272  2.459608e+06 -18.155007  44.597191  kilometers  \n",
       "9   4485.584886  1643361274  2.459608e+06 -18.155001  44.588859  kilometers  \n",
       "10  4485.542784  1643361275  2.459608e+06 -18.154998  44.584693  kilometers  \n",
       "11  4485.500841  1643361276  2.459608e+06 -18.154995  44.580526  kilometers  \n",
       "12  4485.459059  1643361277  2.459608e+06 -18.154992  44.576360  kilometers  \n",
       "13  4485.417436  1643361278  2.459608e+06 -18.154989  44.572194  kilometers  \n",
       "14  4485.375972  1643361279  2.459608e+06 -18.154985  44.568028  kilometers  \n",
       "15  4485.334670  1643361280  2.459608e+06 -18.154982  44.563862  kilometers  \n",
       "16  4485.252544  1643361282  2.459608e+06 -18.154976  44.555530  kilometers  \n",
       "17  4485.211722  1643361283  2.459608e+06 -18.154973  44.551364  kilometers  \n",
       "18  4485.171059  1643361284  2.459608e+06 -18.154970  44.547197  kilometers  \n",
       "19  4485.130556  1643361285  2.459608e+06 -18.154967  44.543031  kilometers  "
      ]
     },
     "execution_count": 20,
     "metadata": {},
     "output_type": "execute_result"
    }
   ],
   "source": [
    "import pandas as pd\n",
    "\n",
    "%time pd.DataFrame(posiciones)"
   ]
  },
  {
   "cell_type": "markdown",
   "metadata": {},
   "source": [
    "### [GitHub](https://docs.github.com/en/rest) API"
   ]
  },
  {
   "cell_type": "code",
   "execution_count": 21,
   "metadata": {},
   "outputs": [],
   "source": [
    "URL='https://api.github.com/'"
   ]
  },
  {
   "cell_type": "code",
   "execution_count": 22,
   "metadata": {},
   "outputs": [],
   "source": [
    "eventos='events'"
   ]
  },
  {
   "cell_type": "code",
   "execution_count": 23,
   "metadata": {},
   "outputs": [
    {
     "data": {
      "text/plain": [
       "<Response [200]>"
      ]
     },
     "execution_count": 23,
     "metadata": {},
     "output_type": "execute_result"
    }
   ],
   "source": [
    "res_git=req.get(URL+eventos)\n",
    "\n",
    "res_git"
   ]
  },
  {
   "cell_type": "code",
   "execution_count": 24,
   "metadata": {},
   "outputs": [
    {
     "data": {
      "text/plain": [
       "str"
      ]
     },
     "execution_count": 24,
     "metadata": {},
     "output_type": "execute_result"
    }
   ],
   "source": [
    "type(res_git.text[:10])"
   ]
  },
  {
   "cell_type": "code",
   "execution_count": 25,
   "metadata": {},
   "outputs": [
    {
     "data": {
      "text/plain": [
       "bytes"
      ]
     },
     "execution_count": 25,
     "metadata": {},
     "output_type": "execute_result"
    }
   ],
   "source": [
    "type(res_git.content[:10])"
   ]
  },
  {
   "cell_type": "code",
   "execution_count": 26,
   "metadata": {
    "scrolled": false
   },
   "outputs": [
    {
     "data": {
      "text/plain": [
       "'https://api.github.com/users/zuber-shekh7'"
      ]
     },
     "execution_count": 26,
     "metadata": {},
     "output_type": "execute_result"
    }
   ],
   "source": [
    "res_git.json()[8]['actor']['url']"
   ]
  },
  {
   "cell_type": "code",
   "execution_count": 27,
   "metadata": {},
   "outputs": [
    {
     "data": {
      "text/html": [
       "<div>\n",
       "<style scoped>\n",
       "    .dataframe tbody tr th:only-of-type {\n",
       "        vertical-align: middle;\n",
       "    }\n",
       "\n",
       "    .dataframe tbody tr th {\n",
       "        vertical-align: top;\n",
       "    }\n",
       "\n",
       "    .dataframe thead th {\n",
       "        text-align: right;\n",
       "    }\n",
       "</style>\n",
       "<table border=\"1\" class=\"dataframe\">\n",
       "  <thead>\n",
       "    <tr style=\"text-align: right;\">\n",
       "      <th></th>\n",
       "      <th>id</th>\n",
       "      <th>type</th>\n",
       "      <th>actor</th>\n",
       "      <th>repo</th>\n",
       "      <th>payload</th>\n",
       "      <th>public</th>\n",
       "      <th>created_at</th>\n",
       "      <th>org</th>\n",
       "    </tr>\n",
       "  </thead>\n",
       "  <tbody>\n",
       "    <tr>\n",
       "      <th>0</th>\n",
       "      <td>19961588755</td>\n",
       "      <td>WatchEvent</td>\n",
       "      <td>{'id': 11566768, 'login': 'gavinzhang1995', 'd...</td>\n",
       "      <td>{'id': 342126120, 'name': 'Micro-sheep/efinanc...</td>\n",
       "      <td>{'action': 'started'}</td>\n",
       "      <td>True</td>\n",
       "      <td>2022-01-28T09:09:46Z</td>\n",
       "      <td>NaN</td>\n",
       "    </tr>\n",
       "    <tr>\n",
       "      <th>1</th>\n",
       "      <td>19961588793</td>\n",
       "      <td>IssuesEvent</td>\n",
       "      <td>{'id': 70054655, 'login': 'HRTK92', 'display_l...</td>\n",
       "      <td>{'id': 452279699, 'name': 'HRTK92/Youtube-De-I...</td>\n",
       "      <td>{'action': 'closed', 'issue': {'url': 'https:/...</td>\n",
       "      <td>True</td>\n",
       "      <td>2022-01-28T09:09:46Z</td>\n",
       "      <td>NaN</td>\n",
       "    </tr>\n",
       "    <tr>\n",
       "      <th>2</th>\n",
       "      <td>19961588729</td>\n",
       "      <td>PushEvent</td>\n",
       "      <td>{'id': 755058, 'login': 'kanastasov', 'display...</td>\n",
       "      <td>{'id': 446374250, 'name': 'kanastasov/EShop-Te...</td>\n",
       "      <td>{'push_id': 8953457414, 'size': 2, 'distinct_s...</td>\n",
       "      <td>True</td>\n",
       "      <td>2022-01-28T09:09:46Z</td>\n",
       "      <td>NaN</td>\n",
       "    </tr>\n",
       "    <tr>\n",
       "      <th>3</th>\n",
       "      <td>19961588738</td>\n",
       "      <td>IssueCommentEvent</td>\n",
       "      <td>{'id': 91450747, 'login': 'zerodoxxx', 'displa...</td>\n",
       "      <td>{'id': 170966957, 'name': 'Agantor/viewerbot',...</td>\n",
       "      <td>{'action': 'created', 'issue': {'url': 'https:...</td>\n",
       "      <td>True</td>\n",
       "      <td>2022-01-28T09:09:46Z</td>\n",
       "      <td>NaN</td>\n",
       "    </tr>\n",
       "    <tr>\n",
       "      <th>4</th>\n",
       "      <td>19961588787</td>\n",
       "      <td>WatchEvent</td>\n",
       "      <td>{'id': 38887390, 'login': 'thegamerhat', 'disp...</td>\n",
       "      <td>{'id': 68968979, 'name': 'nukeop/nuclear', 'ur...</td>\n",
       "      <td>{'action': 'started'}</td>\n",
       "      <td>True</td>\n",
       "      <td>2022-01-28T09:09:46Z</td>\n",
       "      <td>NaN</td>\n",
       "    </tr>\n",
       "  </tbody>\n",
       "</table>\n",
       "</div>"
      ],
      "text/plain": [
       "            id               type  \\\n",
       "0  19961588755         WatchEvent   \n",
       "1  19961588793        IssuesEvent   \n",
       "2  19961588729          PushEvent   \n",
       "3  19961588738  IssueCommentEvent   \n",
       "4  19961588787         WatchEvent   \n",
       "\n",
       "                                               actor  \\\n",
       "0  {'id': 11566768, 'login': 'gavinzhang1995', 'd...   \n",
       "1  {'id': 70054655, 'login': 'HRTK92', 'display_l...   \n",
       "2  {'id': 755058, 'login': 'kanastasov', 'display...   \n",
       "3  {'id': 91450747, 'login': 'zerodoxxx', 'displa...   \n",
       "4  {'id': 38887390, 'login': 'thegamerhat', 'disp...   \n",
       "\n",
       "                                                repo  \\\n",
       "0  {'id': 342126120, 'name': 'Micro-sheep/efinanc...   \n",
       "1  {'id': 452279699, 'name': 'HRTK92/Youtube-De-I...   \n",
       "2  {'id': 446374250, 'name': 'kanastasov/EShop-Te...   \n",
       "3  {'id': 170966957, 'name': 'Agantor/viewerbot',...   \n",
       "4  {'id': 68968979, 'name': 'nukeop/nuclear', 'ur...   \n",
       "\n",
       "                                             payload  public  \\\n",
       "0                              {'action': 'started'}    True   \n",
       "1  {'action': 'closed', 'issue': {'url': 'https:/...    True   \n",
       "2  {'push_id': 8953457414, 'size': 2, 'distinct_s...    True   \n",
       "3  {'action': 'created', 'issue': {'url': 'https:...    True   \n",
       "4                              {'action': 'started'}    True   \n",
       "\n",
       "             created_at  org  \n",
       "0  2022-01-28T09:09:46Z  NaN  \n",
       "1  2022-01-28T09:09:46Z  NaN  \n",
       "2  2022-01-28T09:09:46Z  NaN  \n",
       "3  2022-01-28T09:09:46Z  NaN  \n",
       "4  2022-01-28T09:09:46Z  NaN  "
      ]
     },
     "execution_count": 27,
     "metadata": {},
     "output_type": "execute_result"
    }
   ],
   "source": [
    "pd.DataFrame(res_git.json()).head()"
   ]
  },
  {
   "cell_type": "code",
   "execution_count": 28,
   "metadata": {},
   "outputs": [
    {
     "data": {
      "text/html": [
       "<div>\n",
       "<style scoped>\n",
       "    .dataframe tbody tr th:only-of-type {\n",
       "        vertical-align: middle;\n",
       "    }\n",
       "\n",
       "    .dataframe tbody tr th {\n",
       "        vertical-align: top;\n",
       "    }\n",
       "\n",
       "    .dataframe thead th {\n",
       "        text-align: right;\n",
       "    }\n",
       "</style>\n",
       "<table border=\"1\" class=\"dataframe\">\n",
       "  <thead>\n",
       "    <tr style=\"text-align: right;\">\n",
       "      <th></th>\n",
       "      <th>id</th>\n",
       "      <th>type</th>\n",
       "      <th>public</th>\n",
       "      <th>created_at</th>\n",
       "      <th>actor.id</th>\n",
       "      <th>actor.login</th>\n",
       "      <th>actor.display_login</th>\n",
       "      <th>actor.gravatar_id</th>\n",
       "      <th>actor.url</th>\n",
       "      <th>actor.avatar_url</th>\n",
       "      <th>...</th>\n",
       "      <th>payload.pull_request.rebaseable</th>\n",
       "      <th>payload.pull_request.mergeable_state</th>\n",
       "      <th>payload.pull_request.merged_by</th>\n",
       "      <th>payload.pull_request.comments</th>\n",
       "      <th>payload.pull_request.review_comments</th>\n",
       "      <th>payload.pull_request.maintainer_can_modify</th>\n",
       "      <th>payload.pull_request.commits</th>\n",
       "      <th>payload.pull_request.additions</th>\n",
       "      <th>payload.pull_request.deletions</th>\n",
       "      <th>payload.pull_request.changed_files</th>\n",
       "    </tr>\n",
       "  </thead>\n",
       "  <tbody>\n",
       "    <tr>\n",
       "      <th>0</th>\n",
       "      <td>19961588755</td>\n",
       "      <td>WatchEvent</td>\n",
       "      <td>True</td>\n",
       "      <td>2022-01-28T09:09:46Z</td>\n",
       "      <td>11566768</td>\n",
       "      <td>gavinzhang1995</td>\n",
       "      <td>gavinzhang1995</td>\n",
       "      <td></td>\n",
       "      <td>https://api.github.com/users/gavinzhang1995</td>\n",
       "      <td>https://avatars.githubusercontent.com/u/11566768?</td>\n",
       "      <td>...</td>\n",
       "      <td>NaN</td>\n",
       "      <td>NaN</td>\n",
       "      <td>NaN</td>\n",
       "      <td>NaN</td>\n",
       "      <td>NaN</td>\n",
       "      <td>NaN</td>\n",
       "      <td>NaN</td>\n",
       "      <td>NaN</td>\n",
       "      <td>NaN</td>\n",
       "      <td>NaN</td>\n",
       "    </tr>\n",
       "    <tr>\n",
       "      <th>1</th>\n",
       "      <td>19961588793</td>\n",
       "      <td>IssuesEvent</td>\n",
       "      <td>True</td>\n",
       "      <td>2022-01-28T09:09:46Z</td>\n",
       "      <td>70054655</td>\n",
       "      <td>HRTK92</td>\n",
       "      <td>HRTK92</td>\n",
       "      <td></td>\n",
       "      <td>https://api.github.com/users/HRTK92</td>\n",
       "      <td>https://avatars.githubusercontent.com/u/70054655?</td>\n",
       "      <td>...</td>\n",
       "      <td>NaN</td>\n",
       "      <td>NaN</td>\n",
       "      <td>NaN</td>\n",
       "      <td>NaN</td>\n",
       "      <td>NaN</td>\n",
       "      <td>NaN</td>\n",
       "      <td>NaN</td>\n",
       "      <td>NaN</td>\n",
       "      <td>NaN</td>\n",
       "      <td>NaN</td>\n",
       "    </tr>\n",
       "    <tr>\n",
       "      <th>2</th>\n",
       "      <td>19961588729</td>\n",
       "      <td>PushEvent</td>\n",
       "      <td>True</td>\n",
       "      <td>2022-01-28T09:09:46Z</td>\n",
       "      <td>755058</td>\n",
       "      <td>kanastasov</td>\n",
       "      <td>kanastasov</td>\n",
       "      <td></td>\n",
       "      <td>https://api.github.com/users/kanastasov</td>\n",
       "      <td>https://avatars.githubusercontent.com/u/755058?</td>\n",
       "      <td>...</td>\n",
       "      <td>NaN</td>\n",
       "      <td>NaN</td>\n",
       "      <td>NaN</td>\n",
       "      <td>NaN</td>\n",
       "      <td>NaN</td>\n",
       "      <td>NaN</td>\n",
       "      <td>NaN</td>\n",
       "      <td>NaN</td>\n",
       "      <td>NaN</td>\n",
       "      <td>NaN</td>\n",
       "    </tr>\n",
       "    <tr>\n",
       "      <th>3</th>\n",
       "      <td>19961588738</td>\n",
       "      <td>IssueCommentEvent</td>\n",
       "      <td>True</td>\n",
       "      <td>2022-01-28T09:09:46Z</td>\n",
       "      <td>91450747</td>\n",
       "      <td>zerodoxxx</td>\n",
       "      <td>zerodoxxx</td>\n",
       "      <td></td>\n",
       "      <td>https://api.github.com/users/zerodoxxx</td>\n",
       "      <td>https://avatars.githubusercontent.com/u/91450747?</td>\n",
       "      <td>...</td>\n",
       "      <td>NaN</td>\n",
       "      <td>NaN</td>\n",
       "      <td>NaN</td>\n",
       "      <td>NaN</td>\n",
       "      <td>NaN</td>\n",
       "      <td>NaN</td>\n",
       "      <td>NaN</td>\n",
       "      <td>NaN</td>\n",
       "      <td>NaN</td>\n",
       "      <td>NaN</td>\n",
       "    </tr>\n",
       "    <tr>\n",
       "      <th>4</th>\n",
       "      <td>19961588787</td>\n",
       "      <td>WatchEvent</td>\n",
       "      <td>True</td>\n",
       "      <td>2022-01-28T09:09:46Z</td>\n",
       "      <td>38887390</td>\n",
       "      <td>thegamerhat</td>\n",
       "      <td>thegamerhat</td>\n",
       "      <td></td>\n",
       "      <td>https://api.github.com/users/thegamerhat</td>\n",
       "      <td>https://avatars.githubusercontent.com/u/38887390?</td>\n",
       "      <td>...</td>\n",
       "      <td>NaN</td>\n",
       "      <td>NaN</td>\n",
       "      <td>NaN</td>\n",
       "      <td>NaN</td>\n",
       "      <td>NaN</td>\n",
       "      <td>NaN</td>\n",
       "      <td>NaN</td>\n",
       "      <td>NaN</td>\n",
       "      <td>NaN</td>\n",
       "      <td>NaN</td>\n",
       "    </tr>\n",
       "  </tbody>\n",
       "</table>\n",
       "<p>5 rows × 550 columns</p>\n",
       "</div>"
      ],
      "text/plain": [
       "            id               type  public            created_at  actor.id  \\\n",
       "0  19961588755         WatchEvent    True  2022-01-28T09:09:46Z  11566768   \n",
       "1  19961588793        IssuesEvent    True  2022-01-28T09:09:46Z  70054655   \n",
       "2  19961588729          PushEvent    True  2022-01-28T09:09:46Z    755058   \n",
       "3  19961588738  IssueCommentEvent    True  2022-01-28T09:09:46Z  91450747   \n",
       "4  19961588787         WatchEvent    True  2022-01-28T09:09:46Z  38887390   \n",
       "\n",
       "      actor.login actor.display_login actor.gravatar_id  \\\n",
       "0  gavinzhang1995      gavinzhang1995                     \n",
       "1          HRTK92              HRTK92                     \n",
       "2      kanastasov          kanastasov                     \n",
       "3       zerodoxxx           zerodoxxx                     \n",
       "4     thegamerhat         thegamerhat                     \n",
       "\n",
       "                                     actor.url  \\\n",
       "0  https://api.github.com/users/gavinzhang1995   \n",
       "1          https://api.github.com/users/HRTK92   \n",
       "2      https://api.github.com/users/kanastasov   \n",
       "3       https://api.github.com/users/zerodoxxx   \n",
       "4     https://api.github.com/users/thegamerhat   \n",
       "\n",
       "                                    actor.avatar_url  ...  \\\n",
       "0  https://avatars.githubusercontent.com/u/11566768?  ...   \n",
       "1  https://avatars.githubusercontent.com/u/70054655?  ...   \n",
       "2    https://avatars.githubusercontent.com/u/755058?  ...   \n",
       "3  https://avatars.githubusercontent.com/u/91450747?  ...   \n",
       "4  https://avatars.githubusercontent.com/u/38887390?  ...   \n",
       "\n",
       "   payload.pull_request.rebaseable payload.pull_request.mergeable_state  \\\n",
       "0                              NaN                                  NaN   \n",
       "1                              NaN                                  NaN   \n",
       "2                              NaN                                  NaN   \n",
       "3                              NaN                                  NaN   \n",
       "4                              NaN                                  NaN   \n",
       "\n",
       "  payload.pull_request.merged_by payload.pull_request.comments  \\\n",
       "0                            NaN                           NaN   \n",
       "1                            NaN                           NaN   \n",
       "2                            NaN                           NaN   \n",
       "3                            NaN                           NaN   \n",
       "4                            NaN                           NaN   \n",
       "\n",
       "  payload.pull_request.review_comments  \\\n",
       "0                                  NaN   \n",
       "1                                  NaN   \n",
       "2                                  NaN   \n",
       "3                                  NaN   \n",
       "4                                  NaN   \n",
       "\n",
       "  payload.pull_request.maintainer_can_modify payload.pull_request.commits  \\\n",
       "0                                        NaN                          NaN   \n",
       "1                                        NaN                          NaN   \n",
       "2                                        NaN                          NaN   \n",
       "3                                        NaN                          NaN   \n",
       "4                                        NaN                          NaN   \n",
       "\n",
       "  payload.pull_request.additions payload.pull_request.deletions  \\\n",
       "0                            NaN                            NaN   \n",
       "1                            NaN                            NaN   \n",
       "2                            NaN                            NaN   \n",
       "3                            NaN                            NaN   \n",
       "4                            NaN                            NaN   \n",
       "\n",
       "  payload.pull_request.changed_files  \n",
       "0                                NaN  \n",
       "1                                NaN  \n",
       "2                                NaN  \n",
       "3                                NaN  \n",
       "4                                NaN  \n",
       "\n",
       "[5 rows x 550 columns]"
      ]
     },
     "execution_count": 28,
     "metadata": {},
     "output_type": "execute_result"
    }
   ],
   "source": [
    "pd.json_normalize(res_git.json()).head()"
   ]
  },
  {
   "cell_type": "markdown",
   "metadata": {},
   "source": [
    "### [Kaggle](https://www.kaggle.com/docs/api) API\n",
    "\n",
    "Para usar la API de Kaggle, primero tenemos que registrarnos en la página. En la información de nuestra cuenta podemos pedir el token de la API:\n",
    "\n",
    "![kaggle_api](images/kaggle_api.png)\n",
    "\n",
    "$$$$\n",
    "\n",
    "Al pedir el token, se descargará un archivo llamado `kaggls.json`, el cual tendremos que guardar en la carpeta oculta `.kaggle`. \n",
    "\n",
    "Para ocultar el token del resto de usuarios se escribe algo como: `chmod 600 /Users/iudh/.kaggle/kaggle.json` en la terminal."
   ]
  },
  {
   "cell_type": "code",
   "execution_count": 29,
   "metadata": {},
   "outputs": [
    {
     "name": "stdout",
     "output_type": "stream",
     "text": [
      "Collecting kaggle\n",
      "  Downloading kaggle-1.5.12.tar.gz (58 kB)\n",
      "\u001b[K     |████████████████████████████████| 58 kB 3.8 MB/s eta 0:00:01\n",
      "\u001b[?25hRequirement already satisfied: six>=1.10 in /Users/iudh/opt/anaconda3/lib/python3.8/site-packages (from kaggle) (1.15.0)\n",
      "Requirement already satisfied: certifi in /Users/iudh/opt/anaconda3/lib/python3.8/site-packages (from kaggle) (2020.12.5)\n",
      "Requirement already satisfied: python-dateutil in /Users/iudh/opt/anaconda3/lib/python3.8/site-packages (from kaggle) (2.8.1)\n",
      "Requirement already satisfied: requests in /Users/iudh/opt/anaconda3/lib/python3.8/site-packages (from kaggle) (2.25.1)\n",
      "Requirement already satisfied: tqdm in /Users/iudh/opt/anaconda3/lib/python3.8/site-packages (from kaggle) (4.59.0)\n",
      "Collecting python-slugify\n",
      "  Downloading python_slugify-5.0.2-py2.py3-none-any.whl (6.7 kB)\n",
      "Requirement already satisfied: urllib3 in /Users/iudh/opt/anaconda3/lib/python3.8/site-packages (from kaggle) (1.26.4)\n",
      "Collecting text-unidecode>=1.3\n",
      "  Downloading text_unidecode-1.3-py2.py3-none-any.whl (78 kB)\n",
      "\u001b[K     |████████████████████████████████| 78 kB 18.7 MB/s eta 0:00:01\n",
      "\u001b[?25hRequirement already satisfied: chardet<5,>=3.0.2 in /Users/iudh/opt/anaconda3/lib/python3.8/site-packages (from requests->kaggle) (4.0.0)\n",
      "Requirement already satisfied: idna<3,>=2.5 in /Users/iudh/opt/anaconda3/lib/python3.8/site-packages (from requests->kaggle) (2.10)\n",
      "Building wheels for collected packages: kaggle\n",
      "  Building wheel for kaggle (setup.py) ... \u001b[?25ldone\n",
      "\u001b[?25h  Created wheel for kaggle: filename=kaggle-1.5.12-py3-none-any.whl size=73053 sha256=132e065563ec542f32116e17767703a2ce175c57c2ee2ce4f5b357a7612793e4\n",
      "  Stored in directory: /Users/iudh/Library/Caches/pip/wheels/29/da/11/144cc25aebdaeb4931b231e25fd34b394e6a5725cbb2f50106\n",
      "Successfully built kaggle\n",
      "Installing collected packages: text-unidecode, python-slugify, kaggle\n",
      "Successfully installed kaggle-1.5.12 python-slugify-5.0.2 text-unidecode-1.3\n"
     ]
    }
   ],
   "source": [
    "!pip install kaggle"
   ]
  },
  {
   "cell_type": "code",
   "execution_count": 30,
   "metadata": {},
   "outputs": [
    {
     "name": "stdout",
     "output_type": "stream",
     "text": [
      "Warning: Your Kaggle API key is readable by other users on this system! To fix this, you can run 'chmod 600 /Users/iudh/.kaggle/kaggle.json'\n"
     ]
    }
   ],
   "source": [
    "import kaggle"
   ]
  },
  {
   "cell_type": "code",
   "execution_count": 31,
   "metadata": {},
   "outputs": [
    {
     "name": "stdout",
     "output_type": "stream",
     "text": [
      "Warning: Your Kaggle API key is readable by other users on this system! To fix this, you can run 'chmod 600 /Users/iudh/.kaggle/kaggle.json'\n"
     ]
    }
   ],
   "source": [
    "from kaggle.api.kaggle_api_extended import KaggleApi\n",
    "\n",
    "api=KaggleApi()\n",
    "\n",
    "api.authenticate()"
   ]
  },
  {
   "cell_type": "code",
   "execution_count": 32,
   "metadata": {},
   "outputs": [],
   "source": [
    "api.dataset_download_files('kazanova/sentiment140', path='./')"
   ]
  },
  {
   "cell_type": "code",
   "execution_count": 33,
   "metadata": {},
   "outputs": [],
   "source": [
    "import zipfile\n",
    "\n",
    "with zipfile.ZipFile('sentiment140.zip', 'r') as file:\n",
    "    file.extractall('')"
   ]
  },
  {
   "cell_type": "code",
   "execution_count": 34,
   "metadata": {},
   "outputs": [
    {
     "data": {
      "text/plain": [
       "['training.1600000.processed.noemoticon.csv']"
      ]
     },
     "execution_count": 34,
     "metadata": {},
     "output_type": "execute_result"
    }
   ],
   "source": [
    "import glob\n",
    "\n",
    "glob.glob('*.csv')"
   ]
  },
  {
   "cell_type": "code",
   "execution_count": 35,
   "metadata": {},
   "outputs": [
    {
     "data": {
      "text/plain": [
       "['training.1600000.processed.noemoticon.csv',\n",
       " 'training.1600000.processed.noemoticon.csv',\n",
       " 'training.1600000.processed.noemoticon.csv']"
      ]
     },
     "execution_count": 35,
     "metadata": {},
     "output_type": "execute_result"
    }
   ],
   "source": [
    "lst=glob.glob('*.csv')*3\n",
    "\n",
    "lst"
   ]
  },
  {
   "cell_type": "code",
   "execution_count": 36,
   "metadata": {},
   "outputs": [],
   "source": [
    "data={}\n",
    "\n",
    "for i, e in enumerate(lst):\n",
    "    data[f'df_{i}']=pd.read_csv(e)\n",
    "    \n",
    "#data"
   ]
  },
  {
   "cell_type": "markdown",
   "metadata": {},
   "source": [
    "### [Nasa](https://api.nasa.gov/) API"
   ]
  },
  {
   "cell_type": "code",
   "execution_count": 37,
   "metadata": {},
   "outputs": [],
   "source": [
    "URL='https://api.nasa.gov/'\n",
    "\n",
    "marte='mars-photos/api/v1/rovers/curiosity/photos?sol=1000&api_key=DEMO_KEY'\n",
    "\n",
    "res_nasa=req.get(URL+marte)"
   ]
  },
  {
   "cell_type": "code",
   "execution_count": 38,
   "metadata": {},
   "outputs": [],
   "source": [
    "foto_url=res_nasa.json()['photos'][0]['img_src']"
   ]
  },
  {
   "cell_type": "code",
   "execution_count": 39,
   "metadata": {},
   "outputs": [
    {
     "data": {
      "text/html": [
       "<img src=\"http://mars.jpl.nasa.gov/msl-raw-images/proj/msl/redops/ods/surface/sol/01000/opgs/edr/fcam/FLB_486265257EDR_F0481570FHAZ00323M_.JPG\"/>"
      ],
      "text/plain": [
       "<IPython.core.display.Image object>"
      ]
     },
     "metadata": {},
     "output_type": "display_data"
    }
   ],
   "source": [
    "from IPython.display import Image\n",
    "\n",
    "display(Image(url=foto_url))"
   ]
  },
  {
   "cell_type": "code",
   "execution_count": 40,
   "metadata": {},
   "outputs": [],
   "source": [
    "imagen_del_dia='planetary/apod?api_key=DEMO_KEY'"
   ]
  },
  {
   "cell_type": "code",
   "execution_count": 41,
   "metadata": {},
   "outputs": [],
   "source": [
    "res_nasa=req.get(URL+imagen_del_dia)"
   ]
  },
  {
   "cell_type": "code",
   "execution_count": 42,
   "metadata": {},
   "outputs": [
    {
     "data": {
      "text/plain": [
       "{'copyright': 'Tom Glenn',\n",
       " 'date': '2022-01-27',\n",
       " 'explanation': \"The Mare Orientale, Latin for Eastern Sea, is one of the most striking large scale lunar features. The youngest of the large lunar impact basins it's very difficult to see from an earthbound perspective. Still, taken during a period of favorable tilt, or libration of the lunar nearside, the Eastern Sea can be found near top center in this sharp telescopic view, extremely foreshortened along the Moon's western edge. Formed by the impact of an asteroid over 3 billion years ago and nearly 1000 kilometers across, the impact basin's concentric circular features, ripples in the lunar crust, are a little easier to spot in spacecraft images of the Moon, though. So why is the Eastern Sea at the Moon's western edge? The Mare Orientale lunar feature was named before 1961. That's when the convention labeling east and west on lunar maps was reversed.\",\n",
       " 'hdurl': 'https://apod.nasa.gov/apod/image/2201/Mare_Orientale_Nov_27_2021_TGlenn_fullsize.jpg',\n",
       " 'media_type': 'image',\n",
       " 'service_version': 'v1',\n",
       " 'title': 'Western Moon, Eastern Sea',\n",
       " 'url': 'https://apod.nasa.gov/apod/image/2201/Mare_Orientale_Nov_27_2021_TGlenn_1024.jpg'}"
      ]
     },
     "execution_count": 42,
     "metadata": {},
     "output_type": "execute_result"
    }
   ],
   "source": [
    "res_nasa.json()"
   ]
  },
  {
   "cell_type": "code",
   "execution_count": 43,
   "metadata": {},
   "outputs": [
    {
     "data": {
      "text/html": [
       "<img src=\"https://apod.nasa.gov/apod/image/2201/Mare_Orientale_Nov_27_2021_TGlenn_1024.jpg\"/>"
      ],
      "text/plain": [
       "<IPython.core.display.Image object>"
      ]
     },
     "metadata": {},
     "output_type": "display_data"
    }
   ],
   "source": [
    "display(Image(url=res_nasa.json()['url']))"
   ]
  },
  {
   "cell_type": "markdown",
   "metadata": {},
   "source": [
    "### Twitter API, ejemplo\n",
    "\n",
    "**https://developer.twitter.com/en/apply-for-access.html**\n",
    "    \n",
    "**http://docs.tweepy.org/en/latest/**\n",
    "\n",
    "```python\n",
    "import tweepy\n",
    "\n",
    "API_KEY='apikey'\n",
    "API_SECRET='apisecret'\n",
    "ACCESS_TOKEN='tu_token'\n",
    "TOKEN_SECRET='tu_tokensecret'\n",
    "\n",
    "auth=tweepy.OAuthHandler(API_KEY, API_SECRET)\n",
    "auth.set_access_token(ACCESS_TOKEN, TOKEN_SECRET)\n",
    "\n",
    "api=tweepy.API(auth)\n",
    "\n",
    "\n",
    "def get_followers(user, count=100):\n",
    "    results=api.followers(user, count=count)\n",
    "    followers=[pd.Series(foll._json) for foll in results]\n",
    "    df=pd.DataFrame(followers)\n",
    "    return df\n",
    "\n",
    "\n",
    "ironhack=get_followers('ironhack')\n",
    "ironhack.head()\n",
    "```"
   ]
  }
 ],
 "metadata": {
  "finalized": {
   "timestamp": 1643279016815,
   "trusted": true
  },
  "kernelspec": {
   "display_name": "clase",
   "language": "python",
   "name": "clase"
  },
  "language_info": {
   "codemirror_mode": {
    "name": "ipython",
    "version": 3
   },
   "file_extension": ".py",
   "mimetype": "text/x-python",
   "name": "python",
   "nbconvert_exporter": "python",
   "pygments_lexer": "ipython3",
   "version": "3.8.8"
  },
  "varInspector": {
   "cols": {
    "lenName": 16,
    "lenType": 16,
    "lenVar": 40
   },
   "kernels_config": {
    "python": {
     "delete_cmd_postfix": "",
     "delete_cmd_prefix": "del ",
     "library": "var_list.py",
     "varRefreshCmd": "print(var_dic_list())"
    },
    "r": {
     "delete_cmd_postfix": ") ",
     "delete_cmd_prefix": "rm(",
     "library": "var_list.r",
     "varRefreshCmd": "cat(var_dic_list()) "
    }
   },
   "types_to_exclude": [
    "module",
    "function",
    "builtin_function_or_method",
    "instance",
    "_Feature"
   ],
   "window_display": false
  }
 },
 "nbformat": 4,
 "nbformat_minor": 4
}
