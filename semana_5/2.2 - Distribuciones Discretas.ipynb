{
 "cells": [
  {
   "cell_type": "markdown",
   "id": "464ab54d",
   "metadata": {},
   "source": [
    "# 1.2 - Distribuciones Discretas\n",
    "\n",
    "\n",
    "Una distribución discreta describe la probabilidad de ocurrencia de cada valor de una variable aleatoria discreta. Una variable aleatoria discreta es una variable aleatoria que tiene valores contables, tales como una lista de enteros no negativos. Con una distribución de probabilidad discreta, cada valor posible de la variable aleatoria discreta puede estar asociado con una probabilidad distinta de cero. Por lo tanto, una distribución de probabilidad discreta suele representarse en forma tabular.\n",
    "\n",
    "### Variables aleatorias\n",
    "\n",
    "+ Variable aleatoria: Es aquella cuyo valor es el resultado de un evento aleatorio. Lo que quiere decir que son los resultados que se presentan al azar en cualquier evento o experimento.\n",
    "\n",
    "+ Variable aleatoria discreta: Es aquella que solo toma ciertos valores, frecuentemente enteros, y que resulta principalmente del conteo realizado.\n",
    "\n",
    "+ Variable aleatoria continua: Es aquella que resulta generalmente de la medición y puede tomar cualquier valor dentro de un intervalo dado.\n"
   ]
  },
  {
   "cell_type": "markdown",
   "id": "192fc85e",
   "metadata": {},
   "source": [
    "### Bernoulli\n",
    "\n",
    "https://es.wikipedia.org/wiki/Distribuci%C3%B3n_Bernoulli\n",
    "\n",
    "$$X \\sim Bernoulli(p)$$\n",
    "\n",
    "Se basa en el experiemento de Bernoulli. Solo tiene dos posibles resultados, con probabilidad $p$ y $1-p$.\n",
    "\n",
    "**Ejemplo :** Moneda sesgada.\n",
    "\n",
    "$\\Omega = \\{0, 1\\}$  Espacio muestral, pensando en cara-cruz.\n",
    "\n",
    "Llamamos $p$ a la probabilidad de éxito, que salga cara por ejemplo."
   ]
  },
  {
   "cell_type": "code",
   "execution_count": 1,
   "id": "4a18ebd9",
   "metadata": {},
   "outputs": [],
   "source": [
    "p=0.8"
   ]
  },
  {
   "cell_type": "markdown",
   "id": "8435f1c1",
   "metadata": {},
   "source": [
    "$P(X=1)=p=0.8$\n",
    "\n",
    "$P(X=0)=1-p=0.2$"
   ]
  },
  {
   "cell_type": "code",
   "execution_count": 2,
   "id": "6eba77a4",
   "metadata": {},
   "outputs": [],
   "source": [
    "from scipy.stats import bernoulli"
   ]
  },
  {
   "cell_type": "code",
   "execution_count": 3,
   "id": "cc7f7c00",
   "metadata": {},
   "outputs": [],
   "source": [
    "jacob_b=bernoulli(p)"
   ]
  },
  {
   "cell_type": "code",
   "execution_count": 6,
   "id": "89c15534",
   "metadata": {},
   "outputs": [
    {
     "data": {
      "text/plain": [
       "<scipy.stats._distn_infrastructure.rv_frozen at 0x7f8531055a00>"
      ]
     },
     "execution_count": 6,
     "metadata": {},
     "output_type": "execute_result"
    }
   ],
   "source": [
    "jacob_b"
   ]
  },
  {
   "cell_type": "code",
   "execution_count": 10,
   "id": "2853ec0a",
   "metadata": {},
   "outputs": [
    {
     "data": {
      "text/plain": [
       "array([1])"
      ]
     },
     "execution_count": 10,
     "metadata": {},
     "output_type": "execute_result"
    }
   ],
   "source": [
    "jacob_b.rvs(size=1)  # rvs=random variable sample (muestra aleatoria simple - m.a.s.)"
   ]
  },
  {
   "cell_type": "code",
   "execution_count": 11,
   "id": "7c6ca3c4",
   "metadata": {},
   "outputs": [
    {
     "data": {
      "text/plain": [
       "array([1, 1, 1, 1, 1, 0, 1, 1, 1, 0, 1, 1, 1, 1, 1, 0, 1, 0, 1, 0, 1, 1,\n",
       "       0, 1, 0, 1, 1, 1, 0, 1, 0, 1, 1, 1, 1, 1, 1, 1, 1, 1, 1, 1, 1, 0,\n",
       "       1, 1, 0, 1, 0, 1, 1, 0, 1, 0, 1, 1, 1, 0, 1, 1, 1, 1, 1, 0, 1, 0,\n",
       "       0, 1, 1, 1, 1, 1, 1, 1, 1, 1, 0, 1, 1, 1, 1, 1, 1, 1, 1, 1, 0, 1,\n",
       "       1, 1, 1, 1, 1, 1, 1, 1, 1, 0, 1, 1])"
      ]
     },
     "execution_count": 11,
     "metadata": {},
     "output_type": "execute_result"
    }
   ],
   "source": [
    "muestra=jacob_b.rvs(size=100) \n",
    "\n",
    "muestra"
   ]
  },
  {
   "cell_type": "code",
   "execution_count": 13,
   "id": "c5f60a03",
   "metadata": {},
   "outputs": [
    {
     "data": {
      "text/plain": [
       "0.79"
      ]
     },
     "execution_count": 13,
     "metadata": {},
     "output_type": "execute_result"
    }
   ],
   "source": [
    "sum(muestra)/100"
   ]
  },
  {
   "cell_type": "code",
   "execution_count": 14,
   "id": "5eaf1a26",
   "metadata": {},
   "outputs": [
    {
     "data": {
      "image/png": "[encoded data removed]",
      "text/plain": [
       "<Figure size 432x288 with 1 Axes>"
      ]
     },
     "metadata": {
      "needs_background": "light"
     },
     "output_type": "display_data"
    }
   ],
   "source": [
    "import seaborn as sns\n",
    "\n",
    "sns.countplot(x=muestra);"
   ]
  },
  {
   "cell_type": "markdown",
   "id": "6e25fb8f",
   "metadata": {},
   "source": [
    "### Distribución Binomial\n",
    "\n",
    "https://es.wikipedia.org/wiki/Distribuci%C3%B3n_binomial\n",
    "\n",
    "\n",
    "$$X \\sim Binomial(N, p)$$\n",
    "\n",
    "$$P(X=k)={N \\choose k} p^{k}(1-p)^{N-k}$$\n",
    "\n",
    "donde:\n",
    "${N \\choose k} \\equiv \\frac{N!}{k!(N-k)!}$\n",
    "\n",
    "\n",
    "La distribución binomial es una distribución de probabilidad discreta que cuenta el número de éxitos en una secuencia de $N$ ensayos de Bernoulli independientes entre sí con una probabilidad fija $p$ de ocurrencia de éxito entre los ensayos.\n",
    "\n",
    "\n",
    "**Ejemplo :** Lanzamiento de moneda y/o dado.\n",
    "\n",
    "$N$ es el número de lanzamientos.\n",
    "\n",
    "$p$ es la probabilidad de éxito, que salga cara por ejemplo.\n",
    "\n",
    "$\\Omega = \\{0, 1, 2, 3, ..., N-1, N\\}$"
   ]
  },
  {
   "cell_type": "code",
   "execution_count": 15,
   "id": "4a3db714",
   "metadata": {},
   "outputs": [],
   "source": [
    "from scipy.stats import binom\n",
    "import pylab as plt"
   ]
  },
  {
   "cell_type": "code",
   "execution_count": 16,
   "id": "ef83b8ed",
   "metadata": {},
   "outputs": [
    {
     "data": {
      "text/plain": [
       "0.11718750000000014"
      ]
     },
     "execution_count": 16,
     "metadata": {},
     "output_type": "execute_result"
    }
   ],
   "source": [
    "# binom.pmf(k, N, p)  k=nº de exitos, N=nº de repeticiones, p=probabilidad de exito\n",
    "# pmf probability mass function\n",
    "\n",
    "\n",
    "binom.pmf(3, 10, 0.5) # ¿Cual es la prob de que salgan tres caras si tiro 10 veces la moneda?"
   ]
  },
  {
   "cell_type": "code",
   "execution_count": 17,
   "id": "40bd738a",
   "metadata": {},
   "outputs": [
    {
     "data": {
      "text/plain": [
       "0.24609375000000025"
      ]
     },
     "execution_count": 17,
     "metadata": {},
     "output_type": "execute_result"
    }
   ],
   "source": [
    "binom.pmf(5, 10, 0.5)"
   ]
  },
  {
   "cell_type": "code",
   "execution_count": 18,
   "id": "2bedd85f",
   "metadata": {},
   "outputs": [
    {
     "data": {
      "text/plain": [
       "0.1294102919789899"
      ]
     },
     "execution_count": 18,
     "metadata": {},
     "output_type": "execute_result"
    }
   ],
   "source": [
    "binom.pmf(5, 20, 1/6)  # ¿Cual es la prob de que salgan 5 doses si tiro 20 veces un dado?"
   ]
  },
  {
   "cell_type": "code",
   "execution_count": 20,
   "id": "752a28d1",
   "metadata": {},
   "outputs": [
    {
     "data": {
      "text/plain": [
       "0.9999999999990845"
      ]
     },
     "execution_count": 20,
     "metadata": {},
     "output_type": "execute_result"
    },
    {
     "data": {
      "image/png": "[encoded data removed]",
      "text/plain": [
       "<Figure size 432x288 with 1 Axes>"
      ]
     },
     "metadata": {
      "needs_background": "light"
     },
     "output_type": "display_data"
    }
   ],
   "source": [
    "x=[i for i in range(40)]             # numero de exitos\n",
    "\n",
    "y=[binom.pmf(x, 40, 0.5) for x in x] # su probabilidad\n",
    "\n",
    "plt.plot(x, y);\n",
    "sum(y)"
   ]
  },
  {
   "cell_type": "code",
   "execution_count": 22,
   "id": "6dca2b6d",
   "metadata": {},
   "outputs": [
    {
     "data": {
      "image/png": "[encoded data removed]",
      "text/plain": [
       "<Figure size 432x288 with 1 Axes>"
      ]
     },
     "metadata": {
      "needs_background": "light"
     },
     "output_type": "display_data"
    }
   ],
   "source": [
    "x=[i for i in range(40)]             # numero de exitos\n",
    "\n",
    "y=[binom.cdf(x, 40, 0.5) for x in x] # su probabilidad\n",
    "\n",
    "plt.plot(x, y);\n",
    "\n",
    "# cdf=cumulative density function"
   ]
  },
  {
   "cell_type": "code",
   "execution_count": 25,
   "id": "a8c6e417",
   "metadata": {},
   "outputs": [
    {
     "data": {
      "text/plain": [
       "array([4])"
      ]
     },
     "execution_count": 25,
     "metadata": {},
     "output_type": "execute_result"
    }
   ],
   "source": [
    "binom(10, 0.5).rvs(size=1)"
   ]
  },
  {
   "cell_type": "code",
   "execution_count": 26,
   "id": "903eee86",
   "metadata": {},
   "outputs": [
    {
     "data": {
      "text/plain": [
       "array([4, 7, 3, 5, 6, 9, 7, 6, 3, 9])"
      ]
     },
     "execution_count": 26,
     "metadata": {},
     "output_type": "execute_result"
    }
   ],
   "source": [
    "muestra=binom(10, 0.5).rvs(size=500)\n",
    "\n",
    "muestra[:10]"
   ]
  },
  {
   "cell_type": "code",
   "execution_count": 27,
   "id": "a38e1ccf",
   "metadata": {},
   "outputs": [
    {
     "data": {
      "image/png": "[encoded data removed]",
      "text/plain": [
       "<Figure size 432x288 with 1 Axes>"
      ]
     },
     "metadata": {
      "needs_background": "light"
     },
     "output_type": "display_data"
    }
   ],
   "source": [
    "sns.countplot(x=muestra);"
   ]
  },
  {
   "cell_type": "markdown",
   "id": "f507e8da",
   "metadata": {},
   "source": [
    "**Momentos centrales**\n",
    "\n",
    "https://es.wikipedia.org/wiki/Momento_central"
   ]
  },
  {
   "cell_type": "code",
   "execution_count": 31,
   "id": "c134987e",
   "metadata": {},
   "outputs": [
    {
     "data": {
      "text/plain": [
       "(array(7.), array(2.1), array(-0.27602622), array(-0.12380952))"
      ]
     },
     "execution_count": 31,
     "metadata": {},
     "output_type": "execute_result"
    }
   ],
   "source": [
    "n=10\n",
    "p=0.7\n",
    "\n",
    "media, var, sime, kurt = binom.stats(n, p, moments='mvsk')\n",
    "\n",
    "media, var, sime, kurt"
   ]
  },
  {
   "cell_type": "code",
   "execution_count": 32,
   "id": "1573c19e",
   "metadata": {},
   "outputs": [
    {
     "data": {
      "image/png": "[encoded data removed]",
      "text/plain": [
       "<Figure size 432x288 with 1 Axes>"
      ]
     },
     "metadata": {
      "needs_background": "light"
     },
     "output_type": "display_data"
    }
   ],
   "source": [
    "muestra=binom(10, 0.7).rvs(size=500)\n",
    "sns.countplot(x=muestra);"
   ]
  },
  {
   "cell_type": "markdown",
   "id": "f941bc8c",
   "metadata": {},
   "source": [
    "**Aclaración:**\n",
    "\n",
    " * `.rvs`: Devuelve una muestra aleatoria simple\n",
    " * `.pmf`: (probability mass function) Funcion de masa de probabilidad, para distribuciones discretas\n",
    " * `.pdf`: (probability density function) Funcion de densidad de probabilidad, para distribuciones continuas\n",
    " * `.cdf`: (cumulative mass function) Funcion acumulada de probabilidad, para distribuciones discretas y continuas\n",
    " * `.ppf`: (percentile probability function) Inversa de la funcion acumulada, para distribuciones continuas\n"
   ]
  },
  {
   "cell_type": "markdown",
   "id": "25f2d891",
   "metadata": {},
   "source": [
    "### Distribución Binomial Negativa\n",
    "\n",
    "https://es.wikipedia.org/wiki/Distribuci%C3%B3n_binomial_negativa\n",
    "\n",
    "\n",
    "$$X \\sim BN(r, p)$$\n",
    "\n",
    "$$P(X=k)={r+k-1 \\choose k} p^{r}(1-p)^{k}$$\n"
   ]
  },
  {
   "cell_type": "code",
   "execution_count": 33,
   "id": "4062da7f",
   "metadata": {},
   "outputs": [],
   "source": [
    "from scipy.stats import nbinom"
   ]
  },
  {
   "cell_type": "code",
   "execution_count": 34,
   "id": "d7847e51",
   "metadata": {},
   "outputs": [
    {
     "data": {
      "text/plain": [
       "0.026855468749999993"
      ]
     },
     "execution_count": 34,
     "metadata": {},
     "output_type": "execute_result"
    }
   ],
   "source": [
    "# ¿Que prob hay de que la decima tirada corresponda con la tercera cara que sale?\n",
    "\n",
    "nbinom.pmf(3, 10, 0.5)"
   ]
  },
  {
   "cell_type": "code",
   "execution_count": 35,
   "id": "7866d20e",
   "metadata": {},
   "outputs": [
    {
     "data": {
      "text/plain": [
       "0.046142578125000014"
      ]
     },
     "execution_count": 35,
     "metadata": {},
     "output_type": "execute_result"
    }
   ],
   "source": [
    "nbinom.cdf(3, 10, 0.5) # la acumulada esta devolviendo la prob de que el n-esimo exito este en la ultima tirada"
   ]
  },
  {
   "cell_type": "code",
   "execution_count": 36,
   "id": "971d6749",
   "metadata": {},
   "outputs": [
    {
     "data": {
      "image/png": "[encoded data removed]",
      "text/plain": [
       "<Figure size 432x288 with 1 Axes>"
      ]
     },
     "metadata": {
      "needs_background": "light"
     },
     "output_type": "display_data"
    }
   ],
   "source": [
    "x=[i for i in range(50)]  \n",
    "y=[nbinom.pmf(x, 20, 0.5) for x in x] \n",
    "\n",
    "plt.plot(x, y);"
   ]
  },
  {
   "cell_type": "code",
   "execution_count": 37,
   "id": "cefefc96",
   "metadata": {},
   "outputs": [
    {
     "data": {
      "image/png": "[encoded data removed]",
      "text/plain": [
       "<Figure size 432x288 with 1 Axes>"
      ]
     },
     "metadata": {
      "needs_background": "light"
     },
     "output_type": "display_data"
    }
   ],
   "source": [
    "x=[i for i in range(20)]  \n",
    "y=[nbinom.cdf(x, 20, 0.8) for x in x] \n",
    "\n",
    "plt.plot(x, y);"
   ]
  },
  {
   "cell_type": "code",
   "execution_count": 38,
   "id": "7d252eaf",
   "metadata": {},
   "outputs": [
    {
     "data": {
      "text/plain": [
       "array([ 5,  7,  5,  3,  4, 10, 10,  8,  9,  2])"
      ]
     },
     "execution_count": 38,
     "metadata": {},
     "output_type": "execute_result"
    }
   ],
   "source": [
    "muestra=nbinom(10, 0.5).rvs(size=500)\n",
    "\n",
    "muestra[:10]"
   ]
  },
  {
   "cell_type": "code",
   "execution_count": 39,
   "id": "9f6bd99d",
   "metadata": {},
   "outputs": [
    {
     "data": {
      "image/png": "[encoded data removed]",
      "text/plain": [
       "<Figure size 432x288 with 1 Axes>"
      ]
     },
     "metadata": {
      "needs_background": "light"
     },
     "output_type": "display_data"
    }
   ],
   "source": [
    "sns.countplot(x=muestra);"
   ]
  },
  {
   "cell_type": "markdown",
   "id": "10fce477",
   "metadata": {},
   "source": [
    "### Distribución Geométrica\n",
    "\n",
    "https://es.wikipedia.org/wiki/Distribuci%C3%B3n_geom%C3%A9trica\n",
    "\n",
    "\n",
    "$$X \\sim Geom(p)$$\n",
    "\n",
    "$$P(X=k)= p · (1-p)^{k}$$\n",
    "\n",
    "para $k = 0, 1, 2, 3, 4...$\n",
    "\n",
    "\n",
    "La distribución geométrica es un modelo adecuado para aquellos procesos en los que se repiten pruebas hasta la consecución del éxito a resultado deseado y tiene interesantes aplicaciones en los muestreos realizados de esta manera. "
   ]
  },
  {
   "cell_type": "code",
   "execution_count": null,
   "id": "2e16b50f",
   "metadata": {},
   "outputs": [],
   "source": [
    "# ¿Cual es la prob de exito en el k-esimo intento?"
   ]
  },
  {
   "cell_type": "code",
   "execution_count": 40,
   "id": "dbdad20c",
   "metadata": {},
   "outputs": [],
   "source": [
    "from scipy.stats import geom"
   ]
  },
  {
   "cell_type": "code",
   "execution_count": 41,
   "id": "7f35aacc",
   "metadata": {},
   "outputs": [
    {
     "data": {
      "text/plain": [
       "0.03125"
      ]
     },
     "execution_count": 41,
     "metadata": {},
     "output_type": "execute_result"
    }
   ],
   "source": [
    "# geom.pmf(k, p)\n",
    "\n",
    "geom.pmf(5, 0.5)"
   ]
  },
  {
   "cell_type": "code",
   "execution_count": 42,
   "id": "9bf2152a",
   "metadata": {},
   "outputs": [
    {
     "data": {
      "image/png": "[encoded data removed]",
      "text/plain": [
       "<Figure size 432x288 with 1 Axes>"
      ]
     },
     "metadata": {
      "needs_background": "light"
     },
     "output_type": "display_data"
    }
   ],
   "source": [
    "x=[i for i in range(20)]  \n",
    "y=[geom.pmf(x, 0.5) for x in x] \n",
    "\n",
    "plt.plot(x, y);"
   ]
  },
  {
   "cell_type": "code",
   "execution_count": 43,
   "id": "64f6a552",
   "metadata": {},
   "outputs": [
    {
     "data": {
      "image/png": "[encoded data removed]",
      "text/plain": [
       "<Figure size 432x288 with 1 Axes>"
      ]
     },
     "metadata": {
      "needs_background": "light"
     },
     "output_type": "display_data"
    }
   ],
   "source": [
    "x=[i for i in range(20)]  \n",
    "y=[geom.cdf(x, 0.5) for x in x] \n",
    "\n",
    "plt.plot(x, y);"
   ]
  },
  {
   "cell_type": "markdown",
   "id": "af7cd1ab",
   "metadata": {},
   "source": [
    "### Distribución Uniforme Discreta\n",
    "\n",
    "https://es.wikipedia.org/wiki/Distribuci%C3%B3n_uniforme_discreta\n",
    "\n",
    "$$X \\sim Uniforme(x_{1}, x_{2},..., x_{n})$$\n",
    "\n",
    "$$P(X=k)= \\frac{1}{n}$$\n",
    "\n",
    "para $k = k_{1}, k_{2},..., k_{n}$\n",
    "\n",
    "La distribución uniforme discreta es una distribución de probabilidad discreta que surge en espacios de probabilidad equiprobables, es decir, en situaciones donde de $n$ resultados diferentes, todos tienen la misma probabilidad de ocurrir. "
   ]
  },
  {
   "cell_type": "code",
   "execution_count": 48,
   "id": "74da31b2",
   "metadata": {},
   "outputs": [
    {
     "data": {
      "text/plain": [
       "array([0.2, 0.2, 0. , 0. , 0. , 0. ])"
      ]
     },
     "execution_count": 48,
     "metadata": {},
     "output_type": "execute_result"
    }
   ],
   "source": [
    "from scipy.stats import randint\n",
    "\n",
    "randint.pmf([0, 3, 6, 7, 8, 12], 0, 5)  # randint.pmf([elementos], intervalo_a, intervalo_b)"
   ]
  },
  {
   "cell_type": "code",
   "execution_count": 49,
   "id": "cebf6613",
   "metadata": {},
   "outputs": [
    {
     "data": {
      "image/png": "[encoded data removed]",
      "text/plain": [
       "<Figure size 432x288 with 1 Axes>"
      ]
     },
     "metadata": {
      "needs_background": "light"
     },
     "output_type": "display_data"
    }
   ],
   "source": [
    "x=[i for i in range(-5, 20)]  \n",
    "y=[randint.pmf(x, 0, 8) for x in x] \n",
    "\n",
    "plt.scatter(x, y);"
   ]
  },
  {
   "cell_type": "code",
   "execution_count": 50,
   "id": "41baffd3",
   "metadata": {},
   "outputs": [
    {
     "data": {
      "image/png": "[encoded data removed]",
      "text/plain": [
       "<Figure size 432x288 with 1 Axes>"
      ]
     },
     "metadata": {
      "needs_background": "light"
     },
     "output_type": "display_data"
    }
   ],
   "source": [
    "x=[i for i in range(-5, 20)]  \n",
    "y=[randint.cdf(x, 0, 8) for x in x] \n",
    "\n",
    "plt.plot(x, y);"
   ]
  },
  {
   "cell_type": "markdown",
   "id": "c8bcc4c3",
   "metadata": {},
   "source": [
    "### Distribución de Poisson (ley de sucesos raros)\n",
    "\n",
    "https://es.wikipedia.org/wiki/Distribuci%C3%B3n_de_Poisson\n",
    "\n",
    "\n",
    "$$X \\sim Poisson(\\lambda)$$\n",
    "\n",
    "$$P(X=k)=\\frac{\\lambda ^{k}e^{-\\lambda }}{k!}$$\n",
    "\n",
    "para $k = 0, 1, 2,..$\n",
    "\n",
    "La distribución de Poisson es una distribución de probabilidad discreta que expresa, a partir de una frecuencia de ocurrencia media, la probabilidad de que ocurra un determinado número de eventos durante cierto período de tiempo. Concretamente, se especializa en la probabilidad de ocurrencia de sucesos con probabilidades muy pequeñas, o sucesos raros. "
   ]
  },
  {
   "cell_type": "code",
   "execution_count": 51,
   "id": "dc0f3060",
   "metadata": {},
   "outputs": [],
   "source": [
    "from scipy.stats import poisson"
   ]
  },
  {
   "cell_type": "code",
   "execution_count": 52,
   "id": "0e8f4156",
   "metadata": {},
   "outputs": [
    {
     "data": {
      "text/plain": [
       "0.24166502466277437"
      ]
     },
     "execution_count": 52,
     "metadata": {},
     "output_type": "execute_result"
    }
   ],
   "source": [
    "# poisson.pmf(x, lambda)\n",
    "\n",
    "poisson.pmf(2, 1.4)"
   ]
  },
  {
   "cell_type": "code",
   "execution_count": 53,
   "id": "e8d5ae1e",
   "metadata": {},
   "outputs": [
    {
     "data": {
      "image/png": "[encoded data removed]",
      "text/plain": [
       "<Figure size 432x288 with 1 Axes>"
      ]
     },
     "metadata": {
      "needs_background": "light"
     },
     "output_type": "display_data"
    }
   ],
   "source": [
    "x=[i for i in range(20)]  \n",
    "y=[poisson.pmf(x, 1.4) for x in x] \n",
    "\n",
    "plt.plot(x, y);"
   ]
  },
  {
   "cell_type": "code",
   "execution_count": 54,
   "id": "93b986df",
   "metadata": {},
   "outputs": [
    {
     "data": {
      "image/png": "[encoded data removed]",
      "text/plain": [
       "<Figure size 432x288 with 1 Axes>"
      ]
     },
     "metadata": {
      "needs_background": "light"
     },
     "output_type": "display_data"
    }
   ],
   "source": [
    "# comparacion con diferentes medias\n",
    "\n",
    "x=[i for i in range(20)]  \n",
    "y=[poisson.pmf(x, 1.4) for x in x] \n",
    "plt.plot(x, y)\n",
    "\n",
    "y=[poisson.pmf(x, 1) for x in x] \n",
    "plt.plot(x, y)\n",
    "\n",
    "y=[poisson.pmf(x, 2.4) for x in x] \n",
    "plt.plot(x, y)\n",
    "\n",
    "y=[poisson.pmf(x, 5) for x in x] \n",
    "plt.plot(x, y)\n",
    "\n",
    "y=[poisson.pmf(x, 10) for x in x] \n",
    "plt.plot(x, y)\n",
    "plt.show();"
   ]
  },
  {
   "cell_type": "code",
   "execution_count": 58,
   "id": "2c179f80",
   "metadata": {},
   "outputs": [
    {
     "data": {
      "image/png": "[encoded data removed]",
      "text/plain": [
       "<Figure size 432x288 with 1 Axes>"
      ]
     },
     "metadata": {
      "needs_background": "light"
     },
     "output_type": "display_data"
    }
   ],
   "source": [
    "x=[i for i in range(20)]  \n",
    "y=[poisson.cdf(x, 1.4) for x in x] \n",
    "\n",
    "plt.plot(x, y);"
   ]
  },
  {
   "cell_type": "markdown",
   "id": "ce3b00f8",
   "metadata": {},
   "source": [
    "**ejemplo futbol**\n",
    "\n",
    "Supongamos que los goles de futbol son eventos raros dentro del partido y que siguen una distribución de Poisson. Partiendo de eso, ¿podríamos predecir el resultado de un partido?. Veamoslo."
   ]
  },
  {
   "cell_type": "code",
   "execution_count": 59,
   "id": "837b35b7",
   "metadata": {},
   "outputs": [],
   "source": [
    "import numpy as np"
   ]
  },
  {
   "cell_type": "code",
   "execution_count": 60,
   "id": "9b169c59",
   "metadata": {},
   "outputs": [],
   "source": [
    "equipo_A=2.3  # medias de goles por partido\n",
    "equipo_B=1.45"
   ]
  },
  {
   "cell_type": "code",
   "execution_count": 61,
   "id": "7b95aabc",
   "metadata": {},
   "outputs": [],
   "source": [
    "A=[poisson.pmf(i, equipo_A) for i in range(10)]\n",
    "B=[poisson.pmf(i, equipo_B) for i in range(10)]"
   ]
  },
  {
   "cell_type": "code",
   "execution_count": 63,
   "id": "c972958c",
   "metadata": {},
   "outputs": [
    {
     "data": {
      "image/png": "[encoded data removed]",
      "text/plain": [
       "<Figure size 432x288 with 1 Axes>"
      ]
     },
     "metadata": {
      "needs_background": "light"
     },
     "output_type": "display_data"
    }
   ],
   "source": [
    "plt.scatter([i for i in range(10)], A);  # distribucion de probabilidad de goles para el equipo A"
   ]
  },
  {
   "cell_type": "code",
   "execution_count": 69,
   "id": "ba5291f3",
   "metadata": {},
   "outputs": [
    {
     "data": {
      "text/plain": [
       "1.8315635350025165e-05"
      ]
     },
     "execution_count": 69,
     "metadata": {},
     "output_type": "execute_result"
    },
    {
     "data": {
      "image/png": "[encoded data removed]",
      "text/plain": [
       "<Figure size 432x288 with 1 Axes>"
      ]
     },
     "metadata": {
      "needs_background": "light"
     },
     "output_type": "display_data"
    }
   ],
   "source": [
    "B_=[poisson.pmf(i, equipo_B) for i in range(10)]\n",
    "\n",
    "plt.scatter([i for i in range(10)], B_);  # distribucion de probabilidad de goles para el equipo A\n",
    "\n",
    "B_[-1]"
   ]
  },
  {
   "cell_type": "markdown",
   "id": "9584ca96",
   "metadata": {},
   "source": [
    "para ver la distribucion del partido se necesita realizar el producto externo de los dos vectores para crear una matriz"
   ]
  },
  {
   "cell_type": "code",
   "execution_count": 70,
   "id": "a60c9c0f",
   "metadata": {},
   "outputs": [],
   "source": [
    "partido=np.outer(A, B)"
   ]
  },
  {
   "cell_type": "code",
   "execution_count": 71,
   "id": "e8c19cb5",
   "metadata": {},
   "outputs": [
    {
     "data": {
      "text/html": [
       "<div>\n",
       "<style scoped>\n",
       "    .dataframe tbody tr th:only-of-type {\n",
       "        vertical-align: middle;\n",
       "    }\n",
       "\n",
       "    .dataframe tbody tr th {\n",
       "        vertical-align: top;\n",
       "    }\n",
       "\n",
       "    .dataframe thead th {\n",
       "        text-align: right;\n",
       "    }\n",
       "</style>\n",
       "<table border=\"1\" class=\"dataframe\">\n",
       "  <thead>\n",
       "    <tr style=\"text-align: right;\">\n",
       "      <th></th>\n",
       "      <th>0</th>\n",
       "      <th>1</th>\n",
       "      <th>2</th>\n",
       "      <th>3</th>\n",
       "      <th>4</th>\n",
       "      <th>5</th>\n",
       "      <th>6</th>\n",
       "      <th>7</th>\n",
       "      <th>8</th>\n",
       "      <th>9</th>\n",
       "    </tr>\n",
       "  </thead>\n",
       "  <tbody>\n",
       "    <tr>\n",
       "      <th>0</th>\n",
       "      <td>0.023518</td>\n",
       "      <td>0.034101</td>\n",
       "      <td>0.024723</td>\n",
       "      <td>0.011949</td>\n",
       "      <td>0.004332</td>\n",
       "      <td>0.001256</td>\n",
       "      <td>0.000304</td>\n",
       "      <td>6.288415e-05</td>\n",
       "      <td>1.139775e-05</td>\n",
       "      <td>1.836304e-06</td>\n",
       "    </tr>\n",
       "    <tr>\n",
       "      <th>1</th>\n",
       "      <td>0.054091</td>\n",
       "      <td>0.078432</td>\n",
       "      <td>0.056863</td>\n",
       "      <td>0.027484</td>\n",
       "      <td>0.009963</td>\n",
       "      <td>0.002889</td>\n",
       "      <td>0.000698</td>\n",
       "      <td>1.446335e-04</td>\n",
       "      <td>2.621483e-05</td>\n",
       "      <td>4.223500e-06</td>\n",
       "    </tr>\n",
       "    <tr>\n",
       "      <th>2</th>\n",
       "      <td>0.062204</td>\n",
       "      <td>0.090196</td>\n",
       "      <td>0.065392</td>\n",
       "      <td>0.031606</td>\n",
       "      <td>0.011457</td>\n",
       "      <td>0.003323</td>\n",
       "      <td>0.000803</td>\n",
       "      <td>1.663286e-04</td>\n",
       "      <td>3.014705e-05</td>\n",
       "      <td>4.857025e-06</td>\n",
       "    </tr>\n",
       "    <tr>\n",
       "      <th>3</th>\n",
       "      <td>0.047690</td>\n",
       "      <td>0.069151</td>\n",
       "      <td>0.050134</td>\n",
       "      <td>0.024232</td>\n",
       "      <td>0.008784</td>\n",
       "      <td>0.002547</td>\n",
       "      <td>0.000616</td>\n",
       "      <td>1.275186e-04</td>\n",
       "      <td>2.311274e-05</td>\n",
       "      <td>3.723719e-06</td>\n",
       "    </tr>\n",
       "    <tr>\n",
       "      <th>4</th>\n",
       "      <td>0.027422</td>\n",
       "      <td>0.039762</td>\n",
       "      <td>0.028827</td>\n",
       "      <td>0.013933</td>\n",
       "      <td>0.005051</td>\n",
       "      <td>0.001465</td>\n",
       "      <td>0.000354</td>\n",
       "      <td>7.332318e-05</td>\n",
       "      <td>1.328983e-05</td>\n",
       "      <td>2.141139e-06</td>\n",
       "    </tr>\n",
       "    <tr>\n",
       "      <th>5</th>\n",
       "      <td>0.012614</td>\n",
       "      <td>0.018290</td>\n",
       "      <td>0.013260</td>\n",
       "      <td>0.006409</td>\n",
       "      <td>0.002323</td>\n",
       "      <td>0.000674</td>\n",
       "      <td>0.000163</td>\n",
       "      <td>3.372866e-05</td>\n",
       "      <td>6.113320e-06</td>\n",
       "      <td>9.849238e-07</td>\n",
       "    </tr>\n",
       "    <tr>\n",
       "      <th>6</th>\n",
       "      <td>0.004835</td>\n",
       "      <td>0.007011</td>\n",
       "      <td>0.005083</td>\n",
       "      <td>0.002457</td>\n",
       "      <td>0.000891</td>\n",
       "      <td>0.000258</td>\n",
       "      <td>0.000062</td>\n",
       "      <td>1.292932e-05</td>\n",
       "      <td>2.343439e-06</td>\n",
       "      <td>3.775541e-07</td>\n",
       "    </tr>\n",
       "    <tr>\n",
       "      <th>7</th>\n",
       "      <td>0.001589</td>\n",
       "      <td>0.002304</td>\n",
       "      <td>0.001670</td>\n",
       "      <td>0.000807</td>\n",
       "      <td>0.000293</td>\n",
       "      <td>0.000085</td>\n",
       "      <td>0.000021</td>\n",
       "      <td>4.248205e-06</td>\n",
       "      <td>7.699872e-07</td>\n",
       "      <td>1.240535e-07</td>\n",
       "    </tr>\n",
       "    <tr>\n",
       "      <th>8</th>\n",
       "      <td>0.000457</td>\n",
       "      <td>0.000662</td>\n",
       "      <td>0.000480</td>\n",
       "      <td>0.000232</td>\n",
       "      <td>0.000084</td>\n",
       "      <td>0.000024</td>\n",
       "      <td>0.000006</td>\n",
       "      <td>1.221359e-06</td>\n",
       "      <td>2.213713e-07</td>\n",
       "      <td>3.566538e-08</td>\n",
       "    </tr>\n",
       "    <tr>\n",
       "      <th>9</th>\n",
       "      <td>0.000117</td>\n",
       "      <td>0.000169</td>\n",
       "      <td>0.000123</td>\n",
       "      <td>0.000059</td>\n",
       "      <td>0.000022</td>\n",
       "      <td>0.000006</td>\n",
       "      <td>0.000002</td>\n",
       "      <td>3.121251e-07</td>\n",
       "      <td>5.657267e-08</td>\n",
       "      <td>9.114486e-09</td>\n",
       "    </tr>\n",
       "  </tbody>\n",
       "</table>\n",
       "</div>"
      ],
      "text/plain": [
       "          0         1         2         3         4         5         6  \\\n",
       "0  0.023518  0.034101  0.024723  0.011949  0.004332  0.001256  0.000304   \n",
       "1  0.054091  0.078432  0.056863  0.027484  0.009963  0.002889  0.000698   \n",
       "2  0.062204  0.090196  0.065392  0.031606  0.011457  0.003323  0.000803   \n",
       "3  0.047690  0.069151  0.050134  0.024232  0.008784  0.002547  0.000616   \n",
       "4  0.027422  0.039762  0.028827  0.013933  0.005051  0.001465  0.000354   \n",
       "5  0.012614  0.018290  0.013260  0.006409  0.002323  0.000674  0.000163   \n",
       "6  0.004835  0.007011  0.005083  0.002457  0.000891  0.000258  0.000062   \n",
       "7  0.001589  0.002304  0.001670  0.000807  0.000293  0.000085  0.000021   \n",
       "8  0.000457  0.000662  0.000480  0.000232  0.000084  0.000024  0.000006   \n",
       "9  0.000117  0.000169  0.000123  0.000059  0.000022  0.000006  0.000002   \n",
       "\n",
       "              7             8             9  \n",
       "0  6.288415e-05  1.139775e-05  1.836304e-06  \n",
       "1  1.446335e-04  2.621483e-05  4.223500e-06  \n",
       "2  1.663286e-04  3.014705e-05  4.857025e-06  \n",
       "3  1.275186e-04  2.311274e-05  3.723719e-06  \n",
       "4  7.332318e-05  1.328983e-05  2.141139e-06  \n",
       "5  3.372866e-05  6.113320e-06  9.849238e-07  \n",
       "6  1.292932e-05  2.343439e-06  3.775541e-07  \n",
       "7  4.248205e-06  7.699872e-07  1.240535e-07  \n",
       "8  1.221359e-06  2.213713e-07  3.566538e-08  \n",
       "9  3.121251e-07  5.657267e-08  9.114486e-09  "
      ]
     },
     "execution_count": 71,
     "metadata": {},
     "output_type": "execute_result"
    }
   ],
   "source": [
    "import pandas as pd\n",
    "\n",
    "pd.DataFrame(partido)"
   ]
  },
  {
   "cell_type": "code",
   "execution_count": 72,
   "id": "dab1551f",
   "metadata": {},
   "outputs": [
    {
     "data": {
      "image/png": "[encoded data removed]",
      "text/plain": [
       "<Figure size 432x288 with 2 Axes>"
      ]
     },
     "metadata": {
      "needs_background": "light"
     },
     "output_type": "display_data"
    }
   ],
   "source": [
    "sns.heatmap(partido);"
   ]
  },
  {
   "cell_type": "code",
   "execution_count": 73,
   "id": "0772fcc4",
   "metadata": {},
   "outputs": [],
   "source": [
    "uno=np.sum(np.tril(partido, -1))\n",
    "\n",
    "empate=np.sum(np.diag(partido))\n",
    "\n",
    "dos=np.sum(np.triu(partido, 1))"
   ]
  },
  {
   "cell_type": "code",
   "execution_count": 74,
   "id": "0304b8f2",
   "metadata": {},
   "outputs": [
    {
     "data": {
      "text/plain": [
       "(0.5660558273647002, 0.19736479150798203, 0.2364323850320289)"
      ]
     },
     "execution_count": 74,
     "metadata": {},
     "output_type": "execute_result"
    }
   ],
   "source": [
    "uno, empate, dos"
   ]
  },
  {
   "cell_type": "code",
   "execution_count": 75,
   "id": "9c499fca",
   "metadata": {},
   "outputs": [
    {
     "data": {
      "text/plain": [
       "0.9998530039047111"
      ]
     },
     "execution_count": 75,
     "metadata": {},
     "output_type": "execute_result"
    }
   ],
   "source": [
    "uno+empate+dos"
   ]
  },
  {
   "cell_type": "markdown",
   "id": "309c708c",
   "metadata": {},
   "source": [
    "![discretas](images/discretas.jpg)"
   ]
  }
 ],
 "metadata": {
  "finalized": {
   "timestamp": 1624202568327,
   "trusted": false
  },
  "kernelspec": {
   "display_name": "clase",
   "language": "python",
   "name": "clase"
  },
  "language_info": {
   "codemirror_mode": {
    "name": "ipython",
    "version": 3
   },
   "file_extension": ".py",
   "mimetype": "text/x-python",
   "name": "python",
   "nbconvert_exporter": "python",
   "pygments_lexer": "ipython3",
   "version": "3.8.8"
  },
  "varInspector": {
   "cols": {
    "lenName": 16,
    "lenType": 16,
    "lenVar": 40
   },
   "kernels_config": {
    "python": {
     "delete_cmd_postfix": "",
     "delete_cmd_prefix": "del ",
     "library": "var_list.py",
     "varRefreshCmd": "print(var_dic_list())"
    },
    "r": {
     "delete_cmd_postfix": ") ",
     "delete_cmd_prefix": "rm(",
     "library": "var_list.r",
     "varRefreshCmd": "cat(var_dic_list()) "
    }
   },
   "types_to_exclude": [
    "module",
    "function",
    "builtin_function_or_method",
    "instance",
    "_Feature"
   ],
   "window_display": false
  }
 },
 "nbformat": 4,
 "nbformat_minor": 5
}
